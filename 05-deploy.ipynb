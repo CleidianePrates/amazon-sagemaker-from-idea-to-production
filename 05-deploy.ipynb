{
 "cells": [
  {
   "cell_type": "markdown",
   "id": "d5845c0a-25c6-40e6-a3ba-2b3316bd38c2",
   "metadata": {
    "tags": []
   },
   "source": [
    "# Etapa 5: Adicionar um pipeline de implantação\n",
    "\n",
    "Nas quatro etapas anteriores, você implementou um pipeline automatizado de processamento de dados e construção de modelos. Cada execução do pipeline produz uma nova versão do modelo. Este notebook implementa a etapa de implantação automatizada do modelo em nosso fluxo de trabalho de ML.\n",
    "\n",
    "Você pode usar um [modelo de projeto SageMaker MLOps](https://docs.aws.amazon.com/sagemaker/latest/dg/sagemaker-projects-templates.html) para provisionar um pipeline de CI/CD de implantação de modelos pronto para uso.\n",
    "\n",
    "Este modelo automatiza a implantação de modelos no registro de modelos SageMaker em endpoints SageMaker para inferência em tempo real. Este modelo reconhece mudanças no registro de modelos. Quando uma nova versão do modelo é registrada e aprovada, ele inicia automaticamente uma implantação.\n",
    "\n",
    "\n",
    "![](img/seis-etapas-5.png)"
   ]
  },
  {
   "cell_type": "markdown",
   "id": "d46ca98f-099f-4f24-8e24-67bdc86d8fc4",
   "metadata": {
    "tags": []
   },
   "source": [
    "<div class=\"alert alert-info\"> Certifique-se de que você está usando o kernel <code>Python 3</code> no JupyterLab para este notebook.</div>\n"
   ]
  },
  {
   "cell_type": "code",
   "execution_count": 1,
   "id": "6cd36377-d862-4d18-a575-860bf0c15b31",
   "metadata": {
    "tags": []
   },
   "outputs": [
    {
     "name": "stdout",
     "output_type": "stream",
     "text": [
      "sagemaker.config INFO - Not applying SDK defaults from location: /etc/xdg/sagemaker/config.yaml\n",
      "sagemaker.config INFO - Fetched defaults config from location: /home/sagemaker-user/.config/sagemaker/config.yaml\n"
     ]
    },
    {
     "data": {
      "text/plain": [
       "'2.226.1'"
      ]
     },
     "execution_count": 1,
     "metadata": {},
     "output_type": "execute_result"
    }
   ],
   "source": [
    "import boto3\n",
    "import sagemaker \n",
    "from time import gmtime, strftime, sleep\n",
    "\n",
    "sagemaker.__version__"
   ]
  },
  {
   "cell_type": "code",
   "execution_count": 2,
   "id": "aa13831e-7aad-49ac-9ea9-10ebb9fb16c9",
   "metadata": {
    "tags": []
   },
   "outputs": [
    {
     "name": "stdout",
     "output_type": "stream",
     "text": [
      "Stored variables and their in-db values:\n",
      "baseline_s3_url                         -> 's3://sagemaker-us-east-1-398333718380/from-idea-t\n",
      "bucket_name                             -> 'sagemaker-us-east-1-398333718380'\n",
      "bucket_prefix                           -> 'from-idea-to-prod/xgboost'\n",
      "dataset_feature_group_name              -> 'from-idea-to-prod-23-08-19-42'\n",
      "dataset_file_local_path                 -> 'data/bank-additional/bank-additional-full.csv'\n",
      "domain_id                               -> 'd-wxmppmljqkj5'\n",
      "evaluation_s3_url                       -> 's3://sagemaker-us-east-1-398333718380/from-idea-t\n",
      "feature_store_bucket_prefix             -> 'from-idea-to-prod/feature-store'\n",
      "initialized                             -> True\n",
      "input_s3_url                            -> 's3://sagemaker-us-east-1-398333718380/from-idea-t\n",
      "mlflow_arn                              -> 'arn:aws:sagemaker:us-east-1:398333718380:mlflow-t\n",
      "mlflow_name                             -> 'mlflow-d-wxmppmljqkj5'\n",
      "model_package_group_name                -> 'from-idea-to-prod-pipeline-model-23-07-51-02'\n",
      "output_s3_url                           -> 's3://sagemaker-us-east-1-398333718380/from-idea-t\n",
      "pipeline_name                           -> 'from-idea-to-prod-pipeline-23-07-51-02'\n",
      "prediction_baseline_s3_url              -> 's3://sagemaker-us-east-1-398333718380/from-idea-t\n",
      "region                                  -> 'us-east-1'\n",
      "sm_role                                 -> 'arn:aws:iam::398333718380:role/cfnstudiodomain-Sa\n",
      "space_name                              -> 'sagemaker-space'\n",
      "test_s3_url                             -> 's3://sagemaker-us-east-1-398333718380/from-idea-t\n",
      "train_s3_url                            -> 's3://sagemaker-us-east-1-398333718380/from-idea-t\n",
      "user_profile_name                       -> 'studio-user-e44b6ca0'\n",
      "validation_s3_url                       -> 's3://sagemaker-us-east-1-398333718380/from-idea-t\n"
     ]
    }
   ],
   "source": [
    "%store -r \n",
    "\n",
    "%store\n",
    "\n",
    "try:\n",
    "    initialized\n",
    "except NameError:\n",
    "    print(\"+++++++++++++++++++++++++++++++++++++++++++++++++\")\n",
    "    print(\"[ERRO] VOCÊ DEVE EXECUTAR O NOTEBOOK 00-start-here\")\n",
    "    print(\"+++++++++++++++++++++++++++++++++++++++++++++++++\")"
   ]
  },
  {
   "cell_type": "code",
   "execution_count": 3,
   "id": "d0bb83a8-521f-4405-bb4f-eee77ab56094",
   "metadata": {
    "tags": []
   },
   "outputs": [],
   "source": [
    "sm = boto3.client(\"sagemaker\")"
   ]
  },
  {
   "cell_type": "markdown",
   "id": "f9e91bef-93a8-4265-ad0c-d6f72fde9099",
   "metadata": {},
   "source": [
    "## Criar um projeto MLOps\n",
    "\n",
    "Siga o mesmo procedimento do notebook da etapa 4 para criar um projeto MLOps de implantação de modelo.\n",
    "\n",
    "A Opção 1 é recomendada, pois não requer entrada manual e não tem dependência da IU.</br>\n",
    "A Opção 2 é fornecida para demonstrar o fluxo da IU [**Criar Projeto**](https://docs.aws.amazon.com/sagemaker/latest/dg/sagemaker-projects-create.html).\n",
    "\n",
    "\n"
   ]
  },
  {
   "cell_type": "markdown",
   "id": "7c8f3124-56f3-4d5a-b354-9e7930ba1c4d",
   "metadata": {},
   "source": [
    "### Opção 1: Criar projeto programaticamente\n",
    "\n",
    "Use `boto3` para criar um projeto MLOps por meio de uma API SageMaker.\n"
   ]
  },
  {
   "cell_type": "code",
   "execution_count": 4,
   "id": "e23f268b-1dbe-40f9-884a-7ce63f7d1352",
   "metadata": {
    "tags": []
   },
   "outputs": [],
   "source": [
    "sc = boto3.client(\"servicecatalog\")\n",
    "\n",
    "sc_provider_name = \"Amazon SageMaker\"\n",
    "sc_product_name = \"MLOps template for model deployment\""
   ]
  },
  {
   "cell_type": "code",
   "execution_count": 5,
   "id": "b0eb4137-e7c7-447e-9f87-2012963ea2d6",
   "metadata": {
    "tags": []
   },
   "outputs": [],
   "source": [
    "p_ids = [p['ProductId'] for p in sc.search_products(\n",
    "    Filters={\n",
    "        'FullTextSearch': [sc_product_name]\n",
    "    },\n",
    ")['ProductViewSummaries'] if p[\"Name\"]==sc_product_name]"
   ]
  },
  {
   "cell_type": "code",
   "execution_count": 6,
   "id": "9b8ca253-eca3-4de2-9d8a-7dcfd8dc1c0f",
   "metadata": {
    "tags": []
   },
   "outputs": [
    {
     "data": {
      "text/plain": [
       "['prod-5vmc7unyqksbs']"
      ]
     },
     "execution_count": 6,
     "metadata": {},
     "output_type": "execute_result"
    }
   ],
   "source": [
    "p_ids"
   ]
  },
  {
   "cell_type": "code",
   "execution_count": 7,
   "id": "3b3c3f09-ca7d-43de-9432-c106f32d0c21",
   "metadata": {
    "tags": []
   },
   "outputs": [
    {
     "name": "stdout",
     "output_type": "stream",
     "text": [
      "ML Ops product id: prod-5vmc7unyqksbs\n"
     ]
    }
   ],
   "source": [
    "# Se você receber alguma exceção deste código, vá para a Opção 2 e crie um projeto na IU do Studio\n",
    "if not len(p_ids):\n",
    "    raise Exception(\"Nenhum produto Amazon SageMaker ML Ops encontrado!\")\n",
    "elif len(p_ids) > 1:\n",
    "    raise Exception(\"Muitos produtos Amazon SageMaker ML Ops correspondentes encontrados!\")\n",
    "else:\n",
    "    product_id = p_ids[0]\n",
    "    print(f\"ID do produto ML Ops: {product_id}\")\n"
   ]
  },
  {
   "cell_type": "code",
   "execution_count": 8,
   "id": "38294903-3f86-4a3a-9849-40af57753c34",
   "metadata": {
    "tags": []
   },
   "outputs": [],
   "source": [
    "provisioning_artifact_id = sorted(\n",
    "    [i for i in sc.list_provisioning_artifacts(\n",
    "        ProductId=product_id\n",
    "    )['ProvisioningArtifactDetails'] if i['Guidance']=='DEFAULT'],\n",
    "    key=lambda d: d['Name'], reverse=True)[0]['Id']"
   ]
  },
  {
   "cell_type": "code",
   "execution_count": 9,
   "id": "70b48d04-b558-4727-8e1f-1ac6b38dc7a4",
   "metadata": {
    "tags": []
   },
   "outputs": [
    {
     "data": {
      "text/plain": [
       "'pa-q4qe35zerlzhq'"
      ]
     },
     "execution_count": 9,
     "metadata": {},
     "output_type": "execute_result"
    }
   ],
   "source": [
    "provisioning_artifact_id"
   ]
  },
  {
   "cell_type": "code",
   "execution_count": 10,
   "id": "8ae543a2-a20e-40e2-b251-c87462be9507",
   "metadata": {
    "tags": []
   },
   "outputs": [],
   "source": [
    "project_name = f\"model-deploy-{strftime('%-m-%d-%H-%M-%S', gmtime())}\""
   ]
  },
  {
   "cell_type": "code",
   "execution_count": 11,
   "id": "7ee8a72b-53d3-461a-95d4-6af781d7ce44",
   "metadata": {
    "tags": []
   },
   "outputs": [],
   "source": [
    "project_parameters = [\n",
    "    {\n",
    "        'Key': 'SourceModelPackageGroupName',\n",
    "        'Value': model_package_group_name\n",
    "    },\n",
    "]"
   ]
  },
  {
   "cell_type": "markdown",
   "id": "d1fef1a7-0396-4501-85c6-18ad874cabb9",
   "metadata": {},
   "source": [
    "Finally, create a SageMaker project from the service catalog product template:"
   ]
  },
  {
   "cell_type": "code",
   "execution_count": 12,
   "id": "acf05f97-ad6a-4503-9e47-b220f257cb58",
   "metadata": {
    "tags": []
   },
   "outputs": [
    {
     "name": "stdout",
     "output_type": "stream",
     "text": [
      "{'ProjectArn': 'arn:aws:sagemaker:us-east-1:398333718380:project/model-deploy-7-23-11-46-25', 'ProjectId': 'p-ilq3pvs0je1i', 'ResponseMetadata': {'RequestId': '82b38ed5-69c7-4272-a606-729a794d4279', 'HTTPStatusCode': 200, 'HTTPHeaders': {'x-amzn-requestid': '82b38ed5-69c7-4272-a606-729a794d4279', 'content-type': 'application/x-amz-json-1.1', 'content-length': '121', 'date': 'Tue, 23 Jul 2024 11:46:25 GMT'}, 'RetryAttempts': 0}}\n"
     ]
    }
   ],
   "source": [
    "# Cria um projeto no SageMaker\n",
    "r = sm.create_project(\n",
    "    ProjectName=project_name,\n",
    "    ProjectDescription=\"Model build project\",\n",
    "    ServiceCatalogProvisioningDetails={\n",
    "        'ProductId': product_id,\n",
    "        'ProvisioningArtifactId': provisioning_artifact_id,\n",
    "        'ProvisioningParameters': project_parameters\n",
    "    },\n",
    ")\n",
    "\n",
    "print(r)\n",
    "project_id = r[\"ProjectId\"]"
   ]
  },
  {
   "cell_type": "markdown",
   "id": "1f2e65a3-0185-4b33-b8b4-f3db9689dab8",
   "metadata": {},
   "source": [
    "<div class=\"alert alert-info\"> 💡 <strong> Wait until project creation is completed by running the next cell</strong>\n",
    "</div>"
   ]
  },
  {
   "cell_type": "markdown",
   "id": "e9058fa5",
   "metadata": {},
   "source": [
    "<svg width=\"800\" height=\"125\" viewBox=\"0 0 800 125\" xmlns=\"http://www.w3.org/2000/svg\">\n",
    "    <defs>\n",
    "        <linearGradient id=\"fadeGradient\" x1=\"0\" x2=\"1\">\n",
    "            <stop offset=\"0%\" stop-color=\"#F0F0F0\"/>\n",
    "            <stop offset=\"100%\" stop-color=\"#F0F0F0\" stop-opacity=\"0\"/>\n",
    "        </linearGradient>\n",
    "        <mask id=\"fadeMask\">\n",
    "            <rect x=\"0\" y=\"0\" width=\"750\" height=\"125\" fill=\"white\"/>\n",
    "            <rect x=\"750\" y=\"0\" width=\"50\" height=\"125\" fill=\"url(#fadeGradient)\"/>\n",
    "        </mask>\n",
    "    </defs>\n",
    "    <path d=\"M3,50 A50,50 0 0 1 53,3 L797,3 L797,97 L97,97 L50,115 L3,97 Z\" fill=\"#F0F0F0\" stroke=\"#E0E0E0\" stroke-width=\"1\" mask=\"url(#fadeMask)\"/>\n",
    "    <circle cx=\"50\" cy=\"50\" r=\"30\" fill=\"#57c4f8\" stroke=\"#57c4f8\" stroke-width=\"1\"/>\n",
    "    <circle cx=\"50\" cy=\"50\" r=\"25\" fill=\"#F0F0F0\"/>\n",
    "    <line x1=\"50\" y1=\"50\" x2=\"50\" y2=\"30\" stroke=\"#57c4f8\" stroke-width=\"3\" stroke-linecap=\"round\"/>\n",
    "    <line x1=\"50\" y1=\"50\" x2=\"65\" y2=\"50\" stroke=\"#57c4f8\" stroke-width=\"3\" stroke-linecap=\"round\"/>\n",
    "    <text x=\"100\" y=\"34\" font-family=\"Arial, sans-serif\" font-size=\"14\" fill=\"#333333\">A próxima célula pode levar alguns minutos para ser executada. Por favor, seja paciente.</text>\n",
    "</svg>"
   ]
  },
  {
   "cell_type": "code",
   "execution_count": 13,
   "id": "1a7537e2-e377-48d1-a246-0c5f1083d519",
   "metadata": {
    "tags": []
   },
   "outputs": [
    {
     "name": "stdout",
     "output_type": "stream",
     "text": [
      "Waiting for project creation completion\n",
      "Waiting for project creation completion\n",
      "Waiting for project creation completion\n",
      "Waiting for project creation completion\n",
      "Waiting for project creation completion\n",
      "Waiting for project creation completion\n",
      "Waiting for project creation completion\n",
      "Waiting for project creation completion\n",
      "Waiting for project creation completion\n",
      "Waiting for project creation completion\n",
      "MLOps project model-deploy-7-23-11-46-25 creation completed\n"
     ]
    }
   ],
   "source": [
    "# A criação do projeto leva cerca de 3 a 5 minutos\n",
    "while sm.describe_project(ProjectName=project_name)['ProjectStatus'] != 'CreateCompleted':\n",
    "    sleep(10)\n",
    "    print(\"Aguardando a conclusão da criação do projeto\")\n",
    "\n",
    "print(f\"Criação do projeto MLOps {project_name} concluída\")\n"
   ]
  },
  {
   "cell_type": "markdown",
   "id": "f9981b62",
   "metadata": {},
   "source": [
    "<img src=\"data:image/svg+xml;base64,Cjxzdmcgd2lkdGg9IjgwMCIgaGVpZ2h0PSI1MCIgdmlld0JveD0iMCAwIDgwMCA1MCIgeG1sbnM9Imh0dHA6Ly93d3cudzMub3JnLzIwMDAvc3ZnIj4KICAgIDxkZWZzPgogICAgICAgIDxsaW5lYXJHcmFkaWVudCBpZD0iZmFkZUdyYWRpZW50IiB4MT0iMCIgeDI9IjEiPgogICAgICAgICAgICA8c3RvcCBvZmZzZXQ9IjAlIiBzdG9wLWNvbG9yPSIjRjBGMEYwIi8+CiAgICAgICAgICAgIDxzdG9wIG9mZnNldD0iMTAwJSIgc3RvcC1jb2xvcj0iI0YwRjBGMCIgc3RvcC1vcGFjaXR5PSIwIi8+CiAgICAgICAgPC9saW5lYXJHcmFkaWVudD4KICAgICAgICA8bWFzayBpZD0iZmFkZU1hc2siPgogICAgICAgICAgICA8cmVjdCB4PSIwIiB5PSIwIiB3aWR0aD0iNzUwIiBoZWlnaHQ9IjUwIiBmaWxsPSJ3aGl0ZSIvPgogICAgICAgICAgICA8cmVjdCB4PSI3NTAiIHk9IjAiIHdpZHRoPSI1MCIgaGVpZ2h0PSI1MCIgZmlsbD0idXJsKCNmYWRlR3JhZGllbnQpIi8+CiAgICAgICAgPC9tYXNrPgogICAgPC9kZWZzPgogICAgPHBhdGggZD0iTTI1LDUwIFEwLDUwIDAsMjUgTDUwLDMgTDk3LDI1IEw3OTcsMjUgTDc5Nyw1MCBMMjUsNTAgWiIgZmlsbD0iI0YwRjBGMCIgc3Ryb2tlPSIjRTBFMEUwIiBzdHJva2Utd2lkdGg9IjEiIG1hc2s9InVybCgjZmFkZU1hc2spIi8+Cjwvc3ZnPgo=\" alt=\"Time alert close\"/>"
   ]
  },
  {
   "cell_type": "markdown",
   "id": "5a65ed90-e50d-49ca-b58c-1e567bc60749",
   "metadata": {},
   "source": [
    "### Fim da Opção 1: Criar projeto programaticamente\n",
    "\n",
    "Agora você provisionou um modelo de projeto em seu ambiente SageMaker. Navegue até a seção **Trabalhando com o projeto MLOps para implantação de modelo**.\n",
    "\n",
    "---\n",
    "\n",
    "\n"
   ]
  },
  {
   "cell_type": "markdown",
   "id": "5d9545f6-e793-41be-ae2c-9223fe8f6fb8",
   "metadata": {},
   "source": [
    "### Option 2: Create a project in Studio UI\n",
    "<div class=\"alert alert-info\"> 💡 <strong> Skip this section if you created a project programmatically </strong>"
   ]
  },
  {
   "cell_type": "code",
   "execution_count": 15,
   "id": "2bd48069-90a9-4bc7-a3d5-ae030f2299d4",
   "metadata": {},
   "outputs": [
    {
     "name": "stdout",
     "output_type": "stream",
     "text": [
      "The last used model package group is from-idea-to-prod-pipeline-model-08-08-30-16\n"
     ]
    }
   ],
   "source": [
    "print(f\"The last used model package group is {model_package_group_name}\")"
   ]
  },
  {
   "cell_type": "markdown",
   "id": "87d43237-6357-48ca-8e86-c3babc30011c",
   "metadata": {},
   "source": [
    "Siga as instruções no Guia do Desenvolvedor – [Criar um Projeto MLOps usando o Amazon SageMaker Studio ou Studio Classic](https://docs.aws.amazon.com/sagemaker/latest/dg/sagemaker-projects-create.html). Escolha a opção **Studio**.\n",
    "\n",
    "Para o modelo, escolha **Model deployment**.\n",
    "Em **Project details**, você precisa fornecer um nome e uma descrição de projeto opcional.\n",
    "\n",
    "Este modelo tem um parâmetro obrigatório `SourceModelPackageGroupName`. Insira o nome do grupo de pacotes de modelos que você usou nos notebooks das etapas 3 e 4.\n",
    "\n",
    "Opcionalmente, adicione tags, que são pares chave-valor que você pode usar para rastrear seus projetos.\n",
    "\n",
    "Escolha **Create** e aguarde o projeto aparecer na lista Projetos.\n",
    "\n"
   ]
  },
  {
   "cell_type": "markdown",
   "id": "711f29d3-97d5-44ce-a519-b23c1e36a386",
   "metadata": {},
   "source": [
    "### End of Option 2: Create a project in Studio UI\n",
    "Now when you have the project created, move to the section **Trabalhando com o projeto MLOps para implantação de modelo**.\n",
    "\n",
    "---"
   ]
  },
  {
   "cell_type": "markdown",
   "id": "fceddf72-4a24-447d-9718-d940a3b54252",
   "metadata": {},
   "source": [
    "## Trabalhando com o projeto MLOps para implantação de modelo\n",
    "O modelo provisiona um repositório CodeCommit com arquivos de configuração para especificar as etapas de implantação do modelo, modelos AWS CloudFormation para definir endpoints como infraestrutura e código inicial para testar o endpoint.\n",
    "\n",
    "Este modelo fornece os seguintes recursos:\n",
    "\n",
    "1. Um repositório AWS CodeCommit que contém código de modelo que implanta modelos em endpoints em ambientes de teste e produção\n",
    "2. Um pipeline AWS CodePipeline que possui etapas `source`, `build`, `deploy-to-staging` e `deploy-to-production`. A etapa `source` aponta para o repositório CodeCommit, e a etapa `build` obtém o código desse repositório e gera pilhas CloudFormation para implantar. As etapas `deploy-to-staging` e `deploy-to-production` implantam as pilhas CloudFormation em seus respectivos ambientes. Há uma etapa de aprovação manual entre as etapas de build de teste e produção, para que um engenheiro de MLOps deva aprovar o modelo antes que ele seja implantado na produção.\n",
    "3. Uma regra do Amazon EventBridge para iniciar uma execução do pipeline CodePipeline quando uma versão do pacote de modelo for aprovada ou rejeitada.\n",
    "4. Há também uma etapa de aprovação manual após os testes unitários de espaço reservado. Você pode implementar seus próprios testes para substituir os testes de espaço reservado.\n",
    "\n",
    "O modelo também implanta um bucket do Amazon S3 para armazenar artefatos, incluindo artefatos do CodePipeline e CodeBuild, e quaisquer artefatos gerados pelas execuções do pipeline SageMaker.\n",
    "\n",
    "O diagrama a seguir mostra a arquitetura.\n",
    "\n",
    "<img src=\"img/mlops-model-deploy.png\" width=\"600\"/>\n",
    "\n",
    "Você não precisa implementar nenhuma alteração de configuração para o projeto. O pipeline de implantação de modelos funciona imediatamente.\n",
    "Para iniciar o pipeline de implantação de modelos, você deve aprovar a versão do modelo no registro de modelos.\n",
    "\n"
   ]
  },
  {
   "cell_type": "markdown",
   "id": "64405ac3-aefa-4ba9-aa8a-f7fca4a78009",
   "metadata": {},
   "source": [
    "### Aprovar uma versão do modelo\n",
    "\n",
    "Aprovar uma versão do modelo faz com que o projeto MLOps inicie o processo de implantação do modelo.\n",
    "\n",
    "Na primeira etapa, o pipeline de implantação do modelo implanta a versão do modelo em um endpoint de inferência em tempo real SageMaker de teste.\n",
    "\n",
    "Você pode aprovar a versão do modelo no Studio no Registro de Modelos ou fazer isso programaticamente no notebook. Vamos fazer isso programaticamente.\n",
    "\n",
    "\n"
   ]
  },
  {
   "cell_type": "code",
   "execution_count": 14,
   "id": "f13610b3-be77-4a2e-abe9-bc0d55acf082",
   "metadata": {
    "tags": []
   },
   "outputs": [
    {
     "name": "stdout",
     "output_type": "stream",
     "text": [
      "from-idea-to-prod-pipeline-model-23-07-51-02\n"
     ]
    }
   ],
   "source": [
    "try:\n",
    "    print(model_package_group_name)\n",
    "except NameError:\n",
    "    print(\"+++++++++++++++++++++++++++++++++++++++++++++++++++++++++++++++++++++++++++++++++++++++++++++++++++++++++++++++++++\")\n",
    "    print(\"Execute o notebook da etapa 03 para criar um pipeline, executar o pipeline e registrar uma versão do modelo no registro de modelos\")\n",
    "    print(\"+++++++++++++++++++++++++++++++++++++++++++++++++++++++++++++++++++++++++++++++++++++++++++++++++++++++++++++++++++\")\n"
   ]
  },
  {
   "cell_type": "code",
   "execution_count": 15,
   "id": "639e8925-5e0d-4911-a087-a026b3b1a21f",
   "metadata": {
    "tags": []
   },
   "outputs": [
    {
     "name": "stdout",
     "output_type": "stream",
     "text": [
      "There are 5 model versions in the from-idea-to-prod-pipeline-model-23-07-51-02 model package group\n",
      "Approve the most recent model package:\n",
      "arn:aws:sagemaker:us-east-1:398333718380:model-package/from-idea-to-prod-pipeline-model-23-07-51-02/5\n"
     ]
    }
   ],
   "source": [
    "# lista todos os pacotes de modelos e seleciona o mais recente\n",
    "model_packages = []\n",
    "\n",
    "for p in sm.get_paginator('list_model_packages').paginate(\n",
    "        ModelPackageGroupName=model_package_group_name,\n",
    "        SortBy=\"CreationTime\",\n",
    "        SortOrder=\"Descending\",\n",
    "    ):\n",
    "    model_packages.extend(p[\"ModelPackageSummaryList\"])\n",
    "\n",
    "if len(model_packages) == 0:\n",
    "    raise Exception(f\"Nenhum pacote de modelo foi encontrado para o grupo de pacotes de modelos {model_package_group_name}. Execute primeiro um pipeline de criação de modelo.\")\n",
    "\n",
    "print(f\"Existem {len(model_packages)} versões de modelo no grupo de pacotes de modelos {model_package_group_name}\")\n",
    "print(f\"Aprovar o pacote de modelo mais recente:\")\n",
    "\n",
    "latest_model_package_arn = model_packages[0][\"ModelPackageArn\"]\n",
    "print(latest_model_package_arn)\n"
   ]
  },
  {
   "cell_type": "markdown",
   "id": "57e69876-c48e-441a-adb1-94f37f3c3cc5",
   "metadata": {},
   "source": [
    "A instrução a seguir define o `ModelApprovalStatus` para o pacote de modelo mais recente no registro de modelos como `Aprovado`. A alteração de estado do pacote de modelo inicia a regra EventBridge e a regra inicia o pipeline de CI/CD CodePipeline com a implantação do modelo.\n"
   ]
  },
  {
   "cell_type": "code",
   "execution_count": 16,
   "id": "3ef387cb-c889-4e58-a52a-8c7def24836d",
   "metadata": {
    "tags": []
   },
   "outputs": [],
   "source": [
    "model_package_update_response = sm.update_model_package(\n",
    "    ModelPackageArn=latest_model_package_arn,\n",
    "    ModelApprovalStatus=\"Approved\",\n",
    ")"
   ]
  },
  {
   "cell_type": "markdown",
   "id": "451a3532-845c-4697-b059-330735da6dfd",
   "metadata": {},
   "source": [
    "Você pode ver que a última versão do modelo no registro do modelo Studio UI alterou o **Status** para `Approved`:\n",
    "\n",
    "![](img/model-registry-version-approved.png)"
   ]
  },
  {
   "cell_type": "markdown",
   "id": "ca217b12-d020-4eb3-820a-de6431f4e82d",
   "metadata": {},
   "source": [
    "### Execução do pipeline de implantação\n",
    "Após a aprovação de uma versão do modelo na célula de código acima, o pipeline de CI/CD de implantação do modelo executa as seguintes ações:\n",
    "1. Criar arquivos de configuração de parâmetros do CloudFormation com parâmetros de staging e produção para os templates do CloudFormation com IaC do endpoint do SageMaker\n",
    "2. Criar um endpoint de inferência em tempo real do SageMaker com o nome `<NOME-DO-PROJETO>-staging` na conta atual\n",
    "3. Executar o script de teste no endpoint de staging\n",
    "4. Aguardar até que o resultado do teste seja aprovado manualmente no [console do AWS CodePipeline](https://console.aws.amazon.com/codesuite/codepipeline)\n",
    "5. Criar um endpoint do SageMaker com o nome `<NOME-DO-PROJETO>-prod` na conta atual"
   ]
  },
  {
   "cell_type": "markdown",
   "id": "3956a712-c8d6-4093-b9d0-e3a5cce443d8",
   "metadata": {},
   "source": [
    "Aguarde cerca de 10-15 minutos até que o pipeline conclua a implantação do endpoint de staging. Você pode ver o status do endpoint na interface do Studio em **Implantações** > **Endpoints**:\n",
    "\n",
    "![](img/endpoint-staging-creating.png)\n",
    "\n",
    "Depois que o status do endpoint mudar de `Creating` para `InService`, o endpoint de staging estará totalmente operacional. Você pode iniciar o processo de implantação do modelo para o estágio de produção aprovando manualmente o estágio **DeployStaging** do pipeline do CodePipeline. Na próxima seção, você aprovará a implantação do modelo e iniciará a segunda etapa da implantação em um endpoint de produção."
   ]
  },
  {
   "cell_type": "markdown",
   "id": "c9856922-d2fb-4069-aa63-de50aeabbaf9",
   "metadata": {},
   "source": [
    "Para ver os endpoints de inferência na interface do Studio, clique no link construído pela célula de código abaixo:"
   ]
  },
  {
   "cell_type": "code",
   "execution_count": 19,
   "id": "7e9e5063-4c3d-491a-a5ac-233fa1cc8be8",
   "metadata": {},
   "outputs": [
    {
     "data": {
      "text/html": [
       "<b>See <a target=\"top\" href=\"https://studio-d-wxmppmljqkj5.studio.us-east-1.sagemaker.aws/inference-experience/endpoints\">inference endpoints</a> in the Studio UI</b>"
      ],
      "text/plain": [
       "<IPython.core.display.HTML object>"
      ]
     },
     "metadata": {},
     "output_type": "display_data"
    }
   ],
   "source": [
    "from IPython.display import HTML\n",
    "\n",
    "# Monstre o link de do endpoint de inferência\n",
    "display(\n",
    "    HTML('<b>Veja <a target=\"top\" href=\"https://studio-{}.studio.{}.sagemaker.aws/inference-experience/endpoints\">a inferência do endpoint</a> no Studio UI</b>'.format(\n",
    "            domain_id, region))\n",
    ")"
   ]
  },
  {
   "cell_type": "markdown",
   "id": "579140af-5441-47d9-bf54-da9a01b851e6",
   "metadata": {},
   "source": [
    "### Implantar a versão do modelo em produção\n",
    "<div style=\"border: 4px solid coral; text-align: center; margin: auto;\">\n",
    "    <p style=\" text-align: center; margin: auto;\">Aguarde até que o status do endpoint de testes mude para InService, e então continue com as células de código a seguir.\n",
    "    </p>\n",
    "</div>\n",
    "\n",
    "Vamos construir um link de aprovação do CodePipeline.\n",
    "\n",
    "Se você usou a opção 1 `boto3` para criar um projeto de MLOps, o `project_name` e o `project_id` são configurados automaticamente. Você pode executar a seguinte célula de código para imprimir os valores. Se você seguiu as instruções da interface para criar um projeto, deve definir o `project_name` manualmente."
   ]
  },
  {
   "cell_type": "code",
   "execution_count": 20,
   "id": "fa30c033-daa8-4ab5-899c-aed5f8f4d9af",
   "metadata": {
    "tags": []
   },
   "outputs": [
    {
     "name": "stdout",
     "output_type": "stream",
     "text": [
      "model-deploy-7-23-11-46-25\n",
      "p-ilq3pvs0je1i\n"
     ]
    }
   ],
   "source": [
    "try:\n",
    "    print(project_name)\n",
    "    print(project_id)\n",
    "except NameError:\n",
    "    print(\"++++++++++++++++++++++++++++++++++++++\")\n",
    "    print(\"Você deve definir o project_name manualmente\")\n",
    "    print(\"++++++++++++++++++++++++++++++++++++++\")"
   ]
  },
  {
   "cell_type": "code",
   "execution_count": 21,
   "id": "e29598cf-3c99-440a-886f-6045605d7f97",
   "metadata": {
    "tags": []
   },
   "outputs": [],
   "source": [
    "# Defina o nome do projeto de implantação do modelo se você não tiver usado a implantação baseada em boto3\n",
    "# Project_name = “<USE YOUR PROJECT NAME>”\n",
    "\n",
    "\n",
    "# Obter o ID do projeto\n",
    "project_id = sm.describe_project(ProjectName=project_name)['ProjectId']\n",
    "\n",
    "# Construir o nome do pipeline do CodePipline\n",
    "code_pipeline_name = f\"sagemaker-{project_name}-{project_id}-modeldeploy\""
   ]
  },
  {
   "cell_type": "code",
   "execution_count": 22,
   "id": "a0d199ea-5ec0-441a-b58f-be85b9a4788b",
   "metadata": {
    "tags": []
   },
   "outputs": [
    {
     "data": {
      "text/html": [
       "<b>Please approve the manual step in <a target=\"top\" href=\"https://console.aws.amazon.com/codesuite/codepipeline/pipelines/sagemaker-model-deploy-7-23-11-46-25-p-ilq3pvs0je1i-modeldeploy/view?region=us-east-1\">AWS CodePipeline</a></b>"
      ],
      "text/plain": [
       "<IPython.core.display.HTML object>"
      ]
     },
     "metadata": {},
     "output_type": "display_data"
    }
   ],
   "source": [
    "# Mostre o link de aprovação Show the approval link\n",
    "display(\n",
    "    HTML(\n",
    "        '<b>Por favor, aprove a etapa manual em <a target=\"top\" href=\"https://console.aws.amazon.com/codesuite/codepipeline/pipelines/{}/view?region={}\">AWS CodePipeline</a></b>'.format(\n",
    "            code_pipeline_name, region)\n",
    "    )\n",
    ")"
   ]
  },
  {
   "cell_type": "markdown",
   "id": "e825c8b7-77e4-4929-9b73-396502f9d83a",
   "metadata": {},
   "source": [
    "Clique no link ^^^ acima ^^^ para abrir o console do CodePipeline com o fluxo de trabalho de execução do pipeline."
   ]
  },
  {
   "cell_type": "markdown",
   "id": "a87e002e-e776-4c73-adcc-5ea79d937579",
   "metadata": {},
   "source": [
    "In the **DeployStaging stage**, choose **Review** on the **ApproveDeployment** step. Note, you might wait until `TestStaging` step completes with `Succeeded` status. \n",
    "\n",
    "![](img/deploy-staging-review.png)\n",
    "\n",
    "In the **Review** dialog box, select **Approve** and choose **Submit**:\n",
    "\n",
    "![](img/approve-deployment.png)\n",
    "\n",
    "Approving the **DeployStaging** stage causes the deployment pipeline to continue and to deploy the model to the production endpoint. To view the endpoints, choose the **Deployments** > **Endpoints** in Studio UI."
   ]
  },
  {
   "cell_type": "code",
   "execution_count": 23,
   "id": "93d1bf81-5b82-4f11-9aa3-dc4b3adc6e3d",
   "metadata": {},
   "outputs": [
    {
     "data": {
      "text/html": [
       "<b>See <a target=\"top\" href=\"https://studio-d-wxmppmljqkj5.studio.us-east-1.sagemaker.aws/inference-experience/endpoints\">inference endpoints</a> in the Studio UI</b>"
      ],
      "text/plain": [
       "<IPython.core.display.HTML object>"
      ]
     },
     "metadata": {},
     "output_type": "display_data"
    }
   ],
   "source": [
    "# Mostrar o link do endpoint da inferência\n",
    "display(\n",
    "    HTML('<b>Veja <a target=\"top\" href=\"https://studio-{}.studio.{}.sagemaker.aws/inference-experience/endpoints\">a inferencia do endpoint</a> no  Studio UI</b>'.format(\n",
    "            domain_id, region))\n",
    ")"
   ]
  },
  {
   "cell_type": "markdown",
   "id": "39494560-27a0-49af-92b9-1caafb7c34ae",
   "metadata": {},
   "source": [
    "Conforme seu pipeline de implantação CI/CD continua, você verá o endpoint de produção no status `Creating` junto com o endpoint de staging previamente implantado no status `InService`:\n",
    "\n",
    "![](img/endpoint-prod-creating.png)\n",
    "\n",
    "Após 10-15 minutos, a implantação é concluída e ambos os endpoints estão no status `InService`.\n",
    "\n",
    "Navegue até o Studio e escolha **Deployments** > **Projects**. No painel Project, selecione o projeto `model-deploy-<TIMESTAMP>`. No painel de detalhes do projeto, selecione **Endpoints**. Você verá que ambos os endpoints, `staging` e `prod`, estão visíveis no projeto de implantação porque o projeto e os endpoints estão conectados via metadados:\n",
    "\n",
    "![](img/project-endpoints.png)"
   ]
  },
  {
   "cell_type": "markdown",
   "id": "477ace97-ba05-44bc-bc36-38df670fafb9",
   "metadata": {},
   "source": [
    "## Resumo\n",
    "\n",
    "Neste notebook, você implementou um pipeline de implantação CI/CD automatizado com as seguintes características:\n",
    "- uso de templates IaC (Infraestrutura como Código) do CloudFormation para implantação de endpoints de inferência em tempo real do SageMaker\n",
    "- aprovação do modelo no registro de modelos inicia o pipeline de implantação do modelo\n",
    "- o pipeline de implantação do modelo contém dois estágios, staging e produção, com testes automatizados para o endpoint de staging e aprovação manual para a implantação em produção\n",
    "\n",
    "---"
   ]
  },
  {
   "cell_type": "markdown",
   "id": "d2a6e711",
   "metadata": {},
   "source": []
  },
  {
   "cell_type": "markdown",
   "id": "76a45818-0bb7-48b1-bfc6-3c701f6eaa63",
   "metadata": {},
   "source": [
    "## Limpeza\n",
    "<div style=\"border: 4px solid coral; text-align: center; margin: auto;\">\n",
    "    <p style=\" text-align: center; margin: auto;\">\n",
    "    Se você vai executar o notebook da etapa 6 (Monitoramento de Qualidade de Dados e Modelos), você precisa manter pelo menos um dos endpoints. Se você terminar o treinamento aqui e não executar o notebook da etapa 6, navegue até o <b>notebook de limpeza (99-clean-up.ipynb)</b> e siga as instruções de limpeza para evitar cobranças em sua conta AWS.\n",
    "    <br>\n",
    "    <br>\n",
    "    Você não precisa executar a limpeza se estiver usando uma conta AWS fornecida pela AWS.\n",
    "    </p>\n",
    "</div>"
   ]
  },
  {
   "cell_type": "markdown",
   "id": "51023094-905a-4dc3-ae36-f8fb20ec3330",
   "metadata": {},
   "source": [
    "## Continue com a etapa 6\n",
    "Abra o [notebook](06-monitoring.ipynb) da etapa 6."
   ]
  },
  {
   "cell_type": "markdown",
   "id": "c9b9d484-5022-4816-8a1b-89e27ffadc66",
   "metadata": {},
   "source": [
    "## Ideias de desenvolvimento adicional para seus projetos do mundo real\n",
    "- Adicionar criptografia de ponta a ponta dos dados usando chaves AWS KMS\n",
    "- Criar um [modelo personalizado de projeto SageMaker](https://docs.aws.amazon.com/sagemaker/latest/dg/sagemaker-projects-templates-custom.html) para implantação de modelos que atenda aos requisitos específicos do seu projeto\n",
    "- Adicionar [implantação de modelos em múltiplas contas](https://aws.amazon.com/blogs/machine-learning/multi-account-model-deployment-with-amazon-sagemaker-pipelines/) ao seu fluxo de trabalho de ML\n",
    "- Adicionar testes automatizados de modelo ao espaço reservado no pipeline do CodePipeline\n",
    "- Usar o [Amazon SageMaker Inference Recommender](https://docs.aws.amazon.com/sagemaker/latest/dg/inference-recommender.html) para executar testes de carga automatizados para seus endpoints de inferência e selecionar o melhor tipo de instância e configuração"
   ]
  },
  {
   "cell_type": "markdown",
   "id": "cbed7d41-921d-4174-a177-33c3acc95049",
   "metadata": {},
   "source": [
    "## Recursos adicionais\n",
    "- [Implantar um modelo de Machine Learning em um endpoint de inferência em tempo real](https://aws.amazon.com/getting-started/hands-on/machine-learning-tutorial-deploy-model-to-real-time-inference-endpoint/)\n",
    "- [Walkthrough do projeto SageMaker MLOps](https://docs.aws.amazon.com/sagemaker/latest/dg/sagemaker-projects-walkthrough.html)\n",
    "- [Laboratório do Amazon SageMaker Pipelines no SageMaker Immersion Day](https://catalog.us-east-1.prod.workshops.aws/workshops/63069e26-921c-4ce1-9cc7-dd882ff62575/en-US/lab6)\n",
    "- [Secure MLOps no Amazon SageMaker](https://github.com/aws-samples/amazon-sagemaker-secure-mlops)\n",
    "- [Abordagens de teste para modelos ML no Amazon SageMaker](https://aws.amazon.com/blogs/machine-learning/testing-approaches-for-amazon-sagemaker-ml-models/)\n",
    "- [Série de blogs sobre padrões de hospedagem de modelos no Amazon SageMaker](https://aws.amazon.com/blogs/machine-learning/model-hosting-patterns-in-amazon-sagemaker-part-1-common-design-patterns-for-building-ml-applications-on-amazon-sagemaker/)\n",
    "- [Aproveite as estratégias de implantação avançadas usando as guardrails de implantação do Amazon SageMaker](https://aws.amazon.com/blogs/machine-learning/take-advantage-of-advanced-deployment-strategies-using-amazon-sagemaker-deployment-guardrails/)\n",
    "- [Melhores práticas de implantação de MLOps para endpoints de serviço de modelo de inferência em tempo real com o Amazon SageMaker](https://aws.amazon.com/blogs/machine-learning/mlops-deployment-best-practices-for-real-time-inference-model-serving-endpoints-with-amazon-sagemaker/)"
   ]
  },
  {
   "cell_type": "markdown",
   "id": "ca846f6c-3645-493a-a923-7457b2e32a5f",
   "metadata": {},
   "source": [
    "# Desligar o kernel"
   ]
  },
  {
   "cell_type": "code",
   "execution_count": null,
   "id": "f60e56c7-b568-4208-818c-42634870f690",
   "metadata": {},
   "outputs": [],
   "source": [
    "%%html\n",
    "\n",
    "<p><b>Shutting down your kernel for this notebook to release resources.</b></p>\n",
    "<button class=\"sm-command-button\" data-commandlinker-command=\"kernelmenu:shutdown\" style=\"display:none;\">Shutdown Kernel</button>\n",
    "        \n",
    "<script>\n",
    "try {\n",
    "    els = document.getElementsByClassName(\"sm-command-button\");\n",
    "    els[0].click();\n",
    "}\n",
    "catch(err) {\n",
    "    // NoOp\n",
    "}    \n",
    "</script>"
   ]
  },
  {
   "cell_type": "code",
   "execution_count": null,
   "id": "2d861de3-ee5a-4c3d-8b8f-04c2523547e4",
   "metadata": {},
   "outputs": [],
   "source": []
  }
 ],
 "metadata": {
  "availableInstances": [
   {
    "_defaultOrder": 0,
    "_isFastLaunch": true,
    "category": "General purpose",
    "gpuNum": 0,
    "hideHardwareSpecs": false,
    "memoryGiB": 4,
    "name": "ml.t3.medium",
    "vcpuNum": 2
   },
   {
    "_defaultOrder": 1,
    "_isFastLaunch": false,
    "category": "General purpose",
    "gpuNum": 0,
    "hideHardwareSpecs": false,
    "memoryGiB": 8,
    "name": "ml.t3.large",
    "vcpuNum": 2
   },
   {
    "_defaultOrder": 2,
    "_isFastLaunch": false,
    "category": "General purpose",
    "gpuNum": 0,
    "hideHardwareSpecs": false,
    "memoryGiB": 16,
    "name": "ml.t3.xlarge",
    "vcpuNum": 4
   },
   {
    "_defaultOrder": 3,
    "_isFastLaunch": false,
    "category": "General purpose",
    "gpuNum": 0,
    "hideHardwareSpecs": false,
    "memoryGiB": 32,
    "name": "ml.t3.2xlarge",
    "vcpuNum": 8
   },
   {
    "_defaultOrder": 4,
    "_isFastLaunch": true,
    "category": "General purpose",
    "gpuNum": 0,
    "hideHardwareSpecs": false,
    "memoryGiB": 8,
    "name": "ml.m5.large",
    "vcpuNum": 2
   },
   {
    "_defaultOrder": 5,
    "_isFastLaunch": false,
    "category": "General purpose",
    "gpuNum": 0,
    "hideHardwareSpecs": false,
    "memoryGiB": 16,
    "name": "ml.m5.xlarge",
    "vcpuNum": 4
   },
   {
    "_defaultOrder": 6,
    "_isFastLaunch": false,
    "category": "General purpose",
    "gpuNum": 0,
    "hideHardwareSpecs": false,
    "memoryGiB": 32,
    "name": "ml.m5.2xlarge",
    "vcpuNum": 8
   },
   {
    "_defaultOrder": 7,
    "_isFastLaunch": false,
    "category": "General purpose",
    "gpuNum": 0,
    "hideHardwareSpecs": false,
    "memoryGiB": 64,
    "name": "ml.m5.4xlarge",
    "vcpuNum": 16
   },
   {
    "_defaultOrder": 8,
    "_isFastLaunch": false,
    "category": "General purpose",
    "gpuNum": 0,
    "hideHardwareSpecs": false,
    "memoryGiB": 128,
    "name": "ml.m5.8xlarge",
    "vcpuNum": 32
   },
   {
    "_defaultOrder": 9,
    "_isFastLaunch": false,
    "category": "General purpose",
    "gpuNum": 0,
    "hideHardwareSpecs": false,
    "memoryGiB": 192,
    "name": "ml.m5.12xlarge",
    "vcpuNum": 48
   },
   {
    "_defaultOrder": 10,
    "_isFastLaunch": false,
    "category": "General purpose",
    "gpuNum": 0,
    "hideHardwareSpecs": false,
    "memoryGiB": 256,
    "name": "ml.m5.16xlarge",
    "vcpuNum": 64
   },
   {
    "_defaultOrder": 11,
    "_isFastLaunch": false,
    "category": "General purpose",
    "gpuNum": 0,
    "hideHardwareSpecs": false,
    "memoryGiB": 384,
    "name": "ml.m5.24xlarge",
    "vcpuNum": 96
   },
   {
    "_defaultOrder": 12,
    "_isFastLaunch": false,
    "category": "General purpose",
    "gpuNum": 0,
    "hideHardwareSpecs": false,
    "memoryGiB": 8,
    "name": "ml.m5d.large",
    "vcpuNum": 2
   },
   {
    "_defaultOrder": 13,
    "_isFastLaunch": false,
    "category": "General purpose",
    "gpuNum": 0,
    "hideHardwareSpecs": false,
    "memoryGiB": 16,
    "name": "ml.m5d.xlarge",
    "vcpuNum": 4
   },
   {
    "_defaultOrder": 14,
    "_isFastLaunch": false,
    "category": "General purpose",
    "gpuNum": 0,
    "hideHardwareSpecs": false,
    "memoryGiB": 32,
    "name": "ml.m5d.2xlarge",
    "vcpuNum": 8
   },
   {
    "_defaultOrder": 15,
    "_isFastLaunch": false,
    "category": "General purpose",
    "gpuNum": 0,
    "hideHardwareSpecs": false,
    "memoryGiB": 64,
    "name": "ml.m5d.4xlarge",
    "vcpuNum": 16
   },
   {
    "_defaultOrder": 16,
    "_isFastLaunch": false,
    "category": "General purpose",
    "gpuNum": 0,
    "hideHardwareSpecs": false,
    "memoryGiB": 128,
    "name": "ml.m5d.8xlarge",
    "vcpuNum": 32
   },
   {
    "_defaultOrder": 17,
    "_isFastLaunch": false,
    "category": "General purpose",
    "gpuNum": 0,
    "hideHardwareSpecs": false,
    "memoryGiB": 192,
    "name": "ml.m5d.12xlarge",
    "vcpuNum": 48
   },
   {
    "_defaultOrder": 18,
    "_isFastLaunch": false,
    "category": "General purpose",
    "gpuNum": 0,
    "hideHardwareSpecs": false,
    "memoryGiB": 256,
    "name": "ml.m5d.16xlarge",
    "vcpuNum": 64
   },
   {
    "_defaultOrder": 19,
    "_isFastLaunch": false,
    "category": "General purpose",
    "gpuNum": 0,
    "hideHardwareSpecs": false,
    "memoryGiB": 384,
    "name": "ml.m5d.24xlarge",
    "vcpuNum": 96
   },
   {
    "_defaultOrder": 20,
    "_isFastLaunch": false,
    "category": "General purpose",
    "gpuNum": 0,
    "hideHardwareSpecs": true,
    "memoryGiB": 0,
    "name": "ml.geospatial.interactive",
    "supportedImageNames": [
     "sagemaker-geospatial-v1-0"
    ],
    "vcpuNum": 0
   },
   {
    "_defaultOrder": 21,
    "_isFastLaunch": true,
    "category": "Compute optimized",
    "gpuNum": 0,
    "hideHardwareSpecs": false,
    "memoryGiB": 4,
    "name": "ml.c5.large",
    "vcpuNum": 2
   },
   {
    "_defaultOrder": 22,
    "_isFastLaunch": false,
    "category": "Compute optimized",
    "gpuNum": 0,
    "hideHardwareSpecs": false,
    "memoryGiB": 8,
    "name": "ml.c5.xlarge",
    "vcpuNum": 4
   },
   {
    "_defaultOrder": 23,
    "_isFastLaunch": false,
    "category": "Compute optimized",
    "gpuNum": 0,
    "hideHardwareSpecs": false,
    "memoryGiB": 16,
    "name": "ml.c5.2xlarge",
    "vcpuNum": 8
   },
   {
    "_defaultOrder": 24,
    "_isFastLaunch": false,
    "category": "Compute optimized",
    "gpuNum": 0,
    "hideHardwareSpecs": false,
    "memoryGiB": 32,
    "name": "ml.c5.4xlarge",
    "vcpuNum": 16
   },
   {
    "_defaultOrder": 25,
    "_isFastLaunch": false,
    "category": "Compute optimized",
    "gpuNum": 0,
    "hideHardwareSpecs": false,
    "memoryGiB": 72,
    "name": "ml.c5.9xlarge",
    "vcpuNum": 36
   },
   {
    "_defaultOrder": 26,
    "_isFastLaunch": false,
    "category": "Compute optimized",
    "gpuNum": 0,
    "hideHardwareSpecs": false,
    "memoryGiB": 96,
    "name": "ml.c5.12xlarge",
    "vcpuNum": 48
   },
   {
    "_defaultOrder": 27,
    "_isFastLaunch": false,
    "category": "Compute optimized",
    "gpuNum": 0,
    "hideHardwareSpecs": false,
    "memoryGiB": 144,
    "name": "ml.c5.18xlarge",
    "vcpuNum": 72
   },
   {
    "_defaultOrder": 28,
    "_isFastLaunch": false,
    "category": "Compute optimized",
    "gpuNum": 0,
    "hideHardwareSpecs": false,
    "memoryGiB": 192,
    "name": "ml.c5.24xlarge",
    "vcpuNum": 96
   },
   {
    "_defaultOrder": 29,
    "_isFastLaunch": true,
    "category": "Accelerated computing",
    "gpuNum": 1,
    "hideHardwareSpecs": false,
    "memoryGiB": 16,
    "name": "ml.g4dn.xlarge",
    "vcpuNum": 4
   },
   {
    "_defaultOrder": 30,
    "_isFastLaunch": false,
    "category": "Accelerated computing",
    "gpuNum": 1,
    "hideHardwareSpecs": false,
    "memoryGiB": 32,
    "name": "ml.g4dn.2xlarge",
    "vcpuNum": 8
   },
   {
    "_defaultOrder": 31,
    "_isFastLaunch": false,
    "category": "Accelerated computing",
    "gpuNum": 1,
    "hideHardwareSpecs": false,
    "memoryGiB": 64,
    "name": "ml.g4dn.4xlarge",
    "vcpuNum": 16
   },
   {
    "_defaultOrder": 32,
    "_isFastLaunch": false,
    "category": "Accelerated computing",
    "gpuNum": 1,
    "hideHardwareSpecs": false,
    "memoryGiB": 128,
    "name": "ml.g4dn.8xlarge",
    "vcpuNum": 32
   },
   {
    "_defaultOrder": 33,
    "_isFastLaunch": false,
    "category": "Accelerated computing",
    "gpuNum": 4,
    "hideHardwareSpecs": false,
    "memoryGiB": 192,
    "name": "ml.g4dn.12xlarge",
    "vcpuNum": 48
   },
   {
    "_defaultOrder": 34,
    "_isFastLaunch": false,
    "category": "Accelerated computing",
    "gpuNum": 1,
    "hideHardwareSpecs": false,
    "memoryGiB": 256,
    "name": "ml.g4dn.16xlarge",
    "vcpuNum": 64
   },
   {
    "_defaultOrder": 35,
    "_isFastLaunch": false,
    "category": "Accelerated computing",
    "gpuNum": 1,
    "hideHardwareSpecs": false,
    "memoryGiB": 61,
    "name": "ml.p3.2xlarge",
    "vcpuNum": 8
   },
   {
    "_defaultOrder": 36,
    "_isFastLaunch": false,
    "category": "Accelerated computing",
    "gpuNum": 4,
    "hideHardwareSpecs": false,
    "memoryGiB": 244,
    "name": "ml.p3.8xlarge",
    "vcpuNum": 32
   },
   {
    "_defaultOrder": 37,
    "_isFastLaunch": false,
    "category": "Accelerated computing",
    "gpuNum": 8,
    "hideHardwareSpecs": false,
    "memoryGiB": 488,
    "name": "ml.p3.16xlarge",
    "vcpuNum": 64
   },
   {
    "_defaultOrder": 38,
    "_isFastLaunch": false,
    "category": "Accelerated computing",
    "gpuNum": 8,
    "hideHardwareSpecs": false,
    "memoryGiB": 768,
    "name": "ml.p3dn.24xlarge",
    "vcpuNum": 96
   },
   {
    "_defaultOrder": 39,
    "_isFastLaunch": false,
    "category": "Memory Optimized",
    "gpuNum": 0,
    "hideHardwareSpecs": false,
    "memoryGiB": 16,
    "name": "ml.r5.large",
    "vcpuNum": 2
   },
   {
    "_defaultOrder": 40,
    "_isFastLaunch": false,
    "category": "Memory Optimized",
    "gpuNum": 0,
    "hideHardwareSpecs": false,
    "memoryGiB": 32,
    "name": "ml.r5.xlarge",
    "vcpuNum": 4
   },
   {
    "_defaultOrder": 41,
    "_isFastLaunch": false,
    "category": "Memory Optimized",
    "gpuNum": 0,
    "hideHardwareSpecs": false,
    "memoryGiB": 64,
    "name": "ml.r5.2xlarge",
    "vcpuNum": 8
   },
   {
    "_defaultOrder": 42,
    "_isFastLaunch": false,
    "category": "Memory Optimized",
    "gpuNum": 0,
    "hideHardwareSpecs": false,
    "memoryGiB": 128,
    "name": "ml.r5.4xlarge",
    "vcpuNum": 16
   },
   {
    "_defaultOrder": 43,
    "_isFastLaunch": false,
    "category": "Memory Optimized",
    "gpuNum": 0,
    "hideHardwareSpecs": false,
    "memoryGiB": 256,
    "name": "ml.r5.8xlarge",
    "vcpuNum": 32
   },
   {
    "_defaultOrder": 44,
    "_isFastLaunch": false,
    "category": "Memory Optimized",
    "gpuNum": 0,
    "hideHardwareSpecs": false,
    "memoryGiB": 384,
    "name": "ml.r5.12xlarge",
    "vcpuNum": 48
   },
   {
    "_defaultOrder": 45,
    "_isFastLaunch": false,
    "category": "Memory Optimized",
    "gpuNum": 0,
    "hideHardwareSpecs": false,
    "memoryGiB": 512,
    "name": "ml.r5.16xlarge",
    "vcpuNum": 64
   },
   {
    "_defaultOrder": 46,
    "_isFastLaunch": false,
    "category": "Memory Optimized",
    "gpuNum": 0,
    "hideHardwareSpecs": false,
    "memoryGiB": 768,
    "name": "ml.r5.24xlarge",
    "vcpuNum": 96
   },
   {
    "_defaultOrder": 47,
    "_isFastLaunch": false,
    "category": "Accelerated computing",
    "gpuNum": 1,
    "hideHardwareSpecs": false,
    "memoryGiB": 16,
    "name": "ml.g5.xlarge",
    "vcpuNum": 4
   },
   {
    "_defaultOrder": 48,
    "_isFastLaunch": false,
    "category": "Accelerated computing",
    "gpuNum": 1,
    "hideHardwareSpecs": false,
    "memoryGiB": 32,
    "name": "ml.g5.2xlarge",
    "vcpuNum": 8
   },
   {
    "_defaultOrder": 49,
    "_isFastLaunch": false,
    "category": "Accelerated computing",
    "gpuNum": 1,
    "hideHardwareSpecs": false,
    "memoryGiB": 64,
    "name": "ml.g5.4xlarge",
    "vcpuNum": 16
   },
   {
    "_defaultOrder": 50,
    "_isFastLaunch": false,
    "category": "Accelerated computing",
    "gpuNum": 1,
    "hideHardwareSpecs": false,
    "memoryGiB": 128,
    "name": "ml.g5.8xlarge",
    "vcpuNum": 32
   },
   {
    "_defaultOrder": 51,
    "_isFastLaunch": false,
    "category": "Accelerated computing",
    "gpuNum": 1,
    "hideHardwareSpecs": false,
    "memoryGiB": 256,
    "name": "ml.g5.16xlarge",
    "vcpuNum": 64
   },
   {
    "_defaultOrder": 52,
    "_isFastLaunch": false,
    "category": "Accelerated computing",
    "gpuNum": 4,
    "hideHardwareSpecs": false,
    "memoryGiB": 192,
    "name": "ml.g5.12xlarge",
    "vcpuNum": 48
   },
   {
    "_defaultOrder": 53,
    "_isFastLaunch": false,
    "category": "Accelerated computing",
    "gpuNum": 4,
    "hideHardwareSpecs": false,
    "memoryGiB": 384,
    "name": "ml.g5.24xlarge",
    "vcpuNum": 96
   },
   {
    "_defaultOrder": 54,
    "_isFastLaunch": false,
    "category": "Accelerated computing",
    "gpuNum": 8,
    "hideHardwareSpecs": false,
    "memoryGiB": 768,
    "name": "ml.g5.48xlarge",
    "vcpuNum": 192
   },
   {
    "_defaultOrder": 55,
    "_isFastLaunch": false,
    "category": "Accelerated computing",
    "gpuNum": 8,
    "hideHardwareSpecs": false,
    "memoryGiB": 1152,
    "name": "ml.p4d.24xlarge",
    "vcpuNum": 96
   },
   {
    "_defaultOrder": 56,
    "_isFastLaunch": false,
    "category": "Accelerated computing",
    "gpuNum": 8,
    "hideHardwareSpecs": false,
    "memoryGiB": 1152,
    "name": "ml.p4de.24xlarge",
    "vcpuNum": 96
   },
   {
    "_defaultOrder": 57,
    "_isFastLaunch": false,
    "category": "Accelerated computing",
    "gpuNum": 0,
    "hideHardwareSpecs": false,
    "memoryGiB": 32,
    "name": "ml.trn1.2xlarge",
    "vcpuNum": 8
   },
   {
    "_defaultOrder": 58,
    "_isFastLaunch": false,
    "category": "Accelerated computing",
    "gpuNum": 0,
    "hideHardwareSpecs": false,
    "memoryGiB": 512,
    "name": "ml.trn1.32xlarge",
    "vcpuNum": 128
   },
   {
    "_defaultOrder": 59,
    "_isFastLaunch": false,
    "category": "Accelerated computing",
    "gpuNum": 0,
    "hideHardwareSpecs": false,
    "memoryGiB": 512,
    "name": "ml.trn1n.32xlarge",
    "vcpuNum": 128
   }
  ],
  "instance_type": "ml.t3.medium",
  "kernelspec": {
   "display_name": "Python 3 (ipykernel)",
   "language": "python",
   "name": "python3"
  },
  "language_info": {
   "codemirror_mode": {
    "name": "ipython",
    "version": 3
   },
   "file_extension": ".py",
   "mimetype": "text/x-python",
   "name": "python",
   "nbconvert_exporter": "python",
   "pygments_lexer": "ipython3",
   "version": "3.10.14"
  }
 },
 "nbformat": 4,
 "nbformat_minor": 5
}
