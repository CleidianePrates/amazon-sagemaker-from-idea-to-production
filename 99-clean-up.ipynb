{
 "cells": [
  {
   "cell_type": "markdown",
   "id": "5c4d2be8-f56a-4749-8ee0-89f654854836",
   "metadata": {},
   "source": [
    "# Limpeza do ambiente do SageMaker"
   ]
  },
  {
   "cell_type": "markdown",
   "id": "1a5ba586-87db-4922-bb4d-98a90ed436dc",
   "metadata": {},
   "source": [
    "<div style=\"border: 4px solid coral; text-align: center; margin: auto;\">\n",
    "    <p style=\"text-align: center; margin: auto;\">\n",
    "        <b>Este notebook remove todos os recursos criados por todos os notebooks que você executou em seu ambiente.</b>\n",
    "    </p>\n",
    "</div>\n",
    "\n",
    "❗ As seguintes células de código irão:\n",
    "- deletar permanentemente o projeto ou projetos que você provisionou em seu ambiente Studio\n",
    "- deletar permanentemente grupos de features\n",
    "- deletar permanentemente buckets S3 provisionados pelo projeto\n",
    "- deletar permanentemente objetos nos buckets S3 sob prefixos relacionados ao projeto\n",
    "- deletar permanentemente endpoints de inferência\n",
    "\n",
    "<div class=\"alert alert-info\"> ❗ Células de código que listam projetos, grupos de features e endpoints mostram todos os recursos do SageMaker na sua conta da AWS, mesmo aqueles criados <b>fora deste treinamento</b>. Verifique novamente os nomes dos recursos a serem deletados para não excluir seus próprios recursos.\n",
    "</div>"
   ]
  },
  {
   "cell_type": "markdown",
   "id": "474b9289-f4b3-4595-9218-12c516dc538d",
   "metadata": {},
   "source": [
    "<div class=\"alert alert-info\"> 💡 <strong> Este notebook irá deletar permanentemente recursos na sua conta da AWS. Por favor, verifique novamente os nomes dos recursos a serem deletados! </strong>\n",
    "</div>\n",
    "\n",
    "<div class=\"alert alert-info\">Você não precisa executar este notebook se estiver usando uma conta AWS provisionada pela AWS em um workshop liderado por instrutor.</div>\n",
    "\n",
    "<div class=\"alert alert-info\"> Certifique-se de estar usando o kernel <code>Python 3</code> no JupyterLab para este notebook.</div>"
   ]
  },
  {
   "cell_type": "code",
   "execution_count": 2,
   "id": "8b2290c6-3b24-4e18-9fae-76d3addf4458",
   "metadata": {
    "tags": []
   },
   "outputs": [
    {
     "name": "stdout",
     "output_type": "stream",
     "text": [
      "sagemaker.config INFO - Not applying SDK defaults from location: /etc/xdg/sagemaker/config.yaml\n",
      "sagemaker.config INFO - Not applying SDK defaults from location: /home/sagemaker-user/.config/sagemaker/config.yaml\n"
     ]
    }
   ],
   "source": [
    "import sagemaker\n",
    "import boto3\n",
    "import time\n",
    "import json\n",
    "import os"
   ]
  },
  {
   "cell_type": "code",
   "execution_count": 3,
   "id": "c1d0ca3d-7751-4e2e-a639-787bf47a4d15",
   "metadata": {
    "tags": []
   },
   "outputs": [
    {
     "name": "stdout",
     "output_type": "stream",
     "text": [
      "Stored variables and their in-db values:\n",
      "bucket_name                         -> 'sagemaker-us-east-1-906545278380'\n",
      "bucket_prefix                       -> 'from-idea-to-prod/xgboost'\n",
      "dataset_file_local_path             -> 'data/bank-additional/bank-additional-full.csv'\n",
      "domain_id                           -> 'd-1dklekwofndh'\n",
      "experiment_name                     -> 'from-idea-to-prod-experiment-25-20-38-00'\n",
      "initialized                         -> True\n",
      "input_s3_url                        -> 's3://sagemaker-us-east-1-906545278380/from-idea-t\n",
      "ml_flow_arn                         -> 'arn:aws:sagemaker:us-east-1:906545278380:mlflow-t\n",
      "region                              -> 'us-east-1'\n",
      "sm_role                             -> 'arn:aws:iam::906545278380:role/service-role/Amazo\n",
      "target_col                          -> 'y'\n",
      "user_profile_name                   -> None\n"
     ]
    }
   ],
   "source": [
    "%store -r \n",
    "\n",
    "%store\n",
    "\n",
    "try:\n",
    "    initialized\n",
    "except NameError:\n",
    "    print(\"+++++++++++++++++++++++++++++++++++++++++++++++++\")\n",
    "    print(\"[ERRO] VOCÊ PRECISA EXECUTAR O CADERNO 00-inicie-aqui\")\n",
    "    print(\"+++++++++++++++++++++++++++++++++++++++++++++++++\")\n"
   ]
  },
  {
   "cell_type": "code",
   "execution_count": 4,
   "id": "269c5544-c6d0-410e-a679-502930c12e02",
   "metadata": {
    "tags": []
   },
   "outputs": [],
   "source": [
    "sm = boto3.client(\"sagemaker\")\n",
    "s3 = boto3.resource('s3')"
   ]
  },
  {
   "cell_type": "markdown",
   "id": "8799fb8b-001b-4e7c-897b-0607a538fbf7",
   "metadata": {},
   "source": [
    "## Delete projetos"
   ]
  },
  {
   "cell_type": "code",
   "execution_count": null,
   "id": "af518cf8-7090-46cf-a147-7ddb4f5acc74",
   "metadata": {
    "tags": []
   },
   "outputs": [],
   "source": [
    "# Obter todos os projetos criados pelo domínio atual\n",
    "projects = [\n",
    "    {\"ProjectName\": p[\"ProjectName\"], \"ProjectId\": p[\"ProjectId\"]} for p in sm.list_projects(MaxResults=100, SortBy=\"CreationTime\")[\"ProjectSummaryList\"] \n",
    "        if sm.describe_project(ProjectName=p[\"ProjectName\"])[\"CreatedBy\"][\"DomainId\"] == domain_id and p[\"ProjectStatus\"] == \"CreateCompleted\"\n",
    "]\n",
    "\n",
    "print(f\"Esses projetos foram criados pelo domínio {domain_id}: {json.dumps(projects, indent=2)}\")\n"
   ]
  },
  {
   "cell_type": "code",
   "execution_count": null,
   "id": "89aaca09-cf00-45f1-a5d8-3f246d475af0",
   "metadata": {
    "tags": []
   },
   "outputs": [],
   "source": [
    "# Selecionar projetos a serem deletados\n",
    "projects_to_delete = []\n",
    "\n",
    "for p in projects:\n",
    "    print(f\"Você tem certeza de que deseja deletar este projeto: {p['ProjectName']}? (y/n)\")\n",
    "    choice = input()\n",
    "    if choice == 'y':\n",
    "        projects_to_delete.append(p)\n",
    "        \n",
    "print(f\"***************************************\")\n",
    "print(f\"Os seguintes projetos serão deletados:\\n{json.dumps(projects_to_delete, indent=2)}\")\n",
    "print(f\"***************************************\")\n"
   ]
  },
  {
   "cell_type": "code",
   "execution_count": null,
   "id": "9d0219ff-79a2-4b39-b9e6-7b31e5af8e39",
   "metadata": {
    "tags": []
   },
   "outputs": [],
   "source": [
    "for p in projects_to_delete:\n",
    "    try:\n",
    "        print(f\"Deletando projeto {p['ProjectName']}: {sm.delete_project(ProjectName=p['ProjectName'])}\")\n",
    "    except Exception:\n",
    "        pass\n"
   ]
  },
  {
   "cell_type": "markdown",
   "id": "312e5cde-d235-46b9-b021-9d70923d787f",
   "metadata": {},
   "source": [
    "## Excluir programações de monitoramento\n",
    "Você deve excluir os agendamentos de monitoramento para poder remover com êxito os endpoints implantados pelos projetos MLOps."
   ]
  },
  {
   "cell_type": "code",
   "execution_count": null,
   "id": "83777d43-2a2d-4fcb-b57d-8341e09cc7e5",
   "metadata": {
    "tags": []
   },
   "outputs": [],
   "source": [
    "def delete_mon_schedules(endpoint_name, sm_client):\n",
    "    print(f\"Deletar agendamentos de monitoramento para o endpoint: {endpoint_name}\")\n",
    "    for s in sm_client.list_monitoring_schedules(EndpointName=endpoint_name)[\"MonitoringScheduleSummaries\"]:\n",
    "        print(f\"Deletar agendamento de monitoramento: {s['MonitoringScheduleName']}\")\n",
    "        r = sm_client.delete_monitoring_schedule(MonitoringScheduleName=s['MonitoringScheduleName'])\n",
    "        print(r)\n"
   ]
  },
  {
   "cell_type": "code",
   "execution_count": null,
   "id": "6191aa68-fd7f-4b21-b500-f9ce31e59634",
   "metadata": {
    "tags": []
   },
   "outputs": [],
   "source": [
    "for p in projects_to_delete:\n",
    "    delete_mon_schedules(f\"{p['ProjectName']}-staging\", sm)\n",
    "    delete_mon_schedules(f\"{p['ProjectName']}-prod\", sm)"
   ]
  },
  {
   "cell_type": "markdown",
   "id": "fa4df89c-5a32-48f5-9fe3-8222f6726c5f",
   "metadata": {},
   "source": [
    "## Excluir pilhas do CloudFormation\n",
    "Esta seção exclui as pilhas do AWS CloudFormation que os projetos criaram"
   ]
  },
  {
   "cell_type": "code",
   "execution_count": null,
   "id": "8bd2e655-ace1-4324-8fc9-3602fb6f66b4",
   "metadata": {
    "tags": []
   },
   "outputs": [],
   "source": [
    "cfn = boto3.client(\"cloudformation\")\n",
    "\n",
    "for p in projects_to_delete:\n",
    "    for s in [\n",
    "            f\"sagemaker-{p['ProjectName']}-{p['ProjectId']}-deploy-staging\",\n",
    "            f\"sagemaker-{p['ProjectName']}-{p['ProjectId']}-deploy-prod\"\n",
    "            ]:\n",
    "        try:\n",
    "            print(f\"Delete CloudFormation stack: {s}\")\n",
    "            r = cfn.delete_stack(StackName=s)\n",
    "            print(r)\n",
    "            time.sleep(180)\n",
    "        except Exception as e:\n",
    "            print(f\"Exception in deleting {s}:{e}\")\n",
    "            pass"
   ]
  },
  {
   "cell_type": "markdown",
   "id": "8a789493-9f4f-4166-af29-e7c9c7bc0dfa",
   "metadata": {},
   "source": [
    "## Delete feature groups"
   ]
  },
  {
   "cell_type": "code",
   "execution_count": null,
   "id": "0b5a4915-a93e-4aff-a49e-e7d03c4e4066",
   "metadata": {
    "tags": []
   },
   "outputs": [],
   "source": [
    "feature_groups = sm.list_feature_groups(\n",
    "    FeatureGroupStatusEquals=\"Created\", \n",
    "    SortOrder=\"Descending\", \n",
    "    SortBy=\"CreationTime\"\n",
    ")[\"FeatureGroupSummaries\"]"
   ]
  },
  {
   "cell_type": "code",
   "execution_count": null,
   "id": "e5828c1d-3e23-4901-a2db-e06c339a063c",
   "metadata": {
    "tags": []
   },
   "outputs": [],
   "source": [
    "feature_groups"
   ]
  },
  {
   "cell_type": "code",
   "execution_count": null,
   "id": "7687f016-af8b-405f-ae56-fe5ed7e9d9c0",
   "metadata": {
    "tags": []
   },
   "outputs": [],
   "source": [
    "feature_groups_to_delete = []\n",
    "\n",
    "for fg in feature_groups:\n",
    "    print(f\"Você tem certeza de que deseja deletar este grupo de features: {fg['FeatureGroupName']}? (y/n)\")\n",
    "    choice = input()\n",
    "    if choice == 'y':\n",
    "        feature_groups_to_delete.append(fg[\"FeatureGroupName\"])\n",
    "        \n",
    "print(f\"********************************************\")\n",
    "print(f\"Os seguintes grupos de features serão deletados:\\n{json.dumps(feature_groups_to_delete, indent=2)}\")\n",
    "print(f\"********************************************\")\n"
   ]
  },
  {
   "cell_type": "code",
   "execution_count": null,
   "id": "8ecee078-f3be-43eb-abcc-84bf19ec613d",
   "metadata": {
    "tags": []
   },
   "outputs": [],
   "source": [
    "def delete_offline_store(feature_group_name: str):\n",
    "    try:\n",
    "        offline_store_config = sm.describe_feature_group(FeatureGroupName=feature_group_name)['OfflineStoreConfig']\n",
    "\n",
    "    except Exception:\n",
    "        print(f'O grupo de features: {feature_group_name} NÃO possui um armazenamento offline!')\n",
    "        return\n",
    "    \n",
    "    offline_store_s3_uri = offline_store_config['S3StorageConfig']['ResolvedOutputS3Uri']\n",
    "    print(f\"Todos os objetos do armazenamento de features sob {offline_store_s3_uri} serão deletados!\")\n",
    "    print(\"Você tem certeza de que deseja deletar esses objetos? (y/n)\")\n",
    "    \n",
    "    choice = input()\n",
    "    if choice == 'y':\n",
    "        !aws s3 rm {offline_store_s3_uri} --recursive\n"
   ]
  },
  {
   "cell_type": "markdown",
   "id": "8c671f1b-0505-4869-bf8c-a67b1bc43b76",
   "metadata": {},
   "source": [
    "<div class=\"alert alert-info\"> 💡 <strong>A próxima célula de código irá deletar os grupos de features selecionados!</strong>\n",
    "</div>"
   ]
  },
  {
   "cell_type": "code",
   "execution_count": null,
   "id": "63232110-e584-441a-a222-14a8a33607f9",
   "metadata": {
    "tags": []
   },
   "outputs": [],
   "source": [
    "for fg in feature_groups_to_delete:\n",
    "    print(f\"Deletando o grupo de características: {fg}\")\n",
    "    delete_offline_store(fg)\n",
    "    sm.delete_feature_group(FeatureGroupName=fg)\n"
   ]
  },
  {
   "cell_type": "markdown",
   "id": "1ec40f0d-4117-46f4-9580-325e560c3bfc",
   "metadata": {},
   "source": [
    "## Excluir os buckets S3 provisionados pelo projeto"
   ]
  },
  {
   "cell_type": "markdown",
   "id": "2ab7f9da-0a6e-47dd-8fdd-eabce5eab3c0",
   "metadata": {},
   "source": [
    "<div class=\"alert alert-info\"> 💡 <strong>A próxima célula de código irá deletar todos os buckets S3 criados por um projeto!</strong> Se você estiver em um workshop liderado por instrutor e usando uma conta AWS provisionada, pode não ser possível deletar nenhum bucket S3. Você pode parar aqui.\n",
    "</div>"
   ]
  },
  {
   "cell_type": "code",
   "execution_count": null,
   "id": "e3c4cecd-5577-41c2-8852-70a47b537456",
   "metadata": {
    "tags": []
   },
   "outputs": [],
   "source": [
    "print(f\"*****************************************************\")\n",
    "print(f\"Os seguintes buckets S3 serão removidos permanentemente!\")\n",
    "print(f\"*****************************************************\")\n",
    "for p in projects_to_delete:\n",
    "    print(f\"sagemaker-project-{p['ProjectId']}\")\n"
   ]
  },
  {
   "cell_type": "code",
   "execution_count": null,
   "id": "1a3b12f9-7ebe-49e5-b2c3-00e5492d471c",
   "metadata": {
    "tags": []
   },
   "outputs": [],
   "source": [
    "for p in projects_to_delete:\n",
    "    !aws s3 rb s3://sagemaker-project-{p['ProjectId']} --force "
   ]
  },
  {
   "cell_type": "markdown",
   "id": "c13a5843-9403-4e97-9eed-8c1a65d13cd0",
   "metadata": {},
   "source": [
    "## Remove endpoints de inferencia"
   ]
  },
  {
   "cell_type": "code",
   "execution_count": null,
   "id": "da7dbc12-5430-4bc1-a752-365d738f0323",
   "metadata": {
    "tags": []
   },
   "outputs": [],
   "source": [
    "endpoints = sm.list_endpoints()[\"Endpoints\"]"
   ]
  },
  {
   "cell_type": "code",
   "execution_count": null,
   "id": "7b911da4-0790-4339-bdc2-71d376f0a476",
   "metadata": {
    "tags": []
   },
   "outputs": [],
   "source": [
    "\n",
    "for ep in endpoints:\n",
    "    print(f\"Você tem certeza de que deseja deletar este endpoint: {ep['EndpointName']}? (y/n)\")\n",
    "    choice = input()\n",
    "    if choice == 'y':\n",
    "        endpoints_to_delete.append(ep['EndpointName'])\n",
    "        \n",
    "print(f\"*********** ESTES ENDPOINTS SERÃO DELETADOS ***********\")\n",
    "print('\\n'.join(endpoints_to_delete))\n",
    "print(f\"**\")\n",
    "*****************************************************\")"
   ]
  },
  {
   "cell_type": "code",
   "execution_count": null,
   "id": "8f1204c3-ef21-469a-8dfa-e75443114ab4",
   "metadata": {
    "tags": []
   },
   "outputs": [],
   "source": [
    "for ep in endpoints_to_delete:\n",
    "    try:\n",
    "        delete_mon_schedules(ep, sm)\n",
    "        time.sleep(10)\n",
    "        print(f\"Deletando o endpoint: {ep}: {sm.delete_endpoint(EndpointName=ep)}\")\n",
    "    except Exception as e:\n",
    "        print(f\"Exceção ao deletar {ep}: {e}\")\n",
    "        pass\n"
   ]
  },
  {
   "cell_type": "markdown",
   "id": "25a3796c-5f4b-4ded-afff-56f93ceea76c",
   "metadata": {},
   "source": [
    "## Remova os objetos relacionados ao projeto do bucket de dados do SageMaker S3"
   ]
  },
  {
   "cell_type": "markdown",
   "id": "2d0855e6-d12c-4306-9487-9123ba2faaae",
   "metadata": {},
   "source": [
    "<div class=\"alert alert-info\"> 💡 <strong>A próxima célula de código irá deletar todos os objetos sob os prefixos S3 especificados!</strong>\n",
    "</div>"
   ]
  },
  {
   "cell_type": "code",
   "execution_count": null,
   "id": "4607415d-50f9-4254-9e5e-2eab01153478",
   "metadata": {
    "tags": []
   },
   "outputs": [],
   "source": [
    "prefixes_to_delete = [\n",
    "    bucket_prefix,\n",
    "    #s3_fs_query_output_prefix\n",
    "]"
   ]
  },
  {
   "cell_type": "code",
   "execution_count": null,
   "id": "d8469318-1a62-42a9-b8cb-577aeabfb8d9",
   "metadata": {
    "tags": []
   },
   "outputs": [],
   "source": [
    "print(f\"************************************************************************\")\n",
    "print(f\"Todos os objetos sob os seguintes prefixos S3 serão removidos permanentemente!\")\n",
    "print(f\"************************************************************************\")\n",
    "for p in prefixes_to_delete:\n",
    "    print(f\"{bucket_name}/{p}\")\n"
   ]
  },
  {
   "cell_type": "markdown",
   "id": "d7b3d7c5-cf63-4182-a2d6-5c1a592b1c0a",
   "metadata": {},
   "source": [
    "<div class=\"alert alert-info\"> ❗ <strong> Double check the S3 prefix! All data under this prefix will be permanently deleted!</strong>\n",
    "</div>"
   ]
  },
  {
   "cell_type": "code",
   "execution_count": null,
   "id": "832f07d7-83e8-478d-ae0e-895933efae50",
   "metadata": {
    "tags": []
   },
   "outputs": [],
   "source": [
    "# Descomente o comando rm\n",
    "for p in prefixes_to_delete:\n",
    "    # !aws s3 rm s3://{bucket_name}/{p} --recursive\n",
    "    pass\n"
   ]
  },
  {
   "cell_type": "markdown",
   "id": "92df0597-823a-4598-b603-7516ebe2c817",
   "metadata": {},
   "source": [
    "## Delete servidor MLflow\n",
    "Uma vez criado, um servidor de rastreamento MLflow incorrerá custos até que você o delete ou pare. A cobrança pelos servidores de rastreamento é baseada na duração em que os servidores estiveram em funcionamento, no tamanho selecionado e na quantidade de dados registrados nos servidores de rastreamento.\n",
    "\n",
    "Você deve deletar todos os servidores de rastreamento MLFlow criados manualmente para evitar custos adicionais. "
   ]
  },
  {
   "cell_type": "markdown",
   "id": "1e10b8c7-b5b2-4f06-9ff4-236e4a9ceb55",
   "metadata": {},
   "source": [
    "<div class=\"alert alert-info\">Você não precisa deletar servidores de rastreamento MLflow e executar as células correspondentes se não criou nenhum servidor de rastreamento manualmente via UX ou API.</div>"
   ]
  },
  {
   "cell_type": "code",
   "execution_count": 15,
   "id": "29cc0137-fe96-4044-bdea-74662f7568ba",
   "metadata": {},
   "outputs": [
    {
     "name": "stdout",
     "output_type": "stream",
     "text": [
      "Are you sure you want to delete this MLflow tracking server: mlflow-server-d-1dklekwofndh? (y/n)\n"
     ]
    },
    {
     "name": "stdout",
     "output_type": "stream",
     "text": [
      " y\n"
     ]
    },
    {
     "name": "stdout",
     "output_type": "stream",
     "text": [
      "*********** THESE MLFLOW TRACKING SERVERS WILL BE DELETED ***********\n",
      "mlflow-server-d-1dklekwofndh\n",
      "**********************************************************************\n"
     ]
    }
   ],
   "source": [
    "# Encontrar todos os servidores de rastreamento MLflow ativos no domínio\n",
    "tracking_servers = sm.list_mlflow_tracking_servers(\n",
    "    TrackingServerStatus='Created',\n",
    ")['TrackingServerSummaries']\n",
    "\n",
    "ts_to_delete = []\n",
    "\n",
    "for ts in tracking_servers:\n",
    "    print(f\"Você tem certeza de que deseja deletar este servidor de rastreamento MLflow: {ts['TrackingServerName']}? (y/n)\")\n",
    "    choice = input()\n",
    "    if choice == 'y':\n",
    "        ts_to_delete.append(ts['TrackingServerName'])\n",
    "\n",
    "print(f\"*********** ESTES SERVIDORES DE RASTREAMENTO MLFLOW SERÃO DELETADOS ***********\")\n",
    "print('\\n'.join(ts_to_delete))\n",
    "print(f\"**********************************************************************\")\n"
   ]
  },
  {
   "cell_type": "code",
   "execution_count": 16,
   "id": "a4ad39db-8e55-42a0-8692-fd4d27a5b158",
   "metadata": {},
   "outputs": [
    {
     "name": "stdout",
     "output_type": "stream",
     "text": [
      "Deleting the MLflow tracking server: mlflow-server-d-1dklekwofndh\n"
     ]
    }
   ],
   "source": [
    "for ts in ts_to_delete:\n",
    "    try:\n",
    "        print(f\"Deletando o servidor de rastreamento MLflow: {ts}: {sm.delete_mlflow_tracking_server(ts)}\")\n",
    "    except Exception as e:\n",
    "        print(f\"Exceção ao deletar {ts}: {e}\")\n",
    "        pass\n"
   ]
  },
  {
   "cell_type": "markdown",
   "id": "a5e0fa4b-d598-4319-b621-58f0dc98ddb1",
   "metadata": {},
   "source": [
    "# Desligar o kernel\n",
    "="
   ]
  },
  {
   "cell_type": "code",
   "execution_count": null,
   "id": "c2c5e3ab-8c56-40ff-be8e-66c8dd3378cd",
   "metadata": {},
   "outputs": [],
   "source": [
    "%%html\n",
    "\n",
    "<p><b>Shutting down your kernel for this notebook to release resources.</b></p>\n",
    "<button class=\"sm-command-button\" data-commandlinker-command=\"kernelmenu:shutdown\" style=\"display:none;\">Shutdown Kernel</button>\n",
    "        \n",
    "<script>\n",
    "try {\n",
    "    els = document.getElementsByClassName(\"sm-command-button\");\n",
    "    els[0].click();\n",
    "}\n",
    "catch(err) {\n",
    "    // NoOp\n",
    "}    \n",
    "</script>"
   ]
  }
 ],
 "metadata": {
  "availableInstances": [
   {
    "_defaultOrder": 0,
    "_isFastLaunch": true,
    "category": "General purpose",
    "gpuNum": 0,
    "hideHardwareSpecs": false,
    "memoryGiB": 4,
    "name": "ml.t3.medium",
    "vcpuNum": 2
   },
   {
    "_defaultOrder": 1,
    "_isFastLaunch": false,
    "category": "General purpose",
    "gpuNum": 0,
    "hideHardwareSpecs": false,
    "memoryGiB": 8,
    "name": "ml.t3.large",
    "vcpuNum": 2
   },
   {
    "_defaultOrder": 2,
    "_isFastLaunch": false,
    "category": "General purpose",
    "gpuNum": 0,
    "hideHardwareSpecs": false,
    "memoryGiB": 16,
    "name": "ml.t3.xlarge",
    "vcpuNum": 4
   },
   {
    "_defaultOrder": 3,
    "_isFastLaunch": false,
    "category": "General purpose",
    "gpuNum": 0,
    "hideHardwareSpecs": false,
    "memoryGiB": 32,
    "name": "ml.t3.2xlarge",
    "vcpuNum": 8
   },
   {
    "_defaultOrder": 4,
    "_isFastLaunch": true,
    "category": "General purpose",
    "gpuNum": 0,
    "hideHardwareSpecs": false,
    "memoryGiB": 8,
    "name": "ml.m5.large",
    "vcpuNum": 2
   },
   {
    "_defaultOrder": 5,
    "_isFastLaunch": false,
    "category": "General purpose",
    "gpuNum": 0,
    "hideHardwareSpecs": false,
    "memoryGiB": 16,
    "name": "ml.m5.xlarge",
    "vcpuNum": 4
   },
   {
    "_defaultOrder": 6,
    "_isFastLaunch": false,
    "category": "General purpose",
    "gpuNum": 0,
    "hideHardwareSpecs": false,
    "memoryGiB": 32,
    "name": "ml.m5.2xlarge",
    "vcpuNum": 8
   },
   {
    "_defaultOrder": 7,
    "_isFastLaunch": false,
    "category": "General purpose",
    "gpuNum": 0,
    "hideHardwareSpecs": false,
    "memoryGiB": 64,
    "name": "ml.m5.4xlarge",
    "vcpuNum": 16
   },
   {
    "_defaultOrder": 8,
    "_isFastLaunch": false,
    "category": "General purpose",
    "gpuNum": 0,
    "hideHardwareSpecs": false,
    "memoryGiB": 128,
    "name": "ml.m5.8xlarge",
    "vcpuNum": 32
   },
   {
    "_defaultOrder": 9,
    "_isFastLaunch": false,
    "category": "General purpose",
    "gpuNum": 0,
    "hideHardwareSpecs": false,
    "memoryGiB": 192,
    "name": "ml.m5.12xlarge",
    "vcpuNum": 48
   },
   {
    "_defaultOrder": 10,
    "_isFastLaunch": false,
    "category": "General purpose",
    "gpuNum": 0,
    "hideHardwareSpecs": false,
    "memoryGiB": 256,
    "name": "ml.m5.16xlarge",
    "vcpuNum": 64
   },
   {
    "_defaultOrder": 11,
    "_isFastLaunch": false,
    "category": "General purpose",
    "gpuNum": 0,
    "hideHardwareSpecs": false,
    "memoryGiB": 384,
    "name": "ml.m5.24xlarge",
    "vcpuNum": 96
   },
   {
    "_defaultOrder": 12,
    "_isFastLaunch": false,
    "category": "General purpose",
    "gpuNum": 0,
    "hideHardwareSpecs": false,
    "memoryGiB": 8,
    "name": "ml.m5d.large",
    "vcpuNum": 2
   },
   {
    "_defaultOrder": 13,
    "_isFastLaunch": false,
    "category": "General purpose",
    "gpuNum": 0,
    "hideHardwareSpecs": false,
    "memoryGiB": 16,
    "name": "ml.m5d.xlarge",
    "vcpuNum": 4
   },
   {
    "_defaultOrder": 14,
    "_isFastLaunch": false,
    "category": "General purpose",
    "gpuNum": 0,
    "hideHardwareSpecs": false,
    "memoryGiB": 32,
    "name": "ml.m5d.2xlarge",
    "vcpuNum": 8
   },
   {
    "_defaultOrder": 15,
    "_isFastLaunch": false,
    "category": "General purpose",
    "gpuNum": 0,
    "hideHardwareSpecs": false,
    "memoryGiB": 64,
    "name": "ml.m5d.4xlarge",
    "vcpuNum": 16
   },
   {
    "_defaultOrder": 16,
    "_isFastLaunch": false,
    "category": "General purpose",
    "gpuNum": 0,
    "hideHardwareSpecs": false,
    "memoryGiB": 128,
    "name": "ml.m5d.8xlarge",
    "vcpuNum": 32
   },
   {
    "_defaultOrder": 17,
    "_isFastLaunch": false,
    "category": "General purpose",
    "gpuNum": 0,
    "hideHardwareSpecs": false,
    "memoryGiB": 192,
    "name": "ml.m5d.12xlarge",
    "vcpuNum": 48
   },
   {
    "_defaultOrder": 18,
    "_isFastLaunch": false,
    "category": "General purpose",
    "gpuNum": 0,
    "hideHardwareSpecs": false,
    "memoryGiB": 256,
    "name": "ml.m5d.16xlarge",
    "vcpuNum": 64
   },
   {
    "_defaultOrder": 19,
    "_isFastLaunch": false,
    "category": "General purpose",
    "gpuNum": 0,
    "hideHardwareSpecs": false,
    "memoryGiB": 384,
    "name": "ml.m5d.24xlarge",
    "vcpuNum": 96
   },
   {
    "_defaultOrder": 20,
    "_isFastLaunch": false,
    "category": "General purpose",
    "gpuNum": 0,
    "hideHardwareSpecs": true,
    "memoryGiB": 0,
    "name": "ml.geospatial.interactive",
    "supportedImageNames": [
     "sagemaker-geospatial-v1-0"
    ],
    "vcpuNum": 0
   },
   {
    "_defaultOrder": 21,
    "_isFastLaunch": true,
    "category": "Compute optimized",
    "gpuNum": 0,
    "hideHardwareSpecs": false,
    "memoryGiB": 4,
    "name": "ml.c5.large",
    "vcpuNum": 2
   },
   {
    "_defaultOrder": 22,
    "_isFastLaunch": false,
    "category": "Compute optimized",
    "gpuNum": 0,
    "hideHardwareSpecs": false,
    "memoryGiB": 8,
    "name": "ml.c5.xlarge",
    "vcpuNum": 4
   },
   {
    "_defaultOrder": 23,
    "_isFastLaunch": false,
    "category": "Compute optimized",
    "gpuNum": 0,
    "hideHardwareSpecs": false,
    "memoryGiB": 16,
    "name": "ml.c5.2xlarge",
    "vcpuNum": 8
   },
   {
    "_defaultOrder": 24,
    "_isFastLaunch": false,
    "category": "Compute optimized",
    "gpuNum": 0,
    "hideHardwareSpecs": false,
    "memoryGiB": 32,
    "name": "ml.c5.4xlarge",
    "vcpuNum": 16
   },
   {
    "_defaultOrder": 25,
    "_isFastLaunch": false,
    "category": "Compute optimized",
    "gpuNum": 0,
    "hideHardwareSpecs": false,
    "memoryGiB": 72,
    "name": "ml.c5.9xlarge",
    "vcpuNum": 36
   },
   {
    "_defaultOrder": 26,
    "_isFastLaunch": false,
    "category": "Compute optimized",
    "gpuNum": 0,
    "hideHardwareSpecs": false,
    "memoryGiB": 96,
    "name": "ml.c5.12xlarge",
    "vcpuNum": 48
   },
   {
    "_defaultOrder": 27,
    "_isFastLaunch": false,
    "category": "Compute optimized",
    "gpuNum": 0,
    "hideHardwareSpecs": false,
    "memoryGiB": 144,
    "name": "ml.c5.18xlarge",
    "vcpuNum": 72
   },
   {
    "_defaultOrder": 28,
    "_isFastLaunch": false,
    "category": "Compute optimized",
    "gpuNum": 0,
    "hideHardwareSpecs": false,
    "memoryGiB": 192,
    "name": "ml.c5.24xlarge",
    "vcpuNum": 96
   },
   {
    "_defaultOrder": 29,
    "_isFastLaunch": true,
    "category": "Accelerated computing",
    "gpuNum": 1,
    "hideHardwareSpecs": false,
    "memoryGiB": 16,
    "name": "ml.g4dn.xlarge",
    "vcpuNum": 4
   },
   {
    "_defaultOrder": 30,
    "_isFastLaunch": false,
    "category": "Accelerated computing",
    "gpuNum": 1,
    "hideHardwareSpecs": false,
    "memoryGiB": 32,
    "name": "ml.g4dn.2xlarge",
    "vcpuNum": 8
   },
   {
    "_defaultOrder": 31,
    "_isFastLaunch": false,
    "category": "Accelerated computing",
    "gpuNum": 1,
    "hideHardwareSpecs": false,
    "memoryGiB": 64,
    "name": "ml.g4dn.4xlarge",
    "vcpuNum": 16
   },
   {
    "_defaultOrder": 32,
    "_isFastLaunch": false,
    "category": "Accelerated computing",
    "gpuNum": 1,
    "hideHardwareSpecs": false,
    "memoryGiB": 128,
    "name": "ml.g4dn.8xlarge",
    "vcpuNum": 32
   },
   {
    "_defaultOrder": 33,
    "_isFastLaunch": false,
    "category": "Accelerated computing",
    "gpuNum": 4,
    "hideHardwareSpecs": false,
    "memoryGiB": 192,
    "name": "ml.g4dn.12xlarge",
    "vcpuNum": 48
   },
   {
    "_defaultOrder": 34,
    "_isFastLaunch": false,
    "category": "Accelerated computing",
    "gpuNum": 1,
    "hideHardwareSpecs": false,
    "memoryGiB": 256,
    "name": "ml.g4dn.16xlarge",
    "vcpuNum": 64
   },
   {
    "_defaultOrder": 35,
    "_isFastLaunch": false,
    "category": "Accelerated computing",
    "gpuNum": 1,
    "hideHardwareSpecs": false,
    "memoryGiB": 61,
    "name": "ml.p3.2xlarge",
    "vcpuNum": 8
   },
   {
    "_defaultOrder": 36,
    "_isFastLaunch": false,
    "category": "Accelerated computing",
    "gpuNum": 4,
    "hideHardwareSpecs": false,
    "memoryGiB": 244,
    "name": "ml.p3.8xlarge",
    "vcpuNum": 32
   },
   {
    "_defaultOrder": 37,
    "_isFastLaunch": false,
    "category": "Accelerated computing",
    "gpuNum": 8,
    "hideHardwareSpecs": false,
    "memoryGiB": 488,
    "name": "ml.p3.16xlarge",
    "vcpuNum": 64
   },
   {
    "_defaultOrder": 38,
    "_isFastLaunch": false,
    "category": "Accelerated computing",
    "gpuNum": 8,
    "hideHardwareSpecs": false,
    "memoryGiB": 768,
    "name": "ml.p3dn.24xlarge",
    "vcpuNum": 96
   },
   {
    "_defaultOrder": 39,
    "_isFastLaunch": false,
    "category": "Memory Optimized",
    "gpuNum": 0,
    "hideHardwareSpecs": false,
    "memoryGiB": 16,
    "name": "ml.r5.large",
    "vcpuNum": 2
   },
   {
    "_defaultOrder": 40,
    "_isFastLaunch": false,
    "category": "Memory Optimized",
    "gpuNum": 0,
    "hideHardwareSpecs": false,
    "memoryGiB": 32,
    "name": "ml.r5.xlarge",
    "vcpuNum": 4
   },
   {
    "_defaultOrder": 41,
    "_isFastLaunch": false,
    "category": "Memory Optimized",
    "gpuNum": 0,
    "hideHardwareSpecs": false,
    "memoryGiB": 64,
    "name": "ml.r5.2xlarge",
    "vcpuNum": 8
   },
   {
    "_defaultOrder": 42,
    "_isFastLaunch": false,
    "category": "Memory Optimized",
    "gpuNum": 0,
    "hideHardwareSpecs": false,
    "memoryGiB": 128,
    "name": "ml.r5.4xlarge",
    "vcpuNum": 16
   },
   {
    "_defaultOrder": 43,
    "_isFastLaunch": false,
    "category": "Memory Optimized",
    "gpuNum": 0,
    "hideHardwareSpecs": false,
    "memoryGiB": 256,
    "name": "ml.r5.8xlarge",
    "vcpuNum": 32
   },
   {
    "_defaultOrder": 44,
    "_isFastLaunch": false,
    "category": "Memory Optimized",
    "gpuNum": 0,
    "hideHardwareSpecs": false,
    "memoryGiB": 384,
    "name": "ml.r5.12xlarge",
    "vcpuNum": 48
   },
   {
    "_defaultOrder": 45,
    "_isFastLaunch": false,
    "category": "Memory Optimized",
    "gpuNum": 0,
    "hideHardwareSpecs": false,
    "memoryGiB": 512,
    "name": "ml.r5.16xlarge",
    "vcpuNum": 64
   },
   {
    "_defaultOrder": 46,
    "_isFastLaunch": false,
    "category": "Memory Optimized",
    "gpuNum": 0,
    "hideHardwareSpecs": false,
    "memoryGiB": 768,
    "name": "ml.r5.24xlarge",
    "vcpuNum": 96
   },
   {
    "_defaultOrder": 47,
    "_isFastLaunch": false,
    "category": "Accelerated computing",
    "gpuNum": 1,
    "hideHardwareSpecs": false,
    "memoryGiB": 16,
    "name": "ml.g5.xlarge",
    "vcpuNum": 4
   },
   {
    "_defaultOrder": 48,
    "_isFastLaunch": false,
    "category": "Accelerated computing",
    "gpuNum": 1,
    "hideHardwareSpecs": false,
    "memoryGiB": 32,
    "name": "ml.g5.2xlarge",
    "vcpuNum": 8
   },
   {
    "_defaultOrder": 49,
    "_isFastLaunch": false,
    "category": "Accelerated computing",
    "gpuNum": 1,
    "hideHardwareSpecs": false,
    "memoryGiB": 64,
    "name": "ml.g5.4xlarge",
    "vcpuNum": 16
   },
   {
    "_defaultOrder": 50,
    "_isFastLaunch": false,
    "category": "Accelerated computing",
    "gpuNum": 1,
    "hideHardwareSpecs": false,
    "memoryGiB": 128,
    "name": "ml.g5.8xlarge",
    "vcpuNum": 32
   },
   {
    "_defaultOrder": 51,
    "_isFastLaunch": false,
    "category": "Accelerated computing",
    "gpuNum": 1,
    "hideHardwareSpecs": false,
    "memoryGiB": 256,
    "name": "ml.g5.16xlarge",
    "vcpuNum": 64
   },
   {
    "_defaultOrder": 52,
    "_isFastLaunch": false,
    "category": "Accelerated computing",
    "gpuNum": 4,
    "hideHardwareSpecs": false,
    "memoryGiB": 192,
    "name": "ml.g5.12xlarge",
    "vcpuNum": 48
   },
   {
    "_defaultOrder": 53,
    "_isFastLaunch": false,
    "category": "Accelerated computing",
    "gpuNum": 4,
    "hideHardwareSpecs": false,
    "memoryGiB": 384,
    "name": "ml.g5.24xlarge",
    "vcpuNum": 96
   },
   {
    "_defaultOrder": 54,
    "_isFastLaunch": false,
    "category": "Accelerated computing",
    "gpuNum": 8,
    "hideHardwareSpecs": false,
    "memoryGiB": 768,
    "name": "ml.g5.48xlarge",
    "vcpuNum": 192
   },
   {
    "_defaultOrder": 55,
    "_isFastLaunch": false,
    "category": "Accelerated computing",
    "gpuNum": 8,
    "hideHardwareSpecs": false,
    "memoryGiB": 1152,
    "name": "ml.p4d.24xlarge",
    "vcpuNum": 96
   },
   {
    "_defaultOrder": 56,
    "_isFastLaunch": false,
    "category": "Accelerated computing",
    "gpuNum": 8,
    "hideHardwareSpecs": false,
    "memoryGiB": 1152,
    "name": "ml.p4de.24xlarge",
    "vcpuNum": 96
   },
   {
    "_defaultOrder": 57,
    "_isFastLaunch": false,
    "category": "Accelerated computing",
    "gpuNum": 0,
    "hideHardwareSpecs": false,
    "memoryGiB": 32,
    "name": "ml.trn1.2xlarge",
    "vcpuNum": 8
   },
   {
    "_defaultOrder": 58,
    "_isFastLaunch": false,
    "category": "Accelerated computing",
    "gpuNum": 0,
    "hideHardwareSpecs": false,
    "memoryGiB": 512,
    "name": "ml.trn1.32xlarge",
    "vcpuNum": 128
   },
   {
    "_defaultOrder": 59,
    "_isFastLaunch": false,
    "category": "Accelerated computing",
    "gpuNum": 0,
    "hideHardwareSpecs": false,
    "memoryGiB": 512,
    "name": "ml.trn1n.32xlarge",
    "vcpuNum": 128
   }
  ],
  "instance_type": "ml.t3.medium",
  "kernelspec": {
   "display_name": "Python 3 (ipykernel)",
   "language": "python",
   "name": "python3"
  },
  "language_info": {
   "codemirror_mode": {
    "name": "ipython",
    "version": 3
   },
   "file_extension": ".py",
   "mimetype": "text/x-python",
   "name": "python",
   "nbconvert_exporter": "python",
   "pygments_lexer": "ipython3",
   "version": "3.10.14"
  }
 },
 "nbformat": 4,
 "nbformat_minor": 5
}
