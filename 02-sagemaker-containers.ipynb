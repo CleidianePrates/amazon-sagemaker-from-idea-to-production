{
 "cells": [
  {
   "cell_type": "markdown",
   "id": "e6b39bb5-1408-45ab-af98-fa786ce6d55f",
   "metadata": {},
   "source": [
    "# Passo 2: Adicionar jobs de processamento e treinamento do SageMaker\n",
    "Neste passo, você move o processamento de dados e o treinamento do modelo para [contêineres Docker do SageMaker](https://docs.aws.amazon.com/sagemaker/latest/dg/docker-containers.html) e usa o [SDK Python do SageMaker](https://sagemaker.readthedocs.io/en/stable/index.html) para interagir com o SageMaker.\n",
    "\n",
    "![](img/seis-etapas-2.png)\n",
    "\n",
    "O SageMaker utiliza contêineres Docker para permitir que os desenvolvedores processem dados, treinem e implantem modelos. Os contêineres permitem que desenvolvedores e cientistas de dados empacotem software em unidades padronizadas que rodam consistentemente em qualquer plataforma que suporte Docker. Os contêineres garantem que o código, o ambiente de execução, as ferramentas do sistema, as bibliotecas do sistema e as configurações estejam todos no mesmo lugar, isolando-os do ambiente de execução. Isso garante uma experiência de execução consistente, independentemente de onde um contêiner esteja sendo executado.\n",
    "\n",
    "O SageMaker também fornece contêineres pré-construídos com frameworks populares de processamento de dados e algoritmos de ML. Todos os algoritmos integrados do SageMaker são entregues como contêineres Docker."
   ]
  },
  {
   "cell_type": "markdown",
   "id": "ffd00ea7",
   "metadata": {},
   "source": [
    "<div class=\"alert alert-info\"> Certifique-se de que você está usando o kernel <code>Python 3</code> no JupyterLab para este notebook.</div>"
   ]
  },
  {
   "cell_type": "code",
   "execution_count": 2,
   "id": "4539fb8f",
   "metadata": {},
   "outputs": [
    {
     "name": "stdout",
     "output_type": "stream",
     "text": [
      "sagemaker.config INFO - Not applying SDK defaults from location: /etc/xdg/sagemaker/config.yaml\n",
      "sagemaker.config INFO - Fetched defaults config from location: /home/sagemaker-user/.config/sagemaker/config.yaml\n"
     ]
    },
    {
     "data": {
      "text/plain": [
       "'2.232.2'"
      ]
     },
     "execution_count": 2,
     "metadata": {},
     "output_type": "execute_result"
    }
   ],
   "source": [
    "import time\n",
    "import boto3\n",
    "import botocore\n",
    "import numpy as np  \n",
    "import pandas as pd  \n",
    "import sagemaker\n",
    "import os\n",
    "import mlflow\n",
    "from time import gmtime, strftime, sleep\n",
    "from sagemaker.processing import FrameworkProcessor, ProcessingInput, ProcessingOutput\n",
    "from sagemaker.sklearn.estimator import SKLearn\n",
    "from sklearn.metrics import roc_auc_score\n",
    "from mlflow import MlflowClient\n",
    "\n",
    "sagemaker.__version__"
   ]
  },
  {
   "cell_type": "code",
   "execution_count": 3,
   "id": "d15b8f50",
   "metadata": {},
   "outputs": [
    {
     "name": "stdout",
     "output_type": "stream",
     "text": [
      "Stored variables and their in-db values:\n",
      "baseline_s3_url                        -> 's3://sagemaker-us-east-1-533267005474/from-idea-t\n",
      "bucket_name                            -> 'sagemaker-us-east-1-533267005474'\n",
      "bucket_prefix                          -> 'from-idea-to-prod/xgboost'\n",
      "dataset_file_local_path                -> 'data/bank-additional/bank-additional-full.csv'\n",
      "domain_id                              -> 'd-j2g52sky4w9s'\n",
      "evaluation_s3_url                      -> 's3://sagemaker-us-east-1-533267005474/from-idea-t\n",
      "experiment_name                        -> 'from-idea-to-prod-experiment-14-17-01-59'\n",
      "initialized                            -> True\n",
      "input_s3_url                           -> 's3://sagemaker-us-east-1-533267005474/from-idea-t\n",
      "mlflow_arn                             -> 'arn:aws:sagemaker:us-east-1:533267005474:mlflow-t\n",
      "mlflow_name                            -> 'mlflow-d-j2g52sky4w9s-14-22-19-50'\n",
      "model_package_group_name               -> 'from-idea-to-prod-pipeline-model-14-22-35-21'\n",
      "output_s3_url                          -> 's3://sagemaker-us-east-1-533267005474/from-idea-t\n",
      "pipeline_name                          -> 'from-idea-to-prod-pipeline-14-22-35-21'\n",
      "prediction_baseline_s3_url             -> 's3://sagemaker-us-east-1-533267005474/from-idea-t\n",
      "region                                 -> 'us-east-1'\n",
      "sm_role                                -> 'arn:aws:iam::533267005474:role/service-role/Amazo\n",
      "space_name                             -> 'MLOpsCodeSpace'\n",
      "target_col                             -> 'y'\n",
      "test_s3_url                            -> 's3://sagemaker-us-east-1-533267005474/from-idea-t\n",
      "train_s3_url                           -> 's3://sagemaker-us-east-1-533267005474/from-idea-t\n",
      "training_job_name                      -> 'from-idea-to-prod-training-2024-10-14-17-28-46-79\n",
      "user_profile_name                      -> 'default-20241011T175458'\n",
      "validation_s3_url                      -> 's3://sagemaker-us-east-1-533267005474/from-idea-t\n"
     ]
    }
   ],
   "source": [
    "%store -r \n",
    "\n",
    "%store\n",
    "\n",
    "try:\n",
    "    initialized\n",
    "except NameError:\n",
    "    print(\"+++++++++++++++++++++++++++++++++++++++++++++++++\")\n",
    "    print(\"[ERRO] VOCÊ PRECISA EXECUTAR o notebook 00-inicie-aqui\")\n",
    "    print(\"+++++++++++++++++++++++++++++++++++++++++++++++++\")\n"
   ]
  },
  {
   "cell_type": "code",
   "execution_count": 4,
   "id": "5214e551-4800-47c2-9eae-337f4fc5ed7f",
   "metadata": {
    "tags": []
   },
   "outputs": [],
   "source": [
    "session = sagemaker.Session()\n",
    "sm = session.sagemaker_client"
   ]
  },
  {
   "cell_type": "markdown",
   "id": "d5beedac-1847-47eb-b294-5eac2ecaa7ef",
   "metadata": {},
   "source": [
    "## Preparar um experimento MLflow\n",
    "Reutilize o experimento existente que criamos no notebook anterior. Você vai rastrear novas execuções no mesmo experimento.\n",
    "Você também pode criar um novo experimento para rastrear as execuções neste notebook – neste caso, basta descomentar a célula de código a seguir."
   ]
  },
  {
   "cell_type": "code",
   "execution_count": 13,
   "id": "2d71279f-dca1-4c0f-b073-00f0b5ebf0e5",
   "metadata": {},
   "outputs": [],
   "source": [
    "experiment_suffix = strftime('%d-%H-%M-%S', gmtime())\n",
    "registered_model_name = f\"from-idea-to-prod-job-model-{experiment_suffix}\""
   ]
  },
  {
   "cell_type": "code",
   "execution_count": 14,
   "id": "9e798262-7ee3-45e8-86b0-da6ff1cf9a61",
   "metadata": {
    "tags": []
   },
   "outputs": [],
   "source": [
    "\n",
    "# Descomente o bloco de código (Cmd + /) se você quiser criar um novo experimento\n",
    "\n",
    "experiment_name = f\"from-idea-to-prod-experiment-{experiment_suffix}\""
   ]
  },
  {
   "cell_type": "code",
   "execution_count": 15,
   "id": "cbe31cd6",
   "metadata": {},
   "outputs": [
    {
     "name": "stderr",
     "output_type": "stream",
     "text": [
      "2024/10/14 22:55:43 INFO mlflow.tracking.fluent: Experiment with name 'from-idea-to-prod-experiment-14-22-55-42' does not exist. Creating a new experiment.\n"
     ]
    }
   ],
   "source": [
    "mlflow.set_tracking_uri(mlflow_arn)\n",
    "experiment = mlflow.set_experiment(experiment_name=experiment_name)"
   ]
  },
  {
   "cell_type": "markdown",
   "id": "2b39c88c-6aed-47b4-8048-a27f35444e10",
   "metadata": {},
   "source": [
    "## Processar dados com jobs de processamento do SageMaker\n",
    "Use o [SageMaker Processing](https://docs.aws.amazon.com/sagemaker/latest/dg/processing-job.html) simplesmente fornecendo um script Python de pré-processamento de dados e escolhendo uma classe [processador do SDK do SageMaker](https://sagemaker.readthedocs.io/en/stable/amazon_sagemaker_processing.html).\n",
    "Você deve fazer upload dos dados de entrada para o S3 e especificar uma localização no S3 para os dados de saída. O SageMaker Processing carrega automaticamente os dados de entrada do S3 e faz upload dos dados transformados de volta para o S3 quando o job é concluído. A imagem do contêiner de processamento pode ser uma imagem integrada do Amazon SageMaker ou uma imagem personalizada que você fornece. A infraestrutura subjacente para um job de Processamento é totalmente gerenciada pelo Amazon SageMaker. Os recursos do cluster são provisionados durante a duração do seu job e limpos quando um job é concluído."
   ]
  },
  {
   "cell_type": "markdown",
   "id": "31b4f1fe-ef68-4151-8d7d-28269e39b68a",
   "metadata": {},
   "source": [
    "Seus dados de entrada devem estar armazenados em um bucket do Amazon S3. Alternativamente, você pode usar [Amazon Athena](https://sagemaker.readthedocs.io/en/stable/api/utility/inputs.html#sagemaker.dataset_definition.inputs.AthenaDatasetDefinition) ou [Amazon Redshift](https://sagemaker.readthedocs.io/en/stable/api/utility/inputs.html#sagemaker.dataset_definition.inputs.AthenaDatasetDefinition) como fontes de entrada.\n",
    "\n",
    "Faça o upload do conjunto de dados de entrada para um bucket do Amazon S3:"
   ]
  },
  {
   "cell_type": "code",
   "execution_count": 16,
   "id": "f39db5dc",
   "metadata": {},
   "outputs": [
    {
     "name": "stdout",
     "output_type": "stream",
     "text": [
      "Stored 'input_s3_url' (str)\n"
     ]
    }
   ],
   "source": [
    "input_s3_url = session.upload_data(\n",
    "    path=\"data/bank-additional/bank-additional-full.csv\",\n",
    "    bucket=bucket_name,\n",
    "    key_prefix=f\"{bucket_prefix}/input\"\n",
    ")\n",
    "\n",
    "%store input_s3_url"
   ]
  },
  {
   "cell_type": "code",
   "execution_count": 17,
   "id": "118099a1-e789-435e-a309-4dd9043f219d",
   "metadata": {
    "tags": []
   },
   "outputs": [],
   "source": [
    "# !aws s3 ls {bucket_name}/{bucket_prefix} --recursive"
   ]
  },
  {
   "cell_type": "markdown",
   "id": "8172a970-448a-4684-81b0-dc01978112d1",
   "metadata": {},
   "source": [
    "### Executar script de processamento em um contêiner Framework do SageMaker\n",
    "Você começa executando seu script de processamento de dados em um contêiner gerenciado pré-construído do SageMaker."
   ]
  },
  {
   "cell_type": "markdown",
   "id": "7babd5da-715d-47e7-9a5e-fa88296e8af7",
   "metadata": {},
   "source": [
    "<div class=\"alert alert-info\"> Como você está usando MLflow no script de processamento, você precisa fornecer um arquivo <code>requirements.txt</code> para que o contêiner instale o MLflow e o plugin MLflow SageMaker antes de executar o script de processamento.</div>"
   ]
  },
  {
   "cell_type": "code",
   "execution_count": 18,
   "id": "06f231dc-e97c-4cf7-b81a-8f415ac77c14",
   "metadata": {},
   "outputs": [],
   "source": [
    "dependencies_dir=\"./processing/requirements/\"\n",
    "%mkdir -p processing\n",
    "%mkdir -p {dependencies_dir}"
   ]
  },
  {
   "cell_type": "code",
   "execution_count": 19,
   "id": "0f08051e-8c64-42d7-9b74-24db11146e0d",
   "metadata": {},
   "outputs": [
    {
     "name": "stdout",
     "output_type": "stream",
     "text": [
      "Writing ./processing/requirements/requirements.txt\n"
     ]
    }
   ],
   "source": [
    "%%writefile {dependencies_dir}requirements.txt\n",
    "mlflow==2.13.2\n",
    "sagemaker-mlflow==0.1.0"
   ]
  },
  {
   "cell_type": "markdown",
   "id": "a547ea17-c14a-41b4-a0d8-26164cf24615",
   "metadata": {},
   "source": [
    "Crie um script Python movendo o código de processamento de dados do notebook do passo 1 para um arquivo .py e adicionando o rastreamento de experimentos com MLflow:"
   ]
  },
  {
   "cell_type": "code",
   "execution_count": 20,
   "id": "25f6f89d-c9fa-4432-bf3e-5cc21aeb2e6f",
   "metadata": {
    "tags": []
   },
   "outputs": [
    {
     "name": "stdout",
     "output_type": "stream",
     "text": [
      "Writing processing/preprocessing.py\n"
     ]
    }
   ],
   "source": [
    "%%writefile processing/preprocessing.py\n",
    "\n",
    "from sklearn.preprocessing import MinMaxScaler, LabelEncoder\n",
    "import pandas as pd\n",
    "import numpy as np\n",
    "import argparse\n",
    "import os\n",
    "\n",
    "from time import gmtime, strftime, sleep\n",
    "import traceback\n",
    "\n",
    "import mlflow\n",
    "\n",
    "user_profile_name = os.getenv('USER')\n",
    "\n",
    "def _parse_args():\n",
    "    \n",
    "    parser = argparse.ArgumentParser()\n",
    "    # Diretórios de dados, modelo e saída\n",
    "    # model_dir é sempre passado pelo SageMaker. Por padrão, este é um caminho S3 no bucket padrão.\n",
    "    parser.add_argument('--filepath', type=str, default='/opt/ml/processing/input/')\n",
    "    parser.add_argument('--filename', type=str, default='bank-additional-full.csv')\n",
    "    parser.add_argument('--outputpath', type=str, default='/opt/ml/processing/output/')\n",
    "    \n",
    "    return parser.parse_known_args()\n",
    "\n",
    "def process_data(df_data):\n",
    "    # Variável indicadora para capturar quando pdays assume um valor de 999\n",
    "    df_data[\"no_previous_contact\"] = np.where(df_data[\"pdays\"] == 999, 1, 0)\n",
    "\n",
    "    # Indicador para indivíduos não ativamente empregados\n",
    "    df_data[\"not_working\"] = np.where(\n",
    "        np.in1d(df_data[\"job\"], [\"student\", \"retired\", \"unemployed\"]), 1, 0\n",
    "    )\n",
    "\n",
    "    # remover dados desnecessários\n",
    "    df_model_data = df_data.drop(\n",
    "        [\"duration\", \"emp.var.rate\", \"cons.price.idx\", \"cons.conf.idx\", \"euribor3m\", \"nr.employed\"],\n",
    "        axis=1,\n",
    "    )\n",
    "\n",
    "    bins = [18, 30, 40, 50, 60, 70, 90]\n",
    "    labels = ['18-29', '30-39', '40-49', '50-59', '60-69', '70-plus']\n",
    "\n",
    "    df_model_data['age_range'] = pd.cut(df_model_data.age, bins, labels=labels, include_lowest=True)\n",
    "    df_model_data = pd.concat([df_model_data, pd.get_dummies(df_model_data['age_range'], prefix='age', dtype=int)], axis=1)\n",
    "    df_model_data.drop('age', axis=1, inplace=True)\n",
    "    df_model_data.drop('age_range', axis=1, inplace=True)\n",
    "\n",
    "    scaled_features = ['pdays', 'previous', 'campaign']\n",
    "    df_model_data[scaled_features] = MinMaxScaler().fit_transform(df_model_data[scaled_features])\n",
    "\n",
    "    df_model_data = pd.get_dummies(df_model_data, dtype=int)  # Converter variáveis categóricas em conjuntos de indicadores\n",
    "\n",
    "\n",
    "    # Substitua “y_no” e “y_yes” por uma única coluna de rótulo e traga-a para a frente:\n",
    "    df_model_data = pd.concat(\n",
    "        [\n",
    "            df_model_data[\"y_yes\"].rename(target_col),\n",
    "            df_model_data.drop([\"y_no\", \"y_yes\"], axis=1),\n",
    "        ],\n",
    "        axis=1,\n",
    "    )\n",
    "    \n",
    "    return df_model_data\n",
    "\n",
    "if __name__==\"__main__\":\n",
    "    # Processa argumentos\n",
    "    args, _ = _parse_args()\n",
    "    \n",
    "    target_col = \"y\"\n",
    "\n",
    "    # Defina o URI do servidor de rastreamento usando o ARN do servidor de rastreamento que você criou\n",
    "    mlflow.set_tracking_uri(os.environ['MLFLOW_TRACKING_ARN'])\n",
    "    \n",
    "    # Habilitar o autologging no MLflow\n",
    "    mlflow.autolog()\n",
    "\n",
    "    # Use o run_id ativo para registrar \n",
    "    with mlflow.start_run(run_id=os.environ['MLFLOW_RUN_ID']) as run:\n",
    "        # processa os dados\n",
    "        df_model_data = process_data(pd.read_csv(os.path.join(args.filepath, args.filename), sep=\";\"))\n",
    "    \n",
    "        # Embaralhar e dividir o conjunto de dados\n",
    "        train_data, validation_data, test_data = np.split(\n",
    "            df_model_data.sample(frac=1, random_state=1729),\n",
    "            [int(0.7 * len(df_model_data)), int(0.9 * len(df_model_data))],\n",
    "        )\n",
    "    \n",
    "        print(f\"Data split > train:{train_data.shape} | validation:{validation_data.shape} | test:{test_data.shape}\")\n",
    "        mlflow.log_params(\n",
    "            {\n",
    "                \"train\": train_data.shape,\n",
    "                \"validate\": validation_data.shape,\n",
    "                \"test\": test_data.shape\n",
    "            }\n",
    "        )\n",
    "\n",
    "        mlflow.set_tags(\n",
    "            {\n",
    "                'mlflow.user':user_profile_name,\n",
    "                'mlflow.source.type':'JOB'\n",
    "            }\n",
    "        )\n",
    "        \n",
    "        # Salvar conjuntos de dados localmente\n",
    "        train_data.to_csv(os.path.join(args.outputpath, 'train/train.csv'), index=False, header=False)\n",
    "        validation_data.to_csv(os.path.join(args.outputpath, 'validation/validation.csv'), index=False, header=False)\n",
    "        test_data[target_col].to_csv(os.path.join(args.outputpath, 'test/test_y.csv'), index=False, header=False)\n",
    "        test_data.drop([target_col], axis=1).to_csv(os.path.join(args.outputpath, 'test/test_x.csv'), index=False, header=False)\n",
    "        \n",
    "        # Salvar o conjunto de dados de baseline para monitoramento do modelo\n",
    "        df_model_data.drop([target_col], axis=1).to_csv(os.path.join(args.outputpath, 'baseline/baseline.csv'), index=False, header=False)\n",
    "\n",
    "        mlflow.log_artifact(local_path=os.path.join(args.outputpath, 'baseline/baseline.csv'))\n",
    "    \n",
    "    print(\"## Processing complete. Exiting.\")"
   ]
  },
  {
   "cell_type": "markdown",
   "id": "317a90ba-5610-43fb-a39c-6eae4e2b6691",
   "metadata": {},
   "source": [
    "O script de processamento contém uma instrução para salvar o conjunto de dados completo sem o cabeçalho e a coluna de rótulo como um conjunto de dados de linha de base. Você precisará da linha de base de dados mais tarde no notebook de monitoramento do modelo."
   ]
  },
  {
   "cell_type": "markdown",
   "id": "70ee5a09-46fd-4d7a-9037-9b6247a1f21d",
   "metadata": {},
   "source": [
    "Defina os caminhos do Amazon S3:"
   ]
  },
  {
   "cell_type": "code",
   "execution_count": 21,
   "id": "54fa1abd-c0ae-4e55-901c-7250c227ccbb",
   "metadata": {
    "tags": []
   },
   "outputs": [],
   "source": [
    "train_s3_url = f\"s3://{bucket_name}/{bucket_prefix}/train\"\n",
    "validation_s3_url = f\"s3://{bucket_name}/{bucket_prefix}/validation\"\n",
    "test_s3_url = f\"s3://{bucket_name}/{bucket_prefix}/test\"\n",
    "baseline_s3_url = f\"s3://{bucket_name}/{bucket_prefix}/baseline\""
   ]
  },
  {
   "cell_type": "code",
   "execution_count": 22,
   "id": "ed6a2d8e-acde-48a8-9f12-a1cd0d703a41",
   "metadata": {
    "tags": []
   },
   "outputs": [
    {
     "name": "stdout",
     "output_type": "stream",
     "text": [
      "Stored 'train_s3_url' (str)\n",
      "Stored 'validation_s3_url' (str)\n",
      "Stored 'test_s3_url' (str)\n",
      "Stored 'baseline_s3_url' (str)\n"
     ]
    }
   ],
   "source": [
    "%store train_s3_url\n",
    "%store validation_s3_url\n",
    "%store test_s3_url\n",
    "%store baseline_s3_url"
   ]
  },
  {
   "cell_type": "markdown",
   "id": "03762d62-0f9c-4766-8f5e-d554bfc8437c",
   "metadata": {},
   "source": [
    "Defina a versão do framework e o tipo e número de instâncias de computação:"
   ]
  },
  {
   "cell_type": "code",
   "execution_count": 23,
   "id": "b93215af-1524-43d0-b08b-ab265936ec2a",
   "metadata": {
    "tags": []
   },
   "outputs": [],
   "source": [
    "skprocessor_framework_version = \"1.2-1\"\n",
    "processing_instance_type = \"ml.m5.large\"\n",
    "processing_instance_count = 1"
   ]
  },
  {
   "cell_type": "markdown",
   "id": "b730b8ee-f2fe-4612-870a-edb0e0ffc276",
   "metadata": {},
   "source": [
    "#### Criar uma execução de experimento\n",
    "Crie uma nova execução em seu experimento para rastrear parâmetros, configuração, entradas e saídas do job de processamento."
   ]
  },
  {
   "cell_type": "code",
   "execution_count": 24,
   "id": "41e28192-db7d-4a93-8c55-de2abd6fedf6",
   "metadata": {
    "tags": []
   },
   "outputs": [],
   "source": [
    "run_suffix = strftime('%d-%H-%M-%S', gmtime())\n",
    "run_name = f\"processamento-do-container-{run_suffix}\"\n",
    "\n",
    "run_id = mlflow.start_run(\n",
    "    run_name=run_name,\n",
    "    description=\"engenharia de features no notebook 02 com um job de processamento\").info.run_id\n"
   ]
  },
  {
   "cell_type": "markdown",
   "id": "d365adc2-890e-4983-aa86-0109e1f94465",
   "metadata": {},
   "source": [
    "#### Criar um processador e definir entradas e saídas\n",
    "Instancie um objeto [`FrameworkProcessor`](https://docs.aws.amazon.com/sagemaker/latest/dg/processing-job-frameworks.html) antes de iniciar o job de processamento do SageMaker. Você especifica o tipo de instância a ser usado no job, bem como quantas instâncias para processamento distribuído.\n",
    "\n",
    "Observe como o SageMaker mapeia seus dados para os caminhos locais no volume EBS do contêiner de processamento:\n",
    "\n",
    "![](img/data-processing.png)"
   ]
  },
  {
   "cell_type": "code",
   "execution_count": 25,
   "id": "1503fe76-cd04-4e5a-86a1-ea3cbb45f09d",
   "metadata": {
    "tags": []
   },
   "outputs": [],
   "source": [
    "sklearn_processor = FrameworkProcessor(\n",
    "    estimator_cls=SKLearn,\n",
    "    framework_version=skprocessor_framework_version,\n",
    "    role=sm_role,\n",
    "    instance_type=processing_instance_type,\n",
    "    instance_count=processing_instance_count,\n",
    "    base_job_name='from-idea-to-prod-processing',\n",
    "    sagemaker_session=session,\n",
    "    env={\n",
    "        'MLFLOW_TRACKING_ARN': mlflow_arn,\n",
    "        'MLFLOW_RUN_ID': run_id,\n",
    "        'USER': user_profile_name\n",
    "    }\n",
    ")\n",
    "\n",
    "processing_inputs = [\n",
    "        ProcessingInput(\n",
    "            source=input_s3_url, \n",
    "            destination=\"/opt/ml/processing/input\",\n",
    "            s3_input_mode=\"File\",\n",
    "            s3_data_distribution_type=\"ShardedByS3Key\"\n",
    "        ),\n",
    "        ProcessingInput(\n",
    "            input_name=\"processor\",\n",
    "            source=dependencies_dir,\n",
    "            destination=\"/opt/ml/processing/input/code/requirements/\",\n",
    "        ),\n",
    "    ]\n",
    "\n",
    "processing_outputs = [\n",
    "        ProcessingOutput(\n",
    "            output_name=\"train_data\", \n",
    "            source=\"/opt/ml/processing/output/train\",\n",
    "            destination=train_s3_url,\n",
    "        ),\n",
    "        ProcessingOutput(\n",
    "            output_name=\"validation_data\", \n",
    "            source=\"/opt/ml/processing/output/validation\", \n",
    "            destination=validation_s3_url\n",
    "        ),\n",
    "        ProcessingOutput(\n",
    "            output_name=\"test_data\", \n",
    "            source=\"/opt/ml/processing/output/test\", \n",
    "            destination=test_s3_url\n",
    "        ),\n",
    "        ProcessingOutput(\n",
    "            output_name=\"baseline_data\", \n",
    "            source=\"/opt/ml/processing/output/baseline\", \n",
    "            destination=baseline_s3_url\n",
    "        ),\n",
    "    ]"
   ]
  },
  {
   "cell_type": "markdown",
   "id": "bedef440-c13a-4d23-90af-ef747aeef8bc",
   "metadata": {},
   "source": [
    "#### Iniciar o job de processamento do SageMaker\n",
    "\n",
    "<svg width=\"800\" height=\"125\" viewBox=\"0 0 800 125\" xmlns=\"http://www.w3.org/2000/svg\">\n",
    "    <defs>\n",
    "        <linearGradient id=\"fadeGradient\" x1=\"0\" x2=\"1\">\n",
    "            <stop offset=\"0%\" stop-color=\"#F0F0F0\"/>\n",
    "            <stop offset=\"100%\" stop-color=\"#F0F0F0\" stop-opacity=\"0\"/>\n",
    "        </linearGradient>\n",
    "        <mask id=\"fadeMask\">\n",
    "            <rect x=\"0\" y=\"0\" width=\"750\" height=\"125\" fill=\"white\"/>\n",
    "            <rect x=\"750\" y=\"0\" width=\"50\" height=\"125\" fill=\"url(#fadeGradient)\"/>\n",
    "        </mask>\n",
    "    </defs>\n",
    "    <path d=\"M3,50 A50,50 0 0 1 53,3 L797,3 L797,97 L97,97 L50,115 L3,97 Z\" fill=\"#F0F0F0\" stroke=\"#E0E0E0\" stroke-width=\"1\" mask=\"url(#fadeMask)\"/>\n",
    "    <circle cx=\"50\" cy=\"50\" r=\"30\" fill=\"#57c4f8\" stroke=\"#57c4f8\" stroke-width=\"1\"/>\n",
    "    <circle cx=\"50\" cy=\"50\" r=\"25\" fill=\"#F0F0F0\"/>\n",
    "    <line x1=\"50\" y1=\"50\" x2=\"50\" y2=\"30\" stroke=\"#57c4f8\" stroke-width=\"3\" stroke-linecap=\"round\"/>\n",
    "    <line x1=\"50\" y1=\"50\" x2=\"65\" y2=\"50\" stroke=\"#57c4f8\" stroke-width=\"3\" stroke-linecap=\"round\"/>\n",
    "    <text x=\"100\" y=\"34\" font-family=\"Arial, sans-serif\" font-size=\"14\" fill=\"#333333\">A próxima célula pode levar alguns minutos para executar.</text>\n",
    "</svg>"
   ]
  },
  {
   "cell_type": "code",
   "execution_count": 26,
   "id": "ddd87f55",
   "metadata": {},
   "outputs": [
    {
     "name": "stderr",
     "output_type": "stream",
     "text": [
      "INFO:sagemaker:Creating processing-job with name from-idea-to-prod-processing-2024-10-14-22-56-50-285\n"
     ]
    },
    {
     "name": "stdout",
     "output_type": "stream",
     "text": [
      ".............\u001b[34mCodeArtifact repository not specified. Skipping login.\u001b[0m\n",
      "\u001b[34mFound existing installation: typing 3.7.4.3\u001b[0m\n",
      "\u001b[34mUninstalling typing-3.7.4.3:\u001b[0m\n",
      "\u001b[34m  Successfully uninstalled typing-3.7.4.3\u001b[0m\n",
      "\u001b[34mCollecting mlflow==2.13.2 (from -r requirements.txt (line 1))\n",
      "  Downloading mlflow-2.13.2-py3-none-any.whl.metadata (29 kB)\u001b[0m\n",
      "\u001b[34mCollecting sagemaker-mlflow==0.1.0 (from -r requirements.txt (line 2))\n",
      "  Downloading sagemaker_mlflow-0.1.0-py3-none-any.whl.metadata (3.3 kB)\u001b[0m\n",
      "\u001b[34mRequirement already satisfied: Flask<4 in /miniconda3/lib/python3.8/site-packages (from mlflow==2.13.2->-r requirements.txt (line 1)) (1.1.1)\u001b[0m\n",
      "\u001b[34mCollecting alembic!=1.10.0,<2 (from mlflow==2.13.2->-r requirements.txt (line 1))\n",
      "  Downloading alembic-1.13.3-py3-none-any.whl.metadata (7.4 kB)\u001b[0m\n",
      "\u001b[34mCollecting cachetools<6,>=5.0.0 (from mlflow==2.13.2->-r requirements.txt (line 1))\n",
      "  Downloading cachetools-5.5.0-py3-none-any.whl.metadata (5.3 kB)\u001b[0m\n",
      "\u001b[34mRequirement already satisfied: click<9,>=7.0 in /miniconda3/lib/python3.8/site-packages (from mlflow==2.13.2->-r requirements.txt (line 1)) (8.1.7)\u001b[0m\n",
      "\u001b[34mCollecting cloudpickle<4 (from mlflow==2.13.2->-r requirements.txt (line 1))\n",
      "  Downloading cloudpickle-3.1.0-py3-none-any.whl.metadata (7.0 kB)\u001b[0m\n",
      "\u001b[34mCollecting docker<8,>=4.0.0 (from mlflow==2.13.2->-r requirements.txt (line 1))\n",
      "  Downloading docker-7.1.0-py3-none-any.whl.metadata (3.8 kB)\u001b[0m\n",
      "\u001b[34mCollecting entrypoints<1 (from mlflow==2.13.2->-r requirements.txt (line 1))\n",
      "  Downloading entrypoints-0.4-py3-none-any.whl.metadata (2.6 kB)\u001b[0m\n",
      "\u001b[34mCollecting gitpython<4,>=3.1.9 (from mlflow==2.13.2->-r requirements.txt (line 1))\n",
      "  Downloading GitPython-3.1.43-py3-none-any.whl.metadata (13 kB)\u001b[0m\n",
      "\u001b[34mCollecting graphene<4 (from mlflow==2.13.2->-r requirements.txt (line 1))\u001b[0m\n",
      "\u001b[34m  Downloading graphene-3.3-py2.py3-none-any.whl.metadata (7.7 kB)\u001b[0m\n",
      "\u001b[34mCollecting importlib-metadata!=4.7.0,<8,>=3.7.0 (from mlflow==2.13.2->-r requirements.txt (line 1))\n",
      "  Downloading importlib_metadata-7.2.1-py3-none-any.whl.metadata (4.6 kB)\u001b[0m\n",
      "\u001b[34mCollecting markdown<4,>=3.3 (from mlflow==2.13.2->-r requirements.txt (line 1))\n",
      "  Downloading Markdown-3.7-py3-none-any.whl.metadata (7.0 kB)\u001b[0m\n",
      "\u001b[34mCollecting matplotlib<4 (from mlflow==2.13.2->-r requirements.txt (line 1))\n",
      "  Downloading matplotlib-3.7.5-cp38-cp38-manylinux_2_12_x86_64.manylinux2010_x86_64.whl.metadata (5.7 kB)\u001b[0m\n",
      "\u001b[34mRequirement already satisfied: numpy<2 in /miniconda3/lib/python3.8/site-packages (from mlflow==2.13.2->-r requirements.txt (line 1)) (1.24.1)\u001b[0m\n",
      "\u001b[34mCollecting opentelemetry-api<3,>=1.0.0 (from mlflow==2.13.2->-r requirements.txt (line 1))\n",
      "  Downloading opentelemetry_api-1.27.0-py3-none-any.whl.metadata (1.4 kB)\u001b[0m\n",
      "\u001b[34mCollecting opentelemetry-sdk<3,>=1.0.0 (from mlflow==2.13.2->-r requirements.txt (line 1))\n",
      "  Downloading opentelemetry_sdk-1.27.0-py3-none-any.whl.metadata (1.5 kB)\u001b[0m\n",
      "\u001b[34mCollecting packaging<25 (from mlflow==2.13.2->-r requirements.txt (line 1))\n",
      "  Downloading packaging-24.1-py3-none-any.whl.metadata (3.2 kB)\u001b[0m\n",
      "\u001b[34mRequirement already satisfied: pandas<3 in /miniconda3/lib/python3.8/site-packages (from mlflow==2.13.2->-r requirements.txt (line 1)) (1.1.3)\u001b[0m\n",
      "\u001b[34mRequirement already satisfied: protobuf<5,>=3.12.0 in /miniconda3/lib/python3.8/site-packages (from mlflow==2.13.2->-r requirements.txt (line 1)) (3.20.2)\u001b[0m\n",
      "\u001b[34mRequirement already satisfied: pyarrow<16,>=4.0.0 in /miniconda3/lib/python3.8/site-packages (from mlflow==2.13.2->-r requirements.txt (line 1)) (14.0.1)\u001b[0m\n",
      "\u001b[34mRequirement already satisfied: pytz<2025 in /miniconda3/lib/python3.8/site-packages (from mlflow==2.13.2->-r requirements.txt (line 1)) (2024.2)\u001b[0m\n",
      "\u001b[34mCollecting pyyaml<7,>=5.1 (from mlflow==2.13.2->-r requirements.txt (line 1))\n",
      "  Downloading PyYAML-6.0.2-cp38-cp38-manylinux_2_17_x86_64.manylinux2014_x86_64.whl.metadata (2.1 kB)\u001b[0m\n",
      "\u001b[34mCollecting querystring-parser<2 (from mlflow==2.13.2->-r requirements.txt (line 1))\n",
      "  Downloading querystring_parser-1.2.4-py2.py3-none-any.whl.metadata (559 bytes)\u001b[0m\n",
      "\u001b[34mRequirement already satisfied: requests<3,>=2.17.3 in /miniconda3/lib/python3.8/site-packages (from mlflow==2.13.2->-r requirements.txt (line 1)) (2.32.3)\u001b[0m\n",
      "\u001b[34mRequirement already satisfied: scikit-learn<2 in /miniconda3/lib/python3.8/site-packages (from mlflow==2.13.2->-r requirements.txt (line 1)) (1.2.1)\u001b[0m\n",
      "\u001b[34mRequirement already satisfied: scipy<2 in /miniconda3/lib/python3.8/site-packages (from mlflow==2.13.2->-r requirements.txt (line 1)) (1.8.0)\u001b[0m\n",
      "\u001b[34mCollecting sqlalchemy<3,>=1.4.0 (from mlflow==2.13.2->-r requirements.txt (line 1))\n",
      "  Downloading SQLAlchemy-2.0.35-cp38-cp38-manylinux_2_17_x86_64.manylinux2014_x86_64.whl.metadata (9.6 kB)\u001b[0m\n",
      "\u001b[34mCollecting sqlparse<1,>=0.4.0 (from mlflow==2.13.2->-r requirements.txt (line 1))\n",
      "  Downloading sqlparse-0.5.1-py3-none-any.whl.metadata (3.9 kB)\u001b[0m\n",
      "\u001b[34mRequirement already satisfied: Jinja2<4,>=2.11 in /miniconda3/lib/python3.8/site-packages (from mlflow==2.13.2->-r requirements.txt (line 1)) (3.0.3)\u001b[0m\n",
      "\u001b[34mRequirement already satisfied: gunicorn<23 in /miniconda3/lib/python3.8/site-packages (from mlflow==2.13.2->-r requirements.txt (line 1)) (20.0.4)\u001b[0m\n",
      "\u001b[34mCollecting boto3>=1.34 (from sagemaker-mlflow==0.1.0->-r requirements.txt (line 2))\n",
      "  Downloading boto3-1.35.40-py3-none-any.whl.metadata (6.7 kB)\u001b[0m\n",
      "\u001b[34mCollecting Mako (from alembic!=1.10.0,<2->mlflow==2.13.2->-r requirements.txt (line 1))\n",
      "  Downloading Mako-1.3.5-py3-none-any.whl.metadata (2.9 kB)\u001b[0m\n",
      "\u001b[34mCollecting typing-extensions>=4 (from alembic!=1.10.0,<2->mlflow==2.13.2->-r requirements.txt (line 1))\n",
      "  Downloading typing_extensions-4.12.2-py3-none-any.whl.metadata (3.0 kB)\u001b[0m\n",
      "\u001b[34mCollecting importlib-resources (from alembic!=1.10.0,<2->mlflow==2.13.2->-r requirements.txt (line 1))\n",
      "  Downloading importlib_resources-6.4.5-py3-none-any.whl.metadata (4.0 kB)\u001b[0m\n",
      "\u001b[34mCollecting botocore<1.36.0,>=1.35.40 (from boto3>=1.34->sagemaker-mlflow==0.1.0->-r requirements.txt (line 2))\n",
      "  Downloading botocore-1.35.40-py3-none-any.whl.metadata (5.7 kB)\u001b[0m\n",
      "\u001b[34mRequirement already satisfied: jmespath<2.0.0,>=0.7.1 in /miniconda3/lib/python3.8/site-packages (from boto3>=1.34->sagemaker-mlflow==0.1.0->-r requirements.txt (line 2)) (1.0.1)\u001b[0m\n",
      "\u001b[34mCollecting s3transfer<0.11.0,>=0.10.0 (from boto3>=1.34->sagemaker-mlflow==0.1.0->-r requirements.txt (line 2))\n",
      "  Downloading s3transfer-0.10.3-py3-none-any.whl.metadata (1.7 kB)\u001b[0m\n",
      "\u001b[34mRequirement already satisfied: urllib3>=1.26.0 in /miniconda3/lib/python3.8/site-packages (from docker<8,>=4.0.0->mlflow==2.13.2->-r requirements.txt (line 1)) (1.26.20)\u001b[0m\n",
      "\u001b[34mRequirement already satisfied: Werkzeug>=0.15 in /miniconda3/lib/python3.8/site-packages (from Flask<4->mlflow==2.13.2->-r requirements.txt (line 1)) (2.0.3)\u001b[0m\n",
      "\u001b[34mRequirement already satisfied: itsdangerous>=0.24 in /miniconda3/lib/python3.8/site-packages (from Flask<4->mlflow==2.13.2->-r requirements.txt (line 1)) (2.0.1)\u001b[0m\n",
      "\u001b[34mCollecting gitdb<5,>=4.0.1 (from gitpython<4,>=3.1.9->mlflow==2.13.2->-r requirements.txt (line 1))\n",
      "  Downloading gitdb-4.0.11-py3-none-any.whl.metadata (1.2 kB)\u001b[0m\n",
      "\u001b[34mCollecting graphql-core<3.3,>=3.1 (from graphene<4->mlflow==2.13.2->-r requirements.txt (line 1))\n",
      "  Downloading graphql_core-3.2.5-py3-none-any.whl.metadata (10 kB)\u001b[0m\n",
      "\u001b[34mCollecting graphql-relay<3.3,>=3.1 (from graphene<4->mlflow==2.13.2->-r requirements.txt (line 1))\n",
      "  Downloading graphql_relay-3.2.0-py3-none-any.whl.metadata (12 kB)\u001b[0m\n",
      "\u001b[34mCollecting aniso8601<10,>=8 (from graphene<4->mlflow==2.13.2->-r requirements.txt (line 1))\n",
      "  Downloading aniso8601-9.0.1-py2.py3-none-any.whl.metadata (23 kB)\u001b[0m\n",
      "\u001b[34mRequirement already satisfied: setuptools>=3.0 in /miniconda3/lib/python3.8/site-packages (from gunicorn<23->mlflow==2.13.2->-r requirements.txt (line 1)) (65.5.1)\u001b[0m\n",
      "\u001b[34mCollecting zipp>=0.5 (from importlib-metadata!=4.7.0,<8,>=3.7.0->mlflow==2.13.2->-r requirements.txt (line 1))\n",
      "  Downloading zipp-3.20.2-py3-none-any.whl.metadata (3.7 kB)\u001b[0m\n",
      "\u001b[34mRequirement already satisfied: MarkupSafe>=2.0 in /miniconda3/lib/python3.8/site-packages (from Jinja2<4,>=2.11->mlflow==2.13.2->-r requirements.txt (line 1)) (2.1.1)\u001b[0m\n",
      "\u001b[34mCollecting contourpy>=1.0.1 (from matplotlib<4->mlflow==2.13.2->-r requirements.txt (line 1))\n",
      "  Downloading contourpy-1.1.1-cp38-cp38-manylinux_2_17_x86_64.manylinux2014_x86_64.whl.metadata (5.9 kB)\u001b[0m\n",
      "\u001b[34mCollecting cycler>=0.10 (from matplotlib<4->mlflow==2.13.2->-r requirements.txt (line 1))\n",
      "  Downloading cycler-0.12.1-py3-none-any.whl.metadata (3.8 kB)\u001b[0m\n",
      "\u001b[34mCollecting fonttools>=4.22.0 (from matplotlib<4->mlflow==2.13.2->-r requirements.txt (line 1))\n",
      "  Downloading fonttools-4.54.1-cp38-cp38-manylinux_2_17_x86_64.manylinux2014_x86_64.whl.metadata (163 kB)\u001b[0m\n",
      "\u001b[34mCollecting kiwisolver>=1.0.1 (from matplotlib<4->mlflow==2.13.2->-r requirements.txt (line 1))\n",
      "  Downloading kiwisolver-1.4.7-cp38-cp38-manylinux_2_5_x86_64.manylinux1_x86_64.whl.metadata (6.3 kB)\u001b[0m\n",
      "\u001b[34mRequirement already satisfied: pillow>=6.2.0 in /miniconda3/lib/python3.8/site-packages (from matplotlib<4->mlflow==2.13.2->-r requirements.txt (line 1)) (10.4.0)\u001b[0m\n",
      "\u001b[34mCollecting pyparsing>=2.3.1 (from matplotlib<4->mlflow==2.13.2->-r requirements.txt (line 1))\n",
      "  Downloading pyparsing-3.1.4-py3-none-any.whl.metadata (5.1 kB)\u001b[0m\n",
      "\u001b[34mRequirement already satisfied: python-dateutil>=2.7 in /miniconda3/lib/python3.8/site-packages (from matplotlib<4->mlflow==2.13.2->-r requirements.txt (line 1)) (2.8.1)\u001b[0m\n",
      "\u001b[34mCollecting deprecated>=1.2.6 (from opentelemetry-api<3,>=1.0.0->mlflow==2.13.2->-r requirements.txt (line 1))\n",
      "  Downloading Deprecated-1.2.14-py2.py3-none-any.whl.metadata (5.4 kB)\u001b[0m\n",
      "\u001b[34mCollecting opentelemetry-semantic-conventions==0.48b0 (from opentelemetry-sdk<3,>=1.0.0->mlflow==2.13.2->-r requirements.txt (line 1))\n",
      "  Downloading opentelemetry_semantic_conventions-0.48b0-py3-none-any.whl.metadata (2.4 kB)\u001b[0m\n",
      "\u001b[34mRequirement already satisfied: six in /miniconda3/lib/python3.8/site-packages (from querystring-parser<2->mlflow==2.13.2->-r requirements.txt (line 1)) (1.15.0)\u001b[0m\n",
      "\u001b[34mRequirement already satisfied: charset-normalizer<4,>=2 in /miniconda3/lib/python3.8/site-packages (from requests<3,>=2.17.3->mlflow==2.13.2->-r requirements.txt (line 1)) (3.3.2)\u001b[0m\n",
      "\u001b[34mRequirement already satisfied: idna<4,>=2.5 in /miniconda3/lib/python3.8/site-packages (from requests<3,>=2.17.3->mlflow==2.13.2->-r requirements.txt (line 1)) (3.7)\u001b[0m\n",
      "\u001b[34mRequirement already satisfied: certifi>=2017.4.17 in /miniconda3/lib/python3.8/site-packages (from requests<3,>=2.17.3->mlflow==2.13.2->-r requirements.txt (line 1)) (2023.7.22)\u001b[0m\n",
      "\u001b[34mRequirement already satisfied: joblib>=1.1.1 in /miniconda3/lib/python3.8/site-packages (from scikit-learn<2->mlflow==2.13.2->-r requirements.txt (line 1)) (1.4.2)\u001b[0m\n",
      "\u001b[34mRequirement already satisfied: threadpoolctl>=2.0.0 in /miniconda3/lib/python3.8/site-packages (from scikit-learn<2->mlflow==2.13.2->-r requirements.txt (line 1)) (3.5.0)\u001b[0m\n",
      "\u001b[34mRequirement already satisfied: greenlet!=0.4.17 in /miniconda3/lib/python3.8/site-packages (from sqlalchemy<3,>=1.4.0->mlflow==2.13.2->-r requirements.txt (line 1)) (3.1.1)\u001b[0m\n",
      "\u001b[34mCollecting wrapt<2,>=1.10 (from deprecated>=1.2.6->opentelemetry-api<3,>=1.0.0->mlflow==2.13.2->-r requirements.txt (line 1))\n",
      "  Downloading wrapt-1.16.0-cp38-cp38-manylinux_2_5_x86_64.manylinux1_x86_64.manylinux_2_17_x86_64.manylinux2014_x86_64.whl.metadata (6.6 kB)\u001b[0m\n",
      "\u001b[34mCollecting smmap<6,>=3.0.1 (from gitdb<5,>=4.0.1->gitpython<4,>=3.1.9->mlflow==2.13.2->-r requirements.txt (line 1))\n",
      "  Downloading smmap-5.0.1-py3-none-any.whl.metadata (4.3 kB)\u001b[0m\n",
      "\u001b[34mDownloading mlflow-2.13.2-py3-none-any.whl (25.0 MB)\n",
      "   ━━━━━━━━━━━━━━━━━━━━━━━━━━━━━━━━━━━━━━━━ 25.0/25.0 MB 160.8 MB/s eta 0:00:00\u001b[0m\n",
      "\u001b[34mDownloading sagemaker_mlflow-0.1.0-py3-none-any.whl (24 kB)\u001b[0m\n",
      "\u001b[34mDownloading alembic-1.13.3-py3-none-any.whl (233 kB)\u001b[0m\n",
      "\u001b[34mDownloading boto3-1.35.40-py3-none-any.whl (139 kB)\u001b[0m\n",
      "\u001b[34mDownloading cachetools-5.5.0-py3-none-any.whl (9.5 kB)\u001b[0m\n",
      "\u001b[34mDownloading cloudpickle-3.1.0-py3-none-any.whl (22 kB)\u001b[0m\n",
      "\u001b[34mDownloading docker-7.1.0-py3-none-any.whl (147 kB)\u001b[0m\n",
      "\u001b[34mDownloading entrypoints-0.4-py3-none-any.whl (5.3 kB)\u001b[0m\n",
      "\u001b[34mDownloading GitPython-3.1.43-py3-none-any.whl (207 kB)\u001b[0m\n",
      "\u001b[34mDownloading graphene-3.3-py2.py3-none-any.whl (128 kB)\u001b[0m\n",
      "\u001b[34mDownloading importlib_metadata-7.2.1-py3-none-any.whl (25 kB)\u001b[0m\n",
      "\u001b[34mDownloading Markdown-3.7-py3-none-any.whl (106 kB)\u001b[0m\n",
      "\u001b[34mDownloading matplotlib-3.7.5-cp38-cp38-manylinux_2_12_x86_64.manylinux2010_x86_64.whl (9.2 MB)\n",
      "   ━━━━━━━━━━━━━━━━━━━━━━━━━━━━━━━━━━━━━━━━ 9.2/9.2 MB 175.2 MB/s eta 0:00:00\u001b[0m\n",
      "\u001b[34mDownloading opentelemetry_api-1.27.0-py3-none-any.whl (63 kB)\u001b[0m\n",
      "\u001b[34mDownloading opentelemetry_sdk-1.27.0-py3-none-any.whl (110 kB)\u001b[0m\n",
      "\u001b[34mDownloading opentelemetry_semantic_conventions-0.48b0-py3-none-any.whl (149 kB)\u001b[0m\n",
      "\u001b[34mDownloading packaging-24.1-py3-none-any.whl (53 kB)\u001b[0m\n",
      "\u001b[34mDownloading PyYAML-6.0.2-cp38-cp38-manylinux_2_17_x86_64.manylinux2014_x86_64.whl (746 kB)\n",
      "   ━━━━━━━━━━━━━━━━━━━━━━━━━━━━━━━━━━━━━━━━ 746.5/746.5 kB 90.8 MB/s eta 0:00:00\u001b[0m\n",
      "\u001b[34mDownloading querystring_parser-1.2.4-py2.py3-none-any.whl (7.9 kB)\u001b[0m\n",
      "\u001b[34mDownloading SQLAlchemy-2.0.35-cp38-cp38-manylinux_2_17_x86_64.manylinux2014_x86_64.whl (3.1 MB)\n",
      "   ━━━━━━━━━━━━━━━━━━━━━━━━━━━━━━━━━━━━━━━━ 3.1/3.1 MB 176.0 MB/s eta 0:00:00\u001b[0m\n",
      "\u001b[34mDownloading sqlparse-0.5.1-py3-none-any.whl (44 kB)\u001b[0m\n",
      "\u001b[34mDownloading aniso8601-9.0.1-py2.py3-none-any.whl (52 kB)\u001b[0m\n",
      "\u001b[34mDownloading botocore-1.35.40-py3-none-any.whl (12.6 MB)\n",
      "   ━━━━━━━━━━━━━━━━━━━━━━━━━━━━━━━━━━━━━━━━ 12.6/12.6 MB 140.6 MB/s eta 0:00:00\u001b[0m\n",
      "\u001b[34mDownloading contourpy-1.1.1-cp38-cp38-manylinux_2_17_x86_64.manylinux2014_x86_64.whl (301 kB)\u001b[0m\n",
      "\u001b[34mDownloading cycler-0.12.1-py3-none-any.whl (8.3 kB)\u001b[0m\n",
      "\u001b[34mDownloading Deprecated-1.2.14-py2.py3-none-any.whl (9.6 kB)\u001b[0m\n",
      "\u001b[34mDownloading fonttools-4.54.1-cp38-cp38-manylinux_2_17_x86_64.manylinux2014_x86_64.whl (4.7 MB)\n",
      "   ━━━━━━━━━━━━━━━━━━━━━━━━━━━━━━━━━━━━━━━━ 4.7/4.7 MB 156.2 MB/s eta 0:00:00\u001b[0m\n",
      "\u001b[34mDownloading gitdb-4.0.11-py3-none-any.whl (62 kB)\u001b[0m\n",
      "\u001b[34mDownloading graphql_core-3.2.5-py3-none-any.whl (203 kB)\u001b[0m\n",
      "\u001b[34mDownloading graphql_relay-3.2.0-py3-none-any.whl (16 kB)\u001b[0m\n",
      "\u001b[34mDownloading importlib_resources-6.4.5-py3-none-any.whl (36 kB)\u001b[0m\n",
      "\u001b[34mDownloading kiwisolver-1.4.7-cp38-cp38-manylinux_2_5_x86_64.manylinux1_x86_64.whl (1.2 MB)\n",
      "   ━━━━━━━━━━━━━━━━━━━━━━━━━━━━━━━━━━━━━━━━ 1.2/1.2 MB 121.9 MB/s eta 0:00:00\u001b[0m\n",
      "\u001b[34mDownloading pyparsing-3.1.4-py3-none-any.whl (104 kB)\u001b[0m\n",
      "\u001b[34mDownloading s3transfer-0.10.3-py3-none-any.whl (82 kB)\u001b[0m\n",
      "\u001b[34mDownloading typing_extensions-4.12.2-py3-none-any.whl (37 kB)\u001b[0m\n",
      "\u001b[34mDownloading zipp-3.20.2-py3-none-any.whl (9.2 kB)\u001b[0m\n",
      "\u001b[34mDownloading Mako-1.3.5-py3-none-any.whl (78 kB)\u001b[0m\n",
      "\u001b[34mDownloading smmap-5.0.1-py3-none-any.whl (24 kB)\u001b[0m\n",
      "\u001b[34mDownloading wrapt-1.16.0-cp38-cp38-manylinux_2_5_x86_64.manylinux1_x86_64.manylinux_2_17_x86_64.manylinux2014_x86_64.whl (83 kB)\u001b[0m\n",
      "\u001b[34mInstalling collected packages: aniso8601, zipp, wrapt, typing-extensions, sqlparse, smmap, querystring-parser, pyyaml, pyparsing, packaging, Mako, kiwisolver, fonttools, entrypoints, cycler, contourpy, cloudpickle, cachetools, sqlalchemy, importlib-resources, importlib-metadata, graphql-core, gitdb, docker, deprecated, botocore, s3transfer, opentelemetry-api, matplotlib, markdown, graphql-relay, gitpython, alembic, opentelemetry-semantic-conventions, graphene, boto3, opentelemetry-sdk, mlflow, sagemaker-mlflow\u001b[0m\n",
      "\u001b[34m  Attempting uninstall: botocore\n",
      "    Found existing installation: botocore 1.31.85\n",
      "    Uninstalling botocore-1.31.85:\u001b[0m\n",
      "\u001b[34m      Successfully uninstalled botocore-1.31.85\n",
      "  Attempting uninstall: s3transfer\n",
      "    Found existing installation: s3transfer 0.7.0\n",
      "    Uninstalling s3transfer-0.7.0:\n",
      "      Successfully uninstalled s3transfer-0.7.0\u001b[0m\n",
      "\u001b[34m  Attempting uninstall: boto3\n",
      "    Found existing installation: boto3 1.28.57\n",
      "    Uninstalling boto3-1.28.57:\n",
      "      Successfully uninstalled boto3-1.28.57\u001b[0m\n",
      "\u001b[34mERROR: pip's dependency resolver does not currently take into account all the packages that are installed. This behaviour is the source of the following dependency conflicts.\u001b[0m\n",
      "\u001b[34msagemaker-containers 2.8.6.post2 requires typing, which is not installed.\u001b[0m\n",
      "\u001b[34msagemaker-sklearn-container 2.0 requires boto3==1.28.57, but you have boto3 1.35.40 which is incompatible.\u001b[0m\n",
      "\u001b[34msagemaker-sklearn-container 2.0 requires botocore<1.32.0,>=1.31.57, but you have botocore 1.35.40 which is incompatible.\u001b[0m\n",
      "\u001b[34mSuccessfully installed Mako-1.3.5 alembic-1.13.3 aniso8601-9.0.1 boto3-1.35.40 botocore-1.35.40 cachetools-5.5.0 cloudpickle-3.1.0 contourpy-1.1.1 cycler-0.12.1 deprecated-1.2.14 docker-7.1.0 entrypoints-0.4 fonttools-4.54.1 gitdb-4.0.11 gitpython-3.1.43 graphene-3.3 graphql-core-3.2.5 graphql-relay-3.2.0 importlib-metadata-7.2.1 importlib-resources-6.4.5 kiwisolver-1.4.7 markdown-3.7 matplotlib-3.7.5 mlflow-2.13.2 opentelemetry-api-1.27.0 opentelemetry-sdk-1.27.0 opentelemetry-semantic-conventions-0.48b0 packaging-24.1 pyparsing-3.1.4 pyyaml-6.0.2 querystring-parser-1.2.4 s3transfer-0.10.3 sagemaker-mlflow-0.1.0 smmap-5.0.1 sqlalchemy-2.0.35 sqlparse-0.5.1 typing-extensions-4.12.2 wrapt-1.16.0 zipp-3.20.2\u001b[0m\n",
      "\u001b[34m2024/10/14 22:59:15 INFO mlflow.tracking.fluent: Autologging successfully enabled for sklearn.\u001b[0m\n",
      "\u001b[34mData split > train:(28831, 65) | validation:(8238, 65) | test:(4119, 65)\u001b[0m\n",
      "\u001b[34m## Processing complete. Exiting.\u001b[0m\n",
      "\n"
     ]
    },
    {
     "name": "stderr",
     "output_type": "stream",
     "text": [
      "2024/10/14 23:02:17 INFO mlflow.tracking._tracking_service.client: 🏃 View run processamento-do-container-14-22-56-45 at: https://us-east-1.experiments.sagemaker.aws/#/experiments/7/runs/12d07352e5c54dea8ca547b69423ca38.\n",
      "2024/10/14 23:02:17 INFO mlflow.tracking._tracking_service.client: 🧪 View experiment at: https://us-east-1.experiments.sagemaker.aws/#/experiments/7.\n"
     ]
    }
   ],
   "source": [
    "sklearn_processor.run(\n",
    "    inputs=processing_inputs,\n",
    "    outputs=processing_outputs,\n",
    "    code='processing/preprocessing.py',\n",
    "    dependencies=[f'{dependencies_dir}requirements.txt'],\n",
    "    wait=True,\n",
    "    # arguments = ['arg1', 'arg2'],\n",
    ")\n",
    "\n",
    "mlflow.set_tags(\n",
    "    {\n",
    "        'mlflow.source.name':f'https://{region}.console.aws.amazon.com/sagemaker/home?region={region}#/processing-jobs/{sklearn_processor.latest_job.name}',\n",
    "    }\n",
    ")\n",
    "\n",
    "mlflow.end_run()"
   ]
  },
  {
   "cell_type": "markdown",
   "id": "9d9c8e0b",
   "metadata": {},
   "source": [
    "<img src=\"data:image/svg+xml;base64,Cjxzdmcgd2lkdGg9IjgwMCIgaGVpZ2h0PSI1MCIgdmlld0JveD0iMCAwIDgwMCA1MCIgeG1sbnM9Imh0dHA6Ly93d3cudzMub3JnLzIwMDAvc3ZnIj4KICAgIDxkZWZzPgogICAgICAgIDxsaW5lYXJHcmFkaWVudCBpZD0iZmFkZUdyYWRpZW50IiB4MT0iMCIgeDI9IjEiPgogICAgICAgICAgICA8c3RvcCBvZmZzZXQ9IjAlIiBzdG9wLWNvbG9yPSIjRjBGMEYwIi8+CiAgICAgICAgICAgIDxzdG9wIG9mZnNldD0iMTAwJSIgc3RvcC1jb2xvcj0iI0YwRjBGMCIgc3RvcC1vcGFjaXR5PSIwIi8+CiAgICAgICAgPC9saW5lYXJHcmFkaWVudD4KICAgICAgICA8bWFzayBpZD0iZmFkZU1hc2siPgogICAgICAgICAgICA8cmVjdCB4PSIwIiB5PSIwIiB3aWR0aD0iNzUwIiBoZWlnaHQ9IjUwIiBmaWxsPSJ3aGl0ZSIvPgogICAgICAgICAgICA8cmVjdCB4PSI3NTAiIHk9IjAiIHdpZHRoPSI1MCIgaGVpZ2h0PSI1MCIgZmlsbD0idXJsKCNmYWRlR3JhZGllbnQpIi8+CiAgICAgICAgPC9tYXNrPgogICAgPC9kZWZzPgogICAgPHBhdGggZD0iTTI1LDUwIFEwLDUwIDAsMjUgTDUwLDMgTDk3LDI1IEw3OTcsMjUgTDc5Nyw1MCBMMjUsNTAgWiIgZmlsbD0iI0YwRjBGMCIgc3Ryb2tlPSIjRTBFMEUwIiBzdHJva2Utd2lkdGg9IjEiIG1hc2s9InVybCgjZmFkZU1hc2spIi8+Cjwvc3ZnPgo=\" alt=\"Time alert close\"/>"
   ]
  },
  {
   "cell_type": "code",
   "execution_count": 28,
   "id": "1f2e81b6",
   "metadata": {},
   "outputs": [
    {
     "name": "stdout",
     "output_type": "stream",
     "text": [
      "from-idea-to-prod-processing-2024-10-14-22-56-50-285 foi concluído\n"
     ]
    }
   ],
   "source": [
    "# Se você definiu wait como False na célula de código anterior, aguarde até que o job seja concluído\n",
    "while sm.describe_processing_job(\n",
    "        ProcessingJobName=sklearn_processor._current_job_name\n",
    "    )[\"ProcessingJobStatus\"] != \"Completed\":\n",
    "    time.sleep(10)  # Aguarde 10 segundos\n",
    "    print(f\"Aguarde até que {sklearn_processor._current_job_name} seja concluído\")\n",
    "else:\n",
    "    print(f\"{sklearn_processor._current_job_name} foi concluído\")\n"
   ]
  },
  {
   "cell_type": "markdown",
   "id": "795e7281-d03b-42ba-8ef4-b0b30f9de0fd",
   "metadata": {},
   "source": [
    "Para esperar a conclusão do job, você também pode usar os `boto3` [waiters](https://boto3.amazonaws.com/v1/documentation/api/latest/reference/services/sagemaker.html#waiters). Por exemplo:\n",
    "\n",
    "```python\n",
    "waiter = session.sagemaker_client.get_waiter('processing_job_completed_or_stopped')\n",
    "waiter.wait(ProcessingJobName=sklearn_processor._current_job_name)"
   ]
  },
  {
   "cell_type": "code",
   "execution_count": 29,
   "id": "ad2ceb4b-ece3-40c6-8674-ce7b8db70a4b",
   "metadata": {
    "tags": []
   },
   "outputs": [],
   "source": [
    "# listar os arquivos carregados\n",
    "# !aws s3 ls {bucket_name}/{bucket_prefix} --recursive"
   ]
  },
  {
   "cell_type": "markdown",
   "id": "68297752",
   "metadata": {},
   "source": [
    "### Execute o script de processamento localmente e remotamente como um job do SageMaker\n",
    "Você pode usar o [SageMaker Python SDK decorator `@remote`](https://sagemaker.readthedocs.io/en/stable/remote_function/sagemaker.remote_function.html) para executar seu código local no notebook como um job de processamento do SageMaker – chamado de \"Remote Function\". Esta é uma maneira ainda mais fácil de executar seu código Python em escala usando o processamento e treinamento distribuído do SageMaker.\n",
    "\n",
    "Consulte a [documentação](https://docs.aws.amazon.com/sagemaker/latest/dg/train-remote-decorator.html) no guia do desenvolvedor do Amazon SageMaker.\n",
    "\n",
    "Na seção a seguir, você executará o código de processamento de dados como um job do SageMaker usando o decorador `@remote`."
   ]
  },
  {
   "cell_type": "markdown",
   "id": "a8e427a9-69b3-4c85-8ba3-ab0d12faf0f2",
   "metadata": {},
   "source": [
    "#### Etapa 1: Desenvolva e teste seu código localmente\n",
    "Primeiro, você implementa e testa seu código localmente no notebook para verificar a correção do código e do ambiente."
   ]
  },
  {
   "cell_type": "code",
   "execution_count": 30,
   "id": "8d9b7032-835c-4abb-8269-7a66204120e2",
   "metadata": {
    "tags": []
   },
   "outputs": [],
   "source": [
    "# Carregar o conjunto de dados em um DataFrame\n",
    "file_name = \"bank-additional-full.csv\"\n",
    "input_path = \"./data/bank-additional\" \n",
    "df_data = pd.read_csv(os.path.join(input_path, file_name), sep=\";\")"
   ]
  },
  {
   "cell_type": "code",
   "execution_count": 31,
   "id": "5ab225a2-6cb0-43c7-a043-a2d0a0ba5335",
   "metadata": {
    "tags": []
   },
   "outputs": [],
   "source": [
    "from sklearn.preprocessing import MinMaxScaler, LabelEncoder\n",
    "\n",
    "# definir uma função local\n",
    "def preprocess(\n",
    "    df_data,\n",
    "    tracking_server_arn=mlflow_arn,\n",
    "    experiment_name=None,\n",
    "    run_id=None,\n",
    "):\n",
    "    import mlflow\n",
    "    from time import gmtime, strftime\n",
    "\n",
    "    try:\n",
    "        # Definir a URI do Servidor de Rastreamento usando o ARN do Servidor de Rastreamento que você criou\n",
    "        mlflow.set_tracking_uri(tracking_server_arn)\n",
    "        \n",
    "        # Habilitar autologging no MLflow\n",
    "        mlflow.autolog()\n",
    "    \n",
    "        suffix = strftime('%d-%H-%M-%S', gmtime())\n",
    "        mlflow.set_experiment(experiment_name=experiment_name if experiment_name else f\"preprocess-{suffix}\")\n",
    "        run = mlflow.start_run(run_id=run_id) if run_id else mlflow.start_run(run_name=f\"local-processing-{suffix}\", nested=True)\n",
    "    \n",
    "        target_col = \"y\"\n",
    "        \n",
    "        # Variável indicadora para capturar quando pdays assume o valor de 999\n",
    "        df_data[\"no_previous_contact\"] = np.where(df_data[\"pdays\"] == 999, 1, 0)\n",
    "    \n",
    "        # Indicador para indivíduos não ativamente empregados\n",
    "        df_data[\"not_working\"] = np.where(\n",
    "            np.in1d(df_data[\"job\"], [\"student\", \"retired\", \"unemployed\"]), 1, 0\n",
    "        )\n",
    "    \n",
    "        # remover dados desnecessários\n",
    "        df_model_data = df_data.drop(\n",
    "            [\"duration\", \"emp.var.rate\", \"cons.price.idx\", \"cons.conf.idx\", \"euribor3m\", \"nr.employed\"],\n",
    "            axis=1,\n",
    "        )\n",
    "    \n",
    "        bins = [18, 30, 40, 50, 60, 70, 90]\n",
    "        labels = ['18-29', '30-39', '40-49', '50-59', '60-69', '70-plus']\n",
    "    \n",
    "        df_model_data['age_range'] = pd.cut(df_model_data.age, bins, labels=labels, include_lowest=True)\n",
    "        df_model_data = pd.concat([df_model_data, pd.get_dummies(df_model_data['age_range'], prefix='age', dtype=int)], axis=1)\n",
    "        df_model_data.drop('age', axis=1, inplace=True)\n",
    "        df_model_data.drop('age_range', axis=1, inplace=True)\n",
    "    \n",
    "        scaled_features = ['pdays', 'previous', 'campaign']\n",
    "        df_model_data[scaled_features] = MinMaxScaler().fit_transform(df_model_data[scaled_features])\n",
    "    \n",
    "        df_model_data = pd.get_dummies(df_model_data, dtype=int)  # Converter variáveis categóricas em conjuntos de indicadores\n",
    "    \n",
    "        # Substituir \"y_no\" e \"y_yes\" por uma única coluna de rótulo e trazê-la para a frente:\n",
    "        df_model_data = pd.concat(\n",
    "            [\n",
    "                df_model_data[\"y_yes\"].rename(target_col),\n",
    "                df_model_data.drop([\"y_no\", \"y_yes\"], axis=1),\n",
    "            ],\n",
    "            axis=1,\n",
    "        )\n",
    "    \n",
    "        # Embaralhar e dividir o conjunto de dados\n",
    "        train_data, validation_data, test_data = np.split(\n",
    "            df_model_data.sample(frac=1, random_state=1729),\n",
    "            [int(0.7 * len(df_model_data)), int(0.9 * len(df_model_data))],\n",
    "        )\n",
    "    \n",
    "        print(f\"Data split > train:{train_data.shape} | validation:{validation_data.shape} | test:{test_data.shape}\")\n",
    "\n",
    "        mlflow.log_params(\n",
    "            {\n",
    "                \"train\": train_data.shape,\n",
    "                \"validate\": validation_data.shape,\n",
    "                \"test\": test_data.shape\n",
    "            }\n",
    "        )\n",
    "        \n",
    "        baseline_data = df_model_data.drop([target_col], axis=1)\n",
    "        \n",
    "        print(\"## Processing complete. Exiting.\")\n",
    "        \n",
    "        return train_data, validation_data, test_data, baseline_data\n",
    "\n",
    "    except Exception as e:\n",
    "        print(f\"Exception in processing script: {e}\")\n",
    "        raise e\n",
    "    finally:\n",
    "        mlflow.end_run()"
   ]
  },
  {
   "cell_type": "code",
   "execution_count": 32,
   "id": "1520b716",
   "metadata": {},
   "outputs": [
    {
     "name": "stderr",
     "output_type": "stream",
     "text": [
      "2024/10/14 23:03:19 INFO mlflow.tracking.fluent: Autologging successfully enabled for sklearn.\n",
      "2024/10/14 23:03:19 WARNING mlflow.spark: With Pyspark >= 3.2, PYSPARK_PIN_THREAD environment variable must be set to false for Spark datasource autologging to work.\n",
      "2024/10/14 23:03:19 INFO mlflow.tracking.fluent: Autologging successfully enabled for pyspark.\n",
      "/opt/conda/lib/python3.11/site-packages/numpy/core/fromnumeric.py:59: FutureWarning: 'DataFrame.swapaxes' is deprecated and will be removed in a future version. Please use 'DataFrame.transpose' instead.\n",
      "  return bound(*args, **kwds)\n",
      "2024/10/14 23:03:20 INFO mlflow.tracking._tracking_service.client: 🏃 View run local-processing-14-23-03-19 at: https://us-east-1.experiments.sagemaker.aws/#/experiments/7/runs/dfd7e1d1b1c94686b424fb49e78fdd93.\n",
      "2024/10/14 23:03:20 INFO mlflow.tracking._tracking_service.client: 🧪 View experiment at: https://us-east-1.experiments.sagemaker.aws/#/experiments/7.\n"
     ]
    },
    {
     "name": "stdout",
     "output_type": "stream",
     "text": [
      "Data split > train:(28831, 65) | validation:(8238, 65) | test:(4119, 65)\n",
      "## Processing complete. Exiting.\n"
     ]
    }
   ],
   "source": [
    "# Chamar a função localmente\n",
    "\n",
    "train_data, validation_data, test_data, baseline_data = preprocess(df_data, experiment_name=experiment_name)"
   ]
  },
  {
   "cell_type": "code",
   "execution_count": 33,
   "id": "14fd3745-80dd-45d1-beee-f24b78717c41",
   "metadata": {
    "tags": []
   },
   "outputs": [
    {
     "data": {
      "text/html": [
       "<div>\n",
       "<style scoped>\n",
       "    .dataframe tbody tr th:only-of-type {\n",
       "        vertical-align: middle;\n",
       "    }\n",
       "\n",
       "    .dataframe tbody tr th {\n",
       "        vertical-align: top;\n",
       "    }\n",
       "\n",
       "    .dataframe thead th {\n",
       "        text-align: right;\n",
       "    }\n",
       "</style>\n",
       "<table border=\"1\" class=\"dataframe\">\n",
       "  <thead>\n",
       "    <tr style=\"text-align: right;\">\n",
       "      <th></th>\n",
       "      <th>y</th>\n",
       "      <th>campaign</th>\n",
       "      <th>pdays</th>\n",
       "      <th>previous</th>\n",
       "      <th>no_previous_contact</th>\n",
       "      <th>not_working</th>\n",
       "      <th>age_18-29</th>\n",
       "      <th>age_30-39</th>\n",
       "      <th>age_40-49</th>\n",
       "      <th>age_50-59</th>\n",
       "      <th>...</th>\n",
       "      <th>month_oct</th>\n",
       "      <th>month_sep</th>\n",
       "      <th>day_of_week_fri</th>\n",
       "      <th>day_of_week_mon</th>\n",
       "      <th>day_of_week_thu</th>\n",
       "      <th>day_of_week_tue</th>\n",
       "      <th>day_of_week_wed</th>\n",
       "      <th>poutcome_failure</th>\n",
       "      <th>poutcome_nonexistent</th>\n",
       "      <th>poutcome_success</th>\n",
       "    </tr>\n",
       "  </thead>\n",
       "  <tbody>\n",
       "    <tr>\n",
       "      <th>40949</th>\n",
       "      <td>0</td>\n",
       "      <td>0.036364</td>\n",
       "      <td>1.0</td>\n",
       "      <td>0.0</td>\n",
       "      <td>1</td>\n",
       "      <td>0</td>\n",
       "      <td>0</td>\n",
       "      <td>0</td>\n",
       "      <td>0</td>\n",
       "      <td>1</td>\n",
       "      <td>...</td>\n",
       "      <td>1</td>\n",
       "      <td>0</td>\n",
       "      <td>0</td>\n",
       "      <td>0</td>\n",
       "      <td>1</td>\n",
       "      <td>0</td>\n",
       "      <td>0</td>\n",
       "      <td>0</td>\n",
       "      <td>1</td>\n",
       "      <td>0</td>\n",
       "    </tr>\n",
       "    <tr>\n",
       "      <th>9332</th>\n",
       "      <td>0</td>\n",
       "      <td>0.018182</td>\n",
       "      <td>1.0</td>\n",
       "      <td>0.0</td>\n",
       "      <td>1</td>\n",
       "      <td>0</td>\n",
       "      <td>0</td>\n",
       "      <td>0</td>\n",
       "      <td>0</td>\n",
       "      <td>1</td>\n",
       "      <td>...</td>\n",
       "      <td>0</td>\n",
       "      <td>0</td>\n",
       "      <td>1</td>\n",
       "      <td>0</td>\n",
       "      <td>0</td>\n",
       "      <td>0</td>\n",
       "      <td>0</td>\n",
       "      <td>0</td>\n",
       "      <td>1</td>\n",
       "      <td>0</td>\n",
       "    </tr>\n",
       "    <tr>\n",
       "      <th>32286</th>\n",
       "      <td>0</td>\n",
       "      <td>0.018182</td>\n",
       "      <td>1.0</td>\n",
       "      <td>0.0</td>\n",
       "      <td>1</td>\n",
       "      <td>0</td>\n",
       "      <td>0</td>\n",
       "      <td>1</td>\n",
       "      <td>0</td>\n",
       "      <td>0</td>\n",
       "      <td>...</td>\n",
       "      <td>0</td>\n",
       "      <td>0</td>\n",
       "      <td>1</td>\n",
       "      <td>0</td>\n",
       "      <td>0</td>\n",
       "      <td>0</td>\n",
       "      <td>0</td>\n",
       "      <td>0</td>\n",
       "      <td>1</td>\n",
       "      <td>0</td>\n",
       "    </tr>\n",
       "    <tr>\n",
       "      <th>3925</th>\n",
       "      <td>0</td>\n",
       "      <td>0.036364</td>\n",
       "      <td>1.0</td>\n",
       "      <td>0.0</td>\n",
       "      <td>1</td>\n",
       "      <td>0</td>\n",
       "      <td>0</td>\n",
       "      <td>0</td>\n",
       "      <td>1</td>\n",
       "      <td>0</td>\n",
       "      <td>...</td>\n",
       "      <td>0</td>\n",
       "      <td>0</td>\n",
       "      <td>0</td>\n",
       "      <td>1</td>\n",
       "      <td>0</td>\n",
       "      <td>0</td>\n",
       "      <td>0</td>\n",
       "      <td>0</td>\n",
       "      <td>1</td>\n",
       "      <td>0</td>\n",
       "    </tr>\n",
       "    <tr>\n",
       "      <th>9406</th>\n",
       "      <td>0</td>\n",
       "      <td>0.018182</td>\n",
       "      <td>1.0</td>\n",
       "      <td>0.0</td>\n",
       "      <td>1</td>\n",
       "      <td>0</td>\n",
       "      <td>0</td>\n",
       "      <td>1</td>\n",
       "      <td>0</td>\n",
       "      <td>0</td>\n",
       "      <td>...</td>\n",
       "      <td>0</td>\n",
       "      <td>0</td>\n",
       "      <td>1</td>\n",
       "      <td>0</td>\n",
       "      <td>0</td>\n",
       "      <td>0</td>\n",
       "      <td>0</td>\n",
       "      <td>0</td>\n",
       "      <td>1</td>\n",
       "      <td>0</td>\n",
       "    </tr>\n",
       "  </tbody>\n",
       "</table>\n",
       "<p>5 rows × 65 columns</p>\n",
       "</div>"
      ],
      "text/plain": [
       "       y  campaign  pdays  previous  no_previous_contact  not_working  \\\n",
       "40949  0  0.036364    1.0       0.0                    1            0   \n",
       "9332   0  0.018182    1.0       0.0                    1            0   \n",
       "32286  0  0.018182    1.0       0.0                    1            0   \n",
       "3925   0  0.036364    1.0       0.0                    1            0   \n",
       "9406   0  0.018182    1.0       0.0                    1            0   \n",
       "\n",
       "       age_18-29  age_30-39  age_40-49  age_50-59  ...  month_oct  month_sep  \\\n",
       "40949          0          0          0          1  ...          1          0   \n",
       "9332           0          0          0          1  ...          0          0   \n",
       "32286          0          1          0          0  ...          0          0   \n",
       "3925           0          0          1          0  ...          0          0   \n",
       "9406           0          1          0          0  ...          0          0   \n",
       "\n",
       "       day_of_week_fri  day_of_week_mon  day_of_week_thu  day_of_week_tue  \\\n",
       "40949                0                0                1                0   \n",
       "9332                 1                0                0                0   \n",
       "32286                1                0                0                0   \n",
       "3925                 0                1                0                0   \n",
       "9406                 1                0                0                0   \n",
       "\n",
       "       day_of_week_wed  poutcome_failure  poutcome_nonexistent  \\\n",
       "40949                0                 0                     1   \n",
       "9332                 0                 0                     1   \n",
       "32286                0                 0                     1   \n",
       "3925                 0                 0                     1   \n",
       "9406                 0                 0                     1   \n",
       "\n",
       "       poutcome_success  \n",
       "40949                 0  \n",
       "9332                  0  \n",
       "32286                 0  \n",
       "3925                  0  \n",
       "9406                  0  \n",
       "\n",
       "[5 rows x 65 columns]"
      ]
     },
     "execution_count": 33,
     "metadata": {},
     "output_type": "execute_result"
    }
   ],
   "source": [
    "# ver os dados processados\n",
    "\n",
    "train_data.head()"
   ]
  },
  {
   "cell_type": "markdown",
   "id": "eeff9ac0-798e-4e7e-8c1b-db9a86735e13",
   "metadata": {},
   "source": [
    "#### Etapa 2: Execute a função remotamente usando RemoteExecutor\n",
    "Você pode usar a classe [`RemoteExecutor`](https://sagemaker.readthedocs.io/en/stable/remote_function/sagemaker.remote_function.html#remoteexecutor) do SDK Python do SageMaker para executar a função local remotamente como um job do SageMaker. Você pode executar vários jobs em paralelo usando o parâmetro `max_parallel_jobs` para controlar o número máximo de jobs paralelos."
   ]
  },
  {
   "cell_type": "code",
   "execution_count": 34,
   "id": "5fed14c2-cea6-478c-ac96-c8310b674b9c",
   "metadata": {
    "tags": []
   },
   "outputs": [],
   "source": [
    "from sagemaker.remote_function import remote, RemoteExecutor"
   ]
  },
  {
   "cell_type": "code",
   "execution_count": 35,
   "id": "72264ace-992a-42f7-9edc-6d16c063fee3",
   "metadata": {
    "tags": []
   },
   "outputs": [],
   "source": [
    "s3_root_uri = f\"s3://{bucket_name}/{bucket_prefix}\""
   ]
  },
  {
   "cell_type": "code",
   "execution_count": 36,
   "id": "f479f2dd",
   "metadata": {},
   "outputs": [
    {
     "name": "stdout",
     "output_type": "stream",
     "text": [
      "sagemaker.config INFO - Applied value from config key = SageMaker.PythonSDK.Modules.RemoteFunction.IncludeLocalWorkDir\n",
      "sagemaker.config INFO - Applied value from config key = SageMaker.PythonSDK.Modules.RemoteFunction.CustomFileFilter.IgnoreNamePatterns\n"
     ]
    },
    {
     "name": "stderr",
     "output_type": "stream",
     "text": [
      "2024-10-14 23:03:46,233 sagemaker.remote_function INFO     Serializing function code to s3://sagemaker-us-east-1-533267005474/from-idea-to-prod/xgboost/preprocess-2024-10-14-23-03-46-232/function\n",
      "2024-10-14 23:03:46,311 sagemaker.remote_function INFO     Serializing function arguments to s3://sagemaker-us-east-1-533267005474/from-idea-to-prod/xgboost/preprocess-2024-10-14-23-03-46-232/arguments\n",
      "2024-10-14 23:03:47,302 sagemaker.remote_function INFO     Copied user workspace to '/tmp/tmpm6dfg4xr/temp_workspace/sagemaker_remote_function_workspace'\n",
      "2024-10-14 23:03:47,303 sagemaker.remote_function INFO     Copied dependencies file at './processing/requirements/requirements.txt' to '/tmp/tmpm6dfg4xr/temp_workspace/sagemaker_remote_function_workspace/requirements.txt'\n",
      "2024-10-14 23:03:49,491 sagemaker.remote_function INFO     Successfully created workdir archive at '/tmp/tmpm6dfg4xr/workspace.zip'\n",
      "2024-10-14 23:03:50,033 sagemaker.remote_function INFO     Successfully uploaded workdir to 's3://sagemaker-us-east-1-533267005474/from-idea-to-prod/xgboost/preprocess-2024-10-14-23-03-46-232/sm_rf_user_ws/workspace.zip'\n",
      "2024-10-14 23:03:50,054 sagemaker.remote_function INFO     Creating job: preprocess-2024-10-14-23-03-46-232\n"
     ]
    }
   ],
   "source": [
    "# este código iniciará um job do SageMaker para executar o script de pré-processamento\n",
    "with RemoteExecutor(dependencies=f\"{dependencies_dir}requirements.txt\",\n",
    "                    s3_root_uri=s3_root_uri, instance_type=processing_instance_type) as e:\n",
    "    future = e.submit(preprocess, df_data)    "
   ]
  },
  {
   "cell_type": "code",
   "execution_count": 37,
   "id": "5efd1653",
   "metadata": {},
   "outputs": [
    {
     "name": "stdout",
     "output_type": "stream",
     "text": [
      "2024-10-14 23:07:16 Starting - Preparing the instances for training\n",
      "2024-10-14 23:07:16 Downloading - Downloading the training image\n",
      "2024-10-14 23:07:16 Training - Training image download completed. Training in progress.\n",
      "2024-10-14 23:07:16 Uploading - Uploading generated training model\n",
      "2024-10-14 23:07:16 Completed - Training job completed\u001b[34mINFO: CONDA_PKGS_DIRS is set to '/opt/ml/sagemaker/warmpoolcache/sm_remotefunction_user_dependencies_cache/conda/pkgs'\u001b[0m\n",
      "\u001b[34mINFO: PIP_CACHE_DIR is set to '/opt/ml/sagemaker/warmpoolcache/sm_remotefunction_user_dependencies_cache/pip'\u001b[0m\n",
      "\u001b[34mINFO: Bootstraping runtime environment.\u001b[0m\n",
      "\u001b[34m2024-10-14 23:06:45,085 sagemaker.remote_function INFO     The job is running on non-root user: sagemaker-user. Adding write permissions to the following job output directories: ['/opt/ml/output', '/opt/ml/model', '/tmp'].\u001b[0m\n",
      "\u001b[34m2024-10-14 23:06:45,088 sagemaker.remote_function INFO     Executing 'sudo chmod -R 777 /opt/ml/output /opt/ml/model /tmp'.\u001b[0m\n",
      "\u001b[34m2024-10-14 23:06:45,336 sagemaker.remote_function INFO     Successfully unpacked workspace archive at '/home/sagemaker-user'.\u001b[0m\n",
      "\u001b[34m2024-10-14 23:06:45,336 sagemaker.remote_function INFO     '/home/sagemaker-user/sagemaker_remote_function_workspace/pre_exec.sh' does not exist. Assuming no pre-execution commands to run\u001b[0m\n",
      "\u001b[34m2024-10-14 23:06:45,336 sagemaker.remote_function INFO     Running command: '/opt/conda/bin/python -m pip install -r /home/sagemaker-user/sagemaker_remote_function_workspace/requirements.txt -U' in the dir: '/home/sagemaker-user' \u001b[0m\n",
      "\u001b[34m2024-10-14 23:06:45,849 sagemaker.remote_function INFO     Collecting mlflow==2.13.2 (from -r /home/sagemaker-user/sagemaker_remote_function_workspace/requirements.txt (line 1))\u001b[0m\n",
      "\u001b[34m2024-10-14 23:06:45,874 sagemaker.remote_function INFO       Downloading mlflow-2.13.2-py3-none-any.whl.metadata (29 kB)\u001b[0m\n",
      "\u001b[34m2024-10-14 23:06:45,901 sagemaker.remote_function INFO     Requirement already satisfied: sagemaker-mlflow==0.1.0 in /opt/conda/lib/python3.11/site-packages (from -r /home/sagemaker-user/sagemaker_remote_function_workspace/requirements.txt (line 2)) (0.1.0)\u001b[0m\n",
      "\u001b[34m2024-10-14 23:06:45,909 sagemaker.remote_function INFO     Requirement already satisfied: Flask<4 in /opt/conda/lib/python3.11/site-packages (from mlflow==2.13.2->-r /home/sagemaker-user/sagemaker_remote_function_workspace/requirements.txt (line 1)) (3.0.3)\u001b[0m\n",
      "\u001b[34m2024-10-14 23:06:45,913 sagemaker.remote_function INFO     Requirement already satisfied: alembic!=1.10.0,<2 in /opt/conda/lib/python3.11/site-packages (from mlflow==2.13.2->-r /home/sagemaker-user/sagemaker_remote_function_workspace/requirements.txt (line 1)) (1.13.2)\u001b[0m\n",
      "\u001b[34m2024-10-14 23:06:45,913 sagemaker.remote_function INFO     Requirement already satisfied: cachetools<6,>=5.0.0 in /opt/conda/lib/python3.11/site-packages (from mlflow==2.13.2->-r /home/sagemaker-user/sagemaker_remote_function_workspace/requirements.txt (line 1)) (5.5.0)\u001b[0m\n",
      "\u001b[34m2024-10-14 23:06:45,913 sagemaker.remote_function INFO     Requirement already satisfied: click<9,>=7.0 in /opt/conda/lib/python3.11/site-packages (from mlflow==2.13.2->-r /home/sagemaker-user/sagemaker_remote_function_workspace/requirements.txt (line 1)) (8.1.7)\u001b[0m\n",
      "\u001b[34m2024-10-14 23:06:45,913 sagemaker.remote_function INFO     Requirement already satisfied: cloudpickle<4 in /opt/conda/lib/python3.11/site-packages (from mlflow==2.13.2->-r /home/sagemaker-user/sagemaker_remote_function_workspace/requirements.txt (line 1)) (2.2.1)\u001b[0m\n",
      "\u001b[34m2024-10-14 23:06:45,913 sagemaker.remote_function INFO     Requirement already satisfied: docker<8,>=4.0.0 in /opt/conda/lib/python3.11/site-packages (from mlflow==2.13.2->-r /home/sagemaker-user/sagemaker_remote_function_workspace/requirements.txt (line 1)) (7.1.0)\u001b[0m\n",
      "\u001b[34m2024-10-14 23:06:45,915 sagemaker.remote_function INFO     Requirement already satisfied: entrypoints<1 in /opt/conda/lib/python3.11/site-packages (from mlflow==2.13.2->-r /home/sagemaker-user/sagemaker_remote_function_workspace/requirements.txt (line 1)) (0.4)\u001b[0m\n",
      "\u001b[34m2024-10-14 23:06:45,915 sagemaker.remote_function INFO     Requirement already satisfied: gitpython<4,>=3.1.9 in /opt/conda/lib/python3.11/site-packages (from mlflow==2.13.2->-r /home/sagemaker-user/sagemaker_remote_function_workspace/requirements.txt (line 1)) (3.1.43)\u001b[0m\n",
      "\u001b[34m2024-10-14 23:06:45,916 sagemaker.remote_function INFO     Requirement already satisfied: graphene<4 in /opt/conda/lib/python3.11/site-packages (from mlflow==2.13.2->-r /home/sagemaker-user/sagemaker_remote_function_workspace/requirements.txt (line 1)) (3.3)\u001b[0m\n",
      "\u001b[34m2024-10-14 23:06:45,916 sagemaker.remote_function INFO     Requirement already satisfied: importlib-metadata!=4.7.0,<8,>=3.7.0 in /opt/conda/lib/python3.11/site-packages (from mlflow==2.13.2->-r /home/sagemaker-user/sagemaker_remote_function_workspace/requirements.txt (line 1)) (6.10.0)\u001b[0m\n",
      "\u001b[34m2024-10-14 23:06:45,917 sagemaker.remote_function INFO     Requirement already satisfied: markdown<4,>=3.3 in /opt/conda/lib/python3.11/site-packages (from mlflow==2.13.2->-r /home/sagemaker-user/sagemaker_remote_function_workspace/requirements.txt (line 1)) (3.6)\u001b[0m\n",
      "\u001b[34m2024-10-14 23:06:45,917 sagemaker.remote_function INFO     Requirement already satisfied: matplotlib<4 in /opt/conda/lib/python3.11/site-packages (from mlflow==2.13.2->-r /home/sagemaker-user/sagemaker_remote_function_workspace/requirements.txt (line 1)) (3.9.2)\u001b[0m\n",
      "\u001b[34m2024-10-14 23:06:45,918 sagemaker.remote_function INFO     Requirement already satisfied: numpy<2 in /opt/conda/lib/python3.11/site-packages (from mlflow==2.13.2->-r /home/sagemaker-user/sagemaker_remote_function_workspace/requirements.txt (line 1)) (1.26.4)\u001b[0m\n",
      "\u001b[34m2024-10-14 23:06:45,919 sagemaker.remote_function INFO     Requirement already satisfied: opentelemetry-api<3,>=1.0.0 in /opt/conda/lib/python3.11/site-packages (from mlflow==2.13.2->-r /home/sagemaker-user/sagemaker_remote_function_workspace/requirements.txt (line 1)) (1.26.0)\u001b[0m\n",
      "\u001b[34m2024-10-14 23:06:45,919 sagemaker.remote_function INFO     Requirement already satisfied: opentelemetry-sdk<3,>=1.0.0 in /opt/conda/lib/python3.11/site-packages (from mlflow==2.13.2->-r /home/sagemaker-user/sagemaker_remote_function_workspace/requirements.txt (line 1)) (1.26.0)\u001b[0m\n",
      "\u001b[34m2024-10-14 23:06:45,920 sagemaker.remote_function INFO     Requirement already satisfied: packaging<25 in /opt/conda/lib/python3.11/site-packages (from mlflow==2.13.2->-r /home/sagemaker-user/sagemaker_remote_function_workspace/requirements.txt (line 1)) (24.1)\u001b[0m\n",
      "\u001b[34m2024-10-14 23:06:45,920 sagemaker.remote_function INFO     Requirement already satisfied: pandas<3 in /opt/conda/lib/python3.11/site-packages (from mlflow==2.13.2->-r /home/sagemaker-user/sagemaker_remote_function_workspace/requirements.txt (line 1)) (2.2.2)\u001b[0m\n",
      "\u001b[34m2024-10-14 23:06:45,921 sagemaker.remote_function INFO     Requirement already satisfied: protobuf<5,>=3.12.0 in /opt/conda/lib/python3.11/site-packages (from mlflow==2.13.2->-r /home/sagemaker-user/sagemaker_remote_function_workspace/requirements.txt (line 1)) (4.25.3)\u001b[0m\n",
      "\u001b[34m2024-10-14 23:06:45,922 sagemaker.remote_function INFO     Requirement already satisfied: pyarrow<16,>=4.0.0 in /opt/conda/lib/python3.11/site-packages (from mlflow==2.13.2->-r /home/sagemaker-user/sagemaker_remote_function_workspace/requirements.txt (line 1)) (15.0.2)\u001b[0m\n",
      "\u001b[34m2024-10-14 23:06:45,922 sagemaker.remote_function INFO     Requirement already satisfied: pytz<2025 in /opt/conda/lib/python3.11/site-packages (from mlflow==2.13.2->-r /home/sagemaker-user/sagemaker_remote_function_workspace/requirements.txt (line 1)) (2023.3)\u001b[0m\n",
      "\u001b[34m2024-10-14 23:06:45,923 sagemaker.remote_function INFO     Requirement already satisfied: pyyaml<7,>=5.1 in /opt/conda/lib/python3.11/site-packages (from mlflow==2.13.2->-r /home/sagemaker-user/sagemaker_remote_function_workspace/requirements.txt (line 1)) (6.0.2)\u001b[0m\n",
      "\u001b[34m2024-10-14 23:06:45,923 sagemaker.remote_function INFO     Requirement already satisfied: querystring-parser<2 in /opt/conda/lib/python3.11/site-packages (from mlflow==2.13.2->-r /home/sagemaker-user/sagemaker_remote_function_workspace/requirements.txt (line 1)) (1.2.4)\u001b[0m\n",
      "\u001b[34m2024-10-14 23:06:45,924 sagemaker.remote_function INFO     Requirement already satisfied: requests<3,>=2.17.3 in /opt/conda/lib/python3.11/site-packages (from mlflow==2.13.2->-r /home/sagemaker-user/sagemaker_remote_function_workspace/requirements.txt (line 1)) (2.32.3)\u001b[0m\n",
      "\u001b[34m2024-10-14 23:06:45,924 sagemaker.remote_function INFO     Requirement already satisfied: scikit-learn<2 in /opt/conda/lib/python3.11/site-packages (from mlflow==2.13.2->-r /home/sagemaker-user/sagemaker_remote_function_workspace/requirements.txt (line 1)) (1.4.2)\u001b[0m\n",
      "\u001b[34m2024-10-14 23:06:45,925 sagemaker.remote_function INFO     Requirement already satisfied: scipy<2 in /opt/conda/lib/python3.11/site-packages (from mlflow==2.13.2->-r /home/sagemaker-user/sagemaker_remote_function_workspace/requirements.txt (line 1)) (1.12.0)\u001b[0m\n",
      "\u001b[34m2024-10-14 23:06:45,925 sagemaker.remote_function INFO     Requirement already satisfied: sqlalchemy<3,>=1.4.0 in /opt/conda/lib/python3.11/site-packages (from mlflow==2.13.2->-r /home/sagemaker-user/sagemaker_remote_function_workspace/requirements.txt (line 1)) (2.0.30)\u001b[0m\n",
      "\u001b[34m2024-10-14 23:06:45,926 sagemaker.remote_function INFO     Requirement already satisfied: sqlparse<1,>=0.4.0 in /opt/conda/lib/python3.11/site-packages (from mlflow==2.13.2->-r /home/sagemaker-user/sagemaker_remote_function_workspace/requirements.txt (line 1)) (0.5.1)\u001b[0m\n",
      "\u001b[34m2024-10-14 23:06:45,927 sagemaker.remote_function INFO     Requirement already satisfied: Jinja2<4,>=2.11 in /opt/conda/lib/python3.11/site-packages (from mlflow==2.13.2->-r /home/sagemaker-user/sagemaker_remote_function_workspace/requirements.txt (line 1)) (3.1.4)\u001b[0m\n",
      "\u001b[34m2024-10-14 23:06:45,927 sagemaker.remote_function INFO     Requirement already satisfied: gunicorn<23 in /opt/conda/lib/python3.11/site-packages (from mlflow==2.13.2->-r /home/sagemaker-user/sagemaker_remote_function_workspace/requirements.txt (line 1)) (22.0.0)\u001b[0m\n",
      "\u001b[34m2024-10-14 23:06:45,930 sagemaker.remote_function INFO     Requirement already satisfied: boto3>=1.34 in /opt/conda/lib/python3.11/site-packages (from sagemaker-mlflow==0.1.0->-r /home/sagemaker-user/sagemaker_remote_function_workspace/requirements.txt (line 2)) (1.34.131)\u001b[0m\n",
      "\u001b[34m2024-10-14 23:06:45,938 sagemaker.remote_function INFO     Requirement already satisfied: Mako in /opt/conda/lib/python3.11/site-packages (from alembic!=1.10.0,<2->mlflow==2.13.2->-r /home/sagemaker-user/sagemaker_remote_function_workspace/requirements.txt (line 1)) (1.3.5)\u001b[0m\n",
      "\u001b[34m2024-10-14 23:06:45,939 sagemaker.remote_function INFO     Requirement already satisfied: typing-extensions>=4 in /opt/conda/lib/python3.11/site-packages (from alembic!=1.10.0,<2->mlflow==2.13.2->-r /home/sagemaker-user/sagemaker_remote_function_workspace/requirements.txt (line 1)) (4.12.2)\u001b[0m\n",
      "\u001b[34m2024-10-14 23:06:45,941 sagemaker.remote_function INFO     Requirement already satisfied: botocore<1.35.0,>=1.34.131 in /opt/conda/lib/python3.11/site-packages (from boto3>=1.34->sagemaker-mlflow==0.1.0->-r /home/sagemaker-user/sagemaker_remote_function_workspace/requirements.txt (line 2)) (1.34.131)\u001b[0m\n",
      "\u001b[34m2024-10-14 23:06:45,942 sagemaker.remote_function INFO     Requirement already satisfied: jmespath<2.0.0,>=0.7.1 in /opt/conda/lib/python3.11/site-packages (from boto3>=1.34->sagemaker-mlflow==0.1.0->-r /home/sagemaker-user/sagemaker_remote_function_workspace/requirements.txt (line 2)) (1.0.1)\u001b[0m\n",
      "\u001b[34m2024-10-14 23:06:45,942 sagemaker.remote_function INFO     Requirement already satisfied: s3transfer<0.11.0,>=0.10.0 in /opt/conda/lib/python3.11/site-packages (from boto3>=1.34->sagemaker-mlflow==0.1.0->-r /home/sagemaker-user/sagemaker_remote_function_workspace/requirements.txt (line 2)) (0.10.2)\u001b[0m\n",
      "\u001b[34m2024-10-14 23:06:45,947 sagemaker.remote_function INFO     Requirement already satisfied: urllib3>=1.26.0 in /opt/conda/lib/python3.11/site-packages (from docker<8,>=4.0.0->mlflow==2.13.2->-r /home/sagemaker-user/sagemaker_remote_function_workspace/requirements.txt (line 1)) (1.26.19)\u001b[0m\n",
      "\u001b[34m2024-10-14 23:06:45,950 sagemaker.remote_function INFO     Requirement already satisfied: Werkzeug>=3.0.0 in /opt/conda/lib/python3.11/site-packages (from Flask<4->mlflow==2.13.2->-r /home/sagemaker-user/sagemaker_remote_function_workspace/requirements.txt (line 1)) (3.0.3)\u001b[0m\n",
      "\u001b[34m2024-10-14 23:06:45,951 sagemaker.remote_function INFO     Requirement already satisfied: itsdangerous>=2.1.2 in /opt/conda/lib/python3.11/site-packages (from Flask<4->mlflow==2.13.2->-r /home/sagemaker-user/sagemaker_remote_function_workspace/requirements.txt (line 1)) (2.2.0)\u001b[0m\n",
      "\u001b[34m2024-10-14 23:06:45,951 sagemaker.remote_function INFO     Requirement already satisfied: blinker>=1.6.2 in /opt/conda/lib/python3.11/site-packages (from Flask<4->mlflow==2.13.2->-r /home/sagemaker-user/sagemaker_remote_function_workspace/requirements.txt (line 1)) (1.8.2)\u001b[0m\n",
      "\u001b[34m2024-10-14 23:06:45,955 sagemaker.remote_function INFO     Requirement already satisfied: gitdb<5,>=4.0.1 in /opt/conda/lib/python3.11/site-packages (from gitpython<4,>=3.1.9->mlflow==2.13.2->-r /home/sagemaker-user/sagemaker_remote_function_workspace/requirements.txt (line 1)) (4.0.11)\u001b[0m\n",
      "\u001b[34m2024-10-14 23:06:45,959 sagemaker.remote_function INFO     Requirement already satisfied: graphql-core<3.3,>=3.1 in /opt/conda/lib/python3.11/site-packages (from graphene<4->mlflow==2.13.2->-r /home/sagemaker-user/sagemaker_remote_function_workspace/requirements.txt (line 1)) (3.2.3)\u001b[0m\n",
      "\u001b[34m2024-10-14 23:06:45,960 sagemaker.remote_function INFO     Requirement already satisfied: graphql-relay<3.3,>=3.1 in /opt/conda/lib/python3.11/site-packages (from graphene<4->mlflow==2.13.2->-r /home/sagemaker-user/sagemaker_remote_function_workspace/requirements.txt (line 1)) (3.2.0)\u001b[0m\n",
      "\u001b[34m2024-10-14 23:06:45,960 sagemaker.remote_function INFO     Requirement already satisfied: aniso8601<10,>=8 in /opt/conda/lib/python3.11/site-packages (from graphene<4->mlflow==2.13.2->-r /home/sagemaker-user/sagemaker_remote_function_workspace/requirements.txt (line 1)) (9.0.1)\u001b[0m\n",
      "\u001b[34m2024-10-14 23:06:45,965 sagemaker.remote_function INFO     Requirement already satisfied: zipp>=0.5 in /opt/conda/lib/python3.11/site-packages (from importlib-metadata!=4.7.0,<8,>=3.7.0->mlflow==2.13.2->-r /home/sagemaker-user/sagemaker_remote_function_workspace/requirements.txt (line 1)) (3.20.0)\u001b[0m\n",
      "\u001b[34m2024-10-14 23:06:45,967 sagemaker.remote_function INFO     Requirement already satisfied: MarkupSafe>=2.0 in /opt/conda/lib/python3.11/site-packages (from Jinja2<4,>=2.11->mlflow==2.13.2->-r /home/sagemaker-user/sagemaker_remote_function_workspace/requirements.txt (line 1)) (2.1.5)\u001b[0m\n",
      "\u001b[34m2024-10-14 23:06:45,972 sagemaker.remote_function INFO     Requirement already satisfied: contourpy>=1.0.1 in /opt/conda/lib/python3.11/site-packages (from matplotlib<4->mlflow==2.13.2->-r /home/sagemaker-user/sagemaker_remote_function_workspace/requirements.txt (line 1)) (1.2.1)\u001b[0m\n",
      "\u001b[34m2024-10-14 23:06:45,972 sagemaker.remote_function INFO     Requirement already satisfied: cycler>=0.10 in /opt/conda/lib/python3.11/site-packages (from matplotlib<4->mlflow==2.13.2->-r /home/sagemaker-user/sagemaker_remote_function_workspace/requirements.txt (line 1)) (0.12.1)\u001b[0m\n",
      "\u001b[34m2024-10-14 23:06:45,973 sagemaker.remote_function INFO     Requirement already satisfied: fonttools>=4.22.0 in /opt/conda/lib/python3.11/site-packages (from matplotlib<4->mlflow==2.13.2->-r /home/sagemaker-user/sagemaker_remote_function_workspace/requirements.txt (line 1)) (4.53.1)\u001b[0m\n",
      "\u001b[34m2024-10-14 23:06:45,973 sagemaker.remote_function INFO     Requirement already satisfied: kiwisolver>=1.3.1 in /opt/conda/lib/python3.11/site-packages (from matplotlib<4->mlflow==2.13.2->-r /home/sagemaker-user/sagemaker_remote_function_workspace/requirements.txt (line 1)) (1.4.5)\u001b[0m\n",
      "\u001b[34m2024-10-14 23:06:45,974 sagemaker.remote_function INFO     Requirement already satisfied: pillow>=8 in /opt/conda/lib/python3.11/site-packages (from matplotlib<4->mlflow==2.13.2->-r /home/sagemaker-user/sagemaker_remote_function_workspace/requirements.txt (line 1)) (10.4.0)\u001b[0m\n",
      "\u001b[34m2024-10-14 23:06:45,975 sagemaker.remote_function INFO     Requirement already satisfied: pyparsing>=2.3.1 in /opt/conda/lib/python3.11/site-packages (from matplotlib<4->mlflow==2.13.2->-r /home/sagemaker-user/sagemaker_remote_function_workspace/requirements.txt (line 1)) (3.1.2)\u001b[0m\n",
      "\u001b[34m2024-10-14 23:06:45,975 sagemaker.remote_function INFO     Requirement already satisfied: python-dateutil>=2.7 in /opt/conda/lib/python3.11/site-packages (from matplotlib<4->mlflow==2.13.2->-r /home/sagemaker-user/sagemaker_remote_function_workspace/requirements.txt (line 1)) (2.9.0)\u001b[0m\n",
      "\u001b[34m2024-10-14 23:06:45,979 sagemaker.remote_function INFO     Requirement already satisfied: deprecated>=1.2.6 in /opt/conda/lib/python3.11/site-packages (from opentelemetry-api<3,>=1.0.0->mlflow==2.13.2->-r /home/sagemaker-user/sagemaker_remote_function_workspace/requirements.txt (line 1)) (1.2.14)\u001b[0m\n",
      "\u001b[34m2024-10-14 23:06:45,981 sagemaker.remote_function INFO     Requirement already satisfied: opentelemetry-semantic-conventions==0.47b0 in /opt/conda/lib/python3.11/site-packages (from opentelemetry-sdk<3,>=1.0.0->mlflow==2.13.2->-r /home/sagemaker-user/sagemaker_remote_function_workspace/requirements.txt (line 1)) (0.47b0)\u001b[0m\n",
      "\u001b[34m2024-10-14 23:06:45,993 sagemaker.remote_function INFO     Requirement already satisfied: tzdata>=2022.7 in /opt/conda/lib/python3.11/site-packages (from pandas<3->mlflow==2.13.2->-r /home/sagemaker-user/sagemaker_remote_function_workspace/requirements.txt (line 1)) (2024.1)\u001b[0m\n",
      "\u001b[34m2024-10-14 23:06:46,000 sagemaker.remote_function INFO     Requirement already satisfied: six in /opt/conda/lib/python3.11/site-packages (from querystring-parser<2->mlflow==2.13.2->-r /home/sagemaker-user/sagemaker_remote_function_workspace/requirements.txt (line 1)) (1.16.0)\u001b[0m\n",
      "\u001b[34m2024-10-14 23:06:46,003 sagemaker.remote_function INFO     Requirement already satisfied: charset-normalizer<4,>=2 in /opt/conda/lib/python3.11/site-packages (from requests<3,>=2.17.3->mlflow==2.13.2->-r /home/sagemaker-user/sagemaker_remote_function_workspace/requirements.txt (line 1)) (3.3.2)\u001b[0m\n",
      "\u001b[34m2024-10-14 23:06:46,003 sagemaker.remote_function INFO     Requirement already satisfied: idna<4,>=2.5 in /opt/conda/lib/python3.11/site-packages (from requests<3,>=2.17.3->mlflow==2.13.2->-r /home/sagemaker-user/sagemaker_remote_function_workspace/requirements.txt (line 1)) (3.7)\u001b[0m\n",
      "\u001b[34m2024-10-14 23:06:46,004 sagemaker.remote_function INFO     Requirement already satisfied: certifi>=2017.4.17 in /opt/conda/lib/python3.11/site-packages (from requests<3,>=2.17.3->mlflow==2.13.2->-r /home/sagemaker-user/sagemaker_remote_function_workspace/requirements.txt (line 1)) (2024.7.4)\u001b[0m\n",
      "\u001b[34m2024-10-14 23:06:46,010 sagemaker.remote_function INFO     Requirement already satisfied: joblib>=1.2.0 in /opt/conda/lib/python3.11/site-packages (from scikit-learn<2->mlflow==2.13.2->-r /home/sagemaker-user/sagemaker_remote_function_workspace/requirements.txt (line 1)) (1.4.2)\u001b[0m\n",
      "\u001b[34m2024-10-14 23:06:46,011 sagemaker.remote_function INFO     Requirement already satisfied: threadpoolctl>=2.0.0 in /opt/conda/lib/python3.11/site-packages (from scikit-learn<2->mlflow==2.13.2->-r /home/sagemaker-user/sagemaker_remote_function_workspace/requirements.txt (line 1)) (3.5.0)\u001b[0m\n",
      "\u001b[34m2024-10-14 23:06:46,020 sagemaker.remote_function INFO     Requirement already satisfied: greenlet!=0.4.17 in /opt/conda/lib/python3.11/site-packages (from sqlalchemy<3,>=1.4.0->mlflow==2.13.2->-r /home/sagemaker-user/sagemaker_remote_function_workspace/requirements.txt (line 1)) (3.0.3)\u001b[0m\n",
      "\u001b[34m2024-10-14 23:06:46,038 sagemaker.remote_function INFO     Requirement already satisfied: wrapt<2,>=1.10 in /opt/conda/lib/python3.11/site-packages (from deprecated>=1.2.6->opentelemetry-api<3,>=1.0.0->mlflow==2.13.2->-r /home/sagemaker-user/sagemaker_remote_function_workspace/requirements.txt (line 1)) (1.16.0)\u001b[0m\n",
      "\u001b[34m2024-10-14 23:06:46,048 sagemaker.remote_function INFO     Requirement already satisfied: smmap<6,>=3.0.1 in /opt/conda/lib/python3.11/site-packages (from gitdb<5,>=4.0.1->gitpython<4,>=3.1.9->mlflow==2.13.2->-r /home/sagemaker-user/sagemaker_remote_function_workspace/requirements.txt (line 1)) (5.0.0)\u001b[0m\n",
      "\u001b[34m2024-10-14 23:06:46,095 sagemaker.remote_function INFO     Downloading mlflow-2.13.2-py3-none-any.whl (25.0 MB)\u001b[0m\n",
      "\u001b[34m2024-10-14 23:06:46,203 sagemaker.remote_function INFO        ━━━━━━━━━━━━━━━━━━━━━━━━━━━━━━━━━━━━━━━━ 25.0/25.0 MB 248.1 MB/s eta 0:00:00\u001b[0m\n",
      "\u001b[34m2024-10-14 23:06:46,844 sagemaker.remote_function INFO     Installing collected packages: mlflow\u001b[0m\n",
      "\u001b[34m2024-10-14 23:06:46,845 sagemaker.remote_function INFO       Attempting uninstall: mlflow\u001b[0m\n",
      "\u001b[34m2024-10-14 23:06:46,851 sagemaker.remote_function INFO         Found existing installation: mlflow 2.15.1\u001b[0m\n",
      "\u001b[34m2024-10-14 23:06:46,909 sagemaker.remote_function INFO         Uninstalling mlflow-2.15.1:\u001b[0m\n",
      "\u001b[34m2024-10-14 23:06:47,100 sagemaker.remote_function INFO           Successfully uninstalled mlflow-2.15.1\u001b[0m\n",
      "\u001b[34m2024-10-14 23:06:48,438 sagemaker.remote_function INFO     Successfully installed mlflow-2.13.2\u001b[0m\n",
      "\u001b[34m2024-10-14 23:06:48,645 sagemaker.remote_function WARNING  WARNING: The directory '/opt/ml/sagemaker/warmpoolcache/sm_remotefunction_user_dependencies_cache/pip' or its parent directory is not owned or is not writable by the current user. The cache has been disabled. Check the permissions and owner of that directory. If executing pip with sudo, you should use sudo's -H flag.\u001b[0m\n",
      "\u001b[34m2024-10-14 23:06:48,645 sagemaker.remote_function INFO     Command /opt/conda/bin/python -m pip install -r /home/sagemaker-user/sagemaker_remote_function_workspace/requirements.txt -U ran successfully\u001b[0m\n",
      "\u001b[34msagemaker.config INFO - Not applying SDK defaults from location: /etc/xdg/sagemaker/config.yaml\u001b[0m\n",
      "\u001b[34msagemaker.config INFO - Not applying SDK defaults from location: /home/sagemaker-user/.config/sagemaker/config.yaml\u001b[0m\n",
      "\u001b[34m2024-10-14 23:06:50,015 sagemaker.remote_function WARNING  Inconsistent sagemaker versions found: sagemaker python sdk version found in the container is '2.227.0' which does not match the '2.232.2' on the local client. Please make sure that the sagemaker version used in the training container is the same as the local sagemaker version in case of unexpected behaviors.\u001b[0m\n",
      "\u001b[34mINFO: Changing workspace to sagemaker_remote_function_workspace.\u001b[0m\n",
      "\u001b[34mINFO: No conda env provided. Invoking remote function\u001b[0m\n",
      "\u001b[34msagemaker.config INFO - Not applying SDK defaults from location: /etc/xdg/sagemaker/config.yaml\u001b[0m\n",
      "\u001b[34msagemaker.config INFO - Not applying SDK defaults from location: /home/sagemaker-user/.config/sagemaker/config.yaml\u001b[0m\n",
      "\u001b[34m2024-10-14 23:06:51,594 sagemaker.remote_function INFO     Deserializing function code from s3://sagemaker-us-east-1-533267005474/from-idea-to-prod/xgboost/preprocess-2024-10-14-23-03-46-232/function\u001b[0m\n",
      "\u001b[34m2024-10-14 23:06:52,078 sagemaker.remote_function INFO     Deserializing function arguments from s3://sagemaker-us-east-1-533267005474/from-idea-to-prod/xgboost/preprocess-2024-10-14-23-03-46-232/arguments\u001b[0m\n",
      "\u001b[34m2024-10-14 23:06:52,391 sagemaker.remote_function INFO     Resolving pipeline variables\u001b[0m\n",
      "\u001b[34m2024-10-14 23:06:52,391 sagemaker.remote_function INFO     Invoking the function\u001b[0m\n",
      "\u001b[34m2024/10/14 23:06:53 INFO mlflow.tracking.fluent: Autologging successfully enabled for sklearn.\u001b[0m\n",
      "\u001b[34m2024/10/14 23:06:53 INFO mlflow.tracking.fluent: Experiment with name 'preprocess-14-23-06-53' does not exist. Creating a new experiment.\u001b[0m\n",
      "\u001b[34m/opt/conda/lib/python3.11/site-packages/numpy/core/fromnumeric.py:59: FutureWarning: 'DataFrame.swapaxes' is deprecated and will be removed in a future version. Please use 'DataFrame.transpose' instead.\n",
      "  return bound(*args, **kwds)\u001b[0m\n",
      "\u001b[34m2024-10-14 23:06:54,112 sagemaker.remote_function INFO     Serializing the function return and uploading to s3://sagemaker-us-east-1-533267005474/from-idea-to-prod/xgboost/preprocess-2024-10-14-23-03-46-232/results\u001b[0m\n",
      "\u001b[34mData split > train:(28831, 65) | validation:(8238, 65) | test:(4119, 65)\u001b[0m\n",
      "\u001b[34m## Processing complete. Exiting.\u001b[0m\n",
      "Training seconds: 160\n",
      "Billable seconds: 160\n"
     ]
    }
   ],
   "source": [
    "train_data, validation_data, test_data, baseline_data = future.result()"
   ]
  },
  {
   "cell_type": "code",
   "execution_count": 39,
   "id": "f472ed5c-2e54-4002-9fd5-818497ec8d5b",
   "metadata": {
    "tags": []
   },
   "outputs": [
    {
     "data": {
      "text/html": [
       "<div>\n",
       "<style scoped>\n",
       "    .dataframe tbody tr th:only-of-type {\n",
       "        vertical-align: middle;\n",
       "    }\n",
       "\n",
       "    .dataframe tbody tr th {\n",
       "        vertical-align: top;\n",
       "    }\n",
       "\n",
       "    .dataframe thead th {\n",
       "        text-align: right;\n",
       "    }\n",
       "</style>\n",
       "<table border=\"1\" class=\"dataframe\">\n",
       "  <thead>\n",
       "    <tr style=\"text-align: right;\">\n",
       "      <th></th>\n",
       "      <th>y</th>\n",
       "      <th>campaign</th>\n",
       "      <th>pdays</th>\n",
       "      <th>previous</th>\n",
       "      <th>no_previous_contact</th>\n",
       "      <th>not_working</th>\n",
       "      <th>age_18-29</th>\n",
       "      <th>age_30-39</th>\n",
       "      <th>age_40-49</th>\n",
       "      <th>age_50-59</th>\n",
       "      <th>...</th>\n",
       "      <th>month_oct</th>\n",
       "      <th>month_sep</th>\n",
       "      <th>day_of_week_fri</th>\n",
       "      <th>day_of_week_mon</th>\n",
       "      <th>day_of_week_thu</th>\n",
       "      <th>day_of_week_tue</th>\n",
       "      <th>day_of_week_wed</th>\n",
       "      <th>poutcome_failure</th>\n",
       "      <th>poutcome_nonexistent</th>\n",
       "      <th>poutcome_success</th>\n",
       "    </tr>\n",
       "  </thead>\n",
       "  <tbody>\n",
       "    <tr>\n",
       "      <th>40949</th>\n",
       "      <td>0</td>\n",
       "      <td>0.036364</td>\n",
       "      <td>1.0</td>\n",
       "      <td>0.0</td>\n",
       "      <td>1</td>\n",
       "      <td>0</td>\n",
       "      <td>0</td>\n",
       "      <td>0</td>\n",
       "      <td>0</td>\n",
       "      <td>1</td>\n",
       "      <td>...</td>\n",
       "      <td>1</td>\n",
       "      <td>0</td>\n",
       "      <td>0</td>\n",
       "      <td>0</td>\n",
       "      <td>1</td>\n",
       "      <td>0</td>\n",
       "      <td>0</td>\n",
       "      <td>0</td>\n",
       "      <td>1</td>\n",
       "      <td>0</td>\n",
       "    </tr>\n",
       "    <tr>\n",
       "      <th>9332</th>\n",
       "      <td>0</td>\n",
       "      <td>0.018182</td>\n",
       "      <td>1.0</td>\n",
       "      <td>0.0</td>\n",
       "      <td>1</td>\n",
       "      <td>0</td>\n",
       "      <td>0</td>\n",
       "      <td>0</td>\n",
       "      <td>0</td>\n",
       "      <td>1</td>\n",
       "      <td>...</td>\n",
       "      <td>0</td>\n",
       "      <td>0</td>\n",
       "      <td>1</td>\n",
       "      <td>0</td>\n",
       "      <td>0</td>\n",
       "      <td>0</td>\n",
       "      <td>0</td>\n",
       "      <td>0</td>\n",
       "      <td>1</td>\n",
       "      <td>0</td>\n",
       "    </tr>\n",
       "    <tr>\n",
       "      <th>32286</th>\n",
       "      <td>0</td>\n",
       "      <td>0.018182</td>\n",
       "      <td>1.0</td>\n",
       "      <td>0.0</td>\n",
       "      <td>1</td>\n",
       "      <td>0</td>\n",
       "      <td>0</td>\n",
       "      <td>1</td>\n",
       "      <td>0</td>\n",
       "      <td>0</td>\n",
       "      <td>...</td>\n",
       "      <td>0</td>\n",
       "      <td>0</td>\n",
       "      <td>1</td>\n",
       "      <td>0</td>\n",
       "      <td>0</td>\n",
       "      <td>0</td>\n",
       "      <td>0</td>\n",
       "      <td>0</td>\n",
       "      <td>1</td>\n",
       "      <td>0</td>\n",
       "    </tr>\n",
       "    <tr>\n",
       "      <th>3925</th>\n",
       "      <td>0</td>\n",
       "      <td>0.036364</td>\n",
       "      <td>1.0</td>\n",
       "      <td>0.0</td>\n",
       "      <td>1</td>\n",
       "      <td>0</td>\n",
       "      <td>0</td>\n",
       "      <td>0</td>\n",
       "      <td>1</td>\n",
       "      <td>0</td>\n",
       "      <td>...</td>\n",
       "      <td>0</td>\n",
       "      <td>0</td>\n",
       "      <td>0</td>\n",
       "      <td>1</td>\n",
       "      <td>0</td>\n",
       "      <td>0</td>\n",
       "      <td>0</td>\n",
       "      <td>0</td>\n",
       "      <td>1</td>\n",
       "      <td>0</td>\n",
       "    </tr>\n",
       "    <tr>\n",
       "      <th>9406</th>\n",
       "      <td>0</td>\n",
       "      <td>0.018182</td>\n",
       "      <td>1.0</td>\n",
       "      <td>0.0</td>\n",
       "      <td>1</td>\n",
       "      <td>0</td>\n",
       "      <td>0</td>\n",
       "      <td>1</td>\n",
       "      <td>0</td>\n",
       "      <td>0</td>\n",
       "      <td>...</td>\n",
       "      <td>0</td>\n",
       "      <td>0</td>\n",
       "      <td>1</td>\n",
       "      <td>0</td>\n",
       "      <td>0</td>\n",
       "      <td>0</td>\n",
       "      <td>0</td>\n",
       "      <td>0</td>\n",
       "      <td>1</td>\n",
       "      <td>0</td>\n",
       "    </tr>\n",
       "  </tbody>\n",
       "</table>\n",
       "<p>5 rows × 65 columns</p>\n",
       "</div>"
      ],
      "text/plain": [
       "       y  campaign  pdays  previous  no_previous_contact  not_working  \\\n",
       "40949  0  0.036364    1.0       0.0                    1            0   \n",
       "9332   0  0.018182    1.0       0.0                    1            0   \n",
       "32286  0  0.018182    1.0       0.0                    1            0   \n",
       "3925   0  0.036364    1.0       0.0                    1            0   \n",
       "9406   0  0.018182    1.0       0.0                    1            0   \n",
       "\n",
       "       age_18-29  age_30-39  age_40-49  age_50-59  ...  month_oct  month_sep  \\\n",
       "40949          0          0          0          1  ...          1          0   \n",
       "9332           0          0          0          1  ...          0          0   \n",
       "32286          0          1          0          0  ...          0          0   \n",
       "3925           0          0          1          0  ...          0          0   \n",
       "9406           0          1          0          0  ...          0          0   \n",
       "\n",
       "       day_of_week_fri  day_of_week_mon  day_of_week_thu  day_of_week_tue  \\\n",
       "40949                0                0                1                0   \n",
       "9332                 1                0                0                0   \n",
       "32286                1                0                0                0   \n",
       "3925                 0                1                0                0   \n",
       "9406                 1                0                0                0   \n",
       "\n",
       "       day_of_week_wed  poutcome_failure  poutcome_nonexistent  \\\n",
       "40949                0                 0                     1   \n",
       "9332                 0                 0                     1   \n",
       "32286                0                 0                     1   \n",
       "3925                 0                 0                     1   \n",
       "9406                 0                 0                     1   \n",
       "\n",
       "       poutcome_success  \n",
       "40949                 0  \n",
       "9332                  0  \n",
       "32286                 0  \n",
       "3925                  0  \n",
       "9406                  0  \n",
       "\n",
       "[5 rows x 65 columns]"
      ]
     },
     "execution_count": 39,
     "metadata": {},
     "output_type": "execute_result"
    }
   ],
   "source": [
    "# veja os dados processados\n",
    "train_data.head()"
   ]
  },
  {
   "cell_type": "markdown",
   "id": "704ef0e0",
   "metadata": {},
   "source": [
    "#### Etapa 3: Executar código com o decorador @remote\n",
    "Agora você pode aplicar `@remote` à função uma vez que os testes locais e remotos sejam executados com sucesso. \n",
    "Você também pode definir configurações padrão para funções remotas por meio de um [configuration file](https://docs.aws.amazon.com/sagemaker/latest/dg/train-remote-decorator-config.html). O arquivo de configuração é usado ao invocar uma função com o decorador `@remote` ou a API `RemoteExecutor`. Você usará arquivos de configuração do SageMaker no notebook 3 para configurar pipelines do SageMaker."
   ]
  },
  {
   "cell_type": "code",
   "execution_count": 40,
   "id": "04834cdb",
   "metadata": {},
   "outputs": [
    {
     "name": "stderr",
     "output_type": "stream",
     "text": [
      "INFO:sagemaker.telemetry.telemetry_logging:SageMaker Python SDK will collect telemetry to help us better understand our user's needs, diagnose issues, and deliver additional features.\n",
      "To opt out of telemetry, please disable via TelemetryOptOut parameter in SDK defaults config. For more information, refer to https://sagemaker.readthedocs.io/en/stable/overview.html#configuring-and-using-defaults-with-the-sagemaker-python-sdk.\n"
     ]
    },
    {
     "name": "stdout",
     "output_type": "stream",
     "text": [
      "sagemaker.config INFO - Applied value from config key = SageMaker.PythonSDK.Modules.RemoteFunction.IncludeLocalWorkDir\n",
      "sagemaker.config INFO - Applied value from config key = SageMaker.PythonSDK.Modules.RemoteFunction.CustomFileFilter.IgnoreNamePatterns\n"
     ]
    }
   ],
   "source": [
    "@remote(dependencies=f\"{dependencies_dir}requirements.txt\",\n",
    "        s3_root_uri=s3_root_uri, instance_type=processing_instance_type)\n",
    "def preprocess(\n",
    "    df_data,\n",
    "    tracking_server_arn=mlflow_arn,\n",
    "    experiment_name=None,\n",
    "    run_id=None,\n",
    "):\n",
    "    import mlflow\n",
    "    from time import gmtime, strftime\n",
    "\n",
    "    try:\n",
    "        # Definir a URI do Servidor de Rastreamento usando o ARN do Servidor de Rastreamento que você criou\n",
    "        mlflow.set_tracking_uri(tracking_server_arn)\n",
    "        \n",
    "        # Habilitar autologging no MLflow\n",
    "        mlflow.autolog()\n",
    "    \n",
    "        suffix = strftime('%d-%H-%M-%S', gmtime())\n",
    "        mlflow.set_experiment(experiment_name=experiment_name if experiment_name else f\"preprocess-{suffix}\")\n",
    "        run = mlflow.start_run(run_id=run_id) if run_id else mlflow.start_run(run_name=f\"remote-processing-{suffix}\", nested=True)\n",
    "    \n",
    "        target_col = \"y\"\n",
    "        \n",
    "        # Variável indicadora para capturar quando pdays assume o valor de 999\n",
    "        df_data[\"no_previous_contact\"] = np.where(df_data[\"pdays\"] == 999, 1, 0)\n",
    "    \n",
    "        # Indicador para indivíduos não ativamente empregados\n",
    "        df_data[\"not_working\"] = np.where(\n",
    "            np.in1d(df_data[\"job\"], [\"student\", \"retired\", \"unemployed\"]), 1, 0\n",
    "        )\n",
    "    \n",
    "        # remover dados desnecessários\n",
    "        df_model_data = df_data.drop(\n",
    "            [\"duration\", \"emp.var.rate\", \"cons.price.idx\", \"cons.conf.idx\", \"euribor3m\", \"nr.employed\"],\n",
    "            axis=1,\n",
    "        )\n",
    "    \n",
    "        bins = [18, 30, 40, 50, 60, 70, 90]\n",
    "        labels = ['18-29', '30-39', '40-49', '50-59', '60-69', '70-plus']\n",
    "    \n",
    "        df_model_data['age_range'] = pd.cut(df_model_data.age, bins, labels=labels, include_lowest=True)\n",
    "        df_model_data = pd.concat([df_model_data, pd.get_dummies(df_model_data['age_range'], prefix='age', dtype=int)], axis=1)\n",
    "        df_model_data.drop('age', axis=1, inplace=True)\n",
    "        df_model_data.drop('age_range', axis=1, inplace=True)\n",
    "    \n",
    "        scaled_features = ['pdays', 'previous', 'campaign']\n",
    "        df_model_data[scaled_features] = MinMaxScaler().fit_transform(df_model_data[scaled_features])\n",
    "    \n",
    "        df_model_data = pd.get_dummies(df_model_data, dtype=int)  # Converter variáveis categóricas em conjuntos de indicadores\n",
    "    \n",
    "        # Substituir \"y_no\" e \"y_yes\" por uma única coluna de rótulo e trazê-la para a frente:\n",
    "        df_model_data = pd.concat(\n",
    "            [\n",
    "                df_model_data[\"y_yes\"].rename(target_col),\n",
    "                df_model_data.drop([\"y_no\", \"y_yes\"], axis=1),\n",
    "            ],\n",
    "            axis=1,\n",
    "        )\n",
    "    \n",
    "        # Embaralhar e dividir o conjunto de dados\n",
    "        train_data, validation_data, test_data = np.split(\n",
    "            df_model_data.sample(frac=1, random_state=1729),\n",
    "            [int(0.7 * len(df_model_data)), int(0.9 * len(df_model_data))],\n",
    "        )\n",
    "    \n",
    "        print(f\"Data split > train:{train_data.shape} | validation:{validation_data.shape} | test:{test_data.shape}\")\n",
    "\n",
    "        mlflow.log_params(\n",
    "            {\n",
    "                \"train\": train_data.shape,\n",
    "                \"validate\": validation_data.shape,\n",
    "                \"test\": test_data.shape\n",
    "            }\n",
    "        )\n",
    "        \n",
    "        baseline_data = df_model_data.drop([target_col], axis=1)\n",
    "        \n",
    "        print(\"## Processing complete. Exiting.\")\n",
    "        \n",
    "        return train_data, validation_data, test_data, baseline_data\n",
    "\n",
    "    except Exception as e:\n",
    "        print(f\"Exception in processing script: {e}\")\n",
    "        raise e\n",
    "    finally:\n",
    "        mlflow.end_run()\n",
    "    return train_data, validation_data, test_data, baseline_data"
   ]
  },
  {
   "cell_type": "code",
   "execution_count": 42,
   "id": "972498eb",
   "metadata": {},
   "outputs": [
    {
     "name": "stderr",
     "output_type": "stream",
     "text": [
      "2024-10-14 23:12:12,478 sagemaker.remote_function INFO     Serializing function code to s3://sagemaker-us-east-1-533267005474/from-idea-to-prod/xgboost/preprocess-2024-10-14-23-12-12-478/function\n",
      "2024-10-14 23:12:12,605 sagemaker.remote_function INFO     Serializing function arguments to s3://sagemaker-us-east-1-533267005474/from-idea-to-prod/xgboost/preprocess-2024-10-14-23-12-12-478/arguments\n",
      "2024-10-14 23:12:13,070 sagemaker.remote_function INFO     Copied user workspace to '/tmp/tmp8tdha_u7/temp_workspace/sagemaker_remote_function_workspace'\n",
      "2024-10-14 23:12:13,073 sagemaker.remote_function INFO     Copied dependencies file at './processing/requirements/requirements.txt' to '/tmp/tmp8tdha_u7/temp_workspace/sagemaker_remote_function_workspace/requirements.txt'\n",
      "2024-10-14 23:12:15,545 sagemaker.remote_function INFO     Successfully created workdir archive at '/tmp/tmp8tdha_u7/workspace.zip'\n",
      "2024-10-14 23:12:16,138 sagemaker.remote_function INFO     Successfully uploaded workdir to 's3://sagemaker-us-east-1-533267005474/from-idea-to-prod/xgboost/preprocess-2024-10-14-23-12-12-478/sm_rf_user_ws/workspace.zip'\n",
      "2024-10-14 23:12:16,175 sagemaker.remote_function INFO     Creating job: preprocess-2024-10-14-23-12-12-478\n"
     ]
    },
    {
     "name": "stdout",
     "output_type": "stream",
     "text": [
      "2024-10-14 23:12:17 Starting - Starting the training job...\n",
      "2024-10-14 23:12:32 Starting - Preparing the instances for training...\n",
      "2024-10-14 23:12:59 Downloading - Downloading input data...\n",
      "2024-10-14 23:13:29 Downloading - Downloading the training image.........\n",
      "2024-10-14 23:15:05 Training - Training image download completed. Training in progress.\u001b[34mINFO: CONDA_PKGS_DIRS is set to '/opt/ml/sagemaker/warmpoolcache/sm_remotefunction_user_dependencies_cache/conda/pkgs'\u001b[0m\n",
      "\u001b[34mINFO: PIP_CACHE_DIR is set to '/opt/ml/sagemaker/warmpoolcache/sm_remotefunction_user_dependencies_cache/pip'\u001b[0m\n",
      "\u001b[34mINFO: Bootstraping runtime environment.\u001b[0m\n",
      "\u001b[34m2024-10-14 23:15:09,459 sagemaker.remote_function INFO     The job is running on non-root user: sagemaker-user. Adding write permissions to the following job output directories: ['/opt/ml/output', '/opt/ml/model', '/tmp'].\u001b[0m\n",
      "\u001b[34m2024-10-14 23:15:09,460 sagemaker.remote_function INFO     Executing 'sudo chmod -R 777 /opt/ml/output /opt/ml/model /tmp'.\u001b[0m\n",
      "\u001b[34m2024-10-14 23:15:09,694 sagemaker.remote_function INFO     Successfully unpacked workspace archive at '/home/sagemaker-user'.\u001b[0m\n",
      "\u001b[34m2024-10-14 23:15:09,694 sagemaker.remote_function INFO     '/home/sagemaker-user/sagemaker_remote_function_workspace/pre_exec.sh' does not exist. Assuming no pre-execution commands to run\u001b[0m\n",
      "\u001b[34m2024-10-14 23:15:09,694 sagemaker.remote_function INFO     Running command: '/opt/conda/bin/python -m pip install -r /home/sagemaker-user/sagemaker_remote_function_workspace/requirements.txt -U' in the dir: '/home/sagemaker-user' \u001b[0m\n",
      "\u001b[34m2024-10-14 23:15:10,224 sagemaker.remote_function INFO     Collecting mlflow==2.13.2 (from -r /home/sagemaker-user/sagemaker_remote_function_workspace/requirements.txt (line 1))\u001b[0m\n",
      "\u001b[34m2024-10-14 23:15:10,246 sagemaker.remote_function INFO       Downloading mlflow-2.13.2-py3-none-any.whl.metadata (29 kB)\u001b[0m\n",
      "\u001b[34m2024-10-14 23:15:10,277 sagemaker.remote_function INFO     Requirement already satisfied: sagemaker-mlflow==0.1.0 in /opt/conda/lib/python3.11/site-packages (from -r /home/sagemaker-user/sagemaker_remote_function_workspace/requirements.txt (line 2)) (0.1.0)\u001b[0m\n",
      "\u001b[34m2024-10-14 23:15:10,287 sagemaker.remote_function INFO     Requirement already satisfied: Flask<4 in /opt/conda/lib/python3.11/site-packages (from mlflow==2.13.2->-r /home/sagemaker-user/sagemaker_remote_function_workspace/requirements.txt (line 1)) (3.0.3)\u001b[0m\n",
      "\u001b[34m2024-10-14 23:15:10,288 sagemaker.remote_function INFO     Requirement already satisfied: alembic!=1.10.0,<2 in /opt/conda/lib/python3.11/site-packages (from mlflow==2.13.2->-r /home/sagemaker-user/sagemaker_remote_function_workspace/requirements.txt (line 1)) (1.13.2)\u001b[0m\n",
      "\u001b[34m2024-10-14 23:15:10,289 sagemaker.remote_function INFO     Requirement already satisfied: cachetools<6,>=5.0.0 in /opt/conda/lib/python3.11/site-packages (from mlflow==2.13.2->-r /home/sagemaker-user/sagemaker_remote_function_workspace/requirements.txt (line 1)) (5.5.0)\u001b[0m\n",
      "\u001b[34m2024-10-14 23:15:10,289 sagemaker.remote_function INFO     Requirement already satisfied: click<9,>=7.0 in /opt/conda/lib/python3.11/site-packages (from mlflow==2.13.2->-r /home/sagemaker-user/sagemaker_remote_function_workspace/requirements.txt (line 1)) (8.1.7)\u001b[0m\n",
      "\u001b[34m2024-10-14 23:15:10,290 sagemaker.remote_function INFO     Requirement already satisfied: cloudpickle<4 in /opt/conda/lib/python3.11/site-packages (from mlflow==2.13.2->-r /home/sagemaker-user/sagemaker_remote_function_workspace/requirements.txt (line 1)) (2.2.1)\u001b[0m\n",
      "\u001b[34m2024-10-14 23:15:10,290 sagemaker.remote_function INFO     Requirement already satisfied: docker<8,>=4.0.0 in /opt/conda/lib/python3.11/site-packages (from mlflow==2.13.2->-r /home/sagemaker-user/sagemaker_remote_function_workspace/requirements.txt (line 1)) (7.1.0)\u001b[0m\n",
      "\u001b[34m2024-10-14 23:15:10,291 sagemaker.remote_function INFO     Requirement already satisfied: entrypoints<1 in /opt/conda/lib/python3.11/site-packages (from mlflow==2.13.2->-r /home/sagemaker-user/sagemaker_remote_function_workspace/requirements.txt (line 1)) (0.4)\u001b[0m\n",
      "\u001b[34m2024-10-14 23:15:10,292 sagemaker.remote_function INFO     Requirement already satisfied: gitpython<4,>=3.1.9 in /opt/conda/lib/python3.11/site-packages (from mlflow==2.13.2->-r /home/sagemaker-user/sagemaker_remote_function_workspace/requirements.txt (line 1)) (3.1.43)\u001b[0m\n",
      "\u001b[34m2024-10-14 23:15:10,292 sagemaker.remote_function INFO     Requirement already satisfied: graphene<4 in /opt/conda/lib/python3.11/site-packages (from mlflow==2.13.2->-r /home/sagemaker-user/sagemaker_remote_function_workspace/requirements.txt (line 1)) (3.3)\u001b[0m\n",
      "\u001b[34m2024-10-14 23:15:10,293 sagemaker.remote_function INFO     Requirement already satisfied: importlib-metadata!=4.7.0,<8,>=3.7.0 in /opt/conda/lib/python3.11/site-packages (from mlflow==2.13.2->-r /home/sagemaker-user/sagemaker_remote_function_workspace/requirements.txt (line 1)) (6.10.0)\u001b[0m\n",
      "\u001b[34m2024-10-14 23:15:10,293 sagemaker.remote_function INFO     Requirement already satisfied: markdown<4,>=3.3 in /opt/conda/lib/python3.11/site-packages (from mlflow==2.13.2->-r /home/sagemaker-user/sagemaker_remote_function_workspace/requirements.txt (line 1)) (3.6)\u001b[0m\n",
      "\u001b[34m2024-10-14 23:15:10,294 sagemaker.remote_function INFO     Requirement already satisfied: matplotlib<4 in /opt/conda/lib/python3.11/site-packages (from mlflow==2.13.2->-r /home/sagemaker-user/sagemaker_remote_function_workspace/requirements.txt (line 1)) (3.9.2)\u001b[0m\n",
      "\u001b[34m2024-10-14 23:15:10,294 sagemaker.remote_function INFO     Requirement already satisfied: numpy<2 in /opt/conda/lib/python3.11/site-packages (from mlflow==2.13.2->-r /home/sagemaker-user/sagemaker_remote_function_workspace/requirements.txt (line 1)) (1.26.4)\u001b[0m\n",
      "\u001b[34m2024-10-14 23:15:10,295 sagemaker.remote_function INFO     Requirement already satisfied: opentelemetry-api<3,>=1.0.0 in /opt/conda/lib/python3.11/site-packages (from mlflow==2.13.2->-r /home/sagemaker-user/sagemaker_remote_function_workspace/requirements.txt (line 1)) (1.26.0)\u001b[0m\n",
      "\u001b[34m2024-10-14 23:15:10,296 sagemaker.remote_function INFO     Requirement already satisfied: opentelemetry-sdk<3,>=1.0.0 in /opt/conda/lib/python3.11/site-packages (from mlflow==2.13.2->-r /home/sagemaker-user/sagemaker_remote_function_workspace/requirements.txt (line 1)) (1.26.0)\u001b[0m\n",
      "\u001b[34m2024-10-14 23:15:10,296 sagemaker.remote_function INFO     Requirement already satisfied: packaging<25 in /opt/conda/lib/python3.11/site-packages (from mlflow==2.13.2->-r /home/sagemaker-user/sagemaker_remote_function_workspace/requirements.txt (line 1)) (24.1)\u001b[0m\n",
      "\u001b[34m2024-10-14 23:15:10,297 sagemaker.remote_function INFO     Requirement already satisfied: pandas<3 in /opt/conda/lib/python3.11/site-packages (from mlflow==2.13.2->-r /home/sagemaker-user/sagemaker_remote_function_workspace/requirements.txt (line 1)) (2.2.2)\u001b[0m\n",
      "\u001b[34m2024-10-14 23:15:10,297 sagemaker.remote_function INFO     Requirement already satisfied: protobuf<5,>=3.12.0 in /opt/conda/lib/python3.11/site-packages (from mlflow==2.13.2->-r /home/sagemaker-user/sagemaker_remote_function_workspace/requirements.txt (line 1)) (4.25.3)\u001b[0m\n",
      "\u001b[34m2024-10-14 23:15:10,298 sagemaker.remote_function INFO     Requirement already satisfied: pyarrow<16,>=4.0.0 in /opt/conda/lib/python3.11/site-packages (from mlflow==2.13.2->-r /home/sagemaker-user/sagemaker_remote_function_workspace/requirements.txt (line 1)) (15.0.2)\u001b[0m\n",
      "\u001b[34m2024-10-14 23:15:10,299 sagemaker.remote_function INFO     Requirement already satisfied: pytz<2025 in /opt/conda/lib/python3.11/site-packages (from mlflow==2.13.2->-r /home/sagemaker-user/sagemaker_remote_function_workspace/requirements.txt (line 1)) (2023.3)\u001b[0m\n",
      "\u001b[34m2024-10-14 23:15:10,299 sagemaker.remote_function INFO     Requirement already satisfied: pyyaml<7,>=5.1 in /opt/conda/lib/python3.11/site-packages (from mlflow==2.13.2->-r /home/sagemaker-user/sagemaker_remote_function_workspace/requirements.txt (line 1)) (6.0.2)\u001b[0m\n",
      "\u001b[34m2024-10-14 23:15:10,300 sagemaker.remote_function INFO     Requirement already satisfied: querystring-parser<2 in /opt/conda/lib/python3.11/site-packages (from mlflow==2.13.2->-r /home/sagemaker-user/sagemaker_remote_function_workspace/requirements.txt (line 1)) (1.2.4)\u001b[0m\n",
      "\u001b[34m2024-10-14 23:15:10,300 sagemaker.remote_function INFO     Requirement already satisfied: requests<3,>=2.17.3 in /opt/conda/lib/python3.11/site-packages (from mlflow==2.13.2->-r /home/sagemaker-user/sagemaker_remote_function_workspace/requirements.txt (line 1)) (2.32.3)\u001b[0m\n",
      "\u001b[34m2024-10-14 23:15:10,301 sagemaker.remote_function INFO     Requirement already satisfied: scikit-learn<2 in /opt/conda/lib/python3.11/site-packages (from mlflow==2.13.2->-r /home/sagemaker-user/sagemaker_remote_function_workspace/requirements.txt (line 1)) (1.4.2)\u001b[0m\n",
      "\u001b[34m2024-10-14 23:15:10,301 sagemaker.remote_function INFO     Requirement already satisfied: scipy<2 in /opt/conda/lib/python3.11/site-packages (from mlflow==2.13.2->-r /home/sagemaker-user/sagemaker_remote_function_workspace/requirements.txt (line 1)) (1.12.0)\u001b[0m\n",
      "\u001b[34m2024-10-14 23:15:10,302 sagemaker.remote_function INFO     Requirement already satisfied: sqlalchemy<3,>=1.4.0 in /opt/conda/lib/python3.11/site-packages (from mlflow==2.13.2->-r /home/sagemaker-user/sagemaker_remote_function_workspace/requirements.txt (line 1)) (2.0.30)\u001b[0m\n",
      "\u001b[34m2024-10-14 23:15:10,303 sagemaker.remote_function INFO     Requirement already satisfied: sqlparse<1,>=0.4.0 in /opt/conda/lib/python3.11/site-packages (from mlflow==2.13.2->-r /home/sagemaker-user/sagemaker_remote_function_workspace/requirements.txt (line 1)) (0.5.1)\u001b[0m\n",
      "\u001b[34m2024-10-14 23:15:10,303 sagemaker.remote_function INFO     Requirement already satisfied: Jinja2<4,>=2.11 in /opt/conda/lib/python3.11/site-packages (from mlflow==2.13.2->-r /home/sagemaker-user/sagemaker_remote_function_workspace/requirements.txt (line 1)) (3.1.4)\u001b[0m\n",
      "\u001b[34m2024-10-14 23:15:10,304 sagemaker.remote_function INFO     Requirement already satisfied: gunicorn<23 in /opt/conda/lib/python3.11/site-packages (from mlflow==2.13.2->-r /home/sagemaker-user/sagemaker_remote_function_workspace/requirements.txt (line 1)) (22.0.0)\u001b[0m\n",
      "\u001b[34m2024-10-14 23:15:10,307 sagemaker.remote_function INFO     Requirement already satisfied: boto3>=1.34 in /opt/conda/lib/python3.11/site-packages (from sagemaker-mlflow==0.1.0->-r /home/sagemaker-user/sagemaker_remote_function_workspace/requirements.txt (line 2)) (1.34.131)\u001b[0m\n",
      "\u001b[34m2024-10-14 23:15:10,316 sagemaker.remote_function INFO     Requirement already satisfied: Mako in /opt/conda/lib/python3.11/site-packages (from alembic!=1.10.0,<2->mlflow==2.13.2->-r /home/sagemaker-user/sagemaker_remote_function_workspace/requirements.txt (line 1)) (1.3.5)\u001b[0m\n",
      "\u001b[34m2024-10-14 23:15:10,316 sagemaker.remote_function INFO     Requirement already satisfied: typing-extensions>=4 in /opt/conda/lib/python3.11/site-packages (from alembic!=1.10.0,<2->mlflow==2.13.2->-r /home/sagemaker-user/sagemaker_remote_function_workspace/requirements.txt (line 1)) (4.12.2)\u001b[0m\n",
      "\u001b[34m2024-10-14 23:15:10,319 sagemaker.remote_function INFO     Requirement already satisfied: botocore<1.35.0,>=1.34.131 in /opt/conda/lib/python3.11/site-packages (from boto3>=1.34->sagemaker-mlflow==0.1.0->-r /home/sagemaker-user/sagemaker_remote_function_workspace/requirements.txt (line 2)) (1.34.131)\u001b[0m\n",
      "\u001b[34m2024-10-14 23:15:10,319 sagemaker.remote_function INFO     Requirement already satisfied: jmespath<2.0.0,>=0.7.1 in /opt/conda/lib/python3.11/site-packages (from boto3>=1.34->sagemaker-mlflow==0.1.0->-r /home/sagemaker-user/sagemaker_remote_function_workspace/requirements.txt (line 2)) (1.0.1)\u001b[0m\n",
      "\u001b[34m2024-10-14 23:15:10,320 sagemaker.remote_function INFO     Requirement already satisfied: s3transfer<0.11.0,>=0.10.0 in /opt/conda/lib/python3.11/site-packages (from boto3>=1.34->sagemaker-mlflow==0.1.0->-r /home/sagemaker-user/sagemaker_remote_function_workspace/requirements.txt (line 2)) (0.10.2)\u001b[0m\n",
      "\u001b[34m2024-10-14 23:15:10,325 sagemaker.remote_function INFO     Requirement already satisfied: urllib3>=1.26.0 in /opt/conda/lib/python3.11/site-packages (from docker<8,>=4.0.0->mlflow==2.13.2->-r /home/sagemaker-user/sagemaker_remote_function_workspace/requirements.txt (line 1)) (1.26.19)\u001b[0m\n",
      "\u001b[34m2024-10-14 23:15:10,328 sagemaker.remote_function INFO     Requirement already satisfied: Werkzeug>=3.0.0 in /opt/conda/lib/python3.11/site-packages (from Flask<4->mlflow==2.13.2->-r /home/sagemaker-user/sagemaker_remote_function_workspace/requirements.txt (line 1)) (3.0.3)\u001b[0m\n",
      "\u001b[34m2024-10-14 23:15:10,328 sagemaker.remote_function INFO     Requirement already satisfied: itsdangerous>=2.1.2 in /opt/conda/lib/python3.11/site-packages (from Flask<4->mlflow==2.13.2->-r /home/sagemaker-user/sagemaker_remote_function_workspace/requirements.txt (line 1)) (2.2.0)\u001b[0m\n",
      "\u001b[34m2024-10-14 23:15:10,329 sagemaker.remote_function INFO     Requirement already satisfied: blinker>=1.6.2 in /opt/conda/lib/python3.11/site-packages (from Flask<4->mlflow==2.13.2->-r /home/sagemaker-user/sagemaker_remote_function_workspace/requirements.txt (line 1)) (1.8.2)\u001b[0m\n",
      "\u001b[34m2024-10-14 23:15:10,332 sagemaker.remote_function INFO     Requirement already satisfied: gitdb<5,>=4.0.1 in /opt/conda/lib/python3.11/site-packages (from gitpython<4,>=3.1.9->mlflow==2.13.2->-r /home/sagemaker-user/sagemaker_remote_function_workspace/requirements.txt (line 1)) (4.0.11)\u001b[0m\n",
      "\u001b[34m2024-10-14 23:15:10,337 sagemaker.remote_function INFO     Requirement already satisfied: graphql-core<3.3,>=3.1 in /opt/conda/lib/python3.11/site-packages (from graphene<4->mlflow==2.13.2->-r /home/sagemaker-user/sagemaker_remote_function_workspace/requirements.txt (line 1)) (3.2.3)\u001b[0m\n",
      "\u001b[34m2024-10-14 23:15:10,337 sagemaker.remote_function INFO     Requirement already satisfied: graphql-relay<3.3,>=3.1 in /opt/conda/lib/python3.11/site-packages (from graphene<4->mlflow==2.13.2->-r /home/sagemaker-user/sagemaker_remote_function_workspace/requirements.txt (line 1)) (3.2.0)\u001b[0m\n",
      "\u001b[34m2024-10-14 23:15:10,338 sagemaker.remote_function INFO     Requirement already satisfied: aniso8601<10,>=8 in /opt/conda/lib/python3.11/site-packages (from graphene<4->mlflow==2.13.2->-r /home/sagemaker-user/sagemaker_remote_function_workspace/requirements.txt (line 1)) (9.0.1)\u001b[0m\n",
      "\u001b[34m2024-10-14 23:15:10,343 sagemaker.remote_function INFO     Requirement already satisfied: zipp>=0.5 in /opt/conda/lib/python3.11/site-packages (from importlib-metadata!=4.7.0,<8,>=3.7.0->mlflow==2.13.2->-r /home/sagemaker-user/sagemaker_remote_function_workspace/requirements.txt (line 1)) (3.20.0)\u001b[0m\n",
      "\u001b[34m2024-10-14 23:15:10,345 sagemaker.remote_function INFO     Requirement already satisfied: MarkupSafe>=2.0 in /opt/conda/lib/python3.11/site-packages (from Jinja2<4,>=2.11->mlflow==2.13.2->-r /home/sagemaker-user/sagemaker_remote_function_workspace/requirements.txt (line 1)) (2.1.5)\u001b[0m\n",
      "\u001b[34m2024-10-14 23:15:10,350 sagemaker.remote_function INFO     Requirement already satisfied: contourpy>=1.0.1 in /opt/conda/lib/python3.11/site-packages (from matplotlib<4->mlflow==2.13.2->-r /home/sagemaker-user/sagemaker_remote_function_workspace/requirements.txt (line 1)) (1.2.1)\u001b[0m\n",
      "\u001b[34m2024-10-14 23:15:10,350 sagemaker.remote_function INFO     Requirement already satisfied: cycler>=0.10 in /opt/conda/lib/python3.11/site-packages (from matplotlib<4->mlflow==2.13.2->-r /home/sagemaker-user/sagemaker_remote_function_workspace/requirements.txt (line 1)) (0.12.1)\u001b[0m\n",
      "\u001b[34m2024-10-14 23:15:10,351 sagemaker.remote_function INFO     Requirement already satisfied: fonttools>=4.22.0 in /opt/conda/lib/python3.11/site-packages (from matplotlib<4->mlflow==2.13.2->-r /home/sagemaker-user/sagemaker_remote_function_workspace/requirements.txt (line 1)) (4.53.1)\u001b[0m\n",
      "\u001b[34m2024-10-14 23:15:10,351 sagemaker.remote_function INFO     Requirement already satisfied: kiwisolver>=1.3.1 in /opt/conda/lib/python3.11/site-packages (from matplotlib<4->mlflow==2.13.2->-r /home/sagemaker-user/sagemaker_remote_function_workspace/requirements.txt (line 1)) (1.4.5)\u001b[0m\n",
      "\u001b[34m2024-10-14 23:15:10,352 sagemaker.remote_function INFO     Requirement already satisfied: pillow>=8 in /opt/conda/lib/python3.11/site-packages (from matplotlib<4->mlflow==2.13.2->-r /home/sagemaker-user/sagemaker_remote_function_workspace/requirements.txt (line 1)) (10.4.0)\u001b[0m\n",
      "\u001b[34m2024-10-14 23:15:10,353 sagemaker.remote_function INFO     Requirement already satisfied: pyparsing>=2.3.1 in /opt/conda/lib/python3.11/site-packages (from matplotlib<4->mlflow==2.13.2->-r /home/sagemaker-user/sagemaker_remote_function_workspace/requirements.txt (line 1)) (3.1.2)\u001b[0m\n",
      "\u001b[34m2024-10-14 23:15:10,353 sagemaker.remote_function INFO     Requirement already satisfied: python-dateutil>=2.7 in /opt/conda/lib/python3.11/site-packages (from matplotlib<4->mlflow==2.13.2->-r /home/sagemaker-user/sagemaker_remote_function_workspace/requirements.txt (line 1)) (2.9.0)\u001b[0m\n",
      "\u001b[34m2024-10-14 23:15:10,357 sagemaker.remote_function INFO     Requirement already satisfied: deprecated>=1.2.6 in /opt/conda/lib/python3.11/site-packages (from opentelemetry-api<3,>=1.0.0->mlflow==2.13.2->-r /home/sagemaker-user/sagemaker_remote_function_workspace/requirements.txt (line 1)) (1.2.14)\u001b[0m\n",
      "\u001b[34m2024-10-14 23:15:10,359 sagemaker.remote_function INFO     Requirement already satisfied: opentelemetry-semantic-conventions==0.47b0 in /opt/conda/lib/python3.11/site-packages (from opentelemetry-sdk<3,>=1.0.0->mlflow==2.13.2->-r /home/sagemaker-user/sagemaker_remote_function_workspace/requirements.txt (line 1)) (0.47b0)\u001b[0m\n",
      "\u001b[34m2024-10-14 23:15:10,372 sagemaker.remote_function INFO     Requirement already satisfied: tzdata>=2022.7 in /opt/conda/lib/python3.11/site-packages (from pandas<3->mlflow==2.13.2->-r /home/sagemaker-user/sagemaker_remote_function_workspace/requirements.txt (line 1)) (2024.1)\u001b[0m\n",
      "\u001b[34m2024-10-14 23:15:10,379 sagemaker.remote_function INFO     Requirement already satisfied: six in /opt/conda/lib/python3.11/site-packages (from querystring-parser<2->mlflow==2.13.2->-r /home/sagemaker-user/sagemaker_remote_function_workspace/requirements.txt (line 1)) (1.16.0)\u001b[0m\n",
      "\u001b[34m2024-10-14 23:15:10,381 sagemaker.remote_function INFO     Requirement already satisfied: charset-normalizer<4,>=2 in /opt/conda/lib/python3.11/site-packages (from requests<3,>=2.17.3->mlflow==2.13.2->-r /home/sagemaker-user/sagemaker_remote_function_workspace/requirements.txt (line 1)) (3.3.2)\u001b[0m\n",
      "\u001b[34m2024-10-14 23:15:10,382 sagemaker.remote_function INFO     Requirement already satisfied: idna<4,>=2.5 in /opt/conda/lib/python3.11/site-packages (from requests<3,>=2.17.3->mlflow==2.13.2->-r /home/sagemaker-user/sagemaker_remote_function_workspace/requirements.txt (line 1)) (3.7)\u001b[0m\n",
      "\u001b[34m2024-10-14 23:15:10,383 sagemaker.remote_function INFO     Requirement already satisfied: certifi>=2017.4.17 in /opt/conda/lib/python3.11/site-packages (from requests<3,>=2.17.3->mlflow==2.13.2->-r /home/sagemaker-user/sagemaker_remote_function_workspace/requirements.txt (line 1)) (2024.7.4)\u001b[0m\n",
      "\u001b[34m2024-10-14 23:15:10,389 sagemaker.remote_function INFO     Requirement already satisfied: joblib>=1.2.0 in /opt/conda/lib/python3.11/site-packages (from scikit-learn<2->mlflow==2.13.2->-r /home/sagemaker-user/sagemaker_remote_function_workspace/requirements.txt (line 1)) (1.4.2)\u001b[0m\n",
      "\u001b[34m2024-10-14 23:15:10,389 sagemaker.remote_function INFO     Requirement already satisfied: threadpoolctl>=2.0.0 in /opt/conda/lib/python3.11/site-packages (from scikit-learn<2->mlflow==2.13.2->-r /home/sagemaker-user/sagemaker_remote_function_workspace/requirements.txt (line 1)) (3.5.0)\u001b[0m\n",
      "\u001b[34m2024-10-14 23:15:10,399 sagemaker.remote_function INFO     Requirement already satisfied: greenlet!=0.4.17 in /opt/conda/lib/python3.11/site-packages (from sqlalchemy<3,>=1.4.0->mlflow==2.13.2->-r /home/sagemaker-user/sagemaker_remote_function_workspace/requirements.txt (line 1)) (3.0.3)\u001b[0m\n",
      "\u001b[34m2024-10-14 23:15:10,417 sagemaker.remote_function INFO     Requirement already satisfied: wrapt<2,>=1.10 in /opt/conda/lib/python3.11/site-packages (from deprecated>=1.2.6->opentelemetry-api<3,>=1.0.0->mlflow==2.13.2->-r /home/sagemaker-user/sagemaker_remote_function_workspace/requirements.txt (line 1)) (1.16.0)\u001b[0m\n",
      "\u001b[34m2024-10-14 23:15:10,427 sagemaker.remote_function INFO     Requirement already satisfied: smmap<6,>=3.0.1 in /opt/conda/lib/python3.11/site-packages (from gitdb<5,>=4.0.1->gitpython<4,>=3.1.9->mlflow==2.13.2->-r /home/sagemaker-user/sagemaker_remote_function_workspace/requirements.txt (line 1)) (5.0.0)\u001b[0m\n",
      "\u001b[34m2024-10-14 23:15:10,480 sagemaker.remote_function INFO     Downloading mlflow-2.13.2-py3-none-any.whl (25.0 MB)\u001b[0m\n",
      "\u001b[34m2024-10-14 23:15:10,615 sagemaker.remote_function INFO        ━━━━━━━━━━━━━━━━━━━━━━━━━━━━━━━━━━━━━━━━ 25.0/25.0 MB 197.1 MB/s eta 0:00:00\u001b[0m\n",
      "\u001b[34m2024-10-14 23:15:11,263 sagemaker.remote_function INFO     Installing collected packages: mlflow\u001b[0m\n",
      "\u001b[34m2024-10-14 23:15:11,263 sagemaker.remote_function INFO       Attempting uninstall: mlflow\u001b[0m\n",
      "\u001b[34m2024-10-14 23:15:11,270 sagemaker.remote_function INFO         Found existing installation: mlflow 2.15.1\u001b[0m\n",
      "\u001b[34m2024-10-14 23:15:11,331 sagemaker.remote_function INFO         Uninstalling mlflow-2.15.1:\u001b[0m\n",
      "\u001b[34m2024-10-14 23:15:11,527 sagemaker.remote_function INFO           Successfully uninstalled mlflow-2.15.1\u001b[0m\n",
      "\u001b[34m2024-10-14 23:15:12,865 sagemaker.remote_function INFO     Successfully installed mlflow-2.13.2\u001b[0m\n",
      "\u001b[34m2024-10-14 23:15:13,079 sagemaker.remote_function WARNING  WARNING: The directory '/opt/ml/sagemaker/warmpoolcache/sm_remotefunction_user_dependencies_cache/pip' or its parent directory is not owned or is not writable by the current user. The cache has been disabled. Check the permissions and owner of that directory. If executing pip with sudo, you should use sudo's -H flag.\u001b[0m\n",
      "\u001b[34m2024-10-14 23:15:13,080 sagemaker.remote_function INFO     Command /opt/conda/bin/python -m pip install -r /home/sagemaker-user/sagemaker_remote_function_workspace/requirements.txt -U ran successfully\u001b[0m\n",
      "\u001b[34msagemaker.config INFO - Not applying SDK defaults from location: /etc/xdg/sagemaker/config.yaml\u001b[0m\n",
      "\u001b[34msagemaker.config INFO - Not applying SDK defaults from location: /home/sagemaker-user/.config/sagemaker/config.yaml\u001b[0m\n",
      "\u001b[34m2024-10-14 23:15:14,477 sagemaker.remote_function WARNING  Inconsistent sagemaker versions found: sagemaker python sdk version found in the container is '2.227.0' which does not match the '2.232.2' on the local client. Please make sure that the sagemaker version used in the training container is the same as the local sagemaker version in case of unexpected behaviors.\u001b[0m\n",
      "\u001b[34mINFO: Changing workspace to sagemaker_remote_function_workspace.\u001b[0m\n",
      "\u001b[34mINFO: No conda env provided. Invoking remote function\u001b[0m\n",
      "\u001b[34msagemaker.config INFO - Not applying SDK defaults from location: /etc/xdg/sagemaker/config.yaml\u001b[0m\n",
      "\u001b[34msagemaker.config INFO - Not applying SDK defaults from location: /home/sagemaker-user/.config/sagemaker/config.yaml\u001b[0m\n",
      "\u001b[34m2024-10-14 23:15:16,164 sagemaker.remote_function INFO     Deserializing function code from s3://sagemaker-us-east-1-533267005474/from-idea-to-prod/xgboost/preprocess-2024-10-14-23-12-12-478/function\u001b[0m\n",
      "\u001b[34m2024-10-14 23:15:16,755 sagemaker.remote_function INFO     Deserializing function arguments from s3://sagemaker-us-east-1-533267005474/from-idea-to-prod/xgboost/preprocess-2024-10-14-23-12-12-478/arguments\u001b[0m\n",
      "\u001b[34m2024-10-14 23:15:16,969 sagemaker.remote_function INFO     Resolving pipeline variables\u001b[0m\n",
      "\u001b[34m2024-10-14 23:15:16,970 sagemaker.remote_function INFO     Invoking the function\u001b[0m\n",
      "\u001b[34m2024/10/14 23:15:17 INFO mlflow.tracking.fluent: Autologging successfully enabled for sklearn.\u001b[0m\n",
      "\u001b[34m/opt/conda/lib/python3.11/site-packages/numpy/core/fromnumeric.py:59: FutureWarning: 'DataFrame.swapaxes' is deprecated and will be removed in a future version. Please use 'DataFrame.transpose' instead.\n",
      "  return bound(*args, **kwds)\u001b[0m\n",
      "\u001b[34m2024-10-14 23:15:18,590 sagemaker.remote_function INFO     Serializing the function return and uploading to s3://sagemaker-us-east-1-533267005474/from-idea-to-prod/xgboost/preprocess-2024-10-14-23-12-12-478/results\u001b[0m\n",
      "\u001b[34mData split > train:(28831, 65) | validation:(8238, 65) | test:(4119, 65)\u001b[0m\n",
      "\u001b[34m## Processing complete. Exiting.\u001b[0m\n",
      "\n",
      "2024-10-14 23:15:38 Uploading - Uploading generated training model\n",
      "2024-10-14 23:15:38 Completed - Training job completed\n",
      "Training seconds: 160\n",
      "Billable seconds: 160\n"
     ]
    }
   ],
   "source": [
    "# Esta chamada cria e executa um job do SageMaker\n",
    "# Isso também criará um novo experimento no MLflow\n",
    "train_data, validation_data, test_data, baseline_data = preprocess(df_data, experiment_name=experiment_name)"
   ]
  },
  {
   "cell_type": "code",
   "execution_count": 44,
   "id": "efb425ed-1006-45a9-a28d-217b4ee8a77d",
   "metadata": {
    "editable": true,
    "slideshow": {
     "slide_type": ""
    },
    "tags": [
     "parameters"
    ]
   },
   "outputs": [
    {
     "data": {
      "text/html": [
       "<div>\n",
       "<style scoped>\n",
       "    .dataframe tbody tr th:only-of-type {\n",
       "        vertical-align: middle;\n",
       "    }\n",
       "\n",
       "    .dataframe tbody tr th {\n",
       "        vertical-align: top;\n",
       "    }\n",
       "\n",
       "    .dataframe thead th {\n",
       "        text-align: right;\n",
       "    }\n",
       "</style>\n",
       "<table border=\"1\" class=\"dataframe\">\n",
       "  <thead>\n",
       "    <tr style=\"text-align: right;\">\n",
       "      <th></th>\n",
       "      <th>y</th>\n",
       "      <th>campaign</th>\n",
       "      <th>pdays</th>\n",
       "      <th>previous</th>\n",
       "      <th>no_previous_contact</th>\n",
       "      <th>not_working</th>\n",
       "      <th>age_18-29</th>\n",
       "      <th>age_30-39</th>\n",
       "      <th>age_40-49</th>\n",
       "      <th>age_50-59</th>\n",
       "      <th>...</th>\n",
       "      <th>month_oct</th>\n",
       "      <th>month_sep</th>\n",
       "      <th>day_of_week_fri</th>\n",
       "      <th>day_of_week_mon</th>\n",
       "      <th>day_of_week_thu</th>\n",
       "      <th>day_of_week_tue</th>\n",
       "      <th>day_of_week_wed</th>\n",
       "      <th>poutcome_failure</th>\n",
       "      <th>poutcome_nonexistent</th>\n",
       "      <th>poutcome_success</th>\n",
       "    </tr>\n",
       "  </thead>\n",
       "  <tbody>\n",
       "    <tr>\n",
       "      <th>40949</th>\n",
       "      <td>0</td>\n",
       "      <td>0.036364</td>\n",
       "      <td>1.0</td>\n",
       "      <td>0.0</td>\n",
       "      <td>1</td>\n",
       "      <td>0</td>\n",
       "      <td>0</td>\n",
       "      <td>0</td>\n",
       "      <td>0</td>\n",
       "      <td>1</td>\n",
       "      <td>...</td>\n",
       "      <td>1</td>\n",
       "      <td>0</td>\n",
       "      <td>0</td>\n",
       "      <td>0</td>\n",
       "      <td>1</td>\n",
       "      <td>0</td>\n",
       "      <td>0</td>\n",
       "      <td>0</td>\n",
       "      <td>1</td>\n",
       "      <td>0</td>\n",
       "    </tr>\n",
       "    <tr>\n",
       "      <th>9332</th>\n",
       "      <td>0</td>\n",
       "      <td>0.018182</td>\n",
       "      <td>1.0</td>\n",
       "      <td>0.0</td>\n",
       "      <td>1</td>\n",
       "      <td>0</td>\n",
       "      <td>0</td>\n",
       "      <td>0</td>\n",
       "      <td>0</td>\n",
       "      <td>1</td>\n",
       "      <td>...</td>\n",
       "      <td>0</td>\n",
       "      <td>0</td>\n",
       "      <td>1</td>\n",
       "      <td>0</td>\n",
       "      <td>0</td>\n",
       "      <td>0</td>\n",
       "      <td>0</td>\n",
       "      <td>0</td>\n",
       "      <td>1</td>\n",
       "      <td>0</td>\n",
       "    </tr>\n",
       "    <tr>\n",
       "      <th>32286</th>\n",
       "      <td>0</td>\n",
       "      <td>0.018182</td>\n",
       "      <td>1.0</td>\n",
       "      <td>0.0</td>\n",
       "      <td>1</td>\n",
       "      <td>0</td>\n",
       "      <td>0</td>\n",
       "      <td>1</td>\n",
       "      <td>0</td>\n",
       "      <td>0</td>\n",
       "      <td>...</td>\n",
       "      <td>0</td>\n",
       "      <td>0</td>\n",
       "      <td>1</td>\n",
       "      <td>0</td>\n",
       "      <td>0</td>\n",
       "      <td>0</td>\n",
       "      <td>0</td>\n",
       "      <td>0</td>\n",
       "      <td>1</td>\n",
       "      <td>0</td>\n",
       "    </tr>\n",
       "    <tr>\n",
       "      <th>3925</th>\n",
       "      <td>0</td>\n",
       "      <td>0.036364</td>\n",
       "      <td>1.0</td>\n",
       "      <td>0.0</td>\n",
       "      <td>1</td>\n",
       "      <td>0</td>\n",
       "      <td>0</td>\n",
       "      <td>0</td>\n",
       "      <td>1</td>\n",
       "      <td>0</td>\n",
       "      <td>...</td>\n",
       "      <td>0</td>\n",
       "      <td>0</td>\n",
       "      <td>0</td>\n",
       "      <td>1</td>\n",
       "      <td>0</td>\n",
       "      <td>0</td>\n",
       "      <td>0</td>\n",
       "      <td>0</td>\n",
       "      <td>1</td>\n",
       "      <td>0</td>\n",
       "    </tr>\n",
       "    <tr>\n",
       "      <th>9406</th>\n",
       "      <td>0</td>\n",
       "      <td>0.018182</td>\n",
       "      <td>1.0</td>\n",
       "      <td>0.0</td>\n",
       "      <td>1</td>\n",
       "      <td>0</td>\n",
       "      <td>0</td>\n",
       "      <td>1</td>\n",
       "      <td>0</td>\n",
       "      <td>0</td>\n",
       "      <td>...</td>\n",
       "      <td>0</td>\n",
       "      <td>0</td>\n",
       "      <td>1</td>\n",
       "      <td>0</td>\n",
       "      <td>0</td>\n",
       "      <td>0</td>\n",
       "      <td>0</td>\n",
       "      <td>0</td>\n",
       "      <td>1</td>\n",
       "      <td>0</td>\n",
       "    </tr>\n",
       "  </tbody>\n",
       "</table>\n",
       "<p>5 rows × 65 columns</p>\n",
       "</div>"
      ],
      "text/plain": [
       "       y  campaign  pdays  previous  no_previous_contact  not_working  \\\n",
       "40949  0  0.036364    1.0       0.0                    1            0   \n",
       "9332   0  0.018182    1.0       0.0                    1            0   \n",
       "32286  0  0.018182    1.0       0.0                    1            0   \n",
       "3925   0  0.036364    1.0       0.0                    1            0   \n",
       "9406   0  0.018182    1.0       0.0                    1            0   \n",
       "\n",
       "       age_18-29  age_30-39  age_40-49  age_50-59  ...  month_oct  month_sep  \\\n",
       "40949          0          0          0          1  ...          1          0   \n",
       "9332           0          0          0          1  ...          0          0   \n",
       "32286          0          1          0          0  ...          0          0   \n",
       "3925           0          0          1          0  ...          0          0   \n",
       "9406           0          1          0          0  ...          0          0   \n",
       "\n",
       "       day_of_week_fri  day_of_week_mon  day_of_week_thu  day_of_week_tue  \\\n",
       "40949                0                0                1                0   \n",
       "9332                 1                0                0                0   \n",
       "32286                1                0                0                0   \n",
       "3925                 0                1                0                0   \n",
       "9406                 1                0                0                0   \n",
       "\n",
       "       day_of_week_wed  poutcome_failure  poutcome_nonexistent  \\\n",
       "40949                0                 0                     1   \n",
       "9332                 0                 0                     1   \n",
       "32286                0                 0                     1   \n",
       "3925                 0                 0                     1   \n",
       "9406                 0                 0                     1   \n",
       "\n",
       "       poutcome_success  \n",
       "40949                 0  \n",
       "9332                  0  \n",
       "32286                 0  \n",
       "3925                  0  \n",
       "9406                  0  \n",
       "\n",
       "[5 rows x 65 columns]"
      ]
     },
     "execution_count": 44,
     "metadata": {},
     "output_type": "execute_result"
    }
   ],
   "source": [
    "# veja os dados processados\n",
    "train_data.head()"
   ]
  },
  {
   "cell_type": "markdown",
   "id": "8ff0d818-61da-43f2-aa66-4f8ee0af24db",
   "metadata": {},
   "source": [
    "Para mais exemplos de funções remotas, veja os [notebooks de exemplo](https://docs.aws.amazon.com/sagemaker/latest/dg/train-remote-decorator-examples.html) do SageMaker."
   ]
  },
  {
   "cell_type": "markdown",
   "id": "1d25d03a-e988-4a73-acdd-874718d03a74",
   "metadata": {},
   "source": [
    "## Treinamento de modelo com jobs de treinamento do SageMaker\n",
    "Siga a mesma abordagem e agora execute o treinamento do modelo como um [job de treinamento do SageMaker](https://sagemaker.readthedocs.io/en/stable/overview.html#using-estimators) com um contêiner de framework integrado no modo de script. O modo de script significa que você fornece um script para ser executado em um dos contêineres gerenciados pré-definidos do SageMaker. Com essa abordagem, você pode se concentrar no desenvolvimento do código enquanto usa ambientes de execução padrão fornecidos pelo SageMaker. Você também pode primeiro executar seu código localmente em um contêiner Docker no espaço Studio JupyterLab e depois passar para jobs remotos do SageMaker."
   ]
  },
  {
   "cell_type": "code",
   "execution_count": 45,
   "id": "9f5e3c3f-9aa5-4532-8022-95513b5002ff",
   "metadata": {},
   "outputs": [],
   "source": [
    "!mkdir -p ./training/\n",
    "!sudo rm -rf ./training-local/\n",
    "!mkdir -p ./training-local/"
   ]
  },
  {
   "cell_type": "markdown",
   "id": "17694eb0-63b7-4240-8a1f-8a694e233ea0",
   "metadata": {},
   "source": [
    "### Desenvolva um script de treinamento\n",
    "Prepare um script de treinamento usando o framework XGBoost."
   ]
  },
  {
   "cell_type": "code",
   "execution_count": 66,
   "id": "75077d49-daeb-45c5-97a2-fdb15137712d",
   "metadata": {},
   "outputs": [
    {
     "name": "stdout",
     "output_type": "stream",
     "text": [
      "Overwriting ./training/train.py\n"
     ]
    }
   ],
   "source": [
    "%%writefile ./training/train.py\n",
    "\n",
    "import argparse\n",
    "import json\n",
    "import logging\n",
    "import os\n",
    "import pandas as pd\n",
    "import pickle as pkl\n",
    "\n",
    "from sagemaker_containers import entry_point\n",
    "from sagemaker_xgboost_container.data_utils import get_dmatrix\n",
    "from sagemaker_xgboost_container import distributed\n",
    "\n",
    "from sklearn.metrics import roc_auc_score\n",
    "\n",
    "import xgboost as xgb\n",
    "import mlflow\n",
    "\n",
    "from time import gmtime, strftime\n",
    "\n",
    "suffix = strftime('%d-%H-%M-%S', gmtime())\n",
    "\n",
    "user_profile_name = os.getenv('USER', 'sagemaker')\n",
    "experiment_name = os.getenv('MLFLOW_EXPERIMENT_NAME')\n",
    "region = os.getenv('REGION')\n",
    "\n",
    "mlflow.set_tracking_uri(os.getenv('MLFLOW_TRACKING_ARN'))\n",
    "mlflow.set_experiment(experiment_name=experiment_name if experiment_name else f\"train-{suffix}\")\n",
    "\n",
    "def _xgb_train(params, dtrain, dval, evals, num_boost_round, model_dir, is_master):\n",
    "    \"\"\"Executa o treinamento xgb nos argumentos fornecidos com o rabit inicializado.\n",
    "\n",
    "    Esta é nossa função de execução rabit.\n",
    "\n",
    "    :param args_dict: Dicionário de argumentos usado para executar xgb.train().\n",
    "    :param is_master: Verdadeiro se o nó atual for o host mestre no treinamento distribuído,\n",
    "                        ou estiver executando um job de treinamento de nó único.\n",
    "                        Observe que rabit_run inclui este argumento.\n",
    "    \"\"\"\n",
    "    booster = xgb.train(\n",
    "        params=params,\n",
    "        dtrain=dtrain,\n",
    "        evals=evals,\n",
    "        num_boost_round=num_boost_round\n",
    "    )\n",
    "\n",
    "    val_auc = roc_auc_score(dval.get_label(), booster.predict(dval))\n",
    "    train_auc = roc_auc_score(dtrain.get_label(), booster.predict(dtrain))\n",
    "    mlflow.log_params(params)\n",
    "    mlflow.log_metrics({\"validation_auc\":val_auc, \"train_auc\":train_auc})\n",
    "    # emitir métricas de treinamento - SageMaker as coleta do fluxo de log\n",
    "    print(f\"[0]#011train-auc:{train_auc}#011validation-auc:{val_auc}\")\n",
    "    \n",
    "    if is_master:\n",
    "        model_location = model_dir + '/xgboost-model'\n",
    "        pkl.dump(booster, open(model_location, 'wb'))\n",
    "        print(\"Modelo treinado armazenado em {}\".format(model_location))\n",
    "\n",
    "\n",
    "if __name__ == '__main__':\n",
    "    parser = argparse.ArgumentParser()\n",
    "    \n",
    "    # Os hiperparâmetros são descritos aqui.\n",
    "    parser.add_argument('--max_depth', type=int)\n",
    "    parser.add_argument('--eta', type=float)\n",
    "    parser.add_argument('--alpha', type=float)\n",
    "    parser.add_argument('--gamma', type=int)\n",
    "    parser.add_argument('--min_child_weight', type=float)\n",
    "    parser.add_argument('--subsample', type=float)\n",
    "    parser.add_argument('--colsample_bytree', type=float)\n",
    "    parser.add_argument('--verbosity', type=int)\n",
    "    parser.add_argument('--objective', type=str)\n",
    "    parser.add_argument('--num_round', type=int)\n",
    "    parser.add_argument('--early_stopping_rounds', type=int)\n",
    "    parser.add_argument('--tree_method', type=str, default=\"auto\")\n",
    "    parser.add_argument('--predictor', type=str, default=\"auto\")\n",
    "\n",
    "    # Argumentos específicos do Sagemaker. Os padrões são definidos nas variáveis de ambiente.\n",
    "    parser.add_argument('--output_data_dir', type=str, default=os.environ.get('SM_OUTPUT_DATA_DIR'))\n",
    "    parser.add_argument('--model_dir', type=str, default=os.environ.get('SM_MODEL_DIR'))\n",
    "    parser.add_argument('--train', type=str, default=os.environ.get('SM_CHANNEL_TRAIN'))\n",
    "    parser.add_argument('--validation', type=str, default=os.environ.get('SM_CHANNEL_VALIDATION'))\n",
    "    parser.add_argument('--sm_hosts', type=str, default=os.environ.get('SM_HOSTS'))\n",
    "    parser.add_argument('--sm_current_host', type=str, default=os.environ.get('SM_CURRENT_HOST'))\n",
    "    parser.add_argument('--sm_training_env', type=str, default=os.environ.get('SM_TRAINING_ENV'))\n",
    "    \n",
    "    print(\"função principal\")\n",
    "    args, _ = parser.parse_known_args()\n",
    "\n",
    "    # Obter informações do host SageMaker das variáveis de ambiente de tempo de execução\n",
    "    sm_hosts = json.loads(args.sm_hosts)\n",
    "    sm_current_host = args.sm_current_host\n",
    "    dtrain = get_dmatrix(args.train, 'CSV')\n",
    "    dval = get_dmatrix(args.validation, 'CSV')\n",
    "\n",
    "    watchlist = [(dtrain, 'train'), (dval, 'validation')] if dval is not None else [(dtrain, 'train')]\n",
    "\n",
    "    # obter configuração do ambiente SageMaker\n",
    "    sm_training_env = json.loads(args.sm_training_env)\n",
    "    \n",
    "    # habilitar registro automático\n",
    "    mlflow.xgboost.autolog(log_model_signatures=False, log_datasets=False)\n",
    "\n",
    "    train_hp = {\n",
    "        'max_depth': args.max_depth,\n",
    "        'eta': args.eta,\n",
    "        'gamma': args.gamma,\n",
    "        'min_child_weight': args.min_child_weight,\n",
    "        'subsample': args.subsample,\n",
    "        'verbosity': args.verbosity,\n",
    "        'objective': args.objective,\n",
    "        'tree_method': args.tree_method,\n",
    "        'predictor': args.predictor,\n",
    "    }\n",
    "\n",
    "    xgb_train_args = dict(\n",
    "        params=train_hp,\n",
    "        dtrain=dtrain,\n",
    "        dval=dval,\n",
    "        evals=watchlist,\n",
    "        num_boost_round=args.num_round,\n",
    "        model_dir=args.model_dir)\n",
    "\n",
    "    with mlflow.start_run(\n",
    "        run_name=f\"container-training-{suffix}\",\n",
    "        description=\"xgboost executando no contêiner SageMaker no modo de script\"\n",
    "    ) as run:\n",
    "\n",
    "        mlflow.set_tags(\n",
    "            {\n",
    "                'mlflow.user':user_profile_name,\n",
    "                'mlflow.source.type':'JOB',\n",
    "                'mlflow.source.name': f\"https://{region}.console.aws.amazon.com/sagemaker/home?region={region}#/jobs/{sm_training_env['job_name']}\" if sm_training_env['current_host'] != 'sagemaker-local' else sm_training_env['current_host']\n",
    "            }\n",
    "        )\n",
    "    \n",
    "        if len(sm_hosts) > 1:\n",
    "            # Aguardar até que todos os hosts possam se encontrar\n",
    "            entry_point._wait_hostname_resolution()\n",
    "    \n",
    "            # Aguardar até que todos os hosts possam se encontrar\n",
    "            distributed.rabit_run(\n",
    "                exec_fun=_xgb_train,\n",
    "                args=xgb_train_args,\n",
    "                include_in_training=(dtrain is not None),\n",
    "                hosts=sm_hosts,\n",
    "                current_host=sm_current_host,\n",
    "                update_rabit_args=True\n",
    "            )\n",
    "        else:\n",
    "            # Se for treinamento de nó único, chamar o método de treinamento diretamente.\n",
    "            if dtrain:\n",
    "                xgb_train_args['is_master'] = True\n",
    "                _xgb_train(**xgb_train_args)\n",
    "            else:\n",
    "                raise ValueError(\"O canal de treinamento deve ter dados para treinar o modelo.\")\n",
    "\n",
    "# Return model object\n",
    "def model_fn(model_dir):\n",
    "    \"\"\"Deserializar e retornar o modelo ajustado.\n",
    "\n",
    "    Observe que ele deve ter o mesmo nome que o modelo serializado no método _xgb_train\n",
    "    \"\"\"\n",
    "    model_file = 'xgboost-model'\n",
    "    booster = pkl.load(open(os.path.join(model_dir, model_file), 'rb'))\n",
    "    return booster"
   ]
  },
  {
   "cell_type": "markdown",
   "id": "f0df4bc0-227e-4fb8-8df3-c583cc3a8025",
   "metadata": {},
   "source": [
    "Assim como antes para o job de processamento, para o job de treinamento você prepara um arquivo de requisitos para instalar as dependências do MLflow.\n",
    "\n"
   ]
  },
  {
   "cell_type": "code",
   "execution_count": 67,
   "id": "0254f9ce-4f60-4ac4-aa14-94c3e214f6ef",
   "metadata": {},
   "outputs": [
    {
     "name": "stdout",
     "output_type": "stream",
     "text": [
      "Overwriting ./training/requirements.txt\n"
     ]
    }
   ],
   "source": [
    "%%writefile ./training/requirements.txt\n",
    "mlflow==2.13.2\n",
    "sagemaker-mlflow==0.1.0"
   ]
  },
  {
   "cell_type": "markdown",
   "id": "599bf719-0736-48d4-90c9-b669ba1470ec",
   "metadata": {},
   "source": [
    "### Prepare os dados\n",
    "Defina os canais de entrada de dados para o job de treinamento. Configure os canais _train_ e _validation_ através da classe [`TrainingInput`](https://sagemaker.readthedocs.io/en/stable/api/utility/inputs.html#sagemaker.inputs.TrainingInput) do SDK do SageMaker:"
   ]
  },
  {
   "cell_type": "code",
   "execution_count": 68,
   "id": "195881a7-985b-4b64-a370-c56e5cc638d4",
   "metadata": {},
   "outputs": [],
   "source": [
    "s3_input_train = sagemaker.inputs.TrainingInput(train_s3_url, content_type='csv')\n",
    "s3_input_validation = sagemaker.inputs.TrainingInput(validation_s3_url, content_type='csv')\n",
    "\n",
    "training_inputs = {'train': s3_input_train, 'validation': s3_input_validation}"
   ]
  },
  {
   "cell_type": "code",
   "execution_count": 69,
   "id": "86c9a303-928a-4053-9002-cd618cffa6dd",
   "metadata": {
    "tags": []
   },
   "outputs": [
    {
     "name": "stdout",
     "output_type": "stream",
     "text": [
      "Stored 'output_s3_url' (str)\n"
     ]
    }
   ],
   "source": [
    "train_instance_count = 1\n",
    "train_instance_type = \"ml.m5.xlarge\"\n",
    "\n",
    "# Definir onde o job de treinamento armazena o artefato do modelo\n",
    "output_s3_url = f\"s3://{bucket_name}/{bucket_prefix}/output\"\n",
    "\n",
    "%store output_s3_url"
   ]
  },
  {
   "cell_type": "markdown",
   "id": "f0821c99-fbbd-4209-a97e-8f552dd9b5dd",
   "metadata": {},
   "source": [
    "### Execute o treinamento no modo local\n",
    "Executar o SageMaker no modo Local é uma maneira conveniente de iterar rapidamente sobre seu script de treinamento para garantir que ele funcione conforme o pretendido. Primeiro, instale os extras `sagemaker[local]` do SDK do sagemaker.\n",
    "\n",
    "<div class=\"alert alert-info\">Certifique-se de ter instalado o Docker no notebook 00.</div>"
   ]
  },
  {
   "cell_type": "code",
   "execution_count": 70,
   "id": "778d545a",
   "metadata": {},
   "outputs": [
    {
     "name": "stdout",
     "output_type": "stream",
     "text": [
      "Note: you may need to restart the kernel to use updated packages.\n"
     ]
    }
   ],
   "source": [
    "%pip install -q sagemaker[local]"
   ]
  },
  {
   "cell_type": "markdown",
   "id": "dcc7462f-56e0-4ad4-ad57-e5703fdec7a7",
   "metadata": {},
   "source": [
    "Copie o script de treinamento para uma pasta diferente, por exemplo, `./training-local/`, com a intenção de testar nosso script no contêiner localmente. Ao fazer isso, você pode desenvolver seus scripts rapidamente e sem a necessidade de iniciar a infraestrutura gerenciada do SageMaker – economizando tempo e custos."
   ]
  },
  {
   "cell_type": "code",
   "execution_count": 71,
   "id": "3c8e32f3-15e9-416d-8ef2-45e5cd5f6f25",
   "metadata": {},
   "outputs": [],
   "source": [
    "%cp -rf ./training/* ./training-local"
   ]
  },
  {
   "cell_type": "markdown",
   "id": "3c180ce2-8481-49ab-bcd3-06a34e36f20b",
   "metadata": {},
   "source": [
    "Preparar hiperparâmetros e configurações do MLflow em variáveis de ambiente:\n",
    "\n"
   ]
  },
  {
   "cell_type": "code",
   "execution_count": 72,
   "id": "8af85fd6-49ed-4c56-a3fb-a50c8dc6aeb4",
   "metadata": {},
   "outputs": [],
   "source": [
    "hyperparams = {\n",
    "    'num_round': 50,\n",
    "    'max_depth': 3,\n",
    "    'eta': 0.5,\n",
    "    'alpha': 2.5,\n",
    "    'objective': 'binary:logistic',\n",
    "    'eval_metric': 'auc',\n",
    "    'subsample': 0.8,\n",
    "    'colsample_bytree': 0.8,\n",
    "    'min_child_weight': 3,\n",
    "    'early_stopping_rounds': 10,\n",
    "    'verbosity': 1\n",
    "}\n",
    "\n",
    "env_variables = {\n",
    "    'MLFLOW_TRACKING_ARN': mlflow_arn,\n",
    "    'MLFLOW_EXPERIMENT_NAME': experiment_name,\n",
    "    'USER': user_profile_name,\n",
    "    'REGION': region,\n",
    "}"
   ]
  },
  {
   "cell_type": "markdown",
   "id": "0378bca5-26f8-4023-9601-d00795268013",
   "metadata": {},
   "source": [
    "Você usa o mesmo código para executar um job de treinamento como um job gerenciado do SageMaker, mas define o parâmetro `sagemaker_session` como `LocalSession` e `instance_type` como 'local':"
   ]
  },
  {
   "cell_type": "code",
   "execution_count": 73,
   "id": "ae7bde7f",
   "metadata": {},
   "outputs": [
    {
     "name": "stderr",
     "output_type": "stream",
     "text": [
      "INFO:sagemaker.image_uris:Ignoring unnecessary Python version: py3.\n",
      "INFO:sagemaker.image_uris:Ignoring unnecessary instance type: local.\n"
     ]
    }
   ],
   "source": [
    "from sagemaker.xgboost.estimator import XGBoost\n",
    "from sagemaker.local import LocalSession\n",
    "\n",
    "LOCAL_SESSION = LocalSession()\n",
    "LOCAL_SESSION.config = {'local': {'local_code': True}}  # Garantir localidade total do código, veja: https://sagemaker.readthedocs.io/en/stable/overview.html#local-mode\n",
    "\n",
    "xgb_script_mode_local = XGBoost(\n",
    "    entry_point='train.py',\n",
    "    source_dir='./training-local',\n",
    "    framework_version=\"1.7-1\",  # Note: framework_version é mandatório\n",
    "    hyperparameters=hyperparams,\n",
    "    role=sm_role,\n",
    "    instance_count=train_instance_count,\n",
    "    instance_type='local',\n",
    "    output_path=output_s3_url,\n",
    "    base_job_name=\"from-idea-to-prod-training\",\n",
    "    environment=env_variables,\n",
    "    sagemaker_session=LOCAL_SESSION,\n",
    ")"
   ]
  },
  {
   "cell_type": "markdown",
   "id": "ce167be7-7c8c-4e00-a316-d2aff4c10e52",
   "metadata": {},
   "source": [
    "<div style=\"border: 4px solid coral; text-align: center; margin: auto;\">\n",
    "A primeira execução do treinamento localmente pode levar algum tempo, pois o contêiner XGBoost é baixado localmente.\n",
    "</div>"
   ]
  },
  {
   "cell_type": "code",
   "execution_count": 74,
   "id": "3b6018f5",
   "metadata": {},
   "outputs": [
    {
     "name": "stderr",
     "output_type": "stream",
     "text": [
      "INFO:sagemaker:Creating training-job with name: from-idea-to-prod-training-2024-10-14-23-56-21-280\n",
      "INFO:sagemaker.telemetry.telemetry_logging:SageMaker Python SDK will collect telemetry to help us better understand our user's needs, diagnose issues, and deliver additional features.\n",
      "To opt out of telemetry, please disable via TelemetryOptOut parameter in SDK defaults config. For more information, refer to https://sagemaker.readthedocs.io/en/stable/overview.html#configuring-and-using-defaults-with-the-sagemaker-python-sdk.\n",
      "INFO:sagemaker.local.image:'Docker Compose' found using Docker CLI.\n",
      "INFO:sagemaker.local.local_session:Starting training job\n",
      "WARNING:sagemaker.local.image:Using the short-lived AWS credentials found in session. They might expire while running.\n",
      "INFO:sagemaker.local.image:docker compose file: \n",
      "services:\n",
      "  sagemaker-local:\n",
      "    command: train\n",
      "    container_name: cywib4o6pr-sagemaker-local\n",
      "    environment:\n",
      "    - '[Masked]'\n",
      "    - '[Masked]'\n",
      "    - '[Masked]'\n",
      "    - '[Masked]'\n",
      "    - '[Masked]'\n",
      "    - '[Masked]'\n",
      "    - '[Masked]'\n",
      "    - '[Masked]'\n",
      "    - '[Masked]'\n",
      "    - '[Masked]'\n",
      "    - '[Masked]'\n",
      "    image: 683313688378.dkr.ecr.us-east-1.amazonaws.com/sagemaker-xgboost:1.7-1\n",
      "    network_mode: sagemaker\n",
      "    stdin_open: true\n",
      "    tty: true\n",
      "    volumes:\n",
      "    - /home/sagemaker-user/tmp/tmpqf8mkygm/sagemaker-local/input:/opt/ml/input\n",
      "    - /home/sagemaker-user/tmp/tmpqf8mkygm/sagemaker-local/output:/opt/ml/output\n",
      "    - /home/sagemaker-user/tmp/tmpqf8mkygm/sagemaker-local/output/data:/opt/ml/output/data\n",
      "    - /home/sagemaker-user/tmp/tmpqf8mkygm/model:/opt/ml/model\n",
      "    - /opt/ml/metadata:/opt/ml/metadata\n",
      "    - /home/sagemaker-user/tmp/tmp6_nqbnal:/opt/ml/input/data/train\n",
      "    - /home/sagemaker-user/tmp/tmplgeqan3r:/opt/ml/input/data/validation\n",
      "    - /home/sagemaker-user/aws-mlops-sagemaker-do-inicio-ao-fim/training-local:/opt/ml/code\n",
      "    - /home/sagemaker-user/tmp/tmpqf8mkygm/shared:/opt/ml/shared\n",
      "version: '2.3'\n",
      "\n",
      "INFO:sagemaker.local.image:docker command: docker compose -f /home/sagemaker-user/tmp/tmpqf8mkygm/docker-compose.yaml up --build --abort-on-container-exit\n"
     ]
    },
    {
     "name": "stdout",
     "output_type": "stream",
     "text": [
      "time=\"2024-10-14T23:56:23Z\" level=warning msg=\"/home/sagemaker-user/tmp/tmpqf8mkygm/docker-compose.yaml: the attribute `version` is obsolete, it will be ignored, please remove it to avoid potential confusion\"\n",
      " Container cywib4o6pr-sagemaker-local  Creating\n",
      " Container cywib4o6pr-sagemaker-local  Created\n",
      "Attaching to cywib4o6pr-sagemaker-local\n",
      "cywib4o6pr-sagemaker-local  | [2024-10-14 23:56:27.197 default:1 INFO utils.py:28] RULE_JOB_STOP_SIGNAL_FILENAME: None\n",
      "cywib4o6pr-sagemaker-local  | [2024-10-14 23:56:27.275 default:1 INFO profiler_config_parser.py:111] Unable to find config at /opt/ml/input/config/profilerconfig.json. Profiler is disabled.\n",
      "cywib4o6pr-sagemaker-local  | [2024-10-14:23:56:28:INFO] Imported framework sagemaker_xgboost_container.training\n",
      "cywib4o6pr-sagemaker-local  | [2024-10-14:23:56:28:INFO] No GPUs detected (normal if no gpus installed)\n",
      "cywib4o6pr-sagemaker-local  | [2024-10-14:23:56:28:INFO] Invoking user training script.\n",
      "cywib4o6pr-sagemaker-local  | [2024-10-14:23:56:28:INFO] Installing module with the following command:\n",
      "cywib4o6pr-sagemaker-local  | /miniconda3/bin/python3 -m pip install . -r requirements.txt\n",
      "cywib4o6pr-sagemaker-local  | Processing /opt/ml/code\n",
      "cywib4o6pr-sagemaker-local  |   Preparing metadata (setup.py) ... \u001b[?25ldone\n",
      "cywib4o6pr-sagemaker-local  | \u001b[?25hCollecting mlflow==2.13.2 (from -r requirements.txt (line 1))\n",
      "cywib4o6pr-sagemaker-local  |   Downloading mlflow-2.13.2-py3-none-any.whl.metadata (29 kB)\n",
      "cywib4o6pr-sagemaker-local  | Collecting sagemaker-mlflow==0.1.0 (from -r requirements.txt (line 2))\n",
      "cywib4o6pr-sagemaker-local  |   Downloading sagemaker_mlflow-0.1.0-py3-none-any.whl.metadata (3.3 kB)\n",
      "cywib4o6pr-sagemaker-local  | Requirement already satisfied: Flask<4 in /miniconda3/lib/python3.8/site-packages (from mlflow==2.13.2->-r requirements.txt (line 1)) (1.1.1)\n",
      "cywib4o6pr-sagemaker-local  | Collecting alembic!=1.10.0,<2 (from mlflow==2.13.2->-r requirements.txt (line 1))\n",
      "cywib4o6pr-sagemaker-local  |   Downloading alembic-1.13.3-py3-none-any.whl.metadata (7.4 kB)\n",
      "cywib4o6pr-sagemaker-local  | Collecting cachetools<6,>=5.0.0 (from mlflow==2.13.2->-r requirements.txt (line 1))\n",
      "cywib4o6pr-sagemaker-local  |   Downloading cachetools-5.5.0-py3-none-any.whl.metadata (5.3 kB)\n",
      "cywib4o6pr-sagemaker-local  | Requirement already satisfied: click<9,>=7.0 in /miniconda3/lib/python3.8/site-packages (from mlflow==2.13.2->-r requirements.txt (line 1)) (8.1.7)\n",
      "cywib4o6pr-sagemaker-local  | Requirement already satisfied: cloudpickle<4 in /miniconda3/lib/python3.8/site-packages (from mlflow==2.13.2->-r requirements.txt (line 1)) (3.0.0)\n",
      "cywib4o6pr-sagemaker-local  | Collecting docker<8,>=4.0.0 (from mlflow==2.13.2->-r requirements.txt (line 1))\n",
      "cywib4o6pr-sagemaker-local  |   Downloading docker-7.1.0-py3-none-any.whl.metadata (3.8 kB)\n",
      "cywib4o6pr-sagemaker-local  | Collecting entrypoints<1 (from mlflow==2.13.2->-r requirements.txt (line 1))\n",
      "cywib4o6pr-sagemaker-local  |   Downloading entrypoints-0.4-py3-none-any.whl.metadata (2.6 kB)\n",
      "cywib4o6pr-sagemaker-local  | Collecting gitpython<4,>=3.1.9 (from mlflow==2.13.2->-r requirements.txt (line 1))\n",
      "cywib4o6pr-sagemaker-local  |   Downloading GitPython-3.1.43-py3-none-any.whl.metadata (13 kB)\n",
      "cywib4o6pr-sagemaker-local  | Collecting graphene<4 (from mlflow==2.13.2->-r requirements.txt (line 1))\n",
      "cywib4o6pr-sagemaker-local  |   Downloading graphene-3.3-py2.py3-none-any.whl.metadata (7.7 kB)\n",
      "cywib4o6pr-sagemaker-local  | Collecting importlib-metadata!=4.7.0,<8,>=3.7.0 (from mlflow==2.13.2->-r requirements.txt (line 1))\n",
      "cywib4o6pr-sagemaker-local  |   Downloading importlib_metadata-7.2.1-py3-none-any.whl.metadata (4.6 kB)\n",
      "cywib4o6pr-sagemaker-local  | Collecting markdown<4,>=3.3 (from mlflow==2.13.2->-r requirements.txt (line 1))\n",
      "cywib4o6pr-sagemaker-local  |   Downloading Markdown-3.7-py3-none-any.whl.metadata (7.0 kB)\n",
      "cywib4o6pr-sagemaker-local  | Requirement already satisfied: matplotlib<4 in /miniconda3/lib/python3.8/site-packages (from mlflow==2.13.2->-r requirements.txt (line 1)) (3.4.1)\n",
      "cywib4o6pr-sagemaker-local  | Requirement already satisfied: numpy<2 in /miniconda3/lib/python3.8/site-packages (from mlflow==2.13.2->-r requirements.txt (line 1)) (1.24.1)\n",
      "cywib4o6pr-sagemaker-local  | Collecting opentelemetry-api<3,>=1.0.0 (from mlflow==2.13.2->-r requirements.txt (line 1))\n",
      "cywib4o6pr-sagemaker-local  |   Downloading opentelemetry_api-1.27.0-py3-none-any.whl.metadata (1.4 kB)\n",
      "cywib4o6pr-sagemaker-local  | Collecting opentelemetry-sdk<3,>=1.0.0 (from mlflow==2.13.2->-r requirements.txt (line 1))\n",
      "cywib4o6pr-sagemaker-local  |   Downloading opentelemetry_sdk-1.27.0-py3-none-any.whl.metadata (1.5 kB)\n",
      "cywib4o6pr-sagemaker-local  | Requirement already satisfied: packaging<25 in /miniconda3/lib/python3.8/site-packages (from mlflow==2.13.2->-r requirements.txt (line 1)) (24.1)\n",
      "cywib4o6pr-sagemaker-local  | Requirement already satisfied: pandas<3 in /miniconda3/lib/python3.8/site-packages (from mlflow==2.13.2->-r requirements.txt (line 1)) (1.2.4)\n",
      "cywib4o6pr-sagemaker-local  | Requirement already satisfied: protobuf<5,>=3.12.0 in /miniconda3/lib/python3.8/site-packages (from mlflow==2.13.2->-r requirements.txt (line 1)) (3.20.1)\n",
      "cywib4o6pr-sagemaker-local  | Requirement already satisfied: pyarrow<16,>=4.0.0 in /miniconda3/lib/python3.8/site-packages (from mlflow==2.13.2->-r requirements.txt (line 1)) (14.0.1)\n",
      "cywib4o6pr-sagemaker-local  | Requirement already satisfied: pytz<2025 in /miniconda3/lib/python3.8/site-packages (from mlflow==2.13.2->-r requirements.txt (line 1)) (2024.2)\n",
      "cywib4o6pr-sagemaker-local  | Requirement already satisfied: pyyaml<7,>=5.1 in /miniconda3/lib/python3.8/site-packages (from mlflow==2.13.2->-r requirements.txt (line 1)) (5.4.1)\n",
      "cywib4o6pr-sagemaker-local  | Collecting querystring-parser<2 (from mlflow==2.13.2->-r requirements.txt (line 1))\n",
      "cywib4o6pr-sagemaker-local  |   Downloading querystring_parser-1.2.4-py2.py3-none-any.whl.metadata (559 bytes)\n",
      "cywib4o6pr-sagemaker-local  | Requirement already satisfied: requests<3,>=2.17.3 in /miniconda3/lib/python3.8/site-packages (from mlflow==2.13.2->-r requirements.txt (line 1)) (2.29.0)\n",
      "cywib4o6pr-sagemaker-local  | Requirement already satisfied: scikit-learn<2 in /miniconda3/lib/python3.8/site-packages (from mlflow==2.13.2->-r requirements.txt (line 1)) (0.24.1)\n",
      "cywib4o6pr-sagemaker-local  | Requirement already satisfied: scipy<2 in /miniconda3/lib/python3.8/site-packages (from mlflow==2.13.2->-r requirements.txt (line 1)) (1.8.0)\n",
      "cywib4o6pr-sagemaker-local  | Collecting sqlalchemy<3,>=1.4.0 (from mlflow==2.13.2->-r requirements.txt (line 1))\n",
      "cywib4o6pr-sagemaker-local  |   Downloading SQLAlchemy-2.0.35-cp38-cp38-manylinux_2_17_x86_64.manylinux2014_x86_64.whl.metadata (9.6 kB)\n",
      "cywib4o6pr-sagemaker-local  | Collecting sqlparse<1,>=0.4.0 (from mlflow==2.13.2->-r requirements.txt (line 1))\n",
      "cywib4o6pr-sagemaker-local  |   Downloading sqlparse-0.5.1-py3-none-any.whl.metadata (3.9 kB)\n",
      "cywib4o6pr-sagemaker-local  | Requirement already satisfied: Jinja2<4,>=2.11 in /miniconda3/lib/python3.8/site-packages (from mlflow==2.13.2->-r requirements.txt (line 1)) (2.11.3)\n",
      "cywib4o6pr-sagemaker-local  | Requirement already satisfied: gunicorn<23 in /miniconda3/lib/python3.8/site-packages (from mlflow==2.13.2->-r requirements.txt (line 1)) (19.10.0)\n",
      "cywib4o6pr-sagemaker-local  | Collecting boto3>=1.34 (from sagemaker-mlflow==0.1.0->-r requirements.txt (line 2))\n",
      "cywib4o6pr-sagemaker-local  |   Downloading boto3-1.35.40-py3-none-any.whl.metadata (6.7 kB)\n",
      "cywib4o6pr-sagemaker-local  | Collecting Mako (from alembic!=1.10.0,<2->mlflow==2.13.2->-r requirements.txt (line 1))\n",
      "cywib4o6pr-sagemaker-local  |   Downloading Mako-1.3.5-py3-none-any.whl.metadata (2.9 kB)\n",
      "cywib4o6pr-sagemaker-local  | Collecting typing-extensions>=4 (from alembic!=1.10.0,<2->mlflow==2.13.2->-r requirements.txt (line 1))\n",
      "cywib4o6pr-sagemaker-local  |   Downloading typing_extensions-4.12.2-py3-none-any.whl.metadata (3.0 kB)\n",
      "cywib4o6pr-sagemaker-local  | Collecting importlib-resources (from alembic!=1.10.0,<2->mlflow==2.13.2->-r requirements.txt (line 1))\n",
      "cywib4o6pr-sagemaker-local  |   Downloading importlib_resources-6.4.5-py3-none-any.whl.metadata (4.0 kB)\n",
      "cywib4o6pr-sagemaker-local  | Collecting botocore<1.36.0,>=1.35.40 (from boto3>=1.34->sagemaker-mlflow==0.1.0->-r requirements.txt (line 2))\n",
      "cywib4o6pr-sagemaker-local  |   Downloading botocore-1.35.40-py3-none-any.whl.metadata (5.7 kB)\n",
      "cywib4o6pr-sagemaker-local  | Requirement already satisfied: jmespath<2.0.0,>=0.7.1 in /miniconda3/lib/python3.8/site-packages (from boto3>=1.34->sagemaker-mlflow==0.1.0->-r requirements.txt (line 2)) (0.10.0)\n",
      "cywib4o6pr-sagemaker-local  | Collecting s3transfer<0.11.0,>=0.10.0 (from boto3>=1.34->sagemaker-mlflow==0.1.0->-r requirements.txt (line 2))\n",
      "cywib4o6pr-sagemaker-local  |   Downloading s3transfer-0.10.3-py3-none-any.whl.metadata (1.7 kB)\n",
      "cywib4o6pr-sagemaker-local  | Requirement already satisfied: urllib3>=1.26.0 in /miniconda3/lib/python3.8/site-packages (from docker<8,>=4.0.0->mlflow==2.13.2->-r requirements.txt (line 1)) (1.26.5)\n",
      "cywib4o6pr-sagemaker-local  | Requirement already satisfied: Werkzeug>=0.15 in /miniconda3/lib/python3.8/site-packages (from Flask<4->mlflow==2.13.2->-r requirements.txt (line 1)) (0.15.6)\n",
      "cywib4o6pr-sagemaker-local  | Requirement already satisfied: itsdangerous>=0.24 in /miniconda3/lib/python3.8/site-packages (from Flask<4->mlflow==2.13.2->-r requirements.txt (line 1)) (2.0.1)\n",
      "cywib4o6pr-sagemaker-local  | Collecting gitdb<5,>=4.0.1 (from gitpython<4,>=3.1.9->mlflow==2.13.2->-r requirements.txt (line 1))\n",
      "cywib4o6pr-sagemaker-local  |   Downloading gitdb-4.0.11-py3-none-any.whl.metadata (1.2 kB)\n",
      "cywib4o6pr-sagemaker-local  | Collecting graphql-core<3.3,>=3.1 (from graphene<4->mlflow==2.13.2->-r requirements.txt (line 1))\n",
      "cywib4o6pr-sagemaker-local  |   Downloading graphql_core-3.2.5-py3-none-any.whl.metadata (10 kB)\n",
      "cywib4o6pr-sagemaker-local  | Collecting graphql-relay<3.3,>=3.1 (from graphene<4->mlflow==2.13.2->-r requirements.txt (line 1))\n",
      "cywib4o6pr-sagemaker-local  |   Downloading graphql_relay-3.2.0-py3-none-any.whl.metadata (12 kB)\n",
      "cywib4o6pr-sagemaker-local  | Collecting aniso8601<10,>=8 (from graphene<4->mlflow==2.13.2->-r requirements.txt (line 1))\n",
      "cywib4o6pr-sagemaker-local  |   Downloading aniso8601-9.0.1-py2.py3-none-any.whl.metadata (23 kB)\n",
      "cywib4o6pr-sagemaker-local  | Requirement already satisfied: zipp>=0.5 in /miniconda3/lib/python3.8/site-packages (from importlib-metadata!=4.7.0,<8,>=3.7.0->mlflow==2.13.2->-r requirements.txt (line 1)) (3.20.2)\n",
      "cywib4o6pr-sagemaker-local  | Requirement already satisfied: MarkupSafe>=0.23 in /miniconda3/lib/python3.8/site-packages (from Jinja2<4,>=2.11->mlflow==2.13.2->-r requirements.txt (line 1)) (1.1.1)\n",
      "cywib4o6pr-sagemaker-local  | Requirement already satisfied: cycler>=0.10 in /miniconda3/lib/python3.8/site-packages (from matplotlib<4->mlflow==2.13.2->-r requirements.txt (line 1)) (0.12.1)\n",
      "cywib4o6pr-sagemaker-local  | Requirement already satisfied: kiwisolver>=1.0.1 in /miniconda3/lib/python3.8/site-packages (from matplotlib<4->mlflow==2.13.2->-r requirements.txt (line 1)) (1.4.7)\n",
      "cywib4o6pr-sagemaker-local  | Requirement already satisfied: pillow>=6.2.0 in /miniconda3/lib/python3.8/site-packages (from matplotlib<4->mlflow==2.13.2->-r requirements.txt (line 1)) (9.1.1)\n",
      "cywib4o6pr-sagemaker-local  | Requirement already satisfied: pyparsing>=2.2.1 in /miniconda3/lib/python3.8/site-packages (from matplotlib<4->mlflow==2.13.2->-r requirements.txt (line 1)) (3.1.4)\n",
      "cywib4o6pr-sagemaker-local  | Requirement already satisfied: python-dateutil>=2.7 in /miniconda3/lib/python3.8/site-packages (from matplotlib<4->mlflow==2.13.2->-r requirements.txt (line 1)) (2.8.1)\n",
      "cywib4o6pr-sagemaker-local  | Collecting deprecated>=1.2.6 (from opentelemetry-api<3,>=1.0.0->mlflow==2.13.2->-r requirements.txt (line 1))\n",
      "cywib4o6pr-sagemaker-local  |   Downloading Deprecated-1.2.14-py2.py3-none-any.whl.metadata (5.4 kB)\n",
      "cywib4o6pr-sagemaker-local  | Collecting opentelemetry-semantic-conventions==0.48b0 (from opentelemetry-sdk<3,>=1.0.0->mlflow==2.13.2->-r requirements.txt (line 1))\n",
      "cywib4o6pr-sagemaker-local  |   Downloading opentelemetry_semantic_conventions-0.48b0-py3-none-any.whl.metadata (2.4 kB)\n",
      "cywib4o6pr-sagemaker-local  | Requirement already satisfied: six in /miniconda3/lib/python3.8/site-packages (from querystring-parser<2->mlflow==2.13.2->-r requirements.txt (line 1)) (1.16.0)\n",
      "cywib4o6pr-sagemaker-local  | Requirement already satisfied: charset-normalizer<4,>=2 in /miniconda3/lib/python3.8/site-packages (from requests<3,>=2.17.3->mlflow==2.13.2->-r requirements.txt (line 1)) (2.0.12)\n",
      "cywib4o6pr-sagemaker-local  | Requirement already satisfied: idna<4,>=2.5 in /miniconda3/lib/python3.8/site-packages (from requests<3,>=2.17.3->mlflow==2.13.2->-r requirements.txt (line 1)) (3.7)\n",
      "cywib4o6pr-sagemaker-local  | Requirement already satisfied: certifi>=2017.4.17 in /miniconda3/lib/python3.8/site-packages (from requests<3,>=2.17.3->mlflow==2.13.2->-r requirements.txt (line 1)) (2023.7.22)\n",
      "cywib4o6pr-sagemaker-local  | Requirement already satisfied: joblib>=0.11 in /miniconda3/lib/python3.8/site-packages (from scikit-learn<2->mlflow==2.13.2->-r requirements.txt (line 1)) (1.4.2)\n",
      "cywib4o6pr-sagemaker-local  | Requirement already satisfied: threadpoolctl>=2.0.0 in /miniconda3/lib/python3.8/site-packages (from scikit-learn<2->mlflow==2.13.2->-r requirements.txt (line 1)) (3.5.0)\n",
      "cywib4o6pr-sagemaker-local  | Requirement already satisfied: greenlet!=0.4.17 in /miniconda3/lib/python3.8/site-packages (from sqlalchemy<3,>=1.4.0->mlflow==2.13.2->-r requirements.txt (line 1)) (3.1.1)\n",
      "cywib4o6pr-sagemaker-local  | Collecting wrapt<2,>=1.10 (from deprecated>=1.2.6->opentelemetry-api<3,>=1.0.0->mlflow==2.13.2->-r requirements.txt (line 1))\n",
      "cywib4o6pr-sagemaker-local  |   Downloading wrapt-1.16.0-cp38-cp38-manylinux_2_5_x86_64.manylinux1_x86_64.manylinux_2_17_x86_64.manylinux2014_x86_64.whl.metadata (6.6 kB)\n",
      "cywib4o6pr-sagemaker-local  | Collecting smmap<6,>=3.0.1 (from gitdb<5,>=4.0.1->gitpython<4,>=3.1.9->mlflow==2.13.2->-r requirements.txt (line 1))\n",
      "cywib4o6pr-sagemaker-local  |   Downloading smmap-5.0.1-py3-none-any.whl.metadata (4.3 kB)\n",
      "cywib4o6pr-sagemaker-local  | Downloading mlflow-2.13.2-py3-none-any.whl (25.0 MB)\n",
      "\u001b[2K   \u001b[90m━━━━━━━━━━━━━━━━━━━━━━━━━━━━━━━━━━━━━━━━\u001b[0m \u001b[32m25.0/25.0 MB\u001b[0m \u001b[31m103.0 MB/s\u001b[0m eta \u001b[36m0:00:00\u001b[0m00:01\u001b[0m6m-:--:--\u001b[0m\n",
      "cywib4o6pr-sagemaker-local  | \u001b[?25hDownloading sagemaker_mlflow-0.1.0-py3-none-any.whl (24 kB)\n",
      "cywib4o6pr-sagemaker-local  | Downloading alembic-1.13.3-py3-none-any.whl (233 kB)\n",
      "cywib4o6pr-sagemaker-local  | Downloading boto3-1.35.40-py3-none-any.whl (139 kB)\n",
      "cywib4o6pr-sagemaker-local  | Downloading cachetools-5.5.0-py3-none-any.whl (9.5 kB)\n",
      "cywib4o6pr-sagemaker-local  | Downloading docker-7.1.0-py3-none-any.whl (147 kB)\n",
      "cywib4o6pr-sagemaker-local  | Downloading entrypoints-0.4-py3-none-any.whl (5.3 kB)\n",
      "cywib4o6pr-sagemaker-local  | Downloading GitPython-3.1.43-py3-none-any.whl (207 kB)\n",
      "cywib4o6pr-sagemaker-local  | Downloading graphene-3.3-py2.py3-none-any.whl (128 kB)\n",
      "cywib4o6pr-sagemaker-local  | Downloading importlib_metadata-7.2.1-py3-none-any.whl (25 kB)\n",
      "cywib4o6pr-sagemaker-local  | Downloading Markdown-3.7-py3-none-any.whl (106 kB)\n",
      "cywib4o6pr-sagemaker-local  | Downloading opentelemetry_api-1.27.0-py3-none-any.whl (63 kB)\n",
      "cywib4o6pr-sagemaker-local  | Downloading opentelemetry_sdk-1.27.0-py3-none-any.whl (110 kB)\n",
      "cywib4o6pr-sagemaker-local  | Downloading opentelemetry_semantic_conventions-0.48b0-py3-none-any.whl (149 kB)\n",
      "cywib4o6pr-sagemaker-local  | Downloading querystring_parser-1.2.4-py2.py3-none-any.whl (7.9 kB)\n",
      "cywib4o6pr-sagemaker-local  | Downloading SQLAlchemy-2.0.35-cp38-cp38-manylinux_2_17_x86_64.manylinux2014_x86_64.whl (3.1 MB)\n",
      "\u001b[2K   \u001b[90m━━━━━━━━━━━━━━━━━━━━━━━━━━━━━━━━━━━━━━━━\u001b[0m \u001b[32m3.1/3.1 MB\u001b[0m \u001b[31m118.5 MB/s\u001b[0m eta \u001b[36m0:00:00\u001b[0m0m eta \u001b[36m-:--:--\u001b[0m\n",
      "cywib4o6pr-sagemaker-local  | \u001b[?25hDownloading sqlparse-0.5.1-py3-none-any.whl (44 kB)\n",
      "cywib4o6pr-sagemaker-local  | Downloading aniso8601-9.0.1-py2.py3-none-any.whl (52 kB)\n",
      "cywib4o6pr-sagemaker-local  | Downloading botocore-1.35.40-py3-none-any.whl (12.6 MB)\n",
      "\u001b[2K   \u001b[90m━━━━━━━━━━━━━━━━━━━━━━━━━━━━━━━━━━━━━━━━\u001b[0m \u001b[32m12.6/12.6 MB\u001b[0m \u001b[31m147.6 MB/s\u001b[0m eta \u001b[36m0:00:00\u001b[0mm eta \u001b[36m-:--:--\u001b[0m\n",
      "cywib4o6pr-sagemaker-local  | \u001b[?25hDownloading Deprecated-1.2.14-py2.py3-none-any.whl (9.6 kB)\n",
      "cywib4o6pr-sagemaker-local  | Downloading gitdb-4.0.11-py3-none-any.whl (62 kB)\n",
      "cywib4o6pr-sagemaker-local  | Downloading graphql_core-3.2.5-py3-none-any.whl (203 kB)\n",
      "cywib4o6pr-sagemaker-local  | Downloading graphql_relay-3.2.0-py3-none-any.whl (16 kB)\n",
      "cywib4o6pr-sagemaker-local  | Downloading s3transfer-0.10.3-py3-none-any.whl (82 kB)\n",
      "cywib4o6pr-sagemaker-local  | Downloading typing_extensions-4.12.2-py3-none-any.whl (37 kB)\n",
      "cywib4o6pr-sagemaker-local  | Downloading importlib_resources-6.4.5-py3-none-any.whl (36 kB)\n",
      "cywib4o6pr-sagemaker-local  | Downloading Mako-1.3.5-py3-none-any.whl (78 kB)\n",
      "cywib4o6pr-sagemaker-local  | Downloading smmap-5.0.1-py3-none-any.whl (24 kB)\n",
      "cywib4o6pr-sagemaker-local  | Downloading wrapt-1.16.0-cp38-cp38-manylinux_2_5_x86_64.manylinux1_x86_64.manylinux_2_17_x86_64.manylinux2014_x86_64.whl (83 kB)\n",
      "cywib4o6pr-sagemaker-local  | Building wheels for collected packages: train\n",
      "cywib4o6pr-sagemaker-local  |   Building wheel for train (setup.py) ... \u001b[?25ldone\n",
      "cywib4o6pr-sagemaker-local  | \u001b[?25h  Created wheel for train: filename=train-1.0.0-py2.py3-none-any.whl size=11482 sha256=061820f0eeacd3e77fe92eb6da42f12dcf4660d9b445c1f243c5a116b77c250e\n",
      "cywib4o6pr-sagemaker-local  |   Stored in directory: /home/model-server/tmp/pip-ephem-wheel-cache-_bg843qq/wheels/f3/75/57/158162e9eab7af12b5c338c279b3a81f103b89d74eeb911c00\n",
      "cywib4o6pr-sagemaker-local  | Successfully built train\n",
      "cywib4o6pr-sagemaker-local  | Installing collected packages: train, aniso8601, wrapt, typing-extensions, sqlparse, smmap, querystring-parser, Mako, importlib-resources, importlib-metadata, entrypoints, cachetools, sqlalchemy, markdown, graphql-core, gitdb, docker, deprecated, botocore, s3transfer, opentelemetry-api, graphql-relay, gitpython, alembic, opentelemetry-semantic-conventions, graphene, boto3, opentelemetry-sdk, mlflow, sagemaker-mlflow\n",
      "cywib4o6pr-sagemaker-local  |   Attempting uninstall: train\n",
      "cywib4o6pr-sagemaker-local  |     Found existing installation: train 1.0.0\n",
      "cywib4o6pr-sagemaker-local  |     Can't uninstall 'train'. No files were found to uninstall.\n",
      "cywib4o6pr-sagemaker-local  |   Attempting uninstall: importlib-metadata\n",
      "cywib4o6pr-sagemaker-local  |     Found existing installation: importlib_metadata 8.5.0\n",
      "cywib4o6pr-sagemaker-local  |     Uninstalling importlib_metadata-8.5.0:\n",
      "cywib4o6pr-sagemaker-local  |       Successfully uninstalled importlib_metadata-8.5.0\n",
      "cywib4o6pr-sagemaker-local  |   Attempting uninstall: botocore\n",
      "cywib4o6pr-sagemaker-local  |     Found existing installation: botocore 1.20.52\n",
      "cywib4o6pr-sagemaker-local  |     Uninstalling botocore-1.20.52:\n",
      "cywib4o6pr-sagemaker-local  |       Successfully uninstalled botocore-1.20.52\n",
      "cywib4o6pr-sagemaker-local  |   Attempting uninstall: s3transfer\n",
      "cywib4o6pr-sagemaker-local  |     Found existing installation: s3transfer 0.3.7\n",
      "cywib4o6pr-sagemaker-local  |     Uninstalling s3transfer-0.3.7:\n",
      "cywib4o6pr-sagemaker-local  |       Successfully uninstalled s3transfer-0.3.7\n",
      "cywib4o6pr-sagemaker-local  |   Attempting uninstall: boto3\n",
      "cywib4o6pr-sagemaker-local  |     Found existing installation: boto3 1.17.52\n",
      "cywib4o6pr-sagemaker-local  |     Uninstalling boto3-1.17.52:\n",
      "cywib4o6pr-sagemaker-local  |       Successfully uninstalled boto3-1.17.52\n",
      "cywib4o6pr-sagemaker-local  | \u001b[31mERROR: pip's dependency resolver does not currently take into account all the packages that are installed. This behaviour is the source of the following dependency conflicts.\n",
      "cywib4o6pr-sagemaker-local  | sagemaker-containers 2.8.6.post2 requires typing, which is not installed.\n",
      "cywib4o6pr-sagemaker-local  | sagemaker-xgboost-container 2.0 requires boto3==1.17.52, but you have boto3 1.35.40 which is incompatible.\n",
      "cywib4o6pr-sagemaker-local  | sagemaker-xgboost-container 2.0 requires botocore==1.20.52, but you have botocore 1.35.40 which is incompatible.\u001b[0m\u001b[31m\n",
      "cywib4o6pr-sagemaker-local  | \u001b[0mSuccessfully installed Mako-1.3.5 alembic-1.13.3 aniso8601-9.0.1 boto3-1.35.40 botocore-1.35.40 cachetools-5.5.0 deprecated-1.2.14 docker-7.1.0 entrypoints-0.4 gitdb-4.0.11 gitpython-3.1.43 graphene-3.3 graphql-core-3.2.5 graphql-relay-3.2.0 importlib-metadata-7.2.1 importlib-resources-6.4.5 markdown-3.7 mlflow-2.13.2 opentelemetry-api-1.27.0 opentelemetry-sdk-1.27.0 opentelemetry-semantic-conventions-0.48b0 querystring-parser-1.2.4 s3transfer-0.10.3 sagemaker-mlflow-0.1.0 smmap-5.0.1 sqlalchemy-2.0.35 sqlparse-0.5.1 train-1.0.0 typing-extensions-4.12.2 wrapt-1.16.0\n",
      "cywib4o6pr-sagemaker-local  | \u001b[33mWARNING: Running pip as the 'root' user can result in broken permissions and conflicting behaviour with the system package manager, possibly rendering your system unusable.It is recommended to use a virtual environment instead: https://pip.pypa.io/warnings/venv. Use the --root-user-action option if you know what you are doing and want to suppress this warning.\u001b[0m\u001b[33m\n",
      "cywib4o6pr-sagemaker-local  | \u001b[0m[2024-10-14:23:56:41:INFO] No GPUs detected (normal if no gpus installed)\n",
      "cywib4o6pr-sagemaker-local  | [2024-10-14:23:56:41:INFO] Invoking user script\n",
      "cywib4o6pr-sagemaker-local  | \n",
      "cywib4o6pr-sagemaker-local  | Training Env:\n",
      "cywib4o6pr-sagemaker-local  | \n",
      "cywib4o6pr-sagemaker-local  | {\n",
      "cywib4o6pr-sagemaker-local  |     \"additional_framework_parameters\": {},\n",
      "cywib4o6pr-sagemaker-local  |     \"channel_input_dirs\": {\n",
      "cywib4o6pr-sagemaker-local  |         \"train\": \"/opt/ml/input/data/train\",\n",
      "cywib4o6pr-sagemaker-local  |         \"validation\": \"/opt/ml/input/data/validation\"\n",
      "cywib4o6pr-sagemaker-local  |     },\n",
      "cywib4o6pr-sagemaker-local  |     \"current_host\": \"sagemaker-local\",\n",
      "cywib4o6pr-sagemaker-local  |     \"framework_module\": \"sagemaker_xgboost_container.training:main\",\n",
      "cywib4o6pr-sagemaker-local  |     \"hosts\": [\n",
      "cywib4o6pr-sagemaker-local  |         \"sagemaker-local\"\n",
      "cywib4o6pr-sagemaker-local  |     ],\n",
      "cywib4o6pr-sagemaker-local  |     \"hyperparameters\": {\n",
      "cywib4o6pr-sagemaker-local  |         \"num_round\": 50,\n",
      "cywib4o6pr-sagemaker-local  |         \"max_depth\": 3,\n",
      "cywib4o6pr-sagemaker-local  |         \"eta\": 0.5,\n",
      "cywib4o6pr-sagemaker-local  |         \"alpha\": 2.5,\n",
      "cywib4o6pr-sagemaker-local  |         \"objective\": \"binary:logistic\",\n",
      "cywib4o6pr-sagemaker-local  |         \"eval_metric\": \"auc\",\n",
      "cywib4o6pr-sagemaker-local  |         \"subsample\": 0.8,\n",
      "cywib4o6pr-sagemaker-local  |         \"colsample_bytree\": 0.8,\n",
      "cywib4o6pr-sagemaker-local  |         \"min_child_weight\": 3,\n",
      "cywib4o6pr-sagemaker-local  |         \"early_stopping_rounds\": 10,\n",
      "cywib4o6pr-sagemaker-local  |         \"verbosity\": 1\n",
      "cywib4o6pr-sagemaker-local  |     },\n",
      "cywib4o6pr-sagemaker-local  |     \"input_config_dir\": \"/opt/ml/input/config\",\n",
      "cywib4o6pr-sagemaker-local  |     \"input_data_config\": {\n",
      "cywib4o6pr-sagemaker-local  |         \"train\": {\n",
      "cywib4o6pr-sagemaker-local  |             \"TrainingInputMode\": \"File\",\n",
      "cywib4o6pr-sagemaker-local  |             \"ContentType\": \"csv\"\n",
      "cywib4o6pr-sagemaker-local  |         },\n",
      "cywib4o6pr-sagemaker-local  |         \"validation\": {\n",
      "cywib4o6pr-sagemaker-local  |             \"TrainingInputMode\": \"File\",\n",
      "cywib4o6pr-sagemaker-local  |             \"ContentType\": \"csv\"\n",
      "cywib4o6pr-sagemaker-local  |         }\n",
      "cywib4o6pr-sagemaker-local  |     },\n",
      "cywib4o6pr-sagemaker-local  |     \"input_dir\": \"/opt/ml/input\",\n",
      "cywib4o6pr-sagemaker-local  |     \"is_master\": true,\n",
      "cywib4o6pr-sagemaker-local  |     \"job_name\": \"from-idea-to-prod-training-2024-10-14-23-56-21-280\",\n",
      "cywib4o6pr-sagemaker-local  |     \"log_level\": 20,\n",
      "cywib4o6pr-sagemaker-local  |     \"master_hostname\": \"sagemaker-local\",\n",
      "cywib4o6pr-sagemaker-local  |     \"model_dir\": \"/opt/ml/model\",\n",
      "cywib4o6pr-sagemaker-local  |     \"module_dir\": \"/opt/ml/code\",\n",
      "cywib4o6pr-sagemaker-local  |     \"module_name\": \"train\",\n",
      "cywib4o6pr-sagemaker-local  |     \"network_interface_name\": \"eth0\",\n",
      "cywib4o6pr-sagemaker-local  |     \"num_cpus\": 2,\n",
      "cywib4o6pr-sagemaker-local  |     \"num_gpus\": 0,\n",
      "cywib4o6pr-sagemaker-local  |     \"output_data_dir\": \"/opt/ml/output/data\",\n",
      "cywib4o6pr-sagemaker-local  |     \"output_dir\": \"/opt/ml/output\",\n",
      "cywib4o6pr-sagemaker-local  |     \"output_intermediate_dir\": \"/opt/ml/output/intermediate\",\n",
      "cywib4o6pr-sagemaker-local  |     \"resource_config\": {\n",
      "cywib4o6pr-sagemaker-local  |         \"current_host\": \"sagemaker-local\",\n",
      "cywib4o6pr-sagemaker-local  |         \"hosts\": [\n",
      "cywib4o6pr-sagemaker-local  |             \"sagemaker-local\"\n",
      "cywib4o6pr-sagemaker-local  |         ]\n",
      "cywib4o6pr-sagemaker-local  |     },\n",
      "cywib4o6pr-sagemaker-local  |     \"user_entry_point\": \"train.py\"\n",
      "cywib4o6pr-sagemaker-local  | }\n",
      "cywib4o6pr-sagemaker-local  | \n",
      "cywib4o6pr-sagemaker-local  | Environment variables:\n",
      "cywib4o6pr-sagemaker-local  | \n",
      "cywib4o6pr-sagemaker-local  | SM_HOSTS=[\"sagemaker-local\"]\n",
      "cywib4o6pr-sagemaker-local  | SM_NETWORK_INTERFACE_NAME=eth0\n",
      "cywib4o6pr-sagemaker-local  | SM_HPS={\"alpha\":2.5,\"colsample_bytree\":0.8,\"early_stopping_rounds\":10,\"eta\":0.5,\"eval_metric\":\"auc\",\"max_depth\":3,\"min_child_weight\":3,\"num_round\":50,\"objective\":\"binary:logistic\",\"subsample\":0.8,\"verbosity\":1}\n",
      "cywib4o6pr-sagemaker-local  | SM_USER_ENTRY_POINT=train.py\n",
      "cywib4o6pr-sagemaker-local  | SM_FRAMEWORK_PARAMS={}\n",
      "cywib4o6pr-sagemaker-local  | SM_RESOURCE_CONFIG={\"current_host\":\"sagemaker-local\",\"hosts\":[\"sagemaker-local\"]}\n",
      "cywib4o6pr-sagemaker-local  | SM_INPUT_DATA_CONFIG={\"train\":{\"ContentType\":\"csv\",\"TrainingInputMode\":\"File\"},\"validation\":{\"ContentType\":\"csv\",\"TrainingInputMode\":\"File\"}}\n",
      "cywib4o6pr-sagemaker-local  | SM_OUTPUT_DATA_DIR=/opt/ml/output/data\n",
      "cywib4o6pr-sagemaker-local  | SM_CHANNELS=[\"train\",\"validation\"]\n",
      "cywib4o6pr-sagemaker-local  | SM_CURRENT_HOST=sagemaker-local\n",
      "cywib4o6pr-sagemaker-local  | SM_MODULE_NAME=train\n",
      "cywib4o6pr-sagemaker-local  | SM_LOG_LEVEL=20\n",
      "cywib4o6pr-sagemaker-local  | SM_FRAMEWORK_MODULE=sagemaker_xgboost_container.training:main\n",
      "cywib4o6pr-sagemaker-local  | SM_INPUT_DIR=/opt/ml/input\n",
      "cywib4o6pr-sagemaker-local  | SM_INPUT_CONFIG_DIR=/opt/ml/input/config\n",
      "cywib4o6pr-sagemaker-local  | SM_OUTPUT_DIR=/opt/ml/output\n",
      "cywib4o6pr-sagemaker-local  | SM_NUM_CPUS=2\n",
      "cywib4o6pr-sagemaker-local  | SM_NUM_GPUS=0\n",
      "cywib4o6pr-sagemaker-local  | SM_MODEL_DIR=/opt/ml/model\n",
      "cywib4o6pr-sagemaker-local  | SM_MODULE_DIR=/opt/ml/code\n",
      "cywib4o6pr-sagemaker-local  | SM_TRAINING_ENV={\"additional_framework_parameters\":{},\"channel_input_dirs\":{\"train\":\"/opt/ml/input/data/train\",\"validation\":\"/opt/ml/input/data/validation\"},\"current_host\":\"sagemaker-local\",\"framework_module\":\"sagemaker_xgboost_container.training:main\",\"hosts\":[\"sagemaker-local\"],\"hyperparameters\":{\"alpha\":2.5,\"colsample_bytree\":0.8,\"early_stopping_rounds\":10,\"eta\":0.5,\"eval_metric\":\"auc\",\"max_depth\":3,\"min_child_weight\":3,\"num_round\":50,\"objective\":\"binary:logistic\",\"subsample\":0.8,\"verbosity\":1},\"input_config_dir\":\"/opt/ml/input/config\",\"input_data_config\":{\"train\":{\"ContentType\":\"csv\",\"TrainingInputMode\":\"File\"},\"validation\":{\"ContentType\":\"csv\",\"TrainingInputMode\":\"File\"}},\"input_dir\":\"/opt/ml/input\",\"is_master\":true,\"job_name\":\"from-idea-to-prod-training-2024-10-14-23-56-21-280\",\"log_level\":20,\"master_hostname\":\"sagemaker-local\",\"model_dir\":\"/opt/ml/model\",\"module_dir\":\"/opt/ml/code\",\"module_name\":\"train\",\"network_interface_name\":\"eth0\",\"num_cpus\":2,\"num_gpus\":0,\"output_data_dir\":\"/opt/ml/output/data\",\"output_dir\":\"/opt/ml/output\",\"output_intermediate_dir\":\"/opt/ml/output/intermediate\",\"resource_config\":{\"current_host\":\"sagemaker-local\",\"hosts\":[\"sagemaker-local\"]},\"user_entry_point\":\"train.py\"}\n",
      "cywib4o6pr-sagemaker-local  | SM_USER_ARGS=[\"--alpha\",\"2.5\",\"--colsample_bytree\",\"0.8\",\"--early_stopping_rounds\",\"10\",\"--eta\",\"0.5\",\"--eval_metric\",\"auc\",\"--max_depth\",\"3\",\"--min_child_weight\",\"3\",\"--num_round\",\"50\",\"--objective\",\"binary:logistic\",\"--subsample\",\"0.8\",\"--verbosity\",\"1\"]\n",
      "cywib4o6pr-sagemaker-local  | SM_OUTPUT_INTERMEDIATE_DIR=/opt/ml/output/intermediate\n",
      "cywib4o6pr-sagemaker-local  | SM_CHANNEL_TRAIN=/opt/ml/input/data/train\n",
      "cywib4o6pr-sagemaker-local  | SM_CHANNEL_VALIDATION=/opt/ml/input/data/validation\n",
      "cywib4o6pr-sagemaker-local  | SM_HP_NUM_ROUND=50\n",
      "cywib4o6pr-sagemaker-local  | SM_HP_MAX_DEPTH=3\n",
      "cywib4o6pr-sagemaker-local  | SM_HP_ETA=0.5\n",
      "cywib4o6pr-sagemaker-local  | SM_HP_ALPHA=2.5\n",
      "cywib4o6pr-sagemaker-local  | SM_HP_OBJECTIVE=binary:logistic\n",
      "cywib4o6pr-sagemaker-local  | SM_HP_EVAL_METRIC=auc\n",
      "cywib4o6pr-sagemaker-local  | SM_HP_SUBSAMPLE=0.8\n",
      "cywib4o6pr-sagemaker-local  | SM_HP_COLSAMPLE_BYTREE=0.8\n",
      "cywib4o6pr-sagemaker-local  | SM_HP_MIN_CHILD_WEIGHT=3\n",
      "cywib4o6pr-sagemaker-local  | SM_HP_EARLY_STOPPING_ROUNDS=10\n",
      "cywib4o6pr-sagemaker-local  | SM_HP_VERBOSITY=1\n",
      "cywib4o6pr-sagemaker-local  | PYTHONPATH=/miniconda3/bin:/:/miniconda3/lib/python/site-packages/xgboost/dmlc-core/tracker:/miniconda3/lib/python38.zip:/miniconda3/lib/python3.8:/miniconda3/lib/python3.8/lib-dynload:/miniconda3/lib/python3.8/site-packages:/miniconda3/lib/python3.8/site-packages/setuptools/_vendor\n",
      "cywib4o6pr-sagemaker-local  | \n",
      "cywib4o6pr-sagemaker-local  | Invoking script with the following command:\n",
      "cywib4o6pr-sagemaker-local  | \n",
      "cywib4o6pr-sagemaker-local  | /miniconda3/bin/python3 -m train --alpha 2.5 --colsample_bytree 0.8 --early_stopping_rounds 10 --eta 0.5 --eval_metric auc --max_depth 3 --min_child_weight 3 --num_round 50 --objective binary:logistic --subsample 0.8 --verbosity 1\n",
      "cywib4o6pr-sagemaker-local  | \n",
      "cywib4o6pr-sagemaker-local  | \n",
      "cywib4o6pr-sagemaker-local  | função principal\n",
      "cywib4o6pr-sagemaker-local  | [0]\ttrain-logloss:0.44387\tvalidation-logloss:0.44671\n",
      "cywib4o6pr-sagemaker-local  | [1]\ttrain-logloss:0.35789\tvalidation-logloss:0.36252\n",
      "cywib4o6pr-sagemaker-local  | [2]\ttrain-logloss:0.32255\tvalidation-logloss:0.32864\n",
      "cywib4o6pr-sagemaker-local  | [3]\ttrain-logloss:0.30619\tvalidation-logloss:0.31322\n",
      "cywib4o6pr-sagemaker-local  | [4]\ttrain-logloss:0.29760\tvalidation-logloss:0.30483\n",
      "cywib4o6pr-sagemaker-local  | [5]\ttrain-logloss:0.29343\tvalidation-logloss:0.30150\n",
      "cywib4o6pr-sagemaker-local  | [6]\ttrain-logloss:0.28994\tvalidation-logloss:0.29853\n",
      "cywib4o6pr-sagemaker-local  | [7]\ttrain-logloss:0.28793\tvalidation-logloss:0.29670\n",
      "cywib4o6pr-sagemaker-local  | [8]\ttrain-logloss:0.28620\tvalidation-logloss:0.29567\n",
      "cywib4o6pr-sagemaker-local  | [9]\ttrain-logloss:0.28522\tvalidation-logloss:0.29516\n",
      "cywib4o6pr-sagemaker-local  | [10]\ttrain-logloss:0.28427\tvalidation-logloss:0.29393\n",
      "cywib4o6pr-sagemaker-local  | [11]\ttrain-logloss:0.28353\tvalidation-logloss:0.29396\n",
      "cywib4o6pr-sagemaker-local  | [12]\ttrain-logloss:0.28299\tvalidation-logloss:0.29370\n",
      "cywib4o6pr-sagemaker-local  | [13]\ttrain-logloss:0.28253\tvalidation-logloss:0.29331\n",
      "cywib4o6pr-sagemaker-local  | [14]\ttrain-logloss:0.28215\tvalidation-logloss:0.29326\n",
      "cywib4o6pr-sagemaker-local  | [15]\ttrain-logloss:0.28176\tvalidation-logloss:0.29319\n",
      "cywib4o6pr-sagemaker-local  | [16]\ttrain-logloss:0.28156\tvalidation-logloss:0.29297\n",
      "cywib4o6pr-sagemaker-local  | [17]\ttrain-logloss:0.28127\tvalidation-logloss:0.29318\n",
      "cywib4o6pr-sagemaker-local  | [18]\ttrain-logloss:0.28028\tvalidation-logloss:0.29204\n",
      "cywib4o6pr-sagemaker-local  | [19]\ttrain-logloss:0.27996\tvalidation-logloss:0.29233\n",
      "cywib4o6pr-sagemaker-local  | [20]\ttrain-logloss:0.27957\tvalidation-logloss:0.29257\n",
      "cywib4o6pr-sagemaker-local  | [21]\ttrain-logloss:0.27938\tvalidation-logloss:0.29292\n",
      "cywib4o6pr-sagemaker-local  | [22]\ttrain-logloss:0.27894\tvalidation-logloss:0.29271\n",
      "cywib4o6pr-sagemaker-local  | [23]\ttrain-logloss:0.27882\tvalidation-logloss:0.29265\n",
      "cywib4o6pr-sagemaker-local  | [24]\ttrain-logloss:0.27860\tvalidation-logloss:0.29263\n",
      "cywib4o6pr-sagemaker-local  | [25]\ttrain-logloss:0.27806\tvalidation-logloss:0.29179\n",
      "cywib4o6pr-sagemaker-local  | [26]\ttrain-logloss:0.27794\tvalidation-logloss:0.29215\n",
      "cywib4o6pr-sagemaker-local  | [27]\ttrain-logloss:0.27774\tvalidation-logloss:0.29236\n",
      "cywib4o6pr-sagemaker-local  | [28]\ttrain-logloss:0.27714\tvalidation-logloss:0.29165\n",
      "cywib4o6pr-sagemaker-local  | [29]\ttrain-logloss:0.27698\tvalidation-logloss:0.29162\n",
      "cywib4o6pr-sagemaker-local  | [30]\ttrain-logloss:0.27676\tvalidation-logloss:0.29149\n",
      "cywib4o6pr-sagemaker-local  | [31]\ttrain-logloss:0.27656\tvalidation-logloss:0.29189\n",
      "cywib4o6pr-sagemaker-local  | [32]\ttrain-logloss:0.27636\tvalidation-logloss:0.29187\n",
      "cywib4o6pr-sagemaker-local  | [33]\ttrain-logloss:0.27618\tvalidation-logloss:0.29207\n",
      "cywib4o6pr-sagemaker-local  | [34]\ttrain-logloss:0.27596\tvalidation-logloss:0.29197\n",
      "cywib4o6pr-sagemaker-local  | [35]\ttrain-logloss:0.27573\tvalidation-logloss:0.29178\n",
      "cywib4o6pr-sagemaker-local  | [36]\ttrain-logloss:0.27540\tvalidation-logloss:0.29191\n",
      "cywib4o6pr-sagemaker-local  | [37]\ttrain-logloss:0.27525\tvalidation-logloss:0.29201\n",
      "cywib4o6pr-sagemaker-local  | [38]\ttrain-logloss:0.27490\tvalidation-logloss:0.29191\n",
      "cywib4o6pr-sagemaker-local  | [39]\ttrain-logloss:0.27476\tvalidation-logloss:0.29201\n",
      "cywib4o6pr-sagemaker-local  | [40]\ttrain-logloss:0.27444\tvalidation-logloss:0.29193\n",
      "cywib4o6pr-sagemaker-local  | [41]\ttrain-logloss:0.27423\tvalidation-logloss:0.29211\n",
      "cywib4o6pr-sagemaker-local  | [42]\ttrain-logloss:0.27416\tvalidation-logloss:0.29228\n",
      "cywib4o6pr-sagemaker-local  | [43]\ttrain-logloss:0.27395\tvalidation-logloss:0.29213\n",
      "cywib4o6pr-sagemaker-local  | [44]\ttrain-logloss:0.27377\tvalidation-logloss:0.29212\n",
      "cywib4o6pr-sagemaker-local  | [45]\ttrain-logloss:0.27360\tvalidation-logloss:0.29211\n",
      "cywib4o6pr-sagemaker-local  | [46]\ttrain-logloss:0.27335\tvalidation-logloss:0.29220\n",
      "cywib4o6pr-sagemaker-local  | [47]\ttrain-logloss:0.27313\tvalidation-logloss:0.29250\n",
      "cywib4o6pr-sagemaker-local  | [48]\ttrain-logloss:0.27281\tvalidation-logloss:0.29228\n",
      "cywib4o6pr-sagemaker-local  | [49]\ttrain-logloss:0.27261\tvalidation-logloss:0.29248\n",
      "cywib4o6pr-sagemaker-local  | 2024/10/14 23:56:53 WARNING mlflow.utils.environment: Encountered an unexpected error while inferring pip requirements (model URI: /home/model-server/tmp/tmpgaazaej_/model, flavor: xgboost). Fall back to return ['xgboost==1.7.4']. Set logging level to DEBUG to see the full traceback. \n",
      "cywib4o6pr-sagemaker-local  | 2024/10/14 23:56:53 WARNING mlflow.utils.autologging_utils: MLflow autologging encountered a warning: \"/miniconda3/lib/python3.8/site-packages/_distutils_hack/__init__.py:31: UserWarning: Setuptools is replacing distutils. Support for replacing an already imported distutils is deprecated. In the future, this condition will fail. Register concerns at https://github.com/pypa/setuptools/issues/new?template=distutils-deprecation.yml\"\n",
      "cywib4o6pr-sagemaker-local  | [0]#011train-auc:0.7986270378851712#011validation-auc:0.7667290504425037\n",
      "cywib4o6pr-sagemaker-local  | Modelo treinado armazenado em /opt/ml/model/xgboost-model\n"
     ]
    },
    {
     "name": "stderr",
     "output_type": "stream",
     "text": [
      "INFO:sagemaker.local.image:===== Job Complete =====\n"
     ]
    },
    {
     "name": "stdout",
     "output_type": "stream",
     "text": [
      "\u001b[Kcywib4o6pr-sagemaker-local exited with code 0\n",
      "Aborting on container exit...\n",
      " Container cywib4o6pr-sagemaker-local  Stopping\n",
      " Container cywib4o6pr-sagemaker-local  Stopped\n"
     ]
    }
   ],
   "source": [
    "xgb_script_mode_local.fit(\n",
    "    training_inputs,\n",
    "    wait=True,\n",
    "    logs=True,\n",
    ")"
   ]
  },
  {
   "cell_type": "markdown",
   "id": "69bdacd1-dfcf-48e6-8391-e9f1f1e53b44",
   "metadata": {},
   "source": [
    "Após o treinamento ser concluído, você pode ver os resultados, métricas e o modelo no experimento do MLflow. Vamos construir um link para o experimento e a execução correspondentes do MLflow."
   ]
  },
  {
   "cell_type": "code",
   "execution_count": 80,
   "id": "c328b5b6-6177-4926-ac19-77d6471f073c",
   "metadata": {},
   "outputs": [],
   "source": [
    "# obter o último run no MLflow\n",
    "last_run_id = mlflow.search_runs(\n",
    "    experiment_ids=[mlflow.get_experiment_by_name(experiment_name).experiment_id], \n",
    "    max_results=1, \n",
    "    order_by=[\"attributes.start_time DESC\"]\n",
    ")['run_id'][0]\n",
    "\n",
    "#  obter a URL pré-assinada para abrir a interface do MLflow\n",
    "presigned_url = sm.create_presigned_mlflow_tracking_server_url(\n",
    "    TrackingServerName=mlflow_name,\n",
    "    ExpiresInSeconds=60,\n",
    "    SessionExpirationDurationInSeconds=1800\n",
    ")['AuthorizedUrl']\n",
    "\n",
    "mlflow_run_link = f\"{presigned_url.split('/auth')[0]}/#/experiments/1/runs/{last_run_id}\""
   ]
  },
  {
   "cell_type": "code",
   "execution_count": 81,
   "id": "3bbd4869-b0a9-4c1b-acba-5c623eebf517",
   "metadata": {},
   "outputs": [
    {
     "data": {
      "application/javascript": "window.open(\"https://t-3edkielatlse.us-east-1.experiments.sagemaker.aws/auth?authToken=eyJhbGciOiJIUzI1NiJ9.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.zEWrmfCm1oqxlzeJYlE9IBuXipimajCvFZeKQstMQok\");",
      "text/plain": [
       "<IPython.core.display.Javascript object>"
      ]
     },
     "metadata": {},
     "output_type": "display_data"
    }
   ],
   "source": [
    "from IPython.display import Javascript\n",
    "\n",
    "# segundo, abra a página de execução na interface do MLflow\n",
    "display(Javascript('window.open(\"{}\");'.format(presigned_url)))"
   ]
  },
  {
   "cell_type": "code",
   "execution_count": 82,
   "id": "46dde6fb-b9d6-4152-9344-83ff4c204e9a",
   "metadata": {},
   "outputs": [
    {
     "data": {
      "application/javascript": "window.open(\"https://t-3edkielatlse.us-east-1.experiments.sagemaker.aws/#/experiments/1/runs/b8b73f2eab55454ead3e07b615ad1d3a\");",
      "text/plain": [
       "<IPython.core.display.Javascript object>"
      ]
     },
     "metadata": {},
     "output_type": "display_data"
    }
   ],
   "source": [
    "# segundo, abra a página de execução na interface do MLflow\n",
    "display(Javascript('window.open(\"{}\");'.format(mlflow_run_link)))"
   ]
  },
  {
   "cell_type": "markdown",
   "id": "8a36532f-6634-4693-b71e-79fd6934a45c",
   "metadata": {},
   "source": [
    "### Execute o treinamento como um job de treinamento do SageMaker\n",
    "Use o mesmo código para executar o script de treinamento remotamente na infraestrutura gerenciada do SageMaker. Remova o `LocalSession` e mude o `instance_type` de `local` para uma instância de computação desejada."
   ]
  },
  {
   "cell_type": "code",
   "execution_count": 83,
   "id": "2f22e640",
   "metadata": {},
   "outputs": [
    {
     "name": "stderr",
     "output_type": "stream",
     "text": [
      "INFO:sagemaker.image_uris:Ignoring unnecessary Python version: py3.\n",
      "INFO:sagemaker.image_uris:Ignoring unnecessary instance type: ml.m5.xlarge.\n"
     ]
    }
   ],
   "source": [
    "xgb_script_mode_managed = XGBoost(\n",
    "    entry_point='train.py',\n",
    "    source_dir='./training',\n",
    "    framework_version=\"1.7-1\",  \n",
    "    hyperparameters=hyperparams,\n",
    "    role=sm_role,\n",
    "    instance_count=train_instance_count,\n",
    "    instance_type=train_instance_type,\n",
    "    output_path=output_s3_url,\n",
    "    base_job_name=\"from-idea-to-prod-training\",\n",
    "    environment=env_variables,\n",
    ")"
   ]
  },
  {
   "cell_type": "markdown",
   "id": "6bb10f5c-77e4-48ed-b98e-eb17e018592d",
   "metadata": {},
   "source": [
    "<svg width=\"800\" height=\"125\" viewBox=\"0 0 800 125\" xmlns=\"http://www.w3.org/2000/svg\">\n",
    "    <defs>\n",
    "        <linearGradient id=\"fadeGradient\" x1=\"0\" x2=\"1\">\n",
    "            <stop offset=\"0%\" stop-color=\"#F0F0F0\"/>\n",
    "            <stop offset=\"100%\" stop-color=\"#F0F0F0\" stop-opacity=\"0\"/>\n",
    "        </linearGradient>\n",
    "        <mask id=\"fadeMask\">\n",
    "            <rect x=\"0\" y=\"0\" width=\"750\" height=\"125\" fill=\"white\"/>\n",
    "            <rect x=\"750\" y=\"0\" width=\"50\" height=\"125\" fill=\"url(#fadeGradient)\"/>\n",
    "        </mask>\n",
    "    </defs>\n",
    "    <path d=\"M3,50 A50,50 0 0 1 53,3 L797,3 L797,97 L97,97 L50,115 L3,97 Z\" fill=\"#F0F0F0\" stroke=\"#E0E0E0\" stroke-width=\"1\" mask=\"url(#fadeMask)\"/>\n",
    "    <circle cx=\"50\" cy=\"50\" r=\"30\" fill=\"#57c4f8\" stroke=\"#57c4f8\" stroke-width=\"1\"/>\n",
    "    <circle cx=\"50\" cy=\"50\" r=\"25\" fill=\"#F0F0F0\"/>\n",
    "    <line x1=\"50\" y1=\"50\" x2=\"50\" y2=\"30\" stroke=\"#57c4f8\" stroke-width=\"3\" stroke-linecap=\"round\"/>\n",
    "    <line x1=\"50\" y1=\"50\" x2=\"65\" y2=\"50\" stroke=\"#57c4f8\" stroke-width=\"3\" stroke-linecap=\"round\"/>\n",
    "    <text x=\"100\" y=\"34\" font-family=\"Arial, sans-serif\" font-size=\"14\" fill=\"#333333\">A próxima célula pode levar alguns minutos para ser executada. Por favor, seja paciente.</text>\n",
    "</svg>"
   ]
  },
  {
   "cell_type": "code",
   "execution_count": 84,
   "id": "f0e8dc22",
   "metadata": {},
   "outputs": [
    {
     "name": "stderr",
     "output_type": "stream",
     "text": [
      "INFO:sagemaker:Creating training-job with name: from-idea-to-prod-training-2024-10-15-00-04-56-252\n"
     ]
    },
    {
     "name": "stdout",
     "output_type": "stream",
     "text": [
      "\n",
      "2024-10-15 00:04:59 Starting - Starting the training job..\n",
      "2024-10-15 00:05:16 Starting - Preparing the instances for training.....\n",
      "2024-10-15 00:05:48 Downloading - Downloading input data.....\n",
      "2024-10-15 00:06:18 Downloading - Downloading the training image.........\n",
      "2024-10-15 00:07:04 Training - Training image download completed. Training in progress.....\n",
      "2024-10-15 00:07:32 Uploading - Uploading generated training model..\n",
      "2024-10-15 00:07:46 Completed - Training job completed\n"
     ]
    }
   ],
   "source": [
    "xgb_script_mode_managed.fit(\n",
    "    training_inputs,\n",
    "    wait=True,\n",
    "    logs=False,\n",
    ")"
   ]
  },
  {
   "cell_type": "markdown",
   "id": "ba82c386-2793-4742-9327-a1dc571c6537",
   "metadata": {},
   "source": [
    "<img src=\"data:image/svg+xml;base64,Cjxzdmcgd2lkdGg9IjgwMCIgaGVpZ2h0PSI1MCIgdmlld0JveD0iMCAwIDgwMCA1MCIgeG1sbnM9Imh0dHA6Ly93d3cudzMub3JnLzIwMDAvc3ZnIj4KICAgIDxkZWZzPgogICAgICAgIDxsaW5lYXJHcmFkaWVudCBpZD0iZmFkZUdyYWRpZW50IiB4MT0iMCIgeDI9IjEiPgogICAgICAgICAgICA8c3RvcCBvZmZzZXQ9IjAlIiBzdG9wLWNvbG9yPSIjRjBGMEYwIi8+CiAgICAgICAgICAgIDxzdG9wIG9mZnNldD0iMTAwJSIgc3RvcC1jb2xvcj0iI0YwRjBGMCIgc3RvcC1vcGFjaXR5PSIwIi8+CiAgICAgICAgPC9saW5lYXJHcmFkaWVudD4KICAgICAgICA8bWFzayBpZD0iZmFkZU1hc2siPgogICAgICAgICAgICA8cmVjdCB4PSIwIiB5PSIwIiB3aWR0aD0iNzUwIiBoZWlnaHQ9IjUwIiBmaWxsPSJ3aGl0ZSIvPgogICAgICAgICAgICA8cmVjdCB4PSI3NTAiIHk9IjAiIHdpZHRoPSI1MCIgaGVpZ2h0PSI1MCIgZmlsbD0idXJsKCNmYWRlR3JhZGllbnQpIi8+CiAgICAgICAgPC9tYXNrPgogICAgPC9kZWZzPgogICAgPHBhdGggZD0iTTI1LDUwIFEwLDUwIDAsMjUgTDUwLDMgTDk3LDI1IEw3OTcsMjUgTDc5Nyw1MCBMMjUsNTAgWiIgZmlsbD0iI0YwRjBGMCIgc3Ryb2tlPSIjRTBFMEUwIiBzdHJva2Utd2lkdGg9IjEiIG1hc2s9InVybCgjZmFkZU1hc2spIi8+Cjwvc3ZnPgo=\" alt=\"Time alert close\"/>"
   ]
  },
  {
   "cell_type": "code",
   "execution_count": 85,
   "id": "9e2038e2",
   "metadata": {},
   "outputs": [
    {
     "name": "stderr",
     "output_type": "stream",
     "text": [
      "WARNING:sagemaker.analytics:Warning: No metrics called train:mae found\n",
      "WARNING:sagemaker.analytics:Warning: No metrics called validation:aucpr found\n",
      "WARNING:sagemaker.analytics:Warning: No metrics called validation:f1_binary found\n",
      "WARNING:sagemaker.analytics:Warning: No metrics called train:merror found\n",
      "WARNING:sagemaker.analytics:Warning: No metrics called train:gamma-nloglik found\n",
      "WARNING:sagemaker.analytics:Warning: No metrics called validation:mae found\n",
      "WARNING:sagemaker.analytics:Warning: No metrics called train:mlogloss found\n",
      "WARNING:sagemaker.analytics:Warning: No metrics called train:cox-nloglik found\n",
      "WARNING:sagemaker.analytics:Warning: No metrics called validation:f1 found\n",
      "WARNING:sagemaker.analytics:Warning: No metrics called validation:cox-nloglik found\n",
      "WARNING:sagemaker.analytics:Warning: No metrics called train:accuracy found\n",
      "WARNING:sagemaker.analytics:Warning: No metrics called train:mse found\n",
      "WARNING:sagemaker.analytics:Warning: No metrics called validation:poisson-nloglik found\n",
      "WARNING:sagemaker.analytics:Warning: No metrics called train:tweedie-nloglik found\n",
      "WARNING:sagemaker.analytics:Warning: No metrics called train:error found\n",
      "WARNING:sagemaker.analytics:Warning: No metrics called train:ndcg found\n",
      "WARNING:sagemaker.analytics:Warning: No metrics called validation:map found\n",
      "WARNING:sagemaker.analytics:Warning: No metrics called train:f1_binary found\n",
      "WARNING:sagemaker.analytics:Warning: No metrics called validation:gamma-deviance found\n",
      "WARNING:sagemaker.analytics:Warning: No metrics called validation:error found\n",
      "WARNING:sagemaker.analytics:Warning: No metrics called validation:merror found\n",
      "WARNING:sagemaker.analytics:Warning: No metrics called train:poisson-nloglik found\n",
      "WARNING:sagemaker.analytics:Warning: No metrics called train:rmse found\n",
      "WARNING:sagemaker.analytics:Warning: No metrics called validation:accuracy found\n",
      "WARNING:sagemaker.analytics:Warning: No metrics called train:aucpr found\n",
      "WARNING:sagemaker.analytics:Warning: No metrics called validation:tweedie-nloglik found\n",
      "WARNING:sagemaker.analytics:Warning: No metrics called validation:rmse found\n",
      "WARNING:sagemaker.analytics:Warning: No metrics called train:gamma-deviance found\n",
      "WARNING:sagemaker.analytics:Warning: No metrics called validation:mse found\n",
      "WARNING:sagemaker.analytics:Warning: No metrics called validation:ndcg found\n",
      "WARNING:sagemaker.analytics:Warning: No metrics called train:f1 found\n",
      "WARNING:sagemaker.analytics:Warning: No metrics called validation:r2 found\n",
      "WARNING:sagemaker.analytics:Warning: No metrics called validation:mlogloss found\n",
      "WARNING:sagemaker.analytics:Warning: No metrics called train:map found\n",
      "WARNING:sagemaker.analytics:Warning: No metrics called validation:gamma-nloglik found\n"
     ]
    },
    {
     "data": {
      "text/html": [
       "<div>\n",
       "<style scoped>\n",
       "    .dataframe tbody tr th:only-of-type {\n",
       "        vertical-align: middle;\n",
       "    }\n",
       "\n",
       "    .dataframe tbody tr th {\n",
       "        vertical-align: top;\n",
       "    }\n",
       "\n",
       "    .dataframe thead th {\n",
       "        text-align: right;\n",
       "    }\n",
       "</style>\n",
       "<table border=\"1\" class=\"dataframe\">\n",
       "  <thead>\n",
       "    <tr style=\"text-align: right;\">\n",
       "      <th></th>\n",
       "      <th>timestamp</th>\n",
       "      <th>metric_name</th>\n",
       "      <th>value</th>\n",
       "    </tr>\n",
       "  </thead>\n",
       "  <tbody>\n",
       "    <tr>\n",
       "      <th>0</th>\n",
       "      <td>0.0</td>\n",
       "      <td>validation:logloss</td>\n",
       "      <td>0.327500</td>\n",
       "    </tr>\n",
       "    <tr>\n",
       "      <th>1</th>\n",
       "      <td>0.0</td>\n",
       "      <td>validation:auc</td>\n",
       "      <td>0.766729</td>\n",
       "    </tr>\n",
       "    <tr>\n",
       "      <th>2</th>\n",
       "      <td>0.0</td>\n",
       "      <td>train:auc</td>\n",
       "      <td>0.798627</td>\n",
       "    </tr>\n",
       "    <tr>\n",
       "      <th>3</th>\n",
       "      <td>0.0</td>\n",
       "      <td>train:logloss</td>\n",
       "      <td>0.315250</td>\n",
       "    </tr>\n",
       "  </tbody>\n",
       "</table>\n",
       "</div>"
      ],
      "text/plain": [
       "   timestamp         metric_name     value\n",
       "0        0.0  validation:logloss  0.327500\n",
       "1        0.0      validation:auc  0.766729\n",
       "2        0.0           train:auc  0.798627\n",
       "3        0.0       train:logloss  0.315250"
      ]
     },
     "execution_count": 85,
     "metadata": {},
     "output_type": "execute_result"
    }
   ],
   "source": [
    "# Coletar as métricas emitidas do fluxo de log\n",
    "xgb_script_mode_managed.training_job_analytics.dataframe()"
   ]
  },
  {
   "cell_type": "markdown",
   "id": "2c22bca8-2bfe-4735-87ba-334e994f5ee7",
   "metadata": {},
   "source": [
    "Você pode ver todos os detalhes do job no console do SageMaker:"
   ]
  },
  {
   "cell_type": "code",
   "execution_count": 87,
   "id": "d397d128-7273-4d3b-98fe-ed79210e0d60",
   "metadata": {},
   "outputs": [
    {
     "data": {
      "text/html": [
       "<b>Veja o <a target=\"top\" href=\"https://us-east-1.console.aws.amazon.com/sagemaker/home?region=us-east-1#/jobs/from-idea-to-prod-training-2024-10-15-00-04-56-252\">job de treinamento</a> do SageMaker</b>"
      ],
      "text/plain": [
       "<IPython.core.display.HTML object>"
      ]
     },
     "metadata": {},
     "output_type": "display_data"
    }
   ],
   "source": [
    "from IPython.display import HTML\n",
    "\n",
    "# Mostre o link do job de treinamento\n",
    "display(\n",
    "    HTML('<b>Veja o <a target=\"top\" href=\"https://{}.console.aws.amazon.com/sagemaker/home?region={}#/jobs/{}\">job de treinamento</a> do SageMaker</b>'.format(\n",
    "            region, region, xgb_script_mode_managed.latest_training_job.name))\n",
    ")\n"
   ]
  },
  {
   "cell_type": "markdown",
   "id": "cee49eb6-f42c-47d2-9738-01da2f2c7669",
   "metadata": {},
   "source": [
    "Clique no link ^^^ acima ^^^ para abrir o console do SageMaker com os detalhes do job de treinamento.\n",
    "\n"
   ]
  },
  {
   "cell_type": "markdown",
   "id": "8c6d7df7-fec8-474b-a111-1f5ced4d53c6",
   "metadata": {},
   "source": [
    "### Registrar o modelo no registro de modelos do MLflow\n",
    "\n",
    "Agora, registre o modelo treinado no registro de modelos do MLflow. O modelo também é registrado automaticamente no registro de modelos do SageMaker. \n"
   ]
  },
  {
   "cell_type": "code",
   "execution_count": 88,
   "id": "c10b6d93",
   "metadata": {},
   "outputs": [
    {
     "name": "stderr",
     "output_type": "stream",
     "text": [
      "Successfully registered model 'from-idea-to-prod-job-model-14-22-55-42'.\n",
      "2024/10/15 00:09:09 INFO mlflow.store.model_registry.abstract_store: Waiting up to 300 seconds for model version to finish creation. Model name: from-idea-to-prod-job-model-14-22-55-42, version 1\n",
      "Created version '1' of model 'from-idea-to-prod-job-model-14-22-55-42'.\n"
     ]
    }
   ],
   "source": [
    "# obtenha o último run no Mlflow\n",
    "last_run_id = mlflow.search_runs(\n",
    "    experiment_ids=[mlflow.get_experiment_by_name(experiment_name).experiment_id], \n",
    "    max_results=1, \n",
    "    order_by=[\"attributes.start_time DESC\"]\n",
    ")['run_id'][0]\n",
    "\n",
    "# construir o URI do modelo\n",
    "model_uri = f\"runs:/{last_run_id}/model\"\n",
    "\n",
    "# registrar o modelo\n",
    "registered_model_version = mlflow.register_model(model_uri, registered_model_name)"
   ]
  },
  {
   "cell_type": "markdown",
   "id": "00f495df-8985-4d11-ae67-1fa82382afe0",
   "metadata": {},
   "source": [
    "Você também pode ver as métricas do modelo a partir do modelo registrado no MLflow:\n",
    "\n"
   ]
  },
  {
   "cell_type": "code",
   "execution_count": 89,
   "id": "a46fe187",
   "metadata": {},
   "outputs": [
    {
     "data": {
      "text/plain": [
       "{'validation-logloss': 0.292477089757779,\n",
       " 'validation_auc': 0.7667290504425037,\n",
       " 'train_auc': 0.7986270378851712,\n",
       " 'train-logloss': 0.27260887596264183}"
      ]
     },
     "execution_count": 89,
     "metadata": {},
     "output_type": "execute_result"
    }
   ],
   "source": [
    "mlflow.get_run(registered_model_version.run_id).data.metrics"
   ]
  },
  {
   "cell_type": "markdown",
   "id": "fc870dab-1d90-4855-b1c7-4c58cff64a43",
   "metadata": {},
   "source": [
    "### Treinar com algoritmos integrados do SageMaker\n",
    "Em vez de desenvolver seu próprio script, você pode usar um dos [algoritmos integrados](https://docs.aws.amazon.com/sagemaker/latest/dg/algos.html) do SageMaker. Nesta seção, você vai usar o algoritmo [XGBoost](https://docs.aws.amazon.com/sagemaker/latest/dg/xgboost.html). Você não precisa fornecer seu próprio script de treinamento. Você só precisa instanciar um objeto [Estimator](https://sagemaker.readthedocs.io/en/stable/api/training/estimators.html), definir os [hiperparâmetros](https://docs.aws.amazon.com/sagemaker/latest/dg/xgboost_hyperparameters.html) do algoritmo e chamar o método `fit()` do estimador."
   ]
  },
  {
   "cell_type": "code",
   "execution_count": 90,
   "id": "c861c8b7",
   "metadata": {},
   "outputs": [
    {
     "name": "stderr",
     "output_type": "stream",
     "text": [
      "INFO:sagemaker.image_uris:Ignoring unnecessary instance type: None.\n"
     ]
    },
    {
     "name": "stdout",
     "output_type": "stream",
     "text": [
      "683313688378.dkr.ecr.us-east-1.amazonaws.com/sagemaker-xgboost:1.7-1\n"
     ]
    }
   ],
   "source": [
    "# obter o URI do contêiner de treinamento\n",
    "training_image = sagemaker.image_uris.retrieve(\"xgboost\", region=region, version=\"1.7-1\")\n",
    "\n",
    "print(training_image)"
   ]
  },
  {
   "cell_type": "code",
   "execution_count": 91,
   "id": "db1a89cc-c841-4e5d-99b3-d4fe5b6435cc",
   "metadata": {
    "tags": []
   },
   "outputs": [],
   "source": [
    "# Instanciar um objeto estimador XGBoost\n",
    "estimator = sagemaker.estimator.Estimator(\n",
    "    image_uri=training_image,  # Contêiner do algoritmo XGBoost\n",
    "    instance_type=train_instance_type,  # tipo de instância de treinamento\n",
    "    instance_count=train_instance_count,  # número de instâncias a serem usadas\n",
    "    role=sm_role,  # Função de execução IAM a ser usada\n",
    "    max_run=20 * 60,  # Tempo máximo de execução ativa permitido\n",
    "    # use_spot_instances=True,  # Usar instâncias spot para reduzir custos\n",
    "    # max_wait=30 * 60,  # Tempo máximo de espera (incluindo atrasos de spot)\n",
    "    output_path=output_s3_url, # Localização S3 para salvar o resultado do treinamento\n",
    "    sagemaker_session=session, # Objeto de sessão que gerencia interações com a API do SageMaker e serviços AWS\n",
    "    base_job_name=\"from-idea-to-prod-training\", # Prefixo para o nome do job de treinamento\n",
    ")\n",
    "\n",
    "# definir seus hiperparâmetros\n",
    "estimator.set_hyperparameters(\n",
    "    num_round=50, # o número de rodadas para executar o treinamento\n",
    "    max_depth=3, # profundidade máxima de uma árvore\n",
    "    eta=0.5, # redução do tamanho do passo usado nas atualizações para evitar overfitting\n",
    "    alpha=2.5, # termo de regularização L1 nos pesos\n",
    "    objective=\"binary:logistic\",\n",
    "    eval_metric=\"auc\", # métricas de avaliação para dados de validação\n",
    "    subsample=0.8, # taxa de subamostragem da instância de treinamento\n",
    "    colsample_bytree=0.8, # taxa de subamostragem de colunas ao construir cada árvore\n",
    "    min_child_weight=3, # soma mínima do peso da instância (hessiana) necessária em um filho\n",
    "    early_stopping_rounds=10, # o modelo treina até que a pontuação de validação pare de melhorar\n",
    "    verbosity=1, # verbosidade das mensagens impressas\n",
    ")"
   ]
  },
  {
   "cell_type": "code",
   "execution_count": 92,
   "id": "61ac8dab",
   "metadata": {},
   "outputs": [
    {
     "data": {
      "text/plain": [
       "{'num_round': 50,\n",
       " 'max_depth': 3,\n",
       " 'eta': 0.5,\n",
       " 'alpha': 2.5,\n",
       " 'objective': 'binary:logistic',\n",
       " 'eval_metric': 'auc',\n",
       " 'subsample': 0.8,\n",
       " 'colsample_bytree': 0.8,\n",
       " 'min_child_weight': 3,\n",
       " 'early_stopping_rounds': 10,\n",
       " 'verbosity': 1}"
      ]
     },
     "execution_count": 92,
     "metadata": {},
     "output_type": "execute_result"
    }
   ],
   "source": [
    "estimator.hyperparameters()"
   ]
  },
  {
   "cell_type": "code",
   "execution_count": 93,
   "id": "5f7886c8-7bdd-4659-b045-8fac4b2755e1",
   "metadata": {},
   "outputs": [],
   "source": [
    "# função auxiliar para carregar o modelo XGBoost em xgboost.Booster\n",
    "def load_model(model_data_s3_uri):\n",
    "    import xgboost as xgb\n",
    "    import tarfile\n",
    "    import pickle as pkl\n",
    "\n",
    "    model_file = \"./xgboost-model.tar.gz\"\n",
    "    bucket, key = model_data_s3_uri.replace(\"s3://\", \"\").split(\"/\", 1)\n",
    "    boto3.client(\"s3\").download_file(bucket, key, model_file)\n",
    "    \n",
    "    with tarfile.open(model_file, \"r:gz\") as t:\n",
    "        t.extractall(path=\".\")\n",
    "    \n",
    "    # Load model\n",
    "    model = xgb.Booster()\n",
    "    model.load_model(\"xgboost-model\")\n",
    "\n",
    "    return model"
   ]
  },
  {
   "cell_type": "markdown",
   "id": "a3022218-4f87-4e59-8f58-9bab2a44bb96",
   "metadata": {},
   "source": [
    "Execute o treinamento:\n"
   ]
  },
  {
   "cell_type": "markdown",
   "id": "2ca5a53b",
   "metadata": {},
   "source": [
    "<svg width=\"800\" height=\"125\" viewBox=\"0 0 800 125\" xmlns=\"http://www.w3.org/2000/svg\">\n",
    "    <defs>\n",
    "        <linearGradient id=\"fadeGradient\" x1=\"0\" x2=\"1\">\n",
    "            <stop offset=\"0%\" stop-color=\"#F0F0F0\"/>\n",
    "            <stop offset=\"100%\" stop-color=\"#F0F0F0\" stop-opacity=\"0\"/>\n",
    "        </linearGradient>\n",
    "        <mask id=\"fadeMask\">\n",
    "            <rect x=\"0\" y=\"0\" width=\"750\" height=\"125\" fill=\"white\"/>\n",
    "            <rect x=\"750\" y=\"0\" width=\"50\" height=\"125\" fill=\"url(#fadeGradient)\"/>\n",
    "        </mask>\n",
    "    </defs>\n",
    "    <path d=\"M3,50 A50,50 0 0 1 53,3 L797,3 L797,97 L97,97 L50,115 L3,97 Z\" fill=\"#F0F0F0\" stroke=\"#E0E0E0\" stroke-width=\"1\" mask=\"url(#fadeMask)\"/>\n",
    "    <circle cx=\"50\" cy=\"50\" r=\"30\" fill=\"#57c4f8\" stroke=\"#57c4f8\" stroke-width=\"1\"/>\n",
    "    <circle cx=\"50\" cy=\"50\" r=\"25\" fill=\"#F0F0F0\"/>\n",
    "    <line x1=\"50\" y1=\"50\" x2=\"50\" y2=\"30\" stroke=\"#57c4f8\" stroke-width=\"3\" stroke-linecap=\"round\"/>\n",
    "    <line x1=\"50\" y1=\"50\" x2=\"65\" y2=\"50\" stroke=\"#57c4f8\" stroke-width=\"3\" stroke-linecap=\"round\"/>\n",
    "    <text x=\"100\" y=\"34\" font-family=\"Arial, sans-serif\" font-size=\"14\" fill=\"#333333\">A próxima célula pode levar alguns minutos para ser executada. Por favor, seja paciente.</text>\n",
    "    <text x=\"100\" y=\"56\" font-family=\"Arial, sans-serif\" font-size=\"14\" fill=\"#333333\">Você pode ignorar com segurança as mensagens de aviso.</text>\n",
    "</svg>"
   ]
  },
  {
   "cell_type": "code",
   "execution_count": 95,
   "id": "3f00f242",
   "metadata": {},
   "outputs": [
    {
     "name": "stderr",
     "output_type": "stream",
     "text": [
      "INFO:sagemaker:Creating training-job with name: from-idea-to-prod-training-2024-10-15-00-12-17-545\n"
     ]
    },
    {
     "name": "stdout",
     "output_type": "stream",
     "text": [
      "\n",
      "2024-10-15 00:12:19 Starting - Starting the training job..\n",
      "2024-10-15 00:12:35 Starting - Preparing the instances for training....\n",
      "2024-10-15 00:13:00 Downloading - Downloading input data.....\n",
      "2024-10-15 00:13:30 Downloading - Downloading the training image........\n",
      "2024-10-15 00:14:15 Training - Training image download completed. Training in progress..\n",
      "2024-10-15 00:14:26 Uploading - Uploading generated training model.\n",
      "2024-10-15 00:14:39 Completed - Training job completed\n"
     ]
    },
    {
     "name": "stderr",
     "output_type": "stream",
     "text": [
      "WARNING:sagemaker.analytics:Warning: No metrics called train:mae found\n",
      "WARNING:sagemaker.analytics:Warning: No metrics called validation:aucpr found\n",
      "WARNING:sagemaker.analytics:Warning: No metrics called validation:f1_binary found\n",
      "WARNING:sagemaker.analytics:Warning: No metrics called validation:mae found\n",
      "WARNING:sagemaker.analytics:Warning: No metrics called validation:logloss found\n",
      "WARNING:sagemaker.analytics:Warning: No metrics called validation:f1 found\n",
      "WARNING:sagemaker.analytics:Warning: No metrics called train:accuracy found\n",
      "WARNING:sagemaker.analytics:Warning: No metrics called train:mse found\n",
      "WARNING:sagemaker.analytics:Warning: No metrics called validation:recall found\n",
      "WARNING:sagemaker.analytics:Warning: No metrics called validation:poisson-nloglik found\n",
      "WARNING:sagemaker.analytics:Warning: No metrics called validation:precision found\n",
      "WARNING:sagemaker.analytics:Warning: No metrics called train:error found\n",
      "WARNING:sagemaker.analytics:Warning: No metrics called train:ndcg found\n",
      "WARNING:sagemaker.analytics:Warning: No metrics called validation:map found\n",
      "WARNING:sagemaker.analytics:Warning: No metrics called train:f1_binary found\n",
      "WARNING:sagemaker.analytics:Warning: No metrics called validation:error found\n",
      "WARNING:sagemaker.analytics:Warning: No metrics called train:poisson-nloglik found\n",
      "WARNING:sagemaker.analytics:Warning: No metrics called train:rmse found\n",
      "WARNING:sagemaker.analytics:Warning: No metrics called train:logloss found\n",
      "WARNING:sagemaker.analytics:Warning: No metrics called validation:accuracy found\n",
      "WARNING:sagemaker.analytics:Warning: No metrics called train:aucpr found\n",
      "WARNING:sagemaker.analytics:Warning: No metrics called validation:balanced_accuracy found\n",
      "WARNING:sagemaker.analytics:Warning: No metrics called validation:rmse found\n",
      "WARNING:sagemaker.analytics:Warning: No metrics called validation:mse found\n",
      "WARNING:sagemaker.analytics:Warning: No metrics called validation:ndcg found\n",
      "WARNING:sagemaker.analytics:Warning: No metrics called train:f1 found\n",
      "WARNING:sagemaker.analytics:Warning: No metrics called train:map found\n",
      "/opt/conda/lib/python3.11/site-packages/xgboost/core.py:160: UserWarning: [00:14:41] WARNING: /home/conda/feedstock_root/build_artifacts/xgboost-split_1713397725960/work/src/c_api/c_api.cc:1240: Saving into deprecated binary model format, please consider using `json` or `ubj`. Model format will default to JSON in XGBoost 2.2 if not specified.\n",
      "  warnings.warn(smsg, UserWarning)\n",
      "2024/10/15 00:14:41 WARNING mlflow.utils.environment: Encountered an unexpected error while inferring pip requirements (model URI: /tmp/tmpheyq3mdn/model, flavor: xgboost). Fall back to return ['xgboost==2.0.3']. Set logging level to DEBUG to see the full traceback. \n",
      "2024/10/15 00:14:41 WARNING mlflow.utils.requirements_utils: Detected one or more mismatches between the model's dependencies and the current Python environment:\n",
      " - mlflow (current: 2.13.2, required: mlflow==2.17.0)\n",
      "To fix the mismatches, call `mlflow.pyfunc.get_model_dependencies(model_uri)` to fetch the model's environment and install dependencies using the resulting environment file.\n",
      "2024/10/15 00:14:41 WARNING mlflow.models.model: Model logged without a signature and input example. Please set `input_example` parameter when logging the model to auto infer the model signature.\n",
      "2024/10/15 00:14:41 INFO mlflow.tracking._tracking_service.client: 🏃 View run treinamento-do-container-15-00-12-17 at: https://us-east-1.experiments.sagemaker.aws/#/experiments/7/runs/eb67eececb524d208f37744f48eaf6a1.\n",
      "2024/10/15 00:14:41 INFO mlflow.tracking._tracking_service.client: 🧪 View experiment at: https://us-east-1.experiments.sagemaker.aws/#/experiments/7.\n"
     ]
    }
   ],
   "source": [
    "mlflow.set_experiment(experiment_name=experiment_name)\n",
    "with mlflow.start_run(\n",
    "    run_name=f\"treinamento-do-container-{strftime('%d-%H-%M-%S', gmtime())}\",\n",
    "    description=\"treinamento no notebook 02 com um job de treinamento\") as run:\n",
    "    mlflow.log_params(estimator.hyperparameters())\n",
    "        \n",
    "    estimator.fit(\n",
    "        training_inputs,\n",
    "        wait=True,\n",
    "        logs=False,\n",
    "    ) \n",
    "    \n",
    "    mlflow.set_tags(\n",
    "        {\n",
    "            'mlflow.user': user_profile_name,\n",
    "            'mlflow.source.name': f'https://{region}.console.aws.amazon.com/sagemaker/home?region={region}#/jobs/{estimator.latest_training_job.name}',\n",
    "            'mlflow.source.type': 'JOB'\n",
    "        }\n",
    "    )\n",
    "    mlflow.log_param(\"nome do job de treinamento\", estimator.latest_training_job.name)\n",
    "    mlflow.log_metrics({i['metric_name'].replace(':', '_'): i['value'] for i in estimator.training_job_analytics.dataframe().iloc})\n",
    "    mlflow.xgboost.log_model(load_model(estimator.model_data), artifact_path=\"modelo\")\n"
   ]
  },
  {
   "cell_type": "markdown",
   "id": "acf59a4c",
   "metadata": {},
   "source": [
    "<img src=\"data:image/svg+xml;base64,Cjxzdmcgd2lkdGg9IjgwMCIgaGVpZ2h0PSI1MCIgdmlld0JveD0iMCAwIDgwMCA1MCIgeG1sbnM9Imh0dHA6Ly93d3cudzMub3JnLzIwMDAvc3ZnIj4KICAgIDxkZWZzPgogICAgICAgIDxsaW5lYXJHcmFkaWVudCBpZD0iZmFkZUdyYWRpZW50IiB4MT0iMCIgeDI9IjEiPgogICAgICAgICAgICA8c3RvcCBvZmZzZXQ9IjAlIiBzdG9wLWNvbG9yPSIjRjBGMEYwIi8+CiAgICAgICAgICAgIDxzdG9wIG9mZnNldD0iMTAwJSIgc3RvcC1jb2xvcj0iI0YwRjBGMCIgc3RvcC1vcGFjaXR5PSIwIi8+CiAgICAgICAgPC9saW5lYXJHcmFkaWVudD4KICAgICAgICA8bWFzayBpZD0iZmFkZU1hc2siPgogICAgICAgICAgICA8cmVjdCB4PSIwIiB5PSIwIiB3aWR0aD0iNzUwIiBoZWlnaHQ9IjUwIiBmaWxsPSJ3aGl0ZSIvPgogICAgICAgICAgICA8cmVjdCB4PSI3NTAiIHk9IjAiIHdpZHRoPSI1MCIgaGVpZ2h0PSI1MCIgZmlsbD0idXJsKCNmYWRlR3JhZGllbnQpIi8+CiAgICAgICAgPC9tYXNrPgogICAgPC9kZWZzPgogICAgPHBhdGggZD0iTTI1LDUwIFEwLDUwIDAsMjUgTDUwLDMgTDk3LDI1IEw3OTcsMjUgTDc5Nyw1MCBMMjUsNTAgWiIgZmlsbD0iI0YwRjBGMCIgc3Ryb2tlPSIjRTBFMEUwIiBzdHJva2Utd2lkdGg9IjEiIG1hc2s9InVybCgjZmFkZU1hc2spIi8+Cjwvc3ZnPgo=\" alt=\"Time alert close\"/>"
   ]
  },
  {
   "cell_type": "markdown",
   "id": "f96001de-6461-4e1d-b4a1-fa6208a2d0db",
   "metadata": {},
   "source": [
    "Veja agora os detalhes do job de treinamento clicando no link construído pela célula abaixo:\n",
    "\n"
   ]
  },
  {
   "cell_type": "code",
   "execution_count": 97,
   "id": "a2209bbe-0a9d-4306-863b-df16c3cafa97",
   "metadata": {},
   "outputs": [
    {
     "data": {
      "text/html": [
       "<b>Veja o <a target=\"top\" href=\"https://us-east-1.console.aws.amazon.com/sagemaker/home?region=us-east-1#/jobs/from-idea-to-prod-training-2024-10-15-00-12-17-545\">job de treinamento</a> do SageMaker</b>"
      ],
      "text/plain": [
       "<IPython.core.display.HTML object>"
      ]
     },
     "metadata": {},
     "output_type": "display_data"
    }
   ],
   "source": [
    "from IPython.display import HTML\n",
    "\n",
    "# Mostre o link do job de treinamento\n",
    "display(\n",
    "    HTML('<b>Veja o <a target=\"top\" href=\"https://{}.console.aws.amazon.com/sagemaker/home?region={}#/jobs/{}\">job de treinamento</a> do SageMaker</b>'.format(\n",
    "            region, region, estimator.latest_training_job.name))\n",
    ")\n"
   ]
  },
  {
   "cell_type": "markdown",
   "id": "5283ce86-6630-4b0a-a341-48cda396d18f",
   "metadata": {},
   "source": [
    "### Saída do desempenho do modelo a partir do estimador"
   ]
  },
  {
   "cell_type": "code",
   "execution_count": 98,
   "id": "052e9640-3a0b-4a30-a897-ecd2ee102ca4",
   "metadata": {
    "tags": []
   },
   "outputs": [],
   "source": [
    "if estimator._current_job_name:\n",
    "    training_job_name = estimator._current_job_name"
   ]
  },
  {
   "cell_type": "code",
   "execution_count": 99,
   "id": "4b5b84a2",
   "metadata": {},
   "outputs": [
    {
     "name": "stdout",
     "output_type": "stream",
     "text": [
      "Train-auc:0.7877, Validate-auc:0.7714\n"
     ]
    }
   ],
   "source": [
    "metrics = None\n",
    "while not metrics:\n",
    "    metrics = sm.describe_training_job(\n",
    "        TrainingJobName=training_job_name\n",
    "        ).get(\"FinalMetricDataList\")\n",
    "\n",
    "    if not metrics:\n",
    "        print(f\"Training job {training_job_name} hasn't finished yet!\")\n",
    "        time.sleep(10)\n",
    "    \n",
    "train_auc = float([m['Value'] for m in metrics if m['MetricName'] == 'train:auc'][0])\n",
    "validate_auc = float([m['Value'] for m in metrics if m['MetricName'] == 'validation:auc'][0])\n",
    "\n",
    "print(f\"Train-auc:{train_auc:.4f}, Validate-auc:{validate_auc:.4f}\")"
   ]
  },
  {
   "cell_type": "code",
   "execution_count": 100,
   "id": "26985d63",
   "metadata": {},
   "outputs": [
    {
     "name": "stdout",
     "output_type": "stream",
     "text": [
      "Stored 'training_job_name' (str)\n"
     ]
    }
   ],
   "source": [
    "%store training_job_name"
   ]
  },
  {
   "cell_type": "code",
   "execution_count": 101,
   "id": "0f4718e0",
   "metadata": {},
   "outputs": [
    {
     "data": {
      "text/plain": [
       "'s3://sagemaker-us-east-1-533267005474/from-idea-to-prod/xgboost/output/from-idea-to-prod-training-2024-10-15-00-12-17-545/output/model.tar.gz'"
      ]
     },
     "execution_count": 101,
     "metadata": {},
     "output_type": "execute_result"
    }
   ],
   "source": [
    "# Imprimir o caminho S3 para o artefato do modelo:\n",
    "estimator.model_data"
   ]
  },
  {
   "cell_type": "markdown",
   "id": "4525ff7c-527d-4cd3-8708-83d516e47a02",
   "metadata": {},
   "source": [
    "### Opcional: Reduzir o tempo de inicialização do job de treinamento com pools aquecidos\n",
    "\n",
    "\n",
    "Em vez de usar cada vez um novo cluster de computação efêmero para treinar seus modelos, você pode manter suas instâncias de hardware de treinamento de modelo aquecidas após cada job por um período especificado. Consulte [Reduzir o tempo de inicialização do job de treinamento de modelo ML em até 8x usando SageMaker Training Managed Warm Pools](https://aws.amazon.com/about-aws/whats-new/2022/09/reduce-ml-model-training-job-startup-time-8x-sagemaker-training-managed-warm-pools/) para mais detalhes. Se você optar por usar pools aquecidos, será cobrado pelas instâncias e volumes EBS durante o período de manutenção ativa.\n",
    "Consulte [Treinar Usando SageMaker Managed Warm Pools](https://docs.aws.amazon.com/sagemaker/latest/dg/train-warm-pools.html) no Guia do Desenvolvedor do Amazon SageMaker para detalhes sobre a API de treinamento."
   ]
  },
  {
   "cell_type": "markdown",
   "id": "a7af5386",
   "metadata": {},
   "source": [
    "<div style=\"border: 4px solid coral; text-align: center; margin: auto;\">\n",
    "    <p style=\" text-align: center; margin: auto;\">Para usar o recurso de pool aquecido, você deve ter uma cota de pool aquecido correspondente para um tipo de instância necessário definido com um valor maior que 0.\n",
    "    <br>\n",
    "    </p>\n",
    "</div>"
   ]
  },
  {
   "cell_type": "code",
   "execution_count": 102,
   "id": "909030b3-4db3-4229-a1ce-5ee453e4b88e",
   "metadata": {
    "tags": []
   },
   "outputs": [],
   "source": [
    "def check_quota(quota_code, min_v):\n",
    "    r = quotas_client.get_service_quota(\n",
    "        ServiceCode=\"sagemaker\",\n",
    "        QuotaCode=quota_code,\n",
    "    )\n",
    "    \n",
    "    q = r[\"Quota\"][\"Value\"]\n",
    "    n = r[\"Quota\"][\"QuotaName\"]\n",
    "\n",
    "    if q < min_v:\n",
    "        print (\n",
    "            f\"AVISO: Sua cota {q} para {n} é menor que o valor necessário de {min_v}\"\n",
    "        )\n",
    "    else:\n",
    "        print(\n",
    "            f\"SUCESSO: Sua cota {q} para {n} é igual ou maior que o valor necessário de {min_v}\"\n",
    "        )"
   ]
  },
  {
   "cell_type": "code",
   "execution_count": 103,
   "id": "6f9b029b",
   "metadata": {},
   "outputs": [
    {
     "name": "stdout",
     "output_type": "stream",
     "text": [
      "AVISO: Sua cota 0.0 para ml.m5.xlarge for training warm pool usage é menor que o valor necessário de 1\n"
     ]
    }
   ],
   "source": [
    "quotas_client = boto3.client(\"service-quotas\")\n",
    "                      \n",
    "quotas = {\n",
    "    \"ml.m5.large\": [\"L-2DD73636\", 1],\n",
    "    \"ml.m5.xlarge\": [\"L-0BEF44E8\", 1],\n",
    "    \"ml.m5.2xlarge\": [\"L-1686EE8B\", 1],\n",
    "}\n",
    "     \n",
    "check_quota(quotas[train_instance_type][0], quotas[train_instance_type][1])"
   ]
  },
  {
   "cell_type": "markdown",
   "id": "bd3f1e66",
   "metadata": {},
   "source": [
    "#### Treinar com SageMaker warm pools\n",
    "Vamos usar esse recurso e executar o treinamento XGBoost usando warm pools.\n",
    "Observe os atributos correspondentes de um job de treinamento para reutilizar a infraestrutura provisionada de um job anterior: [Critérios de correspondência](https://docs.aws.amazon.com/sagemaker/latest/dg/train-warm-pools.html#train-warm-pools-matching-criteria)\n",
    "\n",
    "Para criar um pool aquecido, você precisa definir o parâmetro `KeepAlivePeriodInSeconds` na configuração do `Estimator` com um valor maior que 0."
   ]
  },
  {
   "cell_type": "code",
   "execution_count": 104,
   "id": "0e13412d",
   "metadata": {
    "tags": []
   },
   "outputs": [],
   "source": [
    "# Instanciar um objeto estimador XGBoost\n",
    "warm_pool_estimator = sagemaker.estimator.Estimator(\n",
    "    image_uri=training_image,  # Contêiner do algoritmo XGBoost\n",
    "    instance_type=train_instance_type,  # tipo de instância de treinamento\n",
    "    instance_count=train_instance_count,  # número de instâncias a serem usadas\n",
    "    role=sm_role,  # Função de execução IAM a ser usada\n",
    "    max_run=20 * 60,  # Tempo máximo de execução ativa permitido\n",
    "    # use_spot_instances=True,  # Usar instâncias spot para reduzir custos\n",
    "    # max_wait=30 * 60,  # Tempo máximo de espera (incluindo atrasos de spot)\n",
    "    output_path=output_s3_url, # Localização S3 para salvar o resultado do treinamento\n",
    "    sagemaker_session=session, # Objeto de sessão que gerencia interações com a API do SageMaker e serviços AWS\n",
    "    base_job_name=\"from-idea-to-prod-training\", # Prefixo para o nome do job de treinamento\n",
    "    keep_alive_period_in_seconds=1800, # usar o recurso de pool aquecido\n",
    ")"
   ]
  },
  {
   "cell_type": "code",
   "execution_count": 105,
   "id": "c0a7a049",
   "metadata": {
    "tags": []
   },
   "outputs": [],
   "source": [
    "training_inputs = {'train': s3_input_train, 'validation': s3_input_validation}"
   ]
  },
  {
   "cell_type": "markdown",
   "id": "5688fd05",
   "metadata": {},
   "source": [
    "Execute um job de treinamento chamando `estimator.fit()` várias vezes consecutivas com diferentes hiperparâmetros. O job de treinamento inicial \"inicia a frio\" conforme o SageMaker provisiona a infraestrutura de computação necessária para ele. Quando este job é concluído, a infraestrutura é mantida ativa pelo período `KeepAlivePeriodInSeconds`. O pool aquecido permanece `Disponível` até que ele identifique um job de treinamento correspondente para reutilização ou exceda o `KeepAlivePeriodInSeconds` especificado e seja encerrado."
   ]
  },
  {
   "cell_type": "markdown",
   "id": "1035d322-d47d-4357-bbb8-ac85f8558b48",
   "metadata": {},
   "source": [
    "Acompanhe as execuções dos jobs no console do SageMaker clicando no link construído pela seguinte célula:"
   ]
  },
  {
   "cell_type": "code",
   "execution_count": 107,
   "id": "c4df95f5-6a58-4871-83b1-678d2e427787",
   "metadata": {},
   "outputs": [
    {
     "data": {
      "text/html": [
       "<b>Veja jobs de treinamento do  <a target=\"top\" href=\"https://us-east-1.console.aws.amazon.com/sagemaker/home?region=us-east-1#/jobs/\">SageMaker</a></b>"
      ],
      "text/plain": [
       "<IPython.core.display.HTML object>"
      ]
     },
     "metadata": {},
     "output_type": "display_data"
    }
   ],
   "source": [
    "# Mostrar o link dos jobs de treinamento\n",
    "display(\n",
    "    HTML('<b>Veja jobs de treinamento do  <a target=\"top\" href=\"https://{}.console.aws.amazon.com/sagemaker/home?region={}#/jobs/\">SageMaker</a></b>'.format(\n",
    "            region, region))\n",
    ")"
   ]
  },
  {
   "cell_type": "code",
   "execution_count": 108,
   "id": "487ac5f2",
   "metadata": {},
   "outputs": [
    {
     "name": "stderr",
     "output_type": "stream",
     "text": [
      "2024/10/15 00:16:26 INFO mlflow.tracking.fluent: Experiment with name 'from-idea-to-prod-warm-pools-15-00-16-26' does not exist. Creating a new experiment.\n"
     ]
    },
    {
     "name": "stdout",
     "output_type": "stream",
     "text": [
      "Ajustar estimador com max_depth=2\n"
     ]
    },
    {
     "name": "stderr",
     "output_type": "stream",
     "text": [
      "INFO:sagemaker:Creating training-job with name: from-idea-to-prod-training-2024-10-15-00-16-26-981\n"
     ]
    },
    {
     "name": "stdout",
     "output_type": "stream",
     "text": [
      "\n",
      "2024-10-15 00:16:30 Starting - Starting the training job..\n",
      "2024-10-15 00:16:44 Starting - Preparing the instances for training...\n",
      "2024-10-15 00:17:05 Downloading - Downloading input data....\n",
      "2024-10-15 00:17:31 Downloading - Downloading the training image.........\n",
      "2024-10-15 00:18:21 Training - Training image download completed. Training in progress...\n",
      "2024-10-15 00:18:39 Uploading - Uploading generated training model.\n",
      "2024-10-15 00:18:47 Completed - Training job completed"
     ]
    },
    {
     "name": "stderr",
     "output_type": "stream",
     "text": [
      "WARNING:sagemaker.analytics:Warning: No metrics called train:mae found\n",
      "WARNING:sagemaker.analytics:Warning: No metrics called validation:aucpr found\n",
      "WARNING:sagemaker.analytics:Warning: No metrics called validation:f1_binary found\n",
      "WARNING:sagemaker.analytics:Warning: No metrics called validation:mae found\n"
     ]
    },
    {
     "name": "stdout",
     "output_type": "stream",
     "text": [
      "\n"
     ]
    },
    {
     "name": "stderr",
     "output_type": "stream",
     "text": [
      "WARNING:sagemaker.analytics:Warning: No metrics called validation:logloss found\n",
      "WARNING:sagemaker.analytics:Warning: No metrics called validation:f1 found\n",
      "WARNING:sagemaker.analytics:Warning: No metrics called train:accuracy found\n",
      "WARNING:sagemaker.analytics:Warning: No metrics called train:mse found\n",
      "WARNING:sagemaker.analytics:Warning: No metrics called validation:recall found\n",
      "WARNING:sagemaker.analytics:Warning: No metrics called validation:poisson-nloglik found\n",
      "WARNING:sagemaker.analytics:Warning: No metrics called validation:precision found\n",
      "WARNING:sagemaker.analytics:Warning: No metrics called train:error found\n",
      "WARNING:sagemaker.analytics:Warning: No metrics called train:ndcg found\n",
      "WARNING:sagemaker.analytics:Warning: No metrics called validation:map found\n",
      "WARNING:sagemaker.analytics:Warning: No metrics called train:f1_binary found\n",
      "WARNING:sagemaker.analytics:Warning: No metrics called validation:error found\n",
      "WARNING:sagemaker.analytics:Warning: No metrics called train:poisson-nloglik found\n",
      "WARNING:sagemaker.analytics:Warning: No metrics called train:rmse found\n",
      "WARNING:sagemaker.analytics:Warning: No metrics called train:logloss found\n",
      "WARNING:sagemaker.analytics:Warning: No metrics called validation:accuracy found\n",
      "WARNING:sagemaker.analytics:Warning: No metrics called train:aucpr found\n",
      "WARNING:sagemaker.analytics:Warning: No metrics called validation:balanced_accuracy found\n",
      "WARNING:sagemaker.analytics:Warning: No metrics called validation:rmse found\n",
      "WARNING:sagemaker.analytics:Warning: No metrics called validation:mse found\n",
      "WARNING:sagemaker.analytics:Warning: No metrics called validation:ndcg found\n",
      "WARNING:sagemaker.analytics:Warning: No metrics called train:f1 found\n",
      "WARNING:sagemaker.analytics:Warning: No metrics called train:map found\n",
      "2024/10/15 00:18:50 INFO mlflow.tracking._tracking_service.client: 🏃 View run max_depth=2 at: https://us-east-1.experiments.sagemaker.aws/#/experiments/9/runs/06f9f3ecc6a34be9a5fd3c0385e86a50.\n",
      "2024/10/15 00:18:50 INFO mlflow.tracking._tracking_service.client: 🧪 View experiment at: https://us-east-1.experiments.sagemaker.aws/#/experiments/9.\n"
     ]
    },
    {
     "name": "stdout",
     "output_type": "stream",
     "text": [
      "Ajustar estimador com max_depth=3\n"
     ]
    },
    {
     "name": "stderr",
     "output_type": "stream",
     "text": [
      "INFO:sagemaker:Creating training-job with name: from-idea-to-prod-training-2024-10-15-00-18-50-892\n"
     ]
    },
    {
     "name": "stdout",
     "output_type": "stream",
     "text": [
      "\n",
      "2024-10-15 00:18:53 Starting - Starting the training job..\n",
      "2024-10-15 00:19:08 Starting - Preparing the instances for training....\n",
      "2024-10-15 00:19:35 Downloading - Downloading input data.....\n",
      "2024-10-15 00:20:05 Downloading - Downloading the training image........\n",
      "2024-10-15 00:20:51 Training - Training image download completed. Training in progress...\n",
      "2024-10-15 00:21:07 Uploading - Uploading generated training model..\n",
      "2024-10-15 00:21:20 Completed - Instances not retained as a result of warmpool resource limits being exceeded"
     ]
    },
    {
     "name": "stderr",
     "output_type": "stream",
     "text": [
      "WARNING:sagemaker.analytics:Warning: No metrics called train:mae found\n",
      "WARNING:sagemaker.analytics:Warning: No metrics called validation:aucpr found\n",
      "WARNING:sagemaker.analytics:Warning: No metrics called validation:f1_binary found\n",
      "WARNING:sagemaker.analytics:Warning: No metrics called validation:mae found\n",
      "WARNING:sagemaker.analytics:Warning: No metrics called validation:logloss found\n",
      "WARNING:sagemaker.analytics:Warning: No metrics called validation:f1 found\n",
      "WARNING:sagemaker.analytics:Warning: No metrics called train:accuracy found\n",
      "WARNING:sagemaker.analytics:Warning: No metrics called train:mse found\n"
     ]
    },
    {
     "name": "stdout",
     "output_type": "stream",
     "text": [
      "\n"
     ]
    },
    {
     "name": "stderr",
     "output_type": "stream",
     "text": [
      "WARNING:sagemaker.analytics:Warning: No metrics called validation:recall found\n",
      "WARNING:sagemaker.analytics:Warning: No metrics called validation:poisson-nloglik found\n",
      "WARNING:sagemaker.analytics:Warning: No metrics called validation:precision found\n",
      "WARNING:sagemaker.analytics:Warning: No metrics called train:error found\n",
      "WARNING:sagemaker.analytics:Warning: No metrics called train:ndcg found\n",
      "WARNING:sagemaker.analytics:Warning: No metrics called validation:map found\n",
      "WARNING:sagemaker.analytics:Warning: No metrics called train:f1_binary found\n",
      "WARNING:sagemaker.analytics:Warning: No metrics called validation:error found\n",
      "WARNING:sagemaker.analytics:Warning: No metrics called train:poisson-nloglik found\n",
      "WARNING:sagemaker.analytics:Warning: No metrics called train:rmse found\n",
      "WARNING:sagemaker.analytics:Warning: No metrics called train:logloss found\n",
      "WARNING:sagemaker.analytics:Warning: No metrics called validation:accuracy found\n",
      "WARNING:sagemaker.analytics:Warning: No metrics called train:aucpr found\n",
      "WARNING:sagemaker.analytics:Warning: No metrics called validation:balanced_accuracy found\n",
      "WARNING:sagemaker.analytics:Warning: No metrics called validation:rmse found\n",
      "WARNING:sagemaker.analytics:Warning: No metrics called validation:mse found\n",
      "WARNING:sagemaker.analytics:Warning: No metrics called validation:ndcg found\n",
      "WARNING:sagemaker.analytics:Warning: No metrics called train:f1 found\n",
      "WARNING:sagemaker.analytics:Warning: No metrics called train:map found\n",
      "2024/10/15 00:21:24 INFO mlflow.tracking._tracking_service.client: 🏃 View run max_depth=3 at: https://us-east-1.experiments.sagemaker.aws/#/experiments/9/runs/3c12b2f49419417c9bacf719d31a3975.\n",
      "2024/10/15 00:21:24 INFO mlflow.tracking._tracking_service.client: 🧪 View experiment at: https://us-east-1.experiments.sagemaker.aws/#/experiments/9.\n"
     ]
    },
    {
     "name": "stdout",
     "output_type": "stream",
     "text": [
      "Ajustar estimador com max_depth=5\n"
     ]
    },
    {
     "name": "stderr",
     "output_type": "stream",
     "text": [
      "INFO:sagemaker:Creating training-job with name: from-idea-to-prod-training-2024-10-15-00-21-24-604\n"
     ]
    },
    {
     "name": "stdout",
     "output_type": "stream",
     "text": [
      "\n",
      "2024-10-15 00:21:26 Starting - Starting the training job.\n",
      "2024-10-15 00:21:40 Starting - Preparing the instances for training....\n",
      "2024-10-15 00:22:01 Downloading - Downloading input data....\n",
      "2024-10-15 00:22:26 Downloading - Downloading the training image.........\n",
      "2024-10-15 00:23:17 Training - Training image download completed. Training in progress...\n",
      "2024-10-15 00:23:33 Uploading - Uploading generated training model\n",
      "2024-10-15 00:23:41 Completed - Instances not retained as a result of warmpool resource limits being exceeded"
     ]
    },
    {
     "name": "stderr",
     "output_type": "stream",
     "text": [
      "WARNING:sagemaker.analytics:Warning: No metrics called train:mae found\n",
      "WARNING:sagemaker.analytics:Warning: No metrics called validation:aucpr found\n",
      "WARNING:sagemaker.analytics:Warning: No metrics called validation:f1_binary found\n",
      "WARNING:sagemaker.analytics:Warning: No metrics called validation:mae found\n",
      "WARNING:sagemaker.analytics:Warning: No metrics called validation:logloss found\n"
     ]
    },
    {
     "name": "stdout",
     "output_type": "stream",
     "text": [
      "\n"
     ]
    },
    {
     "name": "stderr",
     "output_type": "stream",
     "text": [
      "WARNING:sagemaker.analytics:Warning: No metrics called validation:f1 found\n",
      "WARNING:sagemaker.analytics:Warning: No metrics called train:accuracy found\n",
      "WARNING:sagemaker.analytics:Warning: No metrics called train:mse found\n",
      "WARNING:sagemaker.analytics:Warning: No metrics called validation:recall found\n",
      "WARNING:sagemaker.analytics:Warning: No metrics called validation:poisson-nloglik found\n",
      "WARNING:sagemaker.analytics:Warning: No metrics called validation:precision found\n",
      "WARNING:sagemaker.analytics:Warning: No metrics called train:error found\n",
      "WARNING:sagemaker.analytics:Warning: No metrics called train:ndcg found\n",
      "WARNING:sagemaker.analytics:Warning: No metrics called validation:map found\n",
      "WARNING:sagemaker.analytics:Warning: No metrics called train:f1_binary found\n",
      "WARNING:sagemaker.analytics:Warning: No metrics called validation:error found\n",
      "WARNING:sagemaker.analytics:Warning: No metrics called train:poisson-nloglik found\n",
      "WARNING:sagemaker.analytics:Warning: No metrics called train:rmse found\n",
      "WARNING:sagemaker.analytics:Warning: No metrics called train:logloss found\n",
      "WARNING:sagemaker.analytics:Warning: No metrics called validation:accuracy found\n",
      "WARNING:sagemaker.analytics:Warning: No metrics called train:aucpr found\n",
      "WARNING:sagemaker.analytics:Warning: No metrics called validation:balanced_accuracy found\n",
      "WARNING:sagemaker.analytics:Warning: No metrics called validation:rmse found\n",
      "WARNING:sagemaker.analytics:Warning: No metrics called validation:mse found\n",
      "WARNING:sagemaker.analytics:Warning: No metrics called validation:ndcg found\n",
      "WARNING:sagemaker.analytics:Warning: No metrics called train:f1 found\n",
      "WARNING:sagemaker.analytics:Warning: No metrics called train:map found\n",
      "2024/10/15 00:23:42 INFO mlflow.tracking._tracking_service.client: 🏃 View run max_depth=5 at: https://us-east-1.experiments.sagemaker.aws/#/experiments/9/runs/aeaec86f54c646daa62c4e33d17d135c.\n",
      "2024/10/15 00:23:42 INFO mlflow.tracking._tracking_service.client: 🧪 View experiment at: https://us-east-1.experiments.sagemaker.aws/#/experiments/9.\n"
     ]
    },
    {
     "name": "stdout",
     "output_type": "stream",
     "text": [
      "Ajustar estimador com max_depth=10\n"
     ]
    },
    {
     "name": "stderr",
     "output_type": "stream",
     "text": [
      "INFO:sagemaker:Creating training-job with name: from-idea-to-prod-training-2024-10-15-00-23-43-095\n"
     ]
    },
    {
     "name": "stdout",
     "output_type": "stream",
     "text": [
      "\n",
      "2024-10-15 00:23:45 Starting - Starting the training job..\n",
      "2024-10-15 00:24:00 Starting - Preparing the instances for training...\n",
      "2024-10-15 00:24:24 Downloading - Downloading input data.....\n",
      "2024-10-15 00:24:54 Downloading - Downloading the training image........\n",
      "2024-10-15 00:25:40 Training - Training image download completed. Training in progress....\n",
      "2024-10-15 00:25:56 Uploading - Uploading generated training model.\n",
      "2024-10-15 00:26:09 Completed - Instances not retained as a result of warmpool resource limits being exceeded"
     ]
    },
    {
     "name": "stderr",
     "output_type": "stream",
     "text": [
      "WARNING:sagemaker.analytics:Warning: No metrics called train:mae found\n",
      "WARNING:sagemaker.analytics:Warning: No metrics called validation:aucpr found\n",
      "WARNING:sagemaker.analytics:Warning: No metrics called validation:f1_binary found\n"
     ]
    },
    {
     "name": "stdout",
     "output_type": "stream",
     "text": [
      "\n"
     ]
    },
    {
     "name": "stderr",
     "output_type": "stream",
     "text": [
      "WARNING:sagemaker.analytics:Warning: No metrics called validation:mae found\n",
      "WARNING:sagemaker.analytics:Warning: No metrics called validation:logloss found\n",
      "WARNING:sagemaker.analytics:Warning: No metrics called validation:f1 found\n",
      "WARNING:sagemaker.analytics:Warning: No metrics called train:accuracy found\n",
      "WARNING:sagemaker.analytics:Warning: No metrics called train:mse found\n",
      "WARNING:sagemaker.analytics:Warning: No metrics called validation:recall found\n",
      "WARNING:sagemaker.analytics:Warning: No metrics called validation:poisson-nloglik found\n",
      "WARNING:sagemaker.analytics:Warning: No metrics called validation:precision found\n",
      "WARNING:sagemaker.analytics:Warning: No metrics called train:error found\n",
      "WARNING:sagemaker.analytics:Warning: No metrics called train:ndcg found\n",
      "WARNING:sagemaker.analytics:Warning: No metrics called validation:map found\n",
      "WARNING:sagemaker.analytics:Warning: No metrics called train:f1_binary found\n",
      "WARNING:sagemaker.analytics:Warning: No metrics called validation:error found\n",
      "WARNING:sagemaker.analytics:Warning: No metrics called train:poisson-nloglik found\n",
      "WARNING:sagemaker.analytics:Warning: No metrics called train:rmse found\n",
      "WARNING:sagemaker.analytics:Warning: No metrics called train:logloss found\n",
      "WARNING:sagemaker.analytics:Warning: No metrics called validation:accuracy found\n",
      "WARNING:sagemaker.analytics:Warning: No metrics called train:aucpr found\n",
      "WARNING:sagemaker.analytics:Warning: No metrics called validation:balanced_accuracy found\n",
      "WARNING:sagemaker.analytics:Warning: No metrics called validation:rmse found\n",
      "WARNING:sagemaker.analytics:Warning: No metrics called validation:mse found\n",
      "WARNING:sagemaker.analytics:Warning: No metrics called validation:ndcg found\n",
      "WARNING:sagemaker.analytics:Warning: No metrics called train:f1 found\n",
      "WARNING:sagemaker.analytics:Warning: No metrics called train:map found\n",
      "2024/10/15 00:26:12 INFO mlflow.tracking._tracking_service.client: 🏃 View run max_depth=10 at: https://us-east-1.experiments.sagemaker.aws/#/experiments/9/runs/87b51217e733464aad3b09bedf45995d.\n",
      "2024/10/15 00:26:12 INFO mlflow.tracking._tracking_service.client: 🧪 View experiment at: https://us-east-1.experiments.sagemaker.aws/#/experiments/9.\n"
     ]
    },
    {
     "name": "stdout",
     "output_type": "stream",
     "text": [
      "Ajustar estimador com max_depth=20\n"
     ]
    },
    {
     "name": "stderr",
     "output_type": "stream",
     "text": [
      "INFO:sagemaker:Creating training-job with name: from-idea-to-prod-training-2024-10-15-00-26-12-393\n"
     ]
    },
    {
     "name": "stdout",
     "output_type": "stream",
     "text": [
      "\n",
      "2024-10-15 00:26:15 Starting - Starting the training job..\n",
      "2024-10-15 00:26:29 Starting - Preparing the instances for training....\n",
      "2024-10-15 00:26:56 Downloading - Downloading input data.....\n",
      "2024-10-15 00:27:26 Downloading - Downloading the training image.........\n",
      "2024-10-15 00:28:17 Training - Training image download completed. Training in progress..\n",
      "2024-10-15 00:28:27 Uploading - Uploading generated training model..\n",
      "2024-10-15 00:28:41 Completed - Instances not retained as a result of warmpool resource limits being exceeded"
     ]
    },
    {
     "name": "stderr",
     "output_type": "stream",
     "text": [
      "WARNING:sagemaker.analytics:Warning: No metrics called train:mae found\n",
      "WARNING:sagemaker.analytics:Warning: No metrics called validation:aucpr found\n",
      "WARNING:sagemaker.analytics:Warning: No metrics called validation:f1_binary found\n",
      "WARNING:sagemaker.analytics:Warning: No metrics called validation:mae found\n",
      "WARNING:sagemaker.analytics:Warning: No metrics called validation:logloss found\n",
      "WARNING:sagemaker.analytics:Warning: No metrics called validation:f1 found\n",
      "WARNING:sagemaker.analytics:Warning: No metrics called train:accuracy found\n",
      "WARNING:sagemaker.analytics:Warning: No metrics called train:mse found\n"
     ]
    },
    {
     "name": "stdout",
     "output_type": "stream",
     "text": [
      "\n"
     ]
    },
    {
     "name": "stderr",
     "output_type": "stream",
     "text": [
      "WARNING:sagemaker.analytics:Warning: No metrics called validation:recall found\n",
      "WARNING:sagemaker.analytics:Warning: No metrics called validation:poisson-nloglik found\n",
      "WARNING:sagemaker.analytics:Warning: No metrics called validation:precision found\n",
      "WARNING:sagemaker.analytics:Warning: No metrics called train:error found\n",
      "WARNING:sagemaker.analytics:Warning: No metrics called train:ndcg found\n",
      "WARNING:sagemaker.analytics:Warning: No metrics called validation:map found\n",
      "WARNING:sagemaker.analytics:Warning: No metrics called train:f1_binary found\n",
      "WARNING:sagemaker.analytics:Warning: No metrics called validation:error found\n",
      "WARNING:sagemaker.analytics:Warning: No metrics called train:poisson-nloglik found\n",
      "WARNING:sagemaker.analytics:Warning: No metrics called train:rmse found\n",
      "WARNING:sagemaker.analytics:Warning: No metrics called train:logloss found\n",
      "WARNING:sagemaker.analytics:Warning: No metrics called validation:accuracy found\n",
      "WARNING:sagemaker.analytics:Warning: No metrics called train:aucpr found\n",
      "WARNING:sagemaker.analytics:Warning: No metrics called validation:balanced_accuracy found\n",
      "WARNING:sagemaker.analytics:Warning: No metrics called validation:rmse found\n",
      "WARNING:sagemaker.analytics:Warning: No metrics called validation:mse found\n",
      "WARNING:sagemaker.analytics:Warning: No metrics called validation:ndcg found\n",
      "WARNING:sagemaker.analytics:Warning: No metrics called train:f1 found\n",
      "WARNING:sagemaker.analytics:Warning: No metrics called train:map found\n",
      "2024/10/15 00:28:46 INFO mlflow.tracking._tracking_service.client: 🏃 View run max_depth=20 at: https://us-east-1.experiments.sagemaker.aws/#/experiments/9/runs/36f76e5353fa4f1996ed3e3e1c9c9827.\n",
      "2024/10/15 00:28:46 INFO mlflow.tracking._tracking_service.client: 🧪 View experiment at: https://us-east-1.experiments.sagemaker.aws/#/experiments/9.\n",
      "2024/10/15 00:28:46 INFO mlflow.tracking._tracking_service.client: 🏃 View run container-warm-pools-15-00-16-26 at: https://us-east-1.experiments.sagemaker.aws/#/experiments/9/runs/f0af67d08098475e9d741028aa786bef.\n",
      "2024/10/15 00:28:46 INFO mlflow.tracking._tracking_service.client: 🧪 View experiment at: https://us-east-1.experiments.sagemaker.aws/#/experiments/9.\n"
     ]
    }
   ],
   "source": [
    "# Iniciar um novo experimento para registrar os tempos de execução para cada ajuste do estimador\n",
    "suffix = strftime('%d-%H-%M-%S', gmtime())\n",
    "mlflow.set_experiment(experiment_name=f\"from-idea-to-prod-warm-pools-{suffix}\")\n",
    "\n",
    "with mlflow.start_run(\n",
    "    run_name=f\"container-warm-pools-{suffix}\",\n",
    "    description=\"experimento de pools aquecidos no notebook 02\") as parent_run:\n",
    "    # executar o job de treinamento cinco vezes\n",
    "    for i, d in enumerate([2, 3, 5, 10, 20]):\n",
    "        print(f\"Ajustar estimador com max_depth={d}\")\n",
    "    \n",
    "        warm_pool_estimator.set_hyperparameters(\n",
    "            num_round=50, # o número de rodadas para executar o treinamento\n",
    "            max_depth=d, # profundidade máxima de uma árvore\n",
    "            objective=\"binary:logistic\",\n",
    "            eval_metric=\"auc\", # métricas de avaliação para dados de validação\n",
    "            early_stopping_rounds=10, # o modelo treina até que a pontuação de validação pare de melhorar\n",
    "        )\n",
    "\n",
    "        with mlflow.start_run(\n",
    "            run_name=f\"max_depth={d}\",\n",
    "            description=f\"Ajustar estimador com max_depth={d}\",\n",
    "            nested=True) as child_run:\n",
    "            mlflow.log_params(warm_pool_estimator.hyperparameters())\n",
    "            \n",
    "            warm_pool_estimator.fit(\n",
    "                training_inputs,\n",
    "                wait=True,\n",
    "                logs=False,\n",
    "            )\n",
    "            \n",
    "            mlflow.log_metrics({i['metric_name'].replace(':', '_'):i['value'] for i in warm_pool_estimator.training_job_analytics.dataframe().iloc})"
   ]
  },
  {
   "cell_type": "markdown",
   "id": "a248adc4-3d60-4d5c-9b25-923b51473de0",
   "metadata": {},
   "source": [
    "Você pode validar que um pool aquecido foi usado para este job de treinamento indo para o [console de jobs de treinamento do SageMaker](https://console.aws.amazon.com/sagemaker/home?#/jobs) e inspecionando a lista de jobs de treinamento:\n",
    "\n",
    "![](img/warm-pools-training-jobs.png)\n",
    "\n",
    "O primeiro job de treinamento deve levar cerca de vários minutos, mas todos os jobs subsequentes reutilizam a mesma instância de computação e são concluídos em vários segundos. Você também pode ver o status do pool aquecido e o tempo restante.\n",
    "\n",
    "Você também pode abrir uma lista de experimentos do MLflow e selecionar um experimento `from-idea-to-prod-warm-pools-<timestamp>`. A duração da execução registrada mostra que o primeiro treinamento levou cerca de 2 minutos e todas as execuções subsequentes menos de 40 segundos:\n",
    "\n",
    "![](img/warm-pools-mlflow.png)"
   ]
  },
  {
   "cell_type": "markdown",
   "id": "1aa43bd9-7cab-48da-b128-635b90c49971",
   "metadata": {},
   "source": [
    "## Implantar e testar o modelo\n",
    "Todos os jobs de treinamento salvaram um pacote de modelo no local especificado no Amazon S3.\n",
    "\n",
    "Você pode implantar o modelo como um [real-time endpoint](https://docs.aws.amazon.com/sagemaker/latest/dg/realtime-endpoints.html), que é apenas uma [function call](https://sagemaker.readthedocs.io/en/stable/api/training/estimators.html#sagemaker.estimator.Estimator.deploy), ou criar uma [batch transform](https://docs.aws.amazon.com/sagemaker/latest/dg/batch-transform.html) para prever um rótulo para um grande conjunto de dados. Você também pode implantar o modelo em um endpoint a partir do registro de modelos do MLflow usando a classe [ModelBuilder](https://docs.aws.amazon.com/sagemaker/latest/dg/how-it-works-modelbuilder-creation.html)."
   ]
  },
  {
   "cell_type": "markdown",
   "id": "4358692a-a75a-4d57-9236-5932fc45edc4",
   "metadata": {},
   "source": [
    "### Obter os dados de teste\n",
    "Baixe o conjunto de dados de teste preparado do S3 para o notebook:"
   ]
  },
  {
   "cell_type": "code",
   "execution_count": 111,
   "id": "4aee60dd-7238-48cb-8ae7-9765f517c889",
   "metadata": {},
   "outputs": [
    {
     "name": "stdout",
     "output_type": "stream",
     "text": [
      "download: s3://sagemaker-us-east-1-533267005474/from-idea-to-prod/xgboost/test/test_x.csv to tmp/test_x.csv\n",
      "download: s3://sagemaker-us-east-1-533267005474/from-idea-to-prod/xgboost/test/test_y.csv to tmp/test_y.csv\n"
     ]
    }
   ],
   "source": [
    "!aws s3 cp $test_s3_url/test_x.csv tmp/test_x.csv\n",
    "!aws s3 cp $test_s3_url/test_y.csv tmp/test_y.csv"
   ]
  },
  {
   "cell_type": "markdown",
   "id": "b9b27d32-470e-4eed-9eba-3681938f46cb",
   "metadata": {},
   "source": [
    "### Inferência local no notebook\n",
    "Primeiro, execute a inferência localmente usando um modelo registrado do registro de modelos do MLflow."
   ]
  },
  {
   "cell_type": "code",
   "execution_count": 112,
   "id": "d77a474b",
   "metadata": {},
   "outputs": [
    {
     "data": {
      "application/vnd.jupyter.widget-view+json": {
       "model_id": "eec350530fbb445884b2314e180408a5",
       "version_major": 2,
       "version_minor": 0
      },
      "text/plain": [
       "Downloading artifacts:   0%|          | 0/9 [00:00<?, ?it/s]"
      ]
     },
     "metadata": {},
     "output_type": "display_data"
    }
   ],
   "source": [
    "# obter o modelo do registro de modelos do MLflow\n",
    "model_uri = registered_model_version.source\n",
    "model = mlflow.xgboost.load_model(model_uri)"
   ]
  },
  {
   "cell_type": "code",
   "execution_count": 113,
   "id": "68264981",
   "metadata": {},
   "outputs": [
    {
     "data": {
      "text/plain": [
       "array([0.05130996, 0.08552201, 0.1908226 , ..., 0.03958577, 0.02797481,\n",
       "       0.03786173])"
      ]
     },
     "execution_count": 113,
     "metadata": {},
     "output_type": "execute_result"
    }
   ],
   "source": [
    "import xgboost as xgb\n",
    "from numpy import loadtxt\n",
    "\n",
    "test_x = loadtxt(\"tmp/test_x.csv\", delimiter=\",\")\n",
    "test_y = loadtxt(\"tmp/test_y.csv\", delimiter=\",\")\n",
    "\n",
    "dtest = xgb.DMatrix(test_x)\n",
    "\n",
    "predictions = np.array(model.predict(dtest), dtype=float).squeeze()\n",
    "predictions"
   ]
  },
  {
   "cell_type": "code",
   "execution_count": 114,
   "id": "c4a7b26c",
   "metadata": {},
   "outputs": [
    {
     "data": {
      "text/html": [
       "<div>\n",
       "<style scoped>\n",
       "    .dataframe tbody tr th:only-of-type {\n",
       "        vertical-align: middle;\n",
       "    }\n",
       "\n",
       "    .dataframe tbody tr th {\n",
       "        vertical-align: top;\n",
       "    }\n",
       "\n",
       "    .dataframe thead th {\n",
       "        text-align: right;\n",
       "    }\n",
       "</style>\n",
       "<table border=\"1\" class=\"dataframe\">\n",
       "  <thead>\n",
       "    <tr style=\"text-align: right;\">\n",
       "      <th>predictions</th>\n",
       "      <th>0.0</th>\n",
       "      <th>1.0</th>\n",
       "    </tr>\n",
       "    <tr>\n",
       "      <th>actuals</th>\n",
       "      <th></th>\n",
       "      <th></th>\n",
       "    </tr>\n",
       "  </thead>\n",
       "  <tbody>\n",
       "    <tr>\n",
       "      <th>0.0</th>\n",
       "      <td>3581</td>\n",
       "      <td>55</td>\n",
       "    </tr>\n",
       "    <tr>\n",
       "      <th>1.0</th>\n",
       "      <td>384</td>\n",
       "      <td>99</td>\n",
       "    </tr>\n",
       "  </tbody>\n",
       "</table>\n",
       "</div>"
      ],
      "text/plain": [
       "predictions   0.0  1.0\n",
       "actuals               \n",
       "0.0          3581   55\n",
       "1.0           384   99"
      ]
     },
     "execution_count": 114,
     "metadata": {},
     "output_type": "execute_result"
    }
   ],
   "source": [
    "pd.crosstab(\n",
    "    index=test_y,\n",
    "    columns=np.round(predictions), \n",
    "    rownames=['actuals'], \n",
    "    colnames=['predictions']\n",
    ")"
   ]
  },
  {
   "cell_type": "markdown",
   "id": "d2b02426-0b29-4b42-a182-7e62ba951767",
   "metadata": {},
   "source": [
    "### Inferência em tempo real com um endpoint do SageMaker\n",
    "Para testar a inferência em tempo real, você cria um [endpoint do SageMaker](https://docs.aws.amazon.com/sagemaker/latest/dg/realtime-endpoints.html) usando o modelo MLflow e a classe [ModelBuilder](https://docs.aws.amazon.com/sagemaker/latest/dg/how-it-works-modelbuilder-creation.html) do SDK Python."
   ]
  },
  {
   "cell_type": "markdown",
   "id": "483bdcfd-4e6a-420d-921e-61cad7048573",
   "metadata": {},
   "source": [
    "#### Construir o modelo implantável\n",
    "\n"
   ]
  },
  {
   "cell_type": "code",
   "execution_count": 115,
   "id": "a32e4dd0-15ee-41de-bbca-a906206cde8f",
   "metadata": {},
   "outputs": [],
   "source": [
    "from sagemaker.serve import (\n",
    "    CustomPayloadTranslator,\n",
    "    InferenceSpec,\n",
    "    ModelBuilder,\n",
    "    SchemaBuilder,\n",
    "    Mode\n",
    ")\n",
    "from pathlib import Path"
   ]
  },
  {
   "cell_type": "code",
   "execution_count": 116,
   "id": "a87d6bc7",
   "metadata": {},
   "outputs": [
    {
     "data": {
      "application/vnd.jupyter.widget-view+json": {
       "model_id": "9da332e3e64741e8bf16049b5f7e1f73",
       "version_major": 2,
       "version_minor": 0
      },
      "text/plain": [
       "Downloading artifacts:   0%|          | 0/9 [00:00<?, ?it/s]"
      ]
     },
     "metadata": {},
     "output_type": "display_data"
    },
    {
     "name": "stderr",
     "output_type": "stream",
     "text": [
      "INFO:sagemaker.image_uris:Ignoring unnecessary instance type: None.\n",
      "ModelBuilder: INFO:     Either inference spec or model is provided. ModelBuilder is not handling MLflow model input\n",
      "ModelBuilder: INFO:     Skipping auto detection as the image uri is provided 683313688378.dkr.ecr.us-east-1.amazonaws.com/sagemaker-xgboost:1.7-1\n",
      "ModelBuilder: DEBUG:     Packaging provided requirements.txt from artifact-dir/model/requirements.txt\n",
      "ModelBuilder: DEBUG:     Uploading the model resources to bucket=sagemaker-us-east-1-533267005474, key_prefix=sagemaker-xgboost-2024-10-15-00-30-13-633.\n",
      "Uploading model artifacts: 100%|██████████████████| 2185897/2185897 [00:00<00:00, 3827876.96bytes/s]\n",
      "ModelBuilder: DEBUG:     Model resources uploaded to: s3://sagemaker-us-east-1-533267005474/sagemaker-xgboost-2024-10-15-00-30-13-633/serve.tar.gz\n"
     ]
    }
   ],
   "source": [
    "# baixar o artefato do modelo para o notebook\n",
    "artifact_path = Path(\"artifact-dir\")\n",
    "artifact_path.mkdir(exist_ok=True)\n",
    "artifact_dir = artifact_path.as_posix()\n",
    "mlflow.tracking.artifact_utils._download_artifact_from_uri(\n",
    "    registered_model_version.source,\n",
    "    output_path=artifact_dir,\n",
    ")\n",
    "\n",
    "# criar uma classe de especificação de inferência personalizada\n",
    "class MyXGBoostModel(InferenceSpec):\n",
    "    def invoke(self, input_object: object, model: object):\n",
    "        import xgboost as xgb\n",
    "        input_converted = xgb.DMatrix(input_object)\n",
    "        output = model.predict(input_converted)\n",
    "        return output\n",
    "\n",
    "    def load(self, model_dir: str):\n",
    "        model = mlflow.xgboost.load_model(model_dir)\n",
    "        return model\n",
    "\n",
    "# criar um construtor de modelo\n",
    "model_builder = ModelBuilder(\n",
    "    mode=Mode.SAGEMAKER_ENDPOINT,\n",
    "    model_path=\"./artifact-dir/model\",\n",
    "    inference_spec=MyXGBoostModel(),\n",
    "    schema_builder=SchemaBuilder(sample_input=test_x, sample_output=test_y),  \n",
    "    role_arn=sm_role,\n",
    "    image_uri=sagemaker.image_uris.retrieve(\"xgboost\", region, version=\"1.7-1\"),\n",
    "    dependencies={\n",
    "        \"requirements\": \"./artifact-dir/model/requirements.txt\"\n",
    "    },\n",
    ")\n",
    "\n",
    "# criar um modelo implantável\n",
    "deployable_model = model_builder.build()"
   ]
  },
  {
   "cell_type": "markdown",
   "id": "17c01d22-f9e2-451b-85cd-1bfa33ed5003",
   "metadata": {},
   "source": [
    "#### Deploy"
   ]
  },
  {
   "cell_type": "code",
   "execution_count": 117,
   "id": "5f6588fb",
   "metadata": {},
   "outputs": [
    {
     "name": "stderr",
     "output_type": "stream",
     "text": [
      "ModelBuilder: INFO:     ModelBuilder will collect telemetry to help us better understand our user's needs, diagnose issues, and deliver additional features. To opt out of telemetry, please disable via TelemetryOptOut in intelligent defaults. See https://sagemaker.readthedocs.io/en/stable/overview.html#configuring-and-using-defaults-with-the-sagemaker-python-sdk for more info.\n",
      "INFO:sagemaker:Creating model with name: model-name-a34cc6dc8a8c11efba071e1df5fa4db2\n",
      "INFO:sagemaker:Creating endpoint-config with name from-idea-to-prod-endpoint-15-00-30-33\n",
      "INFO:sagemaker:Creating endpoint with name from-idea-to-prod-endpoint-15-00-30-33\n",
      "ModelBuilder: DEBUG:     ModelBuilder metrics emitted.\n"
     ]
    }
   ],
   "source": [
    "# Implantar o modelo como um endpoint em tempo real\n",
    "endpoint_name = f\"from-idea-to-prod-endpoint-{strftime('%d-%H-%M-%S', gmtime())}\"\n",
    "\n",
    "predictor = deployable_model.deploy(\n",
    "    initial_instance_count=1, \n",
    "    instance_type=\"ml.m5.large\",\n",
    "    endpoint_name=endpoint_name,\n",
    "    wait=False,\n",
    ")"
   ]
  },
  {
   "cell_type": "markdown",
   "id": "b97c0686-b9a5-4f21-9cb9-453b73dc14f6",
   "metadata": {},
   "source": [
    "<svg width=\"800\" height=\"125\" viewBox=\"0 0 800 125\" xmlns=\"http://www.w3.org/2000/svg\">\n",
    "    <defs>\n",
    "        <linearGradient id=\"fadeGradient\" x1=\"0\" x2=\"1\">\n",
    "            <stop offset=\"0%\" stop-color=\"#F0F0F0\"/>\n",
    "            <stop offset=\"100%\" stop-color=\"#F0F0F0\" stop-opacity=\"0\"/>\n",
    "        </linearGradient>\n",
    "        <mask id=\"fadeMask\">\n",
    "            <rect x=\"0\" y=\"0\" width=\"750\" height=\"125\" fill=\"white\"/>\n",
    "            <rect x=\"750\" y=\"0\" width=\"50\" height=\"125\" fill=\"url(#fadeGradient)\"/>\n",
    "        </mask>\n",
    "    </defs>\n",
    "    <path d=\"M3,50 A50,50 0 0 1 53,3 L797,3 L797,97 L97,97 L50,115 L3,97 Z\" fill=\"#F0F0F0\" stroke=\"#E0E0E0\" stroke-width=\"1\" mask=\"url(#fadeMask)\"/>\n",
    "    <circle cx=\"50\" cy=\"50\" r=\"30\" fill=\"#57c4f8\" stroke=\"#57c4f8\" stroke-width=\"1\"/>\n",
    "    <circle cx=\"50\" cy=\"50\" r=\"25\" fill=\"#F0F0F0\"/>\n",
    "    <line x1=\"50\" y1=\"50\" x2=\"50\" y2=\"30\" stroke=\"#57c4f8\" stroke-width=\"3\" stroke-linecap=\"round\"/>\n",
    "    <line x1=\"50\" y1=\"50\" x2=\"65\" y2=\"50\" stroke=\"#57c4f8\" stroke-width=\"3\" stroke-linecap=\"round\"/>\n",
    "    <text x=\"100\" y=\"34\" font-family=\"Arial, sans-serif\" font-size=\"14\" fill=\"#333333\">A próxima célula pode levar alguns minutos para ser executada. Por favor, seja paciente.</text>\n",
    "</svg>"
   ]
  },
  {
   "cell_type": "code",
   "execution_count": null,
   "id": "0f7d9781-6ce5-4b17-9cbf-d67df104e84d",
   "metadata": {},
   "outputs": [],
   "source": [
    "# Aguardar até que o endpoint tenha o status InService\n",
    "waiter = session.sagemaker_client.get_waiter('endpoint_in_service')\n",
    "waiter.wait(EndpointName=endpoint_name)"
   ]
  },
  {
   "cell_type": "markdown",
   "id": "95420ff1-d8cb-41b5-87bf-e011ca1c5f49",
   "metadata": {},
   "source": [
    "<img src=\"data:image/svg+xml;base64,Cjxzdmcgd2lkdGg9IjgwMCIgaGVpZ2h0PSI1MCIgdmlld0JveD0iMCAwIDgwMCA1MCIgeG1sbnM9Imh0dHA6Ly93d3cudzMub3JnLzIwMDAvc3ZnIj4KICAgIDxkZWZzPgogICAgICAgIDxsaW5lYXJHcmFkaWVudCBpZD0iZmFkZUdyYWRpZW50IiB4MT0iMCIgeDI9IjEiPgogICAgICAgICAgICA8c3RvcCBvZmZzZXQ9IjAlIiBzdG9wLWNvbG9yPSIjRjBGMEYwIi8+CiAgICAgICAgICAgIDxzdG9wIG9mZnNldD0iMTAwJSIgc3RvcC1jb2xvcj0iI0YwRjBGMCIgc3RvcC1vcGFjaXR5PSIwIi8+CiAgICAgICAgPC9saW5lYXJHcmFkaWVudD4KICAgICAgICA8bWFzayBpZD0iZmFkZU1hc2siPgogICAgICAgICAgICA8cmVjdCB4PSIwIiB5PSIwIiB3aWR0aD0iNzUwIiBoZWlnaHQ9IjUwIiBmaWxsPSJ3aGl0ZSIvPgogICAgICAgICAgICA8cmVjdCB4PSI3NTAiIHk9IjAiIHdpZHRoPSI1MCIgaGVpZ2h0PSI1MCIgZmlsbD0idXJsKCNmYWRlR3JhZGllbnQpIi8+CiAgICAgICAgPC9tYXNrPgogICAgPC9kZWZzPgogICAgPHBhdGggZD0iTTI1LDUwIFEwLDUwIDAsMjUgTDUwLDMgTDk3LDI1IEw3OTcsMjUgTDc5Nyw1MCBMMjUsNTAgWiIgZmlsbD0iI0YwRjBGMCIgc3Ryb2tlPSIjRTBFMEUwIiBzdHJva2Utd2lkdGg9IjEiIG1hc2s9InVybCgjZmFkZU1hc2spIi8+Cjwvc3ZnPgo=\" alt=\"Time alert close\"/>"
   ]
  },
  {
   "cell_type": "markdown",
   "id": "9faf03e3-8324-4843-9168-8f582557bf9b",
   "metadata": {},
   "source": [
    "Você pode ver o endpoint implantado no console do SageMaker – clique no link construído pela célula abaixo:"
   ]
  },
  {
   "cell_type": "code",
   "execution_count": 119,
   "id": "2c7bf4ac",
   "metadata": {},
   "outputs": [
    {
     "data": {
      "text/html": [
       "<b>Veja o <a target=\"top\" href=\"https://us-east-1.console.aws.amazon.com/sagemaker/home?region=us-east-1#/endpoints/from-idea-to-prod-endpoint-15-00-30-33\">endpoint de inferência</a> do SageMaker</b>"
      ],
      "text/plain": [
       "<IPython.core.display.HTML object>"
      ]
     },
     "metadata": {},
     "output_type": "display_data"
    }
   ],
   "source": [
    "# Mostre o link do endpoint de inferência\n",
    "display(\n",
    "    HTML('<b>Veja o <a target=\"top\" href=\"https://{}.console.aws.amazon.com/sagemaker/home?region={}#/endpoints/{}\">endpoint de inferência</a> do SageMaker</b>'.format(\n",
    "            region, region, endpoint_name))\n",
    ")\n"
   ]
  },
  {
   "cell_type": "markdown",
   "id": "3bad12e8-264b-4558-aa50-8280a6d828e8",
   "metadata": {},
   "source": [
    "#### Predict"
   ]
  },
  {
   "cell_type": "code",
   "execution_count": null,
   "id": "ad5d9c7b-d608-4a07-82d2-7ae962d8395a",
   "metadata": {},
   "outputs": [],
   "source": [
    "predictions = predictor.predict(test_x)"
   ]
  },
  {
   "cell_type": "code",
   "execution_count": null,
   "id": "81abdb17",
   "metadata": {},
   "outputs": [],
   "source": [
    "predictions"
   ]
  },
  {
   "cell_type": "code",
   "execution_count": null,
   "id": "3eae1d57",
   "metadata": {},
   "outputs": [],
   "source": [
    "pd.crosstab(\n",
    "    index=test_y,\n",
    "    columns=np.round(predictions), \n",
    "    rownames=['actuals'], \n",
    "    colnames=['predictions']\n",
    ")"
   ]
  },
  {
   "cell_type": "code",
   "execution_count": null,
   "id": "81987634",
   "metadata": {},
   "outputs": [],
   "source": [
    "test_auc = roc_auc_score(test_y, predictions)\n",
    "print(f\"Test-auc: {test_auc:.4f}\")"
   ]
  },
  {
   "cell_type": "markdown",
   "id": "cfd3f1ac-aab7-4f23-a02e-0c9b2e3bcbfb",
   "metadata": {},
   "source": [
    "#### Salvar gráficos na execução do MLflow\n",
    "Você pode usar o método de registro [`mlflow.log_figure()`](https://mlflow.org/docs/latest/python_api/mlflow.html#mlflow.log_figure) para salvar figuras do [matplotlib](https://matplotlib.org/3.3.4/api/_as_gen/matplotlib.figure.Figure.html) ou do [plotly](https://plotly.com/python-api-reference/generated/plotly.graph_objects.Figure.html) em uma execução."
   ]
  },
  {
   "cell_type": "code",
   "execution_count": 122,
   "id": "098d3f32-ef0f-41da-a432-0b6e7cc1d359",
   "metadata": {},
   "outputs": [],
   "source": [
    "from sklearn import metrics\n",
    "from sklearn.metrics import RocCurveDisplay\n",
    "import matplotlib.pyplot as plt\n",
    "\n",
    "def plot_confusion_matrix(\n",
    "    cm, class_names, title=\"Matriz de confusão\", cmap=plt.cm.Blues, normalize=False\n",
    "):\n",
    "    if normalize:\n",
    "        cm = cm.astype(\"float\") / cm.sum(axis=1)[:, np.newaxis]\n",
    "\n",
    "    fig, ax = plt.subplots()\n",
    "    im = ax.imshow(cm, interpolation=\"nearest\", cmap=cmap)\n",
    "    ax.figure.colorbar(im, ax=ax)\n",
    "    ax.set(\n",
    "        xticks=np.arange(cm.shape[1]),\n",
    "        yticks=np.arange(cm.shape[0]),\n",
    "        ylim=(cm.shape[0] - 0.5, -0.5),\n",
    "        xticklabels=class_names,\n",
    "        yticklabels=class_names,\n",
    "        title=title,\n",
    "        ylabel=\"Rótulo real\",\n",
    "        xlabel=\"Rótulo previsto\",\n",
    "    )\n",
    "\n",
    "    # Rotacionar as labels  dos ticks e definir seu alinhamento.\n",
    "    plt.setp(ax.get_xticklabels(), rotation=30, ha=\"right\", rotation_mode=\"anchor\")\n",
    "\n",
    "    # Percorrer as dimensões dos dados e criar anotações de texto.\n",
    "    fmt = \".2f\"\n",
    "    thresh = cm.max() / 2.0\n",
    "    for i in range(cm.shape[0]):\n",
    "        for j in range(cm.shape[1]):\n",
    "            ax.text(\n",
    "                j,\n",
    "                i,\n",
    "                format(cm[i, j], fmt),\n",
    "                ha=\"center\",\n",
    "                va=\"center\",\n",
    "                color=\"white\" if cm[i, j] > thresh else \"black\",\n",
    "            )\n",
    "    fig.tight_layout()\n",
    "    return ax, fig"
   ]
  },
  {
   "cell_type": "code",
   "execution_count": 123,
   "id": "914f414a-6494-4642-a35c-c4c80f05e764",
   "metadata": {},
   "outputs": [
    {
     "data": {
      "image/png": "[encoded data removed]",
      "text/plain": [
       "<Figure size 640x480 with 2 Axes>"
      ]
     },
     "metadata": {},
     "output_type": "display_data"
    }
   ],
   "source": [
    "class_names = [\"no\", \"yes\"]\n",
    "confusion_matrix = metrics.confusion_matrix(test_y, np.round(predictions))\n",
    "ax, fig = plot_confusion_matrix(confusion_matrix, class_names)"
   ]
  },
  {
   "cell_type": "code",
   "execution_count": 125,
   "id": "0e8a812b",
   "metadata": {},
   "outputs": [
    {
     "name": "stdout",
     "output_type": "stream",
     "text": [
      "Registrar a matriz de confusão no modelo from-idea-to-prod-job-model-14-22-55-42 versão 1\n"
     ]
    },
    {
     "name": "stderr",
     "output_type": "stream",
     "text": [
      "2024/10/15 01:00:56 INFO mlflow.tracking._tracking_service.client: 🏃 View run container-training-15-00-07-23 at: https://us-east-1.experiments.sagemaker.aws/#/experiments/7/runs/d9d67d93ba6b44129e834809dc152030.\n",
      "2024/10/15 01:00:56 INFO mlflow.tracking._tracking_service.client: 🧪 View experiment at: https://us-east-1.experiments.sagemaker.aws/#/experiments/7.\n"
     ]
    }
   ],
   "source": [
    "print(f\"Registrar a matriz de confusão no modelo {registered_model_version.name} versão {registered_model_version.version}\")\n",
    "mlflow.set_experiment(experiment_name)\n",
    "with mlflow.start_run(run_id=registered_model_version.run_id):\n",
    "    mlflow.log_figure(fig, \"matriz_de_confusao.png\")\n"
   ]
  },
  {
   "cell_type": "code",
   "execution_count": 126,
   "id": "9a19f3d4-70f7-4e39-869e-bb0e11e205eb",
   "metadata": {},
   "outputs": [],
   "source": [
    "# obter a URL pré-assinada para abrir a interface do MLflow\n",
    "presigned_url = sm.create_presigned_mlflow_tracking_server_url(\n",
    "    TrackingServerName=mlflow_name,\n",
    "    ExpiresInSeconds=60,\n",
    "    SessionExpirationDurationInSeconds=1800\n",
    ")['AuthorizedUrl']\n",
    "\n",
    "mlflow_run_link = f\"{presigned_url.split('/auth')[0]}/#/experiments/1/runs/{registered_model_version.run_id}/artifacts\""
   ]
  },
  {
   "cell_type": "code",
   "execution_count": 127,
   "id": "202b1bea-2a65-46bb-a601-9fa815e08175",
   "metadata": {},
   "outputs": [
    {
     "data": {
      "application/javascript": "window.open(\"https://t-3edkielatlse.us-east-1.experiments.sagemaker.aws/auth?authToken=eyJhbGciOiJIUzI1NiJ9.eyJhdXRoVG9rZW5JZCI6IjQxNmNiZWI2LTc0NGEtNDY4OC1iYzI0LTJhZjUxM2IzODAyYiIsImZhc0NyZWRlbnRpYWxzIjoiQWdWNFcwRHZkdjJpVVZmRXh1M3U3aHZoVmFySWdKRGVvTXVkM2JqSTdIUVB2YlFBWHdBQkFCVmhkM010WTNKNWNIUnZMWEIxWW14cFl5MXJaWGtBUkVGNlNEbFdWRmRTTW5WVFVHWkxNMWQ1TUhBeFFWVm5XVFIzVDNNdmFqQlRRVEIxUldaa01VUTNTV3hYUzBZeU56UnVNVlJwWm1seVNVOVJPUzlPWlVKc1VUMDlBQUVBQjJGM2N5MXJiWE1BUzJGeWJqcGhkM002YTIxek9uVnpMV1ZoYzNRdE1UbzROVEUzTWpVME56TTFNelU2YTJWNUwyRTVZMkZrWVRjNUxXTTVaRFl0TkRGbU5TMDRNakl5TFRsak1qYzNaVGMyWkdRMllRQzRBUUlCQUhnaVlibDFFZzUwbUordEE5TzVldXgramlSdENidVNrMXhNZWVnN3M0cnBTd0dCYjF1U3I1djRpMG04MTViWU9TVmRBQUFBZmpCOEJna3Foa2lHOXcwQkJ3YWdiekJ0QWdFQU1HZ0dDU3FHU0liM0RRRUhBVEFlQmdsZ2hrZ0JaUU1FQVM0d0VRUU1kQzQ0SUxyM0o1YVgyaUlYQWdFUWdEdDFnUGdhTWdCWjg1cW1oQ2lUWUZQd1AvaFl3NlFCaSsrVlI2LzlkeGo1UG5CNkM5NGtobjM5YytMei9pM2dyMUtIVzJ3YkgyMEhrRnFYZlFJQUFCQUFXWE95M0dkbXRqL1NxSVJocmdBQ0RnOEdPdjU1eFlEUWVFQ0N0WFB3YVVlcXRwdm4vbFgwdEkrd0MvMDkzY01jLy8vLy93QUFBQUVBQUFBQUFBQUFBQUFBQUFFQUFBUkRPU3l5R0tRNUxUT0Y2a3lBTWZMNjJReWl3S1J0V1RrYkNFdU04b0g2RjRSUnBnT0N1anNublV4Uzl6Wmpuc2UzYllYV05FZWlRdEpRMFZmVGp1bDlmR2JiTU1SQWxRRGVpTThsOWdZMCs2TURuZW03RXNWZ2NpSUNJcEZDUTBmc29QdDNQcjlGWjhnQ29DVWlLUDljeDBlNGZWRjhBNXdrSHJhZVY4L2dpczhXN0lZZjFRT29adEpRdjhKZHZpNVYxK1JkSU9aM0Z3MzJNMWlrL0Z3UjVZaTdtTHlxT3pEbys1eHR6WW9qRW04bU1DU2FlbG8yWDg4S2ZuR1RQVDd3YmhQL1lDdGhmMmFVci9kdVgwS3FyS21DTzZWeWNMdFQ1aUtVVlp1aU9iUVcxWUd1c2MvcFFWMkFQM1V0MDdwMmo3WUtiMzNkeXJiR2NBejcxQ09NN290NHdOVlROakRjZzZRc254VnhveXZjQmRkN0ZMVFFoWHJaOW8rMHJFVnVDTU1wMWhLN1ZKeThKVldVUDBIS2s5N2VvcUxKWThMVTZ4SFEzNGQ2ZjVWTXhzLytIZUhOUDlZNTdvdGw1NFNHVmlzYzVzMHhhanlEOVd4ZXBrNVBNMnNSa2svU3JVUWYwb3BVN1JKMDBuZWJzUmxZc01MdW5iZG56Z3o1dEd1dVpFYlhlWUdGRmhmUVRBZU5MWXU2K0IyeFo4ZXErN2J6RkwrMW9IVzFyRlNJdXhGbSs0L20xeXJvS2pUY0J1dDBsQ1hKTkZsNzZVTXNOV1VoWWtZOHJPdUcxUnJmTDRMZDN0YXdHWGZYQVQzeHV2TWozb1R2Y1FFZjVVR244d2JPSWNsUjJ4cTg4Qks4Q1RFcHNZOXQzdFFSY2pvbEpTcjNXblpJMEZpcWhETU9YZFlIYTZlYUxYdTFqbWZPOVl4L0NEak5URWFaT0Q3STFzRWluWEp3YXZmbkhRdVk2Nm9KcHdLaEhpK0JqeGl4ckkxT3Z3WVdEY1d0UVNjK1pBMkZrVlU4eFNQV2U1L0RFd3lkblowT0UvRE43bHNlaHpKUUhPZ2tnanIvdXBjMTNOVDlGWXpWbUdqWjZWeFBiSWdrQkZmQzJhRC95QzY0UzZ1dmZtaldsNkladlNLWDdSZ2lFc0d3UmtDbXgzMDJTMDcvaEJ5d2RhWkxGV3R3UFUvYU55dmZza3FEVGYveWR1ZzlrZ1ZaMTJ1Vnk5RW40ejZZUFFOcjRHbGZIQXRVYjBVMlBVNW5COVljRzNhZGUrWlljZWFNcTQ4VUg4RkVTTHoxVmgxTjRPMXVBMnViTWFZbE1CK3pMeERkK3pjZEI1emlObU1vQU9NSkNCZEJ4Y0tWandnT3RCVjdqYVN5bUJEM1llaEdRTzlreDlsR1hFSU1IVnRlL1oxdkdwOFV1VFBBeVlYekprektNdTVHMVk2bVFRVWZ5RVFKMWZHOW5GZEF4Nkt2Q0pHd1lJeXZjZlJPcWN4QUVyc1pPU1VDYlhNd1JrYmtIMXNlNnQ0OXZjRlBmVi85bHNCZjR0RU9GKzRzTHVMVFNHaGtzZzF4aUo2TjlDWU9veitqVEhpWDBIZ0tGN2lDY2xtbzVOQ2JLTzZwUU9pbG9kSXBmeVlsblY1Mm83azRRSTBjRDd2UTFUc2xZV0h0ckxyOU1KWDNPcDVpU2VSNGtrTnp5aURsRFE0eW9pMkpmL0dsWlZvdGtLTDVYZFVSOGtJWG1pM0lhN2tEeTVBcDdpcHpwS2Zwdi9oM01COVJTek5MYS95SXRrdHVSeTRncnlVMW1QOTRyWE9ONzBKaS90L2R1eExVaSttZFlZNVQ5RmE3Y3pUd2xSRXVZaks2eEg5WlFpbDhSZ1M1Q09QUUpxeWhUQ1lsUGU3MEM3SWIrTUFZejZURUd3U0pVWTk0bzhBVUh4M2poMEpRaDBRVjZ0SndmMVBmR1ZVSXhONjFBR2N3WlFJd0dGakFNUnl5UUJnN2E5T3dnRWlVeWVEYmJGNzM0ekVTa0o4Zzk1dVhUZVFMN1JWcE1iQzd2d05vblErZ01mYWxBakVBMkFFendIMHpvd3VkVTg3L0ZuSGI3TXhpZWhEVWFhSklBdzJjbU0vZy9KTnNUVG8wV1hRMldMYkJSMDU4UFVDOCIsImNpcGhlclRleHQiOiJBUUlCQUhnaVlibDFFZzUwbUordEE5TzVldXgramlSdENidVNrMXhNZWVnN3M0cnBTd0ZyZVBUc09NeDY3Ukl3YmVGV3Z1MjdBQUFBb2pDQm53WUpLb1pJaHZjTkFRY0dvSUdSTUlHT0FnRUFNSUdJQmdrcWhraUc5dzBCQndFd0hnWUpZSVpJQVdVREJBRXVNQkVFRFBlMkdWSFVxcVl3T2RzL1lBSUJFSUJiS0IwbWNrMWhIQUIvZVRyM1JuQnBzQkJUY212SVBqM1d1NUJ0Y0JtNS8xeTVFU0F3SThEM2d0ZTRJdnpmRW9zUHNHZy9INncyeWlDaTdwd0pKNE9SK3BrYVFBOWFYL0JHUCtDakh2L0VNdTdNVlZ3TVQzcURkL0FhYnc9PSIsInN1YiI6ImFybjphd3M6c2FnZW1ha2VyOnVzLWVhc3QtMTo1MzMyNjcwMDU0NzQ6bWxmbG93LXRyYWNraW5nLXNlcnZlci9tbGZsb3ctZC1qMmc1MnNreTR3OXMtMTQtMjItMTktNTAiLCJpYXQiOjE3Mjg5NTQwNTcsImV4cCI6MTcyODk1NDExN30.Nvx-NGh862VCQ5_wDNkZFFT2Fgww4SpFtmBUCkbA5AA\");",
      "text/plain": [
       "<IPython.core.display.Javascript object>"
      ]
     },
     "metadata": {},
     "output_type": "display_data"
    }
   ],
   "source": [
    "# primeiro, abra a interface do MLflow - você pode fechar uma nova janela aberta\n",
    "display(Javascript('window.open(\"{}\");'.format(presigned_url)))"
   ]
  },
  {
   "cell_type": "code",
   "execution_count": 128,
   "id": "fe867b2f-734c-4fb7-94f7-e9925950f06e",
   "metadata": {},
   "outputs": [
    {
     "data": {
      "application/javascript": "window.open(\"https://t-3edkielatlse.us-east-1.experiments.sagemaker.aws/#/experiments/1/runs/d9d67d93ba6b44129e834809dc152030/artifacts\");",
      "text/plain": [
       "<IPython.core.display.Javascript object>"
      ]
     },
     "metadata": {},
     "output_type": "display_data"
    }
   ],
   "source": [
    "# segundo, abra a página de execução na interface do MLflow\n",
    "display(Javascript('window.open(\"{}\");'.format(mlflow_run_link)))"
   ]
  },
  {
   "cell_type": "markdown",
   "id": "a6b32433-7af8-4796-9848-58b90f7cac00",
   "metadata": {},
   "source": [
    "#### Opcional: implantar um endpoint a partir do estimador\n",
    "\n",
    "\n",
    "Você também pode implantar o modelo a partir do estimador treinado usando o método [`deploy()`](https://sagemaker.readthedocs.io/en/stable/api/training/estimators.html#sagemaker.estimator.Estimator.deploy) do estimador. Esta seção mostra como fazer isso.is."
   ]
  },
  {
   "cell_type": "code",
   "execution_count": 129,
   "id": "32ff01f6",
   "metadata": {},
   "outputs": [
    {
     "name": "stderr",
     "output_type": "stream",
     "text": [
      "INFO:sagemaker:Creating model with name: from-idea-to-prod-training-2024-10-15-01-02-08-493\n",
      "INFO:sagemaker:Creating endpoint-config with name from-idea-to-prod-endpoint-estimator-15-01-02-07\n",
      "INFO:sagemaker:Creating endpoint with name from-idea-to-prod-endpoint-estimator-15-01-02-07\n"
     ]
    },
    {
     "name": "stdout",
     "output_type": "stream",
     "text": [
      "-------!"
     ]
    }
   ],
   "source": [
    "# criar um endpoint em tempo real a partir do estimador treinado\n",
    "endpoint_name_from_estimator = f\"from-idea-to-prod-endpoint-estimator-{strftime('%d-%H-%M-%S', gmtime())}\"\n",
    "\n",
    "predictor_from_estimator = estimator.deploy(\n",
    "    initial_instance_count=1,\n",
    "    instance_type=\"ml.m5.large\",\n",
    "    wait=True,  # Lembre-se, predictor.predict() não funcionará até que a implantação termine!\n",
    "    # Ative a captura de dados, caso você queira experimentar o monitoramento:\n",
    "    data_capture_config=sagemaker.model_monitor.DataCaptureConfig(\n",
    "        enable_capture=True,\n",
    "        sampling_percentage=100,\n",
    "        destination_s3_uri=f\"s3://{bucket_name}/{bucket_prefix}/data-capture\",\n",
    "    ),\n",
    "    endpoint_name=endpoint_name_from_estimator,\n",
    "    serializer=sagemaker.serializers.CSVSerializer(),\n",
    "    deserializer=sagemaker.deserializers.CSVDeserializer(),\n",
    ")"
   ]
  },
  {
   "cell_type": "code",
   "execution_count": 131,
   "id": "cbfeb79b-014e-4784-a7bd-52f88b9957db",
   "metadata": {
    "tags": []
   },
   "outputs": [],
   "source": [
    "# Carregar os dados de teste como arquivos CSV\n",
    "test_x = pd.read_csv(\"tmp/test_x.csv\", header=None)\n",
    "test_y = pd.read_csv(\"tmp/test_y.csv\", names=['y'])"
   ]
  },
  {
   "cell_type": "code",
   "execution_count": 132,
   "id": "b5d420ff-2e3e-466a-b8e4-91a2f407f26d",
   "metadata": {
    "tags": []
   },
   "outputs": [
    {
     "data": {
      "text/plain": [
       "array([0.05938949, 0.07139037, 0.18536061, ..., 0.04092945, 0.0345034 ,\n",
       "       0.03125406])"
      ]
     },
     "execution_count": 132,
     "metadata": {},
     "output_type": "execute_result"
    }
   ],
   "source": [
    "# Fazer previsões usando o preditor do endpoint em tempo real\n",
    "predictions = np.array(predictor_from_estimator.predict(test_x.values), dtype=float).squeeze()\n",
    "predictions"
   ]
  },
  {
   "cell_type": "code",
   "execution_count": 133,
   "id": "ce21400a-6cbd-4817-869d-89e289fa165b",
   "metadata": {
    "tags": []
   },
   "outputs": [
    {
     "data": {
      "text/html": [
       "<div>\n",
       "<style scoped>\n",
       "    .dataframe tbody tr th:only-of-type {\n",
       "        vertical-align: middle;\n",
       "    }\n",
       "\n",
       "    .dataframe tbody tr th {\n",
       "        vertical-align: top;\n",
       "    }\n",
       "\n",
       "    .dataframe thead th {\n",
       "        text-align: right;\n",
       "    }\n",
       "</style>\n",
       "<table border=\"1\" class=\"dataframe\">\n",
       "  <thead>\n",
       "    <tr style=\"text-align: right;\">\n",
       "      <th></th>\n",
       "      <th>y_pred</th>\n",
       "      <th>0</th>\n",
       "      <th>1</th>\n",
       "      <th>2</th>\n",
       "      <th>3</th>\n",
       "      <th>4</th>\n",
       "      <th>5</th>\n",
       "      <th>6</th>\n",
       "      <th>7</th>\n",
       "      <th>8</th>\n",
       "      <th>...</th>\n",
       "      <th>54</th>\n",
       "      <th>55</th>\n",
       "      <th>56</th>\n",
       "      <th>57</th>\n",
       "      <th>58</th>\n",
       "      <th>59</th>\n",
       "      <th>60</th>\n",
       "      <th>61</th>\n",
       "      <th>62</th>\n",
       "      <th>63</th>\n",
       "    </tr>\n",
       "  </thead>\n",
       "  <tbody>\n",
       "    <tr>\n",
       "      <th>0</th>\n",
       "      <td>0.059389</td>\n",
       "      <td>0.000000</td>\n",
       "      <td>1.0</td>\n",
       "      <td>0.000000</td>\n",
       "      <td>1</td>\n",
       "      <td>0</td>\n",
       "      <td>1</td>\n",
       "      <td>0</td>\n",
       "      <td>0</td>\n",
       "      <td>0</td>\n",
       "      <td>...</td>\n",
       "      <td>0</td>\n",
       "      <td>0</td>\n",
       "      <td>0</td>\n",
       "      <td>1</td>\n",
       "      <td>0</td>\n",
       "      <td>0</td>\n",
       "      <td>0</td>\n",
       "      <td>0</td>\n",
       "      <td>1</td>\n",
       "      <td>0</td>\n",
       "    </tr>\n",
       "    <tr>\n",
       "      <th>1</th>\n",
       "      <td>0.071390</td>\n",
       "      <td>0.036364</td>\n",
       "      <td>1.0</td>\n",
       "      <td>0.000000</td>\n",
       "      <td>1</td>\n",
       "      <td>0</td>\n",
       "      <td>1</td>\n",
       "      <td>0</td>\n",
       "      <td>0</td>\n",
       "      <td>0</td>\n",
       "      <td>...</td>\n",
       "      <td>0</td>\n",
       "      <td>0</td>\n",
       "      <td>0</td>\n",
       "      <td>0</td>\n",
       "      <td>0</td>\n",
       "      <td>1</td>\n",
       "      <td>0</td>\n",
       "      <td>0</td>\n",
       "      <td>1</td>\n",
       "      <td>0</td>\n",
       "    </tr>\n",
       "    <tr>\n",
       "      <th>2</th>\n",
       "      <td>0.185361</td>\n",
       "      <td>0.000000</td>\n",
       "      <td>1.0</td>\n",
       "      <td>0.000000</td>\n",
       "      <td>1</td>\n",
       "      <td>0</td>\n",
       "      <td>0</td>\n",
       "      <td>1</td>\n",
       "      <td>0</td>\n",
       "      <td>0</td>\n",
       "      <td>...</td>\n",
       "      <td>0</td>\n",
       "      <td>0</td>\n",
       "      <td>0</td>\n",
       "      <td>1</td>\n",
       "      <td>0</td>\n",
       "      <td>0</td>\n",
       "      <td>0</td>\n",
       "      <td>0</td>\n",
       "      <td>1</td>\n",
       "      <td>0</td>\n",
       "    </tr>\n",
       "    <tr>\n",
       "      <th>3</th>\n",
       "      <td>0.240570</td>\n",
       "      <td>0.000000</td>\n",
       "      <td>1.0</td>\n",
       "      <td>0.142857</td>\n",
       "      <td>1</td>\n",
       "      <td>0</td>\n",
       "      <td>0</td>\n",
       "      <td>1</td>\n",
       "      <td>0</td>\n",
       "      <td>0</td>\n",
       "      <td>...</td>\n",
       "      <td>0</td>\n",
       "      <td>0</td>\n",
       "      <td>0</td>\n",
       "      <td>1</td>\n",
       "      <td>0</td>\n",
       "      <td>0</td>\n",
       "      <td>0</td>\n",
       "      <td>1</td>\n",
       "      <td>0</td>\n",
       "      <td>0</td>\n",
       "    </tr>\n",
       "    <tr>\n",
       "      <th>4</th>\n",
       "      <td>0.040983</td>\n",
       "      <td>0.000000</td>\n",
       "      <td>1.0</td>\n",
       "      <td>0.000000</td>\n",
       "      <td>1</td>\n",
       "      <td>0</td>\n",
       "      <td>0</td>\n",
       "      <td>1</td>\n",
       "      <td>0</td>\n",
       "      <td>0</td>\n",
       "      <td>...</td>\n",
       "      <td>0</td>\n",
       "      <td>0</td>\n",
       "      <td>0</td>\n",
       "      <td>0</td>\n",
       "      <td>0</td>\n",
       "      <td>1</td>\n",
       "      <td>0</td>\n",
       "      <td>0</td>\n",
       "      <td>1</td>\n",
       "      <td>0</td>\n",
       "    </tr>\n",
       "  </tbody>\n",
       "</table>\n",
       "<p>5 rows × 65 columns</p>\n",
       "</div>"
      ],
      "text/plain": [
       "     y_pred         0    1         2  3  4  5  6  7  8  ...  54  55  56  57  \\\n",
       "0  0.059389  0.000000  1.0  0.000000  1  0  1  0  0  0  ...   0   0   0   1   \n",
       "1  0.071390  0.036364  1.0  0.000000  1  0  1  0  0  0  ...   0   0   0   0   \n",
       "2  0.185361  0.000000  1.0  0.000000  1  0  0  1  0  0  ...   0   0   0   1   \n",
       "3  0.240570  0.000000  1.0  0.142857  1  0  0  1  0  0  ...   0   0   0   1   \n",
       "4  0.040983  0.000000  1.0  0.000000  1  0  0  1  0  0  ...   0   0   0   0   \n",
       "\n",
       "   58  59  60  61  62  63  \n",
       "0   0   0   0   0   1   0  \n",
       "1   0   1   0   0   1   0  \n",
       "2   0   0   0   0   1   0  \n",
       "3   0   0   0   1   0   0  \n",
       "4   0   1   0   0   1   0  \n",
       "\n",
       "[5 rows x 65 columns]"
      ]
     },
     "execution_count": 133,
     "metadata": {},
     "output_type": "execute_result"
    }
   ],
   "source": [
    "test_results = pd.concat(\n",
    "    [\n",
    "        pd.Series(predictions, name=\"y_pred\", index=test_x.index),\n",
    "        test_x,\n",
    "    ],\n",
    "    axis=1,\n",
    ")\n",
    "test_results.head()"
   ]
  },
  {
   "cell_type": "code",
   "execution_count": 134,
   "id": "91b8ef37-c50d-465d-bf54-2b104ace6fe7",
   "metadata": {
    "tags": []
   },
   "outputs": [
    {
     "data": {
      "text/html": [
       "<div>\n",
       "<style scoped>\n",
       "    .dataframe tbody tr th:only-of-type {\n",
       "        vertical-align: middle;\n",
       "    }\n",
       "\n",
       "    .dataframe tbody tr th {\n",
       "        vertical-align: top;\n",
       "    }\n",
       "\n",
       "    .dataframe thead th {\n",
       "        text-align: right;\n",
       "    }\n",
       "</style>\n",
       "<table border=\"1\" class=\"dataframe\">\n",
       "  <thead>\n",
       "    <tr style=\"text-align: right;\">\n",
       "      <th>predictions</th>\n",
       "      <th>0.0</th>\n",
       "      <th>1.0</th>\n",
       "    </tr>\n",
       "    <tr>\n",
       "      <th>actuals</th>\n",
       "      <th></th>\n",
       "      <th></th>\n",
       "    </tr>\n",
       "  </thead>\n",
       "  <tbody>\n",
       "    <tr>\n",
       "      <th>0</th>\n",
       "      <td>3583</td>\n",
       "      <td>53</td>\n",
       "    </tr>\n",
       "    <tr>\n",
       "      <th>1</th>\n",
       "      <td>383</td>\n",
       "      <td>100</td>\n",
       "    </tr>\n",
       "  </tbody>\n",
       "</table>\n",
       "</div>"
      ],
      "text/plain": [
       "predictions   0.0  1.0\n",
       "actuals               \n",
       "0            3583   53\n",
       "1             383  100"
      ]
     },
     "execution_count": 134,
     "metadata": {},
     "output_type": "execute_result"
    }
   ],
   "source": [
    "pd.crosstab(\n",
    "    index=test_y['y'].values,\n",
    "    columns=np.round(predictions), \n",
    "    rownames=['actuals'], \n",
    "    colnames=['predictions']\n",
    ")"
   ]
  },
  {
   "cell_type": "code",
   "execution_count": 135,
   "id": "f994e5e0-b83f-4c39-b9fe-9e0c74b2b4f6",
   "metadata": {
    "tags": []
   },
   "outputs": [
    {
     "name": "stdout",
     "output_type": "stream",
     "text": [
      "Test-auc: 0.7702\n"
     ]
    }
   ],
   "source": [
    "test_auc = roc_auc_score(test_y, test_results[\"y_pred\"])\n",
    "print(f\"Test-auc: {test_auc:.4f}\")"
   ]
  },
  {
   "cell_type": "code",
   "execution_count": 136,
   "id": "e3b0b514-0a8c-4fb3-96f8-e211ba282073",
   "metadata": {},
   "outputs": [
    {
     "name": "stderr",
     "output_type": "stream",
     "text": [
      "INFO:sagemaker:Deleting endpoint configuration with name: from-idea-to-prod-endpoint-estimator-15-01-02-07\n",
      "INFO:sagemaker:Deleting endpoint with name: from-idea-to-prod-endpoint-estimator-15-01-02-07\n"
     ]
    }
   ],
   "source": [
    "# deletar o endpoint para evitar custos\n",
    "predictor_from_estimator.delete_endpoint(delete_endpoint_config=True)"
   ]
  },
  {
   "cell_type": "markdown",
   "id": "f2b56d63-c998-4ef1-ada2-e85ed1987e1e",
   "metadata": {},
   "source": [
    "## Transformação em lote (batch)\n",
    "Se você deseja executar previsões offline em um grande conjunto de dados ou não precisa de um endpoint em tempo real, você pode usar a [transformação em lote](https://docs.aws.amazon.com/sagemaker/latest/dg/batch-transform.html) do SageMaker. Esta seção demonstra como usar a [transformação em lote do SageMaker](https://docs.aws.amazon.com/sagemaker/latest/dg/batch-transform.html)."
   ]
  },
  {
   "cell_type": "code",
   "execution_count": 137,
   "id": "bff1abd7-4ef7-4f27-a23a-1a254e823fa1",
   "metadata": {
    "tags": []
   },
   "outputs": [],
   "source": [
    "transform_s3_url = f\"s3://{bucket_name}/{bucket_prefix}/transform\"\n",
    "model_name = f\"from-idea-to-prod-transform-{strftime('%d-%H-%M-%S', gmtime())}\""
   ]
  },
  {
   "cell_type": "markdown",
   "id": "7efc15f6-aa75-429f-9aed-c42572a06e7f",
   "metadata": {},
   "source": [
    "<div class=\"alert alert-info\"> 💡 Para criar um transformador, use <b>opção 1</b> ou <b>opção 2</b>\n",
    "</div>"
   ]
  },
  {
   "cell_type": "markdown",
   "id": "cc425f73-03f6-481d-a337-d4f457a26ff6",
   "metadata": {},
   "source": [
    "### Opção 1: criar um transformador em lote a partir do estimador treinado\n",
    "Você pode usar [`EstimatorBase.transformer()`](https://sagemaker.readthedocs.io/en/stable/api/training/estimators.html#sagemaker.estimator.EstimatorBase.transformer) para criar um transformador para um estimador:"
   ]
  },
  {
   "cell_type": "code",
   "execution_count": 138,
   "id": "4a6d7f94-b194-4b9a-9430-a1d5b1ec055b",
   "metadata": {
    "tags": []
   },
   "outputs": [
    {
     "name": "stderr",
     "output_type": "stream",
     "text": [
      "INFO:sagemaker:Creating model with name: from-idea-to-prod-transform-15-01-08-12\n"
     ]
    }
   ],
   "source": [
    "transformer = estimator.transformer(\n",
    "    instance_count=1,\n",
    "    instance_type=train_instance_type,\n",
    "    accept=\"text/csv\",\n",
    "    role=sm_role,\n",
    "    output_path=transform_s3_url,\n",
    "    model_name=model_name,\n",
    ")"
   ]
  },
  {
   "cell_type": "markdown",
   "id": "d00e05ab-c043-40fa-90dd-24d6850b7130",
   "metadata": {},
   "source": [
    "<div style=\"border: 4px solid coral; text-align: center; margin: auto;\">\n",
    "    <p style=\" text-align: center; margin: auto;\">Pule a Opção 2 e vá para a seção <b>Executar job de transformação</b>.\n",
    "    </p>\n",
    "</div>"
   ]
  },
  {
   "cell_type": "markdown",
   "id": "e49bf855-4b34-4ddb-ada6-736b2122ee18",
   "metadata": {},
   "source": [
    "### Opção 2: carregar um modelo de um jobs de treinamento\n",
    "Alternativamente, você pode carregar um modelo a partir de um artefato de modelo produzido por um job de treinamento. Você cria um transformador com esse modelo."
   ]
  },
  {
   "cell_type": "code",
   "execution_count": 90,
   "id": "e971d76c-8e06-4b94-9b25-6eaec8703622",
   "metadata": {
    "tags": []
   },
   "outputs": [
    {
     "name": "stderr",
     "output_type": "stream",
     "text": [
      "INFO:sagemaker:Creating model with name: from-idea-to-prod-transform-23-15-00-28\n"
     ]
    }
   ],
   "source": [
    "model = session.create_model_from_job(\n",
    "    training_job_name=training_job_name, \n",
    "    name=model_name,\n",
    ")"
   ]
  },
  {
   "cell_type": "code",
   "execution_count": 91,
   "id": "50993f97-dce2-4084-a1de-22658fc8b669",
   "metadata": {
    "tags": []
   },
   "outputs": [],
   "source": [
    "transformer = sagemaker.transformer.Transformer(\n",
    "    model_name=model,\n",
    "    instance_count=1,\n",
    "    instance_type=train_instance_type,\n",
    "    accept=\"text/csv\",\n",
    "    assemble_with=\"Line\",\n",
    "    output_path=transform_s3_url,\n",
    "    base_transform_job_name=\"from-idea-to-prod-trasform\",\n",
    "    sagemaker_session=session,\n",
    ")"
   ]
  },
  {
   "cell_type": "markdown",
   "id": "60af22db-848d-44e8-987e-c22aedbd5354",
   "metadata": {},
   "source": [
    "### Executar o job de transformação\n",
    "\n",
    "\n",
    "<svg width=\"800\" height=\"125\" viewBox=\"0 0 800 125\" xmlns=\"http://www.w3.org/2000/svg\">\n",
    "    <defs>\n",
    "        <linearGradient id=\"fadeGradient\" x1=\"0\" x2=\"1\">\n",
    "            <stop offset=\"0%\" stop-color=\"#F0F0F0\"/>\n",
    "            <stop offset=\"100%\" stop-color=\"#F0F0F0\" stop-opacity=\"0\"/>\n",
    "        </linearGradient>\n",
    "        <mask id=\"fadeMask\">\n",
    "            <rect x=\"0\" y=\"0\" width=\"750\" height=\"125\" fill=\"white\"/>\n",
    "            <rect x=\"750\" y=\"0\" width=\"50\" height=\"125\" fill=\"url(#fadeGradient)\"/>\n",
    "        </mask>\n",
    "    </defs>\n",
    "    <path d=\"M3,50 A50,50 0 0 1 53,3 L797,3 L797,97 L97,97 L50,115 L3,97 Z\" fill=\"#F0F0F0\" stroke=\"#E0E0E0\" stroke-width=\"1\" mask=\"url(#fadeMask)\"/>\n",
    "    <circle cx=\"50\" cy=\"50\" r=\"30\" fill=\"#57c4f8\" stroke=\"#57c4f8\" stroke-width=\"1\"/>\n",
    "    <circle cx=\"50\" cy=\"50\" r=\"25\" fill=\"#F0F0F0\"/>\n",
    "    <line x1=\"50\" y1=\"50\" x2=\"50\" y2=\"30\" stroke=\"#57c4f8\" stroke-width=\"3\" stroke-linecap=\"round\"/>\n",
    "    <line x1=\"50\" y1=\"50\" x2=\"65\" y2=\"50\" stroke=\"#57c4f8\" stroke-width=\"3\" stroke-linecap=\"round\"/>\n",
    "    <text x=\"100\" y=\"34\" font-family=\"Arial, sans-serif\" font-size=\"14\" fill=\"#333333\">A próxima célula pode levar alguns minutos para ser executada. Por favor, seja paciente.</text>\n",
    "</svg>"
   ]
  },
  {
   "cell_type": "code",
   "execution_count": null,
   "id": "344809a8",
   "metadata": {},
   "outputs": [
    {
     "name": "stderr",
     "output_type": "stream",
     "text": [
      "INFO:sagemaker:Creating transform job with name: from-idea-to-prod-transform-15-01-08-32\n"
     ]
    },
    {
     "name": "stdout",
     "output_type": "stream",
     "text": [
      ".............................."
     ]
    }
   ],
   "source": [
    "transform_job_name = f\"from-idea-to-prod-transform-{strftime('%d-%H-%M-%S', gmtime())}\"\n",
    "\n",
    "transformer.transform(    \n",
    "    data=f\"{test_s3_url}/test_x.csv\",\n",
    "    content_type=\"text/csv\",\n",
    "    split_type=\"Line\", \n",
    "    job_name=transform_job_name,\n",
    "    wait=True,\n",
    ")"
   ]
  },
  {
   "cell_type": "markdown",
   "id": "edcfde81",
   "metadata": {},
   "source": [
    "<img src=\"data:image/svg+xml;base64,Cjxzdmcgd2lkdGg9IjgwMCIgaGVpZ2h0PSI1MCIgdmlld0JveD0iMCAwIDgwMCA1MCIgeG1sbnM9Imh0dHA6Ly93d3cudzMub3JnLzIwMDAvc3ZnIj4KICAgIDxkZWZzPgogICAgICAgIDxsaW5lYXJHcmFkaWVudCBpZD0iZmFkZUdyYWRpZW50IiB4MT0iMCIgeDI9IjEiPgogICAgICAgICAgICA8c3RvcCBvZmZzZXQ9IjAlIiBzdG9wLWNvbG9yPSIjRjBGMEYwIi8+CiAgICAgICAgICAgIDxzdG9wIG9mZnNldD0iMTAwJSIgc3RvcC1jb2xvcj0iI0YwRjBGMCIgc3RvcC1vcGFjaXR5PSIwIi8+CiAgICAgICAgPC9saW5lYXJHcmFkaWVudD4KICAgICAgICA8bWFzayBpZD0iZmFkZU1hc2siPgogICAgICAgICAgICA8cmVjdCB4PSIwIiB5PSIwIiB3aWR0aD0iNzUwIiBoZWlnaHQ9IjUwIiBmaWxsPSJ3aGl0ZSIvPgogICAgICAgICAgICA8cmVjdCB4PSI3NTAiIHk9IjAiIHdpZHRoPSI1MCIgaGVpZ2h0PSI1MCIgZmlsbD0idXJsKCNmYWRlR3JhZGllbnQpIi8+CiAgICAgICAgPC9tYXNrPgogICAgPC9kZWZzPgogICAgPHBhdGggZD0iTTI1LDUwIFEwLDUwIDAsMjUgTDUwLDMgTDk3LDI1IEw3OTcsMjUgTDc5Nyw1MCBMMjUsNTAgWiIgZmlsbD0iI0YwRjBGMCIgc3Ryb2tlPSIjRTBFMEUwIiBzdHJva2Utd2lkdGg9IjEiIG1hc2s9InVybCgjZmFkZU1hc2spIi8+Cjwvc3ZnPgo=\" alt=\"Time alert close\"/>"
   ]
  },
  {
   "cell_type": "code",
   "execution_count": 140,
   "id": "1f11a902-1306-430f-8925-2ddd17741609",
   "metadata": {
    "tags": []
   },
   "outputs": [],
   "source": [
    "while sm.describe_transform_job(\n",
    "        TransformJobName=transformer._current_job_name\n",
    "    )[\"TransformJobStatus\"] != \"Completed\":\n",
    "    time.sleep(10)\n",
    "    print(f\"Wait until {transformer._current_job_name} completed\")"
   ]
  },
  {
   "cell_type": "code",
   "execution_count": 141,
   "id": "10229a79",
   "metadata": {},
   "outputs": [
    {
     "data": {
      "text/plain": [
       "'s3://sagemaker-us-east-1-533267005474/from-idea-to-prod/xgboost/transform'"
      ]
     },
     "execution_count": 141,
     "metadata": {},
     "output_type": "execute_result"
    }
   ],
   "source": [
    "transformer.output_path"
   ]
  },
  {
   "cell_type": "markdown",
   "id": "672524d0-d056-4a1d-b80a-b4e4822c8290",
   "metadata": {},
   "source": [
    "### Avalie as predições"
   ]
  },
  {
   "cell_type": "code",
   "execution_count": 142,
   "id": "c02ae915",
   "metadata": {},
   "outputs": [
    {
     "name": "stdout",
     "output_type": "stream",
     "text": [
      "2024-10-15 01:14:13      82323 test_x.csv.out\n"
     ]
    }
   ],
   "source": [
    "!aws s3 ls {transformer.output_path}/"
   ]
  },
  {
   "cell_type": "code",
   "execution_count": 143,
   "id": "9bdce0bb",
   "metadata": {},
   "outputs": [
    {
     "name": "stdout",
     "output_type": "stream",
     "text": [
      "download: s3://sagemaker-us-east-1-533267005474/from-idea-to-prod/xgboost/transform/test_x.csv.out to tmp/predictions.csv\n",
      "download: s3://sagemaker-us-east-1-533267005474/from-idea-to-prod/xgboost/test/test_y.csv to tmp/test_y.csv\n"
     ]
    }
   ],
   "source": [
    "!aws s3 cp {transformer.output_path}/test_x.csv.out tmp/predictions.csv\n",
    "!aws s3 cp $test_s3_url/test_y.csv tmp/test_y.csv"
   ]
  },
  {
   "cell_type": "code",
   "execution_count": 144,
   "id": "4d5e4e16-4739-437c-8237-2083aae150be",
   "metadata": {
    "tags": []
   },
   "outputs": [],
   "source": [
    "predictions = pd.read_csv(\"tmp/predictions.csv\", names=[\"y_prob\"])\n",
    "test_y = pd.read_csv(\"tmp/test_y.csv\", names=['y'])"
   ]
  },
  {
   "cell_type": "markdown",
   "id": "54f1497b-2723-4e37-a1e0-75117dcc91af",
   "metadata": {},
   "source": [
    "#### Crosstab"
   ]
  },
  {
   "cell_type": "code",
   "execution_count": 145,
   "id": "5f5e150c-1bf7-414c-af9d-54ed108117aa",
   "metadata": {
    "tags": []
   },
   "outputs": [
    {
     "data": {
      "text/html": [
       "<div>\n",
       "<style scoped>\n",
       "    .dataframe tbody tr th:only-of-type {\n",
       "        vertical-align: middle;\n",
       "    }\n",
       "\n",
       "    .dataframe tbody tr th {\n",
       "        vertical-align: top;\n",
       "    }\n",
       "\n",
       "    .dataframe thead th {\n",
       "        text-align: right;\n",
       "    }\n",
       "</style>\n",
       "<table border=\"1\" class=\"dataframe\">\n",
       "  <thead>\n",
       "    <tr style=\"text-align: right;\">\n",
       "      <th>predictions</th>\n",
       "      <th>0.0</th>\n",
       "      <th>1.0</th>\n",
       "    </tr>\n",
       "    <tr>\n",
       "      <th>actuals</th>\n",
       "      <th></th>\n",
       "      <th></th>\n",
       "    </tr>\n",
       "  </thead>\n",
       "  <tbody>\n",
       "    <tr>\n",
       "      <th>0</th>\n",
       "      <td>3583</td>\n",
       "      <td>53</td>\n",
       "    </tr>\n",
       "    <tr>\n",
       "      <th>1</th>\n",
       "      <td>383</td>\n",
       "      <td>100</td>\n",
       "    </tr>\n",
       "  </tbody>\n",
       "</table>\n",
       "</div>"
      ],
      "text/plain": [
       "predictions   0.0  1.0\n",
       "actuals               \n",
       "0            3583   53\n",
       "1             383  100"
      ]
     },
     "execution_count": 145,
     "metadata": {},
     "output_type": "execute_result"
    }
   ],
   "source": [
    "pd.crosstab(\n",
    "    index=test_y['y'].values,\n",
    "    columns=np.array(np.round(predictions), dtype=float).squeeze(), \n",
    "    rownames=['actuals'], \n",
    "    colnames=['predictions']\n",
    ")"
   ]
  },
  {
   "cell_type": "code",
   "execution_count": 146,
   "id": "bd11aa9b-9bcc-4e70-a508-93f02781fa73",
   "metadata": {
    "tags": []
   },
   "outputs": [
    {
     "name": "stdout",
     "output_type": "stream",
     "text": [
      "Test-auc: 0.7702\n"
     ]
    }
   ],
   "source": [
    "test_auc = roc_auc_score(test_y, predictions)\n",
    "print(f\"Test-auc: {test_auc:.4f}\")"
   ]
  },
  {
   "cell_type": "markdown",
   "id": "9d358952-5b3a-4690-b118-1677bd80fd5c",
   "metadata": {},
   "source": [
    "#### ROC curve"
   ]
  },
  {
   "cell_type": "code",
   "execution_count": 147,
   "id": "eabaa6a7-08a2-4e21-95e2-17fea4c6e692",
   "metadata": {
    "tags": []
   },
   "outputs": [
    {
     "data": {
      "image/png": "[encoded data removed]",
      "text/plain": [
       "<Figure size 640x480 with 1 Axes>"
      ]
     },
     "metadata": {},
     "output_type": "display_data"
    }
   ],
   "source": [
    "fpr, tpr, thresholds = metrics.roc_curve(test_y, predictions)\n",
    "roc_auc = metrics.auc(fpr, tpr)\n",
    "roc_display = metrics.RocCurveDisplay(fpr=fpr, tpr=tpr, roc_auc=roc_auc,estimator_name='Holdout/Test Data - ROC curve')\n",
    "roc_display.plot()\n",
    "plt.show()"
   ]
  },
  {
   "cell_type": "markdown",
   "id": "34c19463-4fb0-43bd-bb33-9f3a174c060e",
   "metadata": {},
   "source": [
    "#### Confusion matrix"
   ]
  },
  {
   "cell_type": "code",
   "execution_count": 148,
   "id": "449ffe9b-1b7d-44d9-a9ce-c8d68c97de7e",
   "metadata": {
    "tags": []
   },
   "outputs": [
    {
     "data": {
      "image/png": "[encoded data removed]",
      "text/plain": [
       "<Figure size 640x480 with 2 Axes>"
      ]
     },
     "metadata": {},
     "output_type": "display_data"
    }
   ],
   "source": [
    "class_names = [\"no\", \"yes\"]\n",
    "confusion_matrix = metrics.confusion_matrix(test_y, np.round(predictions))\n",
    "ax, fig = plot_confusion_matrix(confusion_matrix, class_names)"
   ]
  },
  {
   "cell_type": "markdown",
   "id": "b90e2e7f-69fa-409b-a36f-341842d50146",
   "metadata": {},
   "source": [
    "#### Precision-recall curve"
   ]
  },
  {
   "cell_type": "code",
   "execution_count": 149,
   "id": "c36302d4-5855-43cd-9d47-e5f2d50bfaf5",
   "metadata": {
    "tags": []
   },
   "outputs": [
    {
     "data": {
      "image/png": "[encoded data removed]",
      "text/plain": [
       "<Figure size 640x480 with 1 Axes>"
      ]
     },
     "metadata": {},
     "output_type": "display_data"
    }
   ],
   "source": [
    "from sklearn.metrics import precision_recall_curve\n",
    "from sklearn.metrics import PrecisionRecallDisplay\n",
    "\n",
    "prec, recall, _ = precision_recall_curve(test_y, predictions)\n",
    "average_precision= metrics.average_precision_score(test_y, predictions)\n",
    "pr_display = PrecisionRecallDisplay(precision=prec, recall=recall, average_precision=average_precision, estimator_name='Holdout/Test Data - AUPRC curve')\n",
    "pr_display.plot()\n",
    "plt.show()"
   ]
  },
  {
   "cell_type": "markdown",
   "id": "de6ee7d6-e8d7-40aa-bae6-8db6edbcc10d",
   "metadata": {},
   "source": [
    "## Explore experimentos e registro de modelos com a interface do MLflow\n",
    "Você pode ver todas as métricas, parâmetros e artefatos registrados na interface do MLflow. Para iniciar a interface do MLflow, escolha **MLflow** no painel **Aplicação** da interface do Studio, selecione seu servidor MLflow e escolha **Abrir MLflow**:\n",
    "\n",
    "![](img/mlflow-open.png)\n",
    "\n",
    "Na interface do MLflow, você pode navegar por experimentos, execuções e modelos registrados:\n",
    "\n",
    "![](img/experiment-mlflow-2.png)\n",
    "\n",
    "![](img/models-mlflow-2.png)\n",
    "\n",
    "![](img/model-fig-mlflow.png)"
   ]
  },
  {
   "cell_type": "markdown",
   "id": "6949ec51-5f38-4432-9a5d-ed4e5350644f",
   "metadata": {},
   "source": [
    "---"
   ]
  },
  {
   "cell_type": "markdown",
   "id": "9d8a7389-9af4-4a0b-8ea7-376db0c2ed02",
   "metadata": {},
   "source": [
    "## Opcional: Otimização de hiperparâmetros (HPO)\n",
    "Você pode seguir para a seção <b>Clean-up</b>.</div>\n",
    "\n",
    "A [otimização automática de modelos do Amazon SageMaker](https://docs.aws.amazon.com/sagemaker/latest/dg/automatic-model-tuning.html), também chamada de otimização de hiperparâmetros (HPO), encontra o modelo com melhor desempenho em relação a uma métrica objetiva definida, executando vários jobs de treinamento no conjunto de dados usando o algoritmo e os intervalos de hiperparâmetros que você especifica. O HPO do SageMaker suporta busca aleatória, otimização bayesiana e [hyperband](https://docs.aws.amazon.com/sagemaker/latest/dg/automatic-model-tuning-how-it-works.html) como estratégias de ajuste."
   ]
  },
  {
   "cell_type": "code",
   "execution_count": null,
   "id": "75dc1094-e854-4edd-a839-9d706551c1ba",
   "metadata": {},
   "outputs": [],
   "source": [
    "suffix = strftime('%d-%H-%M-%S', gmtime())\n",
    "hpo_experiment_name = f\"from-idea-to-prod-hpo-{suffix}\"\n",
    "registered_hpo_model_name = f\"from-idea-to-prod-hpo-model-{suffix}\"\n",
    "\n",
    "mlflow.set_experiment(hpo_experiment_name)"
   ]
  },
  {
   "cell_type": "code",
   "execution_count": 113,
   "id": "5230ec51-bab2-40ca-a5ce-3a31590d47a5",
   "metadata": {
    "tags": []
   },
   "outputs": [],
   "source": [
    "# import required HPO objects\n",
    "from sagemaker.tuner import (\n",
    "    CategoricalParameter,\n",
    "    ContinuousParameter,\n",
    "    HyperparameterTuner,\n",
    "    IntegerParameter,\n",
    ")"
   ]
  },
  {
   "cell_type": "code",
   "execution_count": 114,
   "id": "531a6e93-5f57-43d1-851f-e6574b0d53ca",
   "metadata": {},
   "outputs": [
    {
     "name": "stderr",
     "output_type": "stream",
     "text": [
      "INFO:sagemaker.image_uris:Ignoring unnecessary Python version: py3.\n",
      "INFO:sagemaker.image_uris:Ignoring unnecessary instance type: ml.m5.xlarge.\n"
     ]
    }
   ],
   "source": [
    "# configurar intervalos de hiperparâmetros\n",
    "hp_ranges = {\n",
    "    \"min_child_weight\": ContinuousParameter(1, 10),\n",
    "    \"max_depth\": IntegerParameter(1, 10),\n",
    "    \"alpha\": ContinuousParameter(0, 5),\n",
    "    \"eta\": ContinuousParameter(0, 1),\n",
    "    \"colsample_bytree\": ContinuousParameter(0, 1),\n",
    "}\n",
    "\n",
    "# configurar a métrica objetiva\n",
    "objective = \"validation:auc\"\n",
    "\n",
    "# configurar o estimador no modo script\n",
    "hpo_estimator = XGBoost(\n",
    "    entry_point='train.py',\n",
    "    source_dir='./training',\n",
    "    framework_version=\"1.7-1\",  \n",
    "    hyperparameters=hyperparams,\n",
    "    role=sm_role,\n",
    "    instance_count=train_instance_count,\n",
    "    instance_type=train_instance_type,\n",
    "    output_path=output_s3_url,\n",
    "    base_job_name=\"from-idea-to-prod-training\",\n",
    "    environment={\n",
    "        'MLFLOW_TRACKING_ARN': mlflow_arn,\n",
    "        'MLFLOW_EXPERIMENT_NAME': hpo_experiment_name,\n",
    "        'USER': user_profile_name,\n",
    "        'REGION': region,\n",
    "    }\n",
    ")\n",
    "\n",
    "# instanciar um objeto HPO\n",
    "tuner = HyperparameterTuner(\n",
    "    estimator=hpo_estimator,  # o objeto estimador do SageMaker\n",
    "    hyperparameter_ranges=hp_ranges,  # o intervalo de hiperparâmetros\n",
    "    max_jobs=10,  # número total de jobs HPO\n",
    "    max_parallel_jobs=3,  # quantos jobs HPO podem ser executados em paralelo\n",
    "    strategy=\"Bayesian\",  # a estratégia de otimização interna do HPO\n",
    "    objective_metric_name=objective,  # a métrica objetiva a ser usada para HPO\n",
    "    objective_type=\"Maximize\",  # maximizar ou minimizar a métrica objetiva\n",
    "    base_tuning_job_name=\"from-idea-to-prod-hpo\",\n",
    "    early_stopping_type=\"Auto\",\n",
    ")"
   ]
  },
  {
   "cell_type": "markdown",
   "id": "7aab138e-5629-4a9d-830a-efb425a375bb",
   "metadata": {},
   "source": [
    "### Execute o HPO\n",
    "Agora execute o job de HPO. Leva cerca de 10 minutos para ser concluído."
   ]
  },
  {
   "cell_type": "markdown",
   "id": "9752f3de",
   "metadata": {},
   "source": [
    "<svg width=\"800\" height=\"125\" viewBox=\"0 0 800 125\" xmlns=\"http://www.w3.org/2000/svg\">\n",
    "    <defs>\n",
    "        <linearGradient id=\"fadeGradient\" x1=\"0\" x2=\"1\">\n",
    "            <stop offset=\"0%\" stop-color=\"#F0F0F0\"/>\n",
    "            <stop offset=\"100%\" stop-color=\"#F0F0F0\" stop-opacity=\"0\"/>\n",
    "        </linearGradient>\n",
    "        <mask id=\"fadeMask\">\n",
    "            <rect x=\"0\" y=\"0\" width=\"750\" height=\"125\" fill=\"white\"/>\n",
    "            <rect x=\"750\" y=\"0\" width=\"50\" height=\"125\" fill=\"url(#fadeGradient)\"/>\n",
    "        </mask>\n",
    "    </defs>\n",
    "    <path d=\"M3,50 A50,50 0 0 1 53,3 L797,3 L797,97 L97,97 L50,115 L3,97 Z\" fill=\"#F0F0F0\" stroke=\"#E0E0E0\" stroke-width=\"1\" mask=\"url(#fadeMask)\"/>\n",
    "    <circle cx=\"50\" cy=\"50\" r=\"30\" fill=\"#57c4f8\" stroke=\"#57c4f8\" stroke-width=\"1\"/>\n",
    "    <circle cx=\"50\" cy=\"50\" r=\"25\" fill=\"#F0F0F0\"/>\n",
    "    <line x1=\"50\" y1=\"50\" x2=\"50\" y2=\"30\" stroke=\"#57c4f8\" stroke-width=\"3\" stroke-linecap=\"round\"/>\n",
    "    <line x1=\"50\" y1=\"50\" x2=\"65\" y2=\"50\" stroke=\"#57c4f8\" stroke-width=\"3\" stroke-linecap=\"round\"/>\n",
    "    <text x=\"100\" y=\"34\" font-family=\"Arial, sans-serif\" font-size=\"14\" fill=\"#333333\">A próxima célula pode levar alguns minutos para ser executada. Por favor, seja paciente.</text>\n",
    "    <text x=\"100\" y=\"56\" font-family=\"Arial, sans-serif\" font-size=\"14\" fill=\"#333333\">Você pode ignorar com segurança as mensagens de aviso.</text>\n",
    "</svg>"
   ]
  },
  {
   "cell_type": "code",
   "execution_count": null,
   "id": "991feba1-9a88-4eeb-8b62-626c32e83c42",
   "metadata": {},
   "outputs": [],
   "source": [
    "tuner.fit(\n",
    "    {\"train\": s3_input_train, \"validation\": s3_input_validation},\n",
    ")"
   ]
  },
  {
   "cell_type": "markdown",
   "id": "0697a30f",
   "metadata": {},
   "source": [
    "<img src=\"data:image/svg+xml;base64,Cjxzdmcgd2lkdGg9IjgwMCIgaGVpZ2h0PSI1MCIgdmlld0JveD0iMCAwIDgwMCA1MCIgeG1sbnM9Imh0dHA6Ly93d3cudzMub3JnLzIwMDAvc3ZnIj4KICAgIDxkZWZzPgogICAgICAgIDxsaW5lYXJHcmFkaWVudCBpZD0iZmFkZUdyYWRpZW50IiB4MT0iMCIgeDI9IjEiPgogICAgICAgICAgICA8c3RvcCBvZmZzZXQ9IjAlIiBzdG9wLWNvbG9yPSIjRjBGMEYwIi8+CiAgICAgICAgICAgIDxzdG9wIG9mZnNldD0iMTAwJSIgc3RvcC1jb2xvcj0iI0YwRjBGMCIgc3RvcC1vcGFjaXR5PSIwIi8+CiAgICAgICAgPC9saW5lYXJHcmFkaWVudD4KICAgICAgICA8bWFzayBpZD0iZmFkZU1hc2siPgogICAgICAgICAgICA8cmVjdCB4PSIwIiB5PSIwIiB3aWR0aD0iNzUwIiBoZWlnaHQ9IjUwIiBmaWxsPSJ3aGl0ZSIvPgogICAgICAgICAgICA8cmVjdCB4PSI3NTAiIHk9IjAiIHdpZHRoPSI1MCIgaGVpZ2h0PSI1MCIgZmlsbD0idXJsKCNmYWRlR3JhZGllbnQpIi8+CiAgICAgICAgPC9tYXNrPgogICAgPC9kZWZzPgogICAgPHBhdGggZD0iTTI1LDUwIFEwLDUwIDAsMjUgTDUwLDMgTDk3LDI1IEw3OTcsMjUgTDc5Nyw1MCBMMjUsNTAgWiIgZmlsbD0iI0YwRjBGMCIgc3Ryb2tlPSIjRTBFMEUwIiBzdHJva2Utd2lkdGg9IjEiIG1hc2s9InVybCgjZmFkZU1hc2spIi8+Cjwvc3ZnPgo=\" alt=\"Time alert close\"/>"
   ]
  },
  {
   "cell_type": "code",
   "execution_count": null,
   "id": "9eb7ee04-eee8-4e23-9e63-ad29cbbcf2d5",
   "metadata": {},
   "outputs": [],
   "source": [
    "tuner.describe()['HyperParameterTuningJobStatus']"
   ]
  },
  {
   "cell_type": "markdown",
   "id": "9b4a7395-f35b-4bca-8b4e-73f51bfad4cd",
   "metadata": {},
   "source": [
    "Para ver os detalhes do job de HPO no console do SageMaker, clique no link construído pela célula abaixo:\n"
   ]
  },
  {
   "cell_type": "code",
   "execution_count": 117,
   "id": "2fe934e6-a68a-47e6-9bba-64f1a35af835",
   "metadata": {},
   "outputs": [
    {
     "data": {
      "text/html": [
       "<b>See the SageMaker <a target=\"top\" href=\"https://us-east-1.console.aws.amazon.com/sagemaker/home?region=us-east-1#/hyper-tuning-jobs/from-idea-to-prod-hp-240723-1518\">HPO job</a></b>"
      ],
      "text/plain": [
       "<IPython.core.display.HTML object>"
      ]
     },
     "metadata": {},
     "output_type": "display_data"
    }
   ],
   "source": [
    "# Monstre o HPO Job\n",
    "display(\n",
    "    HTML('<b>See the SageMaker <a target=\"top\" href=\"https://{}.console.aws.amazon.com/sagemaker/home?region={}#/hyper-tuning-jobs/{}\">HPO job</a></b>'.format(\n",
    "            region, region, tuner.latest_tuning_job.job_name))\n",
    ")"
   ]
  },
  {
   "cell_type": "markdown",
   "id": "24453c3a-e309-403a-8b32-a7735c726f95",
   "metadata": {},
   "source": [
    "### Veja os resultados do HPO\n",
    "Agora obtenha os resultados e veja o melhor job de treinamento."
   ]
  },
  {
   "cell_type": "code",
   "execution_count": 118,
   "id": "c2b0e7b2-cc3e-4900-8fa5-5550c5332633",
   "metadata": {},
   "outputs": [],
   "source": [
    "best_training_job = tuner.describe()['BestTrainingJob']"
   ]
  },
  {
   "cell_type": "code",
   "execution_count": null,
   "id": "c70449aa",
   "metadata": {},
   "outputs": [],
   "source": [
    "best_training_job"
   ]
  },
  {
   "cell_type": "markdown",
   "id": "386f87b9-2834-4f32-aa2f-d196c73fd093",
   "metadata": {},
   "source": [
    "### Registre o melhor modelo HPO no registro de modelos\n",
    "Registre o melhor modelo HPO com os hiperparâmetros, métricas e artefatos do modelo no registro de modelos do MLflow."
   ]
  },
  {
   "cell_type": "code",
   "execution_count": 142,
   "id": "1cb264d9-b41d-4a70-b4a4-12d88e463dd0",
   "metadata": {},
   "outputs": [],
   "source": [
    "# encontre a execução com o melhor modelo HPO\n",
    "best_hpo_model_run_id = mlflow.search_runs(\n",
    "    experiment_ids=[mlflow.get_experiment_by_name(hpo_experiment_name).experiment_id], \n",
    "    filter_string=f\"tags.mlflow.source.name LIKE '%{best_training_job['TrainingJobArn'].split('/')[-1]}%'\",\n",
    ")['run_id'][0]"
   ]
  },
  {
   "cell_type": "code",
   "execution_count": 143,
   "id": "2366d8af-2f98-40db-84ad-6b50f0e4456e",
   "metadata": {},
   "outputs": [
    {
     "data": {
      "text/plain": [
       "'dca26c9b57644181a7c29f448dcdf2f8'"
      ]
     },
     "execution_count": 143,
     "metadata": {},
     "output_type": "execute_result"
    }
   ],
   "source": [
    "best_hpo_model_run_id"
   ]
  },
  {
   "cell_type": "code",
   "execution_count": null,
   "id": "8ee04e2c",
   "metadata": {},
   "outputs": [],
   "source": [
    "# Registre o modelo\n",
    "model_uri = f\"runs:/{best_hpo_model_run_id}/model\"\n",
    "registered_hpo_model_version = mlflow.register_model(model_uri, registered_hpo_model_name)"
   ]
  },
  {
   "cell_type": "markdown",
   "id": "2abee438-8068-46e4-bd0f-60a2bb50f4f4",
   "metadata": {},
   "source": [
    "Como próximo passo, você precisa implantar o melhor modelo HPO e testá-lo. Você pode escolher uma das seguintes opções abaixo."
   ]
  },
  {
   "cell_type": "markdown",
   "id": "b7a94832-b635-41a1-9403-6e4b12cfdfbb",
   "metadata": {},
   "source": [
    "### Execute inferência local com o melhor modelo HPO\n"
   ]
  },
  {
   "cell_type": "code",
   "execution_count": null,
   "id": "ab292522",
   "metadata": {},
   "outputs": [],
   "source": [
    "# obter o modelo do MLflow Model Registry\n",
    "model_uri = registered_hpo_model_version.source\n",
    "model = mlflow.xgboost.load_model(model_uri)\n",
    "\n",
    "# carregar dados\n",
    "test_x = loadtxt(\"tmp/test_x.csv\", delimiter=\",\")\n",
    "test_y = loadtxt(\"tmp/test_y.csv\", delimiter=\",\")\n",
    "\n",
    "# prever\n",
    "dtest = xgb.DMatrix(test_x)\n",
    "\n",
    "predictions = np.array(model.predict(dtest), dtype=float).squeeze()\n",
    "predictions"
   ]
  },
  {
   "cell_type": "code",
   "execution_count": null,
   "id": "78047aca",
   "metadata": {},
   "outputs": [],
   "source": [
    "pd.crosstab(\n",
    "    index=test_y,\n",
    "    columns=np.round(predictions), \n",
    "    rownames=['actuals'], \n",
    "    colnames=['predictions']\n",
    ")"
   ]
  },
  {
   "cell_type": "code",
   "execution_count": null,
   "id": "6c1d3a03",
   "metadata": {},
   "outputs": [],
   "source": [
    "test_auc = roc_auc_score(test_y, predictions)\n",
    "print(f\"Test-auc: {test_auc:.4f}\")"
   ]
  },
  {
   "cell_type": "markdown",
   "id": "9edd93b6-5a44-4998-8403-6d142b82ff95",
   "metadata": {},
   "source": [
    "Há apenas pequenas melhorias nas métricas do modelo. Isso pode indicar que o modelo XGBoost já está no seu limite. Você pode querer explorar outros tipos de modelos para melhorar a precisão da previsão para este caso de uso."
   ]
  },
  {
   "cell_type": "markdown",
   "id": "64fd8435-9c7e-4b4f-87b2-13ee830d19e3",
   "metadata": {},
   "source": [
    "---"
   ]
  },
  {
   "cell_type": "markdown",
   "id": "f5493780-c392-4432-a34b-75f27ce984a5",
   "metadata": {},
   "source": [
    "## Clean-up\n",
    "Para evitar cobranças, remova o endpoint hospedado que você criou."
   ]
  },
  {
   "cell_type": "code",
   "execution_count": 121,
   "id": "cd76cdc4-6ce7-4699-899c-43f092bb617c",
   "metadata": {},
   "outputs": [
    {
     "name": "stderr",
     "output_type": "stream",
     "text": [
      "INFO:sagemaker:Deleting endpoint configuration with name: from-idea-to-prod-endpoint-15-00-30-33\n",
      "INFO:sagemaker:Deleting endpoint with name: from-idea-to-prod-endpoint-15-00-30-33\n"
     ]
    }
   ],
   "source": [
    "predictor.delete_endpoint(delete_endpoint_config=True)"
   ]
  },
  {
   "cell_type": "markdown",
   "id": "34f720e0-e8d5-4cb5-93a6-6a4f2dafd523",
   "metadata": {},
   "source": [
    "## Continue com o passo 3\n",
    "abra o [notebook](03-sagemaker-pipeline.ipynb) do passo 3."
   ]
  },
  {
   "cell_type": "markdown",
   "id": "62b623d7-4b16-4c6f-96a8-ad92a77b1601",
   "metadata": {},
   "source": [
    "## Ideias de desenvolvimento adicional para seus projetos do mundo real\n",
    "- [Gerenciar experimentos](https://docs.aws.amazon.com/sagemaker/latest/dg/mlflow.html)\n",
    "- Usar o [Amazon SageMaker Data Wrangler](https://docs.aws.amazon.com/sagemaker/latest/dg/data-wrangler.html) para criar um fluxo visual de processamento de dados e engenharia de features sem código ou com baixo código.\n",
    "- Experimentar o [SageMaker Canvas](https://docs.aws.amazon.com/sagemaker/latest/dg/canvas.html) sem código em seus dados para realizar análises e usar ML automatizado para construir modelos e gerar previsões"
   ]
  },
  {
   "cell_type": "markdown",
   "id": "6ba1fc9d-7a52-4d2f-b51e-0f9422119389",
   "metadata": {},
   "source": [
    "## Recursos adicionais\n",
    "- [Usando contêineres Docker com SageMaker](https://docs.aws.amazon.com/sagemaker/latest/dg/docker-containers.html)\n",
    "- [Como criar e usar um contêiner SageMaker personalizado: workshop prático do SageMaker](https://sagemaker-workshop.com/custom/containers.html)\n",
    "- [Amazon SageMaker Immersion Day](https://catalog.us-east-1.prod.workshops.aws/workshops/63069e26-921c-4ce1-9cc7-dd882ff62575/en-US)\n",
    "- [Direcionando Marketing Direto com Amazon SageMaker XGBoost](https://github.com/aws-samples/amazon-sagemaker-immersion-day/blob/master/processing_xgboost.ipynb)\n",
    "- [Treine um Modelo de Aprendizado de Máquina](https://aws.amazon.com/getting-started/hands-on/machine-learning-tutorial-train-a-model/)\n",
    "- [Implante um Modelo de Aprendizado de Máquina em um Endpoint de Inferência em Tempo Real](https://aws.amazon.com/getting-started/hands-on/machine-learning-tutorial-deploy-model-to-real-time-inference-endpoint/)\n",
    "- [Workshop Amazon SageMaker 101](https://catalog.us-east-1.prod.workshops.aws/workshops/0c6b8a23-b837-4e0f-b2e2-4a3ffd7d645b/en-US)\n",
    "- [Repositório de código do Workshop Amazon SageMaker 101](https://github.com/aws-samples/sagemaker-101-workshop)\n",
    "- [Amazon SageMaker com XGBoost e Ajuste de Hiperparâmetros para previsões de Marketing Direto](https://github.com/aws-samples/sagemaker-101-workshop/blob/main/builtin_algorithm_hpo_tabular/SageMaker%20XGBoost%20HPO.ipynb)"
   ]
  },
  {
   "cell_type": "markdown",
   "id": "2d7b222f-ee83-4c87-9019-cebcc7e56627",
   "metadata": {},
   "source": [
    "# Encerrar kernel\n"
   ]
  },
  {
   "cell_type": "code",
   "execution_count": null,
   "id": "ae0b1f02-44b8-4749-a5e2-ce415fff7f78",
   "metadata": {},
   "outputs": [],
   "source": [
    "%%html\n",
    "\n",
    "<p><b>Shutting down your kernel for this notebook to release resources.</b></p>\n",
    "<button class=\"sm-command-button\" data-commandlinker-command=\"kernelmenu:shutdown\" style=\"display:none;\">Shutdown Kernel</button>\n",
    "        \n",
    "<script>\n",
    "try {\n",
    "    els = document.getElementsByClassName(\"sm-command-button\");\n",
    "    els[0].click();\n",
    "}\n",
    "catch(err) {\n",
    "    // NoOp\n",
    "}    \n",
    "</script>"
   ]
  },
  {
   "cell_type": "code",
   "execution_count": null,
   "id": "725f9d18-a550-46f6-9de8-9aeeed8171fd",
   "metadata": {},
   "outputs": [],
   "source": []
  }
 ],
 "metadata": {
  "availableInstances": [
   {
    "_defaultOrder": 0,
    "_isFastLaunch": true,
    "category": "General purpose",
    "gpuNum": 0,
    "hideHardwareSpecs": false,
    "memoryGiB": 4,
    "name": "ml.t3.medium",
    "vcpuNum": 2
   },
   {
    "_defaultOrder": 1,
    "_isFastLaunch": false,
    "category": "General purpose",
    "gpuNum": 0,
    "hideHardwareSpecs": false,
    "memoryGiB": 8,
    "name": "ml.t3.large",
    "vcpuNum": 2
   },
   {
    "_defaultOrder": 2,
    "_isFastLaunch": false,
    "category": "General purpose",
    "gpuNum": 0,
    "hideHardwareSpecs": false,
    "memoryGiB": 16,
    "name": "ml.t3.xlarge",
    "vcpuNum": 4
   },
   {
    "_defaultOrder": 3,
    "_isFastLaunch": false,
    "category": "General purpose",
    "gpuNum": 0,
    "hideHardwareSpecs": false,
    "memoryGiB": 32,
    "name": "ml.t3.2xlarge",
    "vcpuNum": 8
   },
   {
    "_defaultOrder": 4,
    "_isFastLaunch": true,
    "category": "General purpose",
    "gpuNum": 0,
    "hideHardwareSpecs": false,
    "memoryGiB": 8,
    "name": "ml.m5.large",
    "vcpuNum": 2
   },
   {
    "_defaultOrder": 5,
    "_isFastLaunch": false,
    "category": "General purpose",
    "gpuNum": 0,
    "hideHardwareSpecs": false,
    "memoryGiB": 16,
    "name": "ml.m5.xlarge",
    "vcpuNum": 4
   },
   {
    "_defaultOrder": 6,
    "_isFastLaunch": false,
    "category": "General purpose",
    "gpuNum": 0,
    "hideHardwareSpecs": false,
    "memoryGiB": 32,
    "name": "ml.m5.2xlarge",
    "vcpuNum": 8
   },
   {
    "_defaultOrder": 7,
    "_isFastLaunch": false,
    "category": "General purpose",
    "gpuNum": 0,
    "hideHardwareSpecs": false,
    "memoryGiB": 64,
    "name": "ml.m5.4xlarge",
    "vcpuNum": 16
   },
   {
    "_defaultOrder": 8,
    "_isFastLaunch": false,
    "category": "General purpose",
    "gpuNum": 0,
    "hideHardwareSpecs": false,
    "memoryGiB": 128,
    "name": "ml.m5.8xlarge",
    "vcpuNum": 32
   },
   {
    "_defaultOrder": 9,
    "_isFastLaunch": false,
    "category": "General purpose",
    "gpuNum": 0,
    "hideHardwareSpecs": false,
    "memoryGiB": 192,
    "name": "ml.m5.12xlarge",
    "vcpuNum": 48
   },
   {
    "_defaultOrder": 10,
    "_isFastLaunch": false,
    "category": "General purpose",
    "gpuNum": 0,
    "hideHardwareSpecs": false,
    "memoryGiB": 256,
    "name": "ml.m5.16xlarge",
    "vcpuNum": 64
   },
   {
    "_defaultOrder": 11,
    "_isFastLaunch": false,
    "category": "General purpose",
    "gpuNum": 0,
    "hideHardwareSpecs": false,
    "memoryGiB": 384,
    "name": "ml.m5.24xlarge",
    "vcpuNum": 96
   },
   {
    "_defaultOrder": 12,
    "_isFastLaunch": false,
    "category": "General purpose",
    "gpuNum": 0,
    "hideHardwareSpecs": false,
    "memoryGiB": 8,
    "name": "ml.m5d.large",
    "vcpuNum": 2
   },
   {
    "_defaultOrder": 13,
    "_isFastLaunch": false,
    "category": "General purpose",
    "gpuNum": 0,
    "hideHardwareSpecs": false,
    "memoryGiB": 16,
    "name": "ml.m5d.xlarge",
    "vcpuNum": 4
   },
   {
    "_defaultOrder": 14,
    "_isFastLaunch": false,
    "category": "General purpose",
    "gpuNum": 0,
    "hideHardwareSpecs": false,
    "memoryGiB": 32,
    "name": "ml.m5d.2xlarge",
    "vcpuNum": 8
   },
   {
    "_defaultOrder": 15,
    "_isFastLaunch": false,
    "category": "General purpose",
    "gpuNum": 0,
    "hideHardwareSpecs": false,
    "memoryGiB": 64,
    "name": "ml.m5d.4xlarge",
    "vcpuNum": 16
   },
   {
    "_defaultOrder": 16,
    "_isFastLaunch": false,
    "category": "General purpose",
    "gpuNum": 0,
    "hideHardwareSpecs": false,
    "memoryGiB": 128,
    "name": "ml.m5d.8xlarge",
    "vcpuNum": 32
   },
   {
    "_defaultOrder": 17,
    "_isFastLaunch": false,
    "category": "General purpose",
    "gpuNum": 0,
    "hideHardwareSpecs": false,
    "memoryGiB": 192,
    "name": "ml.m5d.12xlarge",
    "vcpuNum": 48
   },
   {
    "_defaultOrder": 18,
    "_isFastLaunch": false,
    "category": "General purpose",
    "gpuNum": 0,
    "hideHardwareSpecs": false,
    "memoryGiB": 256,
    "name": "ml.m5d.16xlarge",
    "vcpuNum": 64
   },
   {
    "_defaultOrder": 19,
    "_isFastLaunch": false,
    "category": "General purpose",
    "gpuNum": 0,
    "hideHardwareSpecs": false,
    "memoryGiB": 384,
    "name": "ml.m5d.24xlarge",
    "vcpuNum": 96
   },
   {
    "_defaultOrder": 20,
    "_isFastLaunch": false,
    "category": "General purpose",
    "gpuNum": 0,
    "hideHardwareSpecs": true,
    "memoryGiB": 0,
    "name": "ml.geospatial.interactive",
    "supportedImageNames": [
     "sagemaker-geospatial-v1-0"
    ],
    "vcpuNum": 0
   },
   {
    "_defaultOrder": 21,
    "_isFastLaunch": true,
    "category": "Compute optimized",
    "gpuNum": 0,
    "hideHardwareSpecs": false,
    "memoryGiB": 4,
    "name": "ml.c5.large",
    "vcpuNum": 2
   },
   {
    "_defaultOrder": 22,
    "_isFastLaunch": false,
    "category": "Compute optimized",
    "gpuNum": 0,
    "hideHardwareSpecs": false,
    "memoryGiB": 8,
    "name": "ml.c5.xlarge",
    "vcpuNum": 4
   },
   {
    "_defaultOrder": 23,
    "_isFastLaunch": false,
    "category": "Compute optimized",
    "gpuNum": 0,
    "hideHardwareSpecs": false,
    "memoryGiB": 16,
    "name": "ml.c5.2xlarge",
    "vcpuNum": 8
   },
   {
    "_defaultOrder": 24,
    "_isFastLaunch": false,
    "category": "Compute optimized",
    "gpuNum": 0,
    "hideHardwareSpecs": false,
    "memoryGiB": 32,
    "name": "ml.c5.4xlarge",
    "vcpuNum": 16
   },
   {
    "_defaultOrder": 25,
    "_isFastLaunch": false,
    "category": "Compute optimized",
    "gpuNum": 0,
    "hideHardwareSpecs": false,
    "memoryGiB": 72,
    "name": "ml.c5.9xlarge",
    "vcpuNum": 36
   },
   {
    "_defaultOrder": 26,
    "_isFastLaunch": false,
    "category": "Compute optimized",
    "gpuNum": 0,
    "hideHardwareSpecs": false,
    "memoryGiB": 96,
    "name": "ml.c5.12xlarge",
    "vcpuNum": 48
   },
   {
    "_defaultOrder": 27,
    "_isFastLaunch": false,
    "category": "Compute optimized",
    "gpuNum": 0,
    "hideHardwareSpecs": false,
    "memoryGiB": 144,
    "name": "ml.c5.18xlarge",
    "vcpuNum": 72
   },
   {
    "_defaultOrder": 28,
    "_isFastLaunch": false,
    "category": "Compute optimized",
    "gpuNum": 0,
    "hideHardwareSpecs": false,
    "memoryGiB": 192,
    "name": "ml.c5.24xlarge",
    "vcpuNum": 96
   },
   {
    "_defaultOrder": 29,
    "_isFastLaunch": true,
    "category": "Accelerated computing",
    "gpuNum": 1,
    "hideHardwareSpecs": false,
    "memoryGiB": 16,
    "name": "ml.g4dn.xlarge",
    "vcpuNum": 4
   },
   {
    "_defaultOrder": 30,
    "_isFastLaunch": false,
    "category": "Accelerated computing",
    "gpuNum": 1,
    "hideHardwareSpecs": false,
    "memoryGiB": 32,
    "name": "ml.g4dn.2xlarge",
    "vcpuNum": 8
   },
   {
    "_defaultOrder": 31,
    "_isFastLaunch": false,
    "category": "Accelerated computing",
    "gpuNum": 1,
    "hideHardwareSpecs": false,
    "memoryGiB": 64,
    "name": "ml.g4dn.4xlarge",
    "vcpuNum": 16
   },
   {
    "_defaultOrder": 32,
    "_isFastLaunch": false,
    "category": "Accelerated computing",
    "gpuNum": 1,
    "hideHardwareSpecs": false,
    "memoryGiB": 128,
    "name": "ml.g4dn.8xlarge",
    "vcpuNum": 32
   },
   {
    "_defaultOrder": 33,
    "_isFastLaunch": false,
    "category": "Accelerated computing",
    "gpuNum": 4,
    "hideHardwareSpecs": false,
    "memoryGiB": 192,
    "name": "ml.g4dn.12xlarge",
    "vcpuNum": 48
   },
   {
    "_defaultOrder": 34,
    "_isFastLaunch": false,
    "category": "Accelerated computing",
    "gpuNum": 1,
    "hideHardwareSpecs": false,
    "memoryGiB": 256,
    "name": "ml.g4dn.16xlarge",
    "vcpuNum": 64
   },
   {
    "_defaultOrder": 35,
    "_isFastLaunch": false,
    "category": "Accelerated computing",
    "gpuNum": 1,
    "hideHardwareSpecs": false,
    "memoryGiB": 61,
    "name": "ml.p3.2xlarge",
    "vcpuNum": 8
   },
   {
    "_defaultOrder": 36,
    "_isFastLaunch": false,
    "category": "Accelerated computing",
    "gpuNum": 4,
    "hideHardwareSpecs": false,
    "memoryGiB": 244,
    "name": "ml.p3.8xlarge",
    "vcpuNum": 32
   },
   {
    "_defaultOrder": 37,
    "_isFastLaunch": false,
    "category": "Accelerated computing",
    "gpuNum": 8,
    "hideHardwareSpecs": false,
    "memoryGiB": 488,
    "name": "ml.p3.16xlarge",
    "vcpuNum": 64
   },
   {
    "_defaultOrder": 38,
    "_isFastLaunch": false,
    "category": "Accelerated computing",
    "gpuNum": 8,
    "hideHardwareSpecs": false,
    "memoryGiB": 768,
    "name": "ml.p3dn.24xlarge",
    "vcpuNum": 96
   },
   {
    "_defaultOrder": 39,
    "_isFastLaunch": false,
    "category": "Memory Optimized",
    "gpuNum": 0,
    "hideHardwareSpecs": false,
    "memoryGiB": 16,
    "name": "ml.r5.large",
    "vcpuNum": 2
   },
   {
    "_defaultOrder": 40,
    "_isFastLaunch": false,
    "category": "Memory Optimized",
    "gpuNum": 0,
    "hideHardwareSpecs": false,
    "memoryGiB": 32,
    "name": "ml.r5.xlarge",
    "vcpuNum": 4
   },
   {
    "_defaultOrder": 41,
    "_isFastLaunch": false,
    "category": "Memory Optimized",
    "gpuNum": 0,
    "hideHardwareSpecs": false,
    "memoryGiB": 64,
    "name": "ml.r5.2xlarge",
    "vcpuNum": 8
   },
   {
    "_defaultOrder": 42,
    "_isFastLaunch": false,
    "category": "Memory Optimized",
    "gpuNum": 0,
    "hideHardwareSpecs": false,
    "memoryGiB": 128,
    "name": "ml.r5.4xlarge",
    "vcpuNum": 16
   },
   {
    "_defaultOrder": 43,
    "_isFastLaunch": false,
    "category": "Memory Optimized",
    "gpuNum": 0,
    "hideHardwareSpecs": false,
    "memoryGiB": 256,
    "name": "ml.r5.8xlarge",
    "vcpuNum": 32
   },
   {
    "_defaultOrder": 44,
    "_isFastLaunch": false,
    "category": "Memory Optimized",
    "gpuNum": 0,
    "hideHardwareSpecs": false,
    "memoryGiB": 384,
    "name": "ml.r5.12xlarge",
    "vcpuNum": 48
   },
   {
    "_defaultOrder": 45,
    "_isFastLaunch": false,
    "category": "Memory Optimized",
    "gpuNum": 0,
    "hideHardwareSpecs": false,
    "memoryGiB": 512,
    "name": "ml.r5.16xlarge",
    "vcpuNum": 64
   },
   {
    "_defaultOrder": 46,
    "_isFastLaunch": false,
    "category": "Memory Optimized",
    "gpuNum": 0,
    "hideHardwareSpecs": false,
    "memoryGiB": 768,
    "name": "ml.r5.24xlarge",
    "vcpuNum": 96
   },
   {
    "_defaultOrder": 47,
    "_isFastLaunch": false,
    "category": "Accelerated computing",
    "gpuNum": 1,
    "hideHardwareSpecs": false,
    "memoryGiB": 16,
    "name": "ml.g5.xlarge",
    "vcpuNum": 4
   },
   {
    "_defaultOrder": 48,
    "_isFastLaunch": false,
    "category": "Accelerated computing",
    "gpuNum": 1,
    "hideHardwareSpecs": false,
    "memoryGiB": 32,
    "name": "ml.g5.2xlarge",
    "vcpuNum": 8
   },
   {
    "_defaultOrder": 49,
    "_isFastLaunch": false,
    "category": "Accelerated computing",
    "gpuNum": 1,
    "hideHardwareSpecs": false,
    "memoryGiB": 64,
    "name": "ml.g5.4xlarge",
    "vcpuNum": 16
   },
   {
    "_defaultOrder": 50,
    "_isFastLaunch": false,
    "category": "Accelerated computing",
    "gpuNum": 1,
    "hideHardwareSpecs": false,
    "memoryGiB": 128,
    "name": "ml.g5.8xlarge",
    "vcpuNum": 32
   },
   {
    "_defaultOrder": 51,
    "_isFastLaunch": false,
    "category": "Accelerated computing",
    "gpuNum": 1,
    "hideHardwareSpecs": false,
    "memoryGiB": 256,
    "name": "ml.g5.16xlarge",
    "vcpuNum": 64
   },
   {
    "_defaultOrder": 52,
    "_isFastLaunch": false,
    "category": "Accelerated computing",
    "gpuNum": 4,
    "hideHardwareSpecs": false,
    "memoryGiB": 192,
    "name": "ml.g5.12xlarge",
    "vcpuNum": 48
   },
   {
    "_defaultOrder": 53,
    "_isFastLaunch": false,
    "category": "Accelerated computing",
    "gpuNum": 4,
    "hideHardwareSpecs": false,
    "memoryGiB": 384,
    "name": "ml.g5.24xlarge",
    "vcpuNum": 96
   },
   {
    "_defaultOrder": 54,
    "_isFastLaunch": false,
    "category": "Accelerated computing",
    "gpuNum": 8,
    "hideHardwareSpecs": false,
    "memoryGiB": 768,
    "name": "ml.g5.48xlarge",
    "vcpuNum": 192
   },
   {
    "_defaultOrder": 55,
    "_isFastLaunch": false,
    "category": "Accelerated computing",
    "gpuNum": 8,
    "hideHardwareSpecs": false,
    "memoryGiB": 1152,
    "name": "ml.p4d.24xlarge",
    "vcpuNum": 96
   },
   {
    "_defaultOrder": 56,
    "_isFastLaunch": false,
    "category": "Accelerated computing",
    "gpuNum": 8,
    "hideHardwareSpecs": false,
    "memoryGiB": 1152,
    "name": "ml.p4de.24xlarge",
    "vcpuNum": 96
   },
   {
    "_defaultOrder": 57,
    "_isFastLaunch": false,
    "category": "Accelerated computing",
    "gpuNum": 0,
    "hideHardwareSpecs": false,
    "memoryGiB": 32,
    "name": "ml.trn1.2xlarge",
    "vcpuNum": 8
   },
   {
    "_defaultOrder": 58,
    "_isFastLaunch": false,
    "category": "Accelerated computing",
    "gpuNum": 0,
    "hideHardwareSpecs": false,
    "memoryGiB": 512,
    "name": "ml.trn1.32xlarge",
    "vcpuNum": 128
   },
   {
    "_defaultOrder": 59,
    "_isFastLaunch": false,
    "category": "Accelerated computing",
    "gpuNum": 0,
    "hideHardwareSpecs": false,
    "memoryGiB": 512,
    "name": "ml.trn1n.32xlarge",
    "vcpuNum": 128
   }
  ],
  "instance_type": "ml.t3.medium",
  "kernelspec": {
   "display_name": "Python 3",
   "language": "python",
   "name": "python3"
  },
  "language_info": {
   "codemirror_mode": {
    "name": "ipython",
    "version": 3
   },
   "file_extension": ".py",
   "mimetype": "text/x-python",
   "name": "python",
   "nbconvert_exporter": "python",
   "pygments_lexer": "ipython3",
   "version": "3.11.9"
  }
 },
 "nbformat": 4,
 "nbformat_minor": 5
}
