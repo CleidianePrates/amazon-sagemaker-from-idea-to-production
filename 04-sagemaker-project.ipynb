{
 "cells": [
  {
   "cell_type": "markdown",
   "id": "6eb825bb-e3c2-4838-b73c-528e1fc25735",
   "metadata": {},
   "source": [
    "# Etapa 4: Adicionar um pipeline de CI/CD de implantação de modelos\n",
    "\n",
    "\n",
    "Nesta etapa, você cria um pipeline de CI/CD automatizado para construção de modelos usando [Amazon SageMaker Projects](https://docs.aws.amazon.com/sagemaker/latest/dg/sagemaker-projects.html).\n",
    "\n",
    "![](img/seis-etapas-4.png)\n",
    "\n",
    "Você vai usar um [template de projeto MLOps fornecido pelo SageMaker para construção e treinamento de modelos](https://docs.aws.amazon.com/sagemaker/latest/dg/sagemaker-projects-templates-sm.html#sagemaker-projects-templates-code-commit) para provisionar uma automação de fluxo de trabalho de CI/CD com [AWS CodePipeline](https://aws.amazon.com/codepipeline/) e um repositório de código [AWS CodeCommit](https://aws.amazon.com/codecommit/).\n",
    "\n",
    "Os templates de projeto do SageMaker oferecem as seguintes opções de repositórios de código, ferramentas de automação de fluxo de trabalho e estágios de pipeline:\n",
    "- **Repositório de código**: AWS CodeCommit ou repositórios Git de terceiros como GitHub e Bitbucket\n",
    "- **Automação de fluxo de trabalho de CI/CD**: AWS CodePipeline ou Jenkins\n",
    "- **Estágios do pipeline**: Construção e treinamento de modelos, implantação de modelos ou ambos"
   ]
  },
  {
   "cell_type": "markdown",
   "id": "e4460e1c-54dd-4131-8ea1-b64c87d1bf81",
   "metadata": {
    "tags": []
   },
   "source": [
    "<div class=\"alert alert-info\"> Certifique-se de estar usando o kernel <code>Python 3</code> no JupyterLab para este notebook.</div>"
   ]
  },
  {
   "cell_type": "code",
   "execution_count": 1,
   "id": "6dd9b907",
   "metadata": {},
   "outputs": [
    {
     "name": "stdout",
     "output_type": "stream",
     "text": [
      "sagemaker.config INFO - Not applying SDK defaults from location: /etc/xdg/sagemaker/config.yaml\n",
      "sagemaker.config INFO - Fetched defaults config from location: /home/sagemaker-user/.config/sagemaker/config.yaml\n"
     ]
    }
   ],
   "source": [
    "import boto3\n",
    "import sagemaker \n",
    "from time import gmtime, strftime, sleep"
   ]
  },
  {
   "cell_type": "code",
   "execution_count": 2,
   "id": "15e28ac0",
   "metadata": {},
   "outputs": [
    {
     "name": "stdout",
     "output_type": "stream",
     "text": [
      "Stored variables and their in-db values:\n",
      "baseline_s3_url                         -> 's3://sagemaker-us-east-1-533267005474/from-idea-t\n",
      "bucket_name                             -> 'sagemaker-us-east-1-533267005474'\n",
      "bucket_prefix                           -> 'from-idea-to-prod/xgboost'\n",
      "dataset_feature_group_name              -> 'from-idea-to-prod-15-02-45-15'\n",
      "dataset_file_local_path                 -> 'data/bank-additional/bank-additional-full.csv'\n",
      "domain_id                               -> 'd-j2g52sky4w9s'\n",
      "evaluation_s3_url                       -> 's3://sagemaker-us-east-1-533267005474/from-idea-t\n",
      "experiment_name                         -> 'from-idea-to-prod-experiment-15-03-26-12'\n",
      "feature_store_bucket_prefix             -> 'from-idea-to-prod/feature-store'\n",
      "initialized                             -> True\n",
      "input_s3_url                            -> 's3://sagemaker-us-east-1-533267005474/from-idea-t\n",
      "mlflow_arn                              -> 'arn:aws:sagemaker:us-east-1:533267005474:mlflow-t\n",
      "mlflow_name                             -> 'mlflow-d-j2g52sky4w9s-14-22-19-50'\n",
      "model_package_group_name                -> 'from-idea-to-prod-pipeline-model-15-02-08-59'\n",
      "output_s3_url                           -> 's3://sagemaker-us-east-1-533267005474/from-idea-t\n",
      "pipeline_name                           -> 'from-idea-to-prod-pipeline-15-02-08-59'\n",
      "prediction_baseline_s3_url              -> 's3://sagemaker-us-east-1-533267005474/from-idea-t\n",
      "region                                  -> 'us-east-1'\n",
      "sm_role                                 -> 'arn:aws:iam::533267005474:role/service-role/Amazo\n",
      "space_name                              -> 'MLOpsCodeSpace'\n",
      "target_col                              -> 'y'\n",
      "test_s3_url                             -> 's3://sagemaker-us-east-1-533267005474/from-idea-t\n",
      "train_s3_url                            -> 's3://sagemaker-us-east-1-533267005474/from-idea-t\n",
      "training_job_name                       -> 'from-idea-to-prod-training-2024-10-15-00-12-17-54\n",
      "user_profile_name                       -> 'default-20241011T175458'\n",
      "validation_s3_url                       -> 's3://sagemaker-us-east-1-533267005474/from-idea-t\n"
     ]
    }
   ],
   "source": [
    "%store -r \n",
    "\n",
    "%store\n",
    "\n",
    "try:\n",
    "    initialized\n",
    "except NameError:\n",
    "    print(\"+++++++++++++++++++++++++++++++++++++++++++++++++\")\n",
    "    print(\"[ERRO] VOCÊ PRECISA EXECUTAR o notebook 00-inicie-aqui\")\n",
    "    print(\"+++++++++++++++++++++++++++++++++++++++++++++++++\")\n"
   ]
  },
  {
   "cell_type": "code",
   "execution_count": 3,
   "id": "ceeab4df-a741-4b5d-893b-637a558d5cfa",
   "metadata": {},
   "outputs": [],
   "source": [
    "%load_ext autoreload\n",
    "%autoreload 2"
   ]
  },
  {
   "cell_type": "markdown",
   "id": "aaeaa68c-a2aa-4da5-8577-42d7dff2067a",
   "metadata": {},
   "source": [
    "## Criar um projeto MLOps\n",
    "⭐ Você pode criar um projeto programaticamente neste notebook - **Opção 1** ou na interface do Studio - **Opção 2**.\n",
    "\n",
    "A Opção 1 é recomendada, pois não requer entrada manual e não tem dependência da interface do usuário.</br>\n",
    "A Opção 2 é fornecida para demonstrar o [fluxo da interface do usuário **Criar Projeto**](https://docs.aws.amazon.com/sagemaker/latest/dg/sagemaker-projects-create.html)."
   ]
  },
  {
   "cell_type": "markdown",
   "id": "cd7061c4-b0f5-48a9-999c-1b0b84c8a4b9",
   "metadata": {},
   "source": [
    "### Opção 1: Criar projeto programaticamente\n",
    "Nesta seção, você usa o `boto3` para criar um projeto MLOps através da API do SageMaker."
   ]
  },
  {
   "cell_type": "code",
   "execution_count": 4,
   "id": "1002ef46-7906-44fe-a874-78c3607d827a",
   "metadata": {
    "tags": []
   },
   "outputs": [],
   "source": [
    "sm = boto3.client(\"sagemaker\")\n",
    "sc = boto3.client(\"servicecatalog\")\n",
    "\n",
    "sc_provider_name = \"Amazon SageMaker\"\n",
    "sc_product_name = \"MLOps template for model building and training\""
   ]
  },
  {
   "cell_type": "code",
   "execution_count": 5,
   "id": "a30b2c04-8c60-4f67-abef-284e47072110",
   "metadata": {
    "tags": []
   },
   "outputs": [],
   "source": [
    "p_ids = [p['ProductId'] for p in sc.search_products(\n",
    "    Filters={\n",
    "        'FullTextSearch': [sc_product_name]\n",
    "    },\n",
    ")['ProductViewSummaries'] if p[\"Name\"]==sc_product_name]"
   ]
  },
  {
   "cell_type": "code",
   "execution_count": 6,
   "id": "579caafe-27c5-4a82-84c4-f364675ca7c7",
   "metadata": {
    "tags": []
   },
   "outputs": [
    {
     "data": {
      "text/plain": [
       "['prod-53ibyqbj2cgmo']"
      ]
     },
     "execution_count": 6,
     "metadata": {},
     "output_type": "execute_result"
    }
   ],
   "source": [
    "p_ids"
   ]
  },
  {
   "cell_type": "code",
   "execution_count": 7,
   "id": "2cef972c-ff89-49fb-a498-35f8a4768d25",
   "metadata": {
    "tags": []
   },
   "outputs": [
    {
     "name": "stdout",
     "output_type": "stream",
     "text": [
      "ID do produto ML Ops: prod-53ibyqbj2cgmo\n"
     ]
    }
   ],
   "source": [
    "# Se você receber qualquer exceção deste código, vá para a Opção 2 e crie um projeto na interface do Studio\n",
    "if not len(p_ids):\n",
    "    raise Exception(\"Nenhum produto Amazon SageMaker MLOps encontrado!\")\n",
    "elif len(p_ids) > 1:\n",
    "    raise Exception(\"Muitos produtos Amazon SageMaker MLOps correspondentes encontrados!\")\n",
    "else:\n",
    "    product_id = p_ids[0]\n",
    "    print(f\"ID do produto ML Ops: {product_id}\")"
   ]
  },
  {
   "cell_type": "code",
   "execution_count": 8,
   "id": "8b51c8dc-57e7-4ff1-a137-3f4e93d9594c",
   "metadata": {
    "tags": []
   },
   "outputs": [],
   "source": [
    "provisioning_artifact_id = sorted(\n",
    "    [i for i in sc.list_provisioning_artifacts(\n",
    "        ProductId=product_id\n",
    "    )['ProvisioningArtifactDetails'] if i['Guidance']=='DEFAULT'],\n",
    "    key=lambda d: d['Name'], reverse=True)[0]['Id']"
   ]
  },
  {
   "cell_type": "code",
   "execution_count": 9,
   "id": "f65aa4b1-c848-45ce-9f51-b5c4b70175b1",
   "metadata": {
    "tags": []
   },
   "outputs": [
    {
     "data": {
      "text/plain": [
       "'pa-dxonbcmsdfyq6'"
      ]
     },
     "execution_count": 9,
     "metadata": {},
     "output_type": "execute_result"
    }
   ],
   "source": [
    "provisioning_artifact_id"
   ]
  },
  {
   "cell_type": "code",
   "execution_count": 10,
   "id": "ed952193-a0cf-48c8-b776-351f6452adc8",
   "metadata": {
    "tags": []
   },
   "outputs": [],
   "source": [
    "project_name = f\"model-build-{strftime('%m-%d-%H-%M-%S', gmtime())}\"\n",
    "project_parameters = [] # Este modelo de projeto integrado do SageMaker não tem parâmetros"
   ]
  },
  {
   "cell_type": "markdown",
   "id": "22e7f228-8ca1-4c93-8131-8901acf75165",
   "metadata": {},
   "source": [
    "Por fim, crie um projeto SageMaker a partir do modelo de produto do catálogo de serviços:"
   ]
  },
  {
   "cell_type": "code",
   "execution_count": 11,
   "id": "60a62e79",
   "metadata": {},
   "outputs": [
    {
     "name": "stdout",
     "output_type": "stream",
     "text": [
      "{'ProjectArn': 'arn:aws:sagemaker:us-east-1:533267005474:project/model-build-10-15-04-05-48', 'ProjectId': 'p-lcexwhfupbld', 'ResponseMetadata': {'RequestId': '2f19a1ab-ed45-4b85-8470-cd2e43679741', 'HTTPStatusCode': 200, 'HTTPHeaders': {'x-amzn-requestid': '2f19a1ab-ed45-4b85-8470-cd2e43679741', 'content-type': 'application/x-amz-json-1.1', 'content-length': '121', 'date': 'Tue, 15 Oct 2024 04:05:48 GMT'}, 'RetryAttempts': 0}}\n"
     ]
    }
   ],
   "source": [
    "# criar projeto SageMaker\n",
    "r = sm.create_project(\n",
    "    ProjectName=project_name,\n",
    "    ProjectDescription=\"Model build project\",\n",
    "    ServiceCatalogProvisioningDetails={\n",
    "        'ProductId': product_id,\n",
    "        'ProvisioningArtifactId': provisioning_artifact_id,\n",
    "    },\n",
    ")\n",
    "\n",
    "print(r)\n",
    "project_id = r[\"ProjectId\"]"
   ]
  },
  {
   "cell_type": "markdown",
   "id": "a82b313e-9025-42cb-8f7a-a617ed771e3e",
   "metadata": {},
   "source": [
    "<div class=\"alert alert-info\"> 💡 <strong> Aguarde até que a criação do projeto seja concluída executando a próxima célula</strong>\n",
    "</div>\n",
    "\n"
   ]
  },
  {
   "cell_type": "markdown",
   "id": "0afc704f",
   "metadata": {},
   "source": [
    "<svg width=\"800\" height=\"125\" viewBox=\"0 0 800 125\" xmlns=\"http://www.w3.org/2000/svg\">\n",
    "    <defs>\n",
    "        <linearGradient id=\"fadeGradient\" x1=\"0\" x2=\"1\">\n",
    "            <stop offset=\"0%\" stop-color=\"#F0F0F0\"/>\n",
    "            <stop offset=\"100%\" stop-color=\"#F0F0F0\" stop-opacity=\"0\"/>\n",
    "        </linearGradient>\n",
    "        <mask id=\"fadeMask\">\n",
    "            <rect x=\"0\" y=\"0\" width=\"750\" height=\"125\" fill=\"white\"/>\n",
    "            <rect x=\"750\" y=\"0\" width=\"50\" height=\"125\" fill=\"url(#fadeGradient)\"/>\n",
    "        </mask>\n",
    "    </defs>\n",
    "    <path d=\"M3,50 A50,50 0 0 1 53,3 L797,3 L797,97 L97,97 L50,115 L3,97 Z\" fill=\"#F0F0F0\" stroke=\"#E0E0E0\" stroke-width=\"1\" mask=\"url(#fadeMask)\"/>\n",
    "    <circle cx=\"50\" cy=\"50\" r=\"30\" fill=\"#57c4f8\" stroke=\"#57c4f8\" stroke-width=\"1\"/>\n",
    "    <circle cx=\"50\" cy=\"50\" r=\"25\" fill=\"#F0F0F0\"/>\n",
    "    <line x1=\"50\" y1=\"50\" x2=\"50\" y2=\"30\" stroke=\"#57c4f8\" stroke-width=\"3\" stroke-linecap=\"round\"/>\n",
    "    <line x1=\"50\" y1=\"50\" x2=\"65\" y2=\"50\" stroke=\"#57c4f8\" stroke-width=\"3\" stroke-linecap=\"round\"/>\n",
    "    <text x=\"100\" y=\"34\" font-family=\"Arial, sans-serif\" font-size=\"14\" fill=\"#333333\">A próxima célula pode levar alguns minutos para executar.</text>\n",
    "</svg>"
   ]
  },
  {
   "cell_type": "code",
   "execution_count": 12,
   "id": "3729a00f",
   "metadata": {},
   "outputs": [
    {
     "name": "stdout",
     "output_type": "stream",
     "text": [
      "Aguardando a conclusão da criação do projeto\n",
      "Aguardando a conclusão da criação do projeto\n",
      "Aguardando a conclusão da criação do projeto\n",
      "Aguardando a conclusão da criação do projeto\n",
      "Aguardando a conclusão da criação do projeto\n",
      "Aguardando a conclusão da criação do projeto\n",
      "Aguardando a conclusão da criação do projeto\n",
      "Aguardando a conclusão da criação do projeto\n",
      "Aguardando a conclusão da criação do projeto\n",
      "Aguardando a conclusão da criação do projeto\n",
      "Aguardando a conclusão da criação do projeto\n",
      "Criação do projecto MLOps model-build-10-15-04-05-48 completado\n"
     ]
    }
   ],
   "source": [
    "# A criação do projeto leva de 3 a 5 minutos\n",
    "while sm.describe_project(ProjectName=project_name)['ProjectStatus'] != 'CreateCompleted':\n",
    "    print(\"Aguardando a conclusão da criação do projeto\")\n",
    "    sleep(10)\n",
    "    \n",
    "print(f\"Criação do projecto MLOps {project_name} completado\")"
   ]
  },
  {
   "cell_type": "markdown",
   "id": "58ee7720",
   "metadata": {},
   "source": [
    "<img src=\"data:image/svg+xml;base64,Cjxzdmcgd2lkdGg9IjgwMCIgaGVpZ2h0PSI1MCIgdmlld0JveD0iMCAwIDgwMCA1MCIgeG1sbnM9Imh0dHA6Ly93d3cudzMub3JnLzIwMDAvc3ZnIj4KICAgIDxkZWZzPgogICAgICAgIDxsaW5lYXJHcmFkaWVudCBpZD0iZmFkZUdyYWRpZW50IiB4MT0iMCIgeDI9IjEiPgogICAgICAgICAgICA8c3RvcCBvZmZzZXQ9IjAlIiBzdG9wLWNvbG9yPSIjRjBGMEYwIi8+CiAgICAgICAgICAgIDxzdG9wIG9mZnNldD0iMTAwJSIgc3RvcC1jb2xvcj0iI0YwRjBGMCIgc3RvcC1vcGFjaXR5PSIwIi8+CiAgICAgICAgPC9saW5lYXJHcmFkaWVudD4KICAgICAgICA8bWFzayBpZD0iZmFkZU1hc2siPgogICAgICAgICAgICA8cmVjdCB4PSIwIiB5PSIwIiB3aWR0aD0iNzUwIiBoZWlnaHQ9IjUwIiBmaWxsPSJ3aGl0ZSIvPgogICAgICAgICAgICA8cmVjdCB4PSI3NTAiIHk9IjAiIHdpZHRoPSI1MCIgaGVpZ2h0PSI1MCIgZmlsbD0idXJsKCNmYWRlR3JhZGllbnQpIi8+CiAgICAgICAgPC9tYXNrPgogICAgPC9kZWZzPgogICAgPHBhdGggZD0iTTI1LDUwIFEwLDUwIDAsMjUgTDUwLDMgTDk3LDI1IEw3OTcsMjUgTDc5Nyw1MCBMMjUsNTAgWiIgZmlsbD0iI0YwRjBGMCIgc3Ryb2tlPSIjRTBFMEUwIiBzdHJva2Utd2lkdGg9IjEiIG1hc2s9InVybCgjZmFkZU1hc2spIi8+Cjwvc3ZnPgo=\" alt=\"Time alert close\"/>"
   ]
  },
  {
   "cell_type": "markdown",
   "id": "54b2bb29-1051-4ad4-a050-c5366e018f74",
   "metadata": {},
   "source": [
    "### Fim da Opção 1: Criar projeto programaticamente\n",
    "Agora você provisionou um modelo de projeto em seu ambiente SageMaker. Navegue até a seção **Configurar o projeto MLOps**."
   ]
  },
  {
   "cell_type": "markdown",
   "id": "7792b450-40ea-47f8-9449-528148ae43f5",
   "metadata": {},
   "source": [
    "Opção 2: Criar um projeto na interface do Studio\n",
    "<div class=\"alert alert-info\"> 💡 <strong> Pule esta seção se você criou um projeto programaticamente </strong>"
   ]
  },
  {
   "cell_type": "markdown",
   "id": "26a0bcfd-94e3-4892-8199-6ca06593c0af",
   "metadata": {},
   "source": [
    "Siga as instruções no Guia do Desenvolvedor – [Criar um Projeto MLOps usando Amazon SageMaker Studio ou Studio Classic](https://docs.aws.amazon.com/sagemaker/latest/dg/sagemaker-projects-create.html). Escolha a opção **Studio**.\n",
    "\n",
    "Para o modelo, escolha **Construção e treinamento de modelo**.\n",
    "Nos **Detalhes do projeto**, você precisa fornecer um nome e uma descrição opcional do projeto. Este modelo não tem nenhum parâmetro.\n",
    "\n",
    "Escolha **Criar** e aguarde até que o projeto apareça na lista de Projetos."
   ]
  },
  {
   "cell_type": "markdown",
   "id": "19f8a881-3e06-4497-8dce-e73dc6923ce4",
   "metadata": {},
   "source": [
    "### Resolver problemas com a criação do projeto\n",
    "\n",
    "#### Processo de criação do projeto preso em pendente\n",
    "Se após 5 minutos o banner de criação do projeto ainda estiver ativo, feche a janela do navegador do Studio e faça login no Studio novamente.\n",
    "\n",
    "![](img/project-creation-pending.png)\n",
    "\n",
    "#### Mensagens de erro\n",
    "❗ Se você ver uma mensagem de erro semelhante a:\n",
    "```\n",
    "Seu projeto não pôde ser criado\n",
    "O Studio encontrou um erro ao criar seu projeto. Tente criar o projeto novamente.\n",
    "\n",
    "O CodeBuild não está autorizado a realizar: sts:AssumeRole em arn:aws:iam::XXXX:role/service-role/AmazonSageMakerServiceCatalogProductsCodeBuildRole (Serviço: AWSCodeBuild; Código de Status: 400; Código de Erro: InvalidInputException; ID da Solicitação: 4cf59a54-0c59-476a-a970-0ac656db4402; Proxy: null)\n",
    "```\n",
    "\n",
    "veja os passos 5-6 de [Permissões do SageMaker Studio Necessárias para Usar Projetos](https://docs.aws.amazon.com/sagemaker/latest/dg/sagemaker-projects-studio-updates.html). Certifique-se de que você tem todas as funções de projeto necessárias listadas no cartão **Apps** sob **Projects**.\n",
    "\n",
    "Alternativamente, você pode criar as funções necessárias usando o modelo CloudFormation fornecido [`cfn-templates/sagemaker-project-templates-roles.yaml`](cfn-templates/sagemaker-project-templates-roles.yaml).\n",
    "Execute no diretório clone do repositório a partir do terminal de linha de comando onde você tem as permissões correspondentes:\n",
    "\n",
    "```sh\n",
    "aws cloudformation deploy \\\n",
    "    --template-file cfn-templates/sagemaker-project-templates-roles.yaml \\\n",
    "    --stack-name sagemaker-project-template-roles \\\n",
    "    --capabilities CAPABILITY_IAM CAPABILITY_NAMED_IAM \\\n",
    "    --parameter-overrides \\\n",
    "    CreateCloudFormationRole=YES \\\n",
    "    CreateCodeBuildRole=YES \\\n",
    "    CreateCodePipelineRole=YES \\\n",
    "    CreateEventsRole=YES \\\n",
    "    CreateProductsExecutionRole=YES "
   ]
  },
  {
   "cell_type": "markdown",
   "id": "d0675444-29b3-4db6-bf0c-cfec72426c41",
   "metadata": {},
   "source": [
    "### Fim da Opção 2: Criar um projeto na interface do Studio\n",
    "Agora que você criou o projeto, passe para a seção **Configurar o projeto MLOps**.\n",
    "\n",
    "---"
   ]
  },
  {
   "cell_type": "markdown",
   "id": "976166a9-0769-4db8-924d-270b25d91acb",
   "metadata": {},
   "source": [
    "\n",
    "## Configurar o projeto MLOps\n",
    "O projeto executa automaticamente um pipeline de construção de modelo padrão fornecido assim que é criado. Este pipeline é um exemplo de espaço reservado no projeto para seu próprio pipeline personalizado. Ignore o pipeline padrão por enquanto.\n",
    "Os modelos de projeto implantam a seguinte arquitetura em sua conta AWS:\n",
    "\n",
    "![](img/mlops-model-build-train.png)\n",
    "\n",
    "\n",
    "Os principais componentes são:\n",
    "1. O modelo de projeto é disponibilizado através dos Projetos SageMaker e do portfólio do AWS Service Catalog\n",
    "2. Um pipeline do CodePipeline com dois estágios - `Source` para baixar o código-fonte de um repositório CodeCommit e `Build` para criar e executar um pipeline SageMaker\n",
    "3. Um pipeline SageMaker padrão com workflow (fluxo de trabalho) de construção, treinamento e registro de modelo (model build, train, and register workflow)\n",
    "4. Um repositório de código inicial no CodeCommit com uma versão padrão fornecida de um código de espaço reservado"
   ]
  },
  {
   "cell_type": "markdown",
   "id": "7edd547c-b9ec-4902-b798-2e4ac6cae2c1",
   "metadata": {},
   "source": [
    "Este projeto contém todo o código necessário e a infraestrutura para implementar um pipeline de CI/CD automatizado a partir de um modelo predefinido.\n",
    "Para começar a usar o projeto com seu pipeline, você precisa completar os seguintes passos:\n",
    "1. Clonar o repositório CodeCommit do projeto para o volume EBS do seu notebook\n",
    "2. Substituir o código de amostra do modelo de pipeline ML pelo seu código real de construção do pipeline, conforme implementado no notebook do passo 3\n",
    "3. Modificar o arquivo `codebuild-buildspec.yml` para referenciar o nome correto do módulo Python e definir os parâmetros do projeto\n",
    "\n",
    "As próximas seções guiarão você através destes passos. Para instruções detalhadas e um exemplo prático, consulte o guia de desenvolvimento [Passo a Passo do Projeto MLOps do SageMaker](https://docs.aws.amazon.com/sagemaker/latest/dg/sagemaker-projects-walkthrough.html).\n",
    "\n",
    "Se você usou a opção 1 `boto3` para criar um projeto MLOps, o `project_name` e o `project_id` são definidos automaticamente. Você pode executar a seguinte célula de código para imprimir os valores. Se você seguiu as instruções da interface do usuário para criar um projeto, você deve definir o `project_name` manualmente."
   ]
  },
  {
   "cell_type": "code",
   "execution_count": 13,
   "id": "8dd25ba8",
   "metadata": {},
   "outputs": [
    {
     "name": "stdout",
     "output_type": "stream",
     "text": [
      "model-build-10-15-04-05-48\n",
      "p-lcexwhfupbld\n"
     ]
    }
   ],
   "source": [
    "try:\n",
    "    print(project_name)\n",
    "    print(project_id)\n",
    "except NameError:\n",
    "    print(\"+++++++++++++++++++++++++++++++++++++++++++++++++++++++++++++++++\")\n",
    "    print(\"Você deve definir o project_name manualmente na célula de código a seguir\")\n",
    "    print(\"+++++++++++++++++++++++++++++++++++++++++++++++++++++++++++++++++\")"
   ]
  },
  {
   "cell_type": "code",
   "execution_count": 14,
   "id": "85acb263",
   "metadata": {},
   "outputs": [
    {
     "name": "stdout",
     "output_type": "stream",
     "text": [
      "Pasta do projeto: sagemaker-model-build-10-15-04-05-48-p-lcexwhfupbld-modelbuild\n",
      "URL do repositório do projeto: codecommit::us-east-1://sagemaker-model-build-10-15-04-05-48-p-lcexwhfupbld-modelbuild\n"
     ]
    }
   ],
   "source": [
    "# project_name = \"<INSIRA O NOME DO PROJETO CRIADO>\" # Mantenha comentado se você usou a opção 1 para criar um projeto\n",
    "r = sm.describe_project(ProjectName=project_name)\n",
    "project_id = r['ProjectId']\n",
    "project_arn = r['ProjectArn']\n",
    "project_folder = f\"sagemaker-{project_name}-{project_id}-modelbuild\"\n",
    "project_repo_url = f\"codecommit::{region}://sagemaker-{project_name}-{project_id}-modelbuild\"\n",
    "\n",
    "print(f\"Pasta do projeto: {project_folder}\")\n",
    "print(f\"URL do repositório do projeto: {project_repo_url}\")"
   ]
  },
  {
   "cell_type": "markdown",
   "id": "e398fd92-8e76-43a0-9b61-3bb5291d880f",
   "metadata": {
    "tags": []
   },
   "source": [
    "### 1. Clone o código inicial do projeto para o sistema de arquivos do JupyterLab\n",
    "Você precisa clonar o código do projeto do repositório CodeCommit usando o terminal CLI.\n",
    "\n",
    "1. Abra uma nova janela de terminal via **Arquivo** > **Novo** > **Terminal**\n",
    "2. Instale o auxiliar `git-remote-codecommit`: ```pip install git-remote-codecommit```\n",
    "3. Clone o repositório do projeto: ```git clone <URL DO REPOSITÓRIO DO PROJETO>```. Substitua `<URL DO REPOSITÓRIO DO PROJETO>` pela URL real do repositório do projeto obtida na célula de código acima."
   ]
  },
  {
   "cell_type": "markdown",
   "id": "ccfe9536-fd10-4b43-9d63-bfc01090afa7",
   "metadata": {},
   "source": [
    "### 2. Substituir o código de construção do pipeline\n"
   ]
  },
  {
   "cell_type": "markdown",
   "id": "2982e5ab-98d0-4c44-b1c5-32dffbc1a4e3",
   "metadata": {},
   "source": [
    "Os seguintes passos são necessários para personalizar o projeto que contém o código do modelo. A próxima célula de código executa todos os passos necessários, você não precisa fazer nada manualmente. O texto a seguir é apenas para sua informação.\n",
    "\n",
    "- O código-fonte está na pasta `sagemaker-<nome-do-projeto>-<id-do-projeto>-modelbuild`.\n",
    "- O arquivo original `codebuild-buildspec.yml` é renomeado para `codebuild-buildspec-original.yml`.\n",
    "- A pasta do repositório de código do projeto contendo o código do pipeline é renomeada de `abalone` para `fromideatoprod`.\n",
    "- O arquivo original com o pipeline modelo `pipeline.py` é renomeado para `pipeline-original.py`.\n",
    "- Os módulos Python `pipeline_steps` são copiados para a pasta `pipelines` no diretório do repositório de código do projeto.\n",
    "- O arquivo `requirements.txt` criado no notebook 3 é copiado para a pasta `pipelines` no diretório do repositório de código do projeto.\n",
    "- O arquivo de configuração padrão do SDK Python do SageMaker `config.yaml` do notebook 3 é copiado para a pasta `pipelines` no diretório do repositório de código do projeto."
   ]
  },
  {
   "cell_type": "code",
   "execution_count": 15,
   "id": "34bf23b4-0635-4303-8682-98d0543af2ed",
   "metadata": {
    "tags": []
   },
   "outputs": [
    {
     "name": "stdout",
     "output_type": "stream",
     "text": [
      "/home/sagemaker-user/aws-mlops-sagemaker-do-inicio-ao-fim\n"
     ]
    }
   ],
   "source": [
    "# ver o nome da pasta desse treinamento\n",
    "!pwd"
   ]
  },
  {
   "cell_type": "code",
   "execution_count": 16,
   "id": "0d6b5651-c5b9-466f-bc63-5a02a2f2841f",
   "metadata": {
    "tags": []
   },
   "outputs": [],
   "source": [
    "# se o caminho local para a pasta do treinamento for diferente, defina o caminho absoluto correto para a variável workshop_folder\n",
    "workshop_folder = \"amazon-sagemaker-from-idea-to-production\""
   ]
  },
  {
   "cell_type": "code",
   "execution_count": 17,
   "id": "c3e2ac0e-53fe-4e29-b362-ca4ef28aede0",
   "metadata": {
    "tags": []
   },
   "outputs": [
    {
     "name": "stdout",
     "output_type": "stream",
     "text": [
      "mv: cannot stat '/home/sagemaker-user/sagemaker-model-build-10-15-04-05-48-p-lcexwhfupbld-modelbuild/codebuild-buildspec.yml': No such file or directory\n",
      "mv: cannot stat '/home/sagemaker-user/sagemaker-model-build-10-15-04-05-48-p-lcexwhfupbld-modelbuild/pipelines/abalone': No such file or directory\n",
      "mv: cannot stat '/home/sagemaker-user/sagemaker-model-build-10-15-04-05-48-p-lcexwhfupbld-modelbuild/pipelines/fromideatoprod/pipeline.py': No such file or directory\n",
      "cp: cannot stat '/home/sagemaker-user/amazon-sagemaker-from-idea-to-production/pipeline_steps/*': No such file or directory\n",
      "cp: cannot stat '/home/sagemaker-user/amazon-sagemaker-from-idea-to-production/pipeline_steps/*': No such file or directory\n",
      "cp: cannot stat '/home/sagemaker-user/amazon-sagemaker-from-idea-to-production/requirements.txt': No such file or directory\n",
      "cp: cannot stat '/home/sagemaker-user/amazon-sagemaker-from-idea-to-production/config.yaml': No such file or directory\n"
     ]
    }
   ],
   "source": [
    "!mkdir -p ~/{workshop_folder}/pipelines\n",
    "!mv ~/{project_folder}/codebuild-buildspec.yml ~/{project_folder}/codebuild-buildspec-original.yml\n",
    "!mv ~/{project_folder}/pipelines/abalone ~/{project_folder}/pipelines/fromideatoprod\n",
    "!mv ~/{project_folder}/pipelines/fromideatoprod/pipeline.py ~/{project_folder}/pipelines/fromideatoprod/pipeline-original.py\n",
    "!cp ~/{workshop_folder}/pipeline_steps/* ~/{project_folder}/pipelines/\n",
    "!cp ~/{workshop_folder}/pipeline_steps/* ~/{workshop_folder}/pipelines/\n",
    "!cp ~/{workshop_folder}/requirements.txt ~/{project_folder}\n",
    "!cp ~/{workshop_folder}/config.yaml ~/{project_folder}"
   ]
  },
  {
   "cell_type": "markdown",
   "id": "59e4e13d-8956-4b69-9834-53a88ea46048",
   "metadata": {},
   "source": [
    "Execute a seguinte célula para escrever o código de construção do pipeline no arquivo `pipeline.py`. Reutilize o código do notebook do passo 3 como a função `get_pipeline()`.\n",
    "\n",
    "<div style=\"border: 4px solid coral; text-align: center; margin: auto;\">\n",
    "    <p style=\" text-align: center; margin: auto;\">O código de construção do pipeline funciona tanto com o conjunto de dados brutos do S3 quanto com o conjunto de features do Feature Store, você precisa passar um parâmetro de entrada correspondente para o pipeline.\n",
    "    </p>\n",
    "</div>"
   ]
  },
  {
   "cell_type": "code",
   "execution_count": 21,
   "id": "5952eb5f-ba0c-4345-9947-9a20ac595956",
   "metadata": {},
   "outputs": [
    {
     "name": "stdout",
     "output_type": "stream",
     "text": [
      "Overwriting pipeline.py\n"
     ]
    }
   ],
   "source": []
  },
  {
   "cell_type": "code",
   "execution_count": 26,
   "id": "8e15c1c4-e04e-45f1-8c48-6f87e46e6a13",
   "metadata": {
    "tags": []
   },
   "outputs": [
    {
     "name": "stdout",
     "output_type": "stream",
     "text": [
      "Overwriting pipeline.py\n"
     ]
    }
   ],
   "source": [
    "%%writefile pipeline.py\n",
    "\n",
    "import pandas as pd\n",
    "import json\n",
    "import boto3\n",
    "import pathlib\n",
    "import io\n",
    "import os\n",
    "import sagemaker\n",
    "import mlflow\n",
    "from time import gmtime, strftime, sleep\n",
    "from sagemaker.deserializers import CSVDeserializer\n",
    "from sagemaker.serializers import CSVSerializer\n",
    "\n",
    "from sagemaker.workflow.execution_variables import ExecutionVariables\n",
    "from sagemaker.workflow.pipeline_context import PipelineSession\n",
    "from sagemaker.xgboost.estimator import XGBoost\n",
    "from sagemaker.sklearn.processing import SKLearnProcessor\n",
    "from sagemaker.processing import (\n",
    "    ProcessingInput, \n",
    "    ProcessingOutput, \n",
    "    ScriptProcessor\n",
    ")\n",
    "from sagemaker.inputs import TrainingInput\n",
    "\n",
    "from sagemaker.workflow.pipeline import Pipeline\n",
    "from sagemaker.workflow.steps import (\n",
    "    ProcessingStep, \n",
    "    TrainingStep, \n",
    "    CreateModelStep,\n",
    "    CacheConfig\n",
    ")\n",
    "from sagemaker.workflow.check_job_config import CheckJobConfig\n",
    "from sagemaker.workflow.parameters import (\n",
    "    ParameterInteger, \n",
    "    ParameterFloat, \n",
    "    ParameterString, \n",
    "    ParameterBoolean\n",
    ")\n",
    "from sagemaker.workflow.quality_check_step import (\n",
    "    DataQualityCheckConfig,\n",
    "    ModelQualityCheckConfig,\n",
    "    QualityCheckStep,\n",
    ")\n",
    "from sagemaker.workflow.clarify_check_step import (\n",
    "    ModelBiasCheckConfig, \n",
    "    ClarifyCheckStep, \n",
    "    ModelExplainabilityCheckConfig\n",
    ")\n",
    "from sagemaker import Model\n",
    "from sagemaker.inputs import CreateModelInput\n",
    "from sagemaker.workflow.model_step import ModelStep\n",
    "from sagemaker.workflow.fail_step import FailStep\n",
    "from sagemaker.workflow.conditions import (\n",
    "    ConditionGreaterThan,\n",
    "    ConditionGreaterThanOrEqualTo\n",
    ")\n",
    "from sagemaker.workflow.parallelism_config import ParallelismConfiguration\n",
    "from sagemaker.workflow.properties import PropertyFile\n",
    "from sagemaker.workflow.condition_step import ConditionStep\n",
    "from sagemaker.workflow.functions import (\n",
    "    Join,\n",
    "    JsonGet\n",
    ")\n",
    "from sagemaker.workflow.lambda_step import (\n",
    "    LambdaStep,\n",
    "    LambdaOutput,\n",
    "    LambdaOutputTypeEnum,\n",
    ")\n",
    "from sagemaker.lambda_helper import Lambda\n",
    "\n",
    "from sagemaker.model_metrics import (\n",
    "    MetricsSource, \n",
    "    ModelMetrics, \n",
    "    FileSource\n",
    ")\n",
    "from sagemaker.drift_check_baselines import DriftCheckBaselines\n",
    "from sagemaker.workflow.pipeline_definition_config import PipelineDefinitionConfig \n",
    "from sagemaker.image_uris import retrieve\n",
    "from sagemaker.workflow.function_step import step\n",
    "from sagemaker.workflow.step_outputs import get_step\n",
    "from sagemaker.model_monitor import DatasetFormat, model_monitoring\n",
    "\n",
    "from pipeline_steps.preprocess import preprocess\n",
    "from pipeline_steps.evaluate import evaluate\n",
    "from pipeline_steps.register import register\n",
    "from pipeline_steps.extract import prepare_datasets\n",
    "\n",
    "def get_sagemaker_client(region):\n",
    "     return boto3.Session(region_name=region).client(\"sagemaker\")\n",
    "\n",
    "def get_pipeline_session(region, bucket_name):\n",
    "    \"\"\"Obtém a sessão do pipeline com base na região.\n",
    "\n",
    "    Args:\n",
    "        region: a região da AWS para iniciar a sessão\n",
    "        bucket_name: o bucket a ser usado para armazenar os artefatos\n",
    "\n",
    "    Returns:\n",
    "        Instância da PipelineSession\n",
    "    \"\"\"\n",
    "\n",
    "    boto_session = boto3.Session(region_name=region)\n",
    "    sagemaker_client = boto_session.client(\"sagemaker\")\n",
    "\n",
    "    return PipelineSession(\n",
    "        boto_session=boto_session,\n",
    "        sagemaker_client=sagemaker_client,\n",
    "        default_bucket=bucket_name,\n",
    "    )\n",
    "\n",
    "def get_pipeline_custom_tags(new_tags, region, sagemaker_project_name=None):\n",
    "    try:\n",
    "        print(f\"Obtendo tags do projeto para {sagemaker_project_name}\")\n",
    "        \n",
    "        sm_client = get_sagemaker_client(region)\n",
    "        \n",
    "        project_arn = sm_client.describe_project(ProjectName=sagemaker_project_name)['ProjectArn']\n",
    "        project_tags = sm_client.list_tags(ResourceArn=project_arn)['Tags']\n",
    "\n",
    "        print(f\"Tags do projeto: {project_tags}\")\n",
    "        \n",
    "        for project_tag in project_tags:\n",
    "            new_tags.append(project_tag)\n",
    "            \n",
    "    except Exception as e:\n",
    "        print(f\"Erro ao obter tags do projeto: {e}\")\n",
    "        \n",
    "    return new_tags\n",
    "    \n",
    "def get_pipeline(\n",
    "    region,\n",
    "    sagemaker_project_id=None,\n",
    "    sagemaker_project_name=None,\n",
    "    role=None,\n",
    "    bucket_name=None,\n",
    "    bucket_prefix=\"from-idea-to-prod/xgboost\",\n",
    "    input_s3_url=None,\n",
    "    feature_group_name=None,\n",
    "    model_package_group_name=\"from-idea-to-prod-model-group\",\n",
    "    pipeline_name_prefix=\"from-idea-to-prod-pipeline\",\n",
    "    process_instance_type=\"ml.m5.large\",\n",
    "    train_instance_type=\"ml.m5.xlarge\",\n",
    "    test_score_threshold=0.70,\n",
    "    tracking_server_arn=None,\n",
    "):\n",
    "    \"\"\"Obtém uma instância do SageMaker ML Pipeline.\n",
    "    \n",
    "    Returns:\n",
    "        uma instância de um pipeline\n",
    "    \"\"\"\n",
    "    if feature_group_name is None and input_s3_url is None:\n",
    "        print(\"Um dos parâmetros feature_group_name ou input_s3_url deve ser fornecido. Saindo...\")\n",
    "        return None\n",
    "\n",
    "    session = get_pipeline_session(region, bucket_name)\n",
    "    sm = session.sagemaker_client\n",
    "    \n",
    "    if role is None:\n",
    "        role = sagemaker.session.get_execution_role(session)\n",
    "\n",
    "    print(f\"versão sagemaker: {sagemaker.__version__}\")\n",
    "    print(f\"Função de execução: {role}\")\n",
    "    print(f\"URL de entrada S3: {input_s3_url}\")\n",
    "    print(f\"Grupo de recursos: {feature_group_name}\")\n",
    "    print(f\"Grupo de pacotes de modelos: {model_package_group_name}\")\n",
    "    print(f\"Prefixo do nome do pipeline: {pipeline_name_prefix}\")\n",
    "    print(f\"ARN do servidor de rastreamento: {tracking_server_arn}\")\n",
    "    \n",
    "    pipeline_name = f\"{pipeline_name_prefix}-{sagemaker_project_id}\"\n",
    "    experiment_name = pipeline_name\n",
    "\n",
    "    output_s3_prefix = f\"s3://{bucket_name}/{bucket_prefix}\"\n",
    "    # Define o URL do S3 de saída para o artefato do modelo\n",
    "    output_s3_url = f\"{output_s3_prefix}/output\"\n",
    "    # Define o URL do S3 de saída para os resultados da consulta do Feature Store\n",
    "    output_query_location = f'{output_s3_prefix}/offline-store/query_results'\n",
    "    \n",
    "    # Define os URLs do S3 de saída para os dados processados\n",
    "    train_s3_url = f\"{output_s3_prefix}/train\"\n",
    "    validation_s3_url = f\"{output_s3_prefix}/validation\"\n",
    "    test_s3_url = f\"{output_s3_prefix}/test\"\n",
    "    evaluation_s3_url = f\"{output_s3_prefix}/evaluation\"\n",
    "    \n",
    "    baseline_s3_url = f\"{output_s3_prefix}/baseline\"\n",
    "    prediction_baseline_s3_url = f\"{output_s3_prefix}/prediction_baseline\"\n",
    "    \n",
    "    xgboost_image_uri = sagemaker.image_uris.retrieve(\n",
    "            \"xgboost\", \n",
    "            region=region,\n",
    "            version=\"1.5-1\"\n",
    "    )\n",
    "\n",
    "    # Se nenhum ARN do servidor de rastreamento for fornecido, tente encontrar um servidor MLflow ativo\n",
    "    if tracking_server_arn is None:\n",
    "        r = sm.list_mlflow_tracking_servers(\n",
    "            TrackingServerStatus='Created',\n",
    "        )['TrackingServerSummaries']\n",
    "    \n",
    "        if len(r) < 1:\n",
    "            print(\"Você não possui nenhum servidor MLflow em execução. Saindo...\")\n",
    "            return None\n",
    "        else:\n",
    "            tracking_server_arn = r[0]['TrackingServerArn']\n",
    "            print(f\"Usando o ARN do servidor de rastreamento:{tracking_server_arn}\")\n",
    "        \n",
    "    # Parâmetros para execução do pipeline\n",
    "    \n",
    "    # Define o tipo de instância de processamento\n",
    "    process_instance_type_param = ParameterString(\n",
    "        name=\"ProcessingInstanceType\",\n",
    "        default_value=process_instance_type,\n",
    "    )\n",
    "\n",
    "    # Define o tipo de instância de treinamento\n",
    "    train_instance_type_param = ParameterString(\n",
    "        name=\"TrainingInstanceType\",\n",
    "        default_value=train_instance_type,\n",
    "    )\n",
    "\n",
    "    # Define o parâmetro de aprovação do modelo\n",
    "    model_approval_status_param = ParameterString(\n",
    "        name=\"ModelApprovalStatus\",\n",
    "        default_value=\"PendingManualApproval\"\n",
    "    )\n",
    "\n",
    "    # Threshold mínimo para o desempenho do modelo no conjunto de dados de teste\n",
    "    test_score_threshold_param = ParameterFloat(\n",
    "        name=\"TestScoreThreshold\", \n",
    "        default_value=test_score_threshold\n",
    "    )\n",
    "\n",
    "    # URL do S3 para o conjunto de dados de entrada\n",
    "    input_s3_url_param = ParameterString(\n",
    "        name=\"InputDataUrl\",\n",
    "        default_value=input_s3_url if input_s3_url else \"None\",\n",
    "    )\n",
    "\n",
    "    # Nome do grupo de recursos para o conjunto de recursos de entrada\n",
    "    feature_group_name_param = ParameterString(\n",
    "        name=\"FeatureGroupName\",\n",
    "        default_value=feature_group_name if feature_group_name else \"None\",\n",
    "    )\n",
    "    \n",
    "    # Nome do grupo de pacotes de modelos\n",
    "    model_package_group_name_param = ParameterString(\n",
    "        name=\"ModelPackageGroupName\",\n",
    "        default_value=model_package_group_name,\n",
    "    )\n",
    "\n",
    "    # ARN do servidor de rastreamento do MLflow\n",
    "    tracking_server_arn_param = ParameterString(\n",
    "        name=\"TrackingServerARN\",\n",
    "        default_value=tracking_server_arn,\n",
    "    )\n",
    "    \n",
    "    # Define a configuração de cache de etapas\n",
    "    cache_config = CacheConfig(\n",
    "        enable_caching=True,\n",
    "        expire_after=\"P30d\" # 30 dias\n",
    "    )\n",
    "\n",
    "    # Constrói o pipeline\n",
    "    \n",
    "    # Obtém os conjuntos de dados\n",
    "    step_get_datasets = step(\n",
    "            preprocess, \n",
    "            role=role,\n",
    "            instance_type=process_instance_type_param,\n",
    "            name=f\"preprocess\",\n",
    "            keep_alive_period_in_seconds=3600,\n",
    "    )(\n",
    "        input_data_s3_path=input_s3_url_param,\n",
    "        output_s3_prefix=output_s3_prefix,\n",
    "        tracking_server_arn=tracking_server_arn_param,\n",
    "        experiment_name=experiment_name,\n",
    "        pipeline_run_name=ExecutionVariables.PIPELINE_EXECUTION_ID,\n",
    "    ) if input_s3_url else step(\n",
    "        prepare_datasets, \n",
    "        role=role,\n",
    "        instance_type=process_instance_type_param,\n",
    "        name=f\"extract-featureset\",\n",
    "        keep_alive_period_in_seconds=3600,\n",
    "    )(\n",
    "        feature_group_name=feature_group_name_param,\n",
    "        output_s3_prefix=output_s3_prefix,\n",
    "        query_output_s3_path=output_query_location,\n",
    "        tracking_server_arn=tracking_server_arn_param,\n",
    "        experiment_name=experiment_name,\n",
    "        pipeline_run_name=ExecutionVariables.PIPELINE_EXECUTION_ID,\n",
    "    )\n",
    "    \n",
    "    # Instancia um objeto estimador XGBoost\n",
    "    estimator = sagemaker.estimator.Estimator(\n",
    "        image_uri=xgboost_image_uri,\n",
    "        role=role, \n",
    "        instance_type=train_instance_type_param,\n",
    "        instance_count=1,\n",
    "        output_path=output_s3_url,\n",
    "        sagemaker_session=session,\n",
    "        base_job_name=f\"{pipeline_name}-train\"\n",
    "    )\n",
    "    \n",
    "    # Define os hiperparâmetros do algoritmo\n",
    "    estimator.set_hyperparameters(\n",
    "        num_round=100, # o número de rodadas para executar o treinamento\n",
    "        max_depth=3, # profundidade máxima de uma árvore\n",
    "        eta=0.5, # redução do tamanho do passo usada nas atualizações para evitar overfitting\n",
    "        alpha=2.5, # termo de regularização L1 nos pesos\n",
    "        objective=\"binary:logistic\",\n",
    "        eval_metric=\"auc\", # métricas de avaliação para dados de validação\n",
    "        subsample=0.8, # razão de subsample da instância de treinamento\n",
    "        colsample_bytree=0.8, # razão de subsample de colunas ao construir cada árvore\n",
    "        min_child_weight=3, # soma mínima do peso da instância (hessiana) necessária em uma criança\n",
    "        early_stopping_rounds=10, # o modelo treina até que a pontuação de validação pare de melhorar\n",
    "        verbosity=1, # verbosidade da impressão de mensagens\n",
    "    )\n",
    "    \n",
    "    # etapa de treinamento\n",
    "    step_train = TrainingStep(\n",
    "        name=f\"train\",\n",
    "        step_args=estimator.fit(\n",
    "            {\n",
    "                \"train\": TrainingInput(\n",
    "                    step_get_datasets['train_data'],\n",
    "                    content_type=\"text/csv\",\n",
    "                ),\n",
    "                \"validation\": TrainingInput(\n",
    "                    step_get_datasets['validation_data'],\n",
    "                    content_type=\"text/csv\",\n",
    "                ),\n",
    "            }\n",
    "        ),\n",
    "        cache_config=cache_config,\n",
    "    )   \n",
    "    \n",
    "    # Etapa de avaliação\n",
    "    step_evaluate = step(\n",
    "        evaluate,\n",
    "        role=role,\n",
    "        instance_type=process_instance_type_param,\n",
    "        name=f\"evaluate\",\n",
    "        keep_alive_period_in_seconds=3600,\n",
    "    )(\n",
    "        test_x_data_s3_path=step_get_datasets['test_x_data'],\n",
    "        test_y_data_s3_path=step_get_datasets['test_y_data'],\n",
    "        model_s3_path=step_train.properties.ModelArtifacts.S3ModelArtifacts,\n",
    "        output_s3_prefix=output_s3_prefix,\n",
    "        tracking_server_arn=tracking_server_arn_param,\n",
    "        experiment_name=step_get_datasets['experiment_name'],\n",
    "        pipeline_run_id=step_get_datasets['pipeline_run_id'],\n",
    "    )\n",
    "\n",
    "    # etapa de registro do modelo\n",
    "    step_register = step(\n",
    "        register,\n",
    "        role=role,\n",
    "        instance_type=process_instance_type_param,\n",
    "        name=f\"register\",\n",
    "        keep_alive_period_in_seconds=3600,\n",
    "    )(\n",
    "        training_job_name=step_train.properties.TrainingJobName,\n",
    "        model_package_group_name=model_package_group_name_param,\n",
    "        model_approval_status=model_approval_status_param,\n",
    "        evaluation_result=step_evaluate['evaluation_result'],\n",
    "        output_s3_prefix=output_s3_url,\n",
    "        tracking_server_arn=tracking_server_arn_param,\n",
    "        experiment_name=step_get_datasets['experiment_name'],\n",
    "        pipeline_run_id=step_get_datasets['pipeline_run_id'],\n",
    "    )\n",
    "\n",
    "    # etapa de falha na execução do pipeline\n",
    "    step_fail = FailStep(\n",
    "        name=f\"fail\",\n",
    "        error_message=Join(on=\" \", values=[\"Execução falhou devido à pontuação AUC < \", test_score_threshold_param]),\n",
    "    )\n",
    "    \n",
    "    # condição para verificar na etapa condicional\n",
    "    condition_gte = ConditionGreaterThanOrEqualTo(\n",
    "            left=step_evaluate['evaluation_result']['classification_metrics']['auc_score']['value'],  \n",
    "            right=test_score_threshold_param,\n",
    "    )\n",
    "    \n",
    "    # etapa de registro condicional\n",
    "    step_conditional_register = ConditionStep(\n",
    "        name=f\"check-metrics\",\n",
    "        conditions=[condition_gte],\n",
    "        if_steps=[step_register],\n",
    "        else_steps=[step_fail],\n",
    "    )   \n",
    "\n",
    "    # Cria um objeto de pipeline\n",
    "    pipeline = Pipeline(\n",
    "        name=f\"{pipeline_name}\",\n",
    "        parameters=[\n",
    "            input_s3_url_param,\n",
    "            feature_group_name_param,\n",
    "            process_instance_type_param,\n",
    "            train_instance_type_param,\n",
    "            model_approval_status_param,\n",
    "            test_score_threshold_param,\n",
    "            model_package_group_name_param,\n",
    "            tracking_server_arn_param,\n",
    "        ],\n",
    "        steps=[step_conditional_register],\n",
    "        pipeline_definition_config=PipelineDefinitionConfig(use_custom_job_prefix=True)\n",
    "    )\n",
    "    \n",
    "    return pipeline\n"
   ]
  },
  {
   "cell_type": "markdown",
   "id": "1856dd52-e4e9-455a-9d80-e4f0bdd02793",
   "metadata": {},
   "source": [
    "Copie este arquivo `pipeline.py` da pasta do workshop para a pasta `pipelines/fromideatoprod` na pasta do repositório de código do projeto.\n"
   ]
  },
  {
   "cell_type": "code",
   "execution_count": 27,
   "id": "6c7032f9-7a3b-4c13-af03-70ee4476514d",
   "metadata": {
    "tags": []
   },
   "outputs": [
    {
     "name": "stdout",
     "output_type": "stream",
     "text": [
      "cp: cannot stat '/home/sagemaker-user/amazon-sagemaker-from-idea-to-production/pipeline.py': No such file or directory\n"
     ]
    }
   ],
   "source": [
    "!cp ~/{workshop_folder}/pipeline.py ~/{project_folder}/pipelines/fromideatoprod/"
   ]
  },
  {
   "cell_type": "markdown",
   "id": "ed281c0f-acaf-4013-926e-a3181f3eae18",
   "metadata": {},
   "source": [
    "Teste a função `get_pipeline` localmente para verificar se tudo funciona antes de executá-la remotamente.\n"
   ]
  },
  {
   "cell_type": "code",
   "execution_count": 28,
   "id": "c045f4ab-b003-47bc-a663-940d68e1a88f",
   "metadata": {},
   "outputs": [],
   "source": [
    "from pipeline import get_pipeline"
   ]
  },
  {
   "cell_type": "code",
   "execution_count": 29,
   "id": "f6d74177",
   "metadata": {},
   "outputs": [
    {
     "name": "stderr",
     "output_type": "stream",
     "text": [
      "INFO:sagemaker.image_uris:Ignoring unnecessary instance type: None.\n"
     ]
    },
    {
     "name": "stdout",
     "output_type": "stream",
     "text": [
      "versão sagemaker: 2.232.2\n",
      "Função de execução: arn:aws:iam::533267005474:role/service-role/AmazonSageMaker-ExecutionRole-20241011T175459\n",
      "URL de entrada S3: s3://sagemaker-us-east-1-533267005474/from-idea-to-prod/xgboost/input/bank-additional-full.csv\n",
      "Grupo de recursos: None\n",
      "Grupo de pacotes de modelos: from-idea-to-prod-pipeline-model-15-02-08-59\n",
      "Prefixo do nome do pipeline: from-idea-to-prod-pipeline-15-02-08-59\n",
      "ARN do servidor de rastreamento: arn:aws:sagemaker:us-east-1:533267005474:mlflow-tracking-server/mlflow-d-j2g52sky4w9s-14-22-19-50\n"
     ]
    },
    {
     "name": "stderr",
     "output_type": "stream",
     "text": [
      "/opt/conda/lib/python3.11/site-packages/sagemaker/workflow/pipeline_context.py:332: UserWarning: Running within a PipelineSession, there will be No Wait, No Logs, and No Job being started.\n",
      "  warnings.warn(\n"
     ]
    }
   ],
   "source": [
    "# Se você criou a feature store no notebook 3, poderá definir o parâmetro feature_group_name em vez de input_s3_url para obter os dados do \n",
    "# armazenamento de recursos\n",
    "p = get_pipeline(\n",
    "    region=region,\n",
    "    sagemaker_project_id=project_id,\n",
    "    sagemaker_project_name=project_name,\n",
    "    role=sm_role,\n",
    "    bucket_name=bucket_name,\n",
    "    bucket_prefix=bucket_prefix,\n",
    "    input_s3_url=input_s3_url,\n",
    "    # feature_group_name=dataset_feature_group_name,\n",
    "    model_package_group_name=model_package_group_name,\n",
    "    pipeline_name_prefix=pipeline_name,\n",
    "    process_instance_type=\"ml.m5.large\",\n",
    "    train_instance_type=\"ml.m5.xlarge\",\n",
    "    test_score_threshold=0.70,\n",
    "    tracking_server_arn=mlflow_arn,\n",
    ")"
   ]
  },
  {
   "cell_type": "code",
   "execution_count": 30,
   "id": "c5575259",
   "metadata": {},
   "outputs": [
    {
     "name": "stdout",
     "output_type": "stream",
     "text": [
      "sagemaker.config INFO - Applied value from config key = SageMaker.PythonSDK.Modules.RemoteFunction.Dependencies\n",
      "sagemaker.config INFO - Applied value from config key = SageMaker.PythonSDK.Modules.RemoteFunction.IncludeLocalWorkDir\n",
      "sagemaker.config INFO - Applied value from config key = SageMaker.PythonSDK.Modules.RemoteFunction.CustomFileFilter.IgnoreNamePatterns\n"
     ]
    },
    {
     "name": "stderr",
     "output_type": "stream",
     "text": [
      "2024-10-15 04:17:21,557 sagemaker.remote_function INFO     Uploading serialized function code to s3://sagemaker-us-east-1-533267005474/from-idea-to-prod-pipeline-15-02-08-59-p-lcexwhfupbld/register/2024-10-15-04-17-18-612/function\n",
      "2024-10-15 04:17:21,623 sagemaker.remote_function INFO     Uploading serialized function arguments to s3://sagemaker-us-east-1-533267005474/from-idea-to-prod-pipeline-15-02-08-59-p-lcexwhfupbld/register/2024-10-15-04-17-18-612/arguments\n",
      "2024-10-15 04:17:21,819 sagemaker.remote_function INFO     Copied dependencies file at './requirements.txt' to '/tmp/tmp97jeqahu/requirements.txt'\n",
      "2024-10-15 04:17:21,858 sagemaker.remote_function INFO     Successfully uploaded dependencies and pre execution scripts to 's3://sagemaker-us-east-1-533267005474/from-idea-to-prod-pipeline-15-02-08-59-p-lcexwhfupbld/register/2024-10-15-04-17-18-612/pre_exec_script_and_dependencies'\n",
      "2024-10-15 04:17:21,919 sagemaker.remote_function INFO     Copied user workspace to '/tmp/tmpc210d_gz/temp_workspace/sagemaker_remote_function_workspace'\n",
      "2024-10-15 04:17:24,123 sagemaker.remote_function INFO     Successfully created workdir archive at '/tmp/tmpc210d_gz/workspace.zip'\n",
      "2024-10-15 04:17:24,820 sagemaker.remote_function INFO     Successfully uploaded workdir to 's3://sagemaker-us-east-1-533267005474/from-idea-to-prod-pipeline-15-02-08-59-p-lcexwhfupbld/sm_rf_user_ws/2024-10-15-04-17-18-612/workspace.zip'\n"
     ]
    },
    {
     "name": "stdout",
     "output_type": "stream",
     "text": [
      "sagemaker.config INFO - Applied value from config key = SageMaker.PythonSDK.Modules.RemoteFunction.Dependencies\n",
      "sagemaker.config INFO - Applied value from config key = SageMaker.PythonSDK.Modules.RemoteFunction.IncludeLocalWorkDir\n",
      "sagemaker.config INFO - Applied value from config key = SageMaker.PythonSDK.Modules.RemoteFunction.CustomFileFilter.IgnoreNamePatterns\n"
     ]
    },
    {
     "name": "stderr",
     "output_type": "stream",
     "text": [
      "2024-10-15 04:17:27,260 sagemaker.remote_function INFO     Uploading serialized function code to s3://sagemaker-us-east-1-533267005474/from-idea-to-prod-pipeline-15-02-08-59-p-lcexwhfupbld/evaluate/2024-10-15-04-17-18-612/function\n",
      "2024-10-15 04:17:27,329 sagemaker.remote_function INFO     Uploading serialized function arguments to s3://sagemaker-us-east-1-533267005474/from-idea-to-prod-pipeline-15-02-08-59-p-lcexwhfupbld/evaluate/2024-10-15-04-17-18-612/arguments\n",
      "2024-10-15 04:17:27,438 sagemaker.remote_function INFO     Copied dependencies file at './requirements.txt' to '/tmp/tmpkagwwl8m/requirements.txt'\n",
      "2024-10-15 04:17:27,484 sagemaker.remote_function INFO     Successfully uploaded dependencies and pre execution scripts to 's3://sagemaker-us-east-1-533267005474/from-idea-to-prod-pipeline-15-02-08-59-p-lcexwhfupbld/evaluate/2024-10-15-04-17-18-612/pre_exec_script_and_dependencies'\n"
     ]
    },
    {
     "name": "stdout",
     "output_type": "stream",
     "text": [
      "sagemaker.config INFO - Applied value from config key = SageMaker.PythonSDK.Modules.RemoteFunction.Dependencies\n",
      "sagemaker.config INFO - Applied value from config key = SageMaker.PythonSDK.Modules.RemoteFunction.IncludeLocalWorkDir\n",
      "sagemaker.config INFO - Applied value from config key = SageMaker.PythonSDK.Modules.RemoteFunction.CustomFileFilter.IgnoreNamePatterns\n"
     ]
    },
    {
     "name": "stderr",
     "output_type": "stream",
     "text": [
      "2024-10-15 04:17:30,382 sagemaker.remote_function INFO     Uploading serialized function code to s3://sagemaker-us-east-1-533267005474/from-idea-to-prod-pipeline-15-02-08-59-p-lcexwhfupbld/preprocess/2024-10-15-04-17-18-612/function\n",
      "2024-10-15 04:17:30,523 sagemaker.remote_function INFO     Uploading serialized function arguments to s3://sagemaker-us-east-1-533267005474/from-idea-to-prod-pipeline-15-02-08-59-p-lcexwhfupbld/preprocess/2024-10-15-04-17-18-612/arguments\n",
      "2024-10-15 04:17:30,613 sagemaker.remote_function INFO     Copied dependencies file at './requirements.txt' to '/tmp/tmpkqo1bagt/requirements.txt'\n",
      "2024-10-15 04:17:30,641 sagemaker.remote_function INFO     Successfully uploaded dependencies and pre execution scripts to 's3://sagemaker-us-east-1-533267005474/from-idea-to-prod-pipeline-15-02-08-59-p-lcexwhfupbld/preprocess/2024-10-15-04-17-18-612/pre_exec_script_and_dependencies'\n"
     ]
    },
    {
     "data": {
      "text/plain": [
       "'{\"Version\": \"2020-12-01\", \"Metadata\": {}, \"Parameters\": [{\"Name\": \"InputDataUrl\", \"Type\": \"String\", \"DefaultValue\": \"s3://sagemaker-us-east-1-533267005474/from-idea-to-prod/xgboost/input/bank-additional-full.csv\"}, {\"Name\": \"FeatureGroupName\", \"Type\": \"String\", \"DefaultValue\": \"None\"}, {\"Name\": \"ProcessingInstanceType\", \"Type\": \"String\", \"DefaultValue\": \"ml.m5.large\"}, {\"Name\": \"TrainingInstanceType\", \"Type\": \"String\", \"DefaultValue\": \"ml.m5.xlarge\"}, {\"Name\": \"ModelApprovalStatus\", \"Type\": \"String\", \"DefaultValue\": \"PendingManualApproval\"}, {\"Name\": \"TestScoreThreshold\", \"Type\": \"Float\", \"DefaultValue\": 0.7}, {\"Name\": \"ModelPackageGroupName\", \"Type\": \"String\", \"DefaultValue\": \"from-idea-to-prod-pipeline-model-15-02-08-59\"}, {\"Name\": \"TrackingServerARN\", \"Type\": \"String\", \"DefaultValue\": \"arn:aws:sagemaker:us-east-1:533267005474:mlflow-tracking-server/mlflow-d-j2g52sky4w9s-14-22-19-50\"}], \"PipelineExperimentConfig\": {\"ExperimentName\": {\"Get\": \"Execution.PipelineName\"}, \"TrialName\": {\"Get\": \"Execution.PipelineExecutionId\"}}, \"Steps\": [{\"Name\": \"check-metrics\", \"Type\": \"Condition\", \"Arguments\": {\"Conditions\": [{\"Type\": \"GreaterThanOrEqualTo\", \"LeftValue\": {\"Std:JsonGet\": {\"S3Uri\": {\"Std:Join\": {\"On\": \"/\", \"Values\": [{\"Get\": \"Steps.evaluate.OutputDataConfig.S3OutputPath\"}, \"results.json\"]}}, \"Path\": \"Result[\\'evaluation_result\\'][\\'classification_metrics\\'][\\'auc_score\\'][\\'value\\']\"}}, \"RightValue\": {\"Get\": \"Parameters.TestScoreThreshold\"}}], \"IfSteps\": [{\"Name\": \"register\", \"Type\": \"Training\", \"Arguments\": {\"TrainingJobName\": \"register\", \"RoleArn\": \"arn:aws:iam::533267005474:role/service-role/AmazonSageMaker-ExecutionRole-20241011T175459\", \"StoppingCondition\": {\"MaxRuntimeInSeconds\": 86400}, \"RetryStrategy\": {\"MaximumRetryAttempts\": 1}, \"InputDataConfig\": [{\"ChannelName\": \"sagemaker_remote_function_bootstrap\", \"DataSource\": {\"S3DataSource\": {\"S3Uri\": \"s3://sagemaker-us-east-1-533267005474/from-idea-to-prod-pipeline-15-02-08-59-p-lcexwhfupbld/sagemaker_remote_function_bootstrap\", \"S3DataType\": \"S3Prefix\"}}}, {\"ChannelName\": \"pre_exec_script_and_dependencies\", \"DataSource\": {\"S3DataSource\": {\"S3Uri\": \"s3://sagemaker-us-east-1-533267005474/from-idea-to-prod-pipeline-15-02-08-59-p-lcexwhfupbld/register/2024-10-15-04-17-18-612/pre_exec_script_and_dependencies\", \"S3DataType\": \"S3Prefix\"}}}, {\"ChannelName\": \"2024-10-15-04-17-18-612\", \"DataSource\": {\"S3DataSource\": {\"S3Uri\": \"s3://sagemaker-us-east-1-533267005474/from-idea-to-prod-pipeline-15-02-08-59-p-lcexwhfupbld/sm_rf_user_ws/2024-10-15-04-17-18-612/workspace.zip\", \"S3DataType\": \"S3Prefix\"}}}], \"OutputDataConfig\": {\"S3OutputPath\": {\"Std:Join\": {\"On\": \"/\", \"Values\": [\"s3://sagemaker-us-east-1-533267005474/from-idea-to-prod-pipeline-15-02-08-59-p-lcexwhfupbld\", {\"Get\": \"Execution.PipelineExecutionId\"}, \"register\", \"results\"]}}}, \"AlgorithmSpecification\": {\"TrainingImage\": \"885854791233.dkr.ecr.us-east-1.amazonaws.com/sagemaker-distribution-prod@sha256:9a0334dc4b23786a155cab34e37c93204c1bd0cee9a5c74889f8f4f0edb35457\", \"TrainingInputMode\": \"File\", \"ContainerEntrypoint\": [\"/bin/bash\", \"/opt/ml/input/data/sagemaker_remote_function_bootstrap/job_driver.sh\"], \"ContainerArguments\": [\"--s3_base_uri\", \"s3://sagemaker-us-east-1-533267005474/from-idea-to-prod-pipeline-15-02-08-59-p-lcexwhfupbld\", \"--region\", \"us-east-1\", \"--client_python_version\", \"3.11\", \"--client_sagemaker_pysdk_version\", \"2.232.2\", \"--dependency_settings\", \"{\\\\\"dependency_file\\\\\": \\\\\"requirements.txt\\\\\"}\", \"--pipeline_step_name\", \"register\", \"--pipeline_execution_id\", {\"Get\": \"Execution.PipelineExecutionId\"}, \"--func_step_s3_dir\", \"2024-10-15-04-17-18-612\", \"--property_references\", \"Execution.PipelineExecutionId\", {\"Get\": \"Execution.PipelineExecutionId\"}, \"Steps.train.TrainingJobName\", {\"Std:Join\": {\"On\": \"\", \"Values\": [{\"Get\": \"Steps.train.TrainingJobName\"}]}}, \"Parameters.ModelPackageGroupName\", {\"Get\": \"Parameters.ModelPackageGroupName\"}, \"Parameters.ModelApprovalStatus\", {\"Get\": \"Parameters.ModelApprovalStatus\"}, \"Steps.evaluate.OutputDataConfig.S3OutputPath\", {\"Std:Join\": {\"On\": \"\", \"Values\": [{\"Get\": \"Steps.evaluate.OutputDataConfig.S3OutputPath\"}]}}, \"Parameters.TrackingServerARN\", {\"Get\": \"Parameters.TrackingServerARN\"}, \"Steps.preprocess.OutputDataConfig.S3OutputPath\", {\"Std:Join\": {\"On\": \"\", \"Values\": [{\"Get\": \"Steps.preprocess.OutputDataConfig.S3OutputPath\"}]}}, \"Steps.preprocess.OutputDataConfig.S3OutputPath\", {\"Std:Join\": {\"On\": \"\", \"Values\": [{\"Get\": \"Steps.preprocess.OutputDataConfig.S3OutputPath\"}]}}]}, \"ResourceConfig\": {\"VolumeSizeInGB\": 30, \"InstanceCount\": 1, \"InstanceType\": {\"Get\": \"Parameters.ProcessingInstanceType\"}, \"KeepAlivePeriodInSeconds\": 3600}, \"EnableNetworkIsolation\": false, \"EnableInterContainerTrafficEncryption\": false, \"EnableManagedSpotTraining\": false, \"Environment\": {\"AWS_DEFAULT_REGION\": \"us-east-1\", \"REMOTE_FUNCTION_SECRET_KEY\": \"df8be2a9bb6f8a14e192a09cbc34c57220ad938e1d68f90a4e691b98cf2c1efb\"}}, \"DependsOn\": [\"evaluate\", \"preprocess\"], \"DisplayName\": \"pipeline_steps.register.register\", \"Description\": \"/home/sagemaker-user/aws-mlops-sagemaker-do-inicio-ao-fim/pipeline_steps/register.py\"}], \"ElseSteps\": [{\"Name\": \"fail\", \"Type\": \"Fail\", \"Arguments\": {\"ErrorMessage\": {\"Std:Join\": {\"On\": \" \", \"Values\": [\"Execu\\\\u00e7\\\\u00e3o falhou devido \\\\u00e0 pontua\\\\u00e7\\\\u00e3o AUC < \", {\"Get\": \"Parameters.TestScoreThreshold\"}]}}}}]}, \"DependsOn\": [\"evaluate\"]}, {\"Name\": \"evaluate\", \"Type\": \"Training\", \"Arguments\": {\"TrainingJobName\": \"evaluate\", \"RoleArn\": \"arn:aws:iam::533267005474:role/service-role/AmazonSageMaker-ExecutionRole-20241011T175459\", \"StoppingCondition\": {\"MaxRuntimeInSeconds\": 86400}, \"RetryStrategy\": {\"MaximumRetryAttempts\": 1}, \"InputDataConfig\": [{\"ChannelName\": \"sagemaker_remote_function_bootstrap\", \"DataSource\": {\"S3DataSource\": {\"S3Uri\": \"s3://sagemaker-us-east-1-533267005474/from-idea-to-prod-pipeline-15-02-08-59-p-lcexwhfupbld/sagemaker_remote_function_bootstrap\", \"S3DataType\": \"S3Prefix\"}}}, {\"ChannelName\": \"pre_exec_script_and_dependencies\", \"DataSource\": {\"S3DataSource\": {\"S3Uri\": \"s3://sagemaker-us-east-1-533267005474/from-idea-to-prod-pipeline-15-02-08-59-p-lcexwhfupbld/evaluate/2024-10-15-04-17-18-612/pre_exec_script_and_dependencies\", \"S3DataType\": \"S3Prefix\"}}}, {\"ChannelName\": \"2024-10-15-04-17-18-612\", \"DataSource\": {\"S3DataSource\": {\"S3Uri\": \"s3://sagemaker-us-east-1-533267005474/from-idea-to-prod-pipeline-15-02-08-59-p-lcexwhfupbld/sm_rf_user_ws/2024-10-15-04-17-18-612\", \"S3DataType\": \"S3Prefix\"}}}], \"OutputDataConfig\": {\"S3OutputPath\": {\"Std:Join\": {\"On\": \"/\", \"Values\": [\"s3://sagemaker-us-east-1-533267005474/from-idea-to-prod-pipeline-15-02-08-59-p-lcexwhfupbld\", {\"Get\": \"Execution.PipelineExecutionId\"}, \"evaluate\", \"results\"]}}}, \"AlgorithmSpecification\": {\"TrainingImage\": \"885854791233.dkr.ecr.us-east-1.amazonaws.com/sagemaker-distribution-prod@sha256:9a0334dc4b23786a155cab34e37c93204c1bd0cee9a5c74889f8f4f0edb35457\", \"TrainingInputMode\": \"File\", \"ContainerEntrypoint\": [\"/bin/bash\", \"/opt/ml/input/data/sagemaker_remote_function_bootstrap/job_driver.sh\"], \"ContainerArguments\": [\"--s3_base_uri\", \"s3://sagemaker-us-east-1-533267005474/from-idea-to-prod-pipeline-15-02-08-59-p-lcexwhfupbld\", \"--region\", \"us-east-1\", \"--client_python_version\", \"3.11\", \"--client_sagemaker_pysdk_version\", \"2.232.2\", \"--dependency_settings\", \"{\\\\\"dependency_file\\\\\": \\\\\"requirements.txt\\\\\"}\", \"--pipeline_step_name\", \"evaluate\", \"--pipeline_execution_id\", {\"Get\": \"Execution.PipelineExecutionId\"}, \"--func_step_s3_dir\", \"2024-10-15-04-17-18-612\", \"--property_references\", \"Execution.PipelineExecutionId\", {\"Get\": \"Execution.PipelineExecutionId\"}, \"Steps.preprocess.OutputDataConfig.S3OutputPath\", {\"Std:Join\": {\"On\": \"\", \"Values\": [{\"Get\": \"Steps.preprocess.OutputDataConfig.S3OutputPath\"}]}}, \"Steps.preprocess.OutputDataConfig.S3OutputPath\", {\"Std:Join\": {\"On\": \"\", \"Values\": [{\"Get\": \"Steps.preprocess.OutputDataConfig.S3OutputPath\"}]}}, \"Steps.train.ModelArtifacts.S3ModelArtifacts\", {\"Std:Join\": {\"On\": \"\", \"Values\": [{\"Get\": \"Steps.train.ModelArtifacts.S3ModelArtifacts\"}]}}, \"Parameters.TrackingServerARN\", {\"Get\": \"Parameters.TrackingServerARN\"}, \"Steps.preprocess.OutputDataConfig.S3OutputPath\", {\"Std:Join\": {\"On\": \"\", \"Values\": [{\"Get\": \"Steps.preprocess.OutputDataConfig.S3OutputPath\"}]}}, \"Steps.preprocess.OutputDataConfig.S3OutputPath\", {\"Std:Join\": {\"On\": \"\", \"Values\": [{\"Get\": \"Steps.preprocess.OutputDataConfig.S3OutputPath\"}]}}, \"--serialize_output_to_json\", \"true\"]}, \"ResourceConfig\": {\"VolumeSizeInGB\": 30, \"InstanceCount\": 1, \"InstanceType\": {\"Get\": \"Parameters.ProcessingInstanceType\"}, \"KeepAlivePeriodInSeconds\": 3600}, \"EnableNetworkIsolation\": false, \"EnableInterContainerTrafficEncryption\": false, \"EnableManagedSpotTraining\": false, \"Environment\": {\"AWS_DEFAULT_REGION\": \"us-east-1\", \"REMOTE_FUNCTION_SECRET_KEY\": \"df8be2a9bb6f8a14e192a09cbc34c57220ad938e1d68f90a4e691b98cf2c1efb\"}}, \"DependsOn\": [\"preprocess\"], \"DisplayName\": \"pipeline_steps.evaluate.evaluate\", \"Description\": \"/home/sagemaker-user/aws-mlops-sagemaker-do-inicio-ao-fim/pipeline_steps/evaluate.py\"}, {\"Name\": \"preprocess\", \"Type\": \"Training\", \"Arguments\": {\"TrainingJobName\": \"preprocess\", \"RoleArn\": \"arn:aws:iam::533267005474:role/service-role/AmazonSageMaker-ExecutionRole-20241011T175459\", \"StoppingCondition\": {\"MaxRuntimeInSeconds\": 86400}, \"RetryStrategy\": {\"MaximumRetryAttempts\": 1}, \"InputDataConfig\": [{\"ChannelName\": \"sagemaker_remote_function_bootstrap\", \"DataSource\": {\"S3DataSource\": {\"S3Uri\": \"s3://sagemaker-us-east-1-533267005474/from-idea-to-prod-pipeline-15-02-08-59-p-lcexwhfupbld/sagemaker_remote_function_bootstrap\", \"S3DataType\": \"S3Prefix\"}}}, {\"ChannelName\": \"pre_exec_script_and_dependencies\", \"DataSource\": {\"S3DataSource\": {\"S3Uri\": \"s3://sagemaker-us-east-1-533267005474/from-idea-to-prod-pipeline-15-02-08-59-p-lcexwhfupbld/preprocess/2024-10-15-04-17-18-612/pre_exec_script_and_dependencies\", \"S3DataType\": \"S3Prefix\"}}}, {\"ChannelName\": \"2024-10-15-04-17-18-612\", \"DataSource\": {\"S3DataSource\": {\"S3Uri\": \"s3://sagemaker-us-east-1-533267005474/from-idea-to-prod-pipeline-15-02-08-59-p-lcexwhfupbld/sm_rf_user_ws/2024-10-15-04-17-18-612\", \"S3DataType\": \"S3Prefix\"}}}], \"OutputDataConfig\": {\"S3OutputPath\": {\"Std:Join\": {\"On\": \"/\", \"Values\": [\"s3://sagemaker-us-east-1-533267005474/from-idea-to-prod-pipeline-15-02-08-59-p-lcexwhfupbld\", {\"Get\": \"Execution.PipelineExecutionId\"}, \"preprocess\", \"results\"]}}}, \"AlgorithmSpecification\": {\"TrainingImage\": \"885854791233.dkr.ecr.us-east-1.amazonaws.com/sagemaker-distribution-prod@sha256:9a0334dc4b23786a155cab34e37c93204c1bd0cee9a5c74889f8f4f0edb35457\", \"TrainingInputMode\": \"File\", \"ContainerEntrypoint\": [\"/bin/bash\", \"/opt/ml/input/data/sagemaker_remote_function_bootstrap/job_driver.sh\"], \"ContainerArguments\": [\"--s3_base_uri\", \"s3://sagemaker-us-east-1-533267005474/from-idea-to-prod-pipeline-15-02-08-59-p-lcexwhfupbld\", \"--region\", \"us-east-1\", \"--client_python_version\", \"3.11\", \"--client_sagemaker_pysdk_version\", \"2.232.2\", \"--dependency_settings\", \"{\\\\\"dependency_file\\\\\": \\\\\"requirements.txt\\\\\"}\", \"--pipeline_step_name\", \"preprocess\", \"--pipeline_execution_id\", {\"Get\": \"Execution.PipelineExecutionId\"}, \"--func_step_s3_dir\", \"2024-10-15-04-17-18-612\", \"--property_references\", \"Execution.PipelineExecutionId\", {\"Get\": \"Execution.PipelineExecutionId\"}, \"Parameters.InputDataUrl\", {\"Get\": \"Parameters.InputDataUrl\"}, \"Parameters.TrackingServerARN\", {\"Get\": \"Parameters.TrackingServerARN\"}, \"Execution.PipelineExecutionId\", {\"Get\": \"Execution.PipelineExecutionId\"}, \"--serialize_output_to_json\", \"true\"]}, \"ResourceConfig\": {\"VolumeSizeInGB\": 30, \"InstanceCount\": 1, \"InstanceType\": {\"Get\": \"Parameters.ProcessingInstanceType\"}, \"KeepAlivePeriodInSeconds\": 3600}, \"EnableNetworkIsolation\": false, \"EnableInterContainerTrafficEncryption\": false, \"EnableManagedSpotTraining\": false, \"Environment\": {\"AWS_DEFAULT_REGION\": \"us-east-1\", \"REMOTE_FUNCTION_SECRET_KEY\": \"df8be2a9bb6f8a14e192a09cbc34c57220ad938e1d68f90a4e691b98cf2c1efb\"}}, \"DisplayName\": \"pipeline_steps.preprocess.preprocess\", \"Description\": \"/home/sagemaker-user/aws-mlops-sagemaker-do-inicio-ao-fim/pipeline_steps/preprocess.py\"}, {\"Name\": \"train\", \"Type\": \"Training\", \"Arguments\": {\"AlgorithmSpecification\": {\"TrainingInputMode\": \"File\", \"TrainingImage\": \"683313688378.dkr.ecr.us-east-1.amazonaws.com/sagemaker-xgboost:1.5-1\"}, \"OutputDataConfig\": {\"S3OutputPath\": \"s3://sagemaker-us-east-1-533267005474/from-idea-to-prod/xgboost/output\"}, \"TrainingJobName\": \"from-idea-to-prod-pipeline-15-02-08-59-\", \"StoppingCondition\": {\"MaxRuntimeInSeconds\": 86400}, \"ResourceConfig\": {\"VolumeSizeInGB\": 30, \"InstanceCount\": 1, \"InstanceType\": {\"Get\": \"Parameters.TrainingInstanceType\"}}, \"RoleArn\": \"arn:aws:iam::533267005474:role/service-role/AmazonSageMaker-ExecutionRole-20241011T175459\", \"InputDataConfig\": [{\"DataSource\": {\"S3DataSource\": {\"S3DataType\": \"S3Prefix\", \"S3Uri\": {\"Std:JsonGet\": {\"S3Uri\": {\"Std:Join\": {\"On\": \"/\", \"Values\": [{\"Get\": \"Steps.preprocess.OutputDataConfig.S3OutputPath\"}, \"results.json\"]}}, \"Path\": \"Result[\\'train_data\\']\"}}, \"S3DataDistributionType\": \"FullyReplicated\"}}, \"ContentType\": \"text/csv\", \"ChannelName\": \"train\"}, {\"DataSource\": {\"S3DataSource\": {\"S3DataType\": \"S3Prefix\", \"S3Uri\": {\"Std:JsonGet\": {\"S3Uri\": {\"Std:Join\": {\"On\": \"/\", \"Values\": [{\"Get\": \"Steps.preprocess.OutputDataConfig.S3OutputPath\"}, \"results.json\"]}}, \"Path\": \"Result[\\'validation_data\\']\"}}, \"S3DataDistributionType\": \"FullyReplicated\"}}, \"ContentType\": \"text/csv\", \"ChannelName\": \"validation\"}], \"HyperParameters\": {\"num_round\": \"100\", \"max_depth\": \"3\", \"eta\": \"0.5\", \"alpha\": \"2.5\", \"objective\": \"binary:logistic\", \"eval_metric\": \"auc\", \"subsample\": \"0.8\", \"colsample_bytree\": \"0.8\", \"min_child_weight\": \"3\", \"early_stopping_rounds\": \"10\", \"verbosity\": \"1\"}, \"DebugHookConfig\": {\"S3OutputPath\": \"s3://sagemaker-us-east-1-533267005474/from-idea-to-prod/xgboost/output\", \"CollectionConfigurations\": []}, \"ProfilerConfig\": {\"S3OutputPath\": \"s3://sagemaker-us-east-1-533267005474/from-idea-to-prod/xgboost/output\", \"DisableProfiler\": false}}, \"CacheConfig\": {\"Enabled\": true, \"ExpireAfter\": \"P30d\"}, \"DependsOn\": [\"preprocess\"]}]}'"
      ]
     },
     "execution_count": 30,
     "metadata": {},
     "output_type": "execute_result"
    }
   ],
   "source": [
    "p.definition()"
   ]
  },
  {
   "cell_type": "code",
   "execution_count": 31,
   "id": "0c3b38ef",
   "metadata": {},
   "outputs": [
    {
     "name": "stderr",
     "output_type": "stream",
     "text": [
      "2024-10-15 04:17:32,520 sagemaker.remote_function INFO     Uploading serialized function code to s3://sagemaker-us-east-1-533267005474/from-idea-to-prod-pipeline-15-02-08-59-p-lcexwhfupbld/register/2024-10-15-04-17-32-520/function\n",
      "2024-10-15 04:17:32,602 sagemaker.remote_function INFO     Uploading serialized function arguments to s3://sagemaker-us-east-1-533267005474/from-idea-to-prod-pipeline-15-02-08-59-p-lcexwhfupbld/register/2024-10-15-04-17-32-520/arguments\n",
      "2024-10-15 04:17:32,930 sagemaker.remote_function INFO     Copied dependencies file at './requirements.txt' to '/tmp/tmpi8hoy7js/requirements.txt'\n",
      "2024-10-15 04:17:32,952 sagemaker.remote_function INFO     Successfully uploaded dependencies and pre execution scripts to 's3://sagemaker-us-east-1-533267005474/from-idea-to-prod-pipeline-15-02-08-59-p-lcexwhfupbld/register/2024-10-15-04-17-32-520/pre_exec_script_and_dependencies'\n",
      "2024-10-15 04:17:33,000 sagemaker.remote_function INFO     Copied user workspace to '/tmp/tmprk59ilyx/temp_workspace/sagemaker_remote_function_workspace'\n",
      "2024-10-15 04:17:35,766 sagemaker.remote_function INFO     Successfully created workdir archive at '/tmp/tmprk59ilyx/workspace.zip'\n",
      "2024-10-15 04:17:36,471 sagemaker.remote_function INFO     Successfully uploaded workdir to 's3://sagemaker-us-east-1-533267005474/from-idea-to-prod-pipeline-15-02-08-59-p-lcexwhfupbld/sm_rf_user_ws/2024-10-15-04-17-32-520/workspace.zip'\n",
      "2024-10-15 04:17:36,490 sagemaker.remote_function INFO     Uploading serialized function code to s3://sagemaker-us-east-1-533267005474/from-idea-to-prod-pipeline-15-02-08-59-p-lcexwhfupbld/evaluate/2024-10-15-04-17-32-520/function\n",
      "2024-10-15 04:17:36,570 sagemaker.remote_function INFO     Uploading serialized function arguments to s3://sagemaker-us-east-1-533267005474/from-idea-to-prod-pipeline-15-02-08-59-p-lcexwhfupbld/evaluate/2024-10-15-04-17-32-520/arguments\n",
      "2024-10-15 04:17:36,727 sagemaker.remote_function INFO     Copied dependencies file at './requirements.txt' to '/tmp/tmpv1ct8vnn/requirements.txt'\n",
      "2024-10-15 04:17:36,757 sagemaker.remote_function INFO     Successfully uploaded dependencies and pre execution scripts to 's3://sagemaker-us-east-1-533267005474/from-idea-to-prod-pipeline-15-02-08-59-p-lcexwhfupbld/evaluate/2024-10-15-04-17-32-520/pre_exec_script_and_dependencies'\n",
      "2024-10-15 04:17:36,760 sagemaker.remote_function INFO     Uploading serialized function code to s3://sagemaker-us-east-1-533267005474/from-idea-to-prod-pipeline-15-02-08-59-p-lcexwhfupbld/preprocess/2024-10-15-04-17-32-520/function\n",
      "2024-10-15 04:17:36,846 sagemaker.remote_function INFO     Uploading serialized function arguments to s3://sagemaker-us-east-1-533267005474/from-idea-to-prod-pipeline-15-02-08-59-p-lcexwhfupbld/preprocess/2024-10-15-04-17-32-520/arguments\n",
      "2024-10-15 04:17:36,924 sagemaker.remote_function INFO     Copied dependencies file at './requirements.txt' to '/tmp/tmp1m0ig29c/requirements.txt'\n",
      "2024-10-15 04:17:36,952 sagemaker.remote_function INFO     Successfully uploaded dependencies and pre execution scripts to 's3://sagemaker-us-east-1-533267005474/from-idea-to-prod-pipeline-15-02-08-59-p-lcexwhfupbld/preprocess/2024-10-15-04-17-32-520/pre_exec_script_and_dependencies'\n"
     ]
    },
    {
     "data": {
      "text/plain": [
       "{'PipelineArn': 'arn:aws:sagemaker:us-east-1:533267005474:pipeline/from-idea-to-prod-pipeline-15-02-08-59-p-lcexwhfupbld',\n",
       " 'ResponseMetadata': {'RequestId': 'aeac569a-f295-4ad2-a616-58a84ddf8e91',\n",
       "  'HTTPStatusCode': 200,\n",
       "  'HTTPHeaders': {'x-amzn-requestid': 'aeac569a-f295-4ad2-a616-58a84ddf8e91',\n",
       "   'content-type': 'application/x-amz-json-1.1',\n",
       "   'content-length': '121',\n",
       "   'date': 'Tue, 15 Oct 2024 04:17:37 GMT'},\n",
       "  'RetryAttempts': 0}}"
      ]
     },
     "execution_count": 31,
     "metadata": {},
     "output_type": "execute_result"
    }
   ],
   "source": [
    "p.upsert(role_arn=sm_role)"
   ]
  },
  {
   "cell_type": "markdown",
   "id": "dc05f302-9bbb-4895-aa7c-1e4b4dbbf435",
   "metadata": {},
   "source": [
    "Para ver o pipeline criado na interface do Studio, clique no link construído pela célula de código abaixo:"
   ]
  },
  {
   "cell_type": "code",
   "execution_count": 32,
   "id": "2b9f1db1-cb43-4c84-849f-532db4c1227a",
   "metadata": {},
   "outputs": [
    {
     "data": {
      "text/html": [
       "<b>Veja <a target=\"top\" href=\"https://studio-d-j2g52sky4w9s.studio.us-east-1.sagemaker.aws/pipelines/from-idea-to-prod-pipeline-15-02-08-59-p-lcexwhfupbld/graph\">o pipeline</a> na interface do Studio</b>"
      ],
      "text/plain": [
       "<IPython.core.display.HTML object>"
      ]
     },
     "metadata": {},
     "output_type": "display_data"
    }
   ],
   "source": [
    "from IPython.display import HTML\n",
    "\n",
    "# Mostra o link do pipeline\n",
    "display(\n",
    "    HTML('<b>Veja <a target=\"top\" href=\"https://studio-{}.studio.{}.sagemaker.aws/pipelines/{}/graph\">o pipeline</a> na interface do Studio</b>'.format(\n",
    "            domain_id, region, p.describe()['PipelineName']))\n",
    ")"
   ]
  },
  {
   "cell_type": "markdown",
   "id": "204a1f87-6718-4350-944d-51b340e93fc2",
   "metadata": {},
   "source": [
    "Neste ponto, você testou localmente se o código de construção do pipeline funciona e ele cria um pipeline. Você pode ver este pipeline no widget **Pipelines** do Studio. Agora você está pronto para criar um pipeline de CI/CD."
   ]
  },
  {
   "cell_type": "markdown",
   "id": "3dd662c7-0411-4b2f-9234-e60ba81e2bc0",
   "metadata": {},
   "source": [
    "#### Anexar o grupo de pacotes de modelos ao projeto\n",
    "Recursos pertencentes ao projeto são automaticamente marcados com as tags `sagemaker:project-name` e `sagemaker:project-id` para controle de custos, controle de segurança baseado em atributos e governança.\n",
    "Como o grupo de pacotes de modelos já existe no registro de modelos, você precisa marcá-lo para anexá-lo a este projeto. A célula de código a seguir chama a API `AddTags` para definir tags de projeto no grupo de pacotes de modelos."
   ]
  },
  {
   "cell_type": "code",
   "execution_count": 33,
   "id": "78faa869",
   "metadata": {},
   "outputs": [
    {
     "name": "stdout",
     "output_type": "stream",
     "text": [
      "Adicionando tags model-build-10-15-04-05-48 e p-lcexwhfupbld para o grupo de pacotes de modelos arn:aws:sagemaker:us-east-1:533267005474:model-package-group/from-idea-to-prod-pipeline-model-15-02-08-59\n",
      "{'Tags': [{'Key': 'sagemaker:project-name', 'Value': 'model-build-10-15-04-05-48'}, {'Key': 'sagemaker:project-id', 'Value': 'p-lcexwhfupbld'}], 'ResponseMetadata': {'RequestId': 'b39b6372-8644-415a-a343-b1c21ea625d0', 'HTTPStatusCode': 200, 'HTTPHeaders': {'x-amzn-requestid': 'b39b6372-8644-415a-a343-b1c21ea625d0', 'content-type': 'application/x-amz-json-1.1', 'content-length': '136', 'date': 'Tue, 15 Oct 2024 04:17:38 GMT'}, 'RetryAttempts': 0}}\n"
     ]
    },
    {
     "data": {
      "text/plain": [
       "[{'Key': 'sagemaker:project-name', 'Value': 'model-build-10-15-04-05-48'},\n",
       " {'Key': 'sagemaker:user-profile-arn',\n",
       "  'Value': 'arn:aws:sagemaker:us-east-1:533267005474:user-profile/d-j2g52sky4w9s/default-20241011T175458'},\n",
       " {'Key': 'sagemaker:domain-arn',\n",
       "  'Value': 'arn:aws:sagemaker:us-east-1:533267005474:domain/d-j2g52sky4w9s'},\n",
       " {'Key': 'sagemaker:project-id', 'Value': 'p-lcexwhfupbld'},\n",
       " {'Key': 'sagemaker:space-arn',\n",
       "  'Value': 'arn:aws:sagemaker:us-east-1:533267005474:space/d-j2g52sky4w9s/MLOpsCodeSpace'}]"
      ]
     },
     "execution_count": 33,
     "metadata": {},
     "output_type": "execute_result"
    }
   ],
   "source": [
    "model_package_group_arn = sm.describe_model_package_group(ModelPackageGroupName=model_package_group_name).get(\"ModelPackageGroupArn\")\n",
    "\n",
    "if model_package_group_arn:\n",
    "    print(f\"Adicionando tags {project_arn.split('/')[-1]} e {project_id} para o grupo de pacotes de modelos {model_package_group_arn}\")\n",
    "    r = sm.add_tags(\n",
    "        ResourceArn=model_package_group_arn,\n",
    "        Tags=[\n",
    "            {\n",
    "                'Key': 'sagemaker:project-name',\n",
    "                'Value': project_arn.split(\"/\")[-1]\n",
    "            },\n",
    "            {\n",
    "                'Key': 'sagemaker:project-id',\n",
    "                'Value': project_id\n",
    "            },\n",
    "        ]\n",
    "    )\n",
    "    print(r)\n",
    "else:\n",
    "    print(f\"O grupo de pacotes de modelos {model_package_group_name} não existe\")\n",
    "    \n",
    "sm.list_tags(ResourceArn=model_package_group_arn)[\"Tags\"]"
   ]
  },
  {
   "cell_type": "markdown",
   "id": "f760f4bd-c5d5-4bf7-b56c-11e70fa981e1",
   "metadata": {},
   "source": [
    "### 3. Modificar o arquivo de especificação de build\n",
    "Agora, modifique o arquivo `codebuild-buildspec.yml` na pasta do projeto para refletir o novo nome do módulo Python com seu pipeline e definir outros parâmetros específicos do projeto."
   ]
  },
  {
   "cell_type": "markdown",
   "id": "07928bfd-570a-4be9-a21e-7a1160e23b71",
   "metadata": {},
   "source": [
    "Você precisa passar os seguintes parâmetros para um script de criação de pipeline — correspondentes aos parâmetros da função `get_pipeline` que você acabou de criar:\n",
    "\n",
    "- `input_s3_url` - um URL do S3 para o conjunto de dados brutos de entrada. Se você criou um grupo de recursos no notebook 3, você pode usar o parâmetro `feature_group_name`  em vez disso\n",
    "- `feature_group_name` –você pode usar este parâmetro se criou este grupo de recursos no notebook 3, neste caso você não precisa fornecer input_s3_url\n",
    "- `model_package_group_name` – o pacote do registro de modelos para registrar um modelo após o treinamento\n",
    "- `pipeline_name_prefix` – um prefixo de nome para o pipeline. O nome do pipeline é construído como `<pipeline_name_prefix>-<project-id>`\n",
    "- `role` –a função de execução do pipeline\n",
    "- `tracking_server_arn`- o ARN do servidor MLflow para rastreamento de execução do pipeline\n",
    "\n",
    "As células a seguir imprimem os valores desses parâmetros:"
   ]
  },
  {
   "cell_type": "code",
   "execution_count": 34,
   "id": "736ce50f-b4a6-4b84-9c4e-f4a9f2c30711",
   "metadata": {
    "tags": []
   },
   "outputs": [
    {
     "name": "stdout",
     "output_type": "stream",
     "text": [
      "\n",
      "        INPUT-S3-URL: s3://sagemaker-us-east-1-533267005474/from-idea-to-prod/xgboost/input/bank-additional-full.csv\n",
      "        FEATURE-GROUP-NAME: from-idea-to-prod-15-02-45-15\n",
      "        MODEL-PACKAGE-GROUP-NAME: from-idea-to-prod-pipeline-model-15-02-08-59\n",
      "        PIPELINE-BASE-NAME: from-idea-to-prod-pipeline-15-02-08-59\n",
      "        SAGEMAKER-EXECUTION-ROLE-ARN: arn:aws:iam::533267005474:role/service-role/AmazonSageMaker-ExecutionRole-20241011T175459\n",
      "        TRACKING-SERVER-ARN: arn:aws:sagemaker:us-east-1:533267005474:mlflow-tracking-server/mlflow-d-j2g52sky4w9s-14-22-19-50\n",
      "        \n"
     ]
    }
   ],
   "source": [
    "try:\n",
    "    print(f\"\"\"\n",
    "        INPUT-S3-URL: {input_s3_url}\n",
    "        FEATURE-GROUP-NAME: {dataset_feature_group_name}\n",
    "        MODEL-PACKAGE-GROUP-NAME: {model_package_group_name}\n",
    "        PIPELINE-BASE-NAME: {pipeline_name}\n",
    "        SAGEMAKER-EXECUTION-ROLE-ARN: {sm_role}\n",
    "        TRACKING-SERVER-ARN: {mlflow_arn}\n",
    "        \"\"\")\n",
    "except NameError:\n",
    "    print(f\"\"\"\n",
    "        O nome do grupo de recursos do conjunto de dados não está definido, use input_s3_url em vez disso.:\n",
    "        ********************************************************************\n",
    "        \n",
    "        INPUT-S3-URL: {input_s3_url}\n",
    "        MODEL-PACKAGE-GROUP-NAME: {model_package_group_name}\n",
    "        PIPELINE-BASE-NAME: {pipeline_name}\n",
    "        SAGEMAKER-EXECUTION-ROLE-ARN: {sm_role}\n",
    "        TRACKING-SERVER-ARN: {mlflow_arn}\n",
    "        \"\"\")"
   ]
  },
  {
   "cell_type": "markdown",
   "id": "c12f8aa7-6bb2-40bc-824f-4dd70f8d5036",
   "metadata": {},
   "source": [
    "Agora, substitua o valor desses parâmetros na célula de código a seguir pelos valores impressos na célula acima.\n",
    "\n",
    "Para fazer isso, localize o parâmetro `kwargs` na célula de código a seguir, começando com `%%writefile codebuild-buildspec.yml`:\n",
    "\n",
    "```\n",
    "--kwargs \"{ \\\n",
    "    \\\"input_s3_url\\\":\\\"<INPUT-S3-URL>\\\", \\\n",
    "    \\\"feature_group_name\\\":\\\"<FEATURE-GROUP-NAME>\\\", \\\n",
    "    \\\"model_package_group_name\\\":\\\"<MODEL-PACKAGE-GROUP-NAME>\\\", \\\n",
    "    \\\"pipeline_name_prefix\\\":\\\"<PIPELINE-BASE-NAME>\\\", \\\n",
    "    \\\"role\\\":\\\"<SAGEMAKER-EXECUTION-ROLE-ARN>\\\", \\\n",
    "    \\\"tracking_server_arn\\\":\\\"<TRACKING-SERVER-ARN>\\\", \\\n",
    "    \\\"region\\\":\\\"${AWS_REGION}\\\", \\\n",
    "    \\\"sagemaker_project_name\\\":\\\"${SAGEMAKER_PROJECT_NAME}\\\", \\\n",
    "    \\\"sagemaker_project_id\\\":\\\"${SAGEMAKER_PROJECT_ID}\\\", \\\n",
    "    \\\"bucket_name\\\":\\\"${ARTIFACT_BUCKET}\\\" \\\n",
    "        }\"\n",
    "```\n",
    "\n",
    "e substitua os valores dos parâmetros `input_s3_url` OU `feature_group_name`, `model_package_group_name`, `pipeline_name_prefix`, `role` e `tracking_server_arn` pelos valores impressos pelas células anteriores.\n",
    "\n",
    "Você precisa substituir apenas um de `input_s3_url` ou `feature_group_name`, dependendo do método de entrada de dados que você deseja usar — um conjunto de dados brutos de entrada do S3 ou o conjunto de recursos processado do Feature Store. Você pode usar o Feature Store apenas se o criou no notebook anterior.\n",
    "\n",
    "<div class=\"alert alert-info\">Apague a linha com o parâmetro que você não usa: `input_s3_url` ou `feature_group_name` do código da célula.</div>\n",
    "\n",
    "![](img/codebuild-buildspec-edit.png)\n",
    "\n",
    "Depois de substituir os valores do parâmetro, execute a célula para gravar um arquivo de especificação de build.\n"
   ]
  },
  {
   "cell_type": "code",
   "execution_count": 35,
   "id": "baa0c8bf-5a4b-40ed-9323-6ae9ad85c842",
   "metadata": {
    "tags": []
   },
   "outputs": [
    {
     "name": "stdout",
     "output_type": "stream",
     "text": [
      "Writing codebuild-buildspec.yml\n"
     ]
    }
   ],
   "source": [
    "%%writefile codebuild-buildspec.yml\n",
    "\n",
    "version: 0.2\n",
    "\n",
    "phases:\n",
    "  install:\n",
    "    runtime-versions:\n",
    "      python: 3.10\n",
    "    commands:\n",
    "      - pip install --upgrade --force-reinstall . \"awscli>1.20.30\"\n",
    "      - pip install mlflow==2.13.2 sagemaker-mlflow s3fs xgboost\n",
    "    \n",
    "  build:\n",
    "    commands:\n",
    "      - export SAGEMAKER_USER_CONFIG_OVERRIDE=\"./config.yaml\"\n",
    "      - export PYTHONUNBUFFERED=TRUE\n",
    "      - export SAGEMAKER_PROJECT_NAME_ID=\"${SAGEMAKER_PROJECT_NAME}-${SAGEMAKER_PROJECT_ID}\"\n",
    "      - |\n",
    "        run-pipeline --module-name pipelines.fromideatoprod.pipeline \\\n",
    "          --role-arn $SAGEMAKER_PIPELINE_ROLE_ARN \\\n",
    "          --tags \"[{\\\"Key\\\":\\\"sagemaker:project-name\\\",\\\"Value\\\":\\\"${SAGEMAKER_PROJECT_NAME}\\\"}, {\\\"Key\\\":\\\"sagemaker:project-id\\\", \\\"Value\\\":\\\"${SAGEMAKER_PROJECT_ID}\\\"}]\" \\\n",
    "          --kwargs \"{ \\\n",
    "                \\\"input_s3_url\\\":\\\"s3://sagemaker-us-east-1-398333718380/from-idea-to-prod/xgboost/input/bank-additional-full.csv\\\", \\\n",
    "                \\\"model_package_group_name\\\":\\\"from-idea-to-prod-pipeline-model-23-07-51-02\\\",\\\n",
    "                \\\"pipeline_name_prefix\\\":\\\"from-idea-to-prod-pipeline-23-07-51-02\\\",\\\n",
    "                \\\"role\\\":\\\"arn:aws:iam::398333718380:role/cfnstudiodomain-SageMakerExecutionRole-8XQVuLUFsn6g\\\",\\\n",
    "                \\\"tracking_server_arn\\\":\\\"arn:aws:sagemaker:us-east-1:398333718380:mlflow-tracking-server/mlflow-d-wxmppmljqkj5\\\", \\\n",
    "                \\\"region\\\":\\\"${AWS_REGION}\\\", \\\n",
    "                \\\"sagemaker_project_name\\\":\\\"${SAGEMAKER_PROJECT_NAME}\\\",\\\n",
    "                \\\"sagemaker_project_id\\\":\\\"${SAGEMAKER_PROJECT_ID}\\\",\\\n",
    "                \\\"bucket_name\\\":\\\"${ARTIFACT_BUCKET}\\\"\\\n",
    "                    }\"\n",
    "      - echo \"Criação/atualização do SageMaker Pipeline e execução do pipeline concluída..\""
   ]
  },
  {
   "cell_type": "markdown",
   "id": "ffd4a948-8a46-4d75-b15a-c15d3d4873c4",
   "metadata": {},
   "source": [
    "Copie o arquivo `codebuild-buildspec.yml` da pasta do treinamento para a pasta do repositório de código do projeto.\n"
   ]
  },
  {
   "cell_type": "code",
   "execution_count": 36,
   "id": "f521809e-b0fe-46a7-b49f-5afea0ab6ad2",
   "metadata": {
    "tags": []
   },
   "outputs": [
    {
     "name": "stdout",
     "output_type": "stream",
     "text": [
      "cp: cannot stat '/home/sagemaker-user/amazon-sagemaker-from-idea-to-production/codebuild-buildspec.yml': No such file or directory\n"
     ]
    }
   ],
   "source": [
    "!cp ~/{workshop_folder}/codebuild-buildspec.yml ~/{project_folder}/codebuild-buildspec.yml"
   ]
  },
  {
   "cell_type": "markdown",
   "id": "00a152ac-2237-45d9-a1a9-1b3d1738e607",
   "metadata": {},
   "source": [
    "Para resumir, você acabou de fazer três alterações no arquivo de especificação de build:\n",
    "\n",
    "1. Modificou o valor do parâmetro `--module-name` de `run-pipeline` de `pipelines.abalone.pipeline` para o novo caminho `pipelines.fromideatoprod.pipeline`\n",
    "2. Removeu alguns parâmetros da lista `kwargs` para usar os valores padrão do parâmetro da função `get_pipeline()`\n",
    "3. Adicionou parâmetros adicionais para o pipeline à lista de parâmetros `kwargs`\n",
    "\n"
   ]
  },
  {
   "cell_type": "markdown",
   "id": "77640dce",
   "metadata": {},
   "source": []
  },
  {
   "cell_type": "markdown",
   "id": "e71c081b-75f2-4c06-a892-8348e9d0cd91",
   "metadata": {},
   "source": [
    "### 4. Corrigir o arquivo `setup.py`\n",
    "\n",
    "Finalmente, abra o arquivo `setup.py` na pasta do repositório de código do projeto e substitua a linha `required_packages = [\"sagemaker==2.XX.0\"]` por `required_packages = [\"sagemaker\"]`. Salve suas alterações.\n",
    "\n",
    "Por que você fez essa alteração? A versão fixa da biblioteca sagemaker é um bug e será corrigida em futuras versões dos modelos de projeto SageMaker integrados. Por enquanto, você corrige este arquivo de modelo manualmente. Lembre-se de que os modelos de projeto integrados são apenas para sua conveniência e para demonstrar como usar o mecanismo de projeto SageMaker para empacotar e provisionar seus próprios projetos personalizados de MLOps.\n",
    "\n",
    "Agora você está pronto para lançar o pipeline de construção de modelos de CI/CD.\n",
    "\n",
    "Tudo está pronto para executar um pipeline de CI/CD.\n"
   ]
  },
  {
   "cell_type": "markdown",
   "id": "9fcfd6d3-2116-42e9-988b-e377fcd4b912",
   "metadata": {},
   "source": [
    "---"
   ]
  },
  {
   "cell_type": "markdown",
   "id": "d4ee8789-1d8f-4a06-a958-8c244fa9a869",
   "metadata": {},
   "source": [
    "## Executar o CI/CD para o pipeline de construção do modelo\n",
    "\n",
    "Para iniciar o CI/CD para o pipeline de construção do modelo, você precisa enviar o código alterado para o repositório CodeCommit do projeto.\n",
    "\n",
    "<div class=\"alert alert-info\">Certifique-se de que você está na pasta que contém o código do repositório no terminal JupyterLab ao executar comandos git. O nome da pasta é semelhante a `sagemaker-[project-name]-[project-id]-modelbuild`.</div>\n",
    "\n",
    "A célula a seguir imprime o comando `cd` necessário com o nome de pasta correto:\n",
    "\n"
   ]
  },
  {
   "cell_type": "code",
   "execution_count": 37,
   "id": "982c5ccf-6279-4c53-bfb3-8ab6cf090155",
   "metadata": {
    "tags": []
   },
   "outputs": [
    {
     "name": "stdout",
     "output_type": "stream",
     "text": [
      "cd ~/sagemaker-model-build-10-15-04-05-48-p-lcexwhfupbld-modelbuild\n"
     ]
    }
   ],
   "source": [
    "print(f\"cd ~/{project_folder}\")"
   ]
  },
  {
   "cell_type": "markdown",
   "id": "a67a546b",
   "metadata": {},
   "source": [
    "Abra uma janela de terminal do sistema por meio do menu JupyterLab **Arquivo** > **Novo** > **Terminal** e insira os comandos a seguir. Mantenha `user.email` e `user.name` ou substitua pelos seus dados.\n",
    "\n",
    "```sh\n",
    "cd ~/<PROJECT-FOLDER>/<PROJECT-CODE-REPOSITORY-FOLDER>\n",
    "\n",
    "git config --global user.email \"you@example.com\"\n",
    "git config --global user.name \"Your Name\"\n",
    "\n",
    "git add -A\n",
    "git commit -am \"personalizar projeto\"\n",
    "git push\n",
    "```\n",
    "\n",
    "Após enviar suas alterações de código, o projeto inicia uma execução do pipeline CodePipeline que constrói, certifica e executa o pipeline de construção de modelos SageMaker. Essa nova execução do pipeline cria uma nova versão do modelo no grupo de pacotes de modelos no registro de modelos SageMaker.\n",
    "\n",
    "Você pode acompanhar a execução do pipeline no widget **Pipelines** do Studio.\n",
    "\n",
    "Aguarde até que a execução do pipeline termine. A execução leva cerca de 15 minutos para ser concluída.\n",
    "\n"
   ]
  },
  {
   "cell_type": "markdown",
   "id": "e569144d-0ee8-4a53-af4d-6ea4cbedb57a",
   "metadata": {},
   "source": [
    "Para ver a execução do pipeline, clique no link construído pela célula de código abaixo. Observe que o CodeBuild leva cerca de 1 minuto para construir, atualizar e iniciar a execução. Atualize a página da interface do usuário do Studio para ver a execução iniciada.\n"
   ]
  },
  {
   "cell_type": "code",
   "execution_count": 39,
   "id": "49315ec3-051f-432c-8039-20b3dfbabb16",
   "metadata": {},
   "outputs": [
    {
     "data": {
      "text/html": [
       "<b>Veja <a target=\"top\" href=\"https://studio-d-j2g52sky4w9s.studio.us-east-1.sagemaker.aws/pipelines/from-idea-to-prod-pipeline-15-02-08-59-p-lcexwhfupbld/executions/\">a pipeline de execução</a> no Studio UI</b>"
      ],
      "text/plain": [
       "<IPython.core.display.HTML object>"
      ]
     },
     "metadata": {},
     "output_type": "display_data"
    }
   ],
   "source": [
    "# Mostre o link da pipeline de execução\n",
    "display(\n",
    "    HTML('<b>Veja <a target=\"top\" href=\"https://studio-{}.studio.{}.sagemaker.aws/pipelines/{}/executions/\">a pipeline de execução</a> no Studio UI</b>'.format(\n",
    "            domain_id, region, p.describe()['PipelineName']))\n",
    ")"
   ]
  },
  {
   "cell_type": "markdown",
   "id": "a30f9944-4659-4e53-9d99-10a58eac4cdf",
   "metadata": {},
   "source": [
    "## Visualizar os detalhes de uma nova versão do modelo\n",
    "\n",
    "Após a conclusão da execução do pipeline, uma nova versão do modelo deve ser registrada no registro de modelos. Para ver os detalhes da versão do modelo:\n",
    "\n",
    "1. Na barra lateral do Studio, escolha o widget **Modelos**\n",
    "2. Clique no nome do grupo de pacotes de modelos que você criou no notebook da etapa 3 (`from-idea-to-prod-pipeline-model-<TIMESTAMP>`) para abrir o grupo de modelos\n",
    "3. Na lista de versões do modelo, selecione a versão mais recente do modelo\n",
    "\n",
    "Na guia de versão do modelo que se abre, você pode navegar pela atividade, [detalhes da versão do modelo](https://docs.aws.amazon.com/sagemaker/latest/dg/model-registry-details.html) e [linhagem de dados](https://docs.aws.amazon.com/sagemaker/latest/dg/lineage-tracking.html).\n",
    "\n",
    "![](img/model-version-details.png)\n",
    "\n",
    "Em um projeto do mundo real, você adiciona vários atributos de modelo e metadados adicionais da versão do modelo, como [métricas de qualidade do modelo](https://docs.aws.amazon.com/sagemaker/latest/dg/model-monitor-model-quality-metrics.html), relatórios de [explicabilidade](https://docs.aws.amazon.com/sagemaker/latest/dg/clarify-model-explainability.html) e [viés](https://docs.aws.amazon.com/sagemaker/latest/dg/clarify-measure-post-training-bias.html), dados de teste de carga e [recomendador de inferência](https://docs.aws.amazon.com/sagemaker/latest/dg/inference-recommender.html).\n"
   ]
  },
  {
   "cell_type": "markdown",
   "id": "dc353ff3-079e-4947-bae6-7ddb7635f670",
   "metadata": {},
   "source": [
    "Para visualizar a versão do pacote de modelo na interface do usuário do Studio, clique no link criado pela célula de código abaixo. Observe que você precisa esperar até que a execução do pipeline termine para visualizar a versão mais recente do pacote de modelo registrada.\n"
   ]
  },
  {
   "cell_type": "code",
   "execution_count": 40,
   "id": "7691c5bb-85f4-4370-b964-ff7c8ccffc6b",
   "metadata": {},
   "outputs": [
    {
     "data": {
      "text/html": [
       "<b>Veja <a target=\"top\" href=\"https://studio-d-j2g52sky4w9s.studio.us-east-1.sagemaker.aws/models/registered-models/from-idea-to-prod-pipeline-model-15-02-08-59/versions\">as versões do pacote do modelo</a> no Studio UI</b>"
      ],
      "text/plain": [
       "<IPython.core.display.HTML object>"
      ]
     },
     "metadata": {},
     "output_type": "display_data"
    }
   ],
   "source": [
    "# Mostrar o link do pacote do modelo\n",
    "display(\n",
    "    HTML('<b>Veja <a target=\"top\" href=\"https://studio-{}.studio.{}.sagemaker.aws/models/registered-models/{}/versions\">as versões do pacote do modelo</a> no Studio UI</b>'.format(\n",
    "            domain_id, region, model_package_group_name))\n",
    ")"
   ]
  },
  {
   "cell_type": "markdown",
   "id": "0b462a7b-d27c-401a-919f-0785617d1361",
   "metadata": {},
   "source": [
    "## Resumo\n",
    "\n",
    "Neste notebook, você implementou um pipeline de CI/CD com os seguintes recursos:\n",
    "\n",
    "- O pipeline de ML de construção de modelos está sob controle de versão em um repositório CodeCommit\n",
    "- Cada envio para o repositório CodeCommit inicia uma nova compilação do CodeBuild que constrói, atualiza e executa o pipeline de ML\n",
    "- Todo o processo de desenvolvimento de modelos e2e agora está automatizado, incluindo o pipeline de construção de modelos\n",
    "- O projeto SageMaker é uma construção lógica no Studio que contém os metadados sobre pipelines de ML, repositórios, modelos, experimentos e endpoints de inferência relacionados\n",
    "\n",
    "\n",
    "\n",
    "---"
   ]
  },
  {
   "cell_type": "markdown",
   "id": "86fcc951-0ea2-43f3-89f0-5b2982334d11",
   "metadata": {},
   "source": [
    "## Continue com a etapa 5\n",
    "Abra o notebook da etapa 5 [notebook](05-deploy.ipynb).\n"
   ]
  },
  {
   "cell_type": "markdown",
   "id": "4afba0bb-5a1d-4399-b3bc-3664be5e40b9",
   "metadata": {},
   "source": [
    "## Ideias de desenvolvimento adicional para seus projetos do mundo real\n",
    "\n",
    "- Você pode usar um [modelo MLOps fornecido pela SageMaker para construção, treinamento e implantação de modelos com repositórios Git de terceiros usando Jenkins](https://docs.aws.amazon.com/sagemaker/latest/dg/sagemaker-projects-templates-sm.html#sagemaker-projects-templates-git-jenkins)\n",
    "- Crie um [modelo de projeto SageMaker personalizado](https://docs.aws.amazon.com/sagemaker/latest/dg/sagemaker-projects-templates-custom.html) para atender aos requisitos específicos do seu projeto\n",
    "\n"
   ]
  },
  {
   "cell_type": "markdown",
   "id": "06e55501-6c9c-40a7-89f3-04530e147a26",
   "metadata": {},
   "source": [
    "## Recursos adicionais\n",
    "\n",
    "- [Laboratório de Pipelines do Amazon SageMaker no SageMaker Immersion Day](https://catalog.us-east-1.prod.workshops.aws/workshops/63069e26-921c-4ce1-9cc7-dd882ff62575/en-US/lab6)\n",
    "- [Melhore seu desenvolvimento de aprendizado de máquina usando uma arquitetura modular com projetos do Amazon SageMaker](https://aws.amazon.com/blogs/machine-learning/enhance-your-machine-learning-development-by-using-a-modular-architecture-with-amazon-sagemaker-projects/)\n",
    "- [Mergulhe fundo na automação do MLOps](https://www.youtube.com/watch?v=3_cHnk9VSfQ)\n",
    "- [Percurso do projeto SageMaker MLOps](https://docs.aws.amazon.com/sagemaker/latest/dg/sagemaker-projects-walkthrough.html)\n",
    "- [Repositório GitHub `aws-samples` com exemplos de modelos de projetos personalizados](https://github.com/aws-samples/sagemaker-custom-project-templates)\n",
    "\n"
   ]
  },
  {
   "cell_type": "markdown",
   "id": "53f175fc-3eea-4777-9047-329c5098eed7",
   "metadata": {},
   "source": [
    "# Desligar o kernel"
   ]
  },
  {
   "cell_type": "code",
   "execution_count": null,
   "id": "feb3ee45-d774-4d7d-8954-6f5479e20090",
   "metadata": {},
   "outputs": [],
   "source": [
    "%%html\n",
    "\n",
    "<p><b>Shutting down your kernel for this notebook to release resources.</b></p>\n",
    "<button class=\"sm-command-button\" data-commandlinker-command=\"kernelmenu:shutdown\" style=\"display:none;\">Shutdown Kernel</button>\n",
    "        \n",
    "<script>\n",
    "try {\n",
    "    els = document.getElementsByClassName(\"sm-command-button\");\n",
    "    els[0].click();\n",
    "}\n",
    "catch(err) {\n",
    "    // NoOp\n",
    "}    \n",
    "</script>"
   ]
  },
  {
   "cell_type": "code",
   "execution_count": null,
   "id": "b10fb645-0789-4fc4-a662-1502d7b30fd2",
   "metadata": {},
   "outputs": [],
   "source": []
  }
 ],
 "metadata": {
  "availableInstances": [
   {
    "_defaultOrder": 0,
    "_isFastLaunch": true,
    "category": "General purpose",
    "gpuNum": 0,
    "hideHardwareSpecs": false,
    "memoryGiB": 4,
    "name": "ml.t3.medium",
    "vcpuNum": 2
   },
   {
    "_defaultOrder": 1,
    "_isFastLaunch": false,
    "category": "General purpose",
    "gpuNum": 0,
    "hideHardwareSpecs": false,
    "memoryGiB": 8,
    "name": "ml.t3.large",
    "vcpuNum": 2
   },
   {
    "_defaultOrder": 2,
    "_isFastLaunch": false,
    "category": "General purpose",
    "gpuNum": 0,
    "hideHardwareSpecs": false,
    "memoryGiB": 16,
    "name": "ml.t3.xlarge",
    "vcpuNum": 4
   },
   {
    "_defaultOrder": 3,
    "_isFastLaunch": false,
    "category": "General purpose",
    "gpuNum": 0,
    "hideHardwareSpecs": false,
    "memoryGiB": 32,
    "name": "ml.t3.2xlarge",
    "vcpuNum": 8
   },
   {
    "_defaultOrder": 4,
    "_isFastLaunch": true,
    "category": "General purpose",
    "gpuNum": 0,
    "hideHardwareSpecs": false,
    "memoryGiB": 8,
    "name": "ml.m5.large",
    "vcpuNum": 2
   },
   {
    "_defaultOrder": 5,
    "_isFastLaunch": false,
    "category": "General purpose",
    "gpuNum": 0,
    "hideHardwareSpecs": false,
    "memoryGiB": 16,
    "name": "ml.m5.xlarge",
    "vcpuNum": 4
   },
   {
    "_defaultOrder": 6,
    "_isFastLaunch": false,
    "category": "General purpose",
    "gpuNum": 0,
    "hideHardwareSpecs": false,
    "memoryGiB": 32,
    "name": "ml.m5.2xlarge",
    "vcpuNum": 8
   },
   {
    "_defaultOrder": 7,
    "_isFastLaunch": false,
    "category": "General purpose",
    "gpuNum": 0,
    "hideHardwareSpecs": false,
    "memoryGiB": 64,
    "name": "ml.m5.4xlarge",
    "vcpuNum": 16
   },
   {
    "_defaultOrder": 8,
    "_isFastLaunch": false,
    "category": "General purpose",
    "gpuNum": 0,
    "hideHardwareSpecs": false,
    "memoryGiB": 128,
    "name": "ml.m5.8xlarge",
    "vcpuNum": 32
   },
   {
    "_defaultOrder": 9,
    "_isFastLaunch": false,
    "category": "General purpose",
    "gpuNum": 0,
    "hideHardwareSpecs": false,
    "memoryGiB": 192,
    "name": "ml.m5.12xlarge",
    "vcpuNum": 48
   },
   {
    "_defaultOrder": 10,
    "_isFastLaunch": false,
    "category": "General purpose",
    "gpuNum": 0,
    "hideHardwareSpecs": false,
    "memoryGiB": 256,
    "name": "ml.m5.16xlarge",
    "vcpuNum": 64
   },
   {
    "_defaultOrder": 11,
    "_isFastLaunch": false,
    "category": "General purpose",
    "gpuNum": 0,
    "hideHardwareSpecs": false,
    "memoryGiB": 384,
    "name": "ml.m5.24xlarge",
    "vcpuNum": 96
   },
   {
    "_defaultOrder": 12,
    "_isFastLaunch": false,
    "category": "General purpose",
    "gpuNum": 0,
    "hideHardwareSpecs": false,
    "memoryGiB": 8,
    "name": "ml.m5d.large",
    "vcpuNum": 2
   },
   {
    "_defaultOrder": 13,
    "_isFastLaunch": false,
    "category": "General purpose",
    "gpuNum": 0,
    "hideHardwareSpecs": false,
    "memoryGiB": 16,
    "name": "ml.m5d.xlarge",
    "vcpuNum": 4
   },
   {
    "_defaultOrder": 14,
    "_isFastLaunch": false,
    "category": "General purpose",
    "gpuNum": 0,
    "hideHardwareSpecs": false,
    "memoryGiB": 32,
    "name": "ml.m5d.2xlarge",
    "vcpuNum": 8
   },
   {
    "_defaultOrder": 15,
    "_isFastLaunch": false,
    "category": "General purpose",
    "gpuNum": 0,
    "hideHardwareSpecs": false,
    "memoryGiB": 64,
    "name": "ml.m5d.4xlarge",
    "vcpuNum": 16
   },
   {
    "_defaultOrder": 16,
    "_isFastLaunch": false,
    "category": "General purpose",
    "gpuNum": 0,
    "hideHardwareSpecs": false,
    "memoryGiB": 128,
    "name": "ml.m5d.8xlarge",
    "vcpuNum": 32
   },
   {
    "_defaultOrder": 17,
    "_isFastLaunch": false,
    "category": "General purpose",
    "gpuNum": 0,
    "hideHardwareSpecs": false,
    "memoryGiB": 192,
    "name": "ml.m5d.12xlarge",
    "vcpuNum": 48
   },
   {
    "_defaultOrder": 18,
    "_isFastLaunch": false,
    "category": "General purpose",
    "gpuNum": 0,
    "hideHardwareSpecs": false,
    "memoryGiB": 256,
    "name": "ml.m5d.16xlarge",
    "vcpuNum": 64
   },
   {
    "_defaultOrder": 19,
    "_isFastLaunch": false,
    "category": "General purpose",
    "gpuNum": 0,
    "hideHardwareSpecs": false,
    "memoryGiB": 384,
    "name": "ml.m5d.24xlarge",
    "vcpuNum": 96
   },
   {
    "_defaultOrder": 20,
    "_isFastLaunch": false,
    "category": "General purpose",
    "gpuNum": 0,
    "hideHardwareSpecs": true,
    "memoryGiB": 0,
    "name": "ml.geospatial.interactive",
    "supportedImageNames": [
     "sagemaker-geospatial-v1-0"
    ],
    "vcpuNum": 0
   },
   {
    "_defaultOrder": 21,
    "_isFastLaunch": true,
    "category": "Compute optimized",
    "gpuNum": 0,
    "hideHardwareSpecs": false,
    "memoryGiB": 4,
    "name": "ml.c5.large",
    "vcpuNum": 2
   },
   {
    "_defaultOrder": 22,
    "_isFastLaunch": false,
    "category": "Compute optimized",
    "gpuNum": 0,
    "hideHardwareSpecs": false,
    "memoryGiB": 8,
    "name": "ml.c5.xlarge",
    "vcpuNum": 4
   },
   {
    "_defaultOrder": 23,
    "_isFastLaunch": false,
    "category": "Compute optimized",
    "gpuNum": 0,
    "hideHardwareSpecs": false,
    "memoryGiB": 16,
    "name": "ml.c5.2xlarge",
    "vcpuNum": 8
   },
   {
    "_defaultOrder": 24,
    "_isFastLaunch": false,
    "category": "Compute optimized",
    "gpuNum": 0,
    "hideHardwareSpecs": false,
    "memoryGiB": 32,
    "name": "ml.c5.4xlarge",
    "vcpuNum": 16
   },
   {
    "_defaultOrder": 25,
    "_isFastLaunch": false,
    "category": "Compute optimized",
    "gpuNum": 0,
    "hideHardwareSpecs": false,
    "memoryGiB": 72,
    "name": "ml.c5.9xlarge",
    "vcpuNum": 36
   },
   {
    "_defaultOrder": 26,
    "_isFastLaunch": false,
    "category": "Compute optimized",
    "gpuNum": 0,
    "hideHardwareSpecs": false,
    "memoryGiB": 96,
    "name": "ml.c5.12xlarge",
    "vcpuNum": 48
   },
   {
    "_defaultOrder": 27,
    "_isFastLaunch": false,
    "category": "Compute optimized",
    "gpuNum": 0,
    "hideHardwareSpecs": false,
    "memoryGiB": 144,
    "name": "ml.c5.18xlarge",
    "vcpuNum": 72
   },
   {
    "_defaultOrder": 28,
    "_isFastLaunch": false,
    "category": "Compute optimized",
    "gpuNum": 0,
    "hideHardwareSpecs": false,
    "memoryGiB": 192,
    "name": "ml.c5.24xlarge",
    "vcpuNum": 96
   },
   {
    "_defaultOrder": 29,
    "_isFastLaunch": true,
    "category": "Accelerated computing",
    "gpuNum": 1,
    "hideHardwareSpecs": false,
    "memoryGiB": 16,
    "name": "ml.g4dn.xlarge",
    "vcpuNum": 4
   },
   {
    "_defaultOrder": 30,
    "_isFastLaunch": false,
    "category": "Accelerated computing",
    "gpuNum": 1,
    "hideHardwareSpecs": false,
    "memoryGiB": 32,
    "name": "ml.g4dn.2xlarge",
    "vcpuNum": 8
   },
   {
    "_defaultOrder": 31,
    "_isFastLaunch": false,
    "category": "Accelerated computing",
    "gpuNum": 1,
    "hideHardwareSpecs": false,
    "memoryGiB": 64,
    "name": "ml.g4dn.4xlarge",
    "vcpuNum": 16
   },
   {
    "_defaultOrder": 32,
    "_isFastLaunch": false,
    "category": "Accelerated computing",
    "gpuNum": 1,
    "hideHardwareSpecs": false,
    "memoryGiB": 128,
    "name": "ml.g4dn.8xlarge",
    "vcpuNum": 32
   },
   {
    "_defaultOrder": 33,
    "_isFastLaunch": false,
    "category": "Accelerated computing",
    "gpuNum": 4,
    "hideHardwareSpecs": false,
    "memoryGiB": 192,
    "name": "ml.g4dn.12xlarge",
    "vcpuNum": 48
   },
   {
    "_defaultOrder": 34,
    "_isFastLaunch": false,
    "category": "Accelerated computing",
    "gpuNum": 1,
    "hideHardwareSpecs": false,
    "memoryGiB": 256,
    "name": "ml.g4dn.16xlarge",
    "vcpuNum": 64
   },
   {
    "_defaultOrder": 35,
    "_isFastLaunch": false,
    "category": "Accelerated computing",
    "gpuNum": 1,
    "hideHardwareSpecs": false,
    "memoryGiB": 61,
    "name": "ml.p3.2xlarge",
    "vcpuNum": 8
   },
   {
    "_defaultOrder": 36,
    "_isFastLaunch": false,
    "category": "Accelerated computing",
    "gpuNum": 4,
    "hideHardwareSpecs": false,
    "memoryGiB": 244,
    "name": "ml.p3.8xlarge",
    "vcpuNum": 32
   },
   {
    "_defaultOrder": 37,
    "_isFastLaunch": false,
    "category": "Accelerated computing",
    "gpuNum": 8,
    "hideHardwareSpecs": false,
    "memoryGiB": 488,
    "name": "ml.p3.16xlarge",
    "vcpuNum": 64
   },
   {
    "_defaultOrder": 38,
    "_isFastLaunch": false,
    "category": "Accelerated computing",
    "gpuNum": 8,
    "hideHardwareSpecs": false,
    "memoryGiB": 768,
    "name": "ml.p3dn.24xlarge",
    "vcpuNum": 96
   },
   {
    "_defaultOrder": 39,
    "_isFastLaunch": false,
    "category": "Memory Optimized",
    "gpuNum": 0,
    "hideHardwareSpecs": false,
    "memoryGiB": 16,
    "name": "ml.r5.large",
    "vcpuNum": 2
   },
   {
    "_defaultOrder": 40,
    "_isFastLaunch": false,
    "category": "Memory Optimized",
    "gpuNum": 0,
    "hideHardwareSpecs": false,
    "memoryGiB": 32,
    "name": "ml.r5.xlarge",
    "vcpuNum": 4
   },
   {
    "_defaultOrder": 41,
    "_isFastLaunch": false,
    "category": "Memory Optimized",
    "gpuNum": 0,
    "hideHardwareSpecs": false,
    "memoryGiB": 64,
    "name": "ml.r5.2xlarge",
    "vcpuNum": 8
   },
   {
    "_defaultOrder": 42,
    "_isFastLaunch": false,
    "category": "Memory Optimized",
    "gpuNum": 0,
    "hideHardwareSpecs": false,
    "memoryGiB": 128,
    "name": "ml.r5.4xlarge",
    "vcpuNum": 16
   },
   {
    "_defaultOrder": 43,
    "_isFastLaunch": false,
    "category": "Memory Optimized",
    "gpuNum": 0,
    "hideHardwareSpecs": false,
    "memoryGiB": 256,
    "name": "ml.r5.8xlarge",
    "vcpuNum": 32
   },
   {
    "_defaultOrder": 44,
    "_isFastLaunch": false,
    "category": "Memory Optimized",
    "gpuNum": 0,
    "hideHardwareSpecs": false,
    "memoryGiB": 384,
    "name": "ml.r5.12xlarge",
    "vcpuNum": 48
   },
   {
    "_defaultOrder": 45,
    "_isFastLaunch": false,
    "category": "Memory Optimized",
    "gpuNum": 0,
    "hideHardwareSpecs": false,
    "memoryGiB": 512,
    "name": "ml.r5.16xlarge",
    "vcpuNum": 64
   },
   {
    "_defaultOrder": 46,
    "_isFastLaunch": false,
    "category": "Memory Optimized",
    "gpuNum": 0,
    "hideHardwareSpecs": false,
    "memoryGiB": 768,
    "name": "ml.r5.24xlarge",
    "vcpuNum": 96
   },
   {
    "_defaultOrder": 47,
    "_isFastLaunch": false,
    "category": "Accelerated computing",
    "gpuNum": 1,
    "hideHardwareSpecs": false,
    "memoryGiB": 16,
    "name": "ml.g5.xlarge",
    "vcpuNum": 4
   },
   {
    "_defaultOrder": 48,
    "_isFastLaunch": false,
    "category": "Accelerated computing",
    "gpuNum": 1,
    "hideHardwareSpecs": false,
    "memoryGiB": 32,
    "name": "ml.g5.2xlarge",
    "vcpuNum": 8
   },
   {
    "_defaultOrder": 49,
    "_isFastLaunch": false,
    "category": "Accelerated computing",
    "gpuNum": 1,
    "hideHardwareSpecs": false,
    "memoryGiB": 64,
    "name": "ml.g5.4xlarge",
    "vcpuNum": 16
   },
   {
    "_defaultOrder": 50,
    "_isFastLaunch": false,
    "category": "Accelerated computing",
    "gpuNum": 1,
    "hideHardwareSpecs": false,
    "memoryGiB": 128,
    "name": "ml.g5.8xlarge",
    "vcpuNum": 32
   },
   {
    "_defaultOrder": 51,
    "_isFastLaunch": false,
    "category": "Accelerated computing",
    "gpuNum": 1,
    "hideHardwareSpecs": false,
    "memoryGiB": 256,
    "name": "ml.g5.16xlarge",
    "vcpuNum": 64
   },
   {
    "_defaultOrder": 52,
    "_isFastLaunch": false,
    "category": "Accelerated computing",
    "gpuNum": 4,
    "hideHardwareSpecs": false,
    "memoryGiB": 192,
    "name": "ml.g5.12xlarge",
    "vcpuNum": 48
   },
   {
    "_defaultOrder": 53,
    "_isFastLaunch": false,
    "category": "Accelerated computing",
    "gpuNum": 4,
    "hideHardwareSpecs": false,
    "memoryGiB": 384,
    "name": "ml.g5.24xlarge",
    "vcpuNum": 96
   },
   {
    "_defaultOrder": 54,
    "_isFastLaunch": false,
    "category": "Accelerated computing",
    "gpuNum": 8,
    "hideHardwareSpecs": false,
    "memoryGiB": 768,
    "name": "ml.g5.48xlarge",
    "vcpuNum": 192
   },
   {
    "_defaultOrder": 55,
    "_isFastLaunch": false,
    "category": "Accelerated computing",
    "gpuNum": 8,
    "hideHardwareSpecs": false,
    "memoryGiB": 1152,
    "name": "ml.p4d.24xlarge",
    "vcpuNum": 96
   },
   {
    "_defaultOrder": 56,
    "_isFastLaunch": false,
    "category": "Accelerated computing",
    "gpuNum": 8,
    "hideHardwareSpecs": false,
    "memoryGiB": 1152,
    "name": "ml.p4de.24xlarge",
    "vcpuNum": 96
   },
   {
    "_defaultOrder": 57,
    "_isFastLaunch": false,
    "category": "Accelerated computing",
    "gpuNum": 0,
    "hideHardwareSpecs": false,
    "memoryGiB": 32,
    "name": "ml.trn1.2xlarge",
    "vcpuNum": 8
   },
   {
    "_defaultOrder": 58,
    "_isFastLaunch": false,
    "category": "Accelerated computing",
    "gpuNum": 0,
    "hideHardwareSpecs": false,
    "memoryGiB": 512,
    "name": "ml.trn1.32xlarge",
    "vcpuNum": 128
   },
   {
    "_defaultOrder": 59,
    "_isFastLaunch": false,
    "category": "Accelerated computing",
    "gpuNum": 0,
    "hideHardwareSpecs": false,
    "memoryGiB": 512,
    "name": "ml.trn1n.32xlarge",
    "vcpuNum": 128
   }
  ],
  "instance_type": "ml.t3.medium",
  "kernelspec": {
   "display_name": "Python 3 (ipykernel)",
   "language": "python",
   "name": "python3"
  },
  "language_info": {
   "codemirror_mode": {
    "name": "ipython",
    "version": 3
   },
   "file_extension": ".py",
   "mimetype": "text/x-python",
   "name": "python",
   "nbconvert_exporter": "python",
   "pygments_lexer": "ipython3",
   "version": "3.11.9"
  }
 },
 "nbformat": 4,
 "nbformat_minor": 5
}
