{
 "cells": [
  {
   "cell_type": "markdown",
   "id": "575c15ae-ffe0-4d93-84d8-bf96278c0372",
   "metadata": {
    "tags": []
   },
   "source": [
    "# Etapa 3: Adicionar um pipeline de ML\n",
    "\n",
    "Nesta etapa, você automatiza nosso fluxo de trabalho de ML de ponta a ponta usando [Amazon SageMaker Pipelines](https://aws.amazon.com/sagemaker/pipelines/) e [Amazon SageMaker Model Registry](https://docs.aws.amazon.com/sagemaker/latest/dg/model-registry.html). Você torna a engenharia de features reutilizável, repetível e escalável usando o [Amazon SageMaker Feature Store](https://aws.amazon.com/sagemaker/feature-store/).\n",
    "\n",
    "![](img/seis-etapas-3.png)\n",
    "\n",
    "<div class=\"alert alert-info\"> Certifique-se de que está usando o kernel <code>Python 3</code> no JupyterLab para este notebook.</div>"
   ]
  },
  {
   "cell_type": "markdown",
   "id": "401790be-c212-4cb1-b265-4fb0e739836a",
   "metadata": {},
   "source": [
    "<svg width=\"800\" height=\"125\" viewBox=\"0 0 800 125\" xmlns=\"http://www.w3.org/2000/svg\">\n",
    "    <defs>\n",
    "        <linearGradient id=\"fadeGradient\" x1=\"0\" x2=\"1\">\n",
    "            <stop offset=\"0%\" stop-color=\"#F0F0F0\"/>\n",
    "            <stop offset=\"100%\" stop-color=\"#F0F0F0\" stop-opacity=\"0\"/>\n",
    "        </linearGradient>\n",
    "        <mask id=\"fadeMask\">\n",
    "            <rect x=\"0\" y=\"0\" width=\"750\" height=\"125\" fill=\"white\"/>\n",
    "            <rect x=\"750\" y=\"0\" width=\"50\" height=\"125\" fill=\"url(#fadeGradient)\"/>\n",
    "        </mask>\n",
    "    </defs>\n",
    "    <path d=\"M3,50 A50,50 0 0 1 53,3 L797,3 L797,97 L97,97 L50,115 L3,97 Z\" fill=\"#F0F0F0\" stroke=\"#E0E0E0\" stroke-width=\"1\" mask=\"url(#fadeMask)\"/>\n",
    "    <circle cx=\"50\" cy=\"50\" r=\"30\" fill=\"#57c4f8\" stroke=\"#57c4f8\" stroke-width=\"1\"/>\n",
    "    <circle cx=\"50\" cy=\"50\" r=\"25\" fill=\"#F0F0F0\"/>\n",
    "    <line x1=\"50\" y1=\"50\" x2=\"50\" y2=\"30\" stroke=\"#57c4f8\" stroke-width=\"3\" stroke-linecap=\"round\"/>\n",
    "    <line x1=\"50\" y1=\"50\" x2=\"65\" y2=\"50\" stroke=\"#57c4f8\" stroke-width=\"3\" stroke-linecap=\"round\"/>\n",
    "    <text x=\"100\" y=\"34\" font-family=\"Arial, sans-serif\" font-size=\"14\" fill=\"#333333\">A próxima célula pode levar alguns minutos para ser executada. Por favor, seja paciente.</text>\n",
    "    <text x=\"100\" y=\"56\" font-family=\"Arial, sans-serif\" font-size=\"14\" fill=\"#333333\">Você pode ignorar com segurança as mensagens de aviso.</text>\n",
    "</svg>"
   ]
  },
  {
   "cell_type": "code",
   "execution_count": null,
   "id": "87aad487",
   "metadata": {},
   "outputs": [],
   "source": [
    "#  Para obter o módulo Feature Processor, precisamos reinstalar o SDK python do SageMaker junto com dependências extras#\n",
    "%pip install 'sagemaker[feature-processor]' --force-reinstall"
   ]
  },
  {
   "cell_type": "code",
   "execution_count": null,
   "id": "9789004f",
   "metadata": {},
   "outputs": [],
   "source": [
    "%pip install -q s3fs"
   ]
  },
  {
   "cell_type": "markdown",
   "id": "0fd46bfb-a2b3-42d4-a136-616ddcd12be5",
   "metadata": {},
   "source": [
    "<img src=\"data:image/svg+xml;base64,Cjxzdmcgd2lkdGg9IjgwMCIgaGVpZ2h0PSI1MCIgdmlld0JveD0iMCAwIDgwMCA1MCIgeG1sbnM9Imh0dHA6Ly93d3cudzMub3JnLzIwMDAvc3ZnIj4KICAgIDxkZWZzPgogICAgICAgIDxsaW5lYXJHcmFkaWVudCBpZD0iZmFkZUdyYWRpZW50IiB4MT0iMCIgeDI9IjEiPgogICAgICAgICAgICA8c3RvcCBvZmZzZXQ9IjAlIiBzdG9wLWNvbG9yPSIjRjBGMEYwIi8+CiAgICAgICAgICAgIDxzdG9wIG9mZnNldD0iMTAwJSIgc3RvcC1jb2xvcj0iI0YwRjBGMCIgc3RvcC1vcGFjaXR5PSIwIi8+CiAgICAgICAgPC9saW5lYXJHcmFkaWVudD4KICAgICAgICA8bWFzayBpZD0iZmFkZU1hc2siPgogICAgICAgICAgICA8cmVjdCB4PSIwIiB5PSIwIiB3aWR0aD0iNzUwIiBoZWlnaHQ9IjUwIiBmaWxsPSJ3aGl0ZSIvPgogICAgICAgICAgICA8cmVjdCB4PSI3NTAiIHk9IjAiIHdpZHRoPSI1MCIgaGVpZ2h0PSI1MCIgZmlsbD0idXJsKCNmYWRlR3JhZGllbnQpIi8+CiAgICAgICAgPC9tYXNrPgogICAgPC9kZWZzPgogICAgPHBhdGggZD0iTTI1LDUwIFEwLDUwIDAsMjUgTDUwLDMgTDk3LDI1IEw3OTcsMjUgTDc5Nyw1MCBMMjUsNTAgWiIgZmlsbD0iI0YwRjBGMCIgc3Ryb2tlPSIjRTBFMEUwIiBzdHJva2Utd2lkdGg9IjEiIG1hc2s9InVybCgjZmFkZU1hc2spIi8+Cjwvc3ZnPgo=\" alt=\"Time alert close\"/>"
   ]
  },
  {
   "cell_type": "code",
   "execution_count": 3,
   "id": "1cc5659e-ab01-4704-8063-1bdf3ce532ce",
   "metadata": {
    "tags": []
   },
   "outputs": [
    {
     "data": {
      "text/plain": [
       "{'status': 'ok', 'restart': True}"
      ]
     },
     "execution_count": 3,
     "metadata": {},
     "output_type": "execute_result"
    }
   ],
   "source": [
    "# Restart kernel\n",
    "import IPython\n",
    "IPython.Application.instance().kernel.do_shutdown(True)"
   ]
  },
  {
   "cell_type": "code",
   "execution_count": 1,
   "id": "6ca42d3f-7231-44cc-83f4-a54c6a7995f4",
   "metadata": {
    "tags": []
   },
   "outputs": [
    {
     "name": "stdout",
     "output_type": "stream",
     "text": [
      "sagemaker.config INFO - Not applying SDK defaults from location: /etc/xdg/sagemaker/config.yaml\n",
      "sagemaker.config INFO - Not applying SDK defaults from location: /home/sagemaker-user/.config/sagemaker/config.yaml\n"
     ]
    },
    {
     "data": {
      "text/plain": [
       "'2.226.1'"
      ]
     },
     "execution_count": 1,
     "metadata": {},
     "output_type": "execute_result"
    }
   ],
   "source": [
    "import pandas as pd\n",
    "import json\n",
    "import boto3\n",
    "import pathlib\n",
    "import io\n",
    "import sagemaker\n",
    "import mlflow\n",
    "from time import gmtime, strftime, sleep\n",
    "from sagemaker.deserializers import CSVDeserializer\n",
    "from sagemaker.serializers import CSVSerializer\n",
    "\n",
    "from sagemaker.workflow.execution_variables import ExecutionVariables\n",
    "from sagemaker.workflow.pipeline_context import PipelineSession\n",
    "from sagemaker.xgboost.estimator import XGBoost\n",
    "from sagemaker.sklearn.processing import SKLearnProcessor\n",
    "from sagemaker.processing import (\n",
    "    ProcessingInput, \n",
    "    ProcessingOutput, \n",
    "    ScriptProcessor\n",
    ")\n",
    "from sagemaker.inputs import TrainingInput\n",
    "\n",
    "from sagemaker.workflow.pipeline import Pipeline\n",
    "from sagemaker.workflow.steps import (\n",
    "    ProcessingStep, \n",
    "    TrainingStep, \n",
    "    CreateModelStep,\n",
    "    CacheConfig\n",
    ")\n",
    "from sagemaker.workflow.check_job_config import CheckJobConfig\n",
    "from sagemaker.workflow.parameters import (\n",
    "    ParameterInteger, \n",
    "    ParameterFloat, \n",
    "    ParameterString, \n",
    "    ParameterBoolean\n",
    ")\n",
    "from sagemaker.workflow.quality_check_step import (\n",
    "    DataQualityCheckConfig,\n",
    "    ModelQualityCheckConfig,\n",
    "    QualityCheckStep,\n",
    ")\n",
    "from sagemaker.workflow.clarify_check_step import (\n",
    "    ModelBiasCheckConfig, \n",
    "    ClarifyCheckStep, \n",
    "    ModelExplainabilityCheckConfig\n",
    ")\n",
    "from sagemaker import Model\n",
    "from sagemaker.inputs import CreateModelInput\n",
    "from sagemaker.workflow.model_step import ModelStep\n",
    "from sagemaker.workflow.fail_step import FailStep\n",
    "from sagemaker.workflow.conditions import (\n",
    "    ConditionGreaterThan,\n",
    "    ConditionGreaterThanOrEqualTo\n",
    ")\n",
    "from sagemaker.workflow.parallelism_config import ParallelismConfiguration\n",
    "from sagemaker.workflow.properties import PropertyFile\n",
    "from sagemaker.workflow.condition_step import ConditionStep\n",
    "from sagemaker.workflow.functions import (\n",
    "    Join,\n",
    "    JsonGet\n",
    ")\n",
    "from sagemaker.workflow.lambda_step import (\n",
    "    LambdaStep,\n",
    "    LambdaOutput,\n",
    "    LambdaOutputTypeEnum,\n",
    ")\n",
    "from sagemaker.lambda_helper import Lambda\n",
    "\n",
    "from sagemaker.model_metrics import (\n",
    "    MetricsSource, \n",
    "    ModelMetrics, \n",
    "    FileSource\n",
    ")\n",
    "from sagemaker.drift_check_baselines import DriftCheckBaselines\n",
    "from sagemaker.workflow.pipeline_definition_config import PipelineDefinitionConfig \n",
    "from sagemaker.image_uris import retrieve\n",
    "from sagemaker.workflow.function_step import step\n",
    "from sagemaker.workflow.step_outputs import get_step\n",
    "from sagemaker.model_monitor import DatasetFormat, model_monitoring\n",
    "\n",
    "sagemaker.__version__"
   ]
  },
  {
   "cell_type": "code",
   "execution_count": 2,
   "id": "015980fe-d2c9-44d5-aa99-08e49bc50c9f",
   "metadata": {
    "tags": []
   },
   "outputs": [],
   "source": [
    "%load_ext autoreload\n",
    "%autoreload 2"
   ]
  },
  {
   "cell_type": "code",
   "execution_count": 3,
   "id": "313ac5a8-2730-45fd-8bed-1559c422748c",
   "metadata": {
    "tags": []
   },
   "outputs": [
    {
     "name": "stdout",
     "output_type": "stream",
     "text": [
      "Stored variables and their in-db values:\n",
      "bucket_name                         -> 'sagemaker-us-east-1-398333718380'\n",
      "bucket_prefix                       -> 'from-idea-to-prod/xgboost'\n",
      "dataset_file_local_path             -> 'data/bank-additional/bank-additional-full.csv'\n",
      "domain_id                           -> 'd-wxmppmljqkj5'\n",
      "initialized                         -> True\n",
      "input_s3_url                        -> 's3://sagemaker-us-east-1-398333718380/from-idea-t\n",
      "mlflow_arn                          -> 'arn:aws:sagemaker:us-east-1:398333718380:mlflow-t\n",
      "mlflow_name                         -> 'mlflow-d-wxmppmljqkj5'\n",
      "region                              -> 'us-east-1'\n",
      "sm_role                             -> 'arn:aws:iam::398333718380:role/cfnstudiodomain-Sa\n",
      "space_name                          -> 'sagemaker-space'\n",
      "user_profile_name                   -> 'studio-user-e44b6ca0'\n"
     ]
    }
   ],
   "source": [
    "%store -r \n",
    "\n",
    "%store\n",
    "\n",
    "try:\n",
    "    initialized\n",
    "except NameError:\n",
    "    print(\"+++++++++++++++++++++++++++++++++++++++++++++++++\")\n",
    "    print(\"[ERROR] YOU HAVE TO RUN 00-inicie-aqui notebook   \")\n",
    "    print(\"+++++++++++++++++++++++++++++++++++++++++++++++++\")"
   ]
  },
  {
   "cell_type": "markdown",
   "id": "defd6d8b-a230-4bf8-a575-2c6dcff55615",
   "metadata": {},
   "source": [
    "## Definir constantes\n",
    "\n"
   ]
  },
  {
   "cell_type": "code",
   "execution_count": 4,
   "id": "152b507e-f512-49c9-9f59-6477133bd118",
   "metadata": {
    "tags": []
   },
   "outputs": [],
   "source": [
    "# Definir nomes dos objetos do pipeline, experimento e modelo\n",
    "\n",
    "project = \"from-idea-to-prod\"\n",
    "\n",
    "current_timestamp = strftime('%d-%H-%M-%S', gmtime())\n",
    "\n",
    "registered_model_name = f\"{project}-pipeline-model-{current_timestamp}\"\n",
    "experiment_name = f\"{project}-pipeline-{current_timestamp}\"\n",
    "pipeline_name = f\"{project}-pipeline-{current_timestamp}\"\n",
    "pipeline_model_name = f\"{project}-model-xgb\"\n",
    "model_package_group_name = registered_model_name\n",
    "endpoint_config_name = f\"{project}-endpoint-config\"\n",
    "endpoint_name = f\"{project}-endpoint\"\n",
    "model_approval_status = \"PendingManualApproval\""
   ]
  },
  {
   "cell_type": "code",
   "execution_count": 5,
   "id": "c947da3b-e046-4dea-9897-1717c5bbc3a3",
   "metadata": {
    "tags": []
   },
   "outputs": [],
   "source": [
    "# Definir tipos e contagens de instâncias\n",
    "\n",
    "process_instance_type = \"ml.m5.large\"\n",
    "train_instance_type = \"ml.m5.large\""
   ]
  },
  {
   "cell_type": "code",
   "execution_count": 6,
   "id": "0e9be066-8452-4058-b50e-e3027cb466b1",
   "metadata": {
    "tags": []
   },
   "outputs": [],
   "source": [
    "# Definir URLs do S3 para vários conjuntos de dados produzidos no pipeline\n",
    "\n",
    "output_s3_prefix = f\"s3://{bucket_name}/{bucket_prefix}\"\n",
    "output_s3_url = f\"{output_s3_prefix}/output\"\n",
    "\n",
    "train_s3_url = f\"{output_s3_prefix}/train\"\n",
    "validation_s3_url = f\"{output_s3_prefix}/validation\"\n",
    "test_s3_url = f\"{output_s3_prefix}/test\"\n",
    "evaluation_s3_url = f\"{output_s3_prefix}/evaluation\"\n",
    "\n",
    "baseline_s3_url = f\"{output_s3_prefix}/baseline\"\n",
    "baseline_results_s3_url = f\"{baseline_s3_url}/results\"\n",
    "\n",
    "prediction_baseline_s3_url = f\"{output_s3_prefix}/prediction_baseline\"\n",
    "prediction_baseline_results_s3_url=f\"{prediction_baseline_s3_url}/results\""
   ]
  },
  {
   "cell_type": "code",
   "execution_count": 7,
   "id": "14c75128-ac7f-4d9c-a8ff-1744a6f24570",
   "metadata": {},
   "outputs": [
    {
     "name": "stderr",
     "output_type": "stream",
     "text": [
      "INFO:sagemaker.image_uris:Ignoring unnecessary instance type: None.\n"
     ]
    }
   ],
   "source": [
    "XGBOOST_IMAGE_URI = sagemaker.image_uris.retrieve(\n",
    "            \"xgboost\", \n",
    "            region=boto3.Session().region_name,\n",
    "            version=\"1.7-1\"\n",
    ")"
   ]
  },
  {
   "cell_type": "code",
   "execution_count": 8,
   "id": "f3d649cf-b64c-4978-b3f5-cf767b7f1870",
   "metadata": {
    "tags": []
   },
   "outputs": [
    {
     "name": "stdout",
     "output_type": "stream",
     "text": [
      "Stored 'train_s3_url' (str)\n",
      "Stored 'validation_s3_url' (str)\n",
      "Stored 'test_s3_url' (str)\n",
      "Stored 'baseline_s3_url' (str)\n",
      "Stored 'pipeline_name' (str)\n",
      "Stored 'model_package_group_name' (str)\n",
      "Stored 'evaluation_s3_url' (str)\n",
      "Stored 'prediction_baseline_s3_url' (str)\n",
      "Stored 'output_s3_url' (str)\n"
     ]
    }
   ],
   "source": [
    "%store train_s3_url\n",
    "%store validation_s3_url\n",
    "%store test_s3_url\n",
    "%store baseline_s3_url\n",
    "%store pipeline_name\n",
    "%store model_package_group_name\n",
    "%store evaluation_s3_url\n",
    "%store prediction_baseline_s3_url\n",
    "%store output_s3_url"
   ]
  },
  {
   "cell_type": "code",
   "execution_count": 9,
   "id": "54b75414-0239-4682-a435-22d646bb16cb",
   "metadata": {
    "tags": []
   },
   "outputs": [
    {
     "name": "stdout",
     "output_type": "stream",
     "text": [
      "Train S3 url: s3://sagemaker-us-east-1-398333718380/from-idea-to-prod/xgboost/train\n",
      "Validation S3 url: s3://sagemaker-us-east-1-398333718380/from-idea-to-prod/xgboost/validation\n",
      "Test S3 url: s3://sagemaker-us-east-1-398333718380/from-idea-to-prod/xgboost/test\n",
      "Data baseline S3 url: s3://sagemaker-us-east-1-398333718380/from-idea-to-prod/xgboost/baseline\n",
      "Evaluation metrics S3 url: s3://sagemaker-us-east-1-398333718380/from-idea-to-prod/xgboost/evaluation\n",
      "Model prediction baseline S3 url: s3://sagemaker-us-east-1-398333718380/from-idea-to-prod/xgboost/prediction_baseline\n"
     ]
    }
   ],
   "source": [
    "print(f\"Train S3 url: {train_s3_url}\")\n",
    "print(f\"Validation S3 url: {validation_s3_url}\")\n",
    "print(f\"Test S3 url: {test_s3_url}\")\n",
    "print(f\"Data baseline S3 url: {baseline_s3_url}\")\n",
    "print(f\"Evaluation metrics S3 url: {evaluation_s3_url}\")\n",
    "print(f\"Model prediction baseline S3 url: {prediction_baseline_s3_url}\")"
   ]
  },
  {
   "cell_type": "markdown",
   "id": "d1786703-1446-4cf4-9215-3903b5eb5bcf",
   "metadata": {},
   "source": [
    "## Definir funções auxiliares\n",
    "Defina algumas funções abreviadas para melhor legibilidade do código."
   ]
  },
  {
   "cell_type": "code",
   "execution_count": 10,
   "id": "085266d0-0c68-4189-abd2-3031a3bd5e9e",
   "metadata": {},
   "outputs": [],
   "source": [
    "def get_xgb_estimator(\n",
    "    session,\n",
    "    instance_type,\n",
    "    output_s3_url,\n",
    "    base_job_name,\n",
    "):\n",
    "    \"\"\"\n",
    "    Cria e configura um estimador XGBoost para o SageMaker.\n",
    "\n",
    "    Args:\n",
    "        session (sagemaker.session.Session): Objeto de sessão do SageMaker.\n",
    "        instance_type (str): Tipo de instância EC2 para treinamento.\n",
    "        output_s3_url (str): URL S3 para armazenar artefatos de saída.\n",
    "        base_job_name (str): Nome base para o trabalho de treinamento no SageMaker.\n",
    "\n",
    "    Returns:\n",
    "        sagemaker.estimator.Estimator: Objeto estimador XGBoost configurado.\n",
    "\n",
    "    Esta função cria um estimador SageMaker para XGBoost e define seus hiperparâmetros.\n",
    "    O estimador é configurado com o tipo de instância, local de saída e nome de trabalho especificados.\n",
    "    \"\"\"\n",
    "    # Instanciar um objeto estimador XGBoost\n",
    "    estimator = sagemaker.estimator.Estimator(\n",
    "        image_uri=XGBOOST_IMAGE_URI,\n",
    "        role=sagemaker.get_execution_role(), \n",
    "        instance_type=instance_type,\n",
    "        instance_count=1,\n",
    "        output_path=output_s3_url,\n",
    "        sagemaker_session=session,\n",
    "        base_job_name=base_job_name\n",
    "    )\n",
    "    \n",
    "    # Definir hiperparâmetros do algoritmo\n",
    "    estimator.set_hyperparameters(\n",
    "        num_round=100,              # Número de rodadas de boosting para treinamento\n",
    "        max_depth=3,                # Profundidade máxima de uma árvore\n",
    "        eta=0.5,                    # Taxa de aprendizado, controla o tamanho do passo na descida do gradiente\n",
    "        alpha=2.5,                  # Termo de regularização L1 nos pesos\n",
    "        objective=\"binary:logistic\", # Função objetivo para classificação binária\n",
    "        eval_metric=\"auc\",          # Métrica de avaliação para dados de validação\n",
    "        subsample=0.8,              # Fração de amostras usadas para treinar cada árvore\n",
    "        colsample_bytree=0.8,       # Fração de features usadas para treinar cada árvore\n",
    "        min_child_weight=3,         # Soma mínima do peso da instância necessária em um nó filho\n",
    "        early_stopping_rounds=10,   # Número de rodadas sem melhoria antes de parar precocemente\n",
    "        verbosity=1,                # Nível de detalhamento para registro de log\n",
    "    )\n",
    "\n",
    "    return estimator"
   ]
  },
  {
   "cell_type": "markdown",
   "id": "195eda2d-0a32-42e5-b296-ed9dee23bdd1",
   "metadata": {},
   "source": [
    "## Configurar MLflow"
   ]
  },
  {
   "cell_type": "code",
   "execution_count": 11,
   "id": "3eef5b2c-a694-476f-9c94-bb5204a3768b",
   "metadata": {},
   "outputs": [
    {
     "name": "stdout",
     "output_type": "stream",
     "text": [
      "Using server mlflow-d-wxmppmljqkj5\n"
     ]
    }
   ],
   "source": [
    "# Verificar se o servidor MLflow está no status 'Created'\n",
    "sm = boto3.client(\"sagemaker\")\n",
    "\n",
    "while sm.describe_mlflow_tracking_server(TrackingServerName=mlflow_name)['TrackingServerStatus'] != 'Created':\n",
    "    print(f\"The MLflow server {mlflow_name} is not in the status 'Created'\")\n",
    "    sleep(30)\n",
    "else:\n",
    "    print(f\"Using server {mlflow_name}\")"
   ]
  },
  {
   "cell_type": "code",
   "execution_count": 12,
   "id": "d7654f0c-c026-42db-8b3b-cddf2283a977",
   "metadata": {},
   "outputs": [
    {
     "name": "stderr",
     "output_type": "stream",
     "text": [
      "2024/07/23 07:51:11 INFO mlflow.tracking.fluent: Experiment with name 'from-idea-to-prod-pipeline-23-07-51-02' does not exist. Creating a new experiment.\n"
     ]
    }
   ],
   "source": [
    "mlflow.set_tracking_uri(mlflow_arn)\n",
    "experiment = mlflow.set_experiment(experiment_name=experiment_name)"
   ]
  },
  {
   "cell_type": "markdown",
   "id": "5ab04e2c-76cc-4f42-9629-0ccf6e47ed13",
   "metadata": {},
   "source": [
    "## Configurar padrões para a infraestrutura AWS\n",
    "Você pode usar um arquivo de configuração YAML para definir os valores padrão que são automaticamente passados para as APIs do SageMaker, por exemplo, como parâmetros de job. É especialmente conveniente quando você precisa fornecer parâmetros estáticos para configurações de infraestrutura, como ids de VPC, Grupos de Segurança, chaves KMS etc., ou trabalhar com funções remotas.\n",
    "\n",
    "Consulte a documentação [Configurando e usando padrões com o SageMaker Python SDK](https://sagemaker.readthedocs.io/en/stable/overview.html#configuring-and-using-defaults-with-the-sagemaker-python-sdk) para exemplos e mais detalhes.\n",
    "\n",
    "Seu pipeline SageMaker usará esses arquivos `config.yaml`."
   ]
  },
  {
   "cell_type": "code",
   "execution_count": 13,
   "id": "fd10fbf3-55e1-4268-9d61-d936f4174d0f",
   "metadata": {
    "tags": []
   },
   "outputs": [
    {
     "name": "stdout",
     "output_type": "stream",
     "text": [
      "/etc/xdg/sagemaker/config.yaml\n",
      "/home/sagemaker-user/.config/sagemaker/config.yaml\n"
     ]
    }
   ],
   "source": [
    "# Print localização padrão dos arquivos de configuração\n",
    "import os\n",
    "from platformdirs import site_config_dir, user_config_dir\n",
    "\n",
    "#Prints a localização do arquivo de configuração do administrador\n",
    "print(os.path.join(site_config_dir(\"sagemaker\"), \"config.yaml\"))\n",
    "\n",
    "#Prints a localização do arquivo de configuração do usuário\n",
    "print(os.path.join(user_config_dir(\"sagemaker\"), \"config.yaml\"))"
   ]
  },
  {
   "cell_type": "markdown",
   "id": "69ed9188-9c05-4ac8-aaae-da7f4fda3952",
   "metadata": {},
   "source": [
    "A próxima célula cria um arquivo de configuração e define valores padrão para funções remotas. Esses valores são automaticamente passados para o decorador `@step` e você não precisa especificá-los explicitamente. Consulte [Configure seu pipeline](https://docs.aws.amazon.com/sagemaker/latest/dg/pipelines-step-decorator-cfg-pipeline.html) no Guia do Desenvolvedor."
   ]
  },
  {
   "cell_type": "code",
   "execution_count": 14,
   "id": "b33320fa-f008-48d0-adbe-82af13a54708",
   "metadata": {
    "tags": []
   },
   "outputs": [
    {
     "name": "stdout",
     "output_type": "stream",
     "text": [
      "Writing config.yaml\n"
     ]
    }
   ],
   "source": [
    "%%writefile config.yaml\n",
    "\n",
    "SchemaVersion: '1.0'\n",
    "SageMaker:\n",
    "    PythonSDK:\n",
    "        Modules:\n",
    "            RemoteFunction:\n",
    "                InstanceType: ml.m5.xlarge\n",
    "                Dependencies: ./requirements.txt\n",
    "                IncludeLocalWorkDir: true\n",
    "                CustomFileFilter:\n",
    "                    IgnoreNamePatterns: # arquivos ou diretórios a serem ignorados\n",
    "                        - \"*.ipynb\" # todos os arquivos de notebook\n",
    "                        - \"*.md\" # todos os arquivos markdown\n",
    "                        - \"__pycache__\""
   ]
  },
  {
   "cell_type": "code",
   "execution_count": 15,
   "id": "41475d62-58e2-4f74-8bbc-2d9a6ece2ed1",
   "metadata": {
    "tags": []
   },
   "outputs": [],
   "source": [
    "# copiar o arquivo de configuração para o local do arquivo de configuração do usuário\n",
    "%mkdir -p {user_config_dir(\"sagemaker\")}\n",
    "%cp config.yaml {os.path.join(user_config_dir(\"sagemaker\"), \"config.yaml\")}"
   ]
  },
  {
   "cell_type": "markdown",
   "id": "62eac4cf-4875-453f-a788-f7f52c94a37b",
   "metadata": {},
   "source": [
    "## Preparar ambiente"
   ]
  },
  {
   "cell_type": "code",
   "execution_count": 16,
   "id": "dca8a63a-2c4f-4cbd-9de6-4550b5710817",
   "metadata": {
    "tags": []
   },
   "outputs": [
    {
     "name": "stdout",
     "output_type": "stream",
     "text": [
      "\u001b[33mWARNING: Error parsing dependencies of fsspec: [Errno 2] No such file or directory: '/opt/conda/lib/python3.10/site-packages/fsspec-2023.6.0.dist-info/METADATA'\u001b[0m\u001b[33m\n",
      "\u001b[0m\u001b[33mWARNING: Error parsing dependencies of pytz: [Errno 2] No such file or directory: '/opt/conda/lib/python3.10/site-packages/pytz-2023.3.dist-info/METADATA'\u001b[0m\u001b[33m\n",
      "\u001b[0mNote: you may need to restart the kernel to use updated packages.\n"
     ]
    }
   ],
   "source": [
    "# Instalar xgboost para o teste local do código\n",
    "%pip install -q xgboost"
   ]
  },
  {
   "cell_type": "markdown",
   "id": "70771867-4321-47b7-b6ca-fb103d40f7c4",
   "metadata": {},
   "source": [
    "Crie um arquivo `requirement.txt` para o ambiente do pipeline que será usado pelo seu pipeline SageMaker:\n",
    "\n"
   ]
  },
  {
   "cell_type": "code",
   "execution_count": 17,
   "id": "4b416e96-b3be-43f0-a434-42c05fb1e63b",
   "metadata": {
    "tags": []
   },
   "outputs": [
    {
     "name": "stdout",
     "output_type": "stream",
     "text": [
      "Writing requirements.txt\n"
     ]
    }
   ],
   "source": [
    "%%writefile requirements.txt\n",
    "scikit-learn\n",
    "pandas>=2.0.0\n",
    "s3fs==0.4.2\n",
    "sagemaker\n",
    "xgboost\n",
    "mlflow==2.13.2\n",
    "sagemaker-mlflow==0.1.0"
   ]
  },
  {
   "cell_type": "markdown",
   "id": "626ea883-3bd9-4947-a0c8-7c3a80c1bbca",
   "metadata": {},
   "source": [
    "## Um pipeline SageMaker"
   ]
  },
  {
   "cell_type": "markdown",
   "id": "fa00ef9a-a6fe-4415-9847-bcfa97f32c44",
   "metadata": {},
   "source": [
    "### Configurar parâmetros do pipeline\n",
    "O SageMaker Pipelines suporta [parametrização](https://docs.aws.amazon.com/sagemaker/latest/dg/build-and-manage-parameters.html), que permite especificar parâmetros de entrada em tempo de execução sem alterar o código do seu pipeline. Você pode usar as classes de parâmetros disponíveis no módulo [`sagemaker.workflow.parameters`](https://sagemaker.readthedocs.io/en/stable/workflows/pipelines/sagemaker.workflow.pipelines.html#parameters).\n",
    "Os parâmetros têm um valor padrão, que você pode substituir especificando valores de parâmetro ao iniciar uma execução do pipeline."
   ]
  },
  {
   "cell_type": "code",
   "execution_count": 18,
   "id": "05f370b6-1ee3-4bc6-ae85-5eef37878196",
   "metadata": {
    "tags": []
   },
   "outputs": [],
   "source": [
    "# Definir tipo de instância de processamento\n",
    "process_instance_type_param = ParameterString(\n",
    "    name=\"ProcessingInstanceType\",\n",
    "    default_value=process_instance_type,\n",
    ")\n",
    "\n",
    "# Definir tipo de instância de treinamento\n",
    "train_instance_type_param = ParameterString(\n",
    "    name=\"TrainingInstanceType\",\n",
    "    default_value=train_instance_type,\n",
    ")\n",
    "\n",
    "# Definir status de aprovação do modelo para o registro de modelos\n",
    "model_approval_status_param = ParameterString(\n",
    "    name=\"ModelApprovalStatus\",\n",
    "    default_value=model_approval_status\n",
    ")\n",
    "\n",
    "# Mínimo threshold fpara o desempenho do modelo no conjunto de dados de teste\n",
    "test_score_threshold_param = ParameterFloat(\n",
    "    name=\"TestScoreThreshold\",\n",
    "    default_value=0.75\n",
    ")\n",
    "\n",
    "# Parametrizar a URL S3 para o conjunto de dados de entrada\n",
    "input_s3_url_param = ParameterString(\n",
    "    name=\"InputDataUrl\",\n",
    "    default_value=input_s3_url,\n",
    ")\n",
    "\n",
    "# Nome do grupo de pacotes de modelo\n",
    "model_package_group_name_param = ParameterString(\n",
    "    name=\"ModelPackageGroupName\",\n",
    "    default_value=model_package_group_name,\n",
    ")\n",
    "\n",
    "# ARN do servidor de rastreamento MLflow\n",
    "tracking_server_arn_param = ParameterString(\n",
    "    name=\"TrackingServerARN\",\n",
    "    default_value=mlflow_arn,\n",
    ")"
   ]
  },
  {
   "cell_type": "markdown",
   "id": "55a71d7d-f040-498b-b838-e65a88102b5b",
   "metadata": {},
   "source": [
    "### Implemente e teste etapas do pipeline\n",
    "Você cria um pipeline com o seguinte:\n",
    "\n",
    "| Passo | Descrição |\n",
    "|---|---|\n",
    "| **Data processing** | executa um job de processamento do SageMaker para engenharia de features e divisão do conjunto de dados|\n",
    "| **Training** | executa um job de treinamento do SageMaker usando o algoritmo XGBoost |\n",
    "| **Evaluation** | avalia o desempenho do modelo treinado |\n",
    "| **Conditional step** | verifica se o desempenho do modelo atende ao threshold especificado |\n",
    "| **Register model** | registra uma versão do modelo no registro de modelos do SageMaker |\n",
    "\n",
    "Para facilitar a implementação do seu pipeline como código, você vai usar duas features úteis do SageMaker: Compatibilidade de subclasse e decorador @step."
   ]
  },
  {
   "cell_type": "markdown",
   "id": "f8e6ec12-39b0-407d-abc2-63ecdb896969",
   "metadata": {},
   "source": [
    "#### Compatibilidade de subclasse\n",
    "💡 Você pode usar a compatibilidade de subclasse para [etapas de job do pipeline de fluxo de trabalho](https://sagemaker.readthedocs.io/en/stable/workflows/pipelines/sagemaker.workflow.pipelines.html#steps) para criar abstrações de job e usar exatamente o mesmo código para configurar o pipeline que o código para executar jobs de processamento, treinamento, transformação e ajuste dos notebooks de etapas anteriores. Você precisa usar o contexto [PipelineSession](https://sagemaker.readthedocs.io/en/stable/workflows/pipelines/sagemaker.workflow.pipelines.html#sagemaker.workflow.pipeline_context.PipelineSession) em vez de `sagemaker_session` para capturar as chamadas de execução como `processor.run()` ou `estimator.fit()`, mas não executar até que o pipeline seja criado e executado."
   ]
  },
  {
   "cell_type": "markdown",
   "id": "48f78d11-5546-4267-921e-017910888b9d",
   "metadata": {},
   "source": [
    "#### Decorador @step\n",
    "💡 Você pode transferir seu código Python existente para pipelines SageMaker. Você também pode usar funções Python para implementar um fluxo de trabalho de ML usando o SDK Python do SageMaker e testar todo o código localmente no notebook. Quando você quiser criar um pipeline, pode usar o decorador [`@step`](https://sagemaker.readthedocs.io/en/stable/workflows/pipelines/sagemaker.workflow.pipelines.html#step-decorator) do SDK Python do SageMaker para converter funções Python em etapas do pipeline. Consulte o [Guia do Desenvolvedor](https://docs.aws.amazon.com/sagemaker/latest/dg/pipelines-step-decorator-create-pipeline.html) do SageMaker para mais detalhes e exemplos.\n",
    "\n",
    "O código a seguir usa funções Python para implementar etapas do fluxo de trabalho, testá-las localmente e, em seguida, aplica o decorador `@step` para reutilizar a função como uma etapa do pipeline.\n",
    "\n",
    "#### Limitações com o decorador @step\n",
    "Esteja ciente das [limitações](https://docs.aws.amazon.com/sagemaker/latest/dg/pipelines-step-decorator-limit.html) específicas ao usar o decorador `@step` para etapas do pipeline."
   ]
  },
  {
   "cell_type": "markdown",
   "id": "b7e6dcca-fa05-459b-8293-dfb42bd637dc",
   "metadata": {},
   "source": [
    "Start developing and testing steps in the following code cells."
   ]
  },
  {
   "cell_type": "markdown",
   "id": "0f10b118-2985-41a9-b1af-da7111060f68",
   "metadata": {},
   "source": [
    "#### Etapa de processamento\n",
    "Reutilize o código local da função Python do notebook da etapa 2 [notebook](./02-sagemaker-containers.ipynb) e crie uma função `preprocess` na pasta `./pipeline_steps`. Você vai usar essa função para criar uma etapa de processamento do pipeline."
   ]
  },
  {
   "cell_type": "code",
   "execution_count": 19,
   "id": "a4541fa1-50b6-4664-9239-b4d78b46f6be",
   "metadata": {},
   "outputs": [],
   "source": [
    "# O código da função Python está nos arquivos locais\n",
    "from pipeline_steps.preprocess import preprocess"
   ]
  },
  {
   "cell_type": "code",
   "execution_count": 20,
   "id": "c9a8b08b-7078-453d-8e43-218123e9752a",
   "metadata": {},
   "outputs": [],
   "source": [
    "# Ver o código da função\n",
    "# !pygmentize pipeline_steps/preprocess.py"
   ]
  },
  {
   "cell_type": "code",
   "execution_count": null,
   "id": "0cabade6",
   "metadata": {},
   "outputs": [],
   "source": [
    "# verificar se há um conjunto de dados sob a URL S3\n",
    "!aws s3 ls {input_s3_url}"
   ]
  },
  {
   "cell_type": "code",
   "execution_count": null,
   "id": "4de5210e",
   "metadata": {},
   "outputs": [],
   "source": [
    "# Você pode executar seu código Python localmente e verificar a correção antes de construir um pipeline\n",
    "r_preprocess = preprocess(\n",
    "    input_data_s3_path=input_s3_url,\n",
    "    output_s3_prefix=output_s3_prefix,\n",
    "    tracking_server_arn=mlflow_arn,\n",
    "    experiment_name=f\"local-test-{current_timestamp}\"\n",
    ")\n",
    "r_preprocess"
   ]
  },
  {
   "cell_type": "code",
   "execution_count": null,
   "id": "653f7139",
   "metadata": {},
   "outputs": [],
   "source": [
    "# verificar se a função gerou saída\n",
    "\n",
    "!aws s3 ls {output_s3_prefix}/test/"
   ]
  },
  {
   "cell_type": "markdown",
   "id": "21faa341-c920-47fc-bf79-1453f7982f95",
   "metadata": {},
   "source": [
    "#### Etapa de treinamento\n",
    "Primeiro, execute um treinamento de modelo remotamente como um job de treinamento de algoritmo integrado do SageMaker.\n",
    "\n",
    "Segundo, use o modelo treinado para testar o script de avaliação como uma função Python local.\n",
    "\n",
    "Terceiro, use esta função Python para construir uma etapa de avaliação no pipeline."
   ]
  },
  {
   "cell_type": "code",
   "execution_count": 24,
   "id": "46e4707d-7d82-41c4-9e9a-1dcf4e349b66",
   "metadata": {},
   "outputs": [
    {
     "name": "stdout",
     "output_type": "stream",
     "text": [
      "sagemaker.config INFO - Fetched defaults config from location: /home/sagemaker-user/.config/sagemaker/config.yaml\n"
     ]
    }
   ],
   "source": [
    "# use sagemaker.Session() no estimador para iniciar um job de treinamento imediatamente\n",
    "estimator = get_xgb_estimator(\n",
    "    session=sagemaker.Session(),\n",
    "    instance_type=train_instance_type,\n",
    "    output_s3_url=output_s3_url,\n",
    "    base_job_name=f\"{project}-train\",\n",
    ")"
   ]
  },
  {
   "cell_type": "code",
   "execution_count": 25,
   "id": "1fa66a21-2c07-41a1-b1c6-ea5224331949",
   "metadata": {},
   "outputs": [],
   "source": [
    "# Configure as entradas de treinamento usando as saídas da função de pré-processamento\n",
    "\n",
    "training_inputs = {\n",
    "    \"train\": TrainingInput(\n",
    "        r_preprocess['train_data'],\n",
    "        content_type=\"text/csv\",\n",
    "    ),\n",
    "    \"validation\": TrainingInput(\n",
    "        r_preprocess['validation_data'],\n",
    "        content_type=\"text/csv\",\n",
    "    ),\n",
    "}"
   ]
  },
  {
   "cell_type": "markdown",
   "id": "577ca889-3f9e-44e7-b6b8-9a380cfcfa19",
   "metadata": {},
   "source": [
    "A próxima célula de código ajusta o estimador. Aguarde menos de 3 minutos até que o job de treinamento termine. Observe que o código também registra o modelo treinado na execução do experimento MLflow."
   ]
  },
  {
   "cell_type": "code",
   "execution_count": null,
   "id": "cd3b167e",
   "metadata": {},
   "outputs": [],
   "source": [
    "from pipeline_steps.evaluate import load_model\n",
    "\n",
    "# Executa o job de treinamento\n",
    "\n",
    "mlflow.set_experiment(r_preprocess['experiment_name'])\n",
    "with mlflow.start_run(\n",
    "    run_name=f\"training-{strftime('%d-%H-%M-%S', gmtime())}\",\n",
    "    description=\"treinamento no notebook 03 com um job de treinamento\") as run:\n",
    "    mlflow.log_params(estimator.hyperparameters())\n",
    "    \n",
    "    estimator.fit(training_inputs)\n",
    "\n",
    "    mlflow.log_param(\"nome do job de treinamento\", estimator.latest_training_job.name)\n",
    "    mlflow.log_metrics({i['metric_name'].replace(':', '_'):i['value'] for i in estimator.training_job_analytics.dataframe().iloc})\n",
    "    mlflow.xgboost.log_model(load_model(estimator.model_data), artifact_path=\"xgboost\")"
   ]
  },
  {
   "cell_type": "markdown",
   "id": "b97f365c-94c4-4403-8a8c-b79399b3d665",
   "metadata": {},
   "source": [
    "#### Etapa de avaliação\n",
    "Crie um script de avaliação do modelo como uma função Python local para verificar se o desempenho do modelo atende ao threshold especificado. O código Python está no arquivo `evaluate.py` na pasta `./pipeline_steps`."
   ]
  },
  {
   "cell_type": "code",
   "execution_count": 27,
   "id": "a0c5075d-3bf8-48c7-abdf-32c023120064",
   "metadata": {},
   "outputs": [],
   "source": [
    "from pipeline_steps.evaluate import evaluate"
   ]
  },
  {
   "cell_type": "code",
   "execution_count": 28,
   "id": "9a36e8dc-c04b-4273-9fd5-b26f7c0e0202",
   "metadata": {},
   "outputs": [],
   "source": [
    "# !pygmentize  pipeline_steps/evaluation.py"
   ]
  },
  {
   "cell_type": "code",
   "execution_count": null,
   "id": "707e9f02",
   "metadata": {},
   "outputs": [],
   "source": [
    "#  verifique se o job de treinamento que você acabou de executar criou um arquivo de modelo\n",
    "!aws s3 ls {estimator.model_data}"
   ]
  },
  {
   "cell_type": "markdown",
   "id": "dcce46e1-2e13-46ae-9e6c-8a2b8f77b0fa",
   "metadata": {},
   "source": [
    "Agora carregue o modelo treinado no script de avaliação e verifique se o script é executado corretamente. Observe o uso dos parâmetros de saída da função `preprocess` e do artefato do modelo do job de treinamento."
   ]
  },
  {
   "cell_type": "code",
   "execution_count": 30,
   "id": "3adb9f0f-a475-4dab-8d9c-dca4220978e7",
   "metadata": {},
   "outputs": [
    {
     "data": {
      "text/plain": [
       "{'evaluation_result': {'classification_metrics': {'auc_score': {'value': 0.7701863354037267}}},\n",
       " 'prediction_baseline_data': 's3://sagemaker-us-east-1-398333718380/from-idea-to-prod/xgboost/prediction_baseline/prediction_baseline.csv',\n",
       " 'experiment_name': 'local-test-23-07-51-02',\n",
       " 'pipeline_run_id': ''}"
      ]
     },
     "execution_count": 30,
     "metadata": {},
     "output_type": "execute_result"
    },
    {
     "data": {
      "image/png": "[encoded data removed]",
      "text/plain": [
       "<Figure size 600x400 with 1 Axes>"
      ]
     },
     "metadata": {},
     "output_type": "display_data"
    }
   ],
   "source": [
    "# Execute o codigo de avaliação localmente\n",
    "r_eval = evaluate(\n",
    "    test_x_data_s3_path=r_preprocess['test_x_data'],\n",
    "    test_y_data_s3_path=r_preprocess['test_y_data'],\n",
    "    model_s3_path=estimator.model_data,\n",
    "    output_s3_prefix=output_s3_prefix,\n",
    "    tracking_server_arn=mlflow_arn,\n",
    "    experiment_name=r_preprocess['experiment_name'],\n",
    ")\n",
    "r_eval"
   ]
  },
  {
   "cell_type": "code",
   "execution_count": null,
   "id": "5f3c5994",
   "metadata": {},
   "outputs": [],
   "source": [
    "# Verificar se a função de avaliação gerou saída\n",
    "!aws s3 ls {output_s3_prefix}/prediction_baseline/"
   ]
  },
  {
   "cell_type": "markdown",
   "id": "c93a5348-9c06-416a-a4b2-0c83e4ea34f4",
   "metadata": {},
   "source": [
    "#### Etapa de registro do modelo\n",
    "A etapa de registro cria um modelo SageMaker e registra uma nova versão de um modelo no SageMaker Model Registry dentro de um [grupo de pacotes de modelo](https://docs.aws.amazon.com/sagemaker/latest/dg/model-registry-model-group.html). \n",
    "Você implementa esta etapa também como uma função Python local. O código é fornecido no arquivo `register.py` na pasta `./pipeline_steps`."
   ]
  },
  {
   "cell_type": "code",
   "execution_count": 32,
   "id": "06623ea6-4657-4fdd-913e-0f1bdd80c12c",
   "metadata": {},
   "outputs": [],
   "source": [
    "from pipeline_steps.register import register"
   ]
  },
  {
   "cell_type": "code",
   "execution_count": 33,
   "id": "7f6908ae-16ec-4228-8d9d-2b5f4290c413",
   "metadata": {},
   "outputs": [],
   "source": [
    "# !pygmentize  pipeline_steps/register.py"
   ]
  },
  {
   "cell_type": "code",
   "execution_count": null,
   "id": "d25ff3bb",
   "metadata": {},
   "outputs": [],
   "source": [
    "# Execute o código de registro do modelo localmente\n",
    "\n",
    "r_register = register(\n",
    "    training_job_name=estimator.latest_training_job.name,\n",
    "    model_package_group_name=model_package_group_name,\n",
    "    model_approval_status=model_approval_status,\n",
    "    evaluation_result=r_eval['evaluation_result'],\n",
    "    output_s3_prefix=output_s3_url,\n",
    "    tracking_server_arn=mlflow_arn,\n",
    "    experiment_name=r_preprocess['experiment_name'],\n",
    ")\n",
    "r_register"
   ]
  },
  {
   "cell_type": "code",
   "execution_count": null,
   "id": "a95c0edd",
   "metadata": {},
   "outputs": [],
   "source": [
    "# verifique se uma nova versão do modelo foi registrada no grupo de pacotes de modelo\n",
    "boto3.client('sagemaker').describe_model_package(ModelPackageName=r_register['model_package_arn'])"
   ]
  },
  {
   "cell_type": "markdown",
   "id": "18d66c4f-f26b-4061-ae60-20308990f373",
   "metadata": {},
   "source": [
    "### Construir um pipeline\n",
    "Após o teste local, você pode usar o mesmo código Python sem alterações para construir um pipeline.\n",
    "\n",
    "A próxima célula cria um pipeline com as etapas previamente desenvolvidas e testadas. Observe que você mistura funções decoradas com `@step` (preprocess, evaluate, register) e etapas tradicionais do pipeline (train) como jobs do SageMaker no mesmo pipeline e passa dados entre eles.\n",
    "\n",
    "Você não precisa definir manualmente uma ordem das etapas, pois o SageMaker deriva automaticamente o fluxo de processamento com base nas dependências de dados entre as etapas do pipeline. Você também não precisa gerenciar a transferência de artefatos e conjuntos de dados de uma etapa do pipeline para outra, porque o SageMaker cuida automaticamente do fluxo de dados.\n",
    "\n",
    "Observe o uso de [`PipelineSession`](https://sagemaker.readthedocs.io/en/stable/workflows/pipelines/sagemaker.workflow.pipelines.html#sagemaker.workflow.pipeline_context.PipelineSession) em vez de Session no objeto estimator para a etapa de treinamento. Ao construir um pipeline, um objeto PipelineSession deve ser fornecido ao construtor de `Estimator` ou `Processor` para iniciar o job no momento da execução do pipeline e não imediatamente como com a `Session` do SageMaker.\n"
   ]
  },
  {
   "cell_type": "code",
   "execution_count": null,
   "id": "273b0287",
   "metadata": {},
   "outputs": [],
   "source": [
    "# Etapa de pré-processamento de dados\n",
    "step_preprocess = step(\n",
    "    preprocess, \n",
    "    instance_type=process_instance_type_param,\n",
    "    name=f\"{project}-preprocess\",\n",
    "    keep_alive_period_in_seconds=3600,\n",
    ")(\n",
    "    input_data_s3_path=input_s3_url_param,\n",
    "    output_s3_prefix=output_s3_prefix,\n",
    "    tracking_server_arn=tracking_server_arn_param,\n",
    "    experiment_name=experiment_name,\n",
    "    pipeline_run_name=ExecutionVariables.PIPELINE_EXECUTION_ID,\n",
    ")\n",
    "\n",
    "cache_config = CacheConfig(\n",
    "        enable_caching=True,\n",
    "        expire_after=\"P30d\" # 30-day\n",
    "    )\n",
    "\n",
    "# Etapa de treinamento\n",
    "step_train = TrainingStep(\n",
    "    name=f\"{project}-train\",\n",
    "    step_args=get_xgb_estimator(\n",
    "        session=PipelineSession(),\n",
    "        instance_type=train_instance_type_param,\n",
    "        output_s3_url=output_s3_url,\n",
    "        base_job_name=f\"{project}-train\",\n",
    "    ).fit(\n",
    "        {\n",
    "            \"train\": TrainingInput(\n",
    "                step_preprocess['train_data'],\n",
    "                content_type=\"text/csv\",\n",
    "            ),\n",
    "            \"validation\": TrainingInput(\n",
    "                step_preprocess['validation_data'],\n",
    "                content_type=\"text/csv\",\n",
    "            ),\n",
    "        }\n",
    "    ),\n",
    "    cache_config=cache_config,\n",
    ")    \n",
    "\n",
    "# Etapa de avaliação\n",
    "step_evaluate = step(\n",
    "    evaluate,\n",
    "    instance_type=process_instance_type_param,\n",
    "    name=f\"{project}-evaluate\",\n",
    "    keep_alive_period_in_seconds=3600,\n",
    ")(\n",
    "    test_x_data_s3_path=step_preprocess['test_x_data'],\n",
    "    test_y_data_s3_path=step_preprocess['test_y_data'],\n",
    "    model_s3_path=step_train.properties.ModelArtifacts.S3ModelArtifacts,\n",
    "    output_s3_prefix=output_s3_prefix,\n",
    "    tracking_server_arn=tracking_server_arn_param,\n",
    "    experiment_name=step_preprocess['experiment_name'],\n",
    "    pipeline_run_id=step_preprocess['pipeline_run_id'],\n",
    ")\n",
    "\n",
    "# Etapa de registro do modelo\n",
    "step_register = step(\n",
    "        register,\n",
    "        name=f\"{project}-register\",\n",
    "        keep_alive_period_in_seconds=3600,\n",
    "    )(\n",
    "        training_job_name=step_train.properties.TrainingJobName,\n",
    "        model_package_group_name=model_package_group_name_param,\n",
    "        model_approval_status=model_approval_status_param,\n",
    "        evaluation_result=step_evaluate['evaluation_result'],\n",
    "        output_s3_prefix=output_s3_url,\n",
    "        tracking_server_arn=tracking_server_arn_param,\n",
    "        experiment_name=step_preprocess['experiment_name'],\n",
    "        pipeline_run_id=step_preprocess['pipeline_run_id'],\n",
    "    )\n",
    "\n",
    "# Etapa de falha (caso a condição não seja atendida)\n",
    "step_fail = FailStep(\n",
    "    name=f\"{project}-fail\",\n",
    "    error_message=Join(on=\" \", values=[\"Execution failed due to AUC Score < \", test_score_threshold_param]),\n",
    ")\n",
    "\n",
    "# condição para verificar na etapa de condição\n",
    "\n",
    "condition_gte = ConditionGreaterThanOrEqualTo(\n",
    "        left=step_evaluate['evaluation_result']['classification_metrics']['auc_score']['value'],  \n",
    "        right=test_score_threshold_param,\n",
    ")\n",
    "\n",
    "# etapa de registro condicional\n",
    "\n",
    "step_conditional_register = ConditionStep(\n",
    "    name=f\"{project}-check-metrics\",\n",
    "    conditions=[condition_gte],\n",
    "    if_steps=[step_register],\n",
    "    else_steps=[step_fail],\n",
    ")\n",
    "\n",
    "# cria um objeto Pipeline com todas essas etapas e parâmetros definidos. O pipeline inclui configurações para cache, tipos de instância, \n",
    "# aprovação do modelo, limiar de pontuação de teste, entre outros.\n",
    "\n",
    "pipeline = Pipeline(\n",
    "    name=f\"{pipeline_name}\",\n",
    "    parameters=[\n",
    "        input_s3_url_param,\n",
    "        process_instance_type_param,\n",
    "        train_instance_type_param,\n",
    "        model_approval_status_param,\n",
    "        test_score_threshold_param,\n",
    "        model_package_group_name_param,\n",
    "        tracking_server_arn_param,\n",
    "    ],\n",
    "    steps=[step_conditional_register],\n",
    "    pipeline_definition_config=PipelineDefinitionConfig(use_custom_job_prefix=True)\n",
    ")"
   ]
  },
  {
   "cell_type": "markdown",
   "id": "865f8588-bbda-4501-83e3-dee157ff48ee",
   "metadata": {},
   "source": [
    "Observe que adicionamos mais duas etapas ao pipeline: Etapa de Falha e Etapa de Condição.\n",
    "\n",
    "#### Etapa de Falha\n",
    "Uma [FailStep](https://sagemaker.readthedocs.io/en/stable/workflows/pipelines/sagemaker.workflow.pipelines.html#sagemaker.workflow.fail_step.FailStep) do Pipelines interrompe a execução do pipeline se a métrica de desempenho do modelo não atender ao limiar especificado.\n",
    "\n",
    "#### Etapa de Condição\n",
    "A etapa de condição verifica a pontuação de desempenho do modelo calculada na etapa de avaliação e, condicionalmente, cria um modelo e o registra no registro de modelos, ou interrompe e falha a execução do pipeline."
   ]
  },
  {
   "cell_type": "markdown",
   "id": "ce14bd92-a3e6-45db-a1c5-8f476038fae8",
   "metadata": {},
   "source": [
    "#### Atualizar o pipeline\n",
    "Agora crie o pipeline. Se um pipeline com o mesmo nome já existir, o SageMaker irá atualizá-lo.\n",
    "\n",
    "Você precisa passar apenas a última etapa para o construtor `Pipeline`. O SDK constrói automaticamente um DAG (Grafo Acíclico Direcionado) do pipeline com base nas dependências de dados entre as etapas. Consulte o [Guia do Desenvolvedor](https://docs.aws.amazon.com/sagemaker/latest/dg/pipelines-step-decorator-create-pipeline.html#pipelines-step-define-delayed) para mais detalhes."
   ]
  },
  {
   "cell_type": "code",
   "execution_count": null,
   "id": "78ce21d8",
   "metadata": {},
   "outputs": [],
   "source": [
    "# A operação de upsert serializa o código da função, argumentos e outros artefatos para o S3, onde podem ser acessados durante a execução do pipeline\n",
    "pipeline.upsert(role_arn=sm_role)"
   ]
  },
  {
   "cell_type": "markdown",
   "id": "4a312dae-75ba-4dbb-9266-cf68c11c681f",
   "metadata": {},
   "source": [
    "Para ver o pipeline criado na interface do Studio, clique no link construído pela célula de código abaixo:\n"
   ]
  },
  {
   "cell_type": "code",
   "execution_count": 38,
   "id": "4c94b5fe-f56c-46f2-a4f4-643af4bab979",
   "metadata": {},
   "outputs": [
    {
     "data": {
      "text/html": [
       "<b>See <a target=\"top\" href=\"https://studio-d-wxmppmljqkj5.studio.us-east-1.sagemaker.aws/pipelines/from-idea-to-prod-pipeline-23-07-51-02/graph\">the pipeline</a> in the Studio UI</b>"
      ],
      "text/plain": [
       "<IPython.core.display.HTML object>"
      ]
     },
     "metadata": {},
     "output_type": "display_data"
    }
   ],
   "source": [
    "from IPython.display import HTML\n",
    "\n",
    "# Monstre o link da pipeline\n",
    "display(\n",
    "    HTML('<b>Veja <a target=\"top\" href=\"https://studio-{}.studio.{}.sagemaker.aws/pipelines/{}/graph\">a pipeline</a> no Studio UI</b>'.format(\n",
    "            domain_id, region, pipeline_name))\n",
    ")"
   ]
  },
  {
   "cell_type": "markdown",
   "id": "2f3608ce-fcab-4e89-be8f-07a060675e14",
   "metadata": {
    "tags": []
   },
   "source": [
    "Com base nas dependências de dados entre as etapas do pipeline, o SageMaker constrói o seguinte DAG (Grafo Acíclico Direcionado) com o fluxo de dados em seu pipeline:\n",
    "![](img/pipeline-graph.png)"
   ]
  },
  {
   "cell_type": "markdown",
   "id": "975d83cd-72c0-403c-b9f1-e953f91add9d",
   "metadata": {},
   "source": [
    "### Executar o pipeline\n",
    "A primeira execução do pipeline leva cerca de 17-20 minutos. Observe o uso do parâmetro `keep_alive_period_in_seconds` na definição da etapa para a reutilização do pool quente e `CacheConfig` na etapa de Treinamento para o cache dos resultados da etapa.\n",
    "Uma execução subsequente do pipeline leva cerca de 7 minutos devido ao uso de cache e um pool quente."
   ]
  },
  {
   "cell_type": "code",
   "execution_count": null,
   "id": "a56286d8",
   "metadata": {},
   "outputs": [],
   "source": [
    "pipeline_execution = pipeline.start()\n",
    "pipeline_execution.describe()"
   ]
  },
  {
   "cell_type": "code",
   "execution_count": null,
   "id": "5cdc1f56",
   "metadata": {},
   "outputs": [],
   "source": [
    "# Descomente se você quiser esperar no notebook até que esta execução seja concluída\n",
    "# pipeline_execution.wait() \n",
    "pipeline_execution.list_steps()"
   ]
  },
  {
   "cell_type": "markdown",
   "id": "3c25826e-e7cf-4e27-8662-408bc682a9d6",
   "metadata": {},
   "source": [
    "Você pode ver a execução do pipeline na interface do Studio clicando no link construído pela seguinte célula de código:"
   ]
  },
  {
   "cell_type": "code",
   "execution_count": 102,
   "id": "06c8c325-7ddd-4c5a-91a7-c6ca7c40d347",
   "metadata": {},
   "outputs": [
    {
     "data": {
      "text/html": [
       "<b>See <a target=\"top\" href=\"https://studio-d-wxmppmljqkj5.studio.us-east-1.sagemaker.aws/pipelines/from-idea-to-prod-pipeline-23-07-51-02/executions/qk94813ytmzp/graph\">the pipeline execution</a> in the Studio UI</b>"
      ],
      "text/plain": [
       "<IPython.core.display.HTML object>"
      ]
     },
     "metadata": {},
     "output_type": "display_data"
    }
   ],
   "source": [
    "# Mostrar o link de execução do pipeline\n",
    "display(\n",
    "    HTML('<b>Veja <a target=\"top\" href=\"https://studio-{}.studio.{}.sagemaker.aws/pipelines/{}/executions/{}/graph\">a pipeline de execução</a> no Studio UI</b>'.format(\n",
    "            domain_id, region, pipeline_name, pipeline_execution.describe()['PipelineExecutionArn'].split('/')[-1]))\n",
    ")"
   ]
  },
  {
   "cell_type": "markdown",
   "id": "8c70ee2a-a099-467a-b13c-85fc567f1e4f",
   "metadata": {},
   "source": [
    "Para gerenciar pipelines na interface do Studio, selecione **Pipelines** no menu de navegação à esquerda e, em seguida, o pipeline específico para ver as execuções do pipeline e todos os detalhes:\n",
    "\n",
    "![](img/pipelines-pane.png)\n",
    "\n",
    "Para cada execução, você pode abrir um gráfico de execução e ver detalhes de cada etapa do pipeline:\n",
    "\n",
    "![](img/pipeline-execution-graph.png)\n",
    "\n",
    "Você pode rastrear execuções de pipeline, artefatos, conjuntos de dados e modelos na interface do MLflow:\n",
    "\n",
    "![](img/mlflow-pipeline-executions.png)"
   ]
  },
  {
   "cell_type": "markdown",
   "id": "e4a32911-b094-450f-8d4a-450c6448290f",
   "metadata": {},
   "source": [
    "### Entender a definição do pipeline\n",
    "\n"
   ]
  },
  {
   "cell_type": "code",
   "execution_count": 43,
   "id": "81d05813-b615-463b-9b90-67f45c9444cb",
   "metadata": {
    "tags": []
   },
   "outputs": [
    {
     "data": {
      "text/plain": [
       "{'Version': '2020-12-01',\n",
       " 'Metadata': {},\n",
       " 'Parameters': [{'Name': 'InputDataUrl',\n",
       "   'Type': 'String',\n",
       "   'DefaultValue': 's3://sagemaker-us-east-1-398333718380/from-idea-to-prod/xgboost/input/bank-additional-full.csv'},\n",
       "  {'Name': 'ProcessingInstanceType',\n",
       "   'Type': 'String',\n",
       "   'DefaultValue': 'ml.m5.large'},\n",
       "  {'Name': 'TrainingInstanceType',\n",
       "   'Type': 'String',\n",
       "   'DefaultValue': 'ml.m5.large'},\n",
       "  {'Name': 'ModelApprovalStatus',\n",
       "   'Type': 'String',\n",
       "   'DefaultValue': 'PendingManualApproval'},\n",
       "  {'Name': 'TestScoreThreshold', 'Type': 'Float', 'DefaultValue': 0.75},\n",
       "  {'Name': 'ModelPackageGroupName',\n",
       "   'Type': 'String',\n",
       "   'DefaultValue': 'from-idea-to-prod-pipeline-model-23-07-51-02'},\n",
       "  {'Name': 'TrackingServerARN',\n",
       "   'Type': 'String',\n",
       "   'DefaultValue': 'arn:aws:sagemaker:us-east-1:398333718380:mlflow-tracking-server/mlflow-d-wxmppmljqkj5'}],\n",
       " 'PipelineExperimentConfig': {'ExperimentName': {'Get': 'Execution.PipelineName'},\n",
       "  'TrialName': {'Get': 'Execution.PipelineExecutionId'}},\n",
       " 'Steps': [{'Name': 'from-idea-to-prod-check-metrics',\n",
       "   'Type': 'Condition',\n",
       "   'Arguments': {'Conditions': [{'Type': 'GreaterThanOrEqualTo',\n",
       "      'LeftValue': {'Std:JsonGet': {'S3Uri': {'Std:Join': {'On': '/',\n",
       "          'Values': [{'Get': 'Steps.from-idea-to-prod-evaluate.OutputDataConfig.S3OutputPath'},\n",
       "           'results.json']}},\n",
       "        'Path': \"Result['evaluation_result']['classification_metrics']['auc_score']['value']\"}},\n",
       "      'RightValue': {'Get': 'Parameters.TestScoreThreshold'}}],\n",
       "    'IfSteps': [{'Name': 'from-idea-to-prod-register',\n",
       "      'Type': 'Training',\n",
       "      'Arguments': {'TrainingJobName': 'register',\n",
       "       'RoleArn': 'arn:aws:iam::398333718380:role/cfnstudiodomain-SageMakerExecutionRole-8XQVuLUFsn6g',\n",
       "       'StoppingCondition': {'MaxRuntimeInSeconds': 86400},\n",
       "       'RetryStrategy': {'MaximumRetryAttempts': 1},\n",
       "       'InputDataConfig': [{'ChannelName': 'sagemaker_remote_function_bootstrap',\n",
       "         'DataSource': {'S3DataSource': {'S3Uri': 's3://sagemaker-us-east-1-398333718380/from-idea-to-prod-pipeline-23-07-51-02/sagemaker_remote_function_bootstrap',\n",
       "           'S3DataType': 'S3Prefix'}}},\n",
       "        {'ChannelName': 'pre_exec_script_and_dependencies',\n",
       "         'DataSource': {'S3DataSource': {'S3Uri': 's3://sagemaker-us-east-1-398333718380/from-idea-to-prod-pipeline-23-07-51-02/from-idea-to-prod-register/2024-07-23-08-11-27-080/pre_exec_script_and_dependencies',\n",
       "           'S3DataType': 'S3Prefix'}}},\n",
       "        {'ChannelName': '2024-07-23-08-11-27-080',\n",
       "         'DataSource': {'S3DataSource': {'S3Uri': 's3://sagemaker-us-east-1-398333718380/from-idea-to-prod-pipeline-23-07-51-02/sm_rf_user_ws/2024-07-23-08-11-27-080/workspace.zip',\n",
       "           'S3DataType': 'S3Prefix'}}}],\n",
       "       'OutputDataConfig': {'S3OutputPath': {'Std:Join': {'On': '/',\n",
       "          'Values': ['s3://sagemaker-us-east-1-398333718380/from-idea-to-prod-pipeline-23-07-51-02',\n",
       "           {'Get': 'Execution.PipelineExecutionId'},\n",
       "           'from-idea-to-prod-register',\n",
       "           'results']}}},\n",
       "       'AlgorithmSpecification': {'TrainingImage': '885854791233.dkr.ecr.us-east-1.amazonaws.com/sagemaker-distribution-prod@sha256:9e7622bbe2f3ee9dd516797bfe3ed310983b96190eeefbdeeeea69519d3946fe',\n",
       "        'TrainingInputMode': 'File',\n",
       "        'ContainerEntrypoint': ['/bin/bash',\n",
       "         '/opt/ml/input/data/sagemaker_remote_function_bootstrap/job_driver.sh'],\n",
       "        'ContainerArguments': ['--s3_base_uri',\n",
       "         's3://sagemaker-us-east-1-398333718380/from-idea-to-prod-pipeline-23-07-51-02',\n",
       "         '--region',\n",
       "         'us-east-1',\n",
       "         '--client_python_version',\n",
       "         '3.10',\n",
       "         '--client_sagemaker_pysdk_version',\n",
       "         '2.226.1',\n",
       "         '--dependency_settings',\n",
       "         '{\"dependency_file\": \"requirements.txt\"}',\n",
       "         '--pipeline_step_name',\n",
       "         'from-idea-to-prod-register',\n",
       "         '--pipeline_execution_id',\n",
       "         {'Get': 'Execution.PipelineExecutionId'},\n",
       "         '--func_step_s3_dir',\n",
       "         '2024-07-23-08-11-27-080',\n",
       "         '--property_references',\n",
       "         'Execution.PipelineExecutionId',\n",
       "         {'Get': 'Execution.PipelineExecutionId'},\n",
       "         'Steps.from-idea-to-prod-train.TrainingJobName',\n",
       "         {'Std:Join': {'On': '',\n",
       "           'Values': [{'Get': 'Steps.from-idea-to-prod-train.TrainingJobName'}]}},\n",
       "         'Parameters.ModelPackageGroupName',\n",
       "         {'Get': 'Parameters.ModelPackageGroupName'},\n",
       "         'Parameters.ModelApprovalStatus',\n",
       "         {'Get': 'Parameters.ModelApprovalStatus'},\n",
       "         'Steps.from-idea-to-prod-evaluate.OutputDataConfig.S3OutputPath',\n",
       "         {'Std:Join': {'On': '',\n",
       "           'Values': [{'Get': 'Steps.from-idea-to-prod-evaluate.OutputDataConfig.S3OutputPath'}]}},\n",
       "         'Parameters.TrackingServerARN',\n",
       "         {'Get': 'Parameters.TrackingServerARN'},\n",
       "         'Steps.from-idea-to-prod-preprocess.OutputDataConfig.S3OutputPath',\n",
       "         {'Std:Join': {'On': '',\n",
       "           'Values': [{'Get': 'Steps.from-idea-to-prod-preprocess.OutputDataConfig.S3OutputPath'}]}},\n",
       "         'Steps.from-idea-to-prod-preprocess.OutputDataConfig.S3OutputPath',\n",
       "         {'Std:Join': {'On': '',\n",
       "           'Values': [{'Get': 'Steps.from-idea-to-prod-preprocess.OutputDataConfig.S3OutputPath'}]}}]},\n",
       "       'ResourceConfig': {'VolumeSizeInGB': 30,\n",
       "        'InstanceCount': 1,\n",
       "        'InstanceType': 'ml.m5.xlarge',\n",
       "        'KeepAlivePeriodInSeconds': 3600},\n",
       "       'EnableNetworkIsolation': False,\n",
       "       'EnableInterContainerTrafficEncryption': False,\n",
       "       'EnableManagedSpotTraining': False,\n",
       "       'Environment': {'AWS_DEFAULT_REGION': 'us-east-1',\n",
       "        'REMOTE_FUNCTION_SECRET_KEY': 'f7c539b761f8982b933718996bd5b3be95b3c8aeaef54e6c3d863a6e671903f9'}},\n",
       "      'DependsOn': ['from-idea-to-prod-evaluate',\n",
       "       'from-idea-to-prod-preprocess'],\n",
       "      'DisplayName': 'pipeline_steps.register.register',\n",
       "      'Description': '/home/sagemaker-user/amazon-sagemaker-from-idea-to-production/pipeline_steps/register.py'}],\n",
       "    'ElseSteps': [{'Name': 'from-idea-to-prod-fail',\n",
       "      'Type': 'Fail',\n",
       "      'Arguments': {'ErrorMessage': {'Std:Join': {'On': ' ',\n",
       "         'Values': ['Execution failed due to AUC Score < ',\n",
       "          {'Get': 'Parameters.TestScoreThreshold'}]}}}}]},\n",
       "   'DependsOn': ['from-idea-to-prod-evaluate']},\n",
       "  {'Name': 'from-idea-to-prod-evaluate',\n",
       "   'Type': 'Training',\n",
       "   'Arguments': {'TrainingJobName': 'evaluate',\n",
       "    'RoleArn': 'arn:aws:iam::398333718380:role/cfnstudiodomain-SageMakerExecutionRole-8XQVuLUFsn6g',\n",
       "    'StoppingCondition': {'MaxRuntimeInSeconds': 86400},\n",
       "    'RetryStrategy': {'MaximumRetryAttempts': 1},\n",
       "    'InputDataConfig': [{'ChannelName': 'sagemaker_remote_function_bootstrap',\n",
       "      'DataSource': {'S3DataSource': {'S3Uri': 's3://sagemaker-us-east-1-398333718380/from-idea-to-prod-pipeline-23-07-51-02/sagemaker_remote_function_bootstrap',\n",
       "        'S3DataType': 'S3Prefix'}}},\n",
       "     {'ChannelName': 'pre_exec_script_and_dependencies',\n",
       "      'DataSource': {'S3DataSource': {'S3Uri': 's3://sagemaker-us-east-1-398333718380/from-idea-to-prod-pipeline-23-07-51-02/from-idea-to-prod-evaluate/2024-07-23-08-11-27-080/pre_exec_script_and_dependencies',\n",
       "        'S3DataType': 'S3Prefix'}}},\n",
       "     {'ChannelName': '2024-07-23-08-11-27-080',\n",
       "      'DataSource': {'S3DataSource': {'S3Uri': 's3://sagemaker-us-east-1-398333718380/from-idea-to-prod-pipeline-23-07-51-02/sm_rf_user_ws/2024-07-23-08-11-27-080',\n",
       "        'S3DataType': 'S3Prefix'}}}],\n",
       "    'OutputDataConfig': {'S3OutputPath': {'Std:Join': {'On': '/',\n",
       "       'Values': ['s3://sagemaker-us-east-1-398333718380/from-idea-to-prod-pipeline-23-07-51-02',\n",
       "        {'Get': 'Execution.PipelineExecutionId'},\n",
       "        'from-idea-to-prod-evaluate',\n",
       "        'results']}}},\n",
       "    'AlgorithmSpecification': {'TrainingImage': '885854791233.dkr.ecr.us-east-1.amazonaws.com/sagemaker-distribution-prod@sha256:9e7622bbe2f3ee9dd516797bfe3ed310983b96190eeefbdeeeea69519d3946fe',\n",
       "     'TrainingInputMode': 'File',\n",
       "     'ContainerEntrypoint': ['/bin/bash',\n",
       "      '/opt/ml/input/data/sagemaker_remote_function_bootstrap/job_driver.sh'],\n",
       "     'ContainerArguments': ['--s3_base_uri',\n",
       "      's3://sagemaker-us-east-1-398333718380/from-idea-to-prod-pipeline-23-07-51-02',\n",
       "      '--region',\n",
       "      'us-east-1',\n",
       "      '--client_python_version',\n",
       "      '3.10',\n",
       "      '--client_sagemaker_pysdk_version',\n",
       "      '2.226.1',\n",
       "      '--dependency_settings',\n",
       "      '{\"dependency_file\": \"requirements.txt\"}',\n",
       "      '--pipeline_step_name',\n",
       "      'from-idea-to-prod-evaluate',\n",
       "      '--pipeline_execution_id',\n",
       "      {'Get': 'Execution.PipelineExecutionId'},\n",
       "      '--func_step_s3_dir',\n",
       "      '2024-07-23-08-11-27-080',\n",
       "      '--property_references',\n",
       "      'Execution.PipelineExecutionId',\n",
       "      {'Get': 'Execution.PipelineExecutionId'},\n",
       "      'Steps.from-idea-to-prod-preprocess.OutputDataConfig.S3OutputPath',\n",
       "      {'Std:Join': {'On': '',\n",
       "        'Values': [{'Get': 'Steps.from-idea-to-prod-preprocess.OutputDataConfig.S3OutputPath'}]}},\n",
       "      'Steps.from-idea-to-prod-preprocess.OutputDataConfig.S3OutputPath',\n",
       "      {'Std:Join': {'On': '',\n",
       "        'Values': [{'Get': 'Steps.from-idea-to-prod-preprocess.OutputDataConfig.S3OutputPath'}]}},\n",
       "      'Steps.from-idea-to-prod-train.ModelArtifacts.S3ModelArtifacts',\n",
       "      {'Std:Join': {'On': '',\n",
       "        'Values': [{'Get': 'Steps.from-idea-to-prod-train.ModelArtifacts.S3ModelArtifacts'}]}},\n",
       "      'Parameters.TrackingServerARN',\n",
       "      {'Get': 'Parameters.TrackingServerARN'},\n",
       "      'Steps.from-idea-to-prod-preprocess.OutputDataConfig.S3OutputPath',\n",
       "      {'Std:Join': {'On': '',\n",
       "        'Values': [{'Get': 'Steps.from-idea-to-prod-preprocess.OutputDataConfig.S3OutputPath'}]}},\n",
       "      'Steps.from-idea-to-prod-preprocess.OutputDataConfig.S3OutputPath',\n",
       "      {'Std:Join': {'On': '',\n",
       "        'Values': [{'Get': 'Steps.from-idea-to-prod-preprocess.OutputDataConfig.S3OutputPath'}]}},\n",
       "      '--serialize_output_to_json',\n",
       "      'true']},\n",
       "    'ResourceConfig': {'VolumeSizeInGB': 30,\n",
       "     'InstanceCount': 1,\n",
       "     'InstanceType': {'Get': 'Parameters.ProcessingInstanceType'},\n",
       "     'KeepAlivePeriodInSeconds': 3600},\n",
       "    'EnableNetworkIsolation': False,\n",
       "    'EnableInterContainerTrafficEncryption': False,\n",
       "    'EnableManagedSpotTraining': False,\n",
       "    'Environment': {'AWS_DEFAULT_REGION': 'us-east-1',\n",
       "     'REMOTE_FUNCTION_SECRET_KEY': 'f7c539b761f8982b933718996bd5b3be95b3c8aeaef54e6c3d863a6e671903f9'}},\n",
       "   'DependsOn': ['from-idea-to-prod-preprocess'],\n",
       "   'DisplayName': 'pipeline_steps.evaluate.evaluate',\n",
       "   'Description': '/home/sagemaker-user/amazon-sagemaker-from-idea-to-production/pipeline_steps/evaluate.py'},\n",
       "  {'Name': 'from-idea-to-prod-preprocess',\n",
       "   'Type': 'Training',\n",
       "   'Arguments': {'TrainingJobName': 'preprocess',\n",
       "    'RoleArn': 'arn:aws:iam::398333718380:role/cfnstudiodomain-SageMakerExecutionRole-8XQVuLUFsn6g',\n",
       "    'StoppingCondition': {'MaxRuntimeInSeconds': 86400},\n",
       "    'RetryStrategy': {'MaximumRetryAttempts': 1},\n",
       "    'InputDataConfig': [{'ChannelName': 'sagemaker_remote_function_bootstrap',\n",
       "      'DataSource': {'S3DataSource': {'S3Uri': 's3://sagemaker-us-east-1-398333718380/from-idea-to-prod-pipeline-23-07-51-02/sagemaker_remote_function_bootstrap',\n",
       "        'S3DataType': 'S3Prefix'}}},\n",
       "     {'ChannelName': 'pre_exec_script_and_dependencies',\n",
       "      'DataSource': {'S3DataSource': {'S3Uri': 's3://sagemaker-us-east-1-398333718380/from-idea-to-prod-pipeline-23-07-51-02/from-idea-to-prod-preprocess/2024-07-23-08-11-27-080/pre_exec_script_and_dependencies',\n",
       "        'S3DataType': 'S3Prefix'}}},\n",
       "     {'ChannelName': '2024-07-23-08-11-27-080',\n",
       "      'DataSource': {'S3DataSource': {'S3Uri': 's3://sagemaker-us-east-1-398333718380/from-idea-to-prod-pipeline-23-07-51-02/sm_rf_user_ws/2024-07-23-08-11-27-080',\n",
       "        'S3DataType': 'S3Prefix'}}}],\n",
       "    'OutputDataConfig': {'S3OutputPath': {'Std:Join': {'On': '/',\n",
       "       'Values': ['s3://sagemaker-us-east-1-398333718380/from-idea-to-prod-pipeline-23-07-51-02',\n",
       "        {'Get': 'Execution.PipelineExecutionId'},\n",
       "        'from-idea-to-prod-preprocess',\n",
       "        'results']}}},\n",
       "    'AlgorithmSpecification': {'TrainingImage': '885854791233.dkr.ecr.us-east-1.amazonaws.com/sagemaker-distribution-prod@sha256:9e7622bbe2f3ee9dd516797bfe3ed310983b96190eeefbdeeeea69519d3946fe',\n",
       "     'TrainingInputMode': 'File',\n",
       "     'ContainerEntrypoint': ['/bin/bash',\n",
       "      '/opt/ml/input/data/sagemaker_remote_function_bootstrap/job_driver.sh'],\n",
       "     'ContainerArguments': ['--s3_base_uri',\n",
       "      's3://sagemaker-us-east-1-398333718380/from-idea-to-prod-pipeline-23-07-51-02',\n",
       "      '--region',\n",
       "      'us-east-1',\n",
       "      '--client_python_version',\n",
       "      '3.10',\n",
       "      '--client_sagemaker_pysdk_version',\n",
       "      '2.226.1',\n",
       "      '--dependency_settings',\n",
       "      '{\"dependency_file\": \"requirements.txt\"}',\n",
       "      '--pipeline_step_name',\n",
       "      'from-idea-to-prod-preprocess',\n",
       "      '--pipeline_execution_id',\n",
       "      {'Get': 'Execution.PipelineExecutionId'},\n",
       "      '--func_step_s3_dir',\n",
       "      '2024-07-23-08-11-27-080',\n",
       "      '--property_references',\n",
       "      'Execution.PipelineExecutionId',\n",
       "      {'Get': 'Execution.PipelineExecutionId'},\n",
       "      'Parameters.InputDataUrl',\n",
       "      {'Get': 'Parameters.InputDataUrl'},\n",
       "      'Parameters.TrackingServerARN',\n",
       "      {'Get': 'Parameters.TrackingServerARN'},\n",
       "      'Execution.PipelineExecutionId',\n",
       "      {'Get': 'Execution.PipelineExecutionId'},\n",
       "      '--serialize_output_to_json',\n",
       "      'true']},\n",
       "    'ResourceConfig': {'VolumeSizeInGB': 30,\n",
       "     'InstanceCount': 1,\n",
       "     'InstanceType': {'Get': 'Parameters.ProcessingInstanceType'},\n",
       "     'KeepAlivePeriodInSeconds': 3600},\n",
       "    'EnableNetworkIsolation': False,\n",
       "    'EnableInterContainerTrafficEncryption': False,\n",
       "    'EnableManagedSpotTraining': False,\n",
       "    'Environment': {'AWS_DEFAULT_REGION': 'us-east-1',\n",
       "     'REMOTE_FUNCTION_SECRET_KEY': 'f7c539b761f8982b933718996bd5b3be95b3c8aeaef54e6c3d863a6e671903f9'}},\n",
       "   'DisplayName': 'pipeline_steps.preprocess.preprocess',\n",
       "   'Description': '/home/sagemaker-user/amazon-sagemaker-from-idea-to-production/pipeline_steps/preprocess.py'},\n",
       "  {'Name': 'from-idea-to-prod-train',\n",
       "   'Type': 'Training',\n",
       "   'Arguments': {'AlgorithmSpecification': {'TrainingInputMode': 'File',\n",
       "     'TrainingImage': '683313688378.dkr.ecr.us-east-1.amazonaws.com/sagemaker-xgboost:1.7-1'},\n",
       "    'OutputDataConfig': {'S3OutputPath': 's3://sagemaker-us-east-1-398333718380/from-idea-to-prod/xgboost/output'},\n",
       "    'TrainingJobName': 'from-idea-to-prod-train',\n",
       "    'StoppingCondition': {'MaxRuntimeInSeconds': 86400},\n",
       "    'ResourceConfig': {'VolumeSizeInGB': 30,\n",
       "     'InstanceCount': 1,\n",
       "     'InstanceType': {'Get': 'Parameters.TrainingInstanceType'}},\n",
       "    'RoleArn': 'arn:aws:iam::398333718380:role/cfnstudiodomain-SageMakerExecutionRole-8XQVuLUFsn6g',\n",
       "    'InputDataConfig': [{'DataSource': {'S3DataSource': {'S3DataType': 'S3Prefix',\n",
       "        'S3Uri': {'Std:JsonGet': {'S3Uri': {'Std:Join': {'On': '/',\n",
       "            'Values': [{'Get': 'Steps.from-idea-to-prod-preprocess.OutputDataConfig.S3OutputPath'},\n",
       "             'results.json']}},\n",
       "          'Path': \"Result['train_data']\"}},\n",
       "        'S3DataDistributionType': 'FullyReplicated'}},\n",
       "      'ContentType': 'text/csv',\n",
       "      'ChannelName': 'train'},\n",
       "     {'DataSource': {'S3DataSource': {'S3DataType': 'S3Prefix',\n",
       "        'S3Uri': {'Std:JsonGet': {'S3Uri': {'Std:Join': {'On': '/',\n",
       "            'Values': [{'Get': 'Steps.from-idea-to-prod-preprocess.OutputDataConfig.S3OutputPath'},\n",
       "             'results.json']}},\n",
       "          'Path': \"Result['validation_data']\"}},\n",
       "        'S3DataDistributionType': 'FullyReplicated'}},\n",
       "      'ContentType': 'text/csv',\n",
       "      'ChannelName': 'validation'}],\n",
       "    'HyperParameters': {'num_round': '100',\n",
       "     'max_depth': '3',\n",
       "     'eta': '0.5',\n",
       "     'alpha': '2.5',\n",
       "     'objective': 'binary:logistic',\n",
       "     'eval_metric': 'auc',\n",
       "     'subsample': '0.8',\n",
       "     'colsample_bytree': '0.8',\n",
       "     'min_child_weight': '3',\n",
       "     'early_stopping_rounds': '10',\n",
       "     'verbosity': '1'},\n",
       "    'DebugHookConfig': {'S3OutputPath': 's3://sagemaker-us-east-1-398333718380/from-idea-to-prod/xgboost/output',\n",
       "     'CollectionConfigurations': []},\n",
       "    'ProfilerConfig': {'S3OutputPath': 's3://sagemaker-us-east-1-398333718380/from-idea-to-prod/xgboost/output',\n",
       "     'DisableProfiler': False}},\n",
       "   'CacheConfig': {'Enabled': True, 'ExpireAfter': 'P30d'},\n",
       "   'DependsOn': ['from-idea-to-prod-preprocess']}]}"
      ]
     },
     "execution_count": 43,
     "metadata": {},
     "output_type": "execute_result"
    }
   ],
   "source": [
    "pipeline_definition = json.loads(pipeline.describe()['PipelineDefinition'])\n",
    "pipeline_definition"
   ]
  },
  {
   "cell_type": "markdown",
   "id": "f297037d-a04c-463a-9353-c362fcb3677d",
   "metadata": {},
   "source": [
    "Observe e entenda o JSON de definição do pipeline. Por exemplo, você pode ver como os parâmetros do pipeline são definidos e como são usados.\n",
    "\n",
    "Definição:\n",
    "```json\n",
    "'Parameters': [{'Name': 'ProcessingInstanceType',\n",
    "   'Type': 'String',\n",
    "   'DefaultValue': 'ml.m5.large'},\n",
    "               ...\n",
    "               ]\n",
    "```\n",
    "\n",
    "Substituição de parâmetros:\n",
    "```json\n",
    "'Arguments': {'ProcessingResources': {'ClusterConfig': {'InstanceType':{'Get':'Parameters.ProcessingInstanceType'}\n",
    "```\n",
    "\n",
    "Agora encontre a definição do passo `preprocess`:\n",
    "\n",
    "\n",
    "```json\n",
    "{'Name': 'from-idea-to-prod-preprocess',\n",
    "   'Type': 'Training',\n",
    "   'Arguments': {'TrainingJobName': 'preprocess',\n",
    "    'RoleArn': 'arn:aws:iam::906545278380:role/service-role/AmazonSageMaker-ExecutionRole-20240214T222844',\n",
    "    'StoppingCondition': {'MaxRuntimeInSeconds': 86400},\n",
    "    'RetryStrategy': {'MaximumRetryAttempts': 1},\n",
    "    'InputDataConfig': [{'ChannelName': 'sagemaker_remote_function_bootstrap',\n",
    "      'DataSource': {'S3DataSource': {'S3Uri': 's3://sagemaker-us-east-1-906545278380/from-idea-to-prod-pipeline-03-09-21-09/sagemaker_remote_function_bootstrap',\n",
    "        'S3DataType': 'S3Prefix'}}},\n",
    "```\n",
    "\n",
    "Você pode ver que o SageMaker, por padrão, executa seu script Python em um contêiner com a mesma imagem que a imagem do kernel usada para este notebook JupyterLab:\n",
    "\n",
    "```json\n",
    "'AlgorithmSpecification': {'TrainingImage': '885854791233.dkr.ecr.us-east-1.amazonaws.com/sagemaker-distribution-prod@sha256:7c07530831d3d25b27a77b6a77f9801eec01b7b80c69ca1aa2c9eae3df00887d',\n",
    "```\n",
    "\n",
    "\n",
    "Se você quiser criar pipelines manualmente, pode trabalhar com JSON e seguir o [SageMaker Pipeline Definition JSON Schema](https://aws-sagemaker-mlops.github.io/sagemaker-model-building-pipeline-definition-JSON-schema/index.html)."
   ]
  },
  {
   "cell_type": "markdown",
   "id": "dc25fb32-eaab-4b01-8ccc-a79908afce80",
   "metadata": {},
   "source": [
    "## Adicionar transformação em lote e verificações de qualidade ao pipeline\n",
    "Você pode integrar etapas adicionais em seu pipeline de construção de modelo para automatizar todas as tarefas necessárias. Nesta seção, você vai adicionar as seguintes etapas:\n",
    "- Verificações de qualidade para os dados e o modelo e cálculo de linha de base usando [`QualityCheckStep`](https://docs.aws.amazon.com/sagemaker/latest/dg/build-and-manage-steps.html#step-type-quality-check)\n",
    "- Transformação em Batch usando [`TransformStep`](https://docs.aws.amazon.com/sagemaker/latest/dg/build-and-manage-steps.html#step-type-transform)\n",
    "\n",
    "Para um exemplo mais detalhado com verificações de qualidade do modelo, consulte o notebook de exemplo [Integração de SageMaker Pipelines com Model Monitor e Clarify](https://github.com/aws/amazon-sagemaker-examples/blob/main/sagemaker-pipelines/tabular/model-monitor-clarify-pipelines/sagemaker-pipeline-model-monitor-clarify-steps.ipynb).\n",
    "\n",
    "Para entender o ciclo de vida da qualidade dos dados e do modelo, consulte o Guia do Desenvolvedor [Cálculo do baseline, detecção de desvio e ciclo de vida com etapas ClarifyCheck e QualityCheck no Amazon SageMaker Model Building Pipelines](https://docs.aws.amazon.com/sagemaker/latest/dg/pipelines-quality-clarify-baseline-lifecycle.html)."
   ]
  },
  {
   "cell_type": "code",
   "execution_count": 44,
   "id": "6848224f-40be-4b84-ba11-78505227444b",
   "metadata": {
    "tags": []
   },
   "outputs": [],
   "source": [
    "from sagemaker.transformer import Transformer\n",
    "from sagemaker.inputs import TransformInput\n",
    "from sagemaker.workflow.steps import TransformStep\n",
    "from sagemaker.inputs import CreateModelInput"
   ]
  },
  {
   "cell_type": "markdown",
   "id": "4156045d-8785-4e39-9e7a-42d86a2a9198",
   "metadata": {},
   "source": [
    "### Verificações de qualidade\n",
    "\n",
    "Comece com a definição das etapas de verificação de qualidade de dados e do modelo para o pipeline. As etapas de verificação de qualidade de dados e do modelo usam dados das etapas `preprocess` e `evaluate` do pipeline."
   ]
  },
  {
   "cell_type": "code",
   "execution_count": 45,
   "id": "9298f32c-506f-4902-a392-f125d4545d9f",
   "metadata": {},
   "outputs": [
    {
     "name": "stderr",
     "output_type": "stream",
     "text": [
      "INFO:sagemaker.image_uris:Defaulting to the only supported framework/algorithm version: .\n",
      "INFO:sagemaker.image_uris:Ignoring unnecessary instance type: None.\n",
      "INFO:sagemaker.image_uris:Defaulting to the only supported framework/algorithm version: .\n",
      "INFO:sagemaker.image_uris:Ignoring unnecessary instance type: None.\n"
     ]
    }
   ],
   "source": [
    "# Parâmetros para controlar a verificação de qualidade dos dados\n",
    "skip_check_data_quality_param = ParameterBoolean(name=\"SkipDataQualityCheck\", default_value=True)\n",
    "register_new_baseline_data_quality_param = ParameterBoolean(\n",
    "    name=\"RegisterNewDataQualityBaseline\", default_value=True\n",
    ")\n",
    "\n",
    "# Parâmetros para controlar a verificação de qualidade do modelo\n",
    "skip_check_model_quality_param = ParameterBoolean(name=\"SkipModelQualityCheck\", default_value=True)\n",
    "register_new_baseline_model_quality_param = ParameterBoolean(\n",
    "    name=\"RegisterNewModelQualityBaseline\", default_value=True\n",
    ")\n",
    "\n",
    "# Configuração do job para as etapas de verificação de qualidade de dados e do modelo\n",
    "check_job_config = CheckJobConfig(\n",
    "    role=sm_role,\n",
    "    instance_count=1,\n",
    "    instance_type=process_instance_type_param,\n",
    ")\n",
    "\n",
    "# Configuração para a etapa de verificação de qualidade dos dados\n",
    "data_quality_check_config = DataQualityCheckConfig(\n",
    "    baseline_dataset=step_preprocess['baseline_data'],\n",
    "    dataset_format=DatasetFormat.csv(header=False),\n",
    "    output_s3_uri=baseline_results_s3_url,\n",
    ")\n",
    "\n",
    "# Configuração para a etapa de verificação de qualidade do modelo\n",
    "model_quality_check_config = ModelQualityCheckConfig(\n",
    "    baseline_dataset=step_evaluate['prediction_baseline_data'],\n",
    "    dataset_format=DatasetFormat.csv(header=True),\n",
    "    output_s3_uri=prediction_baseline_results_s3_url,\n",
    "    problem_type=\"BinaryClassification\",\n",
    "    inference_attribute= \"prediction\", #  A coluna no conjunto de dados que contém previsões\n",
    "    probability_attribute= \"probability\", # A coluna no conjunto de dados que contém probabilidades\n",
    "    ground_truth_attribute= \"label\", #  A coluna no conjunto de dados que contém o label\n",
    ")\n",
    "\n",
    "# Etapa de verificação de qualidade dos dados\n",
    "step_data_quality_check = QualityCheckStep(\n",
    "    name=f\"{project}-data-quality\",\n",
    "    quality_check_config=data_quality_check_config,\n",
    "    check_job_config=check_job_config,\n",
    "    skip_check=skip_check_data_quality_param,\n",
    "    register_new_baseline=register_new_baseline_data_quality_param,\n",
    "    model_package_group_name=model_package_group_name_param,\n",
    "    cache_config=cache_config,\n",
    ")\n",
    "\n",
    "# Etapa de verificação de qualidade do modelo\n",
    "step_model_quality_check = QualityCheckStep(\n",
    "    name=f\"{project}-model-quality\",\n",
    "    quality_check_config=model_quality_check_config,\n",
    "    check_job_config=check_job_config,\n",
    "    skip_check=skip_check_model_quality_param,\n",
    "    register_new_baseline=register_new_baseline_model_quality_param,\n",
    "    model_package_group_name=model_package_group_name_param,\n",
    "    cache_config=cache_config,\n",
    ")"
   ]
  },
  {
   "cell_type": "markdown",
   "id": "f11f800e-50b9-4406-8441-d30bcc6f2f0a",
   "metadata": {},
   "source": [
    "### Transformação em Batch (lote)\n",
    "\n",
    "Adicione uma etapa de transformação ao pipeline."
   ]
  },
  {
   "cell_type": "code",
   "execution_count": 46,
   "id": "96a1445b-af06-404a-b824-634553aa9af7",
   "metadata": {},
   "outputs": [],
   "source": [
    "session = PipelineSession()\n",
    "\n",
    "# cria a etapa do modelo\n",
    "step_create_model = ModelStep(\n",
    "    name=f\"{project}-model\",\n",
    "    step_args=Model(\n",
    "        image_uri=XGBOOST_IMAGE_URI,        \n",
    "        model_data=step_train.properties.ModelArtifacts.S3ModelArtifacts,\n",
    "        name=f\"from-idea-to-prod-xgboost-model\",\n",
    "        sagemaker_session=session,\n",
    "        role=sm_role,\n",
    "    ).create(instance_type=\"ml.m5.large\"),\n",
    ")\n",
    "\n",
    "# cria a etapa de transformação\n",
    "step_transform = TransformStep(\n",
    "    name=f\"{project}-transform\", \n",
    "    step_args=Transformer(\n",
    "        model_name=step_create_model.properties.ModelName,\n",
    "        instance_type=train_instance_type_param,\n",
    "        instance_count=1,\n",
    "        accept=\"text/csv\",\n",
    "        assemble_with=\"Line\",\n",
    "        output_path=f\"{output_s3_prefix}/transform\",\n",
    "        sagemaker_session=session,\n",
    "        base_transform_job_name=f\"{project}-transform\",\n",
    "    ).transform(    \n",
    "        data=step_preprocess[\"test_x_data\"],\n",
    "        content_type=\"text/csv\",\n",
    "        split_type=\"Line\", \n",
    "    ),\n",
    "    cache_config=cache_config,\n",
    ")"
   ]
  },
  {
   "cell_type": "markdown",
   "id": "b508a184-33f4-4e5e-ac88-a78aa81de30a",
   "metadata": {},
   "source": [
    "Você precisa incluir as linhas de base de qualidade de dados e do modelo geradas na etapa de registro do modelo.\n",
    "\n"
   ]
  },
  {
   "cell_type": "code",
   "execution_count": 47,
   "id": "8c504c0c-6ead-4ede-b1d9-902a90509e7a",
   "metadata": {},
   "outputs": [],
   "source": [
    "# redefina a etapa de registro do modelo para usar as linhas de base de qualidade de dados e do modelo calculadas\n",
    "step_register = step(\n",
    "        register,\n",
    "        name=f\"{project}-register\",\n",
    "        keep_alive_period_in_seconds=3600,\n",
    "    )(\n",
    "        training_job_name=step_train.properties.TrainingJobName,\n",
    "        model_package_group_name=model_package_group_name_param,\n",
    "        model_approval_status=model_approval_status_param,\n",
    "        evaluation_result=step_evaluate['evaluation_result'],\n",
    "        output_s3_prefix=output_s3_url,\n",
    "        tracking_server_arn=tracking_server_arn_param,\n",
    "        model_statistics_s3_path=step_model_quality_check.properties.CalculatedBaselineStatistics,\n",
    "        model_constraints_s3_path=step_model_quality_check.properties.CalculatedBaselineConstraints,\n",
    "        model_data_statistics_s3_path=step_data_quality_check.properties.CalculatedBaselineStatistics,\n",
    "        model_data_constraints_s3_path=step_data_quality_check.properties.CalculatedBaselineConstraints,\n",
    "        experiment_name=step_preprocess['experiment_name'],\n",
    "        pipeline_run_id=step_preprocess['pipeline_run_id'],\n",
    "    )\n",
    "\n",
    "# redefina a etapa condicional de registro com a nova step_register\n",
    "step_conditional_register = ConditionStep(\n",
    "    name=f\"{project}-check-metrics\",\n",
    "    conditions=[condition_gte],\n",
    "    if_steps=[step_register, step_transform],\n",
    "    else_steps=[step_fail],\n",
    ")"
   ]
  },
  {
   "cell_type": "code",
   "execution_count": 48,
   "id": "9859e755-b0a6-4d26-8cb8-e7dd6c86755f",
   "metadata": {},
   "outputs": [],
   "source": [
    "# crie um objeto de pipeline\n",
    "pipeline = Pipeline(\n",
    "    name=f\"{pipeline_name}\",\n",
    "    parameters=[\n",
    "        input_s3_url_param,\n",
    "        process_instance_type_param,\n",
    "        train_instance_type_param,\n",
    "        model_approval_status_param,\n",
    "        test_score_threshold_param,\n",
    "        model_package_group_name_param,\n",
    "        tracking_server_arn_param,\n",
    "        skip_check_data_quality_param,\n",
    "        skip_check_model_quality_param,\n",
    "        register_new_baseline_data_quality_param,\n",
    "        register_new_baseline_model_quality_param,\n",
    "    ],\n",
    "    steps=[step_conditional_register],\n",
    "    pipeline_definition_config=PipelineDefinitionConfig(use_custom_job_prefix=True)\n",
    ")"
   ]
  },
  {
   "cell_type": "code",
   "execution_count": null,
   "id": "1703b307",
   "metadata": {},
   "outputs": [],
   "source": [
    "# atualize o pipeline\n",
    "pipeline.upsert(role_arn=sm_role, parallelism_config=ParallelismConfiguration(5).to_request())"
   ]
  },
  {
   "cell_type": "markdown",
   "id": "7a6dfdbc-af2f-4555-8750-6f4c36e0a981",
   "metadata": {},
   "source": [
    "O novo pipeline agora contém as etapas para verificações de qualidade de dados e do modelo e execução de transformação em lote:\n",
    "![](img/pipeline-graph-with-transform.png)"
   ]
  },
  {
   "cell_type": "markdown",
   "id": "2ea41f01-21f6-4154-8fb4-42bf3f0d6524",
   "metadata": {},
   "source": [
    "### Execute o novo pipeline\n",
    "Na primeira vez que o pipeline é executado, os parâmetros `skip_check_...` e `register_new_baseline_...` precisam ser definidos com os valores padrão `(True, True)` para que as verificações de qualidade sejam ignoradas e as novas linhas de base calculadas sejam registradas para a versão do modelo."
   ]
  },
  {
   "cell_type": "code",
   "execution_count": null,
   "id": "da32e696",
   "metadata": {},
   "outputs": [],
   "source": [
    "pipeline_execution = pipeline.start()\n",
    "pipeline_execution.describe()"
   ]
  },
  {
   "cell_type": "code",
   "execution_count": null,
   "id": "d7cd1c8c",
   "metadata": {},
   "outputs": [],
   "source": [
    "# Descomente se você quiser esperar no notebook até que esta execução seja concluída\n",
    "# pipeline_execution.wait() \n",
    "pipeline_execution.list_steps()"
   ]
  },
  {
   "cell_type": "markdown",
   "id": "a49118c7-f123-4983-a12f-c38060e27669",
   "metadata": {},
   "source": [
    "Se você quiser executar o pipeline mais uma vez, pode definir o parâmetro `SkipDataQualityCheck` como `True` para executar a verificação de qualidade dos dados, comparando a linha de base gerada com o conjunto de dados de entrada e a saída do modelo."
   ]
  },
  {
   "cell_type": "code",
   "execution_count": 52,
   "id": "55436e93-6602-409a-8cfb-d833892c11bb",
   "metadata": {},
   "outputs": [],
   "source": [
    "# Uncomment if you would like to start one more execution\n",
    "# pipeline_execution = pipeline.start(\n",
    "#     parameters=dict(\n",
    "#         SkipDataQualityCheck=False,\n",
    "#     )\n",
    "# )"
   ]
  },
  {
   "cell_type": "markdown",
   "id": "5d527786-0c93-4592-8d91-4f2c95ec691b",
   "metadata": {},
   "source": [
    "### Recursos adicionais do SageMaker Pipelines\n",
    "Sinta-se à vontade para explorar por conta própria mais recursos úteis do SageMaker Pipelines, como [execução seletiva de etapas do pipeline](https://docs.aws.amazon.com/sagemaker/latest/dg/pipelines-selective-ex.html), [suporte entre contas](https://docs.aws.amazon.com/sagemaker/latest/dg/build-and-manage-xaccount.html), [execuções agendadas de pipeline](https://docs.aws.amazon.com/sagemaker/latest/dg/pipeline-eventbridge.html), ou [modo local](https://docs.aws.amazon.com/sagemaker/latest/dg/pipelines-local-mode.html).\n",
    "\n",
    "Se você precisar adicionar mais funcionalidades de monitoramento ao pipeline, pode usar o [`MonitorBatchTransformStep`](https://sagemaker.readthedocs.io/en/stable/workflows/pipelines/sagemaker.workflow.pipelines.html#sagemaker.workflow.monitor_batch_transform_step.MonitorBatchTransformStep) para combinar uma etapa de transformação com verificações de qualidade, detecção de viés e relatório de explicabilidade."
   ]
  },
  {
   "cell_type": "markdown",
   "id": "d4252f74-aeea-488b-8628-9dacd566384b",
   "metadata": {
    "tags": []
   },
   "source": [
    "---"
   ]
  },
  {
   "cell_type": "markdown",
   "id": "f43e4252-719c-4cde-b88f-6eb1b729a955",
   "metadata": {},
   "source": [
    "## Opcional: adicionar um feature store\n",
    "Nesta seção, você vai usar o SageMaker Feature Store para gerenciar features e o conjunto de dados para treinamento do modelo.\n",
    "\n",
    "<div class=\"alert alert-info\"> Esta seção é opcional e não é necessária para o restante do curso. Caso preferir, você pode parar aqui e ir para o próximo notebook.</div>"
   ]
  },
  {
   "cell_type": "code",
   "execution_count": 53,
   "id": "cc1d68f4-4bd2-44e7-8dbd-742e05152760",
   "metadata": {
    "tags": []
   },
   "outputs": [],
   "source": [
    "from sagemaker.feature_store.feature_group import FeatureGroup\n",
    "from sagemaker.feature_store.inputs import TableFormatEnum\n",
    "from sagemaker.feature_store.feature_processor import CSVDataSource, feature_processor, to_pipeline\n",
    "from sagemaker.remote_function import remote\n",
    "from sagemaker.workflow.function_step import step\n",
    "import numpy as np\n",
    "import pandas as pd\n",
    "from sklearn.preprocessing import MinMaxScaler\n",
    "from datetime import datetime, timezone, date\n",
    "from time import gmtime, strftime, sleep\n",
    "import time"
   ]
  },
  {
   "cell_type": "code",
   "execution_count": 54,
   "id": "46fe3378-740f-4e46-98fd-490ef17d1834",
   "metadata": {
    "tags": []
   },
   "outputs": [],
   "source": [
    "%store -r "
   ]
  },
  {
   "cell_type": "code",
   "execution_count": 55,
   "id": "63a84977-e63c-4fd6-a643-2bc2d039229b",
   "metadata": {
    "tags": []
   },
   "outputs": [],
   "source": [
    "session = sagemaker.Session()\n",
    "project = \"from-idea-to-prod\"\n",
    "current_timestamp = strftime('%d-%H-%M-%S', gmtime())"
   ]
  },
  {
   "cell_type": "code",
   "execution_count": 56,
   "id": "9d62fd49-01ac-41bb-b3ea-6b640e509188",
   "metadata": {
    "tags": []
   },
   "outputs": [
    {
     "name": "stdout",
     "output_type": "stream",
     "text": [
      "Stored 'feature_store_bucket_prefix' (str)\n"
     ]
    }
   ],
   "source": [
    "feature_store_bucket_prefix = 'from-idea-to-prod/feature-store'\n",
    "%store feature_store_bucket_prefix"
   ]
  },
  {
   "cell_type": "markdown",
   "id": "70e101dd-d211-4389-9c8d-61f9513110fe",
   "metadata": {},
   "source": [
    "### Transformar dados brutos em features prontas para treinamento\n",
    "Primeiro, transforme os dados brutos em features para poder extrair o schema do conjunto de dados. Você precisa do schema de dados para a definição de um grupo de features.\n",
    "\n",
    "A tradução mantém o significado original e usa termos técnicos apropriados em português, como \"features\", \"schema\" e \"conjunto de dados\". Está bem feita e adequada para um contexto técnico de ciência de dados ou aprendizado de máquina."
   ]
  },
  {
   "cell_type": "code",
   "execution_count": 57,
   "id": "f41c8373-3b55-4c75-94d5-7b48f50ac56e",
   "metadata": {
    "tags": []
   },
   "outputs": [
    {
     "data": {
      "text/html": [
       "<div>\n",
       "<style scoped>\n",
       "    .dataframe tbody tr th:only-of-type {\n",
       "        vertical-align: middle;\n",
       "    }\n",
       "\n",
       "    .dataframe tbody tr th {\n",
       "        vertical-align: top;\n",
       "    }\n",
       "\n",
       "    .dataframe thead th {\n",
       "        text-align: right;\n",
       "    }\n",
       "</style>\n",
       "<table border=\"1\" class=\"dataframe\">\n",
       "  <thead>\n",
       "    <tr style=\"text-align: right;\">\n",
       "      <th></th>\n",
       "      <th>age</th>\n",
       "      <th>job</th>\n",
       "      <th>marital</th>\n",
       "      <th>education</th>\n",
       "      <th>default</th>\n",
       "      <th>housing</th>\n",
       "      <th>loan</th>\n",
       "      <th>contact</th>\n",
       "      <th>month</th>\n",
       "      <th>day_of_week</th>\n",
       "      <th>duration</th>\n",
       "      <th>campaign</th>\n",
       "      <th>pdays</th>\n",
       "      <th>previous</th>\n",
       "      <th>poutcome</th>\n",
       "      <th>emp.var.rate</th>\n",
       "      <th>cons.price.idx</th>\n",
       "      <th>cons.conf.idx</th>\n",
       "      <th>euribor3m</th>\n",
       "      <th>nr.employed</th>\n",
       "      <th>y</th>\n",
       "    </tr>\n",
       "  </thead>\n",
       "  <tbody>\n",
       "    <tr>\n",
       "      <th>0</th>\n",
       "      <td>56</td>\n",
       "      <td>housemaid</td>\n",
       "      <td>married</td>\n",
       "      <td>basic.4y</td>\n",
       "      <td>no</td>\n",
       "      <td>no</td>\n",
       "      <td>no</td>\n",
       "      <td>telephone</td>\n",
       "      <td>may</td>\n",
       "      <td>mon</td>\n",
       "      <td>261</td>\n",
       "      <td>1</td>\n",
       "      <td>999</td>\n",
       "      <td>0</td>\n",
       "      <td>nonexistent</td>\n",
       "      <td>1.1</td>\n",
       "      <td>93.994</td>\n",
       "      <td>-36.4</td>\n",
       "      <td>4.857</td>\n",
       "      <td>5191.0</td>\n",
       "      <td>no</td>\n",
       "    </tr>\n",
       "    <tr>\n",
       "      <th>1</th>\n",
       "      <td>57</td>\n",
       "      <td>services</td>\n",
       "      <td>married</td>\n",
       "      <td>high.school</td>\n",
       "      <td>unknown</td>\n",
       "      <td>no</td>\n",
       "      <td>no</td>\n",
       "      <td>telephone</td>\n",
       "      <td>may</td>\n",
       "      <td>mon</td>\n",
       "      <td>149</td>\n",
       "      <td>1</td>\n",
       "      <td>999</td>\n",
       "      <td>0</td>\n",
       "      <td>nonexistent</td>\n",
       "      <td>1.1</td>\n",
       "      <td>93.994</td>\n",
       "      <td>-36.4</td>\n",
       "      <td>4.857</td>\n",
       "      <td>5191.0</td>\n",
       "      <td>no</td>\n",
       "    </tr>\n",
       "    <tr>\n",
       "      <th>2</th>\n",
       "      <td>37</td>\n",
       "      <td>services</td>\n",
       "      <td>married</td>\n",
       "      <td>high.school</td>\n",
       "      <td>no</td>\n",
       "      <td>yes</td>\n",
       "      <td>no</td>\n",
       "      <td>telephone</td>\n",
       "      <td>may</td>\n",
       "      <td>mon</td>\n",
       "      <td>226</td>\n",
       "      <td>1</td>\n",
       "      <td>999</td>\n",
       "      <td>0</td>\n",
       "      <td>nonexistent</td>\n",
       "      <td>1.1</td>\n",
       "      <td>93.994</td>\n",
       "      <td>-36.4</td>\n",
       "      <td>4.857</td>\n",
       "      <td>5191.0</td>\n",
       "      <td>no</td>\n",
       "    </tr>\n",
       "    <tr>\n",
       "      <th>3</th>\n",
       "      <td>40</td>\n",
       "      <td>admin.</td>\n",
       "      <td>married</td>\n",
       "      <td>basic.6y</td>\n",
       "      <td>no</td>\n",
       "      <td>no</td>\n",
       "      <td>no</td>\n",
       "      <td>telephone</td>\n",
       "      <td>may</td>\n",
       "      <td>mon</td>\n",
       "      <td>151</td>\n",
       "      <td>1</td>\n",
       "      <td>999</td>\n",
       "      <td>0</td>\n",
       "      <td>nonexistent</td>\n",
       "      <td>1.1</td>\n",
       "      <td>93.994</td>\n",
       "      <td>-36.4</td>\n",
       "      <td>4.857</td>\n",
       "      <td>5191.0</td>\n",
       "      <td>no</td>\n",
       "    </tr>\n",
       "    <tr>\n",
       "      <th>4</th>\n",
       "      <td>56</td>\n",
       "      <td>services</td>\n",
       "      <td>married</td>\n",
       "      <td>high.school</td>\n",
       "      <td>no</td>\n",
       "      <td>no</td>\n",
       "      <td>yes</td>\n",
       "      <td>telephone</td>\n",
       "      <td>may</td>\n",
       "      <td>mon</td>\n",
       "      <td>307</td>\n",
       "      <td>1</td>\n",
       "      <td>999</td>\n",
       "      <td>0</td>\n",
       "      <td>nonexistent</td>\n",
       "      <td>1.1</td>\n",
       "      <td>93.994</td>\n",
       "      <td>-36.4</td>\n",
       "      <td>4.857</td>\n",
       "      <td>5191.0</td>\n",
       "      <td>no</td>\n",
       "    </tr>\n",
       "    <tr>\n",
       "      <th>...</th>\n",
       "      <td>...</td>\n",
       "      <td>...</td>\n",
       "      <td>...</td>\n",
       "      <td>...</td>\n",
       "      <td>...</td>\n",
       "      <td>...</td>\n",
       "      <td>...</td>\n",
       "      <td>...</td>\n",
       "      <td>...</td>\n",
       "      <td>...</td>\n",
       "      <td>...</td>\n",
       "      <td>...</td>\n",
       "      <td>...</td>\n",
       "      <td>...</td>\n",
       "      <td>...</td>\n",
       "      <td>...</td>\n",
       "      <td>...</td>\n",
       "      <td>...</td>\n",
       "      <td>...</td>\n",
       "      <td>...</td>\n",
       "      <td>...</td>\n",
       "    </tr>\n",
       "    <tr>\n",
       "      <th>41183</th>\n",
       "      <td>73</td>\n",
       "      <td>retired</td>\n",
       "      <td>married</td>\n",
       "      <td>professional.course</td>\n",
       "      <td>no</td>\n",
       "      <td>yes</td>\n",
       "      <td>no</td>\n",
       "      <td>cellular</td>\n",
       "      <td>nov</td>\n",
       "      <td>fri</td>\n",
       "      <td>334</td>\n",
       "      <td>1</td>\n",
       "      <td>999</td>\n",
       "      <td>0</td>\n",
       "      <td>nonexistent</td>\n",
       "      <td>-1.1</td>\n",
       "      <td>94.767</td>\n",
       "      <td>-50.8</td>\n",
       "      <td>1.028</td>\n",
       "      <td>4963.6</td>\n",
       "      <td>yes</td>\n",
       "    </tr>\n",
       "    <tr>\n",
       "      <th>41184</th>\n",
       "      <td>46</td>\n",
       "      <td>blue-collar</td>\n",
       "      <td>married</td>\n",
       "      <td>professional.course</td>\n",
       "      <td>no</td>\n",
       "      <td>no</td>\n",
       "      <td>no</td>\n",
       "      <td>cellular</td>\n",
       "      <td>nov</td>\n",
       "      <td>fri</td>\n",
       "      <td>383</td>\n",
       "      <td>1</td>\n",
       "      <td>999</td>\n",
       "      <td>0</td>\n",
       "      <td>nonexistent</td>\n",
       "      <td>-1.1</td>\n",
       "      <td>94.767</td>\n",
       "      <td>-50.8</td>\n",
       "      <td>1.028</td>\n",
       "      <td>4963.6</td>\n",
       "      <td>no</td>\n",
       "    </tr>\n",
       "    <tr>\n",
       "      <th>41185</th>\n",
       "      <td>56</td>\n",
       "      <td>retired</td>\n",
       "      <td>married</td>\n",
       "      <td>university.degree</td>\n",
       "      <td>no</td>\n",
       "      <td>yes</td>\n",
       "      <td>no</td>\n",
       "      <td>cellular</td>\n",
       "      <td>nov</td>\n",
       "      <td>fri</td>\n",
       "      <td>189</td>\n",
       "      <td>2</td>\n",
       "      <td>999</td>\n",
       "      <td>0</td>\n",
       "      <td>nonexistent</td>\n",
       "      <td>-1.1</td>\n",
       "      <td>94.767</td>\n",
       "      <td>-50.8</td>\n",
       "      <td>1.028</td>\n",
       "      <td>4963.6</td>\n",
       "      <td>no</td>\n",
       "    </tr>\n",
       "    <tr>\n",
       "      <th>41186</th>\n",
       "      <td>44</td>\n",
       "      <td>technician</td>\n",
       "      <td>married</td>\n",
       "      <td>professional.course</td>\n",
       "      <td>no</td>\n",
       "      <td>no</td>\n",
       "      <td>no</td>\n",
       "      <td>cellular</td>\n",
       "      <td>nov</td>\n",
       "      <td>fri</td>\n",
       "      <td>442</td>\n",
       "      <td>1</td>\n",
       "      <td>999</td>\n",
       "      <td>0</td>\n",
       "      <td>nonexistent</td>\n",
       "      <td>-1.1</td>\n",
       "      <td>94.767</td>\n",
       "      <td>-50.8</td>\n",
       "      <td>1.028</td>\n",
       "      <td>4963.6</td>\n",
       "      <td>yes</td>\n",
       "    </tr>\n",
       "    <tr>\n",
       "      <th>41187</th>\n",
       "      <td>74</td>\n",
       "      <td>retired</td>\n",
       "      <td>married</td>\n",
       "      <td>professional.course</td>\n",
       "      <td>no</td>\n",
       "      <td>yes</td>\n",
       "      <td>no</td>\n",
       "      <td>cellular</td>\n",
       "      <td>nov</td>\n",
       "      <td>fri</td>\n",
       "      <td>239</td>\n",
       "      <td>3</td>\n",
       "      <td>999</td>\n",
       "      <td>1</td>\n",
       "      <td>failure</td>\n",
       "      <td>-1.1</td>\n",
       "      <td>94.767</td>\n",
       "      <td>-50.8</td>\n",
       "      <td>1.028</td>\n",
       "      <td>4963.6</td>\n",
       "      <td>no</td>\n",
       "    </tr>\n",
       "  </tbody>\n",
       "</table>\n",
       "<p>41188 rows × 21 columns</p>\n",
       "</div>"
      ],
      "text/plain": [
       "       age          job  marital            education  default housing loan  \\\n",
       "0       56    housemaid  married             basic.4y       no      no   no   \n",
       "1       57     services  married          high.school  unknown      no   no   \n",
       "2       37     services  married          high.school       no     yes   no   \n",
       "3       40       admin.  married             basic.6y       no      no   no   \n",
       "4       56     services  married          high.school       no      no  yes   \n",
       "...    ...          ...      ...                  ...      ...     ...  ...   \n",
       "41183   73      retired  married  professional.course       no     yes   no   \n",
       "41184   46  blue-collar  married  professional.course       no      no   no   \n",
       "41185   56      retired  married    university.degree       no     yes   no   \n",
       "41186   44   technician  married  professional.course       no      no   no   \n",
       "41187   74      retired  married  professional.course       no     yes   no   \n",
       "\n",
       "         contact month day_of_week  duration  campaign  pdays  previous  \\\n",
       "0      telephone   may         mon       261         1    999         0   \n",
       "1      telephone   may         mon       149         1    999         0   \n",
       "2      telephone   may         mon       226         1    999         0   \n",
       "3      telephone   may         mon       151         1    999         0   \n",
       "4      telephone   may         mon       307         1    999         0   \n",
       "...          ...   ...         ...       ...       ...    ...       ...   \n",
       "41183   cellular   nov         fri       334         1    999         0   \n",
       "41184   cellular   nov         fri       383         1    999         0   \n",
       "41185   cellular   nov         fri       189         2    999         0   \n",
       "41186   cellular   nov         fri       442         1    999         0   \n",
       "41187   cellular   nov         fri       239         3    999         1   \n",
       "\n",
       "          poutcome  emp.var.rate  cons.price.idx  cons.conf.idx  euribor3m  \\\n",
       "0      nonexistent           1.1          93.994          -36.4      4.857   \n",
       "1      nonexistent           1.1          93.994          -36.4      4.857   \n",
       "2      nonexistent           1.1          93.994          -36.4      4.857   \n",
       "3      nonexistent           1.1          93.994          -36.4      4.857   \n",
       "4      nonexistent           1.1          93.994          -36.4      4.857   \n",
       "...            ...           ...             ...            ...        ...   \n",
       "41183  nonexistent          -1.1          94.767          -50.8      1.028   \n",
       "41184  nonexistent          -1.1          94.767          -50.8      1.028   \n",
       "41185  nonexistent          -1.1          94.767          -50.8      1.028   \n",
       "41186  nonexistent          -1.1          94.767          -50.8      1.028   \n",
       "41187      failure          -1.1          94.767          -50.8      1.028   \n",
       "\n",
       "       nr.employed    y  \n",
       "0           5191.0   no  \n",
       "1           5191.0   no  \n",
       "2           5191.0   no  \n",
       "3           5191.0   no  \n",
       "4           5191.0   no  \n",
       "...            ...  ...  \n",
       "41183       4963.6  yes  \n",
       "41184       4963.6   no  \n",
       "41185       4963.6   no  \n",
       "41186       4963.6  yes  \n",
       "41187       4963.6   no  \n",
       "\n",
       "[41188 rows x 21 columns]"
      ]
     },
     "execution_count": 57,
     "metadata": {},
     "output_type": "execute_result"
    }
   ],
   "source": [
    "# Carregar dados brutos originais\n",
    "df_data = pd.read_csv(dataset_file_local_path, sep=\";\")\n",
    "pd.set_option(\"display.max_columns\", 500)\n",
    "df_data"
   ]
  },
  {
   "cell_type": "markdown",
   "id": "b2887120-c164-4b78-90c5-ede89722b9f5",
   "metadata": {},
   "source": [
    "Aplique feature engineering aos dados brutos:\n",
    "\n"
   ]
  },
  {
   "cell_type": "code",
   "execution_count": 58,
   "id": "f39290b0-12ef-4c96-9c76-cfb68671e8b2",
   "metadata": {
    "tags": []
   },
   "outputs": [],
   "source": [
    "target_col = \"y\"\n",
    "\n",
    "# Variável indicadora para capturar quando pdays assume o valor de 999\n",
    "df_data[\"no_previous_contact\"] = np.where(df_data[\"pdays\"] == 999, 1, 0)\n",
    "\n",
    "# Indicador para indivíduos não ativamente empregados\n",
    "df_data[\"not_working\"] = np.where(\n",
    "    np.in1d(df_data[\"job\"], [\"student\", \"retired\", \"unemployed\"]), 1, 0\n",
    ")\n",
    "\n",
    "# remover dados desnecessários\n",
    "df_model_data = df_data.drop(\n",
    "    [\"duration\", \"emp.var.rate\", \"cons.price.idx\", \"cons.conf.idx\", \"euribor3m\", \"nr.employed\"],\n",
    "    axis=1,\n",
    ")\n",
    "\n",
    "bins = [18, 30, 40, 50, 60, 70, 90]\n",
    "labels = ['18-29', '30-39', '40-49', '50-59', '60-69', '70-plus']\n",
    "\n",
    "df_model_data['age_range'] = pd.cut(df_model_data.age, bins, labels=labels, include_lowest=True)\n",
    "df_model_data = pd.concat([df_model_data, pd.get_dummies(df_model_data['age_range'], prefix='age', dtype=int)], axis=1)\n",
    "df_model_data.drop('age', axis=1, inplace=True)\n",
    "df_model_data.drop('age_range', axis=1, inplace=True)\n",
    "\n",
    "scaled_features = ['pdays', 'previous', 'campaign']\n",
    "df_model_data[scaled_features] = MinMaxScaler().fit_transform(df_model_data[scaled_features])\n",
    "\n",
    "df_model_data = pd.get_dummies(df_model_data, dtype=int)  # Converter variáveis categóricas em conjuntos de indicadores\n",
    "\n",
    "# Substituir \"y_no\" e \"y_yes\" por uma única coluna de rótulo, e trazê-la para a frente:\n",
    "df_model_data = pd.concat(\n",
    "    [\n",
    "        df_model_data[\"y_yes\"].rename(target_col),\n",
    "        df_model_data.drop([\"y_no\", \"y_yes\"], axis=1),\n",
    "    ],\n",
    "    axis=1,\n",
    ")"
   ]
  },
  {
   "cell_type": "code",
   "execution_count": 59,
   "id": "fed45a86-8f00-4e1b-a2c7-acec0fe622e1",
   "metadata": {
    "tags": []
   },
   "outputs": [],
   "source": [
    "def generate_event_timestamp():\n",
    "    # datetime ingênuo representando a hora local\n",
    "    naive_dt = datetime.now()\n",
    "    # leva em conta o fuso horário\n",
    "    aware_dt = naive_dt.astimezone()\n",
    "    # hora em UTC\n",
    "    utc_dt = aware_dt.astimezone(timezone.utc)\n",
    "    # transforma para o formato ISO-8601\n",
    "    event_time = utc_dt.isoformat(timespec='milliseconds')\n",
    "    event_time = event_time.replace('+00:00', 'Z')\n",
    "    return event_time"
   ]
  },
  {
   "cell_type": "markdown",
   "id": "db4d29a2-8b82-4961-bbf0-4b655abb8101",
   "metadata": {},
   "source": [
    "<div style=\"border: 4px solid coral; text-align: center; margin: auto;\">\n",
    "Adicione as colunas `event_time` e `record_id` ao conjunto de dados, pois esses dois campos são obrigatórios para cada grupo de features:\n",
    "</div>"
   ]
  },
  {
   "cell_type": "code",
   "execution_count": 60,
   "id": "ca22a358-de8e-4ac5-b036-54f35ec20cab",
   "metadata": {
    "tags": []
   },
   "outputs": [],
   "source": [
    "df_model_data['event_time'] = generate_event_timestamp()\n",
    "df_model_data['record_id'] = [f'R{i}' for i in range(len(df_model_data))]"
   ]
  },
  {
   "cell_type": "markdown",
   "id": "69e9181d-aa22-42af-b9fd-d057d8b24cd1",
   "metadata": {},
   "source": [
    "Os nomes das features não podem conter '.' e não podem terminar com '_'. Também remova '-' dos nomes das colunas ao converter os nomes das colunas:"
   ]
  },
  {
   "cell_type": "code",
   "execution_count": 61,
   "id": "8b9b4220-e3e6-4abe-a193-5b9bb5030a1b",
   "metadata": {
    "tags": []
   },
   "outputs": [],
   "source": [
    "def convert_col_name(c):\n",
    "    return c.replace('.', '_').replace('-', '_').rstrip('_')"
   ]
  },
  {
   "cell_type": "code",
   "execution_count": 62,
   "id": "6d233973-f8d3-488f-9f92-44cbb5f34382",
   "metadata": {
    "tags": []
   },
   "outputs": [],
   "source": [
    "df_model_data = df_model_data.rename(columns=convert_col_name)\n",
    "df_model_data = df_model_data.convert_dtypes(infer_objects=True, convert_boolean=False)\n",
    "df_model_data['record_id'] = df_model_data['record_id'].astype('string')\n",
    "df_model_data['event_time'] = df_model_data['event_time'].astype('string')"
   ]
  },
  {
   "cell_type": "code",
   "execution_count": 63,
   "id": "4ef70777-a343-487a-b087-b220734acbe6",
   "metadata": {
    "tags": []
   },
   "outputs": [
    {
     "data": {
      "text/plain": [
       "y                                Int64\n",
       "campaign                       Float64\n",
       "pdays                          Float64\n",
       "previous                       Float64\n",
       "no_previous_contact              Int64\n",
       "                             ...      \n",
       "poutcome_failure                 Int64\n",
       "poutcome_nonexistent             Int64\n",
       "poutcome_success                 Int64\n",
       "event_time              string[python]\n",
       "record_id               string[python]\n",
       "Length: 67, dtype: object"
      ]
     },
     "execution_count": 63,
     "metadata": {},
     "output_type": "execute_result"
    }
   ],
   "source": [
    "df_model_data.dtypes"
   ]
  },
  {
   "cell_type": "code",
   "execution_count": 64,
   "id": "958e8afb-9761-4624-b4eb-72b9d5a6be3b",
   "metadata": {
    "tags": []
   },
   "outputs": [
    {
     "data": {
      "text/plain": [
       "Index(['y', 'campaign', 'pdays', 'previous', 'no_previous_contact',\n",
       "       'not_working', 'age_18_29', 'age_30_39', 'age_40_49', 'age_50_59',\n",
       "       'age_60_69', 'age_70_plus', 'job_admin', 'job_blue_collar',\n",
       "       'job_entrepreneur', 'job_housemaid', 'job_management', 'job_retired',\n",
       "       'job_self_employed', 'job_services', 'job_student', 'job_technician',\n",
       "       'job_unemployed', 'job_unknown', 'marital_divorced', 'marital_married',\n",
       "       'marital_single', 'marital_unknown', 'education_basic_4y',\n",
       "       'education_basic_6y', 'education_basic_9y', 'education_high_school',\n",
       "       'education_illiterate', 'education_professional_course',\n",
       "       'education_university_degree', 'education_unknown', 'default_no',\n",
       "       'default_unknown', 'default_yes', 'housing_no', 'housing_unknown',\n",
       "       'housing_yes', 'loan_no', 'loan_unknown', 'loan_yes',\n",
       "       'contact_cellular', 'contact_telephone', 'month_apr', 'month_aug',\n",
       "       'month_dec', 'month_jul', 'month_jun', 'month_mar', 'month_may',\n",
       "       'month_nov', 'month_oct', 'month_sep', 'day_of_week_fri',\n",
       "       'day_of_week_mon', 'day_of_week_thu', 'day_of_week_tue',\n",
       "       'day_of_week_wed', 'poutcome_failure', 'poutcome_nonexistent',\n",
       "       'poutcome_success', 'event_time', 'record_id'],\n",
       "      dtype='object')"
      ]
     },
     "execution_count": 64,
     "metadata": {},
     "output_type": "execute_result"
    }
   ],
   "source": [
    "df_model_data.columns"
   ]
  },
  {
   "cell_type": "code",
   "execution_count": null,
   "id": "e0b59fd5",
   "metadata": {},
   "outputs": [],
   "source": [
    "df_model_data.head()"
   ]
  },
  {
   "cell_type": "code",
   "execution_count": 66,
   "id": "cecd4de7-8d8f-4b1d-b16b-671a33cedfd8",
   "metadata": {
    "tags": []
   },
   "outputs": [
    {
     "data": {
      "text/plain": [
       "(41188, 67)"
      ]
     },
     "execution_count": 66,
     "metadata": {},
     "output_type": "execute_result"
    }
   ],
   "source": [
    "df_model_data.shape"
   ]
  },
  {
   "cell_type": "code",
   "execution_count": 67,
   "id": "6602ddca-cb2b-4381-bac5-ac653a2adac8",
   "metadata": {
    "tags": []
   },
   "outputs": [],
   "source": [
    "df_model_data.to_csv('./data/feature_dataset.csv', index=False)"
   ]
  },
  {
   "cell_type": "code",
   "execution_count": 68,
   "id": "de5dddb9-467c-4ff3-8903-c782ae0a94ed",
   "metadata": {
    "tags": []
   },
   "outputs": [],
   "source": [
    "record_count = len(df_model_data)"
   ]
  },
  {
   "cell_type": "code",
   "execution_count": 69,
   "id": "20e5fbc1-3ee0-4e76-a3f1-1e3fdf9aed85",
   "metadata": {
    "tags": []
   },
   "outputs": [
    {
     "data": {
      "text/plain": [
       "41188"
      ]
     },
     "execution_count": 69,
     "metadata": {},
     "output_type": "execute_result"
    }
   ],
   "source": [
    "record_count"
   ]
  },
  {
   "cell_type": "markdown",
   "id": "15454a42-b7f1-4bf8-8fb5-71358819cf23",
   "metadata": {},
   "source": [
    "### Criar um feature group\n",
    "Agora está tudo pronto para criar um feature group com o schema do conjunto de dados."
   ]
  },
  {
   "cell_type": "code",
   "execution_count": 70,
   "id": "900eb526-ea42-4a09-85c4-883c6d6d6ba7",
   "metadata": {
    "tags": []
   },
   "outputs": [],
   "source": [
    "dataset_feature_group_name = f'{project}-{current_timestamp}'"
   ]
  },
  {
   "cell_type": "code",
   "execution_count": 71,
   "id": "ce75080b-c1c8-477c-8b07-76350de12ea1",
   "metadata": {
    "tags": []
   },
   "outputs": [
    {
     "name": "stdout",
     "output_type": "stream",
     "text": [
      "Stored 'dataset_feature_group_name' (str)\n"
     ]
    }
   ],
   "source": [
    "%store dataset_feature_group_name"
   ]
  },
  {
   "cell_type": "code",
   "execution_count": 72,
   "id": "791d46f8-f7dd-4799-b66d-c08f82b4b2eb",
   "metadata": {
    "tags": []
   },
   "outputs": [],
   "source": [
    "dataset_feature_group = FeatureGroup(name=dataset_feature_group_name, sagemaker_session=session)"
   ]
  },
  {
   "cell_type": "code",
   "execution_count": 73,
   "id": "40b09632-0ca0-4186-94f8-04d373926030",
   "metadata": {
    "tags": []
   },
   "outputs": [
    {
     "data": {
      "text/plain": [
       "[FeatureDefinition(feature_name='y', feature_type=<FeatureTypeEnum.INTEGRAL: 'Integral'>, collection_type=None),\n",
       " FeatureDefinition(feature_name='campaign', feature_type=<FeatureTypeEnum.FRACTIONAL: 'Fractional'>, collection_type=None),\n",
       " FeatureDefinition(feature_name='pdays', feature_type=<FeatureTypeEnum.FRACTIONAL: 'Fractional'>, collection_type=None),\n",
       " FeatureDefinition(feature_name='previous', feature_type=<FeatureTypeEnum.FRACTIONAL: 'Fractional'>, collection_type=None),\n",
       " FeatureDefinition(feature_name='no_previous_contact', feature_type=<FeatureTypeEnum.INTEGRAL: 'Integral'>, collection_type=None),\n",
       " FeatureDefinition(feature_name='not_working', feature_type=<FeatureTypeEnum.INTEGRAL: 'Integral'>, collection_type=None),\n",
       " FeatureDefinition(feature_name='age_18_29', feature_type=<FeatureTypeEnum.INTEGRAL: 'Integral'>, collection_type=None),\n",
       " FeatureDefinition(feature_name='age_30_39', feature_type=<FeatureTypeEnum.INTEGRAL: 'Integral'>, collection_type=None),\n",
       " FeatureDefinition(feature_name='age_40_49', feature_type=<FeatureTypeEnum.INTEGRAL: 'Integral'>, collection_type=None),\n",
       " FeatureDefinition(feature_name='age_50_59', feature_type=<FeatureTypeEnum.INTEGRAL: 'Integral'>, collection_type=None),\n",
       " FeatureDefinition(feature_name='age_60_69', feature_type=<FeatureTypeEnum.INTEGRAL: 'Integral'>, collection_type=None),\n",
       " FeatureDefinition(feature_name='age_70_plus', feature_type=<FeatureTypeEnum.INTEGRAL: 'Integral'>, collection_type=None),\n",
       " FeatureDefinition(feature_name='job_admin', feature_type=<FeatureTypeEnum.INTEGRAL: 'Integral'>, collection_type=None),\n",
       " FeatureDefinition(feature_name='job_blue_collar', feature_type=<FeatureTypeEnum.INTEGRAL: 'Integral'>, collection_type=None),\n",
       " FeatureDefinition(feature_name='job_entrepreneur', feature_type=<FeatureTypeEnum.INTEGRAL: 'Integral'>, collection_type=None),\n",
       " FeatureDefinition(feature_name='job_housemaid', feature_type=<FeatureTypeEnum.INTEGRAL: 'Integral'>, collection_type=None),\n",
       " FeatureDefinition(feature_name='job_management', feature_type=<FeatureTypeEnum.INTEGRAL: 'Integral'>, collection_type=None),\n",
       " FeatureDefinition(feature_name='job_retired', feature_type=<FeatureTypeEnum.INTEGRAL: 'Integral'>, collection_type=None),\n",
       " FeatureDefinition(feature_name='job_self_employed', feature_type=<FeatureTypeEnum.INTEGRAL: 'Integral'>, collection_type=None),\n",
       " FeatureDefinition(feature_name='job_services', feature_type=<FeatureTypeEnum.INTEGRAL: 'Integral'>, collection_type=None),\n",
       " FeatureDefinition(feature_name='job_student', feature_type=<FeatureTypeEnum.INTEGRAL: 'Integral'>, collection_type=None),\n",
       " FeatureDefinition(feature_name='job_technician', feature_type=<FeatureTypeEnum.INTEGRAL: 'Integral'>, collection_type=None),\n",
       " FeatureDefinition(feature_name='job_unemployed', feature_type=<FeatureTypeEnum.INTEGRAL: 'Integral'>, collection_type=None),\n",
       " FeatureDefinition(feature_name='job_unknown', feature_type=<FeatureTypeEnum.INTEGRAL: 'Integral'>, collection_type=None),\n",
       " FeatureDefinition(feature_name='marital_divorced', feature_type=<FeatureTypeEnum.INTEGRAL: 'Integral'>, collection_type=None),\n",
       " FeatureDefinition(feature_name='marital_married', feature_type=<FeatureTypeEnum.INTEGRAL: 'Integral'>, collection_type=None),\n",
       " FeatureDefinition(feature_name='marital_single', feature_type=<FeatureTypeEnum.INTEGRAL: 'Integral'>, collection_type=None),\n",
       " FeatureDefinition(feature_name='marital_unknown', feature_type=<FeatureTypeEnum.INTEGRAL: 'Integral'>, collection_type=None),\n",
       " FeatureDefinition(feature_name='education_basic_4y', feature_type=<FeatureTypeEnum.INTEGRAL: 'Integral'>, collection_type=None),\n",
       " FeatureDefinition(feature_name='education_basic_6y', feature_type=<FeatureTypeEnum.INTEGRAL: 'Integral'>, collection_type=None),\n",
       " FeatureDefinition(feature_name='education_basic_9y', feature_type=<FeatureTypeEnum.INTEGRAL: 'Integral'>, collection_type=None),\n",
       " FeatureDefinition(feature_name='education_high_school', feature_type=<FeatureTypeEnum.INTEGRAL: 'Integral'>, collection_type=None),\n",
       " FeatureDefinition(feature_name='education_illiterate', feature_type=<FeatureTypeEnum.INTEGRAL: 'Integral'>, collection_type=None),\n",
       " FeatureDefinition(feature_name='education_professional_course', feature_type=<FeatureTypeEnum.INTEGRAL: 'Integral'>, collection_type=None),\n",
       " FeatureDefinition(feature_name='education_university_degree', feature_type=<FeatureTypeEnum.INTEGRAL: 'Integral'>, collection_type=None),\n",
       " FeatureDefinition(feature_name='education_unknown', feature_type=<FeatureTypeEnum.INTEGRAL: 'Integral'>, collection_type=None),\n",
       " FeatureDefinition(feature_name='default_no', feature_type=<FeatureTypeEnum.INTEGRAL: 'Integral'>, collection_type=None),\n",
       " FeatureDefinition(feature_name='default_unknown', feature_type=<FeatureTypeEnum.INTEGRAL: 'Integral'>, collection_type=None),\n",
       " FeatureDefinition(feature_name='default_yes', feature_type=<FeatureTypeEnum.INTEGRAL: 'Integral'>, collection_type=None),\n",
       " FeatureDefinition(feature_name='housing_no', feature_type=<FeatureTypeEnum.INTEGRAL: 'Integral'>, collection_type=None),\n",
       " FeatureDefinition(feature_name='housing_unknown', feature_type=<FeatureTypeEnum.INTEGRAL: 'Integral'>, collection_type=None),\n",
       " FeatureDefinition(feature_name='housing_yes', feature_type=<FeatureTypeEnum.INTEGRAL: 'Integral'>, collection_type=None),\n",
       " FeatureDefinition(feature_name='loan_no', feature_type=<FeatureTypeEnum.INTEGRAL: 'Integral'>, collection_type=None),\n",
       " FeatureDefinition(feature_name='loan_unknown', feature_type=<FeatureTypeEnum.INTEGRAL: 'Integral'>, collection_type=None),\n",
       " FeatureDefinition(feature_name='loan_yes', feature_type=<FeatureTypeEnum.INTEGRAL: 'Integral'>, collection_type=None),\n",
       " FeatureDefinition(feature_name='contact_cellular', feature_type=<FeatureTypeEnum.INTEGRAL: 'Integral'>, collection_type=None),\n",
       " FeatureDefinition(feature_name='contact_telephone', feature_type=<FeatureTypeEnum.INTEGRAL: 'Integral'>, collection_type=None),\n",
       " FeatureDefinition(feature_name='month_apr', feature_type=<FeatureTypeEnum.INTEGRAL: 'Integral'>, collection_type=None),\n",
       " FeatureDefinition(feature_name='month_aug', feature_type=<FeatureTypeEnum.INTEGRAL: 'Integral'>, collection_type=None),\n",
       " FeatureDefinition(feature_name='month_dec', feature_type=<FeatureTypeEnum.INTEGRAL: 'Integral'>, collection_type=None),\n",
       " FeatureDefinition(feature_name='month_jul', feature_type=<FeatureTypeEnum.INTEGRAL: 'Integral'>, collection_type=None),\n",
       " FeatureDefinition(feature_name='month_jun', feature_type=<FeatureTypeEnum.INTEGRAL: 'Integral'>, collection_type=None),\n",
       " FeatureDefinition(feature_name='month_mar', feature_type=<FeatureTypeEnum.INTEGRAL: 'Integral'>, collection_type=None),\n",
       " FeatureDefinition(feature_name='month_may', feature_type=<FeatureTypeEnum.INTEGRAL: 'Integral'>, collection_type=None),\n",
       " FeatureDefinition(feature_name='month_nov', feature_type=<FeatureTypeEnum.INTEGRAL: 'Integral'>, collection_type=None),\n",
       " FeatureDefinition(feature_name='month_oct', feature_type=<FeatureTypeEnum.INTEGRAL: 'Integral'>, collection_type=None),\n",
       " FeatureDefinition(feature_name='month_sep', feature_type=<FeatureTypeEnum.INTEGRAL: 'Integral'>, collection_type=None),\n",
       " FeatureDefinition(feature_name='day_of_week_fri', feature_type=<FeatureTypeEnum.INTEGRAL: 'Integral'>, collection_type=None),\n",
       " FeatureDefinition(feature_name='day_of_week_mon', feature_type=<FeatureTypeEnum.INTEGRAL: 'Integral'>, collection_type=None),\n",
       " FeatureDefinition(feature_name='day_of_week_thu', feature_type=<FeatureTypeEnum.INTEGRAL: 'Integral'>, collection_type=None),\n",
       " FeatureDefinition(feature_name='day_of_week_tue', feature_type=<FeatureTypeEnum.INTEGRAL: 'Integral'>, collection_type=None),\n",
       " FeatureDefinition(feature_name='day_of_week_wed', feature_type=<FeatureTypeEnum.INTEGRAL: 'Integral'>, collection_type=None),\n",
       " FeatureDefinition(feature_name='poutcome_failure', feature_type=<FeatureTypeEnum.INTEGRAL: 'Integral'>, collection_type=None),\n",
       " FeatureDefinition(feature_name='poutcome_nonexistent', feature_type=<FeatureTypeEnum.INTEGRAL: 'Integral'>, collection_type=None),\n",
       " FeatureDefinition(feature_name='poutcome_success', feature_type=<FeatureTypeEnum.INTEGRAL: 'Integral'>, collection_type=None),\n",
       " FeatureDefinition(feature_name='event_time', feature_type=<FeatureTypeEnum.STRING: 'String'>, collection_type=None),\n",
       " FeatureDefinition(feature_name='record_id', feature_type=<FeatureTypeEnum.STRING: 'String'>, collection_type=None)]"
      ]
     },
     "execution_count": 73,
     "metadata": {},
     "output_type": "execute_result"
    }
   ],
   "source": [
    "# Use o DataFrame para extrair a definição do grupo de features\n",
    "dataset_feature_group.load_feature_definitions(data_frame=df_model_data)"
   ]
  },
  {
   "cell_type": "code",
   "execution_count": 74,
   "id": "453b4a61-4605-4618-a471-2c46298aa9b4",
   "metadata": {
    "tags": []
   },
   "outputs": [],
   "source": [
    "def wait_for_feature_group_creation_complete(feature_group):\n",
    "    status = feature_group.describe().get('FeatureGroupStatus')\n",
    "    print(f'Initial status: {status}')\n",
    "    while status == 'Creating':\n",
    "        print(f'Waiting for feature group: {feature_group.name} to be created ...')\n",
    "        time.sleep(5)\n",
    "        status = feature_group.describe().get('FeatureGroupStatus')\n",
    "    if status != 'Created':\n",
    "        raise SystemExit(f'Failed to create feature group {feature_group.name}: {status}')\n",
    "    print(f'FeatureGroup {feature_group.name} was successfully created.')"
   ]
  },
  {
   "cell_type": "code",
   "execution_count": null,
   "id": "77e875c6",
   "metadata": {},
   "outputs": [],
   "source": [
    "dataset_feature_group.create(\n",
    "    s3_uri=f's3://{bucket_name}/{feature_store_bucket_prefix}', \n",
    "    record_identifier_name='record_id', \n",
    "    event_time_feature_name='event_time', \n",
    "    role_arn=sm_role, \n",
    "    enable_online_store=False,\n",
    "    table_format=TableFormatEnum.ICEBERG \n",
    ")"
   ]
  },
  {
   "cell_type": "markdown",
   "id": "dfc59c18-db14-4563-9578-a1bec1161039",
   "metadata": {},
   "source": [
    "<div style=\"border: 4px solid coral; text-align: center; margin: auto;\">\n",
    "Aguarde até que o grupo de features seja criado e esteja pronto para uso. Isso leva menos de um minuto.\n",
    "\n",
    "\n",
    "</div>"
   ]
  },
  {
   "cell_type": "code",
   "execution_count": 76,
   "id": "baa4ac82-e982-4f74-917c-25b78292a587",
   "metadata": {
    "tags": []
   },
   "outputs": [
    {
     "name": "stdout",
     "output_type": "stream",
     "text": [
      "Initial status: Creating\n",
      "Waiting for feature group: from-idea-to-prod-23-08-19-42 to be created ...\n",
      "Waiting for feature group: from-idea-to-prod-23-08-19-42 to be created ...\n",
      "Waiting for feature group: from-idea-to-prod-23-08-19-42 to be created ...\n",
      "Waiting for feature group: from-idea-to-prod-23-08-19-42 to be created ...\n",
      "Waiting for feature group: from-idea-to-prod-23-08-19-42 to be created ...\n",
      "FeatureGroup from-idea-to-prod-23-08-19-42 was successfully created.\n"
     ]
    }
   ],
   "source": [
    "wait_for_feature_group_creation_complete(dataset_feature_group)"
   ]
  },
  {
   "cell_type": "markdown",
   "id": "997639b9-26bb-40a0-bf92-9d38e344932e",
   "metadata": {},
   "source": [
    "Se você estiver executando estes notebooks em sua própria conta ou em qualquer conta não provisionada por meio de um evento liderado pela AWS, você pode ter problemas com a criação de um feature group devido à configuração de permissões. Siga este [guia de solução de problemas de criação de grupo de features](https://repost.aws/knowledge-center/sagemaker-featuregroup-troubleshooting). Problemas de permissão estão frequentemente relacionados à falta de permissões do LakeFormation para a função de execução do SageMaker. Você precisa conceder direitos de acesso ao banco de dados `sagemaker_featurestore` para a função de execução do SageMaker."
   ]
  },
  {
   "cell_type": "code",
   "execution_count": null,
   "id": "4e0465b3",
   "metadata": {},
   "outputs": [],
   "source": [
    "dataset_feature_group.describe()"
   ]
  },
  {
   "cell_type": "markdown",
   "id": "a383fb27-7132-4439-bab4-b805be36d3c7",
   "metadata": {},
   "source": [
    "O grupo de features está pronto para uso. Agora você precisa ingerir dados nele.\n",
    "\n"
   ]
  },
  {
   "cell_type": "markdown",
   "id": "26346cd4-47fe-4129-ac28-de16a30175fb",
   "metadata": {},
   "source": [
    "### Ingerir dados no grupo de features através de um pipeline SageMaker\n",
    "Assim como na seção anterior, você vai usar o decorador [`@step`](https://docs.aws.amazon.com/sagemaker/latest/dg/pipelines-step-decorator-create-pipeline.html) para criar um pipeline de ingestão de features.\n",
    "\n",
    "Compile todo o código anterior de transformação e ingestão de features em uma função remota. Você usa o método [`FeatureGroup.ingest()`](https://sagemaker.readthedocs.io/en/stable/api/prep_data/feature_store.html#sagemaker.feature_store.feature_group.FeatureGroup.ingest) do SDK Python para ingerir o conteúdo de um DataFrame pandas em um grupo de features."
   ]
  },
  {
   "cell_type": "code",
   "execution_count": 78,
   "id": "9cef1bb5-eae3-4066-b0f1-8968ba795ffa",
   "metadata": {
    "tags": []
   },
   "outputs": [],
   "source": [
    "@step(name=f'{project}-fs-ingest')\n",
    "def process_and_ingest(\n",
    "    input_s3_url,\n",
    "    feature_group_name,\n",
    "):\n",
    "    from sagemaker.feature_store.feature_group import FeatureGroup\n",
    "    import numpy as np\n",
    "    import pandas as pd\n",
    "    from sklearn.preprocessing import MinMaxScaler\n",
    "    from datetime import datetime, timezone, date\n",
    "\n",
    "    def generate_event_timestamp():\n",
    "        # datetime naive  representando a hora local\n",
    "        naive_dt = datetime.now()\n",
    "        # leva em conta o fuso horário\n",
    "        aware_dt = naive_dt.astimezone()\n",
    "        # hora em UTC\n",
    "        utc_dt = aware_dt.astimezone(timezone.utc)\n",
    "        # transforma para o formato ISO-8601\n",
    "        event_time = utc_dt.isoformat(timespec='milliseconds')\n",
    "        event_time = event_time.replace('+00:00', 'Z')\n",
    "        return event_time\n",
    "    \n",
    "    def convert_col_name(c):\n",
    "        return c.replace('.', '_').replace('-', '_').rstrip('_')\n",
    "        \n",
    "    # Baixar dados do S3\n",
    "    df_data = pd.read_csv(input_s3_url, sep=\";\")\n",
    "    \n",
    "    target_col = \"y\"\n",
    "    \n",
    "    # Variável indicadora para capturar quando pdays assume o valor de 999\n",
    "    df_data[\"no_previous_contact\"] = np.where(df_data[\"pdays\"] == 999, 1, 0)\n",
    "\n",
    "    # Indicador para indivíduos não ativamente empregados\n",
    "    df_data[\"not_working\"] = np.where(\n",
    "        np.in1d(df_data[\"job\"], [\"student\", \"retired\", \"unemployed\"]), 1, 0\n",
    "    )\n",
    "\n",
    "    # remover dados desnecessários\n",
    "    df_model_data = df_data.drop(\n",
    "        [\"duration\", \"emp.var.rate\", \"cons.price.idx\", \"cons.conf.idx\", \"euribor3m\", \"nr.employed\"],\n",
    "        axis=1,\n",
    "    )\n",
    "\n",
    "    bins = [18, 30, 40, 50, 60, 70, 90]\n",
    "    labels = ['18-29', '30-39', '40-49', '50-59', '60-69', '70-plus']\n",
    "\n",
    "    df_model_data['age_range'] = pd.cut(df_model_data.age, bins, labels=labels, include_lowest=True)\n",
    "    df_model_data = pd.concat([df_model_data, pd.get_dummies(df_model_data['age_range'], prefix='age', dtype=int)], axis=1)\n",
    "    df_model_data.drop('age', axis=1, inplace=True)\n",
    "    df_model_data.drop('age_range', axis=1, inplace=True)\n",
    "\n",
    "    scaled_features = ['pdays', 'previous', 'campaign']\n",
    "    df_model_data[scaled_features] = MinMaxScaler().fit_transform(df_model_data[scaled_features])\n",
    "\n",
    "    df_model_data = pd.get_dummies(df_model_data, dtype=int)  # Converter variáveis categóricas em conjuntos de indicadores\n",
    "\n",
    "    # Substituir \"y_no\" e \"y_yes\" por uma única coluna de rótulo, e trazê-la para a frente:\n",
    "    df_model_data = pd.concat(\n",
    "        [\n",
    "            df_model_data[\"y_yes\"].rename(target_col),\n",
    "            df_model_data.drop([\"y_no\", \"y_yes\"], axis=1),\n",
    "        ],\n",
    "        axis=1,\n",
    "    )\n",
    "    \n",
    "    df_model_data['event_time'] = generate_event_timestamp()\n",
    "    df_model_data['record_id'] = [f'R{i}' for i in range(len(df_model_data))]\n",
    "    \n",
    "    df_model_data = df_model_data.rename(columns=convert_col_name)\n",
    "    \n",
    "    df_model_data = df_model_data.convert_dtypes(infer_objects=True, convert_boolean=False)\n",
    "    df_model_data['record_id'] = df_model_data['record_id'].astype('string')\n",
    "    df_model_data['event_time'] = df_model_data['event_time'].astype('string')\n",
    "    \n",
    "    # Ingerir dados no grupo de features\n",
    "    dataset_feature_group = FeatureGroup(name=feature_group_name, sagemaker_session=sagemaker.Session())\n",
    "    \n",
    "    print(f'Ingerindo dados no grupo de features: {dataset_feature_group.name} ...')\n",
    "    dataset_feature_group.ingest(data_frame=df_model_data, max_processes=4, wait=True)\n",
    "    print(f'{len(df_model_data)} registros de clientes ingeridos no grupo de features: {dataset_feature_group.name}')\n",
    "    \n",
    "    return dataset_feature_group.describe()['FeatureGroupArn']"
   ]
  },
  {
   "cell_type": "code",
   "execution_count": 79,
   "id": "be39ac38-52d6-4b92-b26b-f8d5e0491000",
   "metadata": {
    "tags": []
   },
   "outputs": [],
   "source": [
    "# Criar parâmetros para o pipeline de ingestão do feature store\n",
    "input_s3_url_param = ParameterString(\n",
    "    name=\"InputDataUrl\",\n",
    "    default_value=input_s3_url,\n",
    ")\n",
    "\n",
    "feature_group_name_param = ParameterString(\n",
    "    name=\"FeatureGroupName\",\n",
    "    default_value=dataset_feature_group.describe()['FeatureGroupArn'],\n",
    ")"
   ]
  },
  {
   "cell_type": "code",
   "execution_count": 80,
   "id": "518070fc-fdeb-42f2-9f22-586eeef57163",
   "metadata": {
    "tags": []
   },
   "outputs": [],
   "source": [
    "# Criar um pipeline com uma etapa de ingestão\n",
    "pipeline_fs_ingest = Pipeline(\n",
    "    name=f\"{pipeline_name}-fs-ingest\",\n",
    "    parameters=[\n",
    "        input_s3_url_param,\n",
    "        feature_group_name_param\n",
    "    ],\n",
    "    steps=[\n",
    "        process_and_ingest(\n",
    "            input_s3_url=input_s3_url_param,\n",
    "            feature_group_name=feature_group_name_param,\n",
    "        )\n",
    "    ]\n",
    ")"
   ]
  },
  {
   "cell_type": "code",
   "execution_count": null,
   "id": "ce2fce7e",
   "metadata": {},
   "outputs": [],
   "source": [
    "pipeline_fs_ingest.upsert(role_arn=sm_role)"
   ]
  },
  {
   "attachments": {},
   "cell_type": "markdown",
   "id": "07d8388d-e51e-46bb-bc69-043da7ed84f5",
   "metadata": {},
   "source": [
    "Aqui está seu pipeline de ingestão consistindo de uma etapa. Em seus projetos do mundo real, você pode adicionar etapas de verificação de qualidade de dados e atualização de metadados:\n",
    "![](img/fs-ingest-pipeline.png)"
   ]
  },
  {
   "cell_type": "code",
   "execution_count": 82,
   "id": "a8e9e71b-2f80-4d81-800b-3fd122a6c9e5",
   "metadata": {
    "tags": []
   },
   "outputs": [],
   "source": [
    "execution_fs_ingest = pipeline_fs_ingest.start()"
   ]
  },
  {
   "cell_type": "code",
   "execution_count": null,
   "id": "70bdbe3e",
   "metadata": {},
   "outputs": [],
   "source": [
    "execution_fs_ingest.describe()"
   ]
  },
  {
   "cell_type": "markdown",
   "id": "01d84bb8-c4b3-44a6-864d-785b099ccf63",
   "metadata": {},
   "source": [
    "<div class=\"alert alert-info\">Você precisa esperar até que o pipeline seja concluído e as features sejam ingeridas no grupo de features. A execução leva cerca de 5 minutos.</div>"
   ]
  },
  {
   "cell_type": "code",
   "execution_count": null,
   "id": "25ba98ea",
   "metadata": {},
   "outputs": [],
   "source": [
    "# Você precisa esperar até que a execução do pipeline de ingestão de features seja concluída\n",
    "execution_fs_ingest.wait()\n",
    "execution_fs_ingest.list_steps()"
   ]
  },
  {
   "cell_type": "code",
   "execution_count": 85,
   "id": "7676a276-4aaf-4ef2-a18f-1a44fdb8bb7e",
   "metadata": {
    "tags": []
   },
   "outputs": [],
   "source": [
    "assert execution_fs_ingest.list_steps()[0]['StepStatus'] == 'Succeeded', 'Ingestion pipepline execution status must be Succeeded!'"
   ]
  },
  {
   "cell_type": "markdown",
   "id": "d8c8202e-12e7-4933-bf8a-bbabeb584e18",
   "metadata": {},
   "source": [
    "### Feature Store na interface do Studio\n",
    "Você pode explorar o feature store e os grupos de features na interface do Studio. Navegue até **Data** > **Feature Store**:\n",
    "\n",
    "![](img/feature-store-studio-ui.png)\n",
    "\n",
    "Na interface, você pode explorar features, metadados da feature store, ver exemplos de consultas e execuções de pipeline associadas."
   ]
  },
  {
   "cell_type": "markdown",
   "id": "3dd1cba0-e18d-4833-87de-dd24dfe95386",
   "metadata": {},
   "source": [
    "### Recuperar features ingeridas do grupo de features\n",
    "\n",
    "Existem muitas abordagens para extrair features do feature store offline. Por exemplo, você pode usar uma [consulta do Amazon Athena](https://docs.aws.amazon.com/sagemaker/latest/dg/feature-store-create-a-dataset.html#feature-store-athena-sample-queries) para consultar e unir dados armazenados no store offline, ou pode usar o [SDK Python do Offline Store](https://docs.aws.amazon.com/sagemaker/latest/dg/feature-store-create-a-dataset.html#feature-store-dataset-python-sdk). Você vai usar o SDK Python para extrair features e criar um conjunto de dados para o pipeline de construção do modelo.\n",
    "\n",
    "<div style=\"border: 4px solid coral; text-align: center; margin: auto;\">\n",
    "    <p style=\" text-align: center; margin: auto;\">A ingestão no store offline é armazenada em buffer e leva até 15 minutos para que os dados apareçam no grupo de features. Depois que as features são ingeridas e ficam disponíveis no store offline, você pode consultá-las e criar conjuntos de dados para treinamento e pontuação do modelo.\n",
    "    </p>\n",
    "</div>\n"
   ]
  },
  {
   "cell_type": "code",
   "execution_count": 86,
   "id": "e2ce438a-b1bf-47b4-82aa-5ebfb604244b",
   "metadata": {
    "tags": []
   },
   "outputs": [],
   "source": [
    "sagemaker_client = boto3.client('sagemaker')\n",
    "output_location = f's3://{bucket_name}/{feature_store_bucket_prefix}/offline-store/query_results/'"
   ]
  },
  {
   "cell_type": "code",
   "execution_count": 87,
   "id": "685accaa-3679-4e40-95b1-4263826e108d",
   "metadata": {
    "tags": []
   },
   "outputs": [],
   "source": [
    "def get_historical_record_count(fg):\n",
    "    fs_query = dataset_feature_group.athena_query()\n",
    "    query_string = f'SELECT COUNT(*) FROM \"' + fs_query.table_name + f'\"'\n",
    "    output_location =  f's3://{bucket_name}/{feature_store_bucket_prefix}/offline-store/query_results/'\n",
    "\n",
    "    fs_query.run(query_string=query_string, output_location=output_location)\n",
    "    fs_query.wait()\n",
    "    fs_df = fs_query.as_dataframe()\n",
    "    \n",
    "    return fs_df.iat[0, 0]"
   ]
  },
  {
   "cell_type": "markdown",
   "id": "045f9b69-79bf-4056-bea4-afbb0ab88f77",
   "metadata": {},
   "source": [
    "<div class=\"alert alert-info\">A próxima célula de código aguarda até que as features apareçam no armazenamento offline. Isso pode levar até 15 minutos. Se você já ingeriu features anteriormente, a célula será encerrada após a primeira consulta..</div>"
   ]
  },
  {
   "cell_type": "code",
   "execution_count": null,
   "id": "e82d3155",
   "metadata": {},
   "outputs": [],
   "source": [
    "# Antes de acessar os dados das feature, você precisa verificar se o armazenamento offline de feature store foi preenchido\n",
    "offline_store_contents = None\n",
    "while offline_store_contents is None:    \n",
    "    fs_record_count = get_historical_record_count(dataset_feature_group)\n",
    "    print(f\"Total number of historical record in the {dataset_feature_group.name}: {fs_record_count}\")\n",
    "\n",
    "    if fs_record_count >= record_count:\n",
    "        print(f'[{fs_record_count} feature records are available in offline store for {dataset_feature_group.name} feature group]')\n",
    "        offline_store_contents = fs_record_count\n",
    "    else:\n",
    "        print('[Waiting for data arrives in offline store ...]')\n",
    "        time.sleep(60)"
   ]
  },
  {
   "cell_type": "markdown",
   "id": "153ad7d5-d1fc-4c6b-9dce-fdf8407b05ec",
   "metadata": {},
   "source": [
    "#### Use o SDK Python do Amazon SageMaker (DatasetBuilder) para consultar o feature store\n",
    "Esta seção demonstra como usar o [`DatasetBuilder`](https://sagemaker.readthedocs.io/en/stable/api/prep_data/feature_store.html#sagemaker.feature_store.dataset_builder.DatasetBuilder) para obter dados dos grupos de features. Consulte o [Guia do Desenvolvedor](https://docs.aws.amazon.com/sagemaker/latest/dg/feature-store-create-a-dataset.html) para exemplos detalhados."
   ]
  },
  {
   "cell_type": "code",
   "execution_count": 89,
   "id": "b2c0f0ab-1f41-40e8-9292-02d8a7137694",
   "metadata": {
    "tags": []
   },
   "outputs": [],
   "source": [
    "from sagemaker.feature_store.feature_store import FeatureStore"
   ]
  },
  {
   "cell_type": "code",
   "execution_count": 90,
   "id": "aa8f54a5-7d0a-4a62-875b-1f2a84723eb6",
   "metadata": {
    "tags": []
   },
   "outputs": [],
   "source": [
    "region = boto3.Session().region_name\n",
    "boto_session = boto3.Session(region_name=region)\n",
    "\n",
    "s3_client = boto3.client('s3', region_name=region)\n",
    "sagemaker_client = boto_session.client(service_name=\"sagemaker\", region_name=region)\n",
    "featurestore_runtime = boto_session.client(service_name=\"sagemaker-featurestore-runtime\",region_name=region)"
   ]
  },
  {
   "cell_type": "code",
   "execution_count": 91,
   "id": "6ad74743-b383-4706-bc6c-75b9004beb7f",
   "metadata": {
    "tags": []
   },
   "outputs": [],
   "source": [
    "# Criar objeto de sessão do FeatureStore\n",
    "feature_store_session = sagemaker.Session(\n",
    "    boto_session=boto_session,\n",
    "    sagemaker_client=sagemaker_client,\n",
    "    sagemaker_featurestore_runtime_client=featurestore_runtime,\n",
    ")\n",
    "\n",
    "feature_store = FeatureStore(sagemaker_session=feature_store_session)"
   ]
  },
  {
   "cell_type": "code",
   "execution_count": 92,
   "id": "fe96e430-7370-41d6-acbb-8fd38acda684",
   "metadata": {
    "tags": []
   },
   "outputs": [],
   "source": [
    "included_feature_names = [f.feature_name for f in dataset_feature_group.feature_definitions]"
   ]
  },
  {
   "cell_type": "code",
   "execution_count": 93,
   "id": "3b9feb8f-8c4d-4621-b558-7d634df694e0",
   "metadata": {
    "tags": []
   },
   "outputs": [],
   "source": [
    "# Criar construtor de conjunto de dados para recuperar a versão mais recente de cada registro\n",
    "builder = feature_store.create_dataset(\n",
    "    base=dataset_feature_group,\n",
    "    # included_feature_names=included_feature_names,\n",
    "    output_path=output_location,\n",
    ").with_number_of_recent_records_by_record_identifier(1)"
   ]
  },
  {
   "cell_type": "code",
   "execution_count": null,
   "id": "62c39058",
   "metadata": {},
   "outputs": [],
   "source": [
    "df_dataset, query = builder.to_dataframe()"
   ]
  },
  {
   "cell_type": "code",
   "execution_count": 95,
   "id": "2dacb90a-0880-4ba3-9ddd-e0e779e05ab7",
   "metadata": {
    "tags": []
   },
   "outputs": [
    {
     "data": {
      "text/html": [
       "<div>\n",
       "<style scoped>\n",
       "    .dataframe tbody tr th:only-of-type {\n",
       "        vertical-align: middle;\n",
       "    }\n",
       "\n",
       "    .dataframe tbody tr th {\n",
       "        vertical-align: top;\n",
       "    }\n",
       "\n",
       "    .dataframe thead th {\n",
       "        text-align: right;\n",
       "    }\n",
       "</style>\n",
       "<table border=\"1\" class=\"dataframe\">\n",
       "  <thead>\n",
       "    <tr style=\"text-align: right;\">\n",
       "      <th></th>\n",
       "      <th>y</th>\n",
       "      <th>campaign</th>\n",
       "      <th>pdays</th>\n",
       "      <th>previous</th>\n",
       "      <th>no_previous_contact</th>\n",
       "      <th>not_working</th>\n",
       "      <th>age_18_29</th>\n",
       "      <th>age_30_39</th>\n",
       "      <th>age_40_49</th>\n",
       "      <th>age_50_59</th>\n",
       "      <th>age_60_69</th>\n",
       "      <th>age_70_plus</th>\n",
       "      <th>job_admin</th>\n",
       "      <th>job_blue_collar</th>\n",
       "      <th>job_entrepreneur</th>\n",
       "      <th>job_housemaid</th>\n",
       "      <th>job_management</th>\n",
       "      <th>job_retired</th>\n",
       "      <th>job_self_employed</th>\n",
       "      <th>job_services</th>\n",
       "      <th>job_student</th>\n",
       "      <th>job_technician</th>\n",
       "      <th>job_unemployed</th>\n",
       "      <th>job_unknown</th>\n",
       "      <th>marital_divorced</th>\n",
       "      <th>marital_married</th>\n",
       "      <th>marital_single</th>\n",
       "      <th>marital_unknown</th>\n",
       "      <th>education_basic_4y</th>\n",
       "      <th>education_basic_6y</th>\n",
       "      <th>education_basic_9y</th>\n",
       "      <th>education_high_school</th>\n",
       "      <th>education_illiterate</th>\n",
       "      <th>education_professional_course</th>\n",
       "      <th>education_university_degree</th>\n",
       "      <th>education_unknown</th>\n",
       "      <th>default_no</th>\n",
       "      <th>default_unknown</th>\n",
       "      <th>default_yes</th>\n",
       "      <th>housing_no</th>\n",
       "      <th>housing_unknown</th>\n",
       "      <th>housing_yes</th>\n",
       "      <th>loan_no</th>\n",
       "      <th>loan_unknown</th>\n",
       "      <th>loan_yes</th>\n",
       "      <th>contact_cellular</th>\n",
       "      <th>contact_telephone</th>\n",
       "      <th>month_apr</th>\n",
       "      <th>month_aug</th>\n",
       "      <th>month_dec</th>\n",
       "      <th>month_jul</th>\n",
       "      <th>month_jun</th>\n",
       "      <th>month_mar</th>\n",
       "      <th>month_may</th>\n",
       "      <th>month_nov</th>\n",
       "      <th>month_oct</th>\n",
       "      <th>month_sep</th>\n",
       "      <th>day_of_week_fri</th>\n",
       "      <th>day_of_week_mon</th>\n",
       "      <th>day_of_week_thu</th>\n",
       "      <th>day_of_week_tue</th>\n",
       "      <th>day_of_week_wed</th>\n",
       "      <th>poutcome_failure</th>\n",
       "      <th>poutcome_nonexistent</th>\n",
       "      <th>poutcome_success</th>\n",
       "      <th>event_time</th>\n",
       "      <th>record_id</th>\n",
       "    </tr>\n",
       "  </thead>\n",
       "  <tbody>\n",
       "    <tr>\n",
       "      <th>0</th>\n",
       "      <td>0</td>\n",
       "      <td>0.000000</td>\n",
       "      <td>1.0</td>\n",
       "      <td>0.000000</td>\n",
       "      <td>1</td>\n",
       "      <td>0</td>\n",
       "      <td>0</td>\n",
       "      <td>0</td>\n",
       "      <td>1</td>\n",
       "      <td>0</td>\n",
       "      <td>0</td>\n",
       "      <td>0</td>\n",
       "      <td>0</td>\n",
       "      <td>1</td>\n",
       "      <td>0</td>\n",
       "      <td>0</td>\n",
       "      <td>0</td>\n",
       "      <td>0</td>\n",
       "      <td>0</td>\n",
       "      <td>0</td>\n",
       "      <td>0</td>\n",
       "      <td>0</td>\n",
       "      <td>0</td>\n",
       "      <td>0</td>\n",
       "      <td>1</td>\n",
       "      <td>0</td>\n",
       "      <td>0</td>\n",
       "      <td>0</td>\n",
       "      <td>1</td>\n",
       "      <td>0</td>\n",
       "      <td>0</td>\n",
       "      <td>0</td>\n",
       "      <td>0</td>\n",
       "      <td>0</td>\n",
       "      <td>0</td>\n",
       "      <td>0</td>\n",
       "      <td>1</td>\n",
       "      <td>0</td>\n",
       "      <td>0</td>\n",
       "      <td>1</td>\n",
       "      <td>0</td>\n",
       "      <td>0</td>\n",
       "      <td>1</td>\n",
       "      <td>0</td>\n",
       "      <td>0</td>\n",
       "      <td>1</td>\n",
       "      <td>0</td>\n",
       "      <td>0</td>\n",
       "      <td>0</td>\n",
       "      <td>0</td>\n",
       "      <td>0</td>\n",
       "      <td>0</td>\n",
       "      <td>0</td>\n",
       "      <td>1</td>\n",
       "      <td>0</td>\n",
       "      <td>0</td>\n",
       "      <td>0</td>\n",
       "      <td>0</td>\n",
       "      <td>0</td>\n",
       "      <td>0</td>\n",
       "      <td>1</td>\n",
       "      <td>0</td>\n",
       "      <td>0</td>\n",
       "      <td>1</td>\n",
       "      <td>0</td>\n",
       "      <td>2024-07-23T08:25:56.469Z</td>\n",
       "      <td>R30895</td>\n",
       "    </tr>\n",
       "    <tr>\n",
       "      <th>1</th>\n",
       "      <td>0</td>\n",
       "      <td>0.000000</td>\n",
       "      <td>1.0</td>\n",
       "      <td>0.000000</td>\n",
       "      <td>1</td>\n",
       "      <td>0</td>\n",
       "      <td>0</td>\n",
       "      <td>0</td>\n",
       "      <td>1</td>\n",
       "      <td>0</td>\n",
       "      <td>0</td>\n",
       "      <td>0</td>\n",
       "      <td>0</td>\n",
       "      <td>0</td>\n",
       "      <td>0</td>\n",
       "      <td>0</td>\n",
       "      <td>0</td>\n",
       "      <td>0</td>\n",
       "      <td>0</td>\n",
       "      <td>0</td>\n",
       "      <td>0</td>\n",
       "      <td>1</td>\n",
       "      <td>0</td>\n",
       "      <td>0</td>\n",
       "      <td>0</td>\n",
       "      <td>0</td>\n",
       "      <td>1</td>\n",
       "      <td>0</td>\n",
       "      <td>0</td>\n",
       "      <td>0</td>\n",
       "      <td>0</td>\n",
       "      <td>0</td>\n",
       "      <td>0</td>\n",
       "      <td>1</td>\n",
       "      <td>0</td>\n",
       "      <td>0</td>\n",
       "      <td>0</td>\n",
       "      <td>1</td>\n",
       "      <td>0</td>\n",
       "      <td>1</td>\n",
       "      <td>0</td>\n",
       "      <td>0</td>\n",
       "      <td>1</td>\n",
       "      <td>0</td>\n",
       "      <td>0</td>\n",
       "      <td>0</td>\n",
       "      <td>1</td>\n",
       "      <td>0</td>\n",
       "      <td>0</td>\n",
       "      <td>0</td>\n",
       "      <td>0</td>\n",
       "      <td>0</td>\n",
       "      <td>0</td>\n",
       "      <td>1</td>\n",
       "      <td>0</td>\n",
       "      <td>0</td>\n",
       "      <td>0</td>\n",
       "      <td>0</td>\n",
       "      <td>1</td>\n",
       "      <td>0</td>\n",
       "      <td>0</td>\n",
       "      <td>0</td>\n",
       "      <td>0</td>\n",
       "      <td>1</td>\n",
       "      <td>0</td>\n",
       "      <td>2024-07-23T08:25:56.469Z</td>\n",
       "      <td>R45</td>\n",
       "    </tr>\n",
       "    <tr>\n",
       "      <th>2</th>\n",
       "      <td>0</td>\n",
       "      <td>0.018182</td>\n",
       "      <td>1.0</td>\n",
       "      <td>0.142857</td>\n",
       "      <td>1</td>\n",
       "      <td>0</td>\n",
       "      <td>0</td>\n",
       "      <td>1</td>\n",
       "      <td>0</td>\n",
       "      <td>0</td>\n",
       "      <td>0</td>\n",
       "      <td>0</td>\n",
       "      <td>1</td>\n",
       "      <td>0</td>\n",
       "      <td>0</td>\n",
       "      <td>0</td>\n",
       "      <td>0</td>\n",
       "      <td>0</td>\n",
       "      <td>0</td>\n",
       "      <td>0</td>\n",
       "      <td>0</td>\n",
       "      <td>0</td>\n",
       "      <td>0</td>\n",
       "      <td>0</td>\n",
       "      <td>0</td>\n",
       "      <td>1</td>\n",
       "      <td>0</td>\n",
       "      <td>0</td>\n",
       "      <td>0</td>\n",
       "      <td>0</td>\n",
       "      <td>0</td>\n",
       "      <td>0</td>\n",
       "      <td>0</td>\n",
       "      <td>0</td>\n",
       "      <td>1</td>\n",
       "      <td>0</td>\n",
       "      <td>1</td>\n",
       "      <td>0</td>\n",
       "      <td>0</td>\n",
       "      <td>0</td>\n",
       "      <td>0</td>\n",
       "      <td>1</td>\n",
       "      <td>1</td>\n",
       "      <td>0</td>\n",
       "      <td>0</td>\n",
       "      <td>1</td>\n",
       "      <td>0</td>\n",
       "      <td>0</td>\n",
       "      <td>0</td>\n",
       "      <td>0</td>\n",
       "      <td>0</td>\n",
       "      <td>0</td>\n",
       "      <td>0</td>\n",
       "      <td>1</td>\n",
       "      <td>0</td>\n",
       "      <td>0</td>\n",
       "      <td>0</td>\n",
       "      <td>0</td>\n",
       "      <td>0</td>\n",
       "      <td>0</td>\n",
       "      <td>1</td>\n",
       "      <td>0</td>\n",
       "      <td>1</td>\n",
       "      <td>0</td>\n",
       "      <td>0</td>\n",
       "      <td>2024-07-23T08:25:56.469Z</td>\n",
       "      <td>R30986</td>\n",
       "    </tr>\n",
       "    <tr>\n",
       "      <th>3</th>\n",
       "      <td>0</td>\n",
       "      <td>0.036364</td>\n",
       "      <td>1.0</td>\n",
       "      <td>0.000000</td>\n",
       "      <td>1</td>\n",
       "      <td>0</td>\n",
       "      <td>0</td>\n",
       "      <td>1</td>\n",
       "      <td>0</td>\n",
       "      <td>0</td>\n",
       "      <td>0</td>\n",
       "      <td>0</td>\n",
       "      <td>1</td>\n",
       "      <td>0</td>\n",
       "      <td>0</td>\n",
       "      <td>0</td>\n",
       "      <td>0</td>\n",
       "      <td>0</td>\n",
       "      <td>0</td>\n",
       "      <td>0</td>\n",
       "      <td>0</td>\n",
       "      <td>0</td>\n",
       "      <td>0</td>\n",
       "      <td>0</td>\n",
       "      <td>0</td>\n",
       "      <td>0</td>\n",
       "      <td>1</td>\n",
       "      <td>0</td>\n",
       "      <td>0</td>\n",
       "      <td>0</td>\n",
       "      <td>0</td>\n",
       "      <td>0</td>\n",
       "      <td>0</td>\n",
       "      <td>0</td>\n",
       "      <td>1</td>\n",
       "      <td>0</td>\n",
       "      <td>1</td>\n",
       "      <td>0</td>\n",
       "      <td>0</td>\n",
       "      <td>0</td>\n",
       "      <td>0</td>\n",
       "      <td>1</td>\n",
       "      <td>1</td>\n",
       "      <td>0</td>\n",
       "      <td>0</td>\n",
       "      <td>1</td>\n",
       "      <td>0</td>\n",
       "      <td>0</td>\n",
       "      <td>1</td>\n",
       "      <td>0</td>\n",
       "      <td>0</td>\n",
       "      <td>0</td>\n",
       "      <td>0</td>\n",
       "      <td>0</td>\n",
       "      <td>0</td>\n",
       "      <td>0</td>\n",
       "      <td>0</td>\n",
       "      <td>0</td>\n",
       "      <td>0</td>\n",
       "      <td>0</td>\n",
       "      <td>0</td>\n",
       "      <td>1</td>\n",
       "      <td>0</td>\n",
       "      <td>1</td>\n",
       "      <td>0</td>\n",
       "      <td>2024-07-23T08:25:56.469Z</td>\n",
       "      <td>R20819</td>\n",
       "    </tr>\n",
       "    <tr>\n",
       "      <th>4</th>\n",
       "      <td>0</td>\n",
       "      <td>0.000000</td>\n",
       "      <td>1.0</td>\n",
       "      <td>0.000000</td>\n",
       "      <td>1</td>\n",
       "      <td>0</td>\n",
       "      <td>0</td>\n",
       "      <td>1</td>\n",
       "      <td>0</td>\n",
       "      <td>0</td>\n",
       "      <td>0</td>\n",
       "      <td>0</td>\n",
       "      <td>0</td>\n",
       "      <td>1</td>\n",
       "      <td>0</td>\n",
       "      <td>0</td>\n",
       "      <td>0</td>\n",
       "      <td>0</td>\n",
       "      <td>0</td>\n",
       "      <td>0</td>\n",
       "      <td>0</td>\n",
       "      <td>0</td>\n",
       "      <td>0</td>\n",
       "      <td>0</td>\n",
       "      <td>0</td>\n",
       "      <td>0</td>\n",
       "      <td>1</td>\n",
       "      <td>0</td>\n",
       "      <td>1</td>\n",
       "      <td>0</td>\n",
       "      <td>0</td>\n",
       "      <td>0</td>\n",
       "      <td>0</td>\n",
       "      <td>0</td>\n",
       "      <td>0</td>\n",
       "      <td>0</td>\n",
       "      <td>1</td>\n",
       "      <td>0</td>\n",
       "      <td>0</td>\n",
       "      <td>1</td>\n",
       "      <td>0</td>\n",
       "      <td>0</td>\n",
       "      <td>0</td>\n",
       "      <td>0</td>\n",
       "      <td>1</td>\n",
       "      <td>1</td>\n",
       "      <td>0</td>\n",
       "      <td>0</td>\n",
       "      <td>0</td>\n",
       "      <td>0</td>\n",
       "      <td>0</td>\n",
       "      <td>0</td>\n",
       "      <td>0</td>\n",
       "      <td>1</td>\n",
       "      <td>0</td>\n",
       "      <td>0</td>\n",
       "      <td>0</td>\n",
       "      <td>0</td>\n",
       "      <td>0</td>\n",
       "      <td>1</td>\n",
       "      <td>0</td>\n",
       "      <td>0</td>\n",
       "      <td>0</td>\n",
       "      <td>1</td>\n",
       "      <td>0</td>\n",
       "      <td>2024-07-23T08:25:56.469Z</td>\n",
       "      <td>R31788</td>\n",
       "    </tr>\n",
       "    <tr>\n",
       "      <th>...</th>\n",
       "      <td>...</td>\n",
       "      <td>...</td>\n",
       "      <td>...</td>\n",
       "      <td>...</td>\n",
       "      <td>...</td>\n",
       "      <td>...</td>\n",
       "      <td>...</td>\n",
       "      <td>...</td>\n",
       "      <td>...</td>\n",
       "      <td>...</td>\n",
       "      <td>...</td>\n",
       "      <td>...</td>\n",
       "      <td>...</td>\n",
       "      <td>...</td>\n",
       "      <td>...</td>\n",
       "      <td>...</td>\n",
       "      <td>...</td>\n",
       "      <td>...</td>\n",
       "      <td>...</td>\n",
       "      <td>...</td>\n",
       "      <td>...</td>\n",
       "      <td>...</td>\n",
       "      <td>...</td>\n",
       "      <td>...</td>\n",
       "      <td>...</td>\n",
       "      <td>...</td>\n",
       "      <td>...</td>\n",
       "      <td>...</td>\n",
       "      <td>...</td>\n",
       "      <td>...</td>\n",
       "      <td>...</td>\n",
       "      <td>...</td>\n",
       "      <td>...</td>\n",
       "      <td>...</td>\n",
       "      <td>...</td>\n",
       "      <td>...</td>\n",
       "      <td>...</td>\n",
       "      <td>...</td>\n",
       "      <td>...</td>\n",
       "      <td>...</td>\n",
       "      <td>...</td>\n",
       "      <td>...</td>\n",
       "      <td>...</td>\n",
       "      <td>...</td>\n",
       "      <td>...</td>\n",
       "      <td>...</td>\n",
       "      <td>...</td>\n",
       "      <td>...</td>\n",
       "      <td>...</td>\n",
       "      <td>...</td>\n",
       "      <td>...</td>\n",
       "      <td>...</td>\n",
       "      <td>...</td>\n",
       "      <td>...</td>\n",
       "      <td>...</td>\n",
       "      <td>...</td>\n",
       "      <td>...</td>\n",
       "      <td>...</td>\n",
       "      <td>...</td>\n",
       "      <td>...</td>\n",
       "      <td>...</td>\n",
       "      <td>...</td>\n",
       "      <td>...</td>\n",
       "      <td>...</td>\n",
       "      <td>...</td>\n",
       "      <td>...</td>\n",
       "      <td>...</td>\n",
       "    </tr>\n",
       "    <tr>\n",
       "      <th>41183</th>\n",
       "      <td>0</td>\n",
       "      <td>0.181818</td>\n",
       "      <td>1.0</td>\n",
       "      <td>0.000000</td>\n",
       "      <td>1</td>\n",
       "      <td>0</td>\n",
       "      <td>0</td>\n",
       "      <td>0</td>\n",
       "      <td>1</td>\n",
       "      <td>0</td>\n",
       "      <td>0</td>\n",
       "      <td>0</td>\n",
       "      <td>0</td>\n",
       "      <td>0</td>\n",
       "      <td>0</td>\n",
       "      <td>0</td>\n",
       "      <td>0</td>\n",
       "      <td>0</td>\n",
       "      <td>0</td>\n",
       "      <td>1</td>\n",
       "      <td>0</td>\n",
       "      <td>0</td>\n",
       "      <td>0</td>\n",
       "      <td>0</td>\n",
       "      <td>0</td>\n",
       "      <td>1</td>\n",
       "      <td>0</td>\n",
       "      <td>0</td>\n",
       "      <td>0</td>\n",
       "      <td>0</td>\n",
       "      <td>0</td>\n",
       "      <td>0</td>\n",
       "      <td>0</td>\n",
       "      <td>1</td>\n",
       "      <td>0</td>\n",
       "      <td>0</td>\n",
       "      <td>1</td>\n",
       "      <td>0</td>\n",
       "      <td>0</td>\n",
       "      <td>0</td>\n",
       "      <td>0</td>\n",
       "      <td>1</td>\n",
       "      <td>1</td>\n",
       "      <td>0</td>\n",
       "      <td>0</td>\n",
       "      <td>1</td>\n",
       "      <td>0</td>\n",
       "      <td>0</td>\n",
       "      <td>1</td>\n",
       "      <td>0</td>\n",
       "      <td>0</td>\n",
       "      <td>0</td>\n",
       "      <td>0</td>\n",
       "      <td>0</td>\n",
       "      <td>0</td>\n",
       "      <td>0</td>\n",
       "      <td>0</td>\n",
       "      <td>0</td>\n",
       "      <td>0</td>\n",
       "      <td>1</td>\n",
       "      <td>0</td>\n",
       "      <td>0</td>\n",
       "      <td>0</td>\n",
       "      <td>1</td>\n",
       "      <td>0</td>\n",
       "      <td>2024-07-23T08:25:56.469Z</td>\n",
       "      <td>R23666</td>\n",
       "    </tr>\n",
       "    <tr>\n",
       "      <th>41184</th>\n",
       "      <td>0</td>\n",
       "      <td>0.200000</td>\n",
       "      <td>1.0</td>\n",
       "      <td>0.000000</td>\n",
       "      <td>1</td>\n",
       "      <td>0</td>\n",
       "      <td>1</td>\n",
       "      <td>0</td>\n",
       "      <td>0</td>\n",
       "      <td>0</td>\n",
       "      <td>0</td>\n",
       "      <td>0</td>\n",
       "      <td>0</td>\n",
       "      <td>0</td>\n",
       "      <td>0</td>\n",
       "      <td>0</td>\n",
       "      <td>0</td>\n",
       "      <td>0</td>\n",
       "      <td>0</td>\n",
       "      <td>0</td>\n",
       "      <td>0</td>\n",
       "      <td>1</td>\n",
       "      <td>0</td>\n",
       "      <td>0</td>\n",
       "      <td>0</td>\n",
       "      <td>0</td>\n",
       "      <td>1</td>\n",
       "      <td>0</td>\n",
       "      <td>0</td>\n",
       "      <td>0</td>\n",
       "      <td>0</td>\n",
       "      <td>1</td>\n",
       "      <td>0</td>\n",
       "      <td>0</td>\n",
       "      <td>0</td>\n",
       "      <td>0</td>\n",
       "      <td>1</td>\n",
       "      <td>0</td>\n",
       "      <td>0</td>\n",
       "      <td>0</td>\n",
       "      <td>0</td>\n",
       "      <td>1</td>\n",
       "      <td>1</td>\n",
       "      <td>0</td>\n",
       "      <td>0</td>\n",
       "      <td>1</td>\n",
       "      <td>0</td>\n",
       "      <td>0</td>\n",
       "      <td>1</td>\n",
       "      <td>0</td>\n",
       "      <td>0</td>\n",
       "      <td>0</td>\n",
       "      <td>0</td>\n",
       "      <td>0</td>\n",
       "      <td>0</td>\n",
       "      <td>0</td>\n",
       "      <td>0</td>\n",
       "      <td>0</td>\n",
       "      <td>0</td>\n",
       "      <td>1</td>\n",
       "      <td>0</td>\n",
       "      <td>0</td>\n",
       "      <td>0</td>\n",
       "      <td>1</td>\n",
       "      <td>0</td>\n",
       "      <td>2024-07-23T08:25:56.469Z</td>\n",
       "      <td>R23693</td>\n",
       "    </tr>\n",
       "    <tr>\n",
       "      <th>41185</th>\n",
       "      <td>0</td>\n",
       "      <td>0.000000</td>\n",
       "      <td>1.0</td>\n",
       "      <td>0.000000</td>\n",
       "      <td>1</td>\n",
       "      <td>0</td>\n",
       "      <td>0</td>\n",
       "      <td>1</td>\n",
       "      <td>0</td>\n",
       "      <td>0</td>\n",
       "      <td>0</td>\n",
       "      <td>0</td>\n",
       "      <td>0</td>\n",
       "      <td>0</td>\n",
       "      <td>0</td>\n",
       "      <td>0</td>\n",
       "      <td>0</td>\n",
       "      <td>0</td>\n",
       "      <td>0</td>\n",
       "      <td>0</td>\n",
       "      <td>0</td>\n",
       "      <td>0</td>\n",
       "      <td>0</td>\n",
       "      <td>1</td>\n",
       "      <td>0</td>\n",
       "      <td>1</td>\n",
       "      <td>0</td>\n",
       "      <td>0</td>\n",
       "      <td>0</td>\n",
       "      <td>0</td>\n",
       "      <td>0</td>\n",
       "      <td>0</td>\n",
       "      <td>0</td>\n",
       "      <td>0</td>\n",
       "      <td>0</td>\n",
       "      <td>1</td>\n",
       "      <td>0</td>\n",
       "      <td>1</td>\n",
       "      <td>0</td>\n",
       "      <td>0</td>\n",
       "      <td>0</td>\n",
       "      <td>1</td>\n",
       "      <td>1</td>\n",
       "      <td>0</td>\n",
       "      <td>0</td>\n",
       "      <td>0</td>\n",
       "      <td>1</td>\n",
       "      <td>0</td>\n",
       "      <td>0</td>\n",
       "      <td>0</td>\n",
       "      <td>0</td>\n",
       "      <td>0</td>\n",
       "      <td>0</td>\n",
       "      <td>1</td>\n",
       "      <td>0</td>\n",
       "      <td>0</td>\n",
       "      <td>0</td>\n",
       "      <td>0</td>\n",
       "      <td>0</td>\n",
       "      <td>1</td>\n",
       "      <td>0</td>\n",
       "      <td>0</td>\n",
       "      <td>0</td>\n",
       "      <td>1</td>\n",
       "      <td>0</td>\n",
       "      <td>2024-07-23T08:25:56.469Z</td>\n",
       "      <td>R3269</td>\n",
       "    </tr>\n",
       "    <tr>\n",
       "      <th>41186</th>\n",
       "      <td>0</td>\n",
       "      <td>0.018182</td>\n",
       "      <td>1.0</td>\n",
       "      <td>0.000000</td>\n",
       "      <td>1</td>\n",
       "      <td>0</td>\n",
       "      <td>1</td>\n",
       "      <td>0</td>\n",
       "      <td>0</td>\n",
       "      <td>0</td>\n",
       "      <td>0</td>\n",
       "      <td>0</td>\n",
       "      <td>0</td>\n",
       "      <td>0</td>\n",
       "      <td>0</td>\n",
       "      <td>0</td>\n",
       "      <td>0</td>\n",
       "      <td>0</td>\n",
       "      <td>0</td>\n",
       "      <td>1</td>\n",
       "      <td>0</td>\n",
       "      <td>0</td>\n",
       "      <td>0</td>\n",
       "      <td>0</td>\n",
       "      <td>0</td>\n",
       "      <td>0</td>\n",
       "      <td>1</td>\n",
       "      <td>0</td>\n",
       "      <td>0</td>\n",
       "      <td>0</td>\n",
       "      <td>0</td>\n",
       "      <td>1</td>\n",
       "      <td>0</td>\n",
       "      <td>0</td>\n",
       "      <td>0</td>\n",
       "      <td>0</td>\n",
       "      <td>1</td>\n",
       "      <td>0</td>\n",
       "      <td>0</td>\n",
       "      <td>1</td>\n",
       "      <td>0</td>\n",
       "      <td>0</td>\n",
       "      <td>1</td>\n",
       "      <td>0</td>\n",
       "      <td>0</td>\n",
       "      <td>0</td>\n",
       "      <td>1</td>\n",
       "      <td>0</td>\n",
       "      <td>0</td>\n",
       "      <td>0</td>\n",
       "      <td>0</td>\n",
       "      <td>0</td>\n",
       "      <td>0</td>\n",
       "      <td>1</td>\n",
       "      <td>0</td>\n",
       "      <td>0</td>\n",
       "      <td>0</td>\n",
       "      <td>0</td>\n",
       "      <td>0</td>\n",
       "      <td>1</td>\n",
       "      <td>0</td>\n",
       "      <td>0</td>\n",
       "      <td>0</td>\n",
       "      <td>1</td>\n",
       "      <td>0</td>\n",
       "      <td>2024-07-23T08:25:56.469Z</td>\n",
       "      <td>R3394</td>\n",
       "    </tr>\n",
       "    <tr>\n",
       "      <th>41187</th>\n",
       "      <td>0</td>\n",
       "      <td>0.000000</td>\n",
       "      <td>1.0</td>\n",
       "      <td>0.000000</td>\n",
       "      <td>1</td>\n",
       "      <td>0</td>\n",
       "      <td>0</td>\n",
       "      <td>1</td>\n",
       "      <td>0</td>\n",
       "      <td>0</td>\n",
       "      <td>0</td>\n",
       "      <td>0</td>\n",
       "      <td>0</td>\n",
       "      <td>0</td>\n",
       "      <td>0</td>\n",
       "      <td>0</td>\n",
       "      <td>0</td>\n",
       "      <td>0</td>\n",
       "      <td>0</td>\n",
       "      <td>0</td>\n",
       "      <td>0</td>\n",
       "      <td>1</td>\n",
       "      <td>0</td>\n",
       "      <td>0</td>\n",
       "      <td>0</td>\n",
       "      <td>1</td>\n",
       "      <td>0</td>\n",
       "      <td>0</td>\n",
       "      <td>0</td>\n",
       "      <td>0</td>\n",
       "      <td>0</td>\n",
       "      <td>1</td>\n",
       "      <td>0</td>\n",
       "      <td>0</td>\n",
       "      <td>0</td>\n",
       "      <td>0</td>\n",
       "      <td>1</td>\n",
       "      <td>0</td>\n",
       "      <td>0</td>\n",
       "      <td>0</td>\n",
       "      <td>0</td>\n",
       "      <td>1</td>\n",
       "      <td>1</td>\n",
       "      <td>0</td>\n",
       "      <td>0</td>\n",
       "      <td>0</td>\n",
       "      <td>1</td>\n",
       "      <td>0</td>\n",
       "      <td>1</td>\n",
       "      <td>0</td>\n",
       "      <td>0</td>\n",
       "      <td>0</td>\n",
       "      <td>0</td>\n",
       "      <td>0</td>\n",
       "      <td>0</td>\n",
       "      <td>0</td>\n",
       "      <td>0</td>\n",
       "      <td>1</td>\n",
       "      <td>0</td>\n",
       "      <td>0</td>\n",
       "      <td>0</td>\n",
       "      <td>0</td>\n",
       "      <td>0</td>\n",
       "      <td>1</td>\n",
       "      <td>0</td>\n",
       "      <td>2024-07-23T08:25:56.469Z</td>\n",
       "      <td>R23948</td>\n",
       "    </tr>\n",
       "  </tbody>\n",
       "</table>\n",
       "<p>41188 rows × 67 columns</p>\n",
       "</div>"
      ],
      "text/plain": [
       "       y  campaign  pdays  previous  no_previous_contact  not_working  \\\n",
       "0      0  0.000000    1.0  0.000000                    1            0   \n",
       "1      0  0.000000    1.0  0.000000                    1            0   \n",
       "2      0  0.018182    1.0  0.142857                    1            0   \n",
       "3      0  0.036364    1.0  0.000000                    1            0   \n",
       "4      0  0.000000    1.0  0.000000                    1            0   \n",
       "...   ..       ...    ...       ...                  ...          ...   \n",
       "41183  0  0.181818    1.0  0.000000                    1            0   \n",
       "41184  0  0.200000    1.0  0.000000                    1            0   \n",
       "41185  0  0.000000    1.0  0.000000                    1            0   \n",
       "41186  0  0.018182    1.0  0.000000                    1            0   \n",
       "41187  0  0.000000    1.0  0.000000                    1            0   \n",
       "\n",
       "       age_18_29  age_30_39  age_40_49  age_50_59  age_60_69  age_70_plus  \\\n",
       "0              0          0          1          0          0            0   \n",
       "1              0          0          1          0          0            0   \n",
       "2              0          1          0          0          0            0   \n",
       "3              0          1          0          0          0            0   \n",
       "4              0          1          0          0          0            0   \n",
       "...          ...        ...        ...        ...        ...          ...   \n",
       "41183          0          0          1          0          0            0   \n",
       "41184          1          0          0          0          0            0   \n",
       "41185          0          1          0          0          0            0   \n",
       "41186          1          0          0          0          0            0   \n",
       "41187          0          1          0          0          0            0   \n",
       "\n",
       "       job_admin  job_blue_collar  job_entrepreneur  job_housemaid  \\\n",
       "0              0                1                 0              0   \n",
       "1              0                0                 0              0   \n",
       "2              1                0                 0              0   \n",
       "3              1                0                 0              0   \n",
       "4              0                1                 0              0   \n",
       "...          ...              ...               ...            ...   \n",
       "41183          0                0                 0              0   \n",
       "41184          0                0                 0              0   \n",
       "41185          0                0                 0              0   \n",
       "41186          0                0                 0              0   \n",
       "41187          0                0                 0              0   \n",
       "\n",
       "       job_management  job_retired  job_self_employed  job_services  \\\n",
       "0                   0            0                  0             0   \n",
       "1                   0            0                  0             0   \n",
       "2                   0            0                  0             0   \n",
       "3                   0            0                  0             0   \n",
       "4                   0            0                  0             0   \n",
       "...               ...          ...                ...           ...   \n",
       "41183               0            0                  0             1   \n",
       "41184               0            0                  0             0   \n",
       "41185               0            0                  0             0   \n",
       "41186               0            0                  0             1   \n",
       "41187               0            0                  0             0   \n",
       "\n",
       "       job_student  job_technician  job_unemployed  job_unknown  \\\n",
       "0                0               0               0            0   \n",
       "1                0               1               0            0   \n",
       "2                0               0               0            0   \n",
       "3                0               0               0            0   \n",
       "4                0               0               0            0   \n",
       "...            ...             ...             ...          ...   \n",
       "41183            0               0               0            0   \n",
       "41184            0               1               0            0   \n",
       "41185            0               0               0            1   \n",
       "41186            0               0               0            0   \n",
       "41187            0               1               0            0   \n",
       "\n",
       "       marital_divorced  marital_married  marital_single  marital_unknown  \\\n",
       "0                     1                0               0                0   \n",
       "1                     0                0               1                0   \n",
       "2                     0                1               0                0   \n",
       "3                     0                0               1                0   \n",
       "4                     0                0               1                0   \n",
       "...                 ...              ...             ...              ...   \n",
       "41183                 0                1               0                0   \n",
       "41184                 0                0               1                0   \n",
       "41185                 0                1               0                0   \n",
       "41186                 0                0               1                0   \n",
       "41187                 0                1               0                0   \n",
       "\n",
       "       education_basic_4y  education_basic_6y  education_basic_9y  \\\n",
       "0                       1                   0                   0   \n",
       "1                       0                   0                   0   \n",
       "2                       0                   0                   0   \n",
       "3                       0                   0                   0   \n",
       "4                       1                   0                   0   \n",
       "...                   ...                 ...                 ...   \n",
       "41183                   0                   0                   0   \n",
       "41184                   0                   0                   0   \n",
       "41185                   0                   0                   0   \n",
       "41186                   0                   0                   0   \n",
       "41187                   0                   0                   0   \n",
       "\n",
       "       education_high_school  education_illiterate  \\\n",
       "0                          0                     0   \n",
       "1                          0                     0   \n",
       "2                          0                     0   \n",
       "3                          0                     0   \n",
       "4                          0                     0   \n",
       "...                      ...                   ...   \n",
       "41183                      0                     0   \n",
       "41184                      1                     0   \n",
       "41185                      0                     0   \n",
       "41186                      1                     0   \n",
       "41187                      1                     0   \n",
       "\n",
       "       education_professional_course  education_university_degree  \\\n",
       "0                                  0                            0   \n",
       "1                                  1                            0   \n",
       "2                                  0                            1   \n",
       "3                                  0                            1   \n",
       "4                                  0                            0   \n",
       "...                              ...                          ...   \n",
       "41183                              1                            0   \n",
       "41184                              0                            0   \n",
       "41185                              0                            0   \n",
       "41186                              0                            0   \n",
       "41187                              0                            0   \n",
       "\n",
       "       education_unknown  default_no  default_unknown  default_yes  \\\n",
       "0                      0           1                0            0   \n",
       "1                      0           0                1            0   \n",
       "2                      0           1                0            0   \n",
       "3                      0           1                0            0   \n",
       "4                      0           1                0            0   \n",
       "...                  ...         ...              ...          ...   \n",
       "41183                  0           1                0            0   \n",
       "41184                  0           1                0            0   \n",
       "41185                  1           0                1            0   \n",
       "41186                  0           1                0            0   \n",
       "41187                  0           1                0            0   \n",
       "\n",
       "       housing_no  housing_unknown  housing_yes  loan_no  loan_unknown  \\\n",
       "0               1                0            0        1             0   \n",
       "1               1                0            0        1             0   \n",
       "2               0                0            1        1             0   \n",
       "3               0                0            1        1             0   \n",
       "4               1                0            0        0             0   \n",
       "...           ...              ...          ...      ...           ...   \n",
       "41183           0                0            1        1             0   \n",
       "41184           0                0            1        1             0   \n",
       "41185           0                0            1        1             0   \n",
       "41186           1                0            0        1             0   \n",
       "41187           0                0            1        1             0   \n",
       "\n",
       "       loan_yes  contact_cellular  contact_telephone  month_apr  month_aug  \\\n",
       "0             0                 1                  0          0          0   \n",
       "1             0                 0                  1          0          0   \n",
       "2             0                 1                  0          0          0   \n",
       "3             0                 1                  0          0          1   \n",
       "4             1                 1                  0          0          0   \n",
       "...         ...               ...                ...        ...        ...   \n",
       "41183         0                 1                  0          0          1   \n",
       "41184         0                 1                  0          0          1   \n",
       "41185         0                 0                  1          0          0   \n",
       "41186         0                 0                  1          0          0   \n",
       "41187         0                 0                  1          0          1   \n",
       "\n",
       "       month_dec  month_jul  month_jun  month_mar  month_may  month_nov  \\\n",
       "0              0          0          0          0          1          0   \n",
       "1              0          0          0          0          1          0   \n",
       "2              0          0          0          0          1          0   \n",
       "3              0          0          0          0          0          0   \n",
       "4              0          0          0          0          1          0   \n",
       "...          ...        ...        ...        ...        ...        ...   \n",
       "41183          0          0          0          0          0          0   \n",
       "41184          0          0          0          0          0          0   \n",
       "41185          0          0          0          0          1          0   \n",
       "41186          0          0          0          0          1          0   \n",
       "41187          0          0          0          0          0          0   \n",
       "\n",
       "       month_oct  month_sep  day_of_week_fri  day_of_week_mon  \\\n",
       "0              0          0                0                0   \n",
       "1              0          0                0                1   \n",
       "2              0          0                0                0   \n",
       "3              0          0                0                0   \n",
       "4              0          0                0                0   \n",
       "...          ...        ...              ...              ...   \n",
       "41183          0          0                0                0   \n",
       "41184          0          0                0                0   \n",
       "41185          0          0                0                0   \n",
       "41186          0          0                0                0   \n",
       "41187          0          0                1                0   \n",
       "\n",
       "       day_of_week_thu  day_of_week_tue  day_of_week_wed  poutcome_failure  \\\n",
       "0                    0                1                0                 0   \n",
       "1                    0                0                0                 0   \n",
       "2                    0                1                0                 1   \n",
       "3                    0                0                1                 0   \n",
       "4                    1                0                0                 0   \n",
       "...                ...              ...              ...               ...   \n",
       "41183                1                0                0                 0   \n",
       "41184                1                0                0                 0   \n",
       "41185                1                0                0                 0   \n",
       "41186                1                0                0                 0   \n",
       "41187                0                0                0                 0   \n",
       "\n",
       "       poutcome_nonexistent  poutcome_success                event_time  \\\n",
       "0                         1                 0  2024-07-23T08:25:56.469Z   \n",
       "1                         1                 0  2024-07-23T08:25:56.469Z   \n",
       "2                         0                 0  2024-07-23T08:25:56.469Z   \n",
       "3                         1                 0  2024-07-23T08:25:56.469Z   \n",
       "4                         1                 0  2024-07-23T08:25:56.469Z   \n",
       "...                     ...               ...                       ...   \n",
       "41183                     1                 0  2024-07-23T08:25:56.469Z   \n",
       "41184                     1                 0  2024-07-23T08:25:56.469Z   \n",
       "41185                     1                 0  2024-07-23T08:25:56.469Z   \n",
       "41186                     1                 0  2024-07-23T08:25:56.469Z   \n",
       "41187                     1                 0  2024-07-23T08:25:56.469Z   \n",
       "\n",
       "      record_id  \n",
       "0        R30895  \n",
       "1           R45  \n",
       "2        R30986  \n",
       "3        R20819  \n",
       "4        R31788  \n",
       "...         ...  \n",
       "41183    R23666  \n",
       "41184    R23693  \n",
       "41185     R3269  \n",
       "41186     R3394  \n",
       "41187    R23948  \n",
       "\n",
       "[41188 rows x 67 columns]"
      ]
     },
     "execution_count": 95,
     "metadata": {},
     "output_type": "execute_result"
    }
   ],
   "source": [
    "df_dataset"
   ]
  },
  {
   "cell_type": "markdown",
   "id": "dc77c3d3-881c-47fe-ad90-ddd0eb6ba9e9",
   "metadata": {},
   "source": [
    "### Integrar um grupo de features em um pipeline de construção de modelo\n",
    "Até agora, você ingeriu todas as featres transformadas no feature store. Como última etapa neste notebook, você precisa adaptar o pipeline de construção do modelo para usar as features transformadas do grupo de features em vez de carregar e transformar um arquivo de dados brutos de um bucket S3."
   ]
  },
  {
   "cell_type": "markdown",
   "id": "b69ff2c7-f979-42d6-ba8e-854ae6b5a24b",
   "metadata": {},
   "source": [
    "O código para extração de features do feature store e preparação de conjuntos de dados para treinamento, teste, validação e linha de base de qualidade está no arquivo Python `extract.py` na pasta `./pipeline_steps`.\n",
    "Observe que não há código de processamento de features no script porque toda a engenharia de features é feita antes de ingerir as features no feature store."
   ]
  },
  {
   "cell_type": "code",
   "execution_count": 96,
   "id": "cee0f3a6-1c61-43b6-8536-37824bc8cdb5",
   "metadata": {},
   "outputs": [],
   "source": [
    "# O código da função Python está nos arquivos locais\n",
    "from pipeline_steps.extract import prepare_datasets"
   ]
  },
  {
   "cell_type": "code",
   "execution_count": null,
   "id": "21473f13",
   "metadata": {},
   "outputs": [],
   "source": [
    "# Execute a função localmente para verificar se tudo funciona\n",
    "r_extract = prepare_datasets(\n",
    "    feature_group_name=dataset_feature_group_name,\n",
    "    output_s3_prefix=output_s3_prefix,\n",
    "    query_output_s3_path=output_location,\n",
    "    tracking_server_arn=mlflow_arn,\n",
    "    experiment_name=f\"local-test-{current_timestamp}\"\n",
    ")\n",
    "r_extract"
   ]
  },
  {
   "cell_type": "markdown",
   "id": "bbdab255-972b-4c44-b777-1ff3fbfd91fb",
   "metadata": {},
   "source": [
    "Você acabou de testar este script localmente, agora vamos integrá-lo ao pipeline de construção do modelo. A próxima célula contém o script completo para a construção do pipeline.\n",
    "\n",
    "Para maior clareza, as etapas de monitoramento em lote e monitoramento de qualidade foram omitidas deste pipeline. Sinta-se à vontade para adicionar essas etapas usando o código da seção **Adicionar transformação em lote e verificações de qualidade ao pipeline**."
   ]
  },
  {
   "cell_type": "code",
   "execution_count": null,
   "id": "4dbfb343",
   "metadata": {},
   "outputs": [],
   "source": [
    "session = PipelineSession()\n",
    "experiment_name = f\"{project}-fs-pipeline-{current_timestamp}\"\n",
    "mlflow.set_experiment(experiment_name)\n",
    "\n",
    "# etapa de extração de features do feature store\n",
    "step_extract_featureset = step(\n",
    "    prepare_datasets, \n",
    "    instance_type=process_instance_type_param,\n",
    "    name=f\"{project}-extract-featureset\",\n",
    "    keep_alive_period_in_seconds=3600,\n",
    ")(\n",
    "    feature_group_name=feature_group_name_param,\n",
    "    output_s3_prefix=output_s3_prefix,\n",
    "    query_output_s3_path=output_location,\n",
    "    tracking_server_arn=tracking_server_arn_param,\n",
    "    experiment_name=experiment_name,\n",
    "    pipeline_run_name=ExecutionVariables.PIPELINE_EXECUTION_ID,\n",
    ")\n",
    "\n",
    "cache_config = CacheConfig(\n",
    "        enable_caching=True,\n",
    "        expire_after=\"P30d\" # 30-day\n",
    "    )\n",
    "\n",
    "# etapa de treinamento\n",
    "step_train = TrainingStep(\n",
    "    name=f\"{project}-train\",\n",
    "    step_args=get_xgb_estimator(\n",
    "        session=session,\n",
    "        instance_type=train_instance_type_param,\n",
    "        output_s3_url=output_s3_url,\n",
    "        base_job_name=f\"{project}-train\",\n",
    "    ).fit(\n",
    "        {\n",
    "            \"train\": TrainingInput(\n",
    "                step_extract_featureset['train_data'],\n",
    "                content_type=\"text/csv\",\n",
    "            ),\n",
    "            \"validation\": TrainingInput(\n",
    "                step_extract_featureset['validation_data'],\n",
    "                content_type=\"text/csv\",\n",
    "            ),\n",
    "        }\n",
    "    ),\n",
    "    cache_config=cache_config,\n",
    ")    \n",
    "\n",
    "# etapa de avaliação\n",
    "step_evaluate = step(\n",
    "    evaluate,\n",
    "    instance_type=process_instance_type_param,\n",
    "    name=f\"{project}-evaluate\",\n",
    "    keep_alive_period_in_seconds=3600,\n",
    ")(\n",
    "    test_x_data_s3_path=step_extract_featureset['test_x_data'],\n",
    "    test_y_data_s3_path=step_extract_featureset['test_y_data'],\n",
    "    model_s3_path=step_train.properties.ModelArtifacts.S3ModelArtifacts,\n",
    "    output_s3_prefix=output_s3_prefix,\n",
    "    tracking_server_arn=tracking_server_arn_param,\n",
    "    experiment_name=step_extract_featureset['experiment_name'],\n",
    "    pipeline_run_id=step_extract_featureset['pipeline_run_id'],\n",
    ")\n",
    "\n",
    "# etapa de registro do modelo\n",
    "step_register = step(\n",
    "        register,\n",
    "        name=f\"{project}-register\",\n",
    "        keep_alive_period_in_seconds=3600,\n",
    "    )(\n",
    "        training_job_name=step_train.properties.TrainingJobName,\n",
    "        model_package_group_name=model_package_group_name_param,\n",
    "        model_approval_status=model_approval_status_param,\n",
    "        evaluation_result=step_evaluate['evaluation_result'],\n",
    "        output_s3_prefix=output_s3_url,\n",
    "        tracking_server_arn=tracking_server_arn_param,\n",
    "        experiment_name=step_extract_featureset['experiment_name'],\n",
    "        pipeline_run_id=step_extract_featureset['pipeline_run_id'],\n",
    "    )\n",
    "\n",
    "# etapa de falha da execução do pipeline\n",
    "step_fail = FailStep(\n",
    "    name=f\"{project}-fail\",\n",
    "    error_message=Join(on=\" \", values=[\"Execution failed due to AUC Score < \", test_score_threshold_param]),\n",
    ")\n",
    "\n",
    "# condição para verificar na etapa de condição\n",
    "condition_gte = ConditionGreaterThanOrEqualTo(\n",
    "        left=step_evaluate['evaluation_result']['classification_metrics']['auc_score']['value'],  \n",
    "        right=test_score_threshold_param,\n",
    ")\n",
    "\n",
    "# etapa condicional de registro\n",
    "step_conditional_register = ConditionStep(\n",
    "    name=f\"{project}-check-metrics\",\n",
    "    conditions=[condition_gte],\n",
    "    if_steps=[step_register],\n",
    "    else_steps=[step_fail],\n",
    ")\n",
    "\n",
    "# Criar um objeto de pipeline\n",
    "pipeline_feature_store = Pipeline(\n",
    "    name=f\"{pipeline_name}-fs\",\n",
    "    parameters=[\n",
    "        feature_group_name_param,\n",
    "        process_instance_type_param,\n",
    "        train_instance_type_param,\n",
    "        model_approval_status_param,\n",
    "        test_score_threshold_param,\n",
    "        model_package_group_name_param,\n",
    "        tracking_server_arn_param,\n",
    "    ],\n",
    "    steps=[step_conditional_register],\n",
    "    pipeline_definition_config=PipelineDefinitionConfig(use_custom_job_prefix=True)\n",
    ")"
   ]
  },
  {
   "cell_type": "code",
   "execution_count": null,
   "id": "c11766e9",
   "metadata": {},
   "outputs": [],
   "source": [
    "pipeline_feature_store.upsert(role_arn=sm_role)"
   ]
  },
  {
   "cell_type": "markdown",
   "id": "dd536adc-6624-4e46-98c2-5159045dbff7",
   "metadata": {},
   "source": [
    "O novo pipeline parece exatamente o mesmo que o primeiro pipeline, mas tem uma etapa de extração de conjunto de features em vez de feature engineering - `from-idea-to-prod-extract-featureset`:\n",
    "\n",
    "![](img/pipeline-fs-graph.png)"
   ]
  },
  {
   "cell_type": "markdown",
   "id": "00c9d895-666e-4d01-8d87-1318fdafe2a9",
   "metadata": {},
   "source": [
    "### Execute um novo pipeline\n",
    "\n"
   ]
  },
  {
   "cell_type": "code",
   "execution_count": 100,
   "id": "26e82aaa-72f7-4d79-8aac-2025b3e25f37",
   "metadata": {},
   "outputs": [],
   "source": [
    "execution_feature_store = pipeline_feature_store.start()"
   ]
  },
  {
   "cell_type": "code",
   "execution_count": null,
   "id": "83934572",
   "metadata": {},
   "outputs": [],
   "source": []
  },
  {
   "cell_type": "code",
   "execution_count": 101,
   "id": "fcc5f4ad-736a-419a-88c0-9fde3356e058",
   "metadata": {},
   "outputs": [],
   "source": [
    "# Descomente estas duas linhas se quiser esperar até que a execução seja concluída\n",
    "# execution_feature_store.wait()\n",
    "# execution_feature_store.list_steps()"
   ]
  },
  {
   "cell_type": "markdown",
   "id": "da456c67-e0bc-441c-8f04-5e55bd1ac5d5",
   "metadata": {},
   "source": [
    "# Leitura adicional: use o Feature Processor para transformação e ingestão de features\n",
    "O SageMaker fornece um [SDK do Feature Processor](https://sagemaker.readthedocs.io/en/stable/api/prep_data/feature_store.html#feature-processor-decorator) baseado em Spark, com o qual você pode transformar e ingerir dados de fontes de dados em lote em seus grupos de features. Leia a descrição e os exemplos no [Guia do Desenvolvedor](https://docs.aws.amazon.com/sagemaker/latest/dg/feature-store-feature-processing.html).\n",
    "\n",
    "Consulte um exemplo mais detalhado do processador de features no notebook [feature store feature processor](https://github.com/aws/amazon-sagemaker-examples/blob/main/sagemaker-featurestore/feature_store_feature_processor.ipynb)."
   ]
  },
  {
   "cell_type": "markdown",
   "id": "51bac953-1d16-47b4-939b-c8f9f2966c0e",
   "metadata": {},
   "source": [
    "## Resumo\n",
    "Neste notebook, você construiu três pipelines do SageMaker:\n",
    "- Um pipeline inicial de construção de modelo com etapas de processamento de dados, treinamento de modelo, avaliação de modelo e registro condicional de modelo\n",
    "- Próxima versão deste pipeline com monitoramento de qualidade de dados e modelo e transformação em lote\n",
    "- Um pipeline de feature engineering e ingestão no SageMaker Feature Store\n",
    "- Uma versão adaptada do pipeline inicial com a etapa de processamento de dados substituída pela etapa de extração de conjunto de features."
   ]
  },
  {
   "cell_type": "markdown",
   "id": "0749da96-9b82-465c-8328-eecd515d23a7",
   "metadata": {},
   "source": [
    "---"
   ]
  },
  {
   "cell_type": "markdown",
   "id": "9c1eb4e6-6010-49c3-ada7-9935bf8644b8",
   "metadata": {},
   "source": [
    "## Continue com o fluxo do treinamento\n",
    "Após concluir este laboratório, você pode continuar com os notebooks das etapas 4 e 5 [notebooks](04-sagemaker-project.ipynb) ou ir diretamente para o notebook da etapa 6 [notebook](06-monitoring.ipynb):\n",
    "\n",
    "- **Notebooks das etapas 4 e 5**: Use os Projetos SageMaker para implementar pipelines de automação CI/CD para construção e implantação de modelos\n",
    "\n",
    "- **Notebooks da etapa 6**: Monitoramento de qualidade de dados e modelos"
   ]
  },
  {
   "cell_type": "markdown",
   "id": "eaf9dea1-ec92-4a28-8523-31c990c274a4",
   "metadata": {},
   "source": [
    "\n",
    "## Ideias de desenvolvimento adicional para seus projetos do mundo real\n",
    "- Adicione etapas de [detecção de viés e explicabilidade do modelo](https://docs.aws.amazon.com/sagemaker/latest/dg/build-and-manage-steps.html#step-type-clarify-check). Adicione métricas do modelo calculadas pelo [SageMaker Clarify](https://docs.aws.amazon.com/sagemaker/latest/dg/clarify-configure-processing-jobs.html) aos metadados do modelo no registro de modelos\n",
    "- Adicione o lançamento orientado por eventos do pipeline de ML assim que um novo conjunto de dados for carregado em um bucket do Amazon S3. Você pode usar a [integração do Amazon EventBridge](https://docs.aws.amazon.com/sagemaker/latest/dg/pipeline-eventbridge.html#pipeline-eventbridge-schedule) para implementar vários fluxos de trabalho orientados por eventos\n",
    "- Use uma função de execução IAM designada para a execução do pipeline\n",
    "- Adicione criptografia de dados usando criptografia de bucket S3 e chaves AWS KMS para criptografia de volume EBS do contêiner"
   ]
  },
  {
   "cell_type": "markdown",
   "id": "7f8f9efc-0920-4077-bd58-9f5514550412",
   "metadata": {},
   "source": [
    "## Recursos adicionais\n",
    "- [Automatize Fluxos de Trabalho de Machine Learning](https://aws.amazon.com/getting-started/hands-on/machine-learning-tutorial-mlops-automate-ml-workflows/)\n",
    "- [Workshop do Amazon SageMaker Feature Store](https://github.com/aws-samples/amazon-sagemaker-feature-store-end-to-end-workshop)\n",
    "- [Pipeline de Construção de Modelo do Amazon SageMaker](https://github.com/aws/sagemaker-python-sdk/blob/master/doc/amazon_sagemaker_model_building_pipeline.rst)\n",
    "- [MLOPs Com o Decorador de Etapa do SageMaker Pipelines](https://towardsaws.com/mlops-with-sagemaker-pipelines-step-decorator-bb63fce88846)"
   ]
  },
  {
   "cell_type": "markdown",
   "id": "874abcd0-2241-4118-9191-011215b861cd",
   "metadata": {},
   "source": [
    "# Desligar kernel\n",
    "\n"
   ]
  },
  {
   "cell_type": "code",
   "execution_count": null,
   "id": "139bfea5-a835-4adc-81f0-e5355bf53a97",
   "metadata": {},
   "outputs": [],
   "source": [
    "%%html\n",
    "\n",
    "<p><b>Shutting down your kernel for this notebook to release resources.</b></p>\n",
    "<button class=\"sm-command-button\" data-commandlinker-command=\"kernelmenu:shutdown\" style=\"display:none;\">Shutdown Kernel</button>\n",
    "        \n",
    "<script>\n",
    "try {\n",
    "    els = document.getElementsByClassName(\"sm-command-button\");\n",
    "    els[0].click();\n",
    "}\n",
    "catch(err) {\n",
    "    // NoOp\n",
    "}    \n",
    "</script>"
   ]
  }
 ],
 "metadata": {
  "availableInstances": [
   {
    "_defaultOrder": 0,
    "_isFastLaunch": true,
    "category": "General purpose",
    "gpuNum": 0,
    "hideHardwareSpecs": false,
    "memoryGiB": 4,
    "name": "ml.t3.medium",
    "vcpuNum": 2
   },
   {
    "_defaultOrder": 1,
    "_isFastLaunch": false,
    "category": "General purpose",
    "gpuNum": 0,
    "hideHardwareSpecs": false,
    "memoryGiB": 8,
    "name": "ml.t3.large",
    "vcpuNum": 2
   },
   {
    "_defaultOrder": 2,
    "_isFastLaunch": false,
    "category": "General purpose",
    "gpuNum": 0,
    "hideHardwareSpecs": false,
    "memoryGiB": 16,
    "name": "ml.t3.xlarge",
    "vcpuNum": 4
   },
   {
    "_defaultOrder": 3,
    "_isFastLaunch": false,
    "category": "General purpose",
    "gpuNum": 0,
    "hideHardwareSpecs": false,
    "memoryGiB": 32,
    "name": "ml.t3.2xlarge",
    "vcpuNum": 8
   },
   {
    "_defaultOrder": 4,
    "_isFastLaunch": true,
    "category": "General purpose",
    "gpuNum": 0,
    "hideHardwareSpecs": false,
    "memoryGiB": 8,
    "name": "ml.m5.large",
    "vcpuNum": 2
   },
   {
    "_defaultOrder": 5,
    "_isFastLaunch": false,
    "category": "General purpose",
    "gpuNum": 0,
    "hideHardwareSpecs": false,
    "memoryGiB": 16,
    "name": "ml.m5.xlarge",
    "vcpuNum": 4
   },
   {
    "_defaultOrder": 6,
    "_isFastLaunch": false,
    "category": "General purpose",
    "gpuNum": 0,
    "hideHardwareSpecs": false,
    "memoryGiB": 32,
    "name": "ml.m5.2xlarge",
    "vcpuNum": 8
   },
   {
    "_defaultOrder": 7,
    "_isFastLaunch": false,
    "category": "General purpose",
    "gpuNum": 0,
    "hideHardwareSpecs": false,
    "memoryGiB": 64,
    "name": "ml.m5.4xlarge",
    "vcpuNum": 16
   },
   {
    "_defaultOrder": 8,
    "_isFastLaunch": false,
    "category": "General purpose",
    "gpuNum": 0,
    "hideHardwareSpecs": false,
    "memoryGiB": 128,
    "name": "ml.m5.8xlarge",
    "vcpuNum": 32
   },
   {
    "_defaultOrder": 9,
    "_isFastLaunch": false,
    "category": "General purpose",
    "gpuNum": 0,
    "hideHardwareSpecs": false,
    "memoryGiB": 192,
    "name": "ml.m5.12xlarge",
    "vcpuNum": 48
   },
   {
    "_defaultOrder": 10,
    "_isFastLaunch": false,
    "category": "General purpose",
    "gpuNum": 0,
    "hideHardwareSpecs": false,
    "memoryGiB": 256,
    "name": "ml.m5.16xlarge",
    "vcpuNum": 64
   },
   {
    "_defaultOrder": 11,
    "_isFastLaunch": false,
    "category": "General purpose",
    "gpuNum": 0,
    "hideHardwareSpecs": false,
    "memoryGiB": 384,
    "name": "ml.m5.24xlarge",
    "vcpuNum": 96
   },
   {
    "_defaultOrder": 12,
    "_isFastLaunch": false,
    "category": "General purpose",
    "gpuNum": 0,
    "hideHardwareSpecs": false,
    "memoryGiB": 8,
    "name": "ml.m5d.large",
    "vcpuNum": 2
   },
   {
    "_defaultOrder": 13,
    "_isFastLaunch": false,
    "category": "General purpose",
    "gpuNum": 0,
    "hideHardwareSpecs": false,
    "memoryGiB": 16,
    "name": "ml.m5d.xlarge",
    "vcpuNum": 4
   },
   {
    "_defaultOrder": 14,
    "_isFastLaunch": false,
    "category": "General purpose",
    "gpuNum": 0,
    "hideHardwareSpecs": false,
    "memoryGiB": 32,
    "name": "ml.m5d.2xlarge",
    "vcpuNum": 8
   },
   {
    "_defaultOrder": 15,
    "_isFastLaunch": false,
    "category": "General purpose",
    "gpuNum": 0,
    "hideHardwareSpecs": false,
    "memoryGiB": 64,
    "name": "ml.m5d.4xlarge",
    "vcpuNum": 16
   },
   {
    "_defaultOrder": 16,
    "_isFastLaunch": false,
    "category": "General purpose",
    "gpuNum": 0,
    "hideHardwareSpecs": false,
    "memoryGiB": 128,
    "name": "ml.m5d.8xlarge",
    "vcpuNum": 32
   },
   {
    "_defaultOrder": 17,
    "_isFastLaunch": false,
    "category": "General purpose",
    "gpuNum": 0,
    "hideHardwareSpecs": false,
    "memoryGiB": 192,
    "name": "ml.m5d.12xlarge",
    "vcpuNum": 48
   },
   {
    "_defaultOrder": 18,
    "_isFastLaunch": false,
    "category": "General purpose",
    "gpuNum": 0,
    "hideHardwareSpecs": false,
    "memoryGiB": 256,
    "name": "ml.m5d.16xlarge",
    "vcpuNum": 64
   },
   {
    "_defaultOrder": 19,
    "_isFastLaunch": false,
    "category": "General purpose",
    "gpuNum": 0,
    "hideHardwareSpecs": false,
    "memoryGiB": 384,
    "name": "ml.m5d.24xlarge",
    "vcpuNum": 96
   },
   {
    "_defaultOrder": 20,
    "_isFastLaunch": false,
    "category": "General purpose",
    "gpuNum": 0,
    "hideHardwareSpecs": true,
    "memoryGiB": 0,
    "name": "ml.geospatial.interactive",
    "supportedImageNames": [
     "sagemaker-geospatial-v1-0"
    ],
    "vcpuNum": 0
   },
   {
    "_defaultOrder": 21,
    "_isFastLaunch": true,
    "category": "Compute optimized",
    "gpuNum": 0,
    "hideHardwareSpecs": false,
    "memoryGiB": 4,
    "name": "ml.c5.large",
    "vcpuNum": 2
   },
   {
    "_defaultOrder": 22,
    "_isFastLaunch": false,
    "category": "Compute optimized",
    "gpuNum": 0,
    "hideHardwareSpecs": false,
    "memoryGiB": 8,
    "name": "ml.c5.xlarge",
    "vcpuNum": 4
   },
   {
    "_defaultOrder": 23,
    "_isFastLaunch": false,
    "category": "Compute optimized",
    "gpuNum": 0,
    "hideHardwareSpecs": false,
    "memoryGiB": 16,
    "name": "ml.c5.2xlarge",
    "vcpuNum": 8
   },
   {
    "_defaultOrder": 24,
    "_isFastLaunch": false,
    "category": "Compute optimized",
    "gpuNum": 0,
    "hideHardwareSpecs": false,
    "memoryGiB": 32,
    "name": "ml.c5.4xlarge",
    "vcpuNum": 16
   },
   {
    "_defaultOrder": 25,
    "_isFastLaunch": false,
    "category": "Compute optimized",
    "gpuNum": 0,
    "hideHardwareSpecs": false,
    "memoryGiB": 72,
    "name": "ml.c5.9xlarge",
    "vcpuNum": 36
   },
   {
    "_defaultOrder": 26,
    "_isFastLaunch": false,
    "category": "Compute optimized",
    "gpuNum": 0,
    "hideHardwareSpecs": false,
    "memoryGiB": 96,
    "name": "ml.c5.12xlarge",
    "vcpuNum": 48
   },
   {
    "_defaultOrder": 27,
    "_isFastLaunch": false,
    "category": "Compute optimized",
    "gpuNum": 0,
    "hideHardwareSpecs": false,
    "memoryGiB": 144,
    "name": "ml.c5.18xlarge",
    "vcpuNum": 72
   },
   {
    "_defaultOrder": 28,
    "_isFastLaunch": false,
    "category": "Compute optimized",
    "gpuNum": 0,
    "hideHardwareSpecs": false,
    "memoryGiB": 192,
    "name": "ml.c5.24xlarge",
    "vcpuNum": 96
   },
   {
    "_defaultOrder": 29,
    "_isFastLaunch": true,
    "category": "Accelerated computing",
    "gpuNum": 1,
    "hideHardwareSpecs": false,
    "memoryGiB": 16,
    "name": "ml.g4dn.xlarge",
    "vcpuNum": 4
   },
   {
    "_defaultOrder": 30,
    "_isFastLaunch": false,
    "category": "Accelerated computing",
    "gpuNum": 1,
    "hideHardwareSpecs": false,
    "memoryGiB": 32,
    "name": "ml.g4dn.2xlarge",
    "vcpuNum": 8
   },
   {
    "_defaultOrder": 31,
    "_isFastLaunch": false,
    "category": "Accelerated computing",
    "gpuNum": 1,
    "hideHardwareSpecs": false,
    "memoryGiB": 64,
    "name": "ml.g4dn.4xlarge",
    "vcpuNum": 16
   },
   {
    "_defaultOrder": 32,
    "_isFastLaunch": false,
    "category": "Accelerated computing",
    "gpuNum": 1,
    "hideHardwareSpecs": false,
    "memoryGiB": 128,
    "name": "ml.g4dn.8xlarge",
    "vcpuNum": 32
   },
   {
    "_defaultOrder": 33,
    "_isFastLaunch": false,
    "category": "Accelerated computing",
    "gpuNum": 4,
    "hideHardwareSpecs": false,
    "memoryGiB": 192,
    "name": "ml.g4dn.12xlarge",
    "vcpuNum": 48
   },
   {
    "_defaultOrder": 34,
    "_isFastLaunch": false,
    "category": "Accelerated computing",
    "gpuNum": 1,
    "hideHardwareSpecs": false,
    "memoryGiB": 256,
    "name": "ml.g4dn.16xlarge",
    "vcpuNum": 64
   },
   {
    "_defaultOrder": 35,
    "_isFastLaunch": false,
    "category": "Accelerated computing",
    "gpuNum": 1,
    "hideHardwareSpecs": false,
    "memoryGiB": 61,
    "name": "ml.p3.2xlarge",
    "vcpuNum": 8
   },
   {
    "_defaultOrder": 36,
    "_isFastLaunch": false,
    "category": "Accelerated computing",
    "gpuNum": 4,
    "hideHardwareSpecs": false,
    "memoryGiB": 244,
    "name": "ml.p3.8xlarge",
    "vcpuNum": 32
   },
   {
    "_defaultOrder": 37,
    "_isFastLaunch": false,
    "category": "Accelerated computing",
    "gpuNum": 8,
    "hideHardwareSpecs": false,
    "memoryGiB": 488,
    "name": "ml.p3.16xlarge",
    "vcpuNum": 64
   },
   {
    "_defaultOrder": 38,
    "_isFastLaunch": false,
    "category": "Accelerated computing",
    "gpuNum": 8,
    "hideHardwareSpecs": false,
    "memoryGiB": 768,
    "name": "ml.p3dn.24xlarge",
    "vcpuNum": 96
   },
   {
    "_defaultOrder": 39,
    "_isFastLaunch": false,
    "category": "Memory Optimized",
    "gpuNum": 0,
    "hideHardwareSpecs": false,
    "memoryGiB": 16,
    "name": "ml.r5.large",
    "vcpuNum": 2
   },
   {
    "_defaultOrder": 40,
    "_isFastLaunch": false,
    "category": "Memory Optimized",
    "gpuNum": 0,
    "hideHardwareSpecs": false,
    "memoryGiB": 32,
    "name": "ml.r5.xlarge",
    "vcpuNum": 4
   },
   {
    "_defaultOrder": 41,
    "_isFastLaunch": false,
    "category": "Memory Optimized",
    "gpuNum": 0,
    "hideHardwareSpecs": false,
    "memoryGiB": 64,
    "name": "ml.r5.2xlarge",
    "vcpuNum": 8
   },
   {
    "_defaultOrder": 42,
    "_isFastLaunch": false,
    "category": "Memory Optimized",
    "gpuNum": 0,
    "hideHardwareSpecs": false,
    "memoryGiB": 128,
    "name": "ml.r5.4xlarge",
    "vcpuNum": 16
   },
   {
    "_defaultOrder": 43,
    "_isFastLaunch": false,
    "category": "Memory Optimized",
    "gpuNum": 0,
    "hideHardwareSpecs": false,
    "memoryGiB": 256,
    "name": "ml.r5.8xlarge",
    "vcpuNum": 32
   },
   {
    "_defaultOrder": 44,
    "_isFastLaunch": false,
    "category": "Memory Optimized",
    "gpuNum": 0,
    "hideHardwareSpecs": false,
    "memoryGiB": 384,
    "name": "ml.r5.12xlarge",
    "vcpuNum": 48
   },
   {
    "_defaultOrder": 45,
    "_isFastLaunch": false,
    "category": "Memory Optimized",
    "gpuNum": 0,
    "hideHardwareSpecs": false,
    "memoryGiB": 512,
    "name": "ml.r5.16xlarge",
    "vcpuNum": 64
   },
   {
    "_defaultOrder": 46,
    "_isFastLaunch": false,
    "category": "Memory Optimized",
    "gpuNum": 0,
    "hideHardwareSpecs": false,
    "memoryGiB": 768,
    "name": "ml.r5.24xlarge",
    "vcpuNum": 96
   },
   {
    "_defaultOrder": 47,
    "_isFastLaunch": false,
    "category": "Accelerated computing",
    "gpuNum": 1,
    "hideHardwareSpecs": false,
    "memoryGiB": 16,
    "name": "ml.g5.xlarge",
    "vcpuNum": 4
   },
   {
    "_defaultOrder": 48,
    "_isFastLaunch": false,
    "category": "Accelerated computing",
    "gpuNum": 1,
    "hideHardwareSpecs": false,
    "memoryGiB": 32,
    "name": "ml.g5.2xlarge",
    "vcpuNum": 8
   },
   {
    "_defaultOrder": 49,
    "_isFastLaunch": false,
    "category": "Accelerated computing",
    "gpuNum": 1,
    "hideHardwareSpecs": false,
    "memoryGiB": 64,
    "name": "ml.g5.4xlarge",
    "vcpuNum": 16
   },
   {
    "_defaultOrder": 50,
    "_isFastLaunch": false,
    "category": "Accelerated computing",
    "gpuNum": 1,
    "hideHardwareSpecs": false,
    "memoryGiB": 128,
    "name": "ml.g5.8xlarge",
    "vcpuNum": 32
   },
   {
    "_defaultOrder": 51,
    "_isFastLaunch": false,
    "category": "Accelerated computing",
    "gpuNum": 1,
    "hideHardwareSpecs": false,
    "memoryGiB": 256,
    "name": "ml.g5.16xlarge",
    "vcpuNum": 64
   },
   {
    "_defaultOrder": 52,
    "_isFastLaunch": false,
    "category": "Accelerated computing",
    "gpuNum": 4,
    "hideHardwareSpecs": false,
    "memoryGiB": 192,
    "name": "ml.g5.12xlarge",
    "vcpuNum": 48
   },
   {
    "_defaultOrder": 53,
    "_isFastLaunch": false,
    "category": "Accelerated computing",
    "gpuNum": 4,
    "hideHardwareSpecs": false,
    "memoryGiB": 384,
    "name": "ml.g5.24xlarge",
    "vcpuNum": 96
   },
   {
    "_defaultOrder": 54,
    "_isFastLaunch": false,
    "category": "Accelerated computing",
    "gpuNum": 8,
    "hideHardwareSpecs": false,
    "memoryGiB": 768,
    "name": "ml.g5.48xlarge",
    "vcpuNum": 192
   },
   {
    "_defaultOrder": 55,
    "_isFastLaunch": false,
    "category": "Accelerated computing",
    "gpuNum": 8,
    "hideHardwareSpecs": false,
    "memoryGiB": 1152,
    "name": "ml.p4d.24xlarge",
    "vcpuNum": 96
   },
   {
    "_defaultOrder": 56,
    "_isFastLaunch": false,
    "category": "Accelerated computing",
    "gpuNum": 8,
    "hideHardwareSpecs": false,
    "memoryGiB": 1152,
    "name": "ml.p4de.24xlarge",
    "vcpuNum": 96
   },
   {
    "_defaultOrder": 57,
    "_isFastLaunch": false,
    "category": "Accelerated computing",
    "gpuNum": 0,
    "hideHardwareSpecs": false,
    "memoryGiB": 32,
    "name": "ml.trn1.2xlarge",
    "vcpuNum": 8
   },
   {
    "_defaultOrder": 58,
    "_isFastLaunch": false,
    "category": "Accelerated computing",
    "gpuNum": 0,
    "hideHardwareSpecs": false,
    "memoryGiB": 512,
    "name": "ml.trn1.32xlarge",
    "vcpuNum": 128
   },
   {
    "_defaultOrder": 59,
    "_isFastLaunch": false,
    "category": "Accelerated computing",
    "gpuNum": 0,
    "hideHardwareSpecs": false,
    "memoryGiB": 512,
    "name": "ml.trn1n.32xlarge",
    "vcpuNum": 128
   }
  ],
  "instance_type": "ml.t3.medium",
  "kernelspec": {
   "display_name": "Python 3 (ipykernel)",
   "language": "python",
   "name": "python3"
  },
  "language_info": {
   "codemirror_mode": {
    "name": "ipython",
    "version": 3
   },
   "file_extension": ".py",
   "mimetype": "text/x-python",
   "name": "python",
   "nbconvert_exporter": "python",
   "pygments_lexer": "ipython3",
   "version": "3.12.2"
  }
 },
 "nbformat": 4,
 "nbformat_minor": 5
}
